{
 "cells": [
  {
   "metadata": {},
   "cell_type": "markdown",
   "source": "# Imports",
   "id": "daf2f0e9d3d72ecf"
  },
  {
   "cell_type": "code",
   "id": "initial_id",
   "metadata": {
    "collapsed": true,
    "ExecuteTime": {
     "end_time": "2024-06-22T10:42:19.792182Z",
     "start_time": "2024-06-22T10:42:19.775768Z"
    }
   },
   "source": [
    "import sys\n",
    "import os"
   ],
   "outputs": [],
   "execution_count": 1
  },
  {
   "metadata": {},
   "cell_type": "markdown",
   "source": [
    "# Evaluierung\n",
    "\n",
    "### Ansatz 1: Script/Codeline Comparison\n",
    "\n",
    "- notwendigen Zeilen vom Validierungs Skript\n",
    "- alle notwendigen Zeilen im Generierten Skript\n",
    "- Anzahl an Codezeilen im generierten Skript   "
   ],
   "id": "ae781be3af675aaf"
  },
  {
   "metadata": {
    "ExecuteTime": {
     "end_time": "2024-06-22T11:12:55.644411Z",
     "start_time": "2024-06-22T11:12:55.640547Z"
    }
   },
   "cell_type": "code",
   "source": [
    "# Import Playwright script\n",
    "abs_file_path_vs = \"D:/Uni/Programming/Python/PSDA/Ex3/data/test_script/2_1.spec.ts\"\n",
    "with open(abs_file_path_vs, 'r') as file:\n",
    "    file_content = file.read()\n",
    "\n",
    "print(file_content)"
   ],
   "id": "a8c5777f69fde44c",
   "outputs": [
    {
     "name": "stdout",
     "output_type": "stream",
     "text": [
      "import { test, expect } from '@playwright/test';\n",
      "import { writeFileSync } from 'fs';\n",
      "test('test', async ({ page }) => {\n",
      "  await page.goto('http://localhost:8080/cadenza/');\n",
      "  await page.getByRole('link', { name: 'Anmelden' }).click();\n",
      "  await page.getByLabel('Benutzername *').click();\n",
      "  await page.getByLabel('Benutzername *').fill('Admin');\n",
      "  await page.getByLabel('Benutzername *').press('Tab');\n",
      "  await page.getByPlaceholder(' ').fill('Admin');\n",
      "  await page.getByRole('button', { name: 'Anmelden' }).click();\n",
      "  await page.getByTestId('create-workbook-button').click();\n",
      "\n",
      "});\n"
     ]
    }
   ],
   "execution_count": 38
  },
  {
   "metadata": {
    "ExecuteTime": {
     "end_time": "2024-06-22T11:13:03.129254Z",
     "start_time": "2024-06-22T11:13:03.124954Z"
    }
   },
   "cell_type": "code",
   "source": [
    "# Split by lines \n",
    "contentByLines = file_content.splitlines() \n",
    "list_rmv_lines = []\n",
    "\n",
    "for i in range(0, len(contentByLines)):\n",
    "    print(\"Line \" + str(i) + \": \" + contentByLines[i])\n",
    "    if contentByLines[i].find(\"await\") == -1:\n",
    "        print(\"No await!\")\n",
    "        list_rmv_lines.append(contentByLines[i])\n",
    "        "
   ],
   "id": "ba45c4faaf197230",
   "outputs": [
    {
     "name": "stdout",
     "output_type": "stream",
     "text": [
      "Line 0: import { test, expect } from '@playwright/test';\n",
      "No await!\n",
      "Line 1: import { writeFileSync } from 'fs';\n",
      "No await!\n",
      "Line 2: test('test', async ({ page }) => {\n",
      "No await!\n",
      "Line 3:   await page.goto('http://localhost:8080/cadenza/');\n",
      "Line 4:   await page.getByRole('link', { name: 'Anmelden' }).click();\n",
      "Line 5:   await page.getByLabel('Benutzername *').click();\n",
      "Line 6:   await page.getByLabel('Benutzername *').fill('Admin');\n",
      "Line 7:   await page.getByLabel('Benutzername *').press('Tab');\n",
      "Line 8:   await page.getByPlaceholder(' ').fill('Admin');\n",
      "Line 9:   await page.getByRole('button', { name: 'Anmelden' }).click();\n",
      "Line 10:   await page.getByTestId('create-workbook-button').click();\n",
      "Line 11: \n",
      "No await!\n",
      "Line 12: });\n",
      "No await!\n"
     ]
    }
   ],
   "execution_count": 39
  },
  {
   "metadata": {
    "ExecuteTime": {
     "end_time": "2024-06-22T11:13:06.240405Z",
     "start_time": "2024-06-22T11:13:06.237036Z"
    }
   },
   "cell_type": "code",
   "source": [
    "for e in list_rmv_lines:\n",
    "    contentByLines.remove(e)"
   ],
   "id": "6818f1dafac3a92",
   "outputs": [],
   "execution_count": 40
  },
  {
   "metadata": {
    "ExecuteTime": {
     "end_time": "2024-06-22T11:13:36.297006Z",
     "start_time": "2024-06-22T11:13:36.293043Z"
    }
   },
   "cell_type": "code",
   "source": [
    "for i in range(0, len(contentByLines)):\n",
    "    print(\"Line \" + str(i) + \": \" + contentByLines[i])"
   ],
   "id": "88cbe71948aa1ece",
   "outputs": [
    {
     "name": "stdout",
     "output_type": "stream",
     "text": [
      "Line 0:   await page.goto('http://localhost:8080/cadenza/');\n",
      "Line 1:   await page.getByRole('link', { name: 'Anmelden' }).click();\n",
      "Line 2:   await page.getByLabel('Benutzername *').click();\n",
      "Line 3:   await page.getByLabel('Benutzername *').fill('Admin');\n",
      "Line 4:   await page.getByLabel('Benutzername *').press('Tab');\n",
      "Line 5:   await page.getByPlaceholder(' ').fill('Admin');\n",
      "Line 6:   await page.getByRole('button', { name: 'Anmelden' }).click();\n",
      "Line 7:   await page.getByTestId('create-workbook-button').click();\n"
     ]
    }
   ],
   "execution_count": 42
  },
  {
   "metadata": {
    "ExecuteTime": {
     "end_time": "2024-06-22T11:21:38.480985Z",
     "start_time": "2024-06-22T11:21:38.477235Z"
    }
   },
   "cell_type": "code",
   "source": [
    "length_vs = len(contentByLines)\n",
    "for i in range(0, len(contentByLines)):\n",
    "    #String Cleaning/Bearbeitung für TypeScript & PythonScripts\n",
    "    contentByLines[i] = contentByLines[i].lower()\n",
    "    contentByLines[i] =contentByLines[i].replace(\"_\", \"\")\n",
    "    print(\"Line \" + str(i) + \": \" + contentByLines[i])"
   ],
   "id": "ad4d52eef67cff37",
   "outputs": [
    {
     "name": "stdout",
     "output_type": "stream",
     "text": [
      "Line 0:   await page.goto('http://localhost:8080/cadenza/');\n",
      "Line 1:   await page.getbyrole('link', { name: 'anmelden' }).click();\n",
      "Line 2:   await page.getbylabel('benutzername *').click();\n",
      "Line 3:   await page.getbylabel('benutzername *').fill('admin');\n",
      "Line 4:   await page.getbylabel('benutzername *').press('tab');\n",
      "Line 5:   await page.getbyplaceholder(' ').fill('admin');\n",
      "Line 6:   await page.getbyrole('button', { name: 'anmelden' }).click();\n",
      "Line 7:   await page.getbytestid('create-workbook-button').click();\n"
     ]
    }
   ],
   "execution_count": 46
  }
 ],
 "metadata": {
  "kernelspec": {
   "display_name": "Python 3",
   "language": "python",
   "name": "python3"
  },
  "language_info": {
   "codemirror_mode": {
    "name": "ipython",
    "version": 2
   },
   "file_extension": ".py",
   "mimetype": "text/x-python",
   "name": "python",
   "nbconvert_exporter": "python",
   "pygments_lexer": "ipython2",
   "version": "2.7.6"
  }
 },
 "nbformat": 4,
 "nbformat_minor": 5
}
