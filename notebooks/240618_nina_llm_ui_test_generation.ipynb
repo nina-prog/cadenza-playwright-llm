{
 "cells": [
  {
   "cell_type": "code",
   "execution_count": 1,
   "outputs": [],
   "source": [
    "%load_ext autoreload\n",
    "%autoreload 2"
   ],
   "metadata": {
    "collapsed": false
   }
  },
  {
   "cell_type": "code",
   "execution_count": 2,
   "outputs": [],
   "source": [
    "import sqlite3\n",
    "from bs4 import BeautifulSoup\n",
    "\n",
    "from src.main import main\n",
    "from src.utils.logger import setup_logger\n",
    "from src.llm.access_2_cluster import Access2Cluster\n",
    "from src.data.html_processor import extract_html_info, parse_html\n",
    "\n",
    "logger = setup_logger(__name__, level='DEBUG') # Change to 'INFO' for less verbosity"
   ],
   "metadata": {
    "collapsed": false
   }
  },
  {
   "cell_type": "markdown",
   "source": [
    "# Load Data"
   ],
   "metadata": {
    "collapsed": false
   }
  },
  {
   "cell_type": "code",
   "execution_count": 3,
   "outputs": [
    {
     "name": "stdout",
     "output_type": "stream",
     "text": [
      "There are 100 data.\n"
     ]
    }
   ],
   "source": [
    "# Connect to the database\n",
    "conn = sqlite3.connect('../data/raw/playwright_script.db')\n",
    "cursor = conn.cursor()\n",
    "\n",
    "res = cursor.execute(\"SELECT * FROM tests\")\n",
    "items = res.fetchall()\n",
    "\n",
    "print(\"There are {} data.\".format(len(items)))"
   ],
   "metadata": {
    "collapsed": false
   }
  },
  {
   "cell_type": "code",
   "execution_count": 4,
   "outputs": [
    {
     "data": {
      "text/plain": "('1.1',\n '[1.1] Öffne die Arbeitsmappe \"Übersicht Messstellen\" im Ordner \"Gewässergüte\".',\n '[1.1] Expected result: Die Arbeitsmappe wird geöffnet, der Analysekontext ist nicht sichtbar.',\n '.\\\\html\\\\1_1.html',\n '.\\\\screenshot\\\\1_1.png',\n '.\\\\test_script\\\\1_1.spec.ts')"
     },
     "execution_count": 4,
     "metadata": {},
     "output_type": "execute_result"
    }
   ],
   "source": [
    "# Check the first item\n",
    "items[0]"
   ],
   "metadata": {
    "collapsed": false
   }
  },
  {
   "cell_type": "markdown",
   "source": [
    "# Approach\n",
    "\n",
    "Use a Pre-trained LLM:\n",
    "* GPT-3, GPT-3.5, or a lighter version like GPT-2 (well-suited for text generation tasks)\n",
    "* Fine-tuning or adapting for specific tasks later possible\n",
    "\n",
    "Steps:\n",
    "1. ✅ HTML Processing: Extract relevant information from the HTML file.\n",
    "    * Use **BeautifulSoup** or lxml in Python to parse and extract information from the HTML file. ➡️ see src.data.html_processor.py\n",
    "2. ✅ Image Processing: Extract relevant information from the image:\n",
    "    * Use image-to-text models like **Tesseracts** or pytesseract (OCR libraries) to extract text from the image. ➡️ see src.data.image_processor.py\n",
    "    * Use OpenCV or PIL (Pillow) in Python to process the image and extract relevant information.\n",
    "3. Summarize the image and HTML information and the prompt from the playwright test code using T5 model. (optional)\n",
    "4. ✅ Python Processing: Parse the given playwright test code for previous step as a precondition. ➡️ see src.data.python_processor.py\n",
    "5. ✅ Combine the extracted information from the HTML and the image with the prompt for the language model. ➡️ see src.data.input_combiner.py\n",
    "6. ✅ Pass the combined input to the language model for generating the UI test code. ➡️ see src.ui_tests.test_generation.py\n",
    "\n",
    "➡️ Run locally via notebook or script using the src.main.py"
   ],
   "metadata": {
    "collapsed": false
   }
  },
  {
   "cell_type": "markdown",
   "source": [
    "# HTML Processing"
   ],
   "metadata": {
    "collapsed": false
   }
  },
  {
   "cell_type": "code",
   "execution_count": 5,
   "outputs": [],
   "source": [
    "# load example file\n",
    "html_path = './html/0_1.html'"
   ],
   "metadata": {
    "collapsed": false
   }
  },
  {
   "cell_type": "markdown",
   "source": [
    "Option 1: Parse all HTML content by extracting the text from it using BeautifulSoup:"
   ],
   "metadata": {
    "collapsed": false
   }
  },
  {
   "cell_type": "code",
   "execution_count": 7,
   "outputs": [
    {
     "name": "stdout",
     "output_type": "stream",
     "text": [
      "2024-07-08 11:38:08 [\u001B[34m__main__:21\u001B[0m] [DEBUG\u001B[0m] >>>> HTML content parsed successfully. - Lines of Code: 3\u001B[0m\n",
      "Startseite - disy CadenzaAchtung!Ihr Browser unterstÃ¼tzt kein JavaScript oder JavaScript wurde in Ihrem Browser deaktiviert.Bitte verwenden Sie einen Browser, der JavaScript unterstÃ¼tzt, oder aktivieren Sie JavaScript in Ihrem Browser. Ohne aktiviertes JavaScript ist die Anwendung nicht nutzbar.OfflineVerbinden â€¦Zum Navigatorbaum springenZum Hauptbereich springenStartseiteKartedisy Cadenza[{\"printName\":\"Lernmodule â€“ Tutorials und mehr\",\"url\":\"/help-learning/index.html\",\"targetFrame\":\"_blank\",\"id\":\"help\",\"type\":\"help\",\"webApplication\":false},{\"printName\":\"Hilfe\",\"url\":\"/help/\",\"targetFrame\":\"_blank\",\"id\":\"help\",\"type\":\"help\",\"webApplication\":false},{\"printName\":\"Hilfe zu Classic\",\"url\":\"/help-classic/\",\"targetFrame\":\"_blank\",\"id\":\"help-classic\",\"type\":\"help-classic\",\"webApplication\":false}]Admin[{\"printName\":\"Profil\",\"url\":\"/pages/access/userprofile.xhtml\",\"targetFrame\":\"_self\",\"id\":\"userprofile\",\"type\":\"userprofile\",\"webApplication\":false},{\"printName\":\"Abmelden\",\"url\":\"/logout\",\"targetFrame\":\"_self\",\"id\":\"logout\",\"type\":\"logout\",\"webApplication\":false}]Willkommen bei disy CadenzaEinen Einstieg finden Sie in der LayerauswahlLayerauswahlSchlagwortDiagrammKarteTabelleArbeitsmappeTutorialVerzeichnisTutorialVerzeichnisGewÃ¤ssergÃ¼teVerzeichnisAutomobileVerzeichnisErgÃ¤nzende GeodatenVerzeichnisZentrale DiensteVerzeichnisMeine ArbeitsmappenArbeitsmappeZugangsdaten[]Dashboarding. Reporting. Location Analytics.Ob besserer Ãœberblick, das Entdecken von ZusammenhÃ¤ngen oder das Teilen neu gewonnener Erkenntnisse â€“ mitdisy Cadenzaanalysieren, visualisieren und prÃ¤sentieren Sie Ihre Daten ganz leicht. Erleben Sie die vielfÃ¤ltigen MÃ¶glichkeiten intelligenter Datenanalyse:\n",
      "      Business & Location Intelligence bringt Ihre Daten zum Sprechen und Sie kÃ¶nnen damit viel bewegen.Steigen Sie mÃ¼helos ein mit den â€œErsten Schrittenâ€œ, unserenTutorials, denLernmodulenund derOnlinehilfe.\n",
      "      Aktuelle Informationen rund um disy Cadenza erhalten Sie auch auf unsererWebseit...\n"
     ]
    }
   ],
   "source": [
    "html_text = parse_html(html_path, max_length=2000)\n",
    "print(html_text)"
   ],
   "metadata": {
    "collapsed": false
   }
  },
  {
   "cell_type": "markdown",
   "source": [
    "Option 2: Extract only Elements (input fields, buttons, links) from the HTML file using BeautifulSoup."
   ],
   "metadata": {
    "collapsed": false
   }
  },
  {
   "cell_type": "code",
   "execution_count": 45,
   "outputs": [
    {
     "name": "stdout",
     "output_type": "stream",
     "text": [
      "2024-07-08 13:16:16 [\u001B[34msrc.data.html_processor:54\u001B[0m] [DEBUG\u001B[0m] >>>> Found 13 button elements.\u001B[0m\n",
      "2024-07-08 13:16:16 [\u001B[34msrc.data.html_processor:75\u001B[0m] [DEBUG\u001B[0m] >>>> Extracted 5 button elements.\u001B[0m\n",
      "2024-07-08 13:16:16 [\u001B[34msrc.data.html_processor:54\u001B[0m] [DEBUG\u001B[0m] >>>> Found 1 input elements.\u001B[0m\n",
      "2024-07-08 13:16:16 [\u001B[34msrc.data.html_processor:75\u001B[0m] [DEBUG\u001B[0m] >>>> Extracted 1 input elements.\u001B[0m\n",
      "2024-07-08 13:16:16 [\u001B[34msrc.data.html_processor:54\u001B[0m] [DEBUG\u001B[0m] >>>> Found 33 a elements.\u001B[0m\n",
      "2024-07-08 13:16:16 [\u001B[34msrc.data.html_processor:75\u001B[0m] [DEBUG\u001B[0m] >>>> Extracted 28 a elements.\u001B[0m\n",
      "Buttons: \n",
      "Button ids: navigationTrigger, workbook-create, RDxYr2vFytOijWjelj7P1\n",
      "Button classes: button button-icon button-borderless, button workbook-create button-icon, button navigation-menu button-icon, button, button\n",
      "Button texts: Arbeitsmappe importieren, Repository neu einlesen …\n",
      "Inputs: \n",
      "Input classes: select2-search__field\n",
      "Input aria-labels: Suchen nach …\n",
      "Input types: search\n",
      "Input placeholders: Suchen nach …\n",
      "Links: \n",
      "Link texts: Zum Navigatorbaum springen, Zum Hauptbereich springen, Startseite, Karte, Verzeichnis Tutorial, Verzeichnis Gewässergüte, Verzeichnis Automobile, Verzeichnis Ergänzende Geodaten, Verzeichnis Zentrale Dienste, Verzeichnis Meine Arbeitsmappen, Arbeitsmappe Zugangsdaten, Zugangsdaten, disy Cadenza, Tutorials, Lernmodulen, Onlinehilfe, Webseite, Lernmodulen, 1, 2, 3, 4, 5, 6, 7, disy Cadenza v9.4.71, © Disy Informationssysteme GmbH, Über Disy\n",
      "Link ids: skip-to-navigator, skip-to-content, home\n",
      "Link classes: button button-primary, button button-primary, button button-icon button-borderless, d-nav-tree-node--main d-hover-context, d-nav-tree-node--main d-hover-context, d-nav-tree-node--main d-hover-context, d-nav-tree-node--main d-hover-context, d-nav-tree-node--main d-hover-context, d-nav-tree-node--main d-hover-context, d-nav-tree-node--main d-hover-context, d-nav-tree-node--text ellipsis, startpage-section-navigation-item, startpage-section-navigation-item, startpage-section-navigation-item, startpage-section-navigation-item, startpage-section-navigation-item, startpage-section-navigation-item, startpage-section-navigation-item, userSpecificLink ellipsis hidden-xs, userSpecificLink ellipsis hidden-xs, userSpecificLink ellipsis\n",
      "\n"
     ]
    }
   ],
   "source": [
    "html_elements = extract_html_info(file_path=html_path, max_attr_length=40, concat_mod='all')\n",
    "print(html_elements)"
   ],
   "metadata": {
    "collapsed": false,
    "ExecuteTime": {
     "end_time": "2024-07-08T11:16:16.111949700Z",
     "start_time": "2024-07-08T11:16:15.928056Z"
    }
   }
  },
  {
   "cell_type": "code",
   "execution_count": 46,
   "outputs": [
    {
     "name": "stdout",
     "output_type": "stream",
     "text": [
      "navigationTrigger ['button', 'button-icon', 'button-borderless'] None \n",
      "\n",
      "\n",
      " \n",
      "None ['d-help-menu', 'button', 'button-icon', 'button-borderless', 'd-topnav-dropdown'] None \n",
      "\n",
      "\n",
      " [{\"printName\":\"Lernmodule – Tutorials und mehr\",\"url\":\"/help-learning/index.html\",\"targetFrame\":\"_blank\",\"id\":\"help\",\"type\":\"help\",\"webApplication\":false},{\"printName\":\"Hilfe\",\"url\":\"/help/\",\"targetFrame\":\"_blank\",\"id\":\"help\",\"type\":\"help\",\"webApplication\":false},{\"printName\":\"Hilfe zu Classic\",\"url\":\"/help-classic/\",\"targetFrame\":\"_blank\",\"id\":\"help-classic\",\"type\":\"help-classic\",\"webApplication\":false}]\n",
      "\n",
      "\n",
      "None ['button', 'button-borderless', 'd-topnav-dropdown'] None \n",
      "\n",
      "\n",
      " Admin\n",
      "[{\"printName\":\"Profil\",\"url\":\"/pages/access/userprofile.xhtml\",\"targetFrame\":\"_self\",\"id\":\"userprofile\",\"type\":\"userprofile\",\"webApplication\":false},{\"printName\":\"Abmelden\",\"url\":\"/logout\",\"targetFrame\":\"_self\",\"id\":\"logout\",\"type\":\"logout\",\"webApplication\":false}]\n",
      "\n",
      "None ['button', 'button-icon', 'button-borderless', 'd-sidebar-close'] None \n",
      "\n",
      "\n",
      "None ['button', 'button-borderless', 'button-icon', 'd-select--element-left'] None \n",
      "\n",
      "\n",
      "workbook-create ['button', 'workbook-create', 'button-icon'] None \n",
      "\n",
      "\n",
      "RDxYr2vFytOijWjelj7P1 ['button', 'navigation-menu', 'button-icon'] None \n",
      "\n",
      "\n",
      "None ['button', 'button-borderless', 'button-s', 'd-nav-tree-node--help-button', 'button-icon'] None \n",
      "\n",
      "\n",
      "None ['button', 'button-borderless', 'button-s', 'd-nav-tree-node--help-button', 'button-icon'] None \n",
      "\n",
      "\n",
      "None ['button', 'button-borderless', 'button-s', 'd-nav-tree-node--help-button', 'button-icon'] None \n",
      "\n",
      "\n",
      "None ['button', 'button-borderless', 'button-s', 'is-hover-visible', 'button-icon'] None \n",
      "\n",
      "\n",
      "None ['button'] None Arbeitsmappe importieren\n",
      "None ['button'] None Repository neu einlesen …\n"
     ]
    }
   ],
   "source": [
    "# Check all buttons\n",
    "with open(html_path, 'r', encoding='utf-8') as file:\n",
    "    html_content = file.read()\n",
    "\n",
    "soup = BeautifulSoup(html_content, 'html.parser')\n",
    "buttons = soup.find_all('button')\n",
    "# print arguments id, class, name, text of every button\n",
    "for button in buttons:\n",
    "    print(button.get('id'), button.get('class'), button.get('name'), button.text)"
   ],
   "metadata": {
    "collapsed": false,
    "ExecuteTime": {
     "end_time": "2024-07-08T11:16:23.485074300Z",
     "start_time": "2024-07-08T11:16:23.334878500Z"
    }
   }
  },
  {
   "cell_type": "code",
   "execution_count": 47,
   "outputs": [
    {
     "name": "stdout",
     "output_type": "stream",
     "text": [
      "None ['select2-search__field'] None Suchen nach … search Suchen nach …\n"
     ]
    }
   ],
   "source": [
    "# Check all input fields\n",
    "inputs = soup.find_all('input')\n",
    "# print arguments ['id', 'class', 'name', 'aria-label', 'type', 'placeholder']\n",
    "for input in inputs:\n",
    "    print(input.get('id'), input.get('class'), input.get('name'), input.get('aria-label'), input.get('type'), input.get('placeholder'))"
   ],
   "metadata": {
    "collapsed": false,
    "ExecuteTime": {
     "end_time": "2024-07-08T11:16:24.596757600Z",
     "start_time": "2024-07-08T11:16:24.493934700Z"
    }
   }
  },
  {
   "cell_type": "code",
   "execution_count": 48,
   "outputs": [
    {
     "name": "stdout",
     "output_type": "stream",
     "text": [
      "Zum Navigatorbaum springen skip-to-navigator ['button', 'button-primary']\n",
      "Zum Hauptbereich springen skip-to-content ['button', 'button-primary']\n",
      "\n",
      "\n",
      "\n",
      " Startseite\n",
      " home ['button', 'button-icon', 'button-borderless']\n",
      "\n",
      "\n",
      "\n",
      " Karte\n",
      " None ['button', 'button-icon', 'button-borderless', 'd-topnav--map-button']\n",
      "\n",
      "\n",
      "\n",
      "  None ['button', 'button-icon', 'button-borderless']\n",
      " None ['helpMenuBottomContentImageTop']\n",
      " None None\n",
      " None None\n",
      "Verzeichnis\n",
      "\n",
      "Tutorial\n",
      "\n",
      " d-nav-tree-node_ROOT-Tutorial_firstContent ['d-nav-tree-node--main', 'd-hover-context']\n",
      "Verzeichnis\n",
      "\n",
      "\n",
      "\n",
      "Gewässergüte\n",
      "\n",
      " d-nav-tree-node_ROOT-Gewässergüte_firstContent ['d-nav-tree-node--main', 'd-hover-context']\n",
      "Verzeichnis\n",
      "\n",
      "\n",
      "\n",
      "Automobile\n",
      "\n",
      " d-nav-tree-node_ROOT-Automobile_firstContent ['d-nav-tree-node--main', 'd-hover-context']\n",
      "Verzeichnis\n",
      "\n",
      "\n",
      "\n",
      "Ergänzende Geodaten\n",
      "\n",
      " d-nav-tree-node_ROOT-Ergänzende-Geodaten_firstContent ['d-nav-tree-node--main', 'd-hover-context']\n",
      "Verzeichnis\n",
      "\n",
      "Zentrale Dienste\n",
      "\n",
      " d-nav-tree-node_ROOT-Zentrale-Dienste_firstContent ['d-nav-tree-node--main', 'd-hover-context']\n",
      "Verzeichnis\n",
      "\n",
      "Meine Arbeitsmappen\n",
      "\n",
      " d-nav-tree-node_ROOT-Meine-Arbeitsmappen_firstContent ['d-nav-tree-node--main', 'd-hover-context']\n",
      "Arbeitsmappe\n",
      "\n",
      "Zugangsdaten\n",
      "\n",
      "\n",
      "\n",
      " d-nav-tree-node_ROOT-wYRrGPE6Y6LtRpCm9ofb-HLiA_wB-1Y3slGMCaAfo_firstContent ['d-nav-tree-node--main', 'd-hover-context']\n",
      "Zugangsdaten None ['d-nav-tree-node--text', 'ellipsis']\n",
      "disy Cadenza None None\n",
      "Tutorials None None\n",
      "Lernmodulen None None\n",
      "Onlinehilfe None None\n",
      "Webseite None None\n",
      "Lernmodulen None None\n",
      " None ['startpage-section-navigation-item', 'active']\n",
      "1 None ['startpage-section-navigation-item']\n",
      "2 None ['startpage-section-navigation-item']\n",
      "3 None ['startpage-section-navigation-item']\n",
      "4 None ['startpage-section-navigation-item']\n",
      "5 None ['startpage-section-navigation-item']\n",
      "6 None ['startpage-section-navigation-item']\n",
      "7 None ['startpage-section-navigation-item']\n",
      "\n",
      "      disy Cadenza v9.4.71     None ['userSpecificLink', 'ellipsis', 'hidden-xs']\n",
      "\n",
      "      © Disy Informationssysteme GmbH\n",
      "     None ['userSpecificLink', 'ellipsis', 'hidden-xs']\n",
      "\n",
      "      Über Disy\n",
      "     None ['userSpecificLink', 'ellipsis']\n"
     ]
    }
   ],
   "source": [
    "# Check all links\n",
    "links = soup.find_all('a')\n",
    "# print arguments ['text', 'id', 'class']\n",
    "for link in links:\n",
    "    print(link.text, link.get('id'), link.get('class'))"
   ],
   "metadata": {
    "collapsed": false,
    "ExecuteTime": {
     "end_time": "2024-07-08T11:16:26.051094700Z",
     "start_time": "2024-07-08T11:16:25.923475400Z"
    }
   }
  },
  {
   "cell_type": "markdown",
   "source": [
    "# (Local) Pipeline: LLM UI Test Generation\n",
    "Using smaller GPT-2 model"
   ],
   "metadata": {
    "collapsed": false
   }
  },
  {
   "cell_type": "markdown",
   "source": [
    "1. First, extract the relevant information from the database for a specific test to be predicted:"
   ],
   "metadata": {
    "collapsed": false
   }
  },
  {
   "cell_type": "code",
   "execution_count": 158,
   "outputs": [],
   "source": [
    "def get_previous_id(id):\n",
    "    test, step = map(int, id.split('.'))\n",
    "    if step > 1:\n",
    "        previous_id = f\"{test}.{step - 1}\"\n",
    "    else:\n",
    "        print(f\"Test {test} has no more previous step. No context available.\")\n",
    "\n",
    "    return previous_id"
   ],
   "metadata": {
    "collapsed": false,
    "ExecuteTime": {
     "end_time": "2024-06-22T21:46:50.189174500Z",
     "start_time": "2024-06-22T21:46:50.085657700Z"
    }
   }
  },
  {
   "cell_type": "code",
   "execution_count": 159,
   "outputs": [],
   "source": [
    "def fetch_relevant_items(db_file, current_id):\n",
    "    # Connect to SQLite database\n",
    "    conn = sqlite3.connect(db_file)\n",
    "    cursor = conn.cursor()\n",
    "\n",
    "    # Get the previous ID\n",
    "    previous_id = get_previous_id(current_id)\n",
    "\n",
    "    # Prepare the SQL query to retrieve the desired rows\n",
    "    query = 'SELECT * FROM tests WHERE id IN (?, ?)'\n",
    "    cursor.execute(query, (current_id, previous_id))\n",
    "\n",
    "    # Fetch all matching rows\n",
    "    items = cursor.fetchall()\n",
    "\n",
    "    # Close the connection\n",
    "    conn.close()\n",
    "\n",
    "    return items"
   ],
   "metadata": {
    "collapsed": false,
    "ExecuteTime": {
     "end_time": "2024-06-22T21:46:50.313098400Z",
     "start_time": "2024-06-22T21:46:50.189174500Z"
    }
   }
  },
  {
   "cell_type": "code",
   "execution_count": 160,
   "outputs": [],
   "source": [
    "def map_items_to_args(items):\n",
    "    # The file paths from the test x-1 are used as context\n",
    "    html_path = items[0][3]\n",
    "    image_path = items[0][4]\n",
    "    precondition_path = items[0][5]\n",
    "    # The last step of the text x is used as prompt\n",
    "    steps = items[1][1].split(']')\n",
    "    description = steps[-1].strip()\n",
    "\n",
    "    return {\"html_path\": html_path,\n",
    "            \"image_path\": image_path,\n",
    "            \"precondition_path\": precondition_path,\n",
    "            \"description\": description}"
   ],
   "metadata": {
    "collapsed": false,
    "ExecuteTime": {
     "end_time": "2024-06-22T21:46:50.400466300Z",
     "start_time": "2024-06-22T21:46:50.315219200Z"
    }
   }
  },
  {
   "cell_type": "code",
   "execution_count": 161,
   "outputs": [],
   "source": [
    "# Select test ID and database file\n",
    "db_file = '../data/raw/playwright_script.db'\n",
    "current_id = '1.4'"
   ],
   "metadata": {
    "collapsed": false,
    "ExecuteTime": {
     "end_time": "2024-06-22T21:46:50.498339300Z",
     "start_time": "2024-06-22T21:46:50.400466300Z"
    }
   }
  },
  {
   "cell_type": "code",
   "execution_count": 162,
   "outputs": [],
   "source": [
    "# Get relevant data from the database\n",
    "items = fetch_relevant_items(db_file, current_id)\n",
    "args = map_items_to_args(items)"
   ],
   "metadata": {
    "collapsed": false,
    "ExecuteTime": {
     "end_time": "2024-06-22T21:46:50.598246700Z",
     "start_time": "2024-06-22T21:46:50.503548600Z"
    }
   }
  },
  {
   "cell_type": "code",
   "execution_count": 163,
   "outputs": [
    {
     "data": {
      "text/plain": "[('1.3',\n  '[1.1] Öffne die Arbeitsmappe \"Übersicht Messstellen\" im Ordner \"Gewässergüte\". [1.2]  Öffnen der Tabellen-Sicht \"Messstellenliste\" über die Werkzeugliste der Arbeitsmappe. [1.3] Klicke auf den 3-Punkte-Button innerhalb der Tabellen-Sicht \"Messstelleninformationen\"',\n  '[1.3] Expected result: Kontextmenü erscheint mit den Optionen: - Duplizieren - In Arbeitsblatt duplizieren - Exportieren - Designer öffnen - Löschen.',\n  '.\\\\html\\\\1_3.html',\n  '.\\\\screenshot\\\\1_3.png',\n  '.\\\\test_script\\\\1_3.spec.ts'),\n ('1.4',\n  '[1.1] Öffne die Arbeitsmappe \"Übersicht Messstellen\" im Ordner \"Gewässergüte\". [1.2]  Öffnen der Tabellen-Sicht \"Messstellenliste\" über die Werkzeugliste der Arbeitsmappe. [1.3] Klicke auf den 3-Punkte-Button innerhalb der Tabellen-Sicht \"Messstelleninformationen\". [1.4] Klicke auf \"Duplizieren\".',\n  '[1.4] Expected result: Das Kontextmenü schließt sich. Die Sicht ist dupliziert. Die duplizierte Sicht erscheint neben der Original-Sicht. Beide Sichten teilen sich in gleichen Maßen den Platz der Original-Sicht.',\n  '.\\\\html\\\\1_4.html',\n  '.\\\\screenshot\\\\1_4.png',\n  '.\\\\test_script\\\\1_4.spec.ts')]"
     },
     "execution_count": 163,
     "metadata": {},
     "output_type": "execute_result"
    }
   ],
   "source": [
    "items"
   ],
   "metadata": {
    "collapsed": false,
    "ExecuteTime": {
     "end_time": "2024-06-22T21:46:50.718761400Z",
     "start_time": "2024-06-22T21:46:50.598246700Z"
    }
   }
  },
  {
   "cell_type": "code",
   "execution_count": 164,
   "outputs": [
    {
     "data": {
      "text/plain": "{'html_path': '.\\\\html\\\\1_3.html',\n 'image_path': '.\\\\screenshot\\\\1_3.png',\n 'precondition_path': '.\\\\test_script\\\\1_3.spec.ts',\n 'description': 'Klicke auf \"Duplizieren\".'}"
     },
     "execution_count": 164,
     "metadata": {},
     "output_type": "execute_result"
    }
   ],
   "source": [
    "args"
   ],
   "metadata": {
    "collapsed": false,
    "ExecuteTime": {
     "end_time": "2024-06-22T21:46:50.816223Z",
     "start_time": "2024-06-22T21:46:50.722783400Z"
    }
   }
  },
  {
   "cell_type": "markdown",
   "source": [
    "2. Now we can run the main function to sum it up with the extracted information, we will get the generated UI test code for the test with id 1.4. Prompt engineering is implemented in the main function."
   ],
   "metadata": {
    "collapsed": false
   }
  },
  {
   "cell_type": "code",
   "execution_count": 165,
   "outputs": [
    {
     "name": "stdout",
     "output_type": "stream",
     "text": [
      "2024-06-22 23:46:50 [\u001B[34msrc.main:25\u001B[0m] [\u001B[32mINFO\u001B[0m] >>>> Loading context...\u001B[0m\n",
      "2024-06-22 23:46:51 [\u001B[34msrc.data.html_processor:83\u001B[0m] [DEBUG\u001B[0m] >>>> HTML elements extracted successfully. - Number of Elements: 317\u001B[0m\n",
      "2024-06-22 23:46:52 [\u001B[34msrc.data.image_processor:27\u001B[0m] [DEBUG\u001B[0m] >>>> Text extracted from image successfully. - Characters: 1110\u001B[0m\n",
      "2024-06-22 23:46:52 [\u001B[34msrc.data.python_processor:15\u001B[0m] [DEBUG\u001B[0m] >>>> Python code parsed successfully. - Lines of Code: 17\u001B[0m\n",
      "2024-06-22 23:46:52 [\u001B[34msrc.main:31\u001B[0m] [\u001B[32mINFO\u001B[0m] >>>> Context loaded successfully.\u001B[0m\n",
      "2024-06-22 23:46:52 [\u001B[34msrc.main:34\u001B[0m] [\u001B[32mINFO\u001B[0m] >>>> Creating input prompt...\u001B[0m\n",
      "2024-06-22 23:46:52 [\u001B[34msrc.main:36\u001B[0m] [\u001B[32mINFO\u001B[0m] >>>> Input prompt created successfully.\u001B[0m\n",
      "2024-06-22 23:46:52 [\u001B[34msrc.main:37\u001B[0m] [DEBUG\u001B[0m] >>>> Input prompt:\n",
      "You are a test automation script writer. Your task is to create a Playwright test script for the given webpage. Below are the details of the webpage. Use this information to generate a complete Python Playwright test script following the instructions.\n",
      "\n",
      "### Website HTML Content (simplified):\n",
      "HTML Elements:\n",
      "Button:  - ID: navigationTrigger - Class: button button-icon button-borderless - Type: button\n",
      "Button: [{\"printName\":\"Lernmodule – Tutorials und mehr\",\"url\":\"/help-learning/index.html\",\"targetFrame\":\"_blank\",\"id\":\"help\",\"type\":\"help\",\"webApplication\":false},{\"printName\":\"Hilfe\",\"url\":\"/help/\",\"targetFrame\":\"_blank\",\"id\":\"help\",\"type\":\"help\",\"webApplication\":false},{\"printName\":\"Hilfe zu Classic\",\"url\":\"/help-classic/\",\"targetFrame\":\"_blank\",\"id\":\"help-classic\",\"type\":\"help-classic\",\"webApplication\":false}] - ID: No ID - Class: d-help-menu button button-icon button-borderless d-topnav-dropdown - Type: button\n",
      "Button: Admin [{\"printName\":\"Profil\",\"url\":\"/pages/access/userprofile.xhtml\",\"targetFrame\":\"_self\",\"id\":\"userprofile\",\"type\":\"userprofile\",\"webApplication\":false},{\"printName\":\"Abmelden\",\"url\":\"/logout\",\"targetFrame\":\"_self\",\"id\":\"logout\",\"type\":\"logout\",\"webApplication\":false}] - ID: No ID - Class: button button-borderless d-topnav-dropdown - Type: button\n",
      "Button:  - ID: No ID - Class: button button-borderless hidden-xs button-icon - Type: button\n",
      "Button: v12 (Bearbeitet) - ID: No ID - Class: d-tag - Type: button\n",
      "Button: Messstellenliste - ID: No ID - Class: button button-with-dropdown button-borderless worksheet-navigation - Type: button\n",
      "Button:  - ID: No ID - Class: button button-borderless hidden-s button-icon d-circle-progress-bar-button--button - Type: button\n",
      "Button:  - ID: No ID - Class: button button-borderless xs button-icon button-s - Type: button\n",
      "Button: Speichern unter … - ID: No ID - Class: button button-borderless button-s - Type: button\n",
      "Button: Speichern - ID: No ID - Class: button button-borderless button-s - Type: button\n",
      "Button: Speichern und veröffentlichen - ID: No ID - Class: button button-borderless button-s - Type: button\n",
      "Button: Zugriffseinstellungen - ID: No ID - Class: button button-borderless button-s - Type: button\n",
      "Button: Neue Sicht - ID: No ID - Class: button button-borderless add-view-button button-s - Type: button\n",
      "Button: Mehr - ID: No ID - Class: button button-borderless button-s - Type: button\n",
      "Button:  - ID: No ID - Class: button button-borderless hidden-xs button-icon - Type: button\n",
      "Button:  - ID: No ID - Class: button button-borderless hidden-xs button-icon - Type: button\n",
      "Button:  - ID: No ID - Class: button button-borderless button-s button-icon - Type: button\n",
      "Button:  - ID: No ID - Class: button button-borderless button-s is-hover-visible d-condition-drop-panel--clear button-icon - Type: button\n",
      "Button:  - ID: No ID - Class: button button-borderless button-s more-action is-hover-visible button-icon - Type: button\n",
      "Button:  - ID: No ID - Class: button button-borderless button-s button-icon - Type: button\n",
      "Button:  - ID: No ID - Class: button button-borderless button-xs d-condition-group--reset is-hover-visible button-icon - Type: button\n",
      "Button:  - ID: No ID - Class: button button-borderless button-xs more-action is-hover-visible button-icon has-own-menu - Type: button\n",
      "Button:  - ID: No ID - Class: button button-borderless button-xs d-condition--clear is-hover-visible button-icon - Type: button\n",
      "Button:  - ID: No ID - Class: button button-borderless button-xs more-action is-hover-visible button-icon has-own-menu - Type: button\n",
      "Button:  - ID: No ID - Class: d-anchor d-select--more-less - Type: button\n",
      "Button:  - ID: No ID - Class: dialog-trigger button button-icon button-borderless d-select--element-right - Type: button\n",
      "Button:  - ID: No ID - Class: button button-borderless button-xs d-condition-group--reset is-hover-visible button-icon - Type: button\n",
      "Button:  - ID: No ID - Class: button button-borderless button-xs more-action is-hover-visible button-icon has-own-menu - Type: button\n",
      "Button:  - ID: No ID - Class: button button-borderless button-xs d-condition--clear is-hover-visible button-icon - Type: button\n",
      "Button:  - ID: No ID - Class: button button-borderless button-xs more-action is-hover-visible button-icon has-own-menu - Type: button\n",
      "Button:  - ID: No ID - Class: d-anchor d-select--more-less - Type: button\n",
      "Button:  - ID: No ID - Class: dialog-trigger button button-icon button-borderless d-select--element-right - Type: button\n",
      "Button:  - ID: No ID - Class: button button-borderless button-xs d-condition--clear is-hover-visible button-icon - Type: button\n",
      "Button:  - ID: No ID - Class: button button-borderless button-xs more-action is-hover-visible button-icon has-own-menu - Type: button\n",
      "Button:  - ID: No ID - Class: d-anchor d-select--more-less - Type: button\n",
      "Button:  - ID: No ID - Class: dialog-trigger button button-icon button-borderless d-select--element-right - Type: button\n",
      "Button:  - ID: No ID - Class: button button-borderless button-xs d-condition--clear is-hover-visible button-icon - Type: button\n",
      "Button:  - ID: No ID - Class: button button-borderless button-xs more-action is-hover-visible button-icon has-own-menu - Type: button\n",
      "Button:  - ID: No ID - Class: d-anchor d-select--more-less - Type: button\n",
      "Button:  - ID: No ID - Class: dialog-trigger button button-icon button-borderless d-select--element-right - Type: button\n",
      "Button:  - ID: No ID - Class: button button-borderless button-xs d-condition--clear is-hover-visible button-icon - Type: button\n",
      "Button:  - ID: No ID - Class: button button-borderless button-xs more-action is-hover-visible button-icon has-own-menu - Type: button\n",
      "Button:  - ID: No ID - Class: d-anchor d-select--more-less - Type: button\n",
      "Button:  - ID: No ID - Class: dialog-trigger button button-icon button-borderless d-select--element-right - Type: button\n",
      "Button:  - ID: No ID - Class: button button-borderless button-xs d-condition--clear is-hover-visible button-icon - Type: button\n",
      "Button:  - ID: No ID - Class: button button-borderless button-xs more-action is-hover-visible button-icon has-own-menu - Type: button\n",
      "Button:  - ID: No ID - Class: d-anchor d-select--more-less - Type: button\n",
      "Button:  - ID: No ID - Class: dialog-trigger button button-icon button-borderless d-select--element-right - Type: button\n",
      "Button:  - ID: No ID - Class: button button-borderless button-xs d-condition-group--reset is-hover-visible button-icon - Type: button\n",
      "Button:  - ID: No ID - Class: button button-borderless button-xs more-action is-hover-visible button-icon has-own-menu - Type: button\n",
      "Button:  - ID: No ID - Class: button button-borderless button-xs d-condition--clear is-hover-visible button-icon - Type: button\n",
      "Button:  - ID: No ID - Class: button button-borderless button-xs more-action is-hover-visible button-icon has-own-menu - Type: button\n",
      "Button:  - ID: No ID - Class: d-anchor d-select--more-less - Type: button\n",
      "Button:  - ID: No ID - Class: dialog-trigger button button-icon button-borderless d-select--element-right - Type: button\n",
      "Button:  - ID: No ID - Class: button button-borderless button-xs d-condition--clear is-hover-visible button-icon - Type: button\n",
      "Button:  - ID: ad-hoc-settings-LO8EpTw_Rr6ParizyY3AtQ - Class: button button-borderless button-xs is-hover-visible button-icon - Type: button\n",
      "Button:  - ID: No ID - Class: button button-borderless button-xs more-action is-hover-visible button-icon has-own-menu - Type: button\n",
      "Button:  - ID: No ID - Class: button button-icon button-borderless - Type: button\n",
      "Button:  - ID: No ID - Class: button button-borderless button-icon - Type: button\n",
      "Button:  - ID: No ID - Class: button button-icon button-borderless - Type: button\n",
      "Button:  - ID: No ID - Class: button button-borderless button-xs d-condition-group--reset is-hover-visible button-icon - Type: button\n",
      "Button:  - ID: No ID - Class: button button-borderless button-xs more-action is-hover-visible button-icon has-own-menu - Type: button\n",
      "Button:  - ID: No ID - Class: button button-borderless button-xs d-condition--clear is-hover-visible button-icon - Type: button\n",
      "Button:  - ID: No ID - Class: button button-borderless button-xs more-action is-hover-visible button-icon has-own-menu - Type: button\n",
      "Button:  - ID: No ID - Class: button button-borderless button-xs d-condition--clear is-hover-visible button-icon - Type: button\n",
      "Button:  - ID: No ID - Class: button button-borderless button-xs more-action is-hover-visible button-icon has-own-menu - Type: button\n",
      "Button:  - ID: No ID - Class: select2-selection__choice__remove button button-icon button-borderless button-s - Type: button\n",
      "Button:  - ID: No ID - Class: d-anchor d-select--more-less - Type: button\n",
      "Button:  - ID: No ID - Class: dialog-trigger button button-icon button-borderless d-select--element-right - Type: button\n",
      "Button:  - ID: No ID - Class: button button-borderless button-xs d-condition--clear is-hover-visible button-icon - Type: button\n",
      "Button:  - ID: No ID - Class: button button-borderless button-xs more-action is-hover-visible button-icon has-own-menu - Type: button\n",
      "Button:  - ID: No ID - Class: select2-selection__choice__remove button button-icon button-borderless button-s - Type: button\n",
      "Button:  - ID: No ID - Class: d-anchor d-select--more-less - Type: button\n",
      "Button:  - ID: No ID - Class: dialog-trigger button button-icon button-borderless d-select--element-right - Type: button\n",
      "Button:  - ID: No ID - Class: button button-borderless button-s button-icon - Type: button\n",
      "Button:  - ID: No ID - Class: button button-borderless button-s button-icon d-visualization-picker - Type: button\n",
      "Button:  - ID: No ID - Class: button button-borderless button-s d-worksheet-view--maximize button-icon - Type: button\n",
      "Button:  - ID: No ID - Class: button button-borderless button-s d-worksheet-view--minimize button-icon - Type: button\n",
      "Button:  - ID: Wus3-uWT-MicFD-66fN0t - Class: button button-borderless button-s button-icon - Type: button\n",
      "Button:  - ID: No ID - Class: button button-borderless button-s view-filters-button button-icon - Type: button\n",
      "Button: Abbrechen - ID: No ID - Class: button button-s cancel-button - Type: button\n",
      "Button: Aktualisieren - ID: No ID - Class: button button-s refresh-button - Type: button\n",
      "Button:  - ID: No ID - Class: button button-borderless button-xs d-collapse-group-result-table-plugin--toggle-button button-icon - Type: button\n",
      "Button:  - ID: No ID - Class: button button-borderless button-xs d-collapse-group-result-table-plugin--toggle-button button-icon - Type: button\n",
      "Button:  - ID: No ID - Class: button button-borderless button-xs d-collapse-group-result-table-plugin--toggle-button button-icon - Type: button\n",
      "Button:  - ID: No ID - Class: button button-borderless button-xs d-collapse-group-result-table-plugin--toggle-button button-icon - Type: button\n",
      "Button:  - ID: No ID - Class: button button-borderless button-xs d-collapse-group-result-table-plugin--toggle-button button-icon - Type: button\n",
      "Button:  - ID: No ID - Class: button button-borderless button-xs d-collapse-group-result-table-plugin--toggle-button button-icon - Type: button\n",
      "Button:  - ID: No ID - Class: button button-borderless button-xs d-collapse-group-result-table-plugin--toggle-button button-icon - Type: button\n",
      "Button:  - ID: No ID - Class: button button-borderless button-xs d-collapse-group-result-table-plugin--toggle-button button-icon - Type: button\n",
      "Button:  - ID: No ID - Class: button button-borderless button-xs d-collapse-group-result-table-plugin--toggle-button button-icon - Type: button\n",
      "Button:  - ID: No ID - Class: button button-borderless button-xs d-collapse-group-result-table-plugin--toggle-button button-icon - Type: button\n",
      "Button:  - ID: No ID - Class: button button-borderless button-xs d-collapse-group-result-table-plugin--toggle-button button-icon - Type: button\n",
      "Button:  - ID: No ID - Class: button button-borderless button-xs d-collapse-group-result-table-plugin--toggle-button button-icon - Type: button\n",
      "Button:  - ID: No ID - Class: button button-borderless button-xs d-collapse-group-result-table-plugin--toggle-button button-icon - Type: button\n",
      "Button:  - ID: No ID - Class: button button-borderless button-xs d-collapse-group-result-table-plugin--toggle-button button-icon - Type: button\n",
      "Button:  - ID: No ID - Class: button button-borderless button-xs d-collapse-group-result-table-plugin--toggle-button button-icon - Type: button\n",
      "Button:  - ID: No ID - Class: button button-borderless button-xs d-collapse-group-result-table-plugin--toggle-button button-icon - Type: button\n",
      "Button:  - ID: No ID - Class: button button-borderless button-xs d-collapse-group-result-table-plugin--toggle-button button-icon - Type: button\n",
      "Button:  - ID: No ID - Class: button button-borderless button-xs d-collapse-group-result-table-plugin--toggle-button button-icon - Type: button\n",
      "Button:  - ID: No ID - Class: button button-borderless button-xs d-collapse-group-result-table-plugin--toggle-button button-icon - Type: button\n",
      "Button:  - ID: No ID - Class: button button-borderless button-xs d-collapse-group-result-table-plugin--toggle-button button-icon - Type: button\n",
      "Button:  - ID: No ID - Class: button button-borderless button-xs d-collapse-group-result-table-plugin--toggle-button button-icon - Type: button\n",
      "Button:  - ID: No ID - Class: button button-borderless button-xs d-collapse-group-result-table-plugin--toggle-button button-icon - Type: button\n",
      "Button:  - ID: No ID - Class: button button-borderless button-xs d-collapse-group-result-table-plugin--toggle-button button-icon - Type: button\n",
      "Button:  - ID: No ID - Class: button button-borderless button-xs d-collapse-group-result-table-plugin--toggle-button button-icon - Type: button\n",
      "Button:  - ID: No ID - Class: button button-borderless button-xs d-collapse-group-result-table-plugin--toggle-button button-icon - Type: button\n",
      "Button:  - ID: No ID - Class: button button-borderless button-xs d-collapse-group-result-table-plugin--toggle-button button-icon - Type: button\n",
      "Button:  - ID: No ID - Class: button button-borderless button-xs d-collapse-group-result-table-plugin--toggle-button button-icon - Type: button\n",
      "Button:  - ID: No ID - Class: button button-borderless button-xs d-collapse-group-result-table-plugin--toggle-button button-icon - Type: button\n",
      "Button:  - ID: No ID - Class: button button-borderless button-xs d-collapse-group-result-table-plugin--toggle-button button-icon - Type: button\n",
      "Button:  - ID: No ID - Class: button button-borderless button-xs d-collapse-group-result-table-plugin--toggle-button button-icon - Type: button\n",
      "Button:  - ID: No ID - Class: button button-borderless button-xs d-collapse-group-result-table-plugin--toggle-button button-icon - Type: button\n",
      "Button:  - ID: No ID - Class: button button-borderless button-xs d-collapse-group-result-table-plugin--toggle-button button-icon - Type: button\n",
      "Button:  - ID: No ID - Class: button button-borderless button-xs d-collapse-group-result-table-plugin--toggle-button button-icon - Type: button\n",
      "Button:  - ID: No ID - Class: button button-borderless button-xs d-collapse-group-result-table-plugin--toggle-button button-icon - Type: button\n",
      "Button:  - ID: No ID - Class: button button-borderless button-xs d-collapse-group-result-table-plugin--toggle-button button-icon - Type: button\n",
      "Button:  - ID: No ID - Class: button button-borderless button-xs d-collapse-group-result-table-plugin--toggle-button button-icon - Type: button\n",
      "Button:  - ID: No ID - Class: button button-borderless button-xs d-collapse-group-result-table-plugin--toggle-button button-icon - Type: button\n",
      "Button:  - ID: No ID - Class: button button-borderless button-xs d-collapse-group-result-table-plugin--toggle-button button-icon - Type: button\n",
      "Button:  - ID: No ID - Class: button button-borderless button-xs d-collapse-group-result-table-plugin--toggle-button button-icon - Type: button\n",
      "Button:  - ID: No ID - Class: button button-borderless button-xs d-collapse-group-result-table-plugin--toggle-button button-icon - Type: button\n",
      "Button:  - ID: No ID - Class: button button-borderless button-xs d-collapse-group-result-table-plugin--toggle-button button-icon - Type: button\n",
      "Button:  - ID: No ID - Class: button button-borderless button-xs d-collapse-group-result-table-plugin--toggle-button button-icon - Type: button\n",
      "Button:  - ID: No ID - Class: button button-borderless button-xs d-collapse-group-result-table-plugin--toggle-button button-icon - Type: button\n",
      "Button:  - ID: No ID - Class: button button-borderless button-xs d-collapse-group-result-table-plugin--toggle-button button-icon - Type: button\n",
      "Button:  - ID: No ID - Class: button button-borderless button-xs d-collapse-group-result-table-plugin--toggle-button button-icon - Type: button\n",
      "Button:  - ID: No ID - Class: button button-borderless button-xs d-collapse-group-result-table-plugin--toggle-button button-icon - Type: button\n",
      "Button:  - ID: No ID - Class: button button-borderless button-xs d-collapse-group-result-table-plugin--toggle-button button-icon - Type: button\n",
      "Button:  - ID: No ID - Class: button button-borderless button-xs d-collapse-group-result-table-plugin--toggle-button button-icon - Type: button\n",
      "Button:  - ID: No ID - Class: button button-borderless button-xs d-collapse-group-result-table-plugin--toggle-button button-icon - Type: button\n",
      "Button:  - ID: No ID - Class: button button-borderless button-xs d-collapse-group-result-table-plugin--toggle-button button-icon - Type: button\n",
      "Button:  - ID: No ID - Class: button button-borderless button-xs d-collapse-group-result-table-plugin--toggle-button button-icon - Type: button\n",
      "Button:  - ID: No ID - Class: button button-borderless button-xs d-collapse-group-result-table-plugin--toggle-button button-icon - Type: button\n",
      "Button:  - ID: No ID - Class: button button-borderless button-xs d-collapse-group-result-table-plugin--toggle-button button-icon - Type: button\n",
      "Button:  - ID: No ID - Class: button button-borderless button-xs d-collapse-group-result-table-plugin--toggle-button button-icon - Type: button\n",
      "Button:  - ID: No ID - Class: button button-borderless button-xs d-collapse-group-result-table-plugin--toggle-button button-icon - Type: button\n",
      "Button:  - ID: No ID - Class: button button-borderless button-xs d-collapse-group-result-table-plugin--toggle-button button-icon - Type: button\n",
      "Button:  - ID: No ID - Class: button button-borderless button-xs d-collapse-group-result-table-plugin--toggle-button button-icon - Type: button\n",
      "Button:  - ID: No ID - Class: button button-borderless button-xs d-collapse-group-result-table-plugin--toggle-button button-icon - Type: button\n",
      "Button:  - ID: No ID - Class: button button-borderless button-xs d-collapse-group-result-table-plugin--toggle-button button-icon - Type: button\n",
      "Button:  - ID: No ID - Class: button button-borderless button-xs d-collapse-group-result-table-plugin--toggle-button button-icon - Type: button\n",
      "Button:  - ID: No ID - Class: button button-borderless button-xs d-collapse-group-result-table-plugin--toggle-button button-icon - Type: button\n",
      "Button:  - ID: No ID - Class: button button-borderless button-xs d-collapse-group-result-table-plugin--toggle-button button-icon - Type: button\n",
      "Button:  - ID: No ID - Class: button button-borderless button-xs d-collapse-group-result-table-plugin--toggle-button button-icon - Type: button\n",
      "Button:  - ID: No ID - Class: button button-borderless button-xs d-collapse-group-result-table-plugin--toggle-button button-icon - Type: button\n",
      "Button:  - ID: No ID - Class: button button-borderless button-xs d-collapse-group-result-table-plugin--toggle-button button-icon - Type: button\n",
      "Button:  - ID: No ID - Class: button button-borderless button-xs d-collapse-group-result-table-plugin--toggle-button button-icon - Type: button\n",
      "Button:  - ID: No ID - Class: button button-borderless button-xs d-collapse-group-result-table-plugin--toggle-button button-icon - Type: button\n",
      "Button:  - ID: No ID - Class: button button-borderless button-xs d-collapse-group-result-table-plugin--toggle-button button-icon - Type: button\n",
      "Button:  - ID: No ID - Class: button button-borderless button-xs d-collapse-group-result-table-plugin--toggle-button button-icon - Type: button\n",
      "Button:  - ID: No ID - Class: button button-borderless button-xs d-collapse-group-result-table-plugin--toggle-button button-icon - Type: button\n",
      "Button:  - ID: No ID - Class: button button-borderless button-xs d-collapse-group-result-table-plugin--toggle-button button-icon - Type: button\n",
      "Button:  - ID: No ID - Class: button button-borderless button-xs d-collapse-group-result-table-plugin--toggle-button button-icon - Type: button\n",
      "Button:  - ID: No ID - Class: button button-borderless button-xs d-collapse-group-result-table-plugin--toggle-button button-icon - Type: button\n",
      "Button:  - ID: No ID - Class: button button-borderless button-xs d-collapse-group-result-table-plugin--toggle-button button-icon - Type: button\n",
      "Button:  - ID: No ID - Class: button button-borderless button-xs d-collapse-group-result-table-plugin--toggle-button button-icon - Type: button\n",
      "Button:  - ID: No ID - Class: button button-borderless button-xs d-collapse-group-result-table-plugin--toggle-button button-icon - Type: button\n",
      "Button:  - ID: No ID - Class: button button-borderless button-xs d-collapse-group-result-table-plugin--toggle-button button-icon - Type: button\n",
      "Button:  - ID: No ID - Class: button button-borderless button-xs d-collapse-group-result-table-plugin--toggle-button button-icon - Type: button\n",
      "Button:  - ID: No ID - Class: button button-borderless button-xs d-collapse-group-result-table-plugin--toggle-button button-icon - Type: button\n",
      "Button:  - ID: No ID - Class: button button-borderless button-xs d-collapse-group-result-table-plugin--toggle-button button-icon - Type: button\n",
      "Button:  - ID: No ID - Class: button button-borderless button-xs d-collapse-group-result-table-plugin--toggle-button button-icon - Type: button\n",
      "Button:  - ID: No ID - Class: button button-borderless button-xs d-collapse-group-result-table-plugin--toggle-button button-icon - Type: button\n",
      "Button:  - ID: No ID - Class: button button-borderless button-xs d-collapse-group-result-table-plugin--toggle-button button-icon - Type: button\n",
      "Button:  - ID: No ID - Class: button button-borderless button-xs d-collapse-group-result-table-plugin--toggle-button button-icon - Type: button\n",
      "Button:  - ID: No ID - Class: button button-borderless button-xs d-collapse-group-result-table-plugin--toggle-button button-icon - Type: button\n",
      "Button:  - ID: No ID - Class: button button-borderless button-xs d-collapse-group-result-table-plugin--toggle-button button-icon - Type: button\n",
      "Button:  - ID: No ID - Class: button button-borderless button-xs d-collapse-group-result-table-plugin--toggle-button button-icon - Type: button\n",
      "Button:  - ID: No ID - Class: button button-borderless button-xs d-collapse-group-result-table-plugin--toggle-button button-icon - Type: button\n",
      "Button:  - ID: No ID - Class: button button-borderless button-xs d-collapse-group-result-table-plugin--toggle-button button-icon - Type: button\n",
      "Button:  - ID: No ID - Class: button button-borderless button-xs d-collapse-group-result-table-plugin--toggle-button button-icon - Type: button\n",
      "Button:  - ID: No ID - Class: button button-borderless button-xs d-collapse-group-result-table-plugin--toggle-button button-icon - Type: button\n",
      "Button:  - ID: No ID - Class: button button-borderless button-xs d-collapse-group-result-table-plugin--toggle-button button-icon - Type: button\n",
      "Button:  - ID: No ID - Class: button button-borderless button-xs d-collapse-group-result-table-plugin--toggle-button button-icon - Type: button\n",
      "Button:  - ID: No ID - Class: button button-borderless button-xs d-collapse-group-result-table-plugin--toggle-button button-icon - Type: button\n",
      "Button:  - ID: No ID - Class: button button-borderless button-xs d-collapse-group-result-table-plugin--toggle-button button-icon - Type: button\n",
      "Button:  - ID: No ID - Class: button button-borderless button-xs d-collapse-group-result-table-plugin--toggle-button button-icon - Type: button\n",
      "Button:  - ID: No ID - Class: button button-borderless button-xs d-collapse-group-result-table-plugin--toggle-button button-icon - Type: button\n",
      "Button:  - ID: No ID - Class: button button-borderless button-xs d-collapse-group-result-table-plugin--toggle-button button-icon - Type: button\n",
      "Button:  - ID: No ID - Class: button button-borderless button-xs d-collapse-group-result-table-plugin--toggle-button button-icon - Type: button\n",
      "Button:  - ID: No ID - Class: button button-borderless button-xs d-collapse-group-result-table-plugin--toggle-button button-icon - Type: button\n",
      "Button:  - ID: No ID - Class: button button-borderless button-xs d-collapse-group-result-table-plugin--toggle-button button-icon - Type: button\n",
      "Button:  - ID: No ID - Class: button button-borderless button-xs d-collapse-group-result-table-plugin--toggle-button button-icon - Type: button\n",
      "Button:  - ID: No ID - Class: button button-borderless button-xs d-collapse-group-result-table-plugin--toggle-button button-icon - Type: button\n",
      "Button:  - ID: No ID - Class: button button-borderless button-xs d-collapse-group-result-table-plugin--toggle-button button-icon - Type: button\n",
      "Button:  - ID: No ID - Class: button button-borderless button-xs d-collapse-group-result-table-plugin--toggle-button button-icon - Type: button\n",
      "Button:  - ID: No ID - Class: button button-borderless button-xs d-collapse-group-result-table-plugin--toggle-button button-icon - Type: button\n",
      "Button:  - ID: No ID - Class: button button-borderless button-xs d-collapse-group-result-table-plugin--toggle-button button-icon - Type: button\n",
      "Button:  - ID: No ID - Class: button button-borderless button-xs d-collapse-group-result-table-plugin--toggle-button button-icon - Type: button\n",
      "Button:  - ID: No ID - Class: button button-borderless button-xs d-collapse-group-result-table-plugin--toggle-button button-icon - Type: button\n",
      "Button:  - ID: No ID - Class: button button-borderless button-xs d-collapse-group-result-table-plugin--toggle-button button-icon - Type: button\n",
      "Button:  - ID: No ID - Class: button button-borderless button-xs d-collapse-group-result-table-plugin--toggle-button button-icon - Type: button\n",
      "Button:  - ID: No ID - Class: button button-borderless button-xs d-collapse-group-result-table-plugin--toggle-button button-icon - Type: button\n",
      "Button:  - ID: No ID - Class: button button-borderless button-xs d-collapse-group-result-table-plugin--toggle-button button-icon - Type: button\n",
      "Button:  - ID: No ID - Class: button button-borderless button-xs d-collapse-group-result-table-plugin--toggle-button button-icon - Type: button\n",
      "Button:  - ID: No ID - Class: button button-borderless button-xs d-collapse-group-result-table-plugin--toggle-button button-icon - Type: button\n",
      "Button:  - ID: No ID - Class: button button-borderless button-xs d-collapse-group-result-table-plugin--toggle-button button-icon - Type: button\n",
      "Button:  - ID: No ID - Class: button button-borderless button-xs d-collapse-group-result-table-plugin--toggle-button button-icon - Type: button\n",
      "Button:  - ID: No ID - Class: button button-borderless button-xs d-collapse-group-result-table-plugin--toggle-button button-icon - Type: button\n",
      "Button:  - ID: No ID - Class: button button-borderless button-xs d-collapse-group-result-table-plugin--toggle-button button-icon - Type: button\n",
      "Button:  - ID: No ID - Class: button button-borderless button-xs d-collapse-group-result-table-plugin--toggle-button button-icon - Type: button\n",
      "Button:  - ID: No ID - Class: button button-borderless button-xs d-collapse-group-result-table-plugin--toggle-button button-icon - Type: button\n",
      "Button:  - ID: No ID - Class: button button-borderless button-xs d-collapse-group-result-table-plugin--toggle-button button-icon - Type: button\n",
      "Button:  - ID: No ID - Class: button button-borderless button-xs d-collapse-group-result-table-plugin--toggle-button button-icon - Type: button\n",
      "Button:  - ID: No ID - Class: button button-borderless button-xs d-collapse-group-result-table-plugin--toggle-button button-icon - Type: button\n",
      "Button:  - ID: No ID - Class: button button-borderless button-xs d-collapse-group-result-table-plugin--toggle-button button-icon - Type: button\n",
      "Button:  - ID: No ID - Class: button button-borderless button-xs d-collapse-group-result-table-plugin--toggle-button button-icon - Type: button\n",
      "Button:  - ID: No ID - Class: button button-borderless button-xs d-collapse-group-result-table-plugin--toggle-button button-icon - Type: button\n",
      "Button:  - ID: No ID - Class: button button-borderless button-xs d-collapse-group-result-table-plugin--toggle-button button-icon - Type: button\n",
      "Button:  - ID: No ID - Class: button button-borderless button-xs d-collapse-group-result-table-plugin--toggle-button button-icon - Type: button\n",
      "Button:  - ID: No ID - Class: button button-borderless button-xs d-collapse-group-result-table-plugin--toggle-button button-icon - Type: button\n",
      "Button:  - ID: No ID - Class: button button-borderless button-xs d-collapse-group-result-table-plugin--toggle-button button-icon - Type: button\n",
      "Button:  - ID: No ID - Class: button button-borderless button-xs d-collapse-group-result-table-plugin--toggle-button button-icon - Type: button\n",
      "Button:  - ID: No ID - Class: button button-borderless button-xs d-collapse-group-result-table-plugin--toggle-button button-icon - Type: button\n",
      "Button:  - ID: No ID - Class: button button-borderless button-xs d-collapse-group-result-table-plugin--toggle-button button-icon - Type: button\n",
      "Button:  - ID: No ID - Class: button button-borderless button-xs d-collapse-group-result-table-plugin--toggle-button button-icon - Type: button\n",
      "Button:  - ID: No ID - Class: button button-borderless button-xs d-collapse-group-result-table-plugin--toggle-button button-icon - Type: button\n",
      "Button:  - ID: No ID - Class: button button-borderless button-xs d-collapse-group-result-table-plugin--toggle-button button-icon - Type: button\n",
      "Button:  - ID: No ID - Class: button button-borderless button-xs d-collapse-group-result-table-plugin--toggle-button button-icon - Type: button\n",
      "Button:  - ID: No ID - Class: button button-borderless button-xs d-collapse-group-result-table-plugin--toggle-button button-icon - Type: button\n",
      "Button:  - ID: No ID - Class: button button-borderless button-xs d-collapse-group-result-table-plugin--toggle-button button-icon - Type: button\n",
      "Button:  - ID: No ID - Class: button button-borderless button-xs d-collapse-group-result-table-plugin--toggle-button button-icon - Type: button\n",
      "Button:  - ID: No ID - Class: button button-borderless button-xs d-collapse-group-result-table-plugin--toggle-button button-icon - Type: button\n",
      "Button:  - ID: No ID - Class: button button-borderless button-xs d-collapse-group-result-table-plugin--toggle-button button-icon - Type: button\n",
      "Button:  - ID: No ID - Class: button button-borderless button-xs d-collapse-group-result-table-plugin--toggle-button button-icon - Type: button\n",
      "Button:  - ID: No ID - Class: button button-borderless button-xs d-collapse-group-result-table-plugin--toggle-button button-icon - Type: button\n",
      "Button:  - ID: No ID - Class: button button-borderless button-xs d-collapse-group-result-table-plugin--toggle-button button-icon - Type: button\n",
      "Button:  - ID: No ID - Class: button button-borderless button-xs d-collapse-group-result-table-plugin--toggle-button button-icon - Type: button\n",
      "Button:  - ID: No ID - Class: button button-borderless button-xs d-collapse-group-result-table-plugin--toggle-button button-icon - Type: button\n",
      "Button:  - ID: No ID - Class: button button-borderless button-xs d-collapse-group-result-table-plugin--toggle-button button-icon - Type: button\n",
      "Button:  - ID: No ID - Class: button button-borderless button-xs d-collapse-group-result-table-plugin--toggle-button button-icon - Type: button\n",
      "Button:  - ID: No ID - Class: button button-borderless button-xs d-collapse-group-result-table-plugin--toggle-button button-icon - Type: button\n",
      "Button:  - ID: No ID - Class: button button-borderless button-xs d-collapse-group-result-table-plugin--toggle-button button-icon - Type: button\n",
      "Button:  - ID: No ID - Class: button button-borderless button-xs d-collapse-group-result-table-plugin--toggle-button button-icon - Type: button\n",
      "Button:  - ID: No ID - Class: button button-borderless button-xs d-collapse-group-result-table-plugin--toggle-button button-icon - Type: button\n",
      "Button:  - ID: No ID - Class: button button-borderless button-xs d-collapse-group-result-table-plugin--toggle-button button-icon - Type: button\n",
      "Button:  - ID: No ID - Class: button button-borderless button-xs d-collapse-group-result-table-plugin--toggle-button button-icon - Type: button\n",
      "Button:  - ID: No ID - Class: button button-borderless button-xs d-collapse-group-result-table-plugin--toggle-button button-icon - Type: button\n",
      "Button:  - ID: No ID - Class: button button-borderless button-xs d-collapse-group-result-table-plugin--toggle-button button-icon - Type: button\n",
      "Button:  - ID: No ID - Class: button button-borderless button-xs d-collapse-group-result-table-plugin--toggle-button button-icon - Type: button\n",
      "Button:  - ID: No ID - Class: button button-borderless button-xs d-collapse-group-result-table-plugin--toggle-button button-icon - Type: button\n",
      "Button:  - ID: No ID - Class: button button-borderless button-xs d-collapse-group-result-table-plugin--toggle-button button-icon - Type: button\n",
      "Button:  - ID: No ID - Class: button button-borderless button-xs d-collapse-group-result-table-plugin--toggle-button button-icon - Type: button\n",
      "Button:  - ID: No ID - Class: button button-borderless button-xs d-collapse-group-result-table-plugin--toggle-button button-icon - Type: button\n",
      "Button:  - ID: No ID - Class: button button-borderless button-xs d-collapse-group-result-table-plugin--toggle-button button-icon - Type: button\n",
      "Button:  - ID: No ID - Class: button button-borderless button-xs d-collapse-group-result-table-plugin--toggle-button button-icon - Type: button\n",
      "Button:  - ID: No ID - Class: button button-borderless button-xs d-collapse-group-result-table-plugin--toggle-button button-icon - Type: button\n",
      "Button:  - ID: No ID - Class: button button-borderless button-xs d-collapse-group-result-table-plugin--toggle-button button-icon - Type: button\n",
      "Button:  - ID: No ID - Class: button button-borderless button-xs d-collapse-group-result-table-plugin--toggle-button button-icon - Type: button\n",
      "Button:  - ID: No ID - Class: button button-borderless button-xs d-collapse-group-result-table-plugin--toggle-button button-icon - Type: button\n",
      "Button:  - ID: No ID - Class: button button-borderless button-xs d-collapse-group-result-table-plugin--toggle-button button-icon - Type: button\n",
      "Button:  - ID: No ID - Class: button button-borderless button-xs d-collapse-group-result-table-plugin--toggle-button button-icon - Type: button\n",
      "Button:  - ID: No ID - Class: button button-borderless button-xs d-collapse-group-result-table-plugin--toggle-button button-icon - Type: button\n",
      "Button:  - ID: No ID - Class: button button-borderless button-xs d-collapse-group-result-table-plugin--toggle-button button-icon - Type: button\n",
      "Button:  - ID: No ID - Class: button button-borderless button-xs d-collapse-group-result-table-plugin--toggle-button button-icon - Type: button\n",
      "Button:  - ID: No ID - Class: button button-borderless button-xs d-collapse-group-result-table-plugin--toggle-button button-icon - Type: button\n",
      "Button:  - ID: No ID - Class: button button-borderless button-xs d-collapse-group-result-table-plugin--toggle-button button-icon - Type: button\n",
      "Button:  - ID: No ID - Class: button button-borderless button-xs d-collapse-group-result-table-plugin--toggle-button button-icon - Type: button\n",
      "Button:  - ID: No ID - Class: button button-borderless button-xs d-collapse-group-result-table-plugin--toggle-button button-icon - Type: button\n",
      "Button:  - ID: No ID - Class: button button-borderless button-xs d-collapse-group-result-table-plugin--toggle-button button-icon - Type: button\n",
      "Button:  - ID: No ID - Class: button button-borderless button-xs d-collapse-group-result-table-plugin--toggle-button button-icon - Type: button\n",
      "Button:  - ID: No ID - Class: button button-borderless button-xs d-collapse-group-result-table-plugin--toggle-button button-icon - Type: button\n",
      "Button:  - ID: No ID - Class: button button-borderless button-xs d-collapse-group-result-table-plugin--toggle-button button-icon - Type: button\n",
      "Button:  - ID: No ID - Class: button button-borderless button-xs d-collapse-group-result-table-plugin--toggle-button button-icon - Type: button\n",
      "Button:  - ID: No ID - Class: button button-borderless button-xs d-collapse-group-result-table-plugin--toggle-button button-icon - Type: button\n",
      "Button:  - ID: No ID - Class: button button-borderless button-xs d-collapse-group-result-table-plugin--toggle-button button-icon - Type: button\n",
      "Button:  - ID: No ID - Class: button button-borderless button-xs d-collapse-group-result-table-plugin--toggle-button button-icon - Type: button\n",
      "Button:  - ID: No ID - Class: button button-borderless button-xs d-collapse-group-result-table-plugin--toggle-button button-icon - Type: button\n",
      "Button:  - ID: No ID - Class: button button-borderless button-xs d-collapse-group-result-table-plugin--toggle-button button-icon - Type: button\n",
      "Button:  - ID: No ID - Class: button button-borderless button-xs d-collapse-group-result-table-plugin--toggle-button button-icon - Type: button\n",
      "Button:  - ID: No ID - Class: button button-borderless button-xs d-collapse-group-result-table-plugin--toggle-button button-icon - Type: button\n",
      "Button:  - ID: No ID - Class: button button-borderless button-xs d-collapse-group-result-table-plugin--toggle-button button-icon - Type: button\n",
      "Button:  - ID: No ID - Class: button button-borderless button-xs d-collapse-group-result-table-plugin--toggle-button button-icon - Type: button\n",
      "Button:  - ID: No ID - Class: button button-borderless button-xs d-collapse-group-result-table-plugin--toggle-button button-icon - Type: button\n",
      "Button:  - ID: No ID - Class: button button-borderless button-xs d-collapse-group-result-table-plugin--toggle-button button-icon - Type: button\n",
      "Button:  - ID: No ID - Class: button button-borderless button-xs d-collapse-group-result-table-plugin--toggle-button button-icon - Type: button\n",
      "Button:  - ID: No ID - Class: button button-borderless button-xs d-collapse-group-result-table-plugin--toggle-button button-icon - Type: button\n",
      "Button:  - ID: No ID - Class: button button-borderless button-xs selection-cart--action button-icon - Type: button\n",
      "Button: Daten laden - ID: No ID - Class: button button-primary - Type: button\n",
      "Button:  - ID: No ID - Class: button button-borderless button-s button-icon - Type: button\n",
      "Button:  - ID: No ID - Class: button button-borderless button-s button-icon - Type: button\n",
      "Button:  - ID: No ID - Class: button button-borderless button-icon d-select--element-left - Type: button\n",
      "Button:  - ID: No ID - Class: button button-borderless button-s objecttype-more-action more-action is-hover-visible button-icon - Type: button\n",
      "Button:  - ID: No ID - Class: button button-borderless button-s objecttype-more-action more-action is-hover-visible button-icon - Type: button\n",
      "Button:  - ID: No ID - Class: button button-borderless button-s objecttype-more-action more-action is-hover-visible button-icon - Type: button\n",
      "Button: Weitere Daten hinzufügen - ID: No ID - Class: button - Type: button\n",
      "Button: Duplizieren - ID: No ID - Class: button - Type: button\n",
      "Button: In Arbeitsblatt duplizieren - ID: No ID - Class: button - Type: button\n",
      "Button: Exportieren - ID: No ID - Class: button - Type: button\n",
      "Button: Designer öffnen - ID: No ID - Class: button - Type: button\n",
      "Button: Löschen - ID: No ID - Class: button - Type: button\n",
      "Input: No Name - Type: search - Value:  - Placeholder:  - ID: No ID - Class: select2-search__field - Label: \n",
      "Input: No Name - Type: search - Value:  - Placeholder:  - ID: No ID - Class: select2-search__field - Label: \n",
      "Input: No Name - Type: search - Value:  - Placeholder:  - ID: No ID - Class: select2-search__field - Label: \n",
      "Input: No Name - Type: search - Value:  - Placeholder:  - ID: No ID - Class: select2-search__field - Label: \n",
      "Input: No Name - Type: search - Value:  - Placeholder:  - ID: No ID - Class: select2-search__field - Label: \n",
      "Input: No Name - Type: search - Value:  - Placeholder:  - ID: No ID - Class: select2-search__field - Label: \n",
      "Input: No Name - Type: search - Value:  - Placeholder:  - ID: No ID - Class: select2-search__field - Label: \n",
      "Input: No Name - Type: text - Value:  - Placeholder: dd.MM.yyyy - dd.MM.yyyy - ID: cpwGAhii7vkbtfgBbOaJ- - Class: d-condition-date-picker--input form-control - Label: \n",
      "Input: No Name - Type: text - Value:  - Placeholder:  - ID: No ID - Class: interval form-control - Label: Messwert Start des Wertebereichs\n",
      "Input: No Name - Type: text - Value:  - Placeholder:  - ID: No ID - Class: interval form-control - Label: Messwert Ende des Wertebereichs\n",
      "Input: No Name - Type: search - Value:  - Placeholder:  - ID: No ID - Class: select2-search__field - Label: \n",
      "Input: No Name - Type: search - Value:  - Placeholder:  - ID: No ID - Class: select2-search__field - Label: \n",
      "Input: No Name - Type: search - Value:  - Placeholder: Suchen … - ID: No ID - Class: select2-search__field - Label: Suchen …\n",
      "Link: Zum Navigatorbaum springen - Href: #navigator - ID: skip-to-navigator - Class: button button-primary\n",
      "Link: Zum Hauptbereich springen - Href: #content - ID: skip-to-content - Class: button button-primary\n",
      "Link: Startseite - Href: /cadenza/ - ID: home - Class: button button-icon button-borderless\n",
      "Link: Karte - Href: # - ID: No ID - Class: button button-icon button-borderless d-topnav--map-button\n",
      "Link:  - Href: /cadenza/admin/ - ID: No ID - Class: button button-icon button-borderless\n",
      "Link:  - Href: http://www.disy.net - ID: No ID - Class: helpMenuBottomContentImageTop\n",
      "Link:  - Href: mailto:sales@disy.net - ID: No ID - Class: \n",
      "Link:  - Href: http://www.disy.net - ID: No ID - Class: \n",
      "Link: disy Cadenza v9.4.71 - Href: https://www.disy.net/de/produkte/cadenza/datenanalyse-software/ - ID: No ID - Class: userSpecificLink ellipsis hidden-xs\n",
      "Link: © Disy Informationssysteme GmbH - Href: https://www.disy.net - ID: No ID - Class: userSpecificLink ellipsis hidden-xs\n",
      "Link: Über Disy - Href: https://www.disy.net/de/impressum/ - ID: No ID - Class: userSpecificLink ellipsis\n",
      "\n",
      "\n",
      "### Current Website Screenshot Description:\n",
      "@ disy Cade!\n",
      "\n",
      "@ Ubersicht Messstellen [v12(Searbeitet)] | Messstellenliste v (] )Speichern < Zugriffseinstellungen E}NeueSicht ? Mehr FR G\n",
      "© ANALYSEKONTEXT x Messstelleninformationen OB’: G\n",
      "« Name des Gewassers * Messstelle * Messstelle Nr. * Mi & buplizieren t\n",
      "Filter + 7 |) Abzucht ©\n",
      "; 7 >) ane In Arbeitsblatt duplizieren >\n",
      "\n",
      "MessgréBen und Qualitat A\n",
      "\n",
      "3 > Ahrensbach © Exportieren »\n",
      "Parameter GE] 4 > Aland ©\n",
      "\n",
      "5 |v Aller © Brenneckenbriick © 48,192,024 1980 Designer Gfinen\n",
      "\n",
      "6 Grafhorst © 48.132.055 1980 EF Laschen\n",
      "ae an 7 Hodenhagen © 48.932.018 1980 -\n",
      "\n",
      "8 Langlingen © 48,332,010 1980 2020 Celle\n",
      "Name des Gewassers ca 8 Oldau © 48.592.033 1980 2019 Celle\n",
      "\n",
      "_ 10 Saalsdorf © 4.112.229 1979 2019 Helmstedt ©\n",
      "\n",
      "u Verden ® 48.992.097 1980 2019 Verden ©\n",
      "Gemeinde GE] 2 Warmenau| © 48,132.180 1979 2019 Gifhorn ©\n",
      "\n",
      "13> Allerbeeke ©\n",
      "\n",
      "14 > Allerkanal ©\n",
      "Landkreis Tm 15> Alte Aller ©\n",
      "\n",
      "16 > Altenau ©\n",
      "\n",
      "17> Altenbrucher Kanal ©\n",
      "Messstelle 18 | Alter Huntearm © Dreisielen © 49.692.981 2000 2019 Wesermarsch\n",
      "\n",
      "13 Sandfang © 49.692.071 2008 2019 Oldenburg ©\n",
      "\n",
      "20> AperTief ©\n",
      "Messstelle Nr. 21_| > Aue ®\n",
      "\n",
      "~ L_2__ > Aue o y\n",
      "\n",
      "\n",
      "\n",
      "### Playwright Test Precondition Code:\n",
      "import { test, expect } from '@playwright/test';\n",
      "import { writeFileSync } from 'fs';\n",
      "test('test', async ({ page }) => {\n",
      "  await page.goto('http://localhost:8080/cadenza/');\n",
      "  await page.getByRole('link', { name: 'Anmelden' }).click();\n",
      "  await page.getByLabel('Benutzername *').click();\n",
      "  await page.getByLabel('Benutzername *').fill('Admin');\n",
      "  await page.getByLabel('Benutzername *').press('Tab');\n",
      "  await page.getByPlaceholder(' ').fill('Admin');\n",
      "  await page.getByRole('button', { name: 'Anmelden' }).click();\n",
      "  await page.getByText('Verzeichnis Gewässergüte', { exact: true }).click();\n",
      "  const parentElement = await page.getByText('Arbeitsmappe Übersicht Messstellen').locator('..');\n",
      "  await parentElement.locator('.d-icon.d-icon-bold.status-icon').click(); \n",
      "  await page.getByRole('link', { name: 'Tabelle Messstellenliste' }).click();\n",
      "  await page.getByTestId('worksheet-view-of-type-table').hover();\n",
      "  await page.getByTestId('worksheet-view-of-type-table').getByLabel('Mehr …').click();\n",
      "});\n",
      "\n",
      "### Test Description:\n",
      "Klicke auf \"Duplizieren\".\n",
      "\n",
      "### Instructions:\n",
      "1. Use the precondition code to set up the initial state.\n",
      "2. Follow the steps in the test description to perform actions and verify outcomes.\n",
      "3. Ensure the generated script is in Python and uses Playwright's sync API.\n",
      "Generate the Playwright test script below:\n",
      "\u001B[0m\n",
      "2024-06-22 23:46:52 [\u001B[34msrc.main:39\u001B[0m] [\u001B[32mINFO\u001B[0m] >>>> Generating test case...\u001B[0m\n"
     ]
    },
    {
     "name": "stderr",
     "output_type": "stream",
     "text": [
      "The attention mask and the pad token id were not set. As a consequence, you may observe unexpected behavior. Please pass your input's `attention_mask` to obtain reliable results.\n",
      "Setting `pad_token_id` to `eos_token_id`:50256 for open-end generation.\n"
     ]
    },
    {
     "ename": "ValueError",
     "evalue": "Input length of input_ids is 1024, but `max_length` is set to 500. This can lead to unexpected behavior. You should consider increasing `max_length` or, better yet, setting `max_new_tokens`.",
     "output_type": "error",
     "traceback": [
      "\u001B[1;31m---------------------------------------------------------------------------\u001B[0m",
      "\u001B[1;31mValueError\u001B[0m                                Traceback (most recent call last)",
      "File \u001B[1;32m<timed exec>:2\u001B[0m\n",
      "File \u001B[1;32m~\\PycharmProjects\\cadenza-playwright-llm\\src\\main.py:45\u001B[0m, in \u001B[0;36mmain\u001B[1;34m(html_path, image_path, precondition_path, description)\u001B[0m\n\u001B[0;32m     43\u001B[0m next_id \u001B[38;5;241m=\u001B[39m \u001B[38;5;124mf\u001B[39m\u001B[38;5;124m\"\u001B[39m\u001B[38;5;132;01m{\u001B[39;00mcurrent_test\u001B[38;5;132;01m}\u001B[39;00m\u001B[38;5;124m_\u001B[39m\u001B[38;5;132;01m{\u001B[39;00m\u001B[38;5;28mint\u001B[39m(current_step)\u001B[38;5;250m \u001B[39m\u001B[38;5;241m+\u001B[39m\u001B[38;5;250m \u001B[39m\u001B[38;5;241m1\u001B[39m\u001B[38;5;132;01m}\u001B[39;00m\u001B[38;5;124m\"\u001B[39m\n\u001B[0;32m     44\u001B[0m \u001B[38;5;66;03m# Generate the code\u001B[39;00m\n\u001B[1;32m---> 45\u001B[0m generated_code \u001B[38;5;241m=\u001B[39m \u001B[43mgenerate_code\u001B[49m\u001B[43m(\u001B[49m\u001B[43mcombined_input\u001B[49m\u001B[43m,\u001B[49m\u001B[43m \u001B[49m\u001B[43mfile_name\u001B[49m\u001B[38;5;241;43m=\u001B[39;49m\u001B[38;5;124;43mf\u001B[39;49m\u001B[38;5;124;43m\"\u001B[39;49m\u001B[38;5;132;43;01m{\u001B[39;49;00m\u001B[43mnext_id\u001B[49m\u001B[38;5;132;43;01m}\u001B[39;49;00m\u001B[38;5;124;43m.pred\u001B[39;49m\u001B[38;5;124;43m\"\u001B[39;49m\u001B[43m,\u001B[49m\u001B[43m \u001B[49m\u001B[43mmodel_name\u001B[49m\u001B[38;5;241;43m=\u001B[39;49m\u001B[38;5;124;43m\"\u001B[39;49m\u001B[38;5;124;43mgpt2\u001B[39;49m\u001B[38;5;124;43m\"\u001B[39;49m\u001B[43m)\u001B[49m\n\u001B[0;32m     46\u001B[0m logger\u001B[38;5;241m.\u001B[39minfo(\u001B[38;5;124mf\u001B[39m\u001B[38;5;124m\"\u001B[39m\u001B[38;5;124mTest case generated for \u001B[39m\u001B[38;5;132;01m{\u001B[39;00mnext_id\u001B[38;5;132;01m}\u001B[39;00m\u001B[38;5;124m.\u001B[39m\u001B[38;5;124m\"\u001B[39m)\n\u001B[0;32m     47\u001B[0m logger\u001B[38;5;241m.\u001B[39mdebug(\u001B[38;5;124m\"\u001B[39m\u001B[38;5;124mTest case:\u001B[39m\u001B[38;5;130;01m\\n\u001B[39;00m\u001B[38;5;124m\"\u001B[39m, generated_code)\n",
      "File \u001B[1;32m~\\PycharmProjects\\cadenza-playwright-llm\\src\\ui_tests\\test_generation.py:29\u001B[0m, in \u001B[0;36mgenerate_code\u001B[1;34m(combined_input, file_name, model_name)\u001B[0m\n\u001B[0;32m     27\u001B[0m     \u001B[38;5;66;03m# Generate the code\u001B[39;00m\n\u001B[0;32m     28\u001B[0m     inputs \u001B[38;5;241m=\u001B[39m tokenizer\u001B[38;5;241m.\u001B[39mencode(combined_input, return_tensors\u001B[38;5;241m=\u001B[39m\u001B[38;5;124m\"\u001B[39m\u001B[38;5;124mpt\u001B[39m\u001B[38;5;124m\"\u001B[39m, truncation\u001B[38;5;241m=\u001B[39m\u001B[38;5;28;01mTrue\u001B[39;00m)\n\u001B[1;32m---> 29\u001B[0m     outputs \u001B[38;5;241m=\u001B[39m \u001B[43mmodel\u001B[49m\u001B[38;5;241;43m.\u001B[39;49m\u001B[43mgenerate\u001B[49m\u001B[43m(\u001B[49m\u001B[43minputs\u001B[49m\u001B[43m,\u001B[49m\u001B[43m \u001B[49m\u001B[43mmax_length\u001B[49m\u001B[38;5;241;43m=\u001B[39;49m\u001B[38;5;241;43m500\u001B[39;49m\u001B[43m,\u001B[49m\u001B[43m \u001B[49m\u001B[43mnum_return_sequences\u001B[49m\u001B[38;5;241;43m=\u001B[39;49m\u001B[38;5;241;43m1\u001B[39;49m\u001B[43m,\u001B[49m\u001B[43m \u001B[49m\u001B[43mdo_sample\u001B[49m\u001B[38;5;241;43m=\u001B[39;49m\u001B[38;5;28;43;01mTrue\u001B[39;49;00m\u001B[43m)\u001B[49m\n\u001B[0;32m     30\u001B[0m     generated_text \u001B[38;5;241m=\u001B[39m tokenizer\u001B[38;5;241m.\u001B[39mdecode(outputs[\u001B[38;5;241m0\u001B[39m], skip_special_tokens\u001B[38;5;241m=\u001B[39m\u001B[38;5;28;01mTrue\u001B[39;00m)\n\u001B[0;32m     31\u001B[0m \u001B[38;5;28;01mcase\u001B[39;00m\u001B[38;5;250m \u001B[39m\u001B[38;5;28;01m_\u001B[39;00m:\n",
      "File \u001B[1;32m~\\anaconda3\\envs\\uitest\\Lib\\site-packages\\torch\\utils\\_contextlib.py:115\u001B[0m, in \u001B[0;36mcontext_decorator.<locals>.decorate_context\u001B[1;34m(*args, **kwargs)\u001B[0m\n\u001B[0;32m    112\u001B[0m \u001B[38;5;129m@functools\u001B[39m\u001B[38;5;241m.\u001B[39mwraps(func)\n\u001B[0;32m    113\u001B[0m \u001B[38;5;28;01mdef\u001B[39;00m \u001B[38;5;21mdecorate_context\u001B[39m(\u001B[38;5;241m*\u001B[39margs, \u001B[38;5;241m*\u001B[39m\u001B[38;5;241m*\u001B[39mkwargs):\n\u001B[0;32m    114\u001B[0m     \u001B[38;5;28;01mwith\u001B[39;00m ctx_factory():\n\u001B[1;32m--> 115\u001B[0m         \u001B[38;5;28;01mreturn\u001B[39;00m \u001B[43mfunc\u001B[49m\u001B[43m(\u001B[49m\u001B[38;5;241;43m*\u001B[39;49m\u001B[43margs\u001B[49m\u001B[43m,\u001B[49m\u001B[43m \u001B[49m\u001B[38;5;241;43m*\u001B[39;49m\u001B[38;5;241;43m*\u001B[39;49m\u001B[43mkwargs\u001B[49m\u001B[43m)\u001B[49m\n",
      "File \u001B[1;32m~\\anaconda3\\envs\\uitest\\Lib\\site-packages\\transformers\\generation\\utils.py:1648\u001B[0m, in \u001B[0;36mGenerationMixin.generate\u001B[1;34m(self, inputs, generation_config, logits_processor, stopping_criteria, prefix_allowed_tokens_fn, synced_gpus, assistant_model, streamer, negative_prompt_ids, negative_prompt_attention_mask, **kwargs)\u001B[0m\n\u001B[0;32m   1642\u001B[0m             \u001B[38;5;28;01mraise\u001B[39;00m \u001B[38;5;167;01mValueError\u001B[39;00m(\n\u001B[0;32m   1643\u001B[0m                 \u001B[38;5;124m\"\u001B[39m\u001B[38;5;124mThis model does not support `cache_implementation=\u001B[39m\u001B[38;5;124m'\u001B[39m\u001B[38;5;124mstatic\u001B[39m\u001B[38;5;124m'\u001B[39m\u001B[38;5;124m`. Please check the following \u001B[39m\u001B[38;5;124m\"\u001B[39m\n\u001B[0;32m   1644\u001B[0m                 \u001B[38;5;124m\"\u001B[39m\u001B[38;5;124missue: https://github.com/huggingface/transformers/issues/28981\u001B[39m\u001B[38;5;124m\"\u001B[39m\n\u001B[0;32m   1645\u001B[0m             )\n\u001B[0;32m   1646\u001B[0m         model_kwargs[\u001B[38;5;124m\"\u001B[39m\u001B[38;5;124mpast_key_values\u001B[39m\u001B[38;5;124m\"\u001B[39m] \u001B[38;5;241m=\u001B[39m \u001B[38;5;28mself\u001B[39m\u001B[38;5;241m.\u001B[39m_get_static_cache(batch_size, generation_config\u001B[38;5;241m.\u001B[39mmax_length)\n\u001B[1;32m-> 1648\u001B[0m \u001B[38;5;28;43mself\u001B[39;49m\u001B[38;5;241;43m.\u001B[39;49m\u001B[43m_validate_generated_length\u001B[49m\u001B[43m(\u001B[49m\u001B[43mgeneration_config\u001B[49m\u001B[43m,\u001B[49m\u001B[43m \u001B[49m\u001B[43minput_ids_length\u001B[49m\u001B[43m,\u001B[49m\u001B[43m \u001B[49m\u001B[43mhas_default_max_length\u001B[49m\u001B[43m)\u001B[49m\n\u001B[0;32m   1650\u001B[0m \u001B[38;5;66;03m# 7. determine generation mode\u001B[39;00m\n\u001B[0;32m   1651\u001B[0m generation_mode \u001B[38;5;241m=\u001B[39m generation_config\u001B[38;5;241m.\u001B[39mget_generation_mode(assistant_model)\n",
      "File \u001B[1;32m~\\anaconda3\\envs\\uitest\\Lib\\site-packages\\transformers\\generation\\utils.py:1176\u001B[0m, in \u001B[0;36mGenerationMixin._validate_generated_length\u001B[1;34m(self, generation_config, input_ids_length, has_default_max_length)\u001B[0m\n\u001B[0;32m   1174\u001B[0m \u001B[38;5;28;01mif\u001B[39;00m input_ids_length \u001B[38;5;241m>\u001B[39m\u001B[38;5;241m=\u001B[39m generation_config\u001B[38;5;241m.\u001B[39mmax_length:\n\u001B[0;32m   1175\u001B[0m     input_ids_string \u001B[38;5;241m=\u001B[39m \u001B[38;5;124m\"\u001B[39m\u001B[38;5;124mdecoder_input_ids\u001B[39m\u001B[38;5;124m\"\u001B[39m \u001B[38;5;28;01mif\u001B[39;00m \u001B[38;5;28mself\u001B[39m\u001B[38;5;241m.\u001B[39mconfig\u001B[38;5;241m.\u001B[39mis_encoder_decoder \u001B[38;5;28;01melse\u001B[39;00m \u001B[38;5;124m\"\u001B[39m\u001B[38;5;124minput_ids\u001B[39m\u001B[38;5;124m\"\u001B[39m\n\u001B[1;32m-> 1176\u001B[0m     \u001B[38;5;28;01mraise\u001B[39;00m \u001B[38;5;167;01mValueError\u001B[39;00m(\n\u001B[0;32m   1177\u001B[0m         \u001B[38;5;124mf\u001B[39m\u001B[38;5;124m\"\u001B[39m\u001B[38;5;124mInput length of \u001B[39m\u001B[38;5;132;01m{\u001B[39;00minput_ids_string\u001B[38;5;132;01m}\u001B[39;00m\u001B[38;5;124m is \u001B[39m\u001B[38;5;132;01m{\u001B[39;00minput_ids_length\u001B[38;5;132;01m}\u001B[39;00m\u001B[38;5;124m, but `max_length` is set to\u001B[39m\u001B[38;5;124m\"\u001B[39m\n\u001B[0;32m   1178\u001B[0m         \u001B[38;5;124mf\u001B[39m\u001B[38;5;124m\"\u001B[39m\u001B[38;5;124m \u001B[39m\u001B[38;5;132;01m{\u001B[39;00mgeneration_config\u001B[38;5;241m.\u001B[39mmax_length\u001B[38;5;132;01m}\u001B[39;00m\u001B[38;5;124m. This can lead to unexpected behavior. You should consider\u001B[39m\u001B[38;5;124m\"\u001B[39m\n\u001B[0;32m   1179\u001B[0m         \u001B[38;5;124m\"\u001B[39m\u001B[38;5;124m increasing `max_length` or, better yet, setting `max_new_tokens`.\u001B[39m\u001B[38;5;124m\"\u001B[39m\n\u001B[0;32m   1180\u001B[0m     )\n\u001B[0;32m   1182\u001B[0m \u001B[38;5;66;03m# 2. Min length warnings due to unfeasible parameter combinations\u001B[39;00m\n\u001B[0;32m   1183\u001B[0m min_length_error_suffix \u001B[38;5;241m=\u001B[39m (\n\u001B[0;32m   1184\u001B[0m     \u001B[38;5;124m\"\u001B[39m\u001B[38;5;124m Generation will stop at the defined maximum length. You should decrease the minimum length and/or \u001B[39m\u001B[38;5;124m\"\u001B[39m\n\u001B[0;32m   1185\u001B[0m     \u001B[38;5;124m\"\u001B[39m\u001B[38;5;124mincrease the maximum length.\u001B[39m\u001B[38;5;124m\"\u001B[39m\n\u001B[0;32m   1186\u001B[0m )\n",
      "\u001B[1;31mValueError\u001B[0m: Input length of input_ids is 1024, but `max_length` is set to 500. This can lead to unexpected behavior. You should consider increasing `max_length` or, better yet, setting `max_new_tokens`."
     ]
    }
   ],
   "source": [
    "%%time\n",
    "# Generate UI test code\n",
    "prompt = main(**args)"
   ],
   "metadata": {
    "collapsed": false,
    "ExecuteTime": {
     "end_time": "2024-06-22T21:46:53.955246700Z",
     "start_time": "2024-06-22T21:46:50.817769300Z"
    }
   }
  },
  {
   "cell_type": "markdown",
   "source": [
    "# (Cluster) Pipeline: LLM UI Test Generation\n",
    "Using Llava 1.5 model"
   ],
   "metadata": {
    "collapsed": false
   }
  },
  {
   "cell_type": "markdown",
   "source": [
    "1. Extract relevant information from the database for a specific test to be predicted:"
   ],
   "metadata": {
    "collapsed": false
   }
  },
  {
   "cell_type": "code",
   "execution_count": 166,
   "outputs": [],
   "source": [
    "# Select test ID and database file\n",
    "db_file = '../data/raw/playwright_script.db'\n",
    "current_id = '1.4'"
   ],
   "metadata": {
    "collapsed": false,
    "ExecuteTime": {
     "end_time": "2024-06-22T21:46:54.048079800Z",
     "start_time": "2024-06-22T21:46:53.955246700Z"
    }
   }
  },
  {
   "cell_type": "code",
   "execution_count": 167,
   "outputs": [],
   "source": [
    "items = fetch_relevant_items(db_file, current_id)\n",
    "args = map_items_to_args(items)"
   ],
   "metadata": {
    "collapsed": false,
    "ExecuteTime": {
     "end_time": "2024-06-22T21:46:54.138265900Z",
     "start_time": "2024-06-22T21:46:54.048079800Z"
    }
   }
  },
  {
   "cell_type": "code",
   "execution_count": 168,
   "outputs": [
    {
     "data": {
      "text/plain": "[('1.3',\n  '[1.1] Öffne die Arbeitsmappe \"Übersicht Messstellen\" im Ordner \"Gewässergüte\". [1.2]  Öffnen der Tabellen-Sicht \"Messstellenliste\" über die Werkzeugliste der Arbeitsmappe. [1.3] Klicke auf den 3-Punkte-Button innerhalb der Tabellen-Sicht \"Messstelleninformationen\"',\n  '[1.3] Expected result: Kontextmenü erscheint mit den Optionen: - Duplizieren - In Arbeitsblatt duplizieren - Exportieren - Designer öffnen - Löschen.',\n  '.\\\\html\\\\1_3.html',\n  '.\\\\screenshot\\\\1_3.png',\n  '.\\\\test_script\\\\1_3.spec.ts'),\n ('1.4',\n  '[1.1] Öffne die Arbeitsmappe \"Übersicht Messstellen\" im Ordner \"Gewässergüte\". [1.2]  Öffnen der Tabellen-Sicht \"Messstellenliste\" über die Werkzeugliste der Arbeitsmappe. [1.3] Klicke auf den 3-Punkte-Button innerhalb der Tabellen-Sicht \"Messstelleninformationen\". [1.4] Klicke auf \"Duplizieren\".',\n  '[1.4] Expected result: Das Kontextmenü schließt sich. Die Sicht ist dupliziert. Die duplizierte Sicht erscheint neben der Original-Sicht. Beide Sichten teilen sich in gleichen Maßen den Platz der Original-Sicht.',\n  '.\\\\html\\\\1_4.html',\n  '.\\\\screenshot\\\\1_4.png',\n  '.\\\\test_script\\\\1_4.spec.ts')]"
     },
     "execution_count": 168,
     "metadata": {},
     "output_type": "execute_result"
    }
   ],
   "source": [
    "items"
   ],
   "metadata": {
    "collapsed": false,
    "ExecuteTime": {
     "end_time": "2024-06-22T21:46:54.224995800Z",
     "start_time": "2024-06-22T21:46:54.138265900Z"
    }
   }
  },
  {
   "cell_type": "code",
   "execution_count": 169,
   "outputs": [],
   "source": [
    "# To traverse folders in cluster change path\n",
    "args['image_path'] = args['image_path'].replace('\\\\', '/')"
   ],
   "metadata": {
    "collapsed": false,
    "ExecuteTime": {
     "end_time": "2024-06-22T21:46:54.317494600Z",
     "start_time": "2024-06-22T21:46:54.224995800Z"
    }
   }
  },
  {
   "cell_type": "code",
   "execution_count": 170,
   "outputs": [
    {
     "data": {
      "text/plain": "{'html_path': '.\\\\html\\\\1_3.html',\n 'image_path': './screenshot/1_3.png',\n 'precondition_path': '.\\\\test_script\\\\1_3.spec.ts',\n 'description': 'Klicke auf \"Duplizieren\".'}"
     },
     "execution_count": 170,
     "metadata": {},
     "output_type": "execute_result"
    }
   ],
   "source": [
    "args"
   ],
   "metadata": {
    "collapsed": false,
    "ExecuteTime": {
     "end_time": "2024-06-22T21:46:54.415459200Z",
     "start_time": "2024-06-22T21:46:54.317494600Z"
    }
   }
  },
  {
   "cell_type": "markdown",
   "source": [
    "2. Setup access to the cluster:\n",
    "\n",
    "Precondition:\n",
    "- Adjust the paths in src file with your specific student credentials\n",
    "- Make sure that playwright is installed on your local machine"
   ],
   "metadata": {
    "collapsed": false
   }
  },
  {
   "cell_type": "code",
   "execution_count": 171,
   "outputs": [
    {
     "ename": "NotImplementedError",
     "evalue": "",
     "output_type": "error",
     "traceback": [
      "\u001B[1;31m---------------------------------------------------------------------------\u001B[0m",
      "\u001B[1;31mNotImplementedError\u001B[0m                       Traceback (most recent call last)",
      "Cell \u001B[1;32mIn[171], line 2\u001B[0m\n\u001B[0;32m      1\u001B[0m access2cluster \u001B[38;5;241m=\u001B[39m Access2Cluster()\n\u001B[1;32m----> 2\u001B[0m \u001B[38;5;28;01mawait\u001B[39;00m access2cluster\u001B[38;5;241m.\u001B[39mlogin()\n",
      "File \u001B[1;32m~\\PycharmProjects\\cadenza-playwright-llm\\src\\llm\\access_2_cluster.py:22\u001B[0m, in \u001B[0;36mAccess2Cluster.login\u001B[1;34m(self)\u001B[0m\n\u001B[0;32m     21\u001B[0m \u001B[38;5;28;01masync\u001B[39;00m \u001B[38;5;28;01mdef\u001B[39;00m \u001B[38;5;21mlogin\u001B[39m(\u001B[38;5;28mself\u001B[39m):\n\u001B[1;32m---> 22\u001B[0m     playwright \u001B[38;5;241m=\u001B[39m \u001B[38;5;28;01mawait\u001B[39;00m \u001B[38;5;28mself\u001B[39m\u001B[38;5;241m.\u001B[39mplaywright_context_manager\u001B[38;5;241m.\u001B[39mstart()\n\u001B[0;32m     23\u001B[0m     \u001B[38;5;28mself\u001B[39m\u001B[38;5;241m.\u001B[39mbrowser \u001B[38;5;241m=\u001B[39m \u001B[38;5;28;01mawait\u001B[39;00m playwright\u001B[38;5;241m.\u001B[39mchromium\u001B[38;5;241m.\u001B[39mlaunch(headless\u001B[38;5;241m=\u001B[39m\u001B[38;5;28;01mFalse\u001B[39;00m)\n\u001B[0;32m     24\u001B[0m     \u001B[38;5;28mself\u001B[39m\u001B[38;5;241m.\u001B[39mpage \u001B[38;5;241m=\u001B[39m \u001B[38;5;28;01mawait\u001B[39;00m \u001B[38;5;28mself\u001B[39m\u001B[38;5;241m.\u001B[39mbrowser\u001B[38;5;241m.\u001B[39mnew_page()\n",
      "File \u001B[1;32m~\\anaconda3\\envs\\uitest\\Lib\\site-packages\\playwright\\async_api\\_context_manager.py:51\u001B[0m, in \u001B[0;36mPlaywrightContextManager.start\u001B[1;34m(self)\u001B[0m\n\u001B[0;32m     50\u001B[0m \u001B[38;5;28;01masync\u001B[39;00m \u001B[38;5;28;01mdef\u001B[39;00m \u001B[38;5;21mstart\u001B[39m(\u001B[38;5;28mself\u001B[39m) \u001B[38;5;241m-\u001B[39m\u001B[38;5;241m>\u001B[39m AsyncPlaywright:\n\u001B[1;32m---> 51\u001B[0m     \u001B[38;5;28;01mreturn\u001B[39;00m \u001B[38;5;28;01mawait\u001B[39;00m \u001B[38;5;28mself\u001B[39m\u001B[38;5;241m.\u001B[39m\u001B[38;5;21m__aenter__\u001B[39m()\n",
      "File \u001B[1;32m~\\anaconda3\\envs\\uitest\\Lib\\site-packages\\playwright\\async_api\\_context_manager.py:46\u001B[0m, in \u001B[0;36mPlaywrightContextManager.__aenter__\u001B[1;34m(self)\u001B[0m\n\u001B[0;32m     44\u001B[0m \u001B[38;5;28;01mif\u001B[39;00m \u001B[38;5;129;01mnot\u001B[39;00m playwright_future\u001B[38;5;241m.\u001B[39mdone():\n\u001B[0;32m     45\u001B[0m     playwright_future\u001B[38;5;241m.\u001B[39mcancel()\n\u001B[1;32m---> 46\u001B[0m playwright \u001B[38;5;241m=\u001B[39m AsyncPlaywright(\u001B[38;5;28;43mnext\u001B[39;49m\u001B[43m(\u001B[49m\u001B[38;5;28;43miter\u001B[39;49m\u001B[43m(\u001B[49m\u001B[43mdone\u001B[49m\u001B[43m)\u001B[49m\u001B[43m)\u001B[49m\u001B[38;5;241;43m.\u001B[39;49m\u001B[43mresult\u001B[49m\u001B[43m(\u001B[49m\u001B[43m)\u001B[49m)\n\u001B[0;32m     47\u001B[0m playwright\u001B[38;5;241m.\u001B[39mstop \u001B[38;5;241m=\u001B[39m \u001B[38;5;28mself\u001B[39m\u001B[38;5;241m.\u001B[39m\u001B[38;5;21m__aexit__\u001B[39m  \u001B[38;5;66;03m# type: ignore\u001B[39;00m\n\u001B[0;32m     48\u001B[0m \u001B[38;5;28;01mreturn\u001B[39;00m playwright\n",
      "File \u001B[1;32m~\\anaconda3\\envs\\uitest\\Lib\\site-packages\\playwright\\_impl\\_transport.py:120\u001B[0m, in \u001B[0;36mPipeTransport.connect\u001B[1;34m(self)\u001B[0m\n\u001B[0;32m    117\u001B[0m         startupinfo\u001B[38;5;241m.\u001B[39mwShowWindow \u001B[38;5;241m=\u001B[39m subprocess\u001B[38;5;241m.\u001B[39mSW_HIDE\n\u001B[0;32m    119\u001B[0m     executable_path, entrypoint_path \u001B[38;5;241m=\u001B[39m compute_driver_executable()\n\u001B[1;32m--> 120\u001B[0m     \u001B[38;5;28mself\u001B[39m\u001B[38;5;241m.\u001B[39m_proc \u001B[38;5;241m=\u001B[39m \u001B[38;5;28;01mawait\u001B[39;00m asyncio\u001B[38;5;241m.\u001B[39mcreate_subprocess_exec(\n\u001B[0;32m    121\u001B[0m         executable_path,\n\u001B[0;32m    122\u001B[0m         entrypoint_path,\n\u001B[0;32m    123\u001B[0m         \u001B[38;5;124m\"\u001B[39m\u001B[38;5;124mrun-driver\u001B[39m\u001B[38;5;124m\"\u001B[39m,\n\u001B[0;32m    124\u001B[0m         stdin\u001B[38;5;241m=\u001B[39masyncio\u001B[38;5;241m.\u001B[39msubprocess\u001B[38;5;241m.\u001B[39mPIPE,\n\u001B[0;32m    125\u001B[0m         stdout\u001B[38;5;241m=\u001B[39masyncio\u001B[38;5;241m.\u001B[39msubprocess\u001B[38;5;241m.\u001B[39mPIPE,\n\u001B[0;32m    126\u001B[0m         stderr\u001B[38;5;241m=\u001B[39m_get_stderr_fileno(),\n\u001B[0;32m    127\u001B[0m         limit\u001B[38;5;241m=\u001B[39m\u001B[38;5;241m32768\u001B[39m,\n\u001B[0;32m    128\u001B[0m         env\u001B[38;5;241m=\u001B[39menv,\n\u001B[0;32m    129\u001B[0m         startupinfo\u001B[38;5;241m=\u001B[39mstartupinfo,\n\u001B[0;32m    130\u001B[0m     )\n\u001B[0;32m    131\u001B[0m \u001B[38;5;28;01mexcept\u001B[39;00m \u001B[38;5;167;01mException\u001B[39;00m \u001B[38;5;28;01mas\u001B[39;00m exc:\n\u001B[0;32m    132\u001B[0m     \u001B[38;5;28mself\u001B[39m\u001B[38;5;241m.\u001B[39mon_error_future\u001B[38;5;241m.\u001B[39mset_exception(exc)\n",
      "File \u001B[1;32m~\\anaconda3\\envs\\uitest\\Lib\\asyncio\\subprocess.py:224\u001B[0m, in \u001B[0;36mcreate_subprocess_exec\u001B[1;34m(program, stdin, stdout, stderr, limit, *args, **kwds)\u001B[0m\n\u001B[0;32m    221\u001B[0m loop \u001B[38;5;241m=\u001B[39m events\u001B[38;5;241m.\u001B[39mget_running_loop()\n\u001B[0;32m    222\u001B[0m protocol_factory \u001B[38;5;241m=\u001B[39m \u001B[38;5;28;01mlambda\u001B[39;00m: SubprocessStreamProtocol(limit\u001B[38;5;241m=\u001B[39mlimit,\n\u001B[0;32m    223\u001B[0m                                                     loop\u001B[38;5;241m=\u001B[39mloop)\n\u001B[1;32m--> 224\u001B[0m transport, protocol \u001B[38;5;241m=\u001B[39m \u001B[38;5;28;01mawait\u001B[39;00m loop\u001B[38;5;241m.\u001B[39msubprocess_exec(\n\u001B[0;32m    225\u001B[0m     protocol_factory,\n\u001B[0;32m    226\u001B[0m     program, \u001B[38;5;241m*\u001B[39margs,\n\u001B[0;32m    227\u001B[0m     stdin\u001B[38;5;241m=\u001B[39mstdin, stdout\u001B[38;5;241m=\u001B[39mstdout,\n\u001B[0;32m    228\u001B[0m     stderr\u001B[38;5;241m=\u001B[39mstderr, \u001B[38;5;241m*\u001B[39m\u001B[38;5;241m*\u001B[39mkwds)\n\u001B[0;32m    229\u001B[0m \u001B[38;5;28;01mreturn\u001B[39;00m Process(transport, protocol, loop)\n",
      "File \u001B[1;32m~\\anaconda3\\envs\\uitest\\Lib\\asyncio\\base_events.py:1744\u001B[0m, in \u001B[0;36mBaseEventLoop.subprocess_exec\u001B[1;34m(self, protocol_factory, program, stdin, stdout, stderr, universal_newlines, shell, bufsize, encoding, errors, text, *args, **kwargs)\u001B[0m\n\u001B[0;32m   1742\u001B[0m     debug_log \u001B[38;5;241m=\u001B[39m \u001B[38;5;124mf\u001B[39m\u001B[38;5;124m'\u001B[39m\u001B[38;5;124mexecute program \u001B[39m\u001B[38;5;132;01m{\u001B[39;00mprogram\u001B[38;5;132;01m!r}\u001B[39;00m\u001B[38;5;124m'\u001B[39m\n\u001B[0;32m   1743\u001B[0m     \u001B[38;5;28mself\u001B[39m\u001B[38;5;241m.\u001B[39m_log_subprocess(debug_log, stdin, stdout, stderr)\n\u001B[1;32m-> 1744\u001B[0m transport \u001B[38;5;241m=\u001B[39m \u001B[38;5;28;01mawait\u001B[39;00m \u001B[38;5;28mself\u001B[39m\u001B[38;5;241m.\u001B[39m_make_subprocess_transport(\n\u001B[0;32m   1745\u001B[0m     protocol, popen_args, \u001B[38;5;28;01mFalse\u001B[39;00m, stdin, stdout, stderr,\n\u001B[0;32m   1746\u001B[0m     bufsize, \u001B[38;5;241m*\u001B[39m\u001B[38;5;241m*\u001B[39mkwargs)\n\u001B[0;32m   1747\u001B[0m \u001B[38;5;28;01mif\u001B[39;00m \u001B[38;5;28mself\u001B[39m\u001B[38;5;241m.\u001B[39m_debug \u001B[38;5;129;01mand\u001B[39;00m debug_log \u001B[38;5;129;01mis\u001B[39;00m \u001B[38;5;129;01mnot\u001B[39;00m \u001B[38;5;28;01mNone\u001B[39;00m:\n\u001B[0;32m   1748\u001B[0m     logger\u001B[38;5;241m.\u001B[39minfo(\u001B[38;5;124m'\u001B[39m\u001B[38;5;132;01m%s\u001B[39;00m\u001B[38;5;124m: \u001B[39m\u001B[38;5;132;01m%r\u001B[39;00m\u001B[38;5;124m'\u001B[39m, debug_log, transport)\n",
      "File \u001B[1;32m~\\anaconda3\\envs\\uitest\\Lib\\asyncio\\base_events.py:524\u001B[0m, in \u001B[0;36mBaseEventLoop._make_subprocess_transport\u001B[1;34m(self, protocol, args, shell, stdin, stdout, stderr, bufsize, extra, **kwargs)\u001B[0m\n\u001B[0;32m    520\u001B[0m \u001B[38;5;28;01masync\u001B[39;00m \u001B[38;5;28;01mdef\u001B[39;00m \u001B[38;5;21m_make_subprocess_transport\u001B[39m(\u001B[38;5;28mself\u001B[39m, protocol, args, shell,\n\u001B[0;32m    521\u001B[0m                                      stdin, stdout, stderr, bufsize,\n\u001B[0;32m    522\u001B[0m                                      extra\u001B[38;5;241m=\u001B[39m\u001B[38;5;28;01mNone\u001B[39;00m, \u001B[38;5;241m*\u001B[39m\u001B[38;5;241m*\u001B[39mkwargs):\n\u001B[0;32m    523\u001B[0m \u001B[38;5;250m    \u001B[39m\u001B[38;5;124;03m\"\"\"Create subprocess transport.\"\"\"\u001B[39;00m\n\u001B[1;32m--> 524\u001B[0m     \u001B[38;5;28;01mraise\u001B[39;00m \u001B[38;5;167;01mNotImplementedError\u001B[39;00m\n",
      "\u001B[1;31mNotImplementedError\u001B[0m: "
     ]
    }
   ],
   "source": [
    "access2cluster = Access2Cluster()\n",
    "await access2cluster.login()"
   ],
   "metadata": {
    "collapsed": false,
    "ExecuteTime": {
     "end_time": "2024-06-22T21:46:54.598882100Z",
     "start_time": "2024-06-22T21:46:54.415459200Z"
    }
   }
  },
  {
   "cell_type": "markdown",
   "source": [
    "3. Init the Llava 1.5 model:"
   ],
   "metadata": {
    "collapsed": false
   }
  },
  {
   "cell_type": "code",
   "execution_count": null,
   "outputs": [],
   "source": [
    "await access2cluster.start_llm()\n",
    "args['model'] = access2cluster"
   ],
   "metadata": {
    "collapsed": false
   }
  },
  {
   "cell_type": "code",
   "execution_count": null,
   "outputs": [],
   "source": [
    "args"
   ],
   "metadata": {
    "collapsed": false
   }
  },
  {
   "cell_type": "markdown",
   "source": [
    "4. Run the main function to sum it up with the extracted information, we will get the generated UI test code for the test with id 1.4. Prompt engineering is implemented in the main function."
   ],
   "metadata": {
    "collapsed": false
   }
  },
  {
   "cell_type": "code",
   "execution_count": null,
   "outputs": [],
   "source": [
    "await main_cluster_multimodal_model(**args)"
   ],
   "metadata": {
    "collapsed": false
   }
  },
  {
   "cell_type": "markdown",
   "source": [
    "# More Developing: Using modular source code\n",
    "Possible to update function content in the following files, but no RENAMING or DELETING or changing function signature!:\n",
    "* src/main.py: Main function for UI test generation.\n",
    "    * Change constant Max length (max length of the input text for the model)\n",
    "* src/ui_tests/test_generation.py: Generate the UI test code using the language model.\n",
    "    * Expand model selection: Just add new case statements for different models with its code.\n",
    "* src/data/html_processing.py: Extract relevant information from the HTML file.\n",
    "* src/data/image_processing.py: Extract relevant information from the image.\n",
    "* src/data/python_processing.py: Parse the given playwright test code for previous step as a precondition.\n"
   ],
   "metadata": {
    "collapsed": false
   }
  }
 ],
 "metadata": {
  "kernelspec": {
   "display_name": "Python 3",
   "language": "python",
   "name": "python3"
  },
  "language_info": {
   "codemirror_mode": {
    "name": "ipython",
    "version": 2
   },
   "file_extension": ".py",
   "mimetype": "text/x-python",
   "name": "python",
   "nbconvert_exporter": "python",
   "pygments_lexer": "ipython2",
   "version": "2.7.6"
  }
 },
 "nbformat": 4,
 "nbformat_minor": 0
}
