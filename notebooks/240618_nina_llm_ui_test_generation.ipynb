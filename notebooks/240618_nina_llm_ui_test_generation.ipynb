{
 "cells": [
  {
   "cell_type": "code",
   "execution_count": 2,
   "outputs": [],
   "source": [
    "%load_ext autoreload\n",
    "%autoreload 2"
   ],
   "metadata": {
    "collapsed": false,
    "ExecuteTime": {
     "end_time": "2024-06-18T21:14:27.584084800Z",
     "start_time": "2024-06-18T21:14:27.473174400Z"
    }
   }
  },
  {
   "cell_type": "code",
   "execution_count": 3,
   "outputs": [],
   "source": [
    "import sqlite3\n",
    "\n",
    "from src.main import main"
   ],
   "metadata": {
    "collapsed": false,
    "ExecuteTime": {
     "end_time": "2024-06-18T21:14:27.584084800Z",
     "start_time": "2024-06-18T21:14:27.536818500Z"
    }
   }
  },
  {
   "cell_type": "markdown",
   "source": [
    "# Approach\n",
    "\n",
    "Use a Pre-trained LLM:\n",
    "* GPT-3, GPT-3.5, or a lighter version like GPT-2 (well-suited for text generation tasks)\n",
    "* Fine-tuning or adapting for specific tasks later possible\n",
    "\n",
    "Steps:\n",
    "1. HTML Processing: Extract relevant information from the HTML file.\n",
    "    * Use BeautifulSoup or lxml in Python to parse and extract information from the HTML file.\n",
    "2. Image Processing: Extract relevant information from the image:\n",
    "    * Use image-to-text models like Tesseracts or pytesseract (OCR libraries) to extract text from the image.\n",
    "    * Use OpenCV or PIL (Pillow) in Python to process the image and extract relevant information.\n",
    "3. Summarize the image and HTML information and the prompt from the playwright test code using T5 model.\n",
    "4. Python Processing: Parse the given playwright test code for previous step as a precondition.\n",
    "5. Combine the extracted information with the prompt:\n",
    "    * Combine the extracted information from the HTML and the image with the prompt for the language model.\n",
    "6. Pass the combined input to the language model for generating the UI test code.\n",
    "\n",
    "--> Run locally via notebook or script using the main.py"
   ],
   "metadata": {
    "collapsed": false
   }
  },
  {
   "cell_type": "markdown",
   "source": [
    "# Load Data"
   ],
   "metadata": {
    "collapsed": false
   }
  },
  {
   "cell_type": "code",
   "execution_count": 4,
   "outputs": [
    {
     "name": "stdout",
     "output_type": "stream",
     "text": [
      "There are 100 data.\n"
     ]
    }
   ],
   "source": [
    "# Connect to the database\n",
    "conn = sqlite3.connect('../data/raw/playwright_script.db')\n",
    "cursor = conn.cursor()\n",
    "\n",
    "res = cursor.execute(\"SELECT * FROM tests\")\n",
    "items = res.fetchall()\n",
    "\n",
    "print(\"There are {} data.\".format(len(items)))"
   ],
   "metadata": {
    "collapsed": false,
    "ExecuteTime": {
     "end_time": "2024-06-18T21:14:27.599938400Z",
     "start_time": "2024-06-18T21:14:27.569630300Z"
    }
   }
  },
  {
   "cell_type": "code",
   "execution_count": 5,
   "outputs": [
    {
     "data": {
      "text/plain": "('1.1',\n '[1.1] Öffne die Arbeitsmappe \"Übersicht Messstellen\" im Ordner \"Gewässergüte\".',\n '[1.1] Expected result: Die Arbeitsmappe wird geöffnet, der Analysekontext ist nicht sichtbar.',\n '.\\\\html\\\\1_1.html',\n '.\\\\screenshot\\\\1_1.png',\n '.\\\\test_script\\\\1_1.spec.ts')"
     },
     "execution_count": 5,
     "metadata": {},
     "output_type": "execute_result"
    }
   ],
   "source": [
    "# Check the first item\n",
    "items[0]"
   ],
   "metadata": {
    "collapsed": false,
    "ExecuteTime": {
     "end_time": "2024-06-18T21:14:27.633468200Z",
     "start_time": "2024-06-18T21:14:27.599938400Z"
    }
   }
  },
  {
   "cell_type": "markdown",
   "source": [
    "# Run UI Test Generation locally (smaller model GPT-2)"
   ],
   "metadata": {
    "collapsed": false
   }
  },
  {
   "cell_type": "code",
   "execution_count": 6,
   "outputs": [],
   "source": [
    "def get_previous_id(id):\n",
    "    test, step = map(int, id.split('.'))\n",
    "    if step > 1:\n",
    "        previous_id = f\"{test}.{step - 1}\"\n",
    "    else:\n",
    "        print(f\"Test {test} has no more previous step. No context available.\")\n",
    "\n",
    "    return previous_id"
   ],
   "metadata": {
    "collapsed": false,
    "ExecuteTime": {
     "end_time": "2024-06-18T21:14:27.660764500Z",
     "start_time": "2024-06-18T21:14:27.633468200Z"
    }
   }
  },
  {
   "cell_type": "code",
   "execution_count": 7,
   "outputs": [],
   "source": [
    "def fetch_relevant_items(db_file, current_id):\n",
    "    # Connect to SQLite database\n",
    "    conn = sqlite3.connect(db_file)\n",
    "    cursor = conn.cursor()\n",
    "\n",
    "    # Get the previous ID\n",
    "    previous_id = get_previous_id(current_id)\n",
    "\n",
    "    # Prepare the SQL query to retrieve the desired rows\n",
    "    query = 'SELECT * FROM tests WHERE id IN (?, ?)'\n",
    "    cursor.execute(query, (current_id, previous_id))\n",
    "\n",
    "    # Fetch all matching rows\n",
    "    items = cursor.fetchall()\n",
    "\n",
    "    # Close the connection\n",
    "    conn.close()\n",
    "\n",
    "    return items"
   ],
   "metadata": {
    "collapsed": false,
    "ExecuteTime": {
     "end_time": "2024-06-18T21:14:27.717786500Z",
     "start_time": "2024-06-18T21:14:27.660764500Z"
    }
   }
  },
  {
   "cell_type": "code",
   "execution_count": 8,
   "outputs": [],
   "source": [
    "def map_items_to_args(items):\n",
    "    # The file paths from the test x-1 are used as context\n",
    "    html_path = items[0][3]\n",
    "    image_path = items[0][4]\n",
    "    precondition_path = items[0][5]\n",
    "    # The last step of the text x is used as prompt\n",
    "    steps = items[1][1].split(']')\n",
    "    prompt = steps[-1].strip()\n",
    "\n",
    "    return {\"html_path\": html_path,\n",
    "            \"image_path\": image_path,\n",
    "            \"precondition_path\": precondition_path,\n",
    "            \"prompt\": prompt}"
   ],
   "metadata": {
    "collapsed": false,
    "ExecuteTime": {
     "end_time": "2024-06-18T21:14:27.717786500Z",
     "start_time": "2024-06-18T21:14:27.691714600Z"
    }
   }
  },
  {
   "cell_type": "markdown",
   "source": [
    "Now we can run the main function with the extracted information, we will get the generated UI test code for the test with id 1.4."
   ],
   "metadata": {
    "collapsed": false
   }
  },
  {
   "cell_type": "code",
   "execution_count": 9,
   "outputs": [],
   "source": [
    "# Select test ID and database file\n",
    "db_file = '../data/raw/playwright_script.db'\n",
    "current_id = '1.4'"
   ],
   "metadata": {
    "collapsed": false,
    "ExecuteTime": {
     "end_time": "2024-06-18T21:14:27.774607800Z",
     "start_time": "2024-06-18T21:14:27.717786500Z"
    }
   }
  },
  {
   "cell_type": "code",
   "execution_count": null,
   "outputs": [],
   "source": [
    "items = fetch_relevant_items(db_file, current_id)\n",
    "args = map_items_to_args(items)"
   ],
   "metadata": {
    "collapsed": false
   }
  },
  {
   "cell_type": "code",
   "execution_count": 29,
   "outputs": [
    {
     "name": "stdout",
     "output_type": "stream",
     "text": [
      "2024-06-19 00:41:34 [\u001B[34msrc.main:24\u001B[0m] [\u001B[32mINFO\u001B[0m] >>>> Loading context...\u001B[0m\n",
      "2024-06-19 00:41:34 [\u001B[34msrc.data.html_processor:27\u001B[0m] [DEBUG\u001B[0m] >>>> HTML content parsed successfully. - Lines of Code: 40\u001B[0m\n",
      "2024-06-19 00:41:35 [\u001B[34msrc.data.image_processor:26\u001B[0m] [DEBUG\u001B[0m] >>>> Text extracted from image successfully. - Characters: 103)\u001B[0m\n",
      "2024-06-19 00:41:35 [\u001B[34msrc.data.python_processor:15\u001B[0m] [DEBUG\u001B[0m] >>>> Python code parsed successfully. - Lines of Code: 17)\u001B[0m\n",
      "2024-06-19 00:41:35 [\u001B[34msrc.main:32\u001B[0m] [\u001B[32mINFO\u001B[0m] >>>> Context loaded successfully.\u001B[0m\n",
      "2024-06-19 00:41:35 [\u001B[34msrc.main:34\u001B[0m] [\u001B[32mINFO\u001B[0m] >>>> Generating test case...\u001B[0m\n"
     ]
    },
    {
     "name": "stderr",
     "output_type": "stream",
     "text": [
      "The attention mask and the pad token id were not set. As a consequence, you may observe unexpected behavior. Please pass your input's `attention_mask` to obtain reliable results.\n",
      "Setting `pad_token_id` to `eos_token_id`:50256 for open-end generation.\n"
     ]
    },
    {
     "name": "stdout",
     "output_type": "stream",
     "text": [
      "2024-06-19 00:41:40 [\u001B[34msrc.ui_tests.test_generation:36\u001B[0m] [DEBUG\u001B[0m] >>>> Generated code saved to './pred_test_script/1_4.pred.py'\u001B[0m\n",
      "2024-06-19 00:41:40 [\u001B[34msrc.main:41\u001B[0m] [\u001B[32mINFO\u001B[0m] >>>> Test case generated for 1_4.\u001B[0m\n",
      "CPU times: total: 2.36 s\n",
      "Wall time: 6.41 s\n"
     ]
    }
   ],
   "source": [
    "%%time\n",
    "main(**args)"
   ],
   "metadata": {
    "collapsed": false,
    "ExecuteTime": {
     "end_time": "2024-06-18T22:41:40.675878400Z",
     "start_time": "2024-06-18T22:41:34.079972700Z"
    }
   }
  },
  {
   "cell_type": "markdown",
   "source": [
    "# More Developing: Using modular source code\n",
    "Possible to update function content in the following files, but no RENAMING or DELETING or changing function signature!:\n",
    "* src/main.py: Main function for UI test generation.\n",
    "    * Change constant Max length (max length of the input text for the model)\n",
    "* src/ui_tests/test_generation.py: Generate the UI test code using the language model.\n",
    "    * Expand model selection: Just add new case statements for different models with its code.\n",
    "* src/data/html_processing.py: Extract relevant information from the HTML file.\n",
    "* src/data/image_processing.py: Extract relevant information from the image.\n",
    "* src/data/python_processing.py: Parse the given playwright test code for previous step as a precondition.\n"
   ],
   "metadata": {
    "collapsed": false
   }
  }
 ],
 "metadata": {
  "kernelspec": {
   "display_name": "Python 3",
   "language": "python",
   "name": "python3"
  },
  "language_info": {
   "codemirror_mode": {
    "name": "ipython",
    "version": 2
   },
   "file_extension": ".py",
   "mimetype": "text/x-python",
   "name": "python",
   "nbconvert_exporter": "python",
   "pygments_lexer": "ipython2",
   "version": "2.7.6"
  }
 },
 "nbformat": 4,
 "nbformat_minor": 0
}
