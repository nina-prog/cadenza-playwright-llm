{
 "cells": [
  {
   "cell_type": "code",
   "execution_count": 29,
   "outputs": [
    {
     "name": "stdout",
     "output_type": "stream",
     "text": [
      "The autoreload extension is already loaded. To reload it, use:\n",
      "  %reload_ext autoreload\n"
     ]
    },
    {
     "name": "stderr",
     "output_type": "stream",
     "text": [
      "[autoreload of src.main failed: Traceback (most recent call last):\n",
      "  File \"C:\\Users\\merti\\anaconda3\\envs\\uitest\\Lib\\site-packages\\IPython\\extensions\\autoreload.py\", line 276, in check\n",
      "    superreload(m, reload, self.old_objects)\n",
      "  File \"C:\\Users\\merti\\anaconda3\\envs\\uitest\\Lib\\site-packages\\IPython\\extensions\\autoreload.py\", line 475, in superreload\n",
      "    module = reload(module)\n",
      "             ^^^^^^^^^^^^^^\n",
      "  File \"C:\\Users\\merti\\anaconda3\\envs\\uitest\\Lib\\importlib\\__init__.py\", line 131, in reload\n",
      "    _bootstrap._exec(spec, module)\n",
      "  File \"<frozen importlib._bootstrap>\", line 866, in _exec\n",
      "  File \"<frozen importlib._bootstrap_external>\", line 995, in exec_module\n",
      "  File \"<frozen importlib._bootstrap>\", line 488, in _call_with_frames_removed\n",
      "  File \"C:\\Users\\merti\\PycharmProjects\\cadenza-playwright-llm\\src\\main.py\", line 5, in <module>\n",
      "    from src.ui_tests.test_generation import generate_code, generate_code_on_cluster\n",
      "ImportError: cannot import name 'generate_code_on_cluster' from 'src.ui_tests.test_generation' (C:\\Users\\merti\\PycharmProjects\\cadenza-playwright-llm\\src\\ui_tests\\test_generation.py)\n",
      "]\n"
     ]
    }
   ],
   "source": [
    "%load_ext autoreload\n",
    "%autoreload 2"
   ],
   "metadata": {
    "collapsed": false,
    "ExecuteTime": {
     "end_time": "2024-07-02T10:02:23.348425600Z",
     "start_time": "2024-07-02T10:02:22.472290600Z"
    }
   }
  },
  {
   "cell_type": "code",
   "execution_count": 30,
   "outputs": [],
   "source": [
    "import sqlite3\n",
    "from bs4 import BeautifulSoup\n",
    "\n",
    "from src.main import main\n",
    "from src.utils.helpers import truncate_text, clean_string\n",
    "from src.utils.logger import setup_logger\n",
    "from src.llm.access_2_cluster import Access2Cluster\n",
    "from src.data.html_processor import extract_html_info\n",
    "\n",
    "logger = setup_logger(__name__, level='DEBUG') # Change to 'INFO' for less verbosity"
   ],
   "metadata": {
    "collapsed": false,
    "ExecuteTime": {
     "end_time": "2024-07-02T10:02:23.474068300Z",
     "start_time": "2024-07-02T10:02:23.301163600Z"
    }
   }
  },
  {
   "cell_type": "markdown",
   "source": [
    "# Load Data"
   ],
   "metadata": {
    "collapsed": false
   }
  },
  {
   "cell_type": "code",
   "execution_count": 31,
   "outputs": [
    {
     "name": "stdout",
     "output_type": "stream",
     "text": [
      "There are 100 data.\n"
     ]
    }
   ],
   "source": [
    "# Connect to the database\n",
    "conn = sqlite3.connect('../data/raw/playwright_script.db')\n",
    "cursor = conn.cursor()\n",
    "\n",
    "res = cursor.execute(\"SELECT * FROM tests\")\n",
    "items = res.fetchall()\n",
    "\n",
    "print(\"There are {} data.\".format(len(items)))"
   ],
   "metadata": {
    "collapsed": false,
    "ExecuteTime": {
     "end_time": "2024-07-02T10:02:23.563925Z",
     "start_time": "2024-07-02T10:02:23.422498200Z"
    }
   }
  },
  {
   "cell_type": "code",
   "execution_count": 32,
   "outputs": [
    {
     "data": {
      "text/plain": "('1.1',\n '[1.1] Öffne die Arbeitsmappe \"Übersicht Messstellen\" im Ordner \"Gewässergüte\".',\n '[1.1] Expected result: Die Arbeitsmappe wird geöffnet, der Analysekontext ist nicht sichtbar.',\n '.\\\\html\\\\1_1.html',\n '.\\\\screenshot\\\\1_1.png',\n '.\\\\test_script\\\\1_1.spec.ts')"
     },
     "execution_count": 32,
     "metadata": {},
     "output_type": "execute_result"
    }
   ],
   "source": [
    "# Check the first item\n",
    "items[0]"
   ],
   "metadata": {
    "collapsed": false,
    "ExecuteTime": {
     "end_time": "2024-07-02T10:02:23.696979400Z",
     "start_time": "2024-07-02T10:02:23.563925Z"
    }
   }
  },
  {
   "cell_type": "code",
   "execution_count": 33,
   "outputs": [
    {
     "data": {
      "text/plain": "('30.4',\n '[30.1] Öffne den Link \"Übersicht Messstellen\" im Ordner \"Gewässergüte\". [30.2] Öffne die Karten-Sicht \"Messstellenkarte\" über die Werkzeugliste der Arbeitsmappe. [30.3] Klicke auf den 3-Punkte-Button innerhalb der Karten-Sicht \"Messstellenlage und Wasserschutzgebiete eingefärbt nach Landkreisen\" [30.4] Klicke auf \"Duplizieren\"',\n '[30.4] Expected result: Das Kontextmenü schließt sich. Die Sicht ist dupliziert. Die duplizierte Sicht erscheint neben der Original-Sicht. Beide Sichten teilen sich in gleichen Maßen den Platz der Original-Sicht.',\n '.\\\\html\\\\30_4.html',\n '.\\\\screenshot\\\\30_4.png',\n '.\\\\test_script\\\\30_4.spec.ts')"
     },
     "execution_count": 33,
     "metadata": {},
     "output_type": "execute_result"
    }
   ],
   "source": [
    "items[-1]"
   ],
   "metadata": {
    "collapsed": false,
    "ExecuteTime": {
     "end_time": "2024-07-02T10:02:23.798750900Z",
     "start_time": "2024-07-02T10:02:23.696979400Z"
    }
   }
  },
  {
   "cell_type": "markdown",
   "source": [
    "# Approach\n",
    "\n",
    "Use a Pre-trained LLM:\n",
    "* GPT-3, GPT-3.5, or a lighter version like GPT-2 (well-suited for text generation tasks)\n",
    "* Fine-tuning or adapting for specific tasks later possible\n",
    "\n",
    "Steps:\n",
    "1. ✅ HTML Processing: Extract relevant information from the HTML file.\n",
    "    * Use **BeautifulSoup** or lxml in Python to parse and extract information from the HTML file. ➡️ see src.data.html_processor.py\n",
    "2. ✅ Image Processing: Extract relevant information from the image:\n",
    "    * Use image-to-text models like **Tesseracts** or pytesseract (OCR libraries) to extract text from the image. ➡️ see src.data.image_processor.py\n",
    "    * Use OpenCV or PIL (Pillow) in Python to process the image and extract relevant information.\n",
    "3. Summarize the image and HTML information and the prompt from the playwright test code using T5 model. (optional)\n",
    "4. ✅ Python Processing: Parse the given playwright test code for previous step as a precondition. ➡️ see src.data.python_processor.py\n",
    "5. ✅ Combine the extracted information from the HTML and the image with the prompt for the language model. ➡️ see src.data.input_combiner.py\n",
    "6. ✅ Pass the combined input to the language model for generating the UI test code. ➡️ see src.ui_tests.test_generation.py\n",
    "\n",
    "➡️ Run locally via notebook or script using the src.main.py"
   ],
   "metadata": {
    "collapsed": false
   }
  },
  {
   "cell_type": "markdown",
   "source": [
    "# HTML Processing"
   ],
   "metadata": {
    "collapsed": false
   }
  },
  {
   "cell_type": "code",
   "execution_count": 5,
   "outputs": [],
   "source": [
    "# load example file\n",
    "html_path = './html/0_1.html'"
   ],
   "metadata": {
    "collapsed": false,
    "ExecuteTime": {
     "end_time": "2024-07-02T08:00:51.421252200Z",
     "start_time": "2024-07-02T08:00:51.257640100Z"
    }
   }
  },
  {
   "cell_type": "markdown",
   "source": [
    "Option 1: Parse all HTML content by extracting the text from it using BeautifulSoup:"
   ],
   "metadata": {
    "collapsed": false
   }
  },
  {
   "cell_type": "code",
   "execution_count": 6,
   "outputs": [],
   "source": [
    "def parse_html(html_path: str, max_length: int = 200) -> str:\n",
    "    \"\"\" Parse the HTML content from a file using BeautifulSoup. It extracts the text content and truncates it to the given maximum length.\n",
    "\n",
    "    :param max_length: The maximum length of the text.\n",
    "    :param html_path: The path to the HTML file.\n",
    "    :return: The text content of the HTML file.\n",
    "    \"\"\"\n",
    "    # Load HTML content from a file\n",
    "    with open(html_path, \"r\") as file:\n",
    "        html_content = file.read()\n",
    "\n",
    "    # Parse the HTML content\n",
    "    soup = BeautifulSoup(html_content, 'html.parser')\n",
    "\n",
    "    # Get the text content\n",
    "    html_text = soup.get_text(strip=True)\n",
    "\n",
    "    # Truncate the text to the maximum length\n",
    "    html_text = truncate_text(html_text, max_length=max_length)\n",
    "\n",
    "    logger.debug(f\"HTML content parsed successfully. - Lines of Code: {len(html_text.splitlines())}\")\n",
    "\n",
    "    return html_text"
   ],
   "metadata": {
    "collapsed": false,
    "ExecuteTime": {
     "end_time": "2024-07-02T08:00:51.577439800Z",
     "start_time": "2024-07-02T08:00:51.415250200Z"
    }
   }
  },
  {
   "cell_type": "code",
   "execution_count": 7,
   "outputs": [
    {
     "name": "stdout",
     "output_type": "stream",
     "text": [
      "2024-07-02 10:00:52 [\u001B[34m__main__:21\u001B[0m] [DEBUG\u001B[0m] >>>> HTML content parsed successfully. - Lines of Code: 3\u001B[0m\n",
      "Startseite - disy CadenzaAchtung!Ihr Browser unterstÃ¼tzt kein JavaScript oder JavaScript wurde in Ihrem Browser deaktiviert.Bitte verwenden Sie einen Browser, der JavaScript unterstÃ¼tzt, oder aktivieren Sie JavaScript in Ihrem Browser. Ohne aktiviertes JavaScript ist die Anwendung nicht nutzbar.OfflineVerbinden â€¦Zum Navigatorbaum springenZum Hauptbereich springenStartseiteKartedisy Cadenza[{\"printName\":\"Lernmodule â€“ Tutorials und mehr\",\"url\":\"/help-learning/index.html\",\"targetFrame\":\"_blank\",\"id\":\"help\",\"type\":\"help\",\"webApplication\":false},{\"printName\":\"Hilfe\",\"url\":\"/help/\",\"targetFrame\":\"_blank\",\"id\":\"help\",\"type\":\"help\",\"webApplication\":false},{\"printName\":\"Hilfe zu Classic\",\"url\":\"/help-classic/\",\"targetFrame\":\"_blank\",\"id\":\"help-classic\",\"type\":\"help-classic\",\"webApplication\":false}]Admin[{\"printName\":\"Profil\",\"url\":\"/pages/access/userprofile.xhtml\",\"targetFrame\":\"_self\",\"id\":\"userprofile\",\"type\":\"userprofile\",\"webApplication\":false},{\"printName\":\"Abmelden\",\"url\":\"/logout\",\"targetFrame\":\"_self\",\"id\":\"logout\",\"type\":\"logout\",\"webApplication\":false}]Willkommen bei disy CadenzaEinen Einstieg finden Sie in der LayerauswahlLayerauswahlSchlagwortDiagrammKarteTabelleArbeitsmappeTutorialVerzeichnisTutorialVerzeichnisGewÃ¤ssergÃ¼teVerzeichnisAutomobileVerzeichnisErgÃ¤nzende GeodatenVerzeichnisZentrale DiensteVerzeichnisMeine ArbeitsmappenArbeitsmappeZugangsdaten[]Dashboarding. Reporting. Location Analytics.Ob besserer Ãœberblick, das Entdecken von ZusammenhÃ¤ngen oder das Teilen neu gewonnener Erkenntnisse â€“ mitdisy Cadenzaanalysieren, visualisieren und prÃ¤sentieren Sie Ihre Daten ganz leicht. Erleben Sie die vielfÃ¤ltigen MÃ¶glichkeiten intelligenter Datenanalyse:\n",
      "      Business & Location Intelligence bringt Ihre Daten zum Sprechen und Sie kÃ¶nnen damit viel bewegen.Steigen Sie mÃ¼helos ein mit den â€œErsten Schrittenâ€œ, unserenTutorials, denLernmodulenund derOnlinehilfe.\n",
      "      Aktuelle Informationen rund um disy Cadenza erhalten Sie auch auf unsererWebseit...\n"
     ]
    }
   ],
   "source": [
    "html_text = parse_html(html_path, max_length=2000)\n",
    "print(html_text)"
   ],
   "metadata": {
    "collapsed": false,
    "ExecuteTime": {
     "end_time": "2024-07-02T08:00:52.806306700Z",
     "start_time": "2024-07-02T08:00:51.579439700Z"
    }
   }
  },
  {
   "cell_type": "markdown",
   "source": [
    "Option 2: Extract only Elements (input fields, buttons, links) from the HTML file using BeautifulSoup."
   ],
   "metadata": {
    "collapsed": false
   }
  },
  {
   "cell_type": "code",
   "execution_count": 8,
   "outputs": [
    {
     "name": "stdout",
     "output_type": "stream",
     "text": [
      "Buttons: \n",
      "Button ids: navigationTrigger, workbook-create, RDxYr2vFytOijWjelj7P1, \n",
      "Button classes: button button-icon button-borderless, button workbook-create button-icon, button navigation-menu button-icon\n",
      "Inputs: \n",
      "Input classes: select2-search__field, \n",
      "Input aria-labels: Suchen nach …, \n",
      "Input types: search, \n",
      "Input placeholders: Suchen nach …\n",
      "Links: \n",
      "Link ids: skip-to-navigator, skip-to-content, home, \n",
      "Link classes: button button-primary, button button-primary, button button-icon button-borderless\n",
      "\n"
     ]
    }
   ],
   "source": [
    "html_elements = extract_html_info(html_path, concat_mod='all')\n",
    "print(html_elements)"
   ],
   "metadata": {
    "collapsed": false,
    "ExecuteTime": {
     "end_time": "2024-07-02T08:00:53.000831500Z",
     "start_time": "2024-07-02T08:00:52.805307100Z"
    }
   }
  },
  {
   "cell_type": "markdown",
   "source": [
    "# (Local) Pipeline: LLM UI Test Generation\n",
    "Using smaller GPT-2 model"
   ],
   "metadata": {
    "collapsed": false
   }
  },
  {
   "cell_type": "markdown",
   "source": [
    "1. First, extract the relevant information from the database for a specific test to be predicted:"
   ],
   "metadata": {
    "collapsed": false
   }
  },
  {
   "cell_type": "code",
   "execution_count": 9,
   "outputs": [],
   "source": [
    "def get_previous_id(id):\n",
    "    test, step = map(int, id.split('.'))\n",
    "    if step > 1:\n",
    "        previous_id = f\"{test}.{step - 1}\"\n",
    "    else:\n",
    "        print(f\"Test {test} has no more previous step. No context available.\")\n",
    "\n",
    "    return previous_id"
   ],
   "metadata": {
    "collapsed": false,
    "ExecuteTime": {
     "end_time": "2024-07-02T08:00:53.173538100Z",
     "start_time": "2024-07-02T08:00:52.998829900Z"
    }
   }
  },
  {
   "cell_type": "code",
   "execution_count": 10,
   "outputs": [],
   "source": [
    "def fetch_relevant_items(db_file, current_id):\n",
    "    # Connect to SQLite database\n",
    "    conn = sqlite3.connect(db_file)\n",
    "    cursor = conn.cursor()\n",
    "\n",
    "    # Get the previous ID\n",
    "    previous_id = get_previous_id(current_id)\n",
    "\n",
    "    # Prepare the SQL query to retrieve the desired rows\n",
    "    query = 'SELECT * FROM tests WHERE id IN (?, ?)'\n",
    "    cursor.execute(query, (current_id, previous_id))\n",
    "\n",
    "    # Fetch all matching rows\n",
    "    items = cursor.fetchall()\n",
    "\n",
    "    # Close the connection\n",
    "    conn.close()\n",
    "\n",
    "    return items"
   ],
   "metadata": {
    "collapsed": false,
    "ExecuteTime": {
     "end_time": "2024-07-02T08:00:53.344637500Z",
     "start_time": "2024-07-02T08:00:53.174536100Z"
    }
   }
  },
  {
   "cell_type": "code",
   "execution_count": 11,
   "outputs": [],
   "source": [
    "def map_items_to_args(items):\n",
    "    # The file paths from the test x-1 are used as context\n",
    "    html_path = items[0][3]\n",
    "    image_path = items[0][4]\n",
    "    precondition_path = items[0][5]\n",
    "    # The last step of the text x is used as prompt\n",
    "    steps = items[1][1].split(']')\n",
    "    description = steps[-1].strip()\n",
    "\n",
    "    return {\"html_path\": html_path,\n",
    "            \"image_path\": image_path,\n",
    "            \"precondition_path\": precondition_path,\n",
    "            \"description\": description}"
   ],
   "metadata": {
    "collapsed": false,
    "ExecuteTime": {
     "end_time": "2024-07-02T08:00:53.527448800Z",
     "start_time": "2024-07-02T08:00:53.347646400Z"
    }
   }
  },
  {
   "cell_type": "code",
   "execution_count": 12,
   "outputs": [],
   "source": [
    "# Select test ID and database file\n",
    "db_file = '../data/raw/playwright_script.db'\n",
    "current_id = '1.4'"
   ],
   "metadata": {
    "collapsed": false,
    "ExecuteTime": {
     "end_time": "2024-07-02T08:00:53.728384200Z",
     "start_time": "2024-07-02T08:00:53.529449400Z"
    }
   }
  },
  {
   "cell_type": "code",
   "execution_count": 13,
   "outputs": [],
   "source": [
    "# Get relevant data from the database\n",
    "items = fetch_relevant_items(db_file, current_id)\n",
    "args = map_items_to_args(items)"
   ],
   "metadata": {
    "collapsed": false,
    "ExecuteTime": {
     "end_time": "2024-07-02T08:00:53.897328600Z",
     "start_time": "2024-07-02T08:00:53.730380800Z"
    }
   }
  },
  {
   "cell_type": "code",
   "execution_count": 14,
   "outputs": [
    {
     "data": {
      "text/plain": "[('1.3',\n  '[1.1] Öffne die Arbeitsmappe \"Übersicht Messstellen\" im Ordner \"Gewässergüte\". [1.2]  Öffnen der Tabellen-Sicht \"Messstellenliste\" über die Werkzeugliste der Arbeitsmappe. [1.3] Klicke auf den 3-Punkte-Button innerhalb der Tabellen-Sicht \"Messstelleninformationen\"',\n  '[1.3] Expected result: Kontextmenü erscheint mit den Optionen: - Duplizieren - In Arbeitsblatt duplizieren - Exportieren - Designer öffnen - Löschen.',\n  '.\\\\html\\\\1_3.html',\n  '.\\\\screenshot\\\\1_3.png',\n  '.\\\\test_script\\\\1_3.spec.ts'),\n ('1.4',\n  '[1.1] Öffne die Arbeitsmappe \"Übersicht Messstellen\" im Ordner \"Gewässergüte\". [1.2]  Öffnen der Tabellen-Sicht \"Messstellenliste\" über die Werkzeugliste der Arbeitsmappe. [1.3] Klicke auf den 3-Punkte-Button innerhalb der Tabellen-Sicht \"Messstelleninformationen\". [1.4] Klicke auf \"Duplizieren\".',\n  '[1.4] Expected result: Das Kontextmenü schließt sich. Die Sicht ist dupliziert. Die duplizierte Sicht erscheint neben der Original-Sicht. Beide Sichten teilen sich in gleichen Maßen den Platz der Original-Sicht.',\n  '.\\\\html\\\\1_4.html',\n  '.\\\\screenshot\\\\1_4.png',\n  '.\\\\test_script\\\\1_4.spec.ts')]"
     },
     "execution_count": 14,
     "metadata": {},
     "output_type": "execute_result"
    }
   ],
   "source": [
    "items"
   ],
   "metadata": {
    "collapsed": false,
    "ExecuteTime": {
     "end_time": "2024-07-02T08:00:54.086361100Z",
     "start_time": "2024-07-02T08:00:53.901330200Z"
    }
   }
  },
  {
   "cell_type": "code",
   "execution_count": 15,
   "outputs": [
    {
     "data": {
      "text/plain": "{'html_path': '.\\\\html\\\\1_3.html',\n 'image_path': '.\\\\screenshot\\\\1_3.png',\n 'precondition_path': '.\\\\test_script\\\\1_3.spec.ts',\n 'description': 'Klicke auf \"Duplizieren\".'}"
     },
     "execution_count": 15,
     "metadata": {},
     "output_type": "execute_result"
    }
   ],
   "source": [
    "args"
   ],
   "metadata": {
    "collapsed": false,
    "ExecuteTime": {
     "end_time": "2024-07-02T08:00:54.262631500Z",
     "start_time": "2024-07-02T08:00:54.084352300Z"
    }
   }
  },
  {
   "cell_type": "markdown",
   "source": [
    "2. Now we can run the main function to sum it up with the extracted information, we will get the generated UI test code for the test with id 1.4. Prompt engineering is implemented in the main function."
   ],
   "metadata": {
    "collapsed": false
   }
  },
  {
   "cell_type": "code",
   "execution_count": 28,
   "outputs": [
    {
     "name": "stdout",
     "output_type": "stream",
     "text": [
      "2024-07-02 10:31:59 [\u001B[34msrc.main:27\u001B[0m] [\u001B[32mINFO\u001B[0m] >>>> Loading context...\u001B[0m\n",
      "2024-07-02 10:32:01 [\u001B[34msrc.data.image_processor:27\u001B[0m] [DEBUG\u001B[0m] >>>> Text extracted from image successfully. - Characters: 303\u001B[0m\n",
      "2024-07-02 10:32:01 [\u001B[34msrc.data.code_processor:15\u001B[0m] [DEBUG\u001B[0m] >>>> Code parsed successfully. - Lines of Code: 17\u001B[0m\n",
      "2024-07-02 10:32:01 [\u001B[34msrc.main:31\u001B[0m] [\u001B[32mINFO\u001B[0m] >>>> Context loaded successfully.\u001B[0m\n",
      "2024-07-02 10:32:01 [\u001B[34msrc.main:33\u001B[0m] [\u001B[32mINFO\u001B[0m] >>>> Creating input prompt...\u001B[0m\n",
      "2024-07-02 10:32:01 [\u001B[34msrc.main:35\u001B[0m] [\u001B[32mINFO\u001B[0m] >>>> Input prompt created successfully.\u001B[0m\n",
      "2024-07-02 10:32:01 [\u001B[34msrc.main:36\u001B[0m] [DEBUG\u001B[0m] >>>> Input prompt:\n",
      "### Simplified HTML Content:\n",
      "Buttons: \n",
      "{'id': 'navigationTrigger', 'class': 'button button-icon button-borderless'}, \n",
      "{'id': 'ad-hoc-settings-LO8EpTw_Rr6ParizyY3AtQ', 'class': 'button button-borderless button-xs is-hover-visible button-icon'}, \n",
      "{'id': 'Wus3-uWT-MicFD-66fN0t', 'class': 'button button-borderless button-s button-icon'}\n",
      "Inputs: \n",
      "{'id': 'cpwGAhii7vkbtfgBbOaJ-', 'class': 'd-condition-date-picker--input form-control', 'type': 'text', 'placeholder': 'dd.MM.yyyy - dd.MM.yyyy'}, \n",
      "{'class': 'interval form-control', 'aria-label': 'Messwert Start des Wertebereichs', 'type': 'text'}, \n",
      "{'class': 'interval form-control', 'aria-label': 'Messwert Ende des Wertebereichs', 'type': 'text'}, \n",
      "{'class': 'select2-search__field', 'aria-label': 'Suchen …', 'type': 'search', 'placeholder': 'Suchen …'}\n",
      "Links: \n",
      "{'id': 'skip-to-navigator', 'class': 'button button-primary'}, \n",
      "{'id': 'skip-to-content', 'class': 'button button-primary'}, \n",
      "{'id': 'home', 'class': 'button button-icon button-borderless'}\n",
      "\n",
      "\n",
      "### Playwright Test Precondition:\n",
      "import { test, expect } from '@playwright/test';\n",
      "import { writeFileSync } from 'fs';\n",
      "test('test', async ({ page }) => {\n",
      "  await page.goto('http://localhost:8080/cadenza/');\n",
      "  await page.getByRole('link', { name: 'Anmelden' }).click();\n",
      "  await page.getByLabel('Benutzername *').click();\n",
      "  await page.getByLabel('Benutzername *').fill('Admin');\n",
      "  await page.getByLabel('Benutzername *').press('Tab');\n",
      "  await page.getByPlaceholder(' ').fill('Admin');\n",
      "  await page.getByRole('button', { name: 'Anmelden' }).click();\n",
      "  await page.getByText('Verzeichnis Gewässergüte', { exact: true }).click();\n",
      "  const parentElement = await page.getByText('Arbeitsmappe Übersicht Messstellen').locator('..');\n",
      "  await parentElement.locator('.d-icon.d-icon-bold.status-icon').click(); \n",
      "  await page.getByRole('link', { name: 'Tabelle Messstellenliste' }).click();\n",
      "  await page.getByTestId('worksheet-view-of-type-table').hover();\n",
      "  await page.getByTestId('worksheet-view-of-type-table').getByLabel('Mehr …').click();\n",
      "});\n",
      "\n",
      "### UI Test Description:\n",
      "Klicke auf \"Duplizieren\".\n",
      "\n",
      "### Screenshot Description:\n",
      "@ disy Cade!\n",
      "\n",
      "@ Ubersicht Messstellen [v12(Searbeitet)] | Messstellenliste v (] )Speichern < Zugriffseinstellungen E}NeueSicht ? Mehr FR G\n",
      "© ANALYSEKONTEXT x Messstelleninformationen OB’: G\n",
      "« Name des Gewassers * Messstelle * Messstelle Nr. * Mi & buplizieren t\n",
      "Filter + 7 |) Abzucht ©\n",
      "; 7 >) ane In ...\n",
      "\n",
      "### Task:\n",
      "You are a test automation script writer. I will describe a UI test in German and you will generate Playwright test code for the given webpage. Strictly follow these instructions:\n",
      "1. Don't explain the code, just generate the code block itself.\n",
      "2. You get some HTML elements and its attributes from the website. You can use playwright locators to find the elements by their attributes.\n",
      "3. Use the precondition code to set up the initial state. You must continue the code.\n",
      "4. Follow the steps in the ui test description to perform actions on the website.\n",
      "5. Use the screenshot description to understand the context of the test.\n",
      "\u001B[0m\n",
      "2024-07-02 10:32:01 [\u001B[34msrc.main:38\u001B[0m] [\u001B[32mINFO\u001B[0m] >>>> Generating test case...\u001B[0m\n",
      "2024-07-02 10:34:09 [\u001B[34msrc.ui_tests.test_generation:55\u001B[0m] [DEBUG\u001B[0m] >>>> Generated code saved to './pred_test_script/1_4.pred.py'\u001B[0m\n",
      "2024-07-02 10:34:09 [\u001B[34msrc.main:44\u001B[0m] [\u001B[32mINFO\u001B[0m] >>>> Test case generated for 1_4.\u001B[0m\n",
      "CPU times: total: 27.6 s\n",
      "Wall time: 2min 10s\n"
     ]
    },
    {
     "name": "stderr",
     "output_type": "stream",
     "text": [
      "--- Logging error ---\n",
      "Traceback (most recent call last):\n",
      "  File \"C:\\Users\\merti\\anaconda3\\envs\\uitest\\Lib\\logging\\__init__.py\", line 1160, in emit\n",
      "    msg = self.format(record)\n",
      "          ^^^^^^^^^^^^^^^^^^^\n",
      "  File \"C:\\Users\\merti\\anaconda3\\envs\\uitest\\Lib\\logging\\__init__.py\", line 999, in format\n",
      "    return fmt.format(record)\n",
      "           ^^^^^^^^^^^^^^^^^^\n",
      "  File \"C:\\Users\\merti\\anaconda3\\envs\\uitest\\Lib\\logging\\__init__.py\", line 703, in format\n",
      "    record.message = record.getMessage()\n",
      "                     ^^^^^^^^^^^^^^^^^^^\n",
      "  File \"C:\\Users\\merti\\anaconda3\\envs\\uitest\\Lib\\logging\\__init__.py\", line 392, in getMessage\n",
      "    msg = msg % self.args\n",
      "          ~~~~^~~~~~~~~~~\n",
      "TypeError: not all arguments converted during string formatting\n",
      "Call stack:\n",
      "  File \"<frozen runpy>\", line 198, in _run_module_as_main\n",
      "  File \"<frozen runpy>\", line 88, in _run_code\n",
      "  File \"C:\\Users\\merti\\anaconda3\\envs\\uitest\\Lib\\site-packages\\ipykernel_launcher.py\", line 18, in <module>\n",
      "    app.launch_new_instance()\n",
      "  File \"C:\\Users\\merti\\anaconda3\\envs\\uitest\\Lib\\site-packages\\traitlets\\config\\application.py\", line 1075, in launch_instance\n",
      "    app.start()\n",
      "  File \"C:\\Users\\merti\\anaconda3\\envs\\uitest\\Lib\\site-packages\\ipykernel\\kernelapp.py\", line 739, in start\n",
      "    self.io_loop.start()\n",
      "  File \"C:\\Users\\merti\\anaconda3\\envs\\uitest\\Lib\\site-packages\\tornado\\platform\\asyncio.py\", line 205, in start\n",
      "    self.asyncio_loop.run_forever()\n",
      "  File \"C:\\Users\\merti\\anaconda3\\envs\\uitest\\Lib\\asyncio\\base_events.py\", line 641, in run_forever\n",
      "    self._run_once()\n",
      "  File \"C:\\Users\\merti\\anaconda3\\envs\\uitest\\Lib\\asyncio\\base_events.py\", line 1987, in _run_once\n",
      "    handle._run()\n",
      "  File \"C:\\Users\\merti\\anaconda3\\envs\\uitest\\Lib\\asyncio\\events.py\", line 88, in _run\n",
      "    self._context.run(self._callback, *self._args)\n",
      "  File \"C:\\Users\\merti\\anaconda3\\envs\\uitest\\Lib\\site-packages\\ipykernel\\kernelbase.py\", line 545, in dispatch_queue\n",
      "    await self.process_one()\n",
      "  File \"C:\\Users\\merti\\anaconda3\\envs\\uitest\\Lib\\site-packages\\ipykernel\\kernelbase.py\", line 534, in process_one\n",
      "    await dispatch(*args)\n",
      "  File \"C:\\Users\\merti\\anaconda3\\envs\\uitest\\Lib\\site-packages\\ipykernel\\kernelbase.py\", line 437, in dispatch_shell\n",
      "    await result\n",
      "  File \"C:\\Users\\merti\\anaconda3\\envs\\uitest\\Lib\\site-packages\\ipykernel\\ipkernel.py\", line 362, in execute_request\n",
      "    await super().execute_request(stream, ident, parent)\n",
      "  File \"C:\\Users\\merti\\anaconda3\\envs\\uitest\\Lib\\site-packages\\ipykernel\\kernelbase.py\", line 778, in execute_request\n",
      "    reply_content = await reply_content\n",
      "  File \"C:\\Users\\merti\\anaconda3\\envs\\uitest\\Lib\\site-packages\\ipykernel\\ipkernel.py\", line 449, in do_execute\n",
      "    res = shell.run_cell(\n",
      "  File \"C:\\Users\\merti\\anaconda3\\envs\\uitest\\Lib\\site-packages\\ipykernel\\zmqshell.py\", line 549, in run_cell\n",
      "    return super().run_cell(*args, **kwargs)\n",
      "  File \"C:\\Users\\merti\\anaconda3\\envs\\uitest\\Lib\\site-packages\\IPython\\core\\interactiveshell.py\", line 3075, in run_cell\n",
      "    result = self._run_cell(\n",
      "  File \"C:\\Users\\merti\\anaconda3\\envs\\uitest\\Lib\\site-packages\\IPython\\core\\interactiveshell.py\", line 3130, in _run_cell\n",
      "    result = runner(coro)\n",
      "  File \"C:\\Users\\merti\\anaconda3\\envs\\uitest\\Lib\\site-packages\\IPython\\core\\async_helpers.py\", line 129, in _pseudo_sync_runner\n",
      "    coro.send(None)\n",
      "  File \"C:\\Users\\merti\\anaconda3\\envs\\uitest\\Lib\\site-packages\\IPython\\core\\interactiveshell.py\", line 3334, in run_cell_async\n",
      "    has_raised = await self.run_ast_nodes(code_ast.body, cell_name,\n",
      "  File \"C:\\Users\\merti\\anaconda3\\envs\\uitest\\Lib\\site-packages\\IPython\\core\\interactiveshell.py\", line 3517, in run_ast_nodes\n",
      "    if await self.run_code(code, result, async_=asy):\n",
      "  File \"C:\\Users\\merti\\anaconda3\\envs\\uitest\\Lib\\site-packages\\IPython\\core\\interactiveshell.py\", line 3577, in run_code\n",
      "    exec(code_obj, self.user_global_ns, self.user_ns)\n",
      "  File \"C:\\Users\\merti\\AppData\\Local\\Temp\\ipykernel_114168\\4009123177.py\", line 1, in <module>\n",
      "    get_ipython().run_cell_magic('time', '', '# Generate UI test code\\nprompt = main(**args)\\n')\n",
      "  File \"C:\\Users\\merti\\anaconda3\\envs\\uitest\\Lib\\site-packages\\IPython\\core\\interactiveshell.py\", line 2541, in run_cell_magic\n",
      "    result = fn(*args, **kwargs)\n",
      "  File \"C:\\Users\\merti\\anaconda3\\envs\\uitest\\Lib\\site-packages\\IPython\\core\\magics\\execution.py\", line 1340, in time\n",
      "    exec(code, glob, local_ns)\n",
      "  File \"<timed exec>\", line 2, in <module>\n",
      "  File \"C:\\Users\\merti\\PycharmProjects\\cadenza-playwright-llm\\src\\main.py\", line 45, in main\n",
      "    logger.debug(\"Test case:\\n\", generated_code)\n",
      "Message: 'Test case:\\n'\n",
      "Arguments: ('### Simplified HTML Content:\\nButtons: \\n{\\'id\\': \\'navigationTrigger\\', \\'class\\': \\'button button-icon button-borderless\\'}, \\n{\\'id\\': \\'ad-hoc-settings-LO8EpTw_Rr6ParizyY3AtQ\\', \\'class\\': \\'button button-borderless button-xs is-hover-visible button-icon\\'}, \\n{\\'id\\': \\'Wus3-uWT-MicFD-66fN0t\\', \\'class\\': \\'button button-borderless button-s button-icon\\'}\\nInputs: \\n{\\'id\\': \\'cpwGAhii7vkbtfgBbOaJ-\\', \\'class\\': \\'d-condition-date-picker--input form-control\\', \\'type\\': \\'text\\', \\'placeholder\\': \\'dd.MM.yyyy - dd.MM.yyyy\\'}, \\n{\\'class\\': \\'interval form-control\\', \\'aria-label\\': \\'Messwert Start des Wertebereichs\\', \\'type\\': \\'text\\'}, \\n{\\'class\\': \\'interval form-control\\', \\'aria-label\\': \\'Messwert Ende des Wertebereichs\\', \\'type\\': \\'text\\'}, \\n{\\'class\\':\\'select2-search__field\\', \\'aria-label\\': \\'Suchen …\\', \\'type\\':\\'search\\', \\'placeholder\\': \\'Suchen …\\'}\\nLinks: \\n{\\'id\\':\\'skip-to-navigator\\', \\'class\\': \\'button button-primary\\'}, \\n{\\'id\\':\\'skip-to-content\\', \\'class\\': \\'button button-primary\\'}, \\n{\\'id\\': \\'home\\', \\'class\\': \\'button button-icon button-borderless\\'}\\n\\n\\n### Playwright Test Precondition:\\nimport { test, expect } from \\'@playwright/test\\';\\nimport { writeFileSync } from \\'fs\\';\\ntest(\\'test\\', async ({ page }) => {\\n  await page.goto(\\'http://localhost:8080/cadenza/\\');\\n  await page.getByRole(\\'link\\', { name: \\'Anmelden\\' }).click();\\n  await page.getByLabel(\\'Benutzername *\\').click();\\n  await page.getByLabel(\\'Benutzername *\\').fill(\\'Admin\\');\\n  await page.getByLabel(\\'Benutzername *\\').press(\\'Tab\\');\\n  await page.getByPlaceholder(\\' \\').fill(\\'Admin\\');\\n  await page.getByRole(\\'button\\', { name: \\'Anmelden\\' }).click();\\n  await page.getByText(\\'Verzeichnis Gewässergüte\\', { exact: true }).click();\\n  const parentElement = await page.getByText(\\'Arbeitsmappe Übersicht Messstellen\\').locator(\\'..\\');\\n  await parentElement.locator(\\'.d-icon.d-icon-bold.status-icon\\').click(); \\n  await page.getByRole(\\'link\\', { name: \\'Tabelle Messstellenliste\\' }).click();\\n  await page.getByTestId(\\'worksheet-view-of-type-table\\').hover();\\n  await page.getByTestId(\\'worksheet-view-of-type-table\\').getByLabel(\\'Mehr …\\').click();\\n});\\n\\n### UI Test Description:\\nKlicke auf \"Duplizieren\".\\n\\n### Screenshot Description:\\n@ disy Cade!\\n\\n@ Ubersicht Messstellen [v12(Searbeitet)] | Messstellen Listen [V12] | V12 | [1] [2] _______________________________________________ | _________ | |_| |___|___ |__|__ | __ | ___| __| ____| ___/__/ __/ _____/___/ |____/|_/ \\\\/ / | / / \\\\ | \\\\| \\\\ /\\\\ |\\\\|\\\\/\\\\ \\\\_\\\\ /_ \\\\ \\\\___\\\\_\\\\/\\\\___\\\\/ \\\\__\\\\____\\\\__ \\\\____\\\\/|____ \\\\______\\\\______ \\\\_____\\\\_____ \\\\_______\\\\_______ \\\\____________ /___ /_____ /____ |_____|_______|________|______|_____ |__________ /_______ /______ |_______/________ |______/______ /________/ ______/_____ _______________________ __________________________ ______________________________________________________________________________ ~~~~~~~~~~~~~~~ ~~~~~~~~~~~~~~~~~~~~~~~~~~~~~~~~~~~~~\\nThis is a sample UI test. It is not intended to be used as a substitute for the actual',)\n"
     ]
    }
   ],
   "source": [
    "%%time\n",
    "# Generate UI test code\n",
    "prompt = main(**args)"
   ],
   "metadata": {
    "collapsed": false,
    "ExecuteTime": {
     "end_time": "2024-07-02T08:34:09.711521Z",
     "start_time": "2024-07-02T08:31:58.825484200Z"
    }
   }
  },
  {
   "cell_type": "markdown",
   "source": [
    "# (Cluster) Pipeline: LLM UI Test Generation\n",
    "Using Llava 1.5 model"
   ],
   "metadata": {
    "collapsed": false
   }
  },
  {
   "cell_type": "markdown",
   "source": [
    "1. Extract relevant information from the database for a specific test to be predicted:"
   ],
   "metadata": {
    "collapsed": false
   }
  },
  {
   "cell_type": "code",
   "execution_count": 17,
   "outputs": [],
   "source": [
    "# Select test ID and database file\n",
    "db_file = '../data/raw/playwright_script.db'\n",
    "current_id = '1.4'"
   ],
   "metadata": {
    "collapsed": false,
    "ExecuteTime": {
     "end_time": "2024-07-02T00:47:17.078603300Z",
     "start_time": "2024-07-02T00:47:17.051641800Z"
    }
   }
  },
  {
   "cell_type": "code",
   "execution_count": 18,
   "outputs": [],
   "source": [
    "items = fetch_relevant_items(db_file, current_id)\n",
    "args = map_items_to_args(items)"
   ],
   "metadata": {
    "collapsed": false,
    "ExecuteTime": {
     "end_time": "2024-07-02T00:47:17.120860600Z",
     "start_time": "2024-07-02T00:47:17.078603300Z"
    }
   }
  },
  {
   "cell_type": "code",
   "execution_count": 19,
   "outputs": [
    {
     "data": {
      "text/plain": "[('1.3',\n  '[1.1] Öffne die Arbeitsmappe \"Übersicht Messstellen\" im Ordner \"Gewässergüte\". [1.2]  Öffnen der Tabellen-Sicht \"Messstellenliste\" über die Werkzeugliste der Arbeitsmappe. [1.3] Klicke auf den 3-Punkte-Button innerhalb der Tabellen-Sicht \"Messstelleninformationen\"',\n  '[1.3] Expected result: Kontextmenü erscheint mit den Optionen: - Duplizieren - In Arbeitsblatt duplizieren - Exportieren - Designer öffnen - Löschen.',\n  '.\\\\html\\\\1_3.html',\n  '.\\\\screenshot\\\\1_3.png',\n  '.\\\\test_script\\\\1_3.spec.ts'),\n ('1.4',\n  '[1.1] Öffne die Arbeitsmappe \"Übersicht Messstellen\" im Ordner \"Gewässergüte\". [1.2]  Öffnen der Tabellen-Sicht \"Messstellenliste\" über die Werkzeugliste der Arbeitsmappe. [1.3] Klicke auf den 3-Punkte-Button innerhalb der Tabellen-Sicht \"Messstelleninformationen\". [1.4] Klicke auf \"Duplizieren\".',\n  '[1.4] Expected result: Das Kontextmenü schließt sich. Die Sicht ist dupliziert. Die duplizierte Sicht erscheint neben der Original-Sicht. Beide Sichten teilen sich in gleichen Maßen den Platz der Original-Sicht.',\n  '.\\\\html\\\\1_4.html',\n  '.\\\\screenshot\\\\1_4.png',\n  '.\\\\test_script\\\\1_4.spec.ts')]"
     },
     "execution_count": 19,
     "metadata": {},
     "output_type": "execute_result"
    }
   ],
   "source": [
    "items"
   ],
   "metadata": {
    "collapsed": false,
    "ExecuteTime": {
     "end_time": "2024-07-02T00:47:17.153197400Z",
     "start_time": "2024-07-02T00:47:17.120860600Z"
    }
   }
  },
  {
   "cell_type": "code",
   "execution_count": 20,
   "outputs": [],
   "source": [
    "# To traverse folders in cluster change path\n",
    "args['image_path'] = args['image_path'].replace('\\\\', '/')"
   ],
   "metadata": {
    "collapsed": false,
    "ExecuteTime": {
     "end_time": "2024-07-02T00:47:17.241224900Z",
     "start_time": "2024-07-02T00:47:17.153197400Z"
    }
   }
  },
  {
   "cell_type": "code",
   "execution_count": 21,
   "outputs": [
    {
     "data": {
      "text/plain": "{'html_path': '.\\\\html\\\\1_3.html',\n 'image_path': './screenshot/1_3.png',\n 'precondition_path': '.\\\\test_script\\\\1_3.spec.ts',\n 'description': 'Klicke auf \"Duplizieren\".'}"
     },
     "execution_count": 21,
     "metadata": {},
     "output_type": "execute_result"
    }
   ],
   "source": [
    "args"
   ],
   "metadata": {
    "collapsed": false,
    "ExecuteTime": {
     "end_time": "2024-07-02T00:47:17.267454900Z",
     "start_time": "2024-07-02T00:47:17.225682900Z"
    }
   }
  },
  {
   "cell_type": "markdown",
   "source": [
    "2. Setup access to the cluster:\n",
    "\n",
    "Precondition:\n",
    "- Adjust the paths in src file with your specific student credentials\n",
    "- Make sure that playwright is installed on your local machine"
   ],
   "metadata": {
    "collapsed": false
   }
  },
  {
   "cell_type": "code",
   "execution_count": 24,
   "outputs": [
    {
     "ename": "NotImplementedError",
     "evalue": "",
     "output_type": "error",
     "traceback": [
      "\u001B[1;31m---------------------------------------------------------------------------\u001B[0m",
      "\u001B[1;31mNotImplementedError\u001B[0m                       Traceback (most recent call last)",
      "Cell \u001B[1;32mIn[24], line 2\u001B[0m\n\u001B[0;32m      1\u001B[0m access2cluster \u001B[38;5;241m=\u001B[39m Access2Cluster()\n\u001B[1;32m----> 2\u001B[0m \u001B[38;5;28;01mawait\u001B[39;00m access2cluster\u001B[38;5;241m.\u001B[39mlogin()\n",
      "File \u001B[1;32m~\\PycharmProjects\\cadenza-playwright-llm\\src\\llm\\access_2_cluster.py:22\u001B[0m, in \u001B[0;36mAccess2Cluster.login\u001B[1;34m(self)\u001B[0m\n\u001B[0;32m     21\u001B[0m \u001B[38;5;28;01masync\u001B[39;00m \u001B[38;5;28;01mdef\u001B[39;00m \u001B[38;5;21mlogin\u001B[39m(\u001B[38;5;28mself\u001B[39m):\n\u001B[1;32m---> 22\u001B[0m     playwright \u001B[38;5;241m=\u001B[39m \u001B[38;5;28;01mawait\u001B[39;00m \u001B[38;5;28mself\u001B[39m\u001B[38;5;241m.\u001B[39mplaywright_context_manager\u001B[38;5;241m.\u001B[39mstart()\n\u001B[0;32m     23\u001B[0m     \u001B[38;5;28mself\u001B[39m\u001B[38;5;241m.\u001B[39mbrowser \u001B[38;5;241m=\u001B[39m \u001B[38;5;28;01mawait\u001B[39;00m playwright\u001B[38;5;241m.\u001B[39mchromium\u001B[38;5;241m.\u001B[39mlaunch(headless\u001B[38;5;241m=\u001B[39m\u001B[38;5;28;01mFalse\u001B[39;00m)\n\u001B[0;32m     24\u001B[0m     \u001B[38;5;28mself\u001B[39m\u001B[38;5;241m.\u001B[39mpage \u001B[38;5;241m=\u001B[39m \u001B[38;5;28;01mawait\u001B[39;00m \u001B[38;5;28mself\u001B[39m\u001B[38;5;241m.\u001B[39mbrowser\u001B[38;5;241m.\u001B[39mnew_page()\n",
      "File \u001B[1;32m~\\anaconda3\\envs\\uitest\\Lib\\site-packages\\playwright\\async_api\\_context_manager.py:51\u001B[0m, in \u001B[0;36mPlaywrightContextManager.start\u001B[1;34m(self)\u001B[0m\n\u001B[0;32m     50\u001B[0m \u001B[38;5;28;01masync\u001B[39;00m \u001B[38;5;28;01mdef\u001B[39;00m \u001B[38;5;21mstart\u001B[39m(\u001B[38;5;28mself\u001B[39m) \u001B[38;5;241m-\u001B[39m\u001B[38;5;241m>\u001B[39m AsyncPlaywright:\n\u001B[1;32m---> 51\u001B[0m     \u001B[38;5;28;01mreturn\u001B[39;00m \u001B[38;5;28;01mawait\u001B[39;00m \u001B[38;5;28mself\u001B[39m\u001B[38;5;241m.\u001B[39m\u001B[38;5;21m__aenter__\u001B[39m()\n",
      "File \u001B[1;32m~\\anaconda3\\envs\\uitest\\Lib\\site-packages\\playwright\\async_api\\_context_manager.py:46\u001B[0m, in \u001B[0;36mPlaywrightContextManager.__aenter__\u001B[1;34m(self)\u001B[0m\n\u001B[0;32m     44\u001B[0m \u001B[38;5;28;01mif\u001B[39;00m \u001B[38;5;129;01mnot\u001B[39;00m playwright_future\u001B[38;5;241m.\u001B[39mdone():\n\u001B[0;32m     45\u001B[0m     playwright_future\u001B[38;5;241m.\u001B[39mcancel()\n\u001B[1;32m---> 46\u001B[0m playwright \u001B[38;5;241m=\u001B[39m AsyncPlaywright(\u001B[38;5;28;43mnext\u001B[39;49m\u001B[43m(\u001B[49m\u001B[38;5;28;43miter\u001B[39;49m\u001B[43m(\u001B[49m\u001B[43mdone\u001B[49m\u001B[43m)\u001B[49m\u001B[43m)\u001B[49m\u001B[38;5;241;43m.\u001B[39;49m\u001B[43mresult\u001B[49m\u001B[43m(\u001B[49m\u001B[43m)\u001B[49m)\n\u001B[0;32m     47\u001B[0m playwright\u001B[38;5;241m.\u001B[39mstop \u001B[38;5;241m=\u001B[39m \u001B[38;5;28mself\u001B[39m\u001B[38;5;241m.\u001B[39m\u001B[38;5;21m__aexit__\u001B[39m  \u001B[38;5;66;03m# type: ignore\u001B[39;00m\n\u001B[0;32m     48\u001B[0m \u001B[38;5;28;01mreturn\u001B[39;00m playwright\n",
      "File \u001B[1;32m~\\anaconda3\\envs\\uitest\\Lib\\site-packages\\playwright\\_impl\\_transport.py:120\u001B[0m, in \u001B[0;36mPipeTransport.connect\u001B[1;34m(self)\u001B[0m\n\u001B[0;32m    117\u001B[0m         startupinfo\u001B[38;5;241m.\u001B[39mwShowWindow \u001B[38;5;241m=\u001B[39m subprocess\u001B[38;5;241m.\u001B[39mSW_HIDE\n\u001B[0;32m    119\u001B[0m     executable_path, entrypoint_path \u001B[38;5;241m=\u001B[39m compute_driver_executable()\n\u001B[1;32m--> 120\u001B[0m     \u001B[38;5;28mself\u001B[39m\u001B[38;5;241m.\u001B[39m_proc \u001B[38;5;241m=\u001B[39m \u001B[38;5;28;01mawait\u001B[39;00m asyncio\u001B[38;5;241m.\u001B[39mcreate_subprocess_exec(\n\u001B[0;32m    121\u001B[0m         executable_path,\n\u001B[0;32m    122\u001B[0m         entrypoint_path,\n\u001B[0;32m    123\u001B[0m         \u001B[38;5;124m\"\u001B[39m\u001B[38;5;124mrun-driver\u001B[39m\u001B[38;5;124m\"\u001B[39m,\n\u001B[0;32m    124\u001B[0m         stdin\u001B[38;5;241m=\u001B[39masyncio\u001B[38;5;241m.\u001B[39msubprocess\u001B[38;5;241m.\u001B[39mPIPE,\n\u001B[0;32m    125\u001B[0m         stdout\u001B[38;5;241m=\u001B[39masyncio\u001B[38;5;241m.\u001B[39msubprocess\u001B[38;5;241m.\u001B[39mPIPE,\n\u001B[0;32m    126\u001B[0m         stderr\u001B[38;5;241m=\u001B[39m_get_stderr_fileno(),\n\u001B[0;32m    127\u001B[0m         limit\u001B[38;5;241m=\u001B[39m\u001B[38;5;241m32768\u001B[39m,\n\u001B[0;32m    128\u001B[0m         env\u001B[38;5;241m=\u001B[39menv,\n\u001B[0;32m    129\u001B[0m         startupinfo\u001B[38;5;241m=\u001B[39mstartupinfo,\n\u001B[0;32m    130\u001B[0m     )\n\u001B[0;32m    131\u001B[0m \u001B[38;5;28;01mexcept\u001B[39;00m \u001B[38;5;167;01mException\u001B[39;00m \u001B[38;5;28;01mas\u001B[39;00m exc:\n\u001B[0;32m    132\u001B[0m     \u001B[38;5;28mself\u001B[39m\u001B[38;5;241m.\u001B[39mon_error_future\u001B[38;5;241m.\u001B[39mset_exception(exc)\n",
      "File \u001B[1;32m~\\anaconda3\\envs\\uitest\\Lib\\asyncio\\subprocess.py:224\u001B[0m, in \u001B[0;36mcreate_subprocess_exec\u001B[1;34m(program, stdin, stdout, stderr, limit, *args, **kwds)\u001B[0m\n\u001B[0;32m    221\u001B[0m loop \u001B[38;5;241m=\u001B[39m events\u001B[38;5;241m.\u001B[39mget_running_loop()\n\u001B[0;32m    222\u001B[0m protocol_factory \u001B[38;5;241m=\u001B[39m \u001B[38;5;28;01mlambda\u001B[39;00m: SubprocessStreamProtocol(limit\u001B[38;5;241m=\u001B[39mlimit,\n\u001B[0;32m    223\u001B[0m                                                     loop\u001B[38;5;241m=\u001B[39mloop)\n\u001B[1;32m--> 224\u001B[0m transport, protocol \u001B[38;5;241m=\u001B[39m \u001B[38;5;28;01mawait\u001B[39;00m loop\u001B[38;5;241m.\u001B[39msubprocess_exec(\n\u001B[0;32m    225\u001B[0m     protocol_factory,\n\u001B[0;32m    226\u001B[0m     program, \u001B[38;5;241m*\u001B[39margs,\n\u001B[0;32m    227\u001B[0m     stdin\u001B[38;5;241m=\u001B[39mstdin, stdout\u001B[38;5;241m=\u001B[39mstdout,\n\u001B[0;32m    228\u001B[0m     stderr\u001B[38;5;241m=\u001B[39mstderr, \u001B[38;5;241m*\u001B[39m\u001B[38;5;241m*\u001B[39mkwds)\n\u001B[0;32m    229\u001B[0m \u001B[38;5;28;01mreturn\u001B[39;00m Process(transport, protocol, loop)\n",
      "File \u001B[1;32m~\\anaconda3\\envs\\uitest\\Lib\\asyncio\\base_events.py:1744\u001B[0m, in \u001B[0;36mBaseEventLoop.subprocess_exec\u001B[1;34m(self, protocol_factory, program, stdin, stdout, stderr, universal_newlines, shell, bufsize, encoding, errors, text, *args, **kwargs)\u001B[0m\n\u001B[0;32m   1742\u001B[0m     debug_log \u001B[38;5;241m=\u001B[39m \u001B[38;5;124mf\u001B[39m\u001B[38;5;124m'\u001B[39m\u001B[38;5;124mexecute program \u001B[39m\u001B[38;5;132;01m{\u001B[39;00mprogram\u001B[38;5;132;01m!r}\u001B[39;00m\u001B[38;5;124m'\u001B[39m\n\u001B[0;32m   1743\u001B[0m     \u001B[38;5;28mself\u001B[39m\u001B[38;5;241m.\u001B[39m_log_subprocess(debug_log, stdin, stdout, stderr)\n\u001B[1;32m-> 1744\u001B[0m transport \u001B[38;5;241m=\u001B[39m \u001B[38;5;28;01mawait\u001B[39;00m \u001B[38;5;28mself\u001B[39m\u001B[38;5;241m.\u001B[39m_make_subprocess_transport(\n\u001B[0;32m   1745\u001B[0m     protocol, popen_args, \u001B[38;5;28;01mFalse\u001B[39;00m, stdin, stdout, stderr,\n\u001B[0;32m   1746\u001B[0m     bufsize, \u001B[38;5;241m*\u001B[39m\u001B[38;5;241m*\u001B[39mkwargs)\n\u001B[0;32m   1747\u001B[0m \u001B[38;5;28;01mif\u001B[39;00m \u001B[38;5;28mself\u001B[39m\u001B[38;5;241m.\u001B[39m_debug \u001B[38;5;129;01mand\u001B[39;00m debug_log \u001B[38;5;129;01mis\u001B[39;00m \u001B[38;5;129;01mnot\u001B[39;00m \u001B[38;5;28;01mNone\u001B[39;00m:\n\u001B[0;32m   1748\u001B[0m     logger\u001B[38;5;241m.\u001B[39minfo(\u001B[38;5;124m'\u001B[39m\u001B[38;5;132;01m%s\u001B[39;00m\u001B[38;5;124m: \u001B[39m\u001B[38;5;132;01m%r\u001B[39;00m\u001B[38;5;124m'\u001B[39m, debug_log, transport)\n",
      "File \u001B[1;32m~\\anaconda3\\envs\\uitest\\Lib\\asyncio\\base_events.py:524\u001B[0m, in \u001B[0;36mBaseEventLoop._make_subprocess_transport\u001B[1;34m(self, protocol, args, shell, stdin, stdout, stderr, bufsize, extra, **kwargs)\u001B[0m\n\u001B[0;32m    520\u001B[0m \u001B[38;5;28;01masync\u001B[39;00m \u001B[38;5;28;01mdef\u001B[39;00m \u001B[38;5;21m_make_subprocess_transport\u001B[39m(\u001B[38;5;28mself\u001B[39m, protocol, args, shell,\n\u001B[0;32m    521\u001B[0m                                      stdin, stdout, stderr, bufsize,\n\u001B[0;32m    522\u001B[0m                                      extra\u001B[38;5;241m=\u001B[39m\u001B[38;5;28;01mNone\u001B[39;00m, \u001B[38;5;241m*\u001B[39m\u001B[38;5;241m*\u001B[39mkwargs):\n\u001B[0;32m    523\u001B[0m \u001B[38;5;250m    \u001B[39m\u001B[38;5;124;03m\"\"\"Create subprocess transport.\"\"\"\u001B[39;00m\n\u001B[1;32m--> 524\u001B[0m     \u001B[38;5;28;01mraise\u001B[39;00m \u001B[38;5;167;01mNotImplementedError\u001B[39;00m\n",
      "\u001B[1;31mNotImplementedError\u001B[0m: "
     ]
    }
   ],
   "source": [
    "access2cluster = Access2Cluster()\n",
    "await access2cluster.login()"
   ],
   "metadata": {
    "collapsed": false,
    "ExecuteTime": {
     "end_time": "2024-07-02T01:04:45.988931900Z",
     "start_time": "2024-07-02T01:04:45.618489Z"
    }
   }
  },
  {
   "cell_type": "markdown",
   "source": [
    "3. Init the Llava 1.5 model:"
   ],
   "metadata": {
    "collapsed": false
   }
  },
  {
   "cell_type": "code",
   "execution_count": 27,
   "outputs": [],
   "source": [
    "await access2cluster.start_llm()\n",
    "args['model'] = access2cluster"
   ],
   "metadata": {
    "collapsed": false,
    "ExecuteTime": {
     "end_time": "2024-07-02T01:05:21.602407500Z",
     "start_time": "2024-07-02T01:05:21.504467400Z"
    }
   }
  },
  {
   "cell_type": "code",
   "execution_count": 28,
   "outputs": [
    {
     "data": {
      "text/plain": "{'html_path': '.\\\\html\\\\1_3.html',\n 'image_path': '.\\\\screenshot\\\\1_3.png',\n 'precondition_path': '.\\\\test_script\\\\1_3.spec.ts',\n 'description': 'Klicke auf \"Duplizieren\".',\n 'model': 'access2cluster'}"
     },
     "execution_count": 28,
     "metadata": {},
     "output_type": "execute_result"
    }
   ],
   "source": [
    "args"
   ],
   "metadata": {
    "collapsed": false,
    "ExecuteTime": {
     "end_time": "2024-07-02T01:05:29.568752800Z",
     "start_time": "2024-07-02T01:05:29.472030200Z"
    }
   }
  },
  {
   "cell_type": "markdown",
   "source": [
    "4. Run the main function to sum it up with the extracted information, we will get the generated UI test code for the test with id 1.4. Prompt engineering is implemented in the main function."
   ],
   "metadata": {
    "collapsed": false
   }
  },
  {
   "cell_type": "code",
   "execution_count": 29,
   "outputs": [
    {
     "name": "stdout",
     "output_type": "stream",
     "text": [
      "2024-07-02 03:05:32 [\u001B[34msrc.main:29\u001B[0m] [\u001B[32mINFO\u001B[0m] >>>> Loading context...\u001B[0m\n"
     ]
    },
    {
     "ename": "KeyError",
     "evalue": "'id'",
     "output_type": "error",
     "traceback": [
      "\u001B[1;31m---------------------------------------------------------------------------\u001B[0m",
      "\u001B[1;31mKeyError\u001B[0m                                  Traceback (most recent call last)",
      "Cell \u001B[1;32mIn[29], line 1\u001B[0m\n\u001B[1;32m----> 1\u001B[0m \u001B[38;5;28;01mawait\u001B[39;00m main(\u001B[38;5;241m*\u001B[39m\u001B[38;5;241m*\u001B[39margs)\n",
      "File \u001B[1;32m~\\PycharmProjects\\cadenza-playwright-llm\\src\\main.py:30\u001B[0m, in \u001B[0;36mmain\u001B[1;34m(html_path, image_path, precondition_path, description, validation_path, model)\u001B[0m\n\u001B[0;32m     19\u001B[0m \u001B[38;5;250m\u001B[39m\u001B[38;5;124;03m\"\"\"Generate the test case for the next UI test.\u001B[39;00m\n\u001B[0;32m     20\u001B[0m \n\u001B[0;32m     21\u001B[0m \u001B[38;5;124;03m:param html_path: The path to the HTML file.\u001B[39;00m\n\u001B[1;32m   (...)\u001B[0m\n\u001B[0;32m     27\u001B[0m \u001B[38;5;124;03m:return: Scores for the generated test case (if validation_path and model are provided).\u001B[39;00m\n\u001B[0;32m     28\u001B[0m \u001B[38;5;124;03m\"\"\"\u001B[39;00m\n\u001B[0;32m     29\u001B[0m logger\u001B[38;5;241m.\u001B[39minfo(\u001B[38;5;124m\"\u001B[39m\u001B[38;5;124mLoading context...\u001B[39m\u001B[38;5;124m\"\u001B[39m)\n\u001B[1;32m---> 30\u001B[0m html_text \u001B[38;5;241m=\u001B[39m \u001B[43mextract_html_info\u001B[49m\u001B[43m(\u001B[49m\u001B[43mhtml_path\u001B[49m\u001B[43m,\u001B[49m\u001B[43m \u001B[49m\u001B[43mconcat_mod\u001B[49m\u001B[38;5;241;43m=\u001B[39;49m\u001B[38;5;124;43m'\u001B[39;49m\u001B[38;5;124;43mall\u001B[39;49m\u001B[38;5;124;43m'\u001B[39;49m\u001B[43m \u001B[49m\u001B[38;5;28;43;01mif\u001B[39;49;00m\u001B[43m \u001B[49m\u001B[43mmodel\u001B[49m\u001B[43m \u001B[49m\u001B[38;5;28;43;01melse\u001B[39;49;00m\u001B[43m \u001B[49m\u001B[38;5;124;43m'\u001B[39;49m\u001B[38;5;124;43msingle\u001B[39;49m\u001B[38;5;124;43m'\u001B[39;49m\u001B[43m)\u001B[49m\n\u001B[0;32m     31\u001B[0m image_text \u001B[38;5;241m=\u001B[39m extract_text_from_image(image_path, max_length\u001B[38;5;241m=\u001B[39mMAX_LENGTH) \u001B[38;5;28;01mif\u001B[39;00m \u001B[38;5;129;01mnot\u001B[39;00m model \u001B[38;5;28;01melse\u001B[39;00m \u001B[38;5;28;01mNone\u001B[39;00m\n\u001B[0;32m     32\u001B[0m precondition_text \u001B[38;5;241m=\u001B[39m parse_code(precondition_path)\n",
      "File \u001B[1;32m~\\PycharmProjects\\cadenza-playwright-llm\\src\\data\\html_processor.py:96\u001B[0m, in \u001B[0;36mextract_html_info\u001B[1;34m(file_path, max_length, max_attr_length, concat_mod)\u001B[0m\n\u001B[0;32m     93\u001B[0m links_ls \u001B[38;5;241m=\u001B[39m extract_elements(soup, \u001B[38;5;124m'\u001B[39m\u001B[38;5;124ma\u001B[39m\u001B[38;5;124m'\u001B[39m, [\u001B[38;5;124m'\u001B[39m\u001B[38;5;124mtext\u001B[39m\u001B[38;5;124m'\u001B[39m, \u001B[38;5;124m'\u001B[39m\u001B[38;5;124mid\u001B[39m\u001B[38;5;124m'\u001B[39m, \u001B[38;5;124m'\u001B[39m\u001B[38;5;124mclass\u001B[39m\u001B[38;5;124m'\u001B[39m], [\u001B[38;5;124m'\u001B[39m\u001B[38;5;124mtext\u001B[39m\u001B[38;5;124m'\u001B[39m, \u001B[38;5;124m'\u001B[39m\u001B[38;5;124mid\u001B[39m\u001B[38;5;124m'\u001B[39m], max_attr_length)\n\u001B[0;32m     95\u001B[0m html_elements \u001B[38;5;241m=\u001B[39m format_elements(buttons_ls, \u001B[38;5;124m'\u001B[39m\u001B[38;5;124mButton\u001B[39m\u001B[38;5;124m'\u001B[39m, concat_mod)\n\u001B[1;32m---> 96\u001B[0m html_elements \u001B[38;5;241m+\u001B[39m\u001B[38;5;241m=\u001B[39m \u001B[43mformat_elements\u001B[49m\u001B[43m(\u001B[49m\u001B[43minputs_ls\u001B[49m\u001B[43m,\u001B[49m\u001B[43m \u001B[49m\u001B[38;5;124;43m'\u001B[39;49m\u001B[38;5;124;43mInput\u001B[39;49m\u001B[38;5;124;43m'\u001B[39;49m\u001B[43m,\u001B[49m\u001B[43m \u001B[49m\u001B[43mconcat_mod\u001B[49m\u001B[43m)\u001B[49m\n\u001B[0;32m     97\u001B[0m html_elements \u001B[38;5;241m+\u001B[39m\u001B[38;5;241m=\u001B[39m format_elements(links_ls, \u001B[38;5;124m'\u001B[39m\u001B[38;5;124mLink\u001B[39m\u001B[38;5;124m'\u001B[39m, concat_mod)\n\u001B[0;32m     99\u001B[0m \u001B[38;5;28;01mreturn\u001B[39;00m html_elements[:max_length] \u001B[38;5;28;01mif\u001B[39;00m max_length \u001B[38;5;28;01melse\u001B[39;00m html_elements\n",
      "File \u001B[1;32m~\\PycharmProjects\\cadenza-playwright-llm\\src\\data\\html_processor.py:68\u001B[0m, in \u001B[0;36mformat_elements\u001B[1;34m(elements_ls, element_type, concat_mod)\u001B[0m\n\u001B[0;32m     65\u001B[0m     \u001B[38;5;28;01mreturn\u001B[39;00m \u001B[38;5;124mf\u001B[39m\u001B[38;5;124m\"\u001B[39m\u001B[38;5;132;01m{\u001B[39;00melement_type\u001B[38;5;132;01m}\u001B[39;00m\u001B[38;5;124ms: \u001B[39m\u001B[38;5;130;01m\\n\u001B[39;00m\u001B[38;5;132;01m{\u001B[39;00melements_str\u001B[38;5;132;01m}\u001B[39;00m\u001B[38;5;130;01m\\n\u001B[39;00m\u001B[38;5;124m\"\u001B[39m\n\u001B[0;32m     67\u001B[0m \u001B[38;5;28;01melif\u001B[39;00m concat_mod \u001B[38;5;241m==\u001B[39m \u001B[38;5;124m'\u001B[39m\u001B[38;5;124mall\u001B[39m\u001B[38;5;124m'\u001B[39m:\n\u001B[1;32m---> 68\u001B[0m     combined_args \u001B[38;5;241m=\u001B[39m {\u001B[38;5;124mf\u001B[39m\u001B[38;5;124m\"\u001B[39m\u001B[38;5;132;01m{\u001B[39;00melement_type\u001B[38;5;132;01m}\u001B[39;00m\u001B[38;5;124m \u001B[39m\u001B[38;5;132;01m{\u001B[39;00mk\u001B[38;5;132;01m}\u001B[39;00m\u001B[38;5;132;01m{\u001B[39;00m\u001B[38;5;124m'\u001B[39m\u001B[38;5;124mes\u001B[39m\u001B[38;5;124m'\u001B[39m\u001B[38;5;250m \u001B[39m\u001B[38;5;28;01mif\u001B[39;00m\u001B[38;5;250m \u001B[39mk\u001B[38;5;250m \u001B[39m\u001B[38;5;241m==\u001B[39m\u001B[38;5;250m \u001B[39m\u001B[38;5;124m'\u001B[39m\u001B[38;5;124mclass\u001B[39m\u001B[38;5;124m'\u001B[39m\u001B[38;5;250m \u001B[39m\u001B[38;5;28;01melse\u001B[39;00m\u001B[38;5;250m \u001B[39m\u001B[38;5;124m'\u001B[39m\u001B[38;5;124ms\u001B[39m\u001B[38;5;124m'\u001B[39m\u001B[38;5;132;01m}\u001B[39;00m\u001B[38;5;124m\"\u001B[39m: \u001B[38;5;124;43m'\u001B[39;49m\u001B[38;5;124;43m, \u001B[39;49m\u001B[38;5;124;43m'\u001B[39;49m\u001B[38;5;241;43m.\u001B[39;49m\u001B[43mjoin\u001B[49m\u001B[43m(\u001B[49m\u001B[43melement\u001B[49m\u001B[43m[\u001B[49m\u001B[43mk\u001B[49m\u001B[43m]\u001B[49m\u001B[43m \u001B[49m\u001B[38;5;28;43;01mfor\u001B[39;49;00m\u001B[43m \u001B[49m\u001B[43melement\u001B[49m\u001B[43m \u001B[49m\u001B[38;5;129;43;01min\u001B[39;49;00m\u001B[43m \u001B[49m\u001B[43melements_ls\u001B[49m\u001B[43m)\u001B[49m\n\u001B[0;32m     69\u001B[0m                      \u001B[38;5;28;01mfor\u001B[39;00m k \u001B[38;5;129;01min\u001B[39;00m elements_ls[\u001B[38;5;241m0\u001B[39m]\u001B[38;5;241m.\u001B[39mkeys()}\n\u001B[0;32m     70\u001B[0m     combined_args_str \u001B[38;5;241m=\u001B[39m \u001B[38;5;124m'\u001B[39m\u001B[38;5;124m, \u001B[39m\u001B[38;5;130;01m\\n\u001B[39;00m\u001B[38;5;124m'\u001B[39m\u001B[38;5;241m.\u001B[39mjoin([\u001B[38;5;124mf\u001B[39m\u001B[38;5;124m\"\u001B[39m\u001B[38;5;132;01m{\u001B[39;00mk\u001B[38;5;132;01m}\u001B[39;00m\u001B[38;5;124m: \u001B[39m\u001B[38;5;132;01m{\u001B[39;00mv\u001B[38;5;132;01m}\u001B[39;00m\u001B[38;5;124m\"\u001B[39m \u001B[38;5;28;01mfor\u001B[39;00m k, v \u001B[38;5;129;01min\u001B[39;00m combined_args\u001B[38;5;241m.\u001B[39mitems()])\n\u001B[0;32m     71\u001B[0m     \u001B[38;5;28;01mreturn\u001B[39;00m \u001B[38;5;124mf\u001B[39m\u001B[38;5;124m\"\u001B[39m\u001B[38;5;132;01m{\u001B[39;00melement_type\u001B[38;5;132;01m}\u001B[39;00m\u001B[38;5;124ms: \u001B[39m\u001B[38;5;130;01m\\n\u001B[39;00m\u001B[38;5;132;01m{\u001B[39;00mcombined_args_str\u001B[38;5;132;01m}\u001B[39;00m\u001B[38;5;130;01m\\n\u001B[39;00m\u001B[38;5;124m\"\u001B[39m\n",
      "File \u001B[1;32m~\\PycharmProjects\\cadenza-playwright-llm\\src\\data\\html_processor.py:68\u001B[0m, in \u001B[0;36m<genexpr>\u001B[1;34m(.0)\u001B[0m\n\u001B[0;32m     65\u001B[0m     \u001B[38;5;28;01mreturn\u001B[39;00m \u001B[38;5;124mf\u001B[39m\u001B[38;5;124m\"\u001B[39m\u001B[38;5;132;01m{\u001B[39;00melement_type\u001B[38;5;132;01m}\u001B[39;00m\u001B[38;5;124ms: \u001B[39m\u001B[38;5;130;01m\\n\u001B[39;00m\u001B[38;5;132;01m{\u001B[39;00melements_str\u001B[38;5;132;01m}\u001B[39;00m\u001B[38;5;130;01m\\n\u001B[39;00m\u001B[38;5;124m\"\u001B[39m\n\u001B[0;32m     67\u001B[0m \u001B[38;5;28;01melif\u001B[39;00m concat_mod \u001B[38;5;241m==\u001B[39m \u001B[38;5;124m'\u001B[39m\u001B[38;5;124mall\u001B[39m\u001B[38;5;124m'\u001B[39m:\n\u001B[1;32m---> 68\u001B[0m     combined_args \u001B[38;5;241m=\u001B[39m {\u001B[38;5;124mf\u001B[39m\u001B[38;5;124m\"\u001B[39m\u001B[38;5;132;01m{\u001B[39;00melement_type\u001B[38;5;132;01m}\u001B[39;00m\u001B[38;5;124m \u001B[39m\u001B[38;5;132;01m{\u001B[39;00mk\u001B[38;5;132;01m}\u001B[39;00m\u001B[38;5;132;01m{\u001B[39;00m\u001B[38;5;124m'\u001B[39m\u001B[38;5;124mes\u001B[39m\u001B[38;5;124m'\u001B[39m\u001B[38;5;250m \u001B[39m\u001B[38;5;28;01mif\u001B[39;00m\u001B[38;5;250m \u001B[39mk\u001B[38;5;250m \u001B[39m\u001B[38;5;241m==\u001B[39m\u001B[38;5;250m \u001B[39m\u001B[38;5;124m'\u001B[39m\u001B[38;5;124mclass\u001B[39m\u001B[38;5;124m'\u001B[39m\u001B[38;5;250m \u001B[39m\u001B[38;5;28;01melse\u001B[39;00m\u001B[38;5;250m \u001B[39m\u001B[38;5;124m'\u001B[39m\u001B[38;5;124ms\u001B[39m\u001B[38;5;124m'\u001B[39m\u001B[38;5;132;01m}\u001B[39;00m\u001B[38;5;124m\"\u001B[39m: \u001B[38;5;124m'\u001B[39m\u001B[38;5;124m, \u001B[39m\u001B[38;5;124m'\u001B[39m\u001B[38;5;241m.\u001B[39mjoin(\u001B[43melement\u001B[49m\u001B[43m[\u001B[49m\u001B[43mk\u001B[49m\u001B[43m]\u001B[49m \u001B[38;5;28;01mfor\u001B[39;00m element \u001B[38;5;129;01min\u001B[39;00m elements_ls)\n\u001B[0;32m     69\u001B[0m                      \u001B[38;5;28;01mfor\u001B[39;00m k \u001B[38;5;129;01min\u001B[39;00m elements_ls[\u001B[38;5;241m0\u001B[39m]\u001B[38;5;241m.\u001B[39mkeys()}\n\u001B[0;32m     70\u001B[0m     combined_args_str \u001B[38;5;241m=\u001B[39m \u001B[38;5;124m'\u001B[39m\u001B[38;5;124m, \u001B[39m\u001B[38;5;130;01m\\n\u001B[39;00m\u001B[38;5;124m'\u001B[39m\u001B[38;5;241m.\u001B[39mjoin([\u001B[38;5;124mf\u001B[39m\u001B[38;5;124m\"\u001B[39m\u001B[38;5;132;01m{\u001B[39;00mk\u001B[38;5;132;01m}\u001B[39;00m\u001B[38;5;124m: \u001B[39m\u001B[38;5;132;01m{\u001B[39;00mv\u001B[38;5;132;01m}\u001B[39;00m\u001B[38;5;124m\"\u001B[39m \u001B[38;5;28;01mfor\u001B[39;00m k, v \u001B[38;5;129;01min\u001B[39;00m combined_args\u001B[38;5;241m.\u001B[39mitems()])\n\u001B[0;32m     71\u001B[0m     \u001B[38;5;28;01mreturn\u001B[39;00m \u001B[38;5;124mf\u001B[39m\u001B[38;5;124m\"\u001B[39m\u001B[38;5;132;01m{\u001B[39;00melement_type\u001B[38;5;132;01m}\u001B[39;00m\u001B[38;5;124ms: \u001B[39m\u001B[38;5;130;01m\\n\u001B[39;00m\u001B[38;5;132;01m{\u001B[39;00mcombined_args_str\u001B[38;5;132;01m}\u001B[39;00m\u001B[38;5;130;01m\\n\u001B[39;00m\u001B[38;5;124m\"\u001B[39m\n",
      "\u001B[1;31mKeyError\u001B[0m: 'id'"
     ]
    }
   ],
   "source": [
    "await main(**args)"
   ],
   "metadata": {
    "collapsed": false,
    "ExecuteTime": {
     "end_time": "2024-07-02T01:05:32.561454600Z",
     "start_time": "2024-07-02T01:05:32.234476500Z"
    }
   }
  },
  {
   "cell_type": "markdown",
   "source": [
    "# More Developing: Using modular source code\n",
    "Possible to update function content in the following files, but no RENAMING or DELETING or changing function signature!:\n",
    "* src/main.py: Main function for UI test generation.\n",
    "    * Change constant Max length (max length of the input text for the model)\n",
    "* src/ui_tests/test_generation.py: Generate the UI test code using the language model.\n",
    "    * Expand model selection: Just add new case statements for different models with its code.\n",
    "* src/data/html_processing.py: Extract relevant information from the HTML file.\n",
    "* src/data/image_processing.py: Extract relevant information from the image.\n",
    "* src/data/python_processing.py: Parse the given playwright test code for previous step as a precondition.\n"
   ],
   "metadata": {
    "collapsed": false
   }
  }
 ],
 "metadata": {
  "kernelspec": {
   "display_name": "Python 3",
   "language": "python",
   "name": "python3"
  },
  "language_info": {
   "codemirror_mode": {
    "name": "ipython",
    "version": 2
   },
   "file_extension": ".py",
   "mimetype": "text/x-python",
   "name": "python",
   "nbconvert_exporter": "python",
   "pygments_lexer": "ipython2",
   "version": "2.7.6"
  }
 },
 "nbformat": 4,
 "nbformat_minor": 0
}
