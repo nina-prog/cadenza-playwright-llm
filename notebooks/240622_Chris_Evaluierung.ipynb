{
 "cells": [
  {
   "cell_type": "code",
   "id": "initial_id",
   "metadata": {
    "collapsed": true,
    "ExecuteTime": {
     "end_time": "2024-06-23T16:50:08.702645Z",
     "start_time": "2024-06-23T16:50:08.699951Z"
    }
   },
   "source": [
    "import sys\n",
    "import os\n",
    "\n",
    "\n",
    "from Levenshtein import distance \n",
    "from nltk.translate.bleu_score import sentence_bleu # In python 3.12 you need to manually delete all \"_normalize\" in the Fraction function of bleu_scores.py "
   ],
   "outputs": [],
   "execution_count": 5
  },
  {
   "metadata": {
    "ExecuteTime": {
     "end_time": "2024-06-23T16:50:10.712048Z",
     "start_time": "2024-06-23T16:50:10.707472Z"
    }
   },
   "cell_type": "code",
   "source": [
    "# Import Playwright script\n",
    "abs_file_path_ts = \"D:/Uni/Programming/Python/PSDA/Ex3/data/test_script/2_1.spec.ts\"\n",
    "abs_file_path_py = \"D:/Uni/Programming/Python/PSDA/Ex3/Test/Collection/test_script/playwright__2_1.py\" \n",
    "abs_file_path_py_var = \"D:/Uni/Programming/Python/PSDA/Ex3/Test/Collection/test_script/playwright__0ddb73d4-54ff-4751-8250-6e2a606f52ec.py\" \n",
    "\n",
    "abs_file_path_vd = abs_file_path_ts\n",
    "with open(abs_file_path_vd, 'r') as file_v:\n",
    "    file_content_vd = file_v.read()\n",
    "\n",
    "abs_file_path_gen = abs_file_path_py\n",
    "with open(abs_file_path_gen, 'r') as file_g:\n",
    "    file_content_gen = file_g.read()\n",
    "\n",
    "print(file_content_vd)\n",
    "print(file_content_gen)"
   ],
   "id": "bb9051f0cc16e68f",
   "outputs": [
    {
     "name": "stdout",
     "output_type": "stream",
     "text": [
      "import { test, expect } from '@playwright/test';\n",
      "import { writeFileSync } from 'fs';\n",
      "test('test', async ({ page }) => {\n",
      "  await page.goto('http://localhost:8080/cadenza/');\n",
      "  await page.getByRole('link', { name: 'Anmelden' }).click();\n",
      "  await page.getByLabel('Benutzername *').click();\n",
      "  await page.getByLabel('Benutzername *').fill('Admin');\n",
      "  await page.getByLabel('Benutzername *').press('Tab');\n",
      "  await page.getByPlaceholder(' ').fill('Admin');\n",
      "  await page.getByRole('button', { name: 'Anmelden' }).click();\n",
      "  await page.getByTestId('create-workbook-button').click();\n",
      "\n",
      "});\n",
      "import asyncio\n",
      "import re\n",
      "from playwright.async_api import Playwright, async_playwright, expect\n",
      "\n",
      "\n",
      "async def run(playwright: Playwright) -> None:\n",
      "    browser = await playwright.chromium.launch(headless=False)\n",
      "    context = await browser.new_context(storage_state=\"context\\\\context__a820ac84-8e4e-44ba-ab59-942bae058db8.json\")\n",
      "    page = await context.new_page()\n",
      "    await page.goto(\"http://localhost:8080/cadenza/\")\n",
      "    await page.get_by_role(\"link\", {name: \"Anmelden\"}).click()    \n",
      "    await page.get_by_label(\"Benutzername *\").click()\n",
      "    await page.get_by_label(\"Benutzername *\").fill(\"Admin\")\n",
      "    await page.get_by_label(\"Benutzername *\").press(\"Tab\")\n",
      "    await page.get_by_placeholder(\" \").fill(\"Admin\")\n",
      "    await page.get_by_placeholder(\" \").press(\"Enter\")\n",
      "\tawait page.get_by_test_id('create-workbook-button').click();\n",
      "\n",
      "\n",
      "async def main() -> None:\n",
      "    async with async_playwright() as playwright:\n",
      "        await run(playwright)\n",
      "\n",
      "\n",
      "asyncio.run(main())\n",
      "\n"
     ]
    }
   ],
   "execution_count": 6
  },
  {
   "metadata": {
    "ExecuteTime": {
     "end_time": "2024-06-23T14:03:14.182948Z",
     "start_time": "2024-06-23T14:03:14.178779Z"
    }
   },
   "cell_type": "code",
   "source": [
    "# Split by lines \n",
    "contentByLines_vd = file_content_vd.splitlines() \n",
    "list_rmv_lines = []\n",
    "\n",
    "for i in range(0, len(contentByLines_vd)):\n",
    "    print(\"Line \" + str(i) + \": \" + contentByLines_vd[i])\n",
    "    if contentByLines_vd[i].find(\"await\") == -1:\n",
    "        print(\"No await!\")\n",
    "        # Temporary Exception for typescript scripts using const; Not human reproduceable for python via script\n",
    "        if contentByLines_vd[i][:10].find(\"const\") == -1:\n",
    "            print(\"No const!\")\n",
    "            list_rmv_lines.append(contentByLines_vd[i])"
   ],
   "id": "402429c54fbcbdc0",
   "outputs": [
    {
     "name": "stdout",
     "output_type": "stream",
     "text": [
      "Line 0: import { test, expect } from '@playwright/test';\n",
      "No await!\n",
      "No const!\n",
      "Line 1: import { writeFileSync } from 'fs';\n",
      "No await!\n",
      "No const!\n",
      "Line 2: test('test', async ({ page }) => {\n",
      "No await!\n",
      "No const!\n",
      "Line 3:   await page.goto('http://localhost:8080/cadenza/');\n",
      "Line 4:   await page.getByRole('link', { name: 'Anmelden' }).click();\n",
      "Line 5:   await page.getByLabel('Benutzername *').click();\n",
      "Line 6:   await page.getByLabel('Benutzername *').fill('Admin');\n",
      "Line 7:   await page.getByLabel('Benutzername *').press('Tab');\n",
      "Line 8:   await page.getByPlaceholder(' ').fill('Admin');\n",
      "Line 9:   await page.getByRole('button', { name: 'Anmelden' }).click();\n",
      "Line 10:   await page.getByTestId('create-workbook-button').click();\n",
      "Line 11: \n",
      "No await!\n",
      "No const!\n",
      "Line 12: });\n",
      "No await!\n",
      "No const!\n"
     ]
    }
   ],
   "execution_count": 3
  },
  {
   "metadata": {
    "ExecuteTime": {
     "end_time": "2024-06-23T14:03:14.192307Z",
     "start_time": "2024-06-23T14:03:14.187654Z"
    }
   },
   "cell_type": "code",
   "source": [
    "# Get Length and remaining code lines\n",
    "length_vs = len(contentByLines_vd)\n",
    "for i in range(0, len(contentByLines_vd)):\n",
    "    #String Cleaning/Bearbeitung für TypeScript & PythonScripts\n",
    "    contentByLines_vd[i] = contentByLines_vd[i].lower()\n",
    "    contentByLines_vd[i] =contentByLines_vd[i].replace(\"_\", \"\")\n",
    "    print(\"Line \" + str(i) + \": \" + contentByLines_vd[i])"
   ],
   "id": "3fdd4facd2e2ba66",
   "outputs": [
    {
     "name": "stdout",
     "output_type": "stream",
     "text": [
      "Line 0:   await page.goto('http://localhost:8080/cadenza/');\n",
      "Line 1:   await page.getbyrole('link', { name: 'anmelden' }).click();\n",
      "Line 2:   await page.getbylabel('benutzername *').click();\n",
      "Line 3:   await page.getbylabel('benutzername *').fill('admin');\n",
      "Line 4:   await page.getbylabel('benutzername *').press('tab');\n",
      "Line 5:   await page.getbyplaceholder(' ').fill('admin');\n",
      "Line 6:   await page.getbyrole('button', { name: 'anmelden' }).click();\n",
      "Line 7:   await page.getbytestid('create-workbook-button').click();\n"
     ]
    }
   ],
   "execution_count": 5
  },
  {
   "metadata": {
    "ExecuteTime": {
     "end_time": "2024-06-23T14:03:14.198875Z",
     "start_time": "2024-06-23T14:03:14.193305Z"
    }
   },
   "cell_type": "code",
   "source": [
    "# Processing for Generated Scripts\n",
    "contentByLines_gen = file_content_gen.splitlines() \n",
    "list_rmv_lines = []\n",
    "\n",
    "for i in range(0, len(contentByLines_gen)):\n",
    "    print(\"Line \" + str(i) + \": \" + contentByLines_gen[i])\n",
    "    if contentByLines_gen[i][:10].find(\"await\") == -1:\n",
    "        # Temporary Exception for typescript scripts using const; Not human reproduceable for python \n",
    "        print(\"No await!\")\n",
    "        if contentByLines_gen[i][:10].find(\"const\") == -1:\n",
    "            print(\"No const!\")\n",
    "            list_rmv_lines.append(contentByLines_gen[i])\n",
    "          \n",
    "for e in list_rmv_lines:\n",
    "    contentByLines_gen.remove(e)\n",
    "\n",
    "print(\"========================================================================\")\n",
    "length_gen = len(contentByLines_gen)\n",
    "print(\"Codezeilen: \", length_gen)\n",
    "for i in range(0, len(contentByLines_gen)):\n",
    "    #String Cleaning/Bearbeitung für TypeScript & PythonScripts\n",
    "    contentByLines_gen[i] = contentByLines_gen[i].lower()\n",
    "    contentByLines_gen[i] =contentByLines_gen[i].replace(\"_\", \"\")\n",
    "    print(\"Line \" + str(i) + \": \" + contentByLines_gen[i])"
   ],
   "id": "df08d823bb924c41",
   "outputs": [
    {
     "name": "stdout",
     "output_type": "stream",
     "text": [
      "Line 0: import asyncio\n",
      "No await!\n",
      "No const!\n",
      "Line 1: import re\n",
      "No await!\n",
      "No const!\n",
      "Line 2: from playwright.async_api import Playwright, async_playwright, expect\n",
      "No await!\n",
      "No const!\n",
      "Line 3: \n",
      "No await!\n",
      "No const!\n",
      "Line 4: \n",
      "No await!\n",
      "No const!\n",
      "Line 5: async def run(playwright: Playwright) -> None:\n",
      "No await!\n",
      "No const!\n",
      "Line 6:     browser = await playwright.chromium.launch(headless=False)\n",
      "No await!\n",
      "No const!\n",
      "Line 7:     context = await browser.new_context(storage_state=\"context\\\\context__a820ac84-8e4e-44ba-ab59-942bae058db8.json\")\n",
      "No await!\n",
      "No const!\n",
      "Line 8:     page = await context.new_page()\n",
      "No await!\n",
      "No const!\n",
      "Line 9:     await page.goto(\"http://localhost:8080/cadenza/\")\n",
      "Line 10:     await page.get_by_role(\"link\", {name: \"Anmelden\"}).click()    \n",
      "Line 11:     await page.get_by_label(\"Benutzername *\").click()\n",
      "Line 12:     await page.get_by_label(\"Benutzername *\").fill(\"Admin\")\n",
      "Line 13:     await page.get_by_label(\"Benutzername *\").press(\"Tab\")\n",
      "Line 14:     await page.get_by_placeholder(\" \").fill(\"Admin\")\n",
      "Line 15:     await page.get_by_placeholder(\" \").press(\"Enter\")\n",
      "Line 16: \tawait page.get_by_test_id('create-workbook-button').click();\n",
      "Line 17: \n",
      "No await!\n",
      "No const!\n",
      "Line 18: \n",
      "No await!\n",
      "No const!\n",
      "Line 19: async def main() -> None:\n",
      "No await!\n",
      "No const!\n",
      "Line 20:     async with async_playwright() as playwright:\n",
      "No await!\n",
      "No const!\n",
      "Line 21:         await run(playwright)\n",
      "No await!\n",
      "No const!\n",
      "Line 22: \n",
      "No await!\n",
      "No const!\n",
      "Line 23: \n",
      "No await!\n",
      "No const!\n",
      "Line 24: asyncio.run(main())\n",
      "No await!\n",
      "No const!\n",
      "========================================================================\n",
      "Codezeilen:  8\n",
      "Line 0:     await page.goto(\"http://localhost:8080/cadenza/\")\n",
      "Line 1:     await page.getbyrole(\"link\", {name: \"anmelden\"}).click()    \n",
      "Line 2:     await page.getbylabel(\"benutzername *\").click()\n",
      "Line 3:     await page.getbylabel(\"benutzername *\").fill(\"admin\")\n",
      "Line 4:     await page.getbylabel(\"benutzername *\").press(\"tab\")\n",
      "Line 5:     await page.getbyplaceholder(\" \").fill(\"admin\")\n",
      "Line 6:     await page.getbyplaceholder(\" \").press(\"enter\")\n",
      "Line 7: \tawait page.getbytestid('create-workbook-button').click();\n"
     ]
    }
   ],
   "execution_count": 6
  },
  {
   "metadata": {
    "ExecuteTime": {
     "end_time": "2024-06-23T14:03:14.203561Z",
     "start_time": "2024-06-23T14:03:14.198875Z"
    }
   },
   "cell_type": "code",
   "source": [
    "# Compare / Scoring\n",
    "for i in range(0,len(contentByLines_vd)):\n",
    "    dist_aggr = []\n",
    "    for j in range(0,len(contentByLines_gen)):\n",
    "        dist_aggr.append([distance(contentByLines_vd[i],contentByLines_gen[j]), j])\n",
    "    print(\"Zeile\", i, min(dist_aggr))"
   ],
   "id": "5de4788522eb9c0c",
   "outputs": [
    {
     "name": "stdout",
     "output_type": "stream",
     "text": [
      "Zeile 0 [5, 0]\n",
      "Zeile 1 [12, 1]\n",
      "Zeile 2 [5, 2]\n",
      "Zeile 3 [7, 3]\n",
      "Zeile 4 [7, 4]\n",
      "Zeile 5 [7, 5]\n",
      "Zeile 6 [18, 1]\n",
      "Zeile 7 [2, 7]\n"
     ]
    }
   ],
   "execution_count": 7
  },
  {
   "metadata": {
    "ExecuteTime": {
     "end_time": "2024-06-23T14:03:14.209502Z",
     "start_time": "2024-06-23T14:03:14.203561Z"
    }
   },
   "cell_type": "code",
   "source": [
    "print(contentByLines_vd[1])\n",
    "print(contentByLines_vd[6])\n",
    "\n",
    "print(\"======\")\n",
    "for i in range(0,len(contentByLines_vd)):\n",
    "    print(contentByLines_vd[i])\n",
    "\n",
    "print(\"======\")\n",
    "for i in range(0,len(contentByLines_gen)):\n",
    "    print(contentByLines_gen[i])"
   ],
   "id": "64a07478af6c2384",
   "outputs": [
    {
     "name": "stdout",
     "output_type": "stream",
     "text": [
      "  await page.getbyrole('link', { name: 'anmelden' }).click();\n",
      "  await page.getbyrole('button', { name: 'anmelden' }).click();\n",
      "======\n",
      "  await page.goto('http://localhost:8080/cadenza/');\n",
      "  await page.getbyrole('link', { name: 'anmelden' }).click();\n",
      "  await page.getbylabel('benutzername *').click();\n",
      "  await page.getbylabel('benutzername *').fill('admin');\n",
      "  await page.getbylabel('benutzername *').press('tab');\n",
      "  await page.getbyplaceholder(' ').fill('admin');\n",
      "  await page.getbyrole('button', { name: 'anmelden' }).click();\n",
      "  await page.getbytestid('create-workbook-button').click();\n",
      "======\n",
      "    await page.goto(\"http://localhost:8080/cadenza/\")\n",
      "    await page.getbyrole(\"link\", {name: \"anmelden\"}).click()    \n",
      "    await page.getbylabel(\"benutzername *\").click()\n",
      "    await page.getbylabel(\"benutzername *\").fill(\"admin\")\n",
      "    await page.getbylabel(\"benutzername *\").press(\"tab\")\n",
      "    await page.getbyplaceholder(\" \").fill(\"admin\")\n",
      "    await page.getbyplaceholder(\" \").press(\"enter\")\n",
      "\tawait page.getbytestid('create-workbook-button').click();\n"
     ]
    }
   ],
   "execution_count": 8
  },
  {
   "metadata": {},
   "cell_type": "markdown",
   "source": "# Implementierung als Funktionen",
   "id": "508e6cbf8330aac1"
  },
  {
   "metadata": {
    "ExecuteTime": {
     "end_time": "2024-06-23T16:50:20.553002Z",
     "start_time": "2024-06-23T16:50:20.547565Z"
    }
   },
   "cell_type": "code",
   "source": [
    "# Strip Code\n",
    "def strip_script_code(script):\n",
    "    \"\"\"\n",
    "    Script: type String\n",
    "    Script: TypeScript oder Python Playwrightsckript  \n",
    "    \"\"\"\n",
    "    # Processing for Generated Scripts\n",
    "    list_rmv_lines = []\n",
    "    scriptByLines = script.splitlines() \n",
    "    \n",
    "    for i in range(0, len(scriptByLines)):\n",
    "        if scriptByLines[i][:10].find(\"await\") == -1:\n",
    "            # Temporary Exception for typescript scripts using const; Not human reproduceable for python \n",
    "            if scriptByLines[i][:10].find(\"const\") == -1:\n",
    "                list_rmv_lines.append(scriptByLines[i])\n",
    "          \n",
    "    for e in list_rmv_lines:\n",
    "        scriptByLines.remove(e)\n",
    "\n",
    "    length_script = len(scriptByLines)\n",
    "    for i in range(0, len(scriptByLines)):\n",
    "        #String Cleaning/Bearbeitung für TypeScript & PythonScripts\n",
    "        scriptByLines[i] = scriptByLines[i].lower()\n",
    "        scriptByLines[i] = scriptByLines[i].replace(\"_\", \"\")\n",
    "        while scriptByLines[i].find(\"  \") != -1:\n",
    "            scriptByLines[i] = scriptByLines[i].replace(\"  \", \" \")\n",
    "        \n",
    "    return scriptByLines\n",
    "    "
   ],
   "id": "257d91b1b956630e",
   "outputs": [],
   "execution_count": 7
  },
  {
   "metadata": {
    "ExecuteTime": {
     "end_time": "2024-06-23T17:26:05.900135Z",
     "start_time": "2024-06-23T17:26:05.895214Z"
    }
   },
   "cell_type": "code",
   "source": [
    "def minimal_steps_comp(vd_content, gen_content,abs_boundary, rel_boundary):    \n",
    "    t_cont_v = vd_content\n",
    "    t_cont_g = gen_content\n",
    "    len_v = len(t_cont_v)\n",
    "    len_g = len(t_cont_g)\n",
    "        \n",
    "    rerun = False\n",
    "    dist_rem = [] # List of remaining codelines and there closes Levshtein distance\n",
    "    for i in range(0,len_v):\n",
    "        dist_aggr = []       \n",
    "        for j in range(0,len_g):\n",
    "            curr_dist = distance(t_cont_v[i],t_cont_g[j])\n",
    "            \n",
    "            if curr_dist < max(abs_boundary, rel_boundary*len(t_cont_v[i])):\n",
    "                t_cont_v.pop(i)\n",
    "                t_cont_g.pop(i) #t_cont_g = \n",
    "                rerun = True\n",
    "                break\n",
    "                \n",
    "            else:\n",
    "                dist_aggr.append([curr_dist, j])\n",
    "        if len_v != len(t_cont_v): \n",
    "            break\n",
    "        if len_g != len(t_cont_g): break\n",
    "        dist_rem.append([i, min(dist_aggr)])\n",
    "        \n",
    "    return rerun, dist_rem, t_cont_v, t_cont_g"
   ],
   "id": "c5bf936b5f2ae504",
   "outputs": [],
   "execution_count": 60
  },
  {
   "metadata": {
    "ExecuteTime": {
     "end_time": "2024-06-23T17:26:08.676754Z",
     "start_time": "2024-06-23T17:26:08.669368Z"
    }
   },
   "cell_type": "code",
   "source": [
    "# Eval by Codelines\n",
    "def eval_codelines(code_gen, code_valid, abs_boundary= 10, rel_boundary =0.1, success_exec=True,bleu=False):\n",
    "    \"\"\"\n",
    "    code_gen: type String\n",
    "    code_gen: Python or TypeScript playwright script generated by the LLM\n",
    "    code_valid: type String\n",
    "    code_valid: Python or TypeScript playwright script given in the examples for validation\n",
    "    abs_boundary: type int\n",
    "    abs_boundary: Absolute levenshtein distance between two compared codelines to be considered equal\n",
    "    rel_boundary: type float\n",
    "    rel_boundary:  Levenshtein distance between two compared codelines relative to their length to be considered equal\n",
    "    success_exec: type bool\n",
    "    success_exec: If the generated code by the LLM ran successfully. Default is \"True\" \n",
    "    \"\"\"\n",
    "    \n",
    "    # Stripping of not helpful and type specific information \n",
    "    gen_content = strip_script_code(code_gen)\n",
    "    vd_content = strip_script_code(code_valid)\n",
    "    \n",
    "    # Compare / Scoring \n",
    "    \n",
    "    length_vd = len(vd_content)\n",
    "    length_gen = len(gen_content)\n",
    "    \n",
    "    # Bleu \n",
    "    bleuByLine = []\n",
    "    if bleu: # Look at import Notes in case of error in sentence_bleu\n",
    "        reference = []\n",
    "        for e in vd_content:\n",
    "            list = e.split()\n",
    "            reference.append(list)\n",
    "    \n",
    "        for i in range(0,length_gen):\n",
    "            candidate = gen_content[i].split()\n",
    "            bleuByLine.append(sentence_bleu(references=reference,hypothesis=candidate))\n",
    "\n",
    "    #Minimal Steps\n",
    "    t_cont_v = vd_content\n",
    "    t_cont_g = gen_content\n",
    "    \n",
    "    done = True\n",
    "    while done:\n",
    "        done, dist_min,t_cont_v,t_cont_g  = minimal_steps_comp(t_cont_v, t_cont_g, abs_boundary, rel_boundary)\n",
    "              \n",
    "    min_steps_b = len(t_cont_v) == 0\n",
    "    min_steps_v = len(t_cont_v)\n",
    "    \n",
    "    #Additional Steps      \n",
    "    add_steps_b = len(t_cont_g) != 0\n",
    "    add_steps_v = len(t_cont_g)  \n",
    "    \n",
    "    perc_steps = length_gen / length_vd\n",
    "    \n",
    "    #Results\n",
    "    \"\"\"\n",
    "    bleuByLines: BLEU Score for each line in the generated script\n",
    "    min_steps_b: True if all necessary steps by the validation script are executed\n",
    "    min_steps_v: Remaining steps which were not executed\n",
    "    add_steps_b: True if there were no additional steps\n",
    "    add_steps_v: Amount of additional steps which were not part of the validation script\n",
    "    perc_steps: Percent of steps which represents the amount in the generated script compared to the validation script\n",
    "    \"\"\"\n",
    "    results = [bleuByLine, min_steps_b, add_steps_b,min_steps_v, add_steps_v, perc_steps]\n",
    "    return results"
   ],
   "id": "6577adfc45d78122",
   "outputs": [],
   "execution_count": 61
  },
  {
   "metadata": {},
   "cell_type": "markdown",
   "source": [
    "Notes on how to interpret results\n",
    "Minimal Steps accomplished\n",
    "  if success_exec\n",
    "    Matched     -> Done all necessary Steps\n",
    "    Not matched -> Has chosen a different route\n",
    "  else\n",
    "    Matched     -> Did all necessary steps but screwed up elsewhere (either additional step or order)  \n",
    "    Not matched -> Didn't make all necessary steps \n",
    "  \n",
    "Additional Steps executed\n",
    "  if success_exec\n",
    "    -> Not disruptive, but inefficient\n",
    "  else\n",
    "    -> possibly disruptive  "
   ],
   "id": "ea7aaff36f659444"
  },
  {
   "metadata": {
    "ExecuteTime": {
     "end_time": "2024-06-23T17:26:14.766527Z",
     "start_time": "2024-06-23T17:26:14.759500Z"
    }
   },
   "cell_type": "code",
   "source": [
    "gen_path = \"D:/Uni/Programming/Python/PSDA/Ex3/data/test_script/2_1.spec.ts\"\n",
    "valid_path = \"D:/Uni/Programming/Python/PSDA/Ex3/Test/Collection/test_script/playwright__2_1.py\" #\"D:/Uni/Programming/Python/PSDA/Ex3/data/test_script/2_1.spec.ts\" # \n",
    "\n",
    "with open(gen_path, 'r') as file_g:\n",
    "    script_gen = file_g.read()\n",
    "    \n",
    "with open(valid_path, 'r') as file_v:\n",
    "    script_vd = file_v.read()\n",
    "    \n",
    "eval_codelines(script_gen, script_vd, abs_boundary= 20, rel_boundary =0.1, success_exec=True,bleu=True)"
   ],
   "id": "8bafd788277841da",
   "outputs": [
    {
     "data": {
      "text/plain": [
       "[[1.5319719891192393e-231,\n",
       "  1.1640469867513693e-231,\n",
       "  1.384292958842266e-231,\n",
       "  1.384292958842266e-231,\n",
       "  1.384292958842266e-231,\n",
       "  1.384292958842266e-231,\n",
       "  1.1640469867513693e-231,\n",
       "  1.491668146240062e-154],\n",
       " False,\n",
       " True,\n",
       " 1,\n",
       " 1,\n",
       " 1.0]"
      ]
     },
     "execution_count": 63,
     "metadata": {},
     "output_type": "execute_result"
    }
   ],
   "execution_count": 63
  },
  {
   "metadata": {},
   "cell_type": "code",
   "outputs": [
    {
     "name": "stdout",
     "output_type": "stream",
     "text": [
      "Line 0:   await page.goto('http://localhost:8080/cadenza/');\n",
      "Line 1:   await page.getByRole('link', { name: 'Anmelden' }).click();\n",
      "Line 2:   await page.getByLabel('Benutzername *').click();\n",
      "Line 3:   await page.getByLabel('Benutzername *').fill('Admin');\n",
      "Line 4:   await page.getByLabel('Benutzername *').press('Tab');\n",
      "Line 5:   await page.getByPlaceholder(' ').fill('Admin');\n",
      "Line 6:   await page.getByRole('button', { name: 'Anmelden' }).click();\n",
      "Line 7:   await page.getByTestId('create-workbook-button').click();\n"
     ]
    }
   ],
   "execution_count": 4,
   "source": [
    "# Remove Lines without an await cmd\n",
    "for e in list_rmv_lines:\n",
    "    contentByLines_vd.remove(e)\n",
    "    \n",
    "for i in range(0, len(contentByLines_vd)):\n",
    "    print(\"Line \" + str(i) + \": \" + contentByLines_vd[i])"
   ],
   "id": "e8634f538fad3316"
  },
  {
   "metadata": {
    "ExecuteTime": {
     "end_time": "2024-06-23T14:55:41.661358Z",
     "start_time": "2024-06-23T14:55:41.657342Z"
    }
   },
   "cell_type": "code",
   "source": [
    "# HTML Eval/Comparison\n",
    "\n",
    "def eval_html_similarity(html_gen,  html_valid, rel_boundary=0.05):\n",
    "    \n",
    "    \"\"\"\n",
    "    html_gen: type String\n",
    "    html_gen: HTML context taken after the LLM script execution \n",
    "    html_valid: type String\n",
    "    html_valid: HTML given in the examples for validation\n",
    "    rel_boundary: type float\n",
    "    rel_boundary:  Levenshtein distance between the two HTML contexts relative to their length to be considered equal\n",
    "    \"\"\"\n",
    "        \n",
    "    lvsh_dist = distance(html_gen,html_valid)\n",
    "    avg_len = (len(html_valid) + len(html_gen))/2\n",
    "    result = lvsh_dist <= rel_boundary * avg_len\n",
    "    if result:\n",
    "        print(\"The two given HTMLs have high degree of similarity\")\n",
    "    else:\n",
    "        print(\"The two given HTMLs are dissimilar\")\n",
    "    \n",
    "    return result, lvsh_dist, avg_len\n",
    "    \n",
    "    "
   ],
   "id": "af66357cb45aa7cb",
   "outputs": [],
   "execution_count": 33
  },
  {
   "metadata": {
    "ExecuteTime": {
     "end_time": "2024-06-23T15:01:19.187977Z",
     "start_time": "2024-06-23T15:01:19.057827Z"
    }
   },
   "cell_type": "code",
   "source": [
    "html_gen_path = \"D:/Uni/Programming/Python/PSDA/Ex3/data/html/0_1.html\"\n",
    "html_valid_path =\"D:/Uni/Programming/Python/PSDA/Ex3/data/html/1_1.html\"\n",
    "\n",
    "with open(html_gen_path, 'r') as file_g:  # r to open file in READ mode\n",
    "    html_gen_as_string = file_g.read()\n",
    "    \n",
    "with open(html_valid_path, 'r') as file_v:  # r to open file in READ mode\n",
    "    html_valid_as_string = file_v.read()\n",
    "    \n",
    "eval_html_similarity(html_gen_as_string,html_valid_as_string,rel_boundary=0.2) #rel_boundary=0.28485421 for a single click in the navigator; dist as a orientation value"
   ],
   "id": "54f3254b1be5b664",
   "outputs": [
    {
     "name": "stdout",
     "output_type": "stream",
     "text": [
      "The two given HTMLs are dissimilar\n"
     ]
    },
    {
     "data": {
      "text/plain": [
       "(False, 16418, 57636.5)"
      ]
     },
     "execution_count": 67,
     "metadata": {},
     "output_type": "execute_result"
    }
   ],
   "execution_count": 67
  }
 ],
 "metadata": {
  "kernelspec": {
   "display_name": "Python 3",
   "language": "python",
   "name": "python3"
  },
  "language_info": {
   "codemirror_mode": {
    "name": "ipython",
    "version": 2
   },
   "file_extension": ".py",
   "mimetype": "text/x-python",
   "name": "python",
   "nbconvert_exporter": "python",
   "pygments_lexer": "ipython2",
   "version": "2.7.6"
  }
 },
 "nbformat": 4,
 "nbformat_minor": 5
}
