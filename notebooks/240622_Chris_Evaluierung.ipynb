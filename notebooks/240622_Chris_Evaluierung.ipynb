{
 "cells": [
  {
   "cell_type": "code",
   "id": "initial_id",
   "metadata": {
    "collapsed": true,
    "ExecuteTime": {
     "end_time": "2024-06-22T15:12:35.838255Z",
     "start_time": "2024-06-22T15:12:35.834620Z"
    }
   },
   "source": [
    "import sys\n",
    "import os\n",
    "\n",
    "import Levenshtein\n",
    "from Levenshtein import distance \n"
   ],
   "outputs": [],
   "execution_count": 63
  },
  {
   "metadata": {
    "ExecuteTime": {
     "end_time": "2024-06-22T15:12:35.843813Z",
     "start_time": "2024-06-22T15:12:35.839247Z"
    }
   },
   "cell_type": "code",
   "source": [
    "# Import Playwright script\n",
    "abs_file_path_ts = \"D:/Uni/Programming/Python/PSDA/Ex3/data/test_script/2_1.spec.ts\"\n",
    "abs_file_path_py = \"D:/Uni/Programming/Python/PSDA/Ex3/Test/Collection/test_script/playwright__2_1.py\" \n",
    "abs_file_path_py_var = \"D:/Uni/Programming/Python/PSDA/Ex3/Test/Collection/test_script/playwright__0ddb73d4-54ff-4751-8250-6e2a606f52ec.py\" \n",
    "\n",
    "abs_file_path_vd = abs_file_path_ts\n",
    "with open(abs_file_path_vd, 'r') as file_v:\n",
    "    file_content_vd = file_v.read()\n",
    "\n",
    "abs_file_path_gen = abs_file_path_py\n",
    "with open(abs_file_path_gen, 'r') as file_g:\n",
    "    file_content_gen = file_g.read()\n",
    "\n",
    "print(file_content_vd)\n",
    "print(file_content_gen)"
   ],
   "id": "bb9051f0cc16e68f",
   "outputs": [
    {
     "name": "stdout",
     "output_type": "stream",
     "text": [
      "import { test, expect } from '@playwright/test';\n",
      "import { writeFileSync } from 'fs';\n",
      "test('test', async ({ page }) => {\n",
      "  await page.goto('http://localhost:8080/cadenza/');\n",
      "  await page.getByRole('link', { name: 'Anmelden' }).click();\n",
      "  await page.getByLabel('Benutzername *').click();\n",
      "  await page.getByLabel('Benutzername *').fill('Admin');\n",
      "  await page.getByLabel('Benutzername *').press('Tab');\n",
      "  await page.getByPlaceholder(' ').fill('Admin');\n",
      "  await page.getByRole('button', { name: 'Anmelden' }).click();\n",
      "  await page.getByTestId('create-workbook-button').click();\n",
      "\n",
      "});\n",
      "import asyncio\n",
      "import re\n",
      "from playwright.async_api import Playwright, async_playwright, expect\n",
      "\n",
      "\n",
      "async def run(playwright: Playwright) -> None:\n",
      "    browser = await playwright.chromium.launch(headless=False)\n",
      "    context = await browser.new_context(storage_state=\"context\\\\context__a820ac84-8e4e-44ba-ab59-942bae058db8.json\")\n",
      "    page = await context.new_page()\n",
      "    await page.goto(\"http://localhost:8080/cadenza/\")\n",
      "    await page.get_by_role(\"link\", {name: \"Anmelden\"}).click()    \n",
      "    await page.get_by_label(\"Benutzername *\").click()\n",
      "    await page.get_by_label(\"Benutzername *\").fill(\"Admin\")\n",
      "    await page.get_by_label(\"Benutzername *\").press(\"Tab\")\n",
      "    await page.get_by_placeholder(\" \").fill(\"Admin\")\n",
      "    await page.get_by_placeholder(\" \").press(\"Enter\")\n",
      "\tawait page.get_by_test_id('create-workbook-button').click();\n",
      "\n",
      "\n",
      "async def main() -> None:\n",
      "    async with async_playwright() as playwright:\n",
      "        await run(playwright)\n",
      "\n",
      "\n",
      "asyncio.run(main())\n",
      "\n"
     ]
    }
   ],
   "execution_count": 64
  },
  {
   "metadata": {
    "ExecuteTime": {
     "end_time": "2024-06-22T15:12:35.849297Z",
     "start_time": "2024-06-22T15:12:35.844809Z"
    }
   },
   "cell_type": "code",
   "source": [
    "# Split by lines \n",
    "contentByLines_vd = file_content_vd.splitlines() \n",
    "list_rmv_lines = []\n",
    "\n",
    "for i in range(0, len(contentByLines_vd)):\n",
    "    print(\"Line \" + str(i) + \": \" + contentByLines_vd[i])\n",
    "    if contentByLines_vd[i].find(\"await\") == -1:\n",
    "        print(\"No await!\")\n",
    "        # Temporary Exception for typescript scripts using const; Not human reproduceable for python via script\n",
    "        if contentByLines_vd[i][:10].find(\"const\") == -1:\n",
    "            print(\"No const!\")\n",
    "            list_rmv_lines.append(contentByLines_vd[i])"
   ],
   "id": "402429c54fbcbdc0",
   "outputs": [
    {
     "name": "stdout",
     "output_type": "stream",
     "text": [
      "Line 0: import { test, expect } from '@playwright/test';\n",
      "No await!\n",
      "No const!\n",
      "Line 1: import { writeFileSync } from 'fs';\n",
      "No await!\n",
      "No const!\n",
      "Line 2: test('test', async ({ page }) => {\n",
      "No await!\n",
      "No const!\n",
      "Line 3:   await page.goto('http://localhost:8080/cadenza/');\n",
      "Line 4:   await page.getByRole('link', { name: 'Anmelden' }).click();\n",
      "Line 5:   await page.getByLabel('Benutzername *').click();\n",
      "Line 6:   await page.getByLabel('Benutzername *').fill('Admin');\n",
      "Line 7:   await page.getByLabel('Benutzername *').press('Tab');\n",
      "Line 8:   await page.getByPlaceholder(' ').fill('Admin');\n",
      "Line 9:   await page.getByRole('button', { name: 'Anmelden' }).click();\n",
      "Line 10:   await page.getByTestId('create-workbook-button').click();\n",
      "Line 11: \n",
      "No await!\n",
      "No const!\n",
      "Line 12: });\n",
      "No await!\n",
      "No const!\n"
     ]
    }
   ],
   "execution_count": 65
  },
  {
   "metadata": {
    "ExecuteTime": {
     "end_time": "2024-06-22T15:12:35.854252Z",
     "start_time": "2024-06-22T15:12:35.850291Z"
    }
   },
   "cell_type": "code",
   "source": [
    "# Remove Lines without an await cmd\n",
    "for e in list_rmv_lines:\n",
    "    contentByLines_vd.remove(e)\n",
    "    \n",
    "for i in range(0, len(contentByLines_vd)):\n",
    "    print(\"Line \" + str(i) + \": \" + contentByLines_vd[i])"
   ],
   "id": "e8634f538fad3316",
   "outputs": [
    {
     "name": "stdout",
     "output_type": "stream",
     "text": [
      "Line 0:   await page.goto('http://localhost:8080/cadenza/');\n",
      "Line 1:   await page.getByRole('link', { name: 'Anmelden' }).click();\n",
      "Line 2:   await page.getByLabel('Benutzername *').click();\n",
      "Line 3:   await page.getByLabel('Benutzername *').fill('Admin');\n",
      "Line 4:   await page.getByLabel('Benutzername *').press('Tab');\n",
      "Line 5:   await page.getByPlaceholder(' ').fill('Admin');\n",
      "Line 6:   await page.getByRole('button', { name: 'Anmelden' }).click();\n",
      "Line 7:   await page.getByTestId('create-workbook-button').click();\n"
     ]
    }
   ],
   "execution_count": 66
  },
  {
   "metadata": {
    "ExecuteTime": {
     "end_time": "2024-06-22T15:12:35.859260Z",
     "start_time": "2024-06-22T15:12:35.855249Z"
    }
   },
   "cell_type": "code",
   "source": [
    "# Get Length and remaining code lines\n",
    "length_vs = len(contentByLines_vd)\n",
    "for i in range(0, len(contentByLines_vd)):\n",
    "    #String Cleaning/Bearbeitung für TypeScript & PythonScripts\n",
    "    contentByLines_vd[i] = contentByLines_vd[i].lower()\n",
    "    contentByLines_vd[i] =contentByLines_vd[i].replace(\"_\", \"\")\n",
    "    print(\"Line \" + str(i) + \": \" + contentByLines_vd[i])"
   ],
   "id": "3fdd4facd2e2ba66",
   "outputs": [
    {
     "name": "stdout",
     "output_type": "stream",
     "text": [
      "Line 0:   await page.goto('http://localhost:8080/cadenza/');\n",
      "Line 1:   await page.getbyrole('link', { name: 'anmelden' }).click();\n",
      "Line 2:   await page.getbylabel('benutzername *').click();\n",
      "Line 3:   await page.getbylabel('benutzername *').fill('admin');\n",
      "Line 4:   await page.getbylabel('benutzername *').press('tab');\n",
      "Line 5:   await page.getbyplaceholder(' ').fill('admin');\n",
      "Line 6:   await page.getbyrole('button', { name: 'anmelden' }).click();\n",
      "Line 7:   await page.getbytestid('create-workbook-button').click();\n"
     ]
    }
   ],
   "execution_count": 67
  },
  {
   "metadata": {
    "ExecuteTime": {
     "end_time": "2024-06-22T15:12:35.867264Z",
     "start_time": "2024-06-22T15:12:35.860257Z"
    }
   },
   "cell_type": "code",
   "source": [
    "# Processing for Generated Scripts\n",
    "contentByLines_gen = file_content_gen.splitlines() \n",
    "list_rmv_lines = []\n",
    "\n",
    "for i in range(0, len(contentByLines_gen)):\n",
    "    print(\"Line \" + str(i) + \": \" + contentByLines_gen[i])\n",
    "    if contentByLines_gen[i][:10].find(\"await\") == -1:\n",
    "        # Temporary Exception for typescript scripts using const; Not human reproduceable for python \n",
    "        print(\"No await!\")\n",
    "        if contentByLines_gen[i][:10].find(\"const\") == -1:\n",
    "            print(\"No const!\")\n",
    "            list_rmv_lines.append(contentByLines_gen[i])\n",
    "          \n",
    "for e in list_rmv_lines:\n",
    "    contentByLines_gen.remove(e)\n",
    "\n",
    "print(\"========================================================================\")\n",
    "length_gen = len(contentByLines_gen)\n",
    "print(\"Codezeilen: \", length_gen)\n",
    "for i in range(0, len(contentByLines_gen)):\n",
    "    #String Cleaning/Bearbeitung für TypeScript & PythonScripts\n",
    "    contentByLines_gen[i] = contentByLines_gen[i].lower()\n",
    "    contentByLines_gen[i] =contentByLines_gen[i].replace(\"_\", \"\")\n",
    "    print(\"Line \" + str(i) + \": \" + contentByLines_gen[i])"
   ],
   "id": "df08d823bb924c41",
   "outputs": [
    {
     "name": "stdout",
     "output_type": "stream",
     "text": [
      "Line 0: import asyncio\n",
      "No await!\n",
      "No const!\n",
      "Line 1: import re\n",
      "No await!\n",
      "No const!\n",
      "Line 2: from playwright.async_api import Playwright, async_playwright, expect\n",
      "No await!\n",
      "No const!\n",
      "Line 3: \n",
      "No await!\n",
      "No const!\n",
      "Line 4: \n",
      "No await!\n",
      "No const!\n",
      "Line 5: async def run(playwright: Playwright) -> None:\n",
      "No await!\n",
      "No const!\n",
      "Line 6:     browser = await playwright.chromium.launch(headless=False)\n",
      "No await!\n",
      "No const!\n",
      "Line 7:     context = await browser.new_context(storage_state=\"context\\\\context__a820ac84-8e4e-44ba-ab59-942bae058db8.json\")\n",
      "No await!\n",
      "No const!\n",
      "Line 8:     page = await context.new_page()\n",
      "No await!\n",
      "No const!\n",
      "Line 9:     await page.goto(\"http://localhost:8080/cadenza/\")\n",
      "Line 10:     await page.get_by_role(\"link\", {name: \"Anmelden\"}).click()    \n",
      "Line 11:     await page.get_by_label(\"Benutzername *\").click()\n",
      "Line 12:     await page.get_by_label(\"Benutzername *\").fill(\"Admin\")\n",
      "Line 13:     await page.get_by_label(\"Benutzername *\").press(\"Tab\")\n",
      "Line 14:     await page.get_by_placeholder(\" \").fill(\"Admin\")\n",
      "Line 15:     await page.get_by_placeholder(\" \").press(\"Enter\")\n",
      "Line 16: \tawait page.get_by_test_id('create-workbook-button').click();\n",
      "Line 17: \n",
      "No await!\n",
      "No const!\n",
      "Line 18: \n",
      "No await!\n",
      "No const!\n",
      "Line 19: async def main() -> None:\n",
      "No await!\n",
      "No const!\n",
      "Line 20:     async with async_playwright() as playwright:\n",
      "No await!\n",
      "No const!\n",
      "Line 21:         await run(playwright)\n",
      "No await!\n",
      "No const!\n",
      "Line 22: \n",
      "No await!\n",
      "No const!\n",
      "Line 23: \n",
      "No await!\n",
      "No const!\n",
      "Line 24: asyncio.run(main())\n",
      "No await!\n",
      "No const!\n",
      "========================================================================\n",
      "Codezeilen:  8\n",
      "Line 0:     await page.goto(\"http://localhost:8080/cadenza/\")\n",
      "Line 1:     await page.getbyrole(\"link\", {name: \"anmelden\"}).click()    \n",
      "Line 2:     await page.getbylabel(\"benutzername *\").click()\n",
      "Line 3:     await page.getbylabel(\"benutzername *\").fill(\"admin\")\n",
      "Line 4:     await page.getbylabel(\"benutzername *\").press(\"tab\")\n",
      "Line 5:     await page.getbyplaceholder(\" \").fill(\"admin\")\n",
      "Line 6:     await page.getbyplaceholder(\" \").press(\"enter\")\n",
      "Line 7: \tawait page.getbytestid('create-workbook-button').click();\n"
     ]
    }
   ],
   "execution_count": 68
  },
  {
   "metadata": {
    "ExecuteTime": {
     "end_time": "2024-06-22T15:12:35.872429Z",
     "start_time": "2024-06-22T15:12:35.867824Z"
    }
   },
   "cell_type": "code",
   "source": [
    "# Compare / Scoring\n",
    "for i in range(0,len(contentByLines_vd)):\n",
    "    dist_aggr = []\n",
    "    for j in range(0,len(contentByLines_gen)):\n",
    "        dist_aggr.append([distance(contentByLines_vd[i],contentByLines_gen[j]), j])\n",
    "    print(\"Zeile\", i, min(dist_aggr))"
   ],
   "id": "5de4788522eb9c0c",
   "outputs": [
    {
     "name": "stdout",
     "output_type": "stream",
     "text": [
      "Zeile 0 [5, 0]\n",
      "Zeile 1 [12, 1]\n",
      "Zeile 2 [5, 2]\n",
      "Zeile 3 [7, 3]\n",
      "Zeile 4 [7, 4]\n",
      "Zeile 5 [7, 5]\n",
      "Zeile 6 [18, 1]\n",
      "Zeile 7 [2, 7]\n"
     ]
    }
   ],
   "execution_count": 69
  },
  {
   "metadata": {
    "ExecuteTime": {
     "end_time": "2024-06-22T15:12:35.877391Z",
     "start_time": "2024-06-22T15:12:35.873407Z"
    }
   },
   "cell_type": "code",
   "source": [
    "print(contentByLines_vd[1])\n",
    "print(contentByLines_vd[6])\n",
    "\n",
    "print(\"======\")\n",
    "for i in range(0,len(contentByLines_vd)):\n",
    "    print(contentByLines_vd[i])\n",
    "\n",
    "print(\"======\")\n",
    "for i in range(0,len(contentByLines_gen)):\n",
    "    print(contentByLines_gen[i])"
   ],
   "id": "64a07478af6c2384",
   "outputs": [
    {
     "name": "stdout",
     "output_type": "stream",
     "text": [
      "  await page.getbyrole('link', { name: 'anmelden' }).click();\n",
      "  await page.getbyrole('button', { name: 'anmelden' }).click();\n",
      "======\n",
      "  await page.goto('http://localhost:8080/cadenza/');\n",
      "  await page.getbyrole('link', { name: 'anmelden' }).click();\n",
      "  await page.getbylabel('benutzername *').click();\n",
      "  await page.getbylabel('benutzername *').fill('admin');\n",
      "  await page.getbylabel('benutzername *').press('tab');\n",
      "  await page.getbyplaceholder(' ').fill('admin');\n",
      "  await page.getbyrole('button', { name: 'anmelden' }).click();\n",
      "  await page.getbytestid('create-workbook-button').click();\n",
      "======\n",
      "    await page.goto(\"http://localhost:8080/cadenza/\")\n",
      "    await page.getbyrole(\"link\", {name: \"anmelden\"}).click()    \n",
      "    await page.getbylabel(\"benutzername *\").click()\n",
      "    await page.getbylabel(\"benutzername *\").fill(\"admin\")\n",
      "    await page.getbylabel(\"benutzername *\").press(\"tab\")\n",
      "    await page.getbyplaceholder(\" \").fill(\"admin\")\n",
      "    await page.getbyplaceholder(\" \").press(\"enter\")\n",
      "\tawait page.getbytestid('create-workbook-button').click();\n"
     ]
    }
   ],
   "execution_count": 70
  }
 ],
 "metadata": {
  "kernelspec": {
   "display_name": "Python 3",
   "language": "python",
   "name": "python3"
  },
  "language_info": {
   "codemirror_mode": {
    "name": "ipython",
    "version": 2
   },
   "file_extension": ".py",
   "mimetype": "text/x-python",
   "name": "python",
   "nbconvert_exporter": "python",
   "pygments_lexer": "ipython2",
   "version": "2.7.6"
  }
 },
 "nbformat": 4,
 "nbformat_minor": 5
}
