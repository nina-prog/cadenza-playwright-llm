{
 "cells": [
  {
   "metadata": {
    "ExecuteTime": {
     "end_time": "2024-06-18T18:14:57.180708Z",
     "start_time": "2024-06-18T18:14:53.979923Z"
    }
   },
   "cell_type": "code",
   "source": [
    "%load_ext autoreload\n",
    "%autoreload 2\n",
    "from src.llm.access_2_cluster import Access2Cluster\n",
    "\n",
    "cluster = Access2Cluster()\n",
    "await cluster.login()"
   ],
   "id": "c82333c94b0cb8b4",
   "outputs": [],
   "execution_count": 2
  },
  {
   "metadata": {
    "ExecuteTime": {
     "end_time": "2024-06-18T18:16:10.629115Z",
     "start_time": "2024-06-18T18:16:03.471345Z"
    }
   },
   "cell_type": "code",
   "source": [
    "await cluster.start_llm()"
   ],
   "id": "470c7b2c3d3064df",
   "outputs": [],
   "execution_count": 6
  },
  {
   "metadata": {
    "ExecuteTime": {
     "end_time": "2024-06-18T18:15:34.412034Z",
     "start_time": "2024-06-18T18:15:34.296008Z"
    }
   },
   "cell_type": "code",
   "source": [
    "input_message = 'Hi'\n",
    "\n",
    "prompt_template = [{\"role\": \"system\", \"content\": \"You are an text to UI test generator for the Cadenza website. Users will give you a description of a UI test in German and you will generate Playwright javascript code.\"}, {\"role\": \"user\", \"content\": {input_message}}]"
   ],
   "id": "6a51a89c0a021cda",
   "outputs": [],
   "execution_count": 4
  },
  {
   "metadata": {
    "ExecuteTime": {
     "end_time": "2024-06-18T18:18:55.166198Z",
     "start_time": "2024-06-18T18:18:31.749485Z"
    }
   },
   "cell_type": "code",
   "source": [
    "await cluster.run_inference(input_message)"
   ],
   "id": "f1a7c9b9d6903099",
   "outputs": [
    {
     "data": {
      "text/plain": [
       "\"[{'generated_text': '<|im_start|>system\\\\nYou are an text to UI test generator for the Cadenza website. Users will give you a description of a UI test in German and you will generate Playwright javascript code.<|im_end|>\\\\n<|im_start|>user\\\\n<|im_end|>\\\\n<|im_start|>assistant\\\\n_<?_<?_<?_<?_<?_<?_<?_<?_<?_<?_<?_<?_<?_<?_<?_<?_<?_<?_<?_<?_<?_<?_<?_<?_<?_<?_<?_<?_<?_<?_<?_<?_<?_<?_<?_<?_<?_<?_<?_<?_<?_<?_<?_<?_<?_<?_<?_<?_<?_<?_<?_<?_<?_<?_<?_<?_<?_<?_<?_<?_<?_<?_<?_<?_<?_<?_<?_<?_<?_<?_<?_<?_<?_<?_<?_<?_<?_<?_<?_<?_<?_<?_<?_<?_<?_<?_<?_<?_<?_<?_<?_<?_<?_<?_<?_<?_<?_<?_<?_<?_<?_<?_<?_<?_<?_<?_<?_<?_<?_<?_<?_<?_<?_<?_<?_<?_<?_<?_<?_<?_<?_<?_<?_<?_<?_<?_<?_<?_<?_<?_<?_<?_<?_<?_<?_<?_<?_<?_<?_<?_<?_<?_<?_<?_<?_<?_<?_<?_<?_<?_<?_<?_<?_<?_<?_<?_<?_<?_<?_<?_<?_<?_<?_<?_<?_<?_<?_<?_<?_<?_<?_<?_<?_<?_<?_<?_<?_<?_<?_<?_<?_<?_<?_<?_<?_<?_<?_<?_<?_<?_<?_<?_<?_<?_<?_<?_<?_<?_<?_<?_<?_<?_<?_<?_<?_<?_<?_<?_<?_<?_<?_<?_<?_<?_<?_<?_<?_<?_<?_<?_<?_<?_<?_<?_<?_<?_<?_<?_<?_<?_<?_<?_<?_<?_<?_<?_<?_<?_<?_<?_<?_<?_<?_<?_<?_<?_<?_<?_<?_<?_<?_<?_<?_<?_<?'}]\""
      ]
     },
     "execution_count": 8,
     "metadata": {},
     "output_type": "execute_result"
    }
   ],
   "execution_count": 8
  },
  {
   "metadata": {
    "ExecuteTime": {
     "end_time": "2024-06-18T18:19:04.045357Z",
     "start_time": "2024-06-18T18:19:03.597257Z"
    }
   },
   "cell_type": "code",
   "source": [
    "await cluster.shutdown()"
   ],
   "id": "ac5e28c93bbb1b02",
   "outputs": [],
   "execution_count": 9
  },
  {
   "metadata": {},
   "cell_type": "code",
   "outputs": [],
   "execution_count": null,
   "source": [],
   "id": "7e4faf7776d25fe8"
  }
 ],
 "metadata": {
  "kernelspec": {
   "display_name": "Python 3 (ipykernel)",
   "language": "python",
   "name": "python3"
  },
  "language_info": {
   "codemirror_mode": {
    "name": "ipython",
    "version": 3
   },
   "file_extension": ".py",
   "mimetype": "text/x-python",
   "name": "python",
   "nbconvert_exporter": "python",
   "pygments_lexer": "ipython3",
   "version": "3.8.8"
  }
 },
 "nbformat": 4,
 "nbformat_minor": 5
}
