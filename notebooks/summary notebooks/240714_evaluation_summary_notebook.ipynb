{
 "cells": [
  {
   "cell_type": "markdown",
   "metadata": {},
   "source": [
    "# Evaluation\n"
   ]
  },
  {
   "cell_type": "markdown",
   "metadata": {},
   "source": [
    "## Evaluation Methods Summary\n",
    "\n",
    "Metrics implemented and used in this project (see `src/evaluation/metrics.py`) in the evaluation process:\n",
    "\n",
    "### 1. **Weighted BLEU Score** $ \\in [0.0, 1.0] $\n",
    "- **Purpose**: The BLEU score proposed by [Papineni et al. (2002)](https://aclanthology.org/P02-1040.pdf) [1], [2] is a metric that measures the similarity between two sequences of text. The weighted BLEU score is a variant implementd in this project that uses a weighted average of the BLEU scores of the precondition part and the actual generated additional part in teh generated test script. Measures the quality of the generated code by comparing it to reference (validation) code.\n",
    "- **Description**: This method calculates the BLEU score with two components:\n",
    "  - **Precondition Code Accuracy**: Evaluates how well the generated code matches the precondition code.\n",
    "  - **New Lines Accuracy**: Assesses how well the generated code meets the goals by comparing the new lines added.\n",
    "- **Formula**: \n",
    "  \n",
    "  Weighted BLEU Score = (1 - α) * First BLEU Score + α * Second BLEU Score\n",
    "  \n",
    "  Where \\(\\alpha\\) is a weight factor, typically set to 0.5.\n",
    "- **Output**: A floating-point score indicating the degree of similarity between the generated and validation code.\n",
    "\n",
    "### 2. **Success Rate** $ \\in [0.0, 1.0] $\n",
    "- **Purpose**: Evaluates whether the generated code successfully performs the intended functionality.\n",
    "- **Description**: The generated code is executed in a testing environment, and the success rate is determined based on the test's result.\n",
    "- **Procedure**:\n",
    "  1. Modify the generated code to include screenshot commands.\n",
    "  2. Save the updated code to a temporary file.\n",
    "  3. Run the Playwright test.\n",
    "  4. Return `1` if the test passes, otherwise `0`.\n",
    "- **Output**: A binary score (`1` or `0`) representing test success.\n",
    "\n",
    "### 3. **Levenshtein Distance** $ d(s, t) \\in \\mathbb{N} $\n",
    "- **Purpose**: Measures the similarity between the generated code and validation code based on edit distance.\n",
    "- **Description**: The Levenshtein distance between strings $ s $ and $ t $ is an integer that measures the number of single-character edits (insertions, deletions, or substitutions) needed to change the generated code into the validation code. The distance is normalized by the length of the longer code.\n",
    "- **Formula**:\n",
    "  Levenshtein Distance = Edit Distance / Max Length of Generated and Validation Code\n",
    "- **Output**: A floating-point score between 0 and 1, where lower values indicate higher similarity.\n",
    "\n",
    "### 4. **Similarity (Cosine Similarity)**\n",
    "- **Purpose**: Assesses the similarity between screenshots of the generated code and the ground truth.\n",
    "- **Description**: Uses a pre-trained ResNet-18 model to extract image embeddings and calculates the cosine similarity between embeddings of the predicted and ground truth images.\n",
    "- **Procedure**:\n",
    "  1. Load and preprocess the screenshots.\n",
    "  2. Compute embeddings using the ResNet-18 model.\n",
    "  3. Calculate cosine similarity between the embeddings.\n",
    "- **Output**: A floating-point score between 0 and 1, indicating the similarity between the images.\n",
    "\n",
    "## Evaluation Storage\n",
    "\n",
    "- **Evaluation Data**: Evaluation results for different templates and options can be found under `data/scores`.\n",
    "- **Evaluation Code**: The code used for evaluation is stored in `src/eval/metrics.py`.\n",
    "\n",
    "These metrics collectively provide a comprehensive assessment of the generated code's quality and effectiveness.\n"
   ]
  },
  {
   "cell_type": "markdown",
   "metadata": {},
   "source": [
    "## Evaluation Summary\n",
    "\n",
    "The evaluation of generated code was conducted across various templates and configurations, addressing different aspects such as image presence, HTML inclusion, and model fine-tuning. The following types of evaluations were performed:\n",
    "\n",
    "### 1. **Templates with Images**\n",
    "- **Examples**: `pred_test_script_pretr_T4_sc+_html+_single`, `pred_test_script_finetuned_T5_sc+_html+_single`\n",
    "- **Description**: Evaluated scripts that included image-based components, comparing generated outputs with expected results for scenarios where images were part of the test.\n",
    "\n",
    "### 2. **Templates without Images**\n",
    "- **Examples**: `pred_test_script_template_1_no_html_pretrained`, `pred_test_script_pretr_T1_sc-_html-_single`\n",
    "- **Description**: Focused on templates where no images were included. This evaluated the performance and accuracy of generated code in the absence of image-based validation.\n",
    "\n",
    "### 3. **HTML vs. No HTML**\n",
    "- **Examples**: `pred_test_script_pretr_T1_sc+_html-_single`, `pred_test_script_finetuned_T5_sc-_html+_single`\n",
    "- **Description**: Assessed how well the generated scripts handled scenarios with and without HTML components, testing their effectiveness in different contexts.\n",
    "\n",
    "### 4. **Single vs. All Configurations**\n",
    "- **Examples**: `pred_test_script_pretr_T5_sc+_html+_single`, `pred_test_script_pretr_T5_sc+_html+_all`\n",
    "- **Description**: Included evaluations for both single-instance and all-instance configurations to determine the performance across various levels of complexity and data variety.\n",
    "\n",
    "### 5. **Pretrained vs. Finetuned Models**\n",
    "- **Examples**: `pred_test_script_finetuned_T5_sc+_html+_single`, `pred_test_script_pretr_T1_sc-_html+_single`\n",
    "- **Description**: Compared results from pretrained models against those from finetuned models to assess improvements and differences in performance and accuracy.\n",
    "\n",
    "### 6. **Different Attribute Lengths and Concatenation Modes**\n",
    "- **Examples**: `pred_test_script_template_2_html_concat_mode_single_max_attr_length_50_pretrained`, `pred_test_script_template_2_html_concat_mode_all_max_attr_length_50_pretrained`\n",
    "- **Description**: Evaluated the impact of different attribute lengths and concatenation modes on the performance of generated code.\n",
    "\n",
    "\n",
    "This evaluation approach ensured a comprehensive assessment of the generated code under multiple conditions and configurations, providing insights into the effectiveness and accuracy of the different methods.\n"
   ]
  },
  {
   "cell_type": "code",
   "execution_count": null,
   "metadata": {},
   "outputs": [],
   "source": [
    "\"\"\"  \n",
    "##Evaluation\n",
    "In this section, we evaluate the generated code by comparing it with a validation code.\n",
    "We use several metrics such as weighted BLEU score, success rate, and Levenshtein distance.\n",
    "\"\"\"\n",
    "import os\n",
    "import esprima\n",
    "from Levenshtein import distance \n",
    "from src.evaluation.metrics import strip_script_code\n",
    "from nltk.translate.bleu_score import sentence_bleu, SmoothingFunction  \n",
    "\n",
    "\n",
    "def calculate_scores(test_cases: List[dict], config: dict, metrics: list = None) -> dict:\n",
    "    \"\"\"Calculate scores for given metrics across multiple test cases.\n",
    "\n",
    "    :param test_cases: List of dictionaries, each containing 'generated_code', 'validation_code',\n",
    "                       'precondition_code', etc.\n",
    "    :param config: The configuration dictionary.\n",
    "    :param metrics: List of metrics to calculate the scores for, e.g., ['weighted bleu', 'success rate', 'levenshtein distance']\n",
    "    :return: Dictionary containing scores for each metric across all test cases.\n",
    "    \"\"\"\n",
    "    if metrics is None:\n",
    "        metrics = ['weighted bleu', 'success rate', 'levenshtein distance', \"similarity\"]\n",
    "    scores = {metric: [] for metric in metrics}\n",
    "\n",
    "    for test_case in test_cases:\n",
    "        test = test_case.get('test_case', '')\n",
    "        test_step = test_case.get('test_step', '')\n",
    "        generated_code = test_case.get('generated_code', '')\n",
    "        validation_code = test_case.get('validation_code', '')\n",
    "        precondition_code = test_case.get('precondition_code', '')\n",
    "\n",
    "        image_folder_pred = os.path.normpath(config['paths']['eval_run_dir'])\n",
    "        image_folder_gt = os.path.normpath(config['paths']['gt_images'])\n",
    "        logger.debug(f\"Calculating scores for test case {test}_{test_step}...\")\n",
    "\n",
    "        for metric in metrics:\n",
    "            try:\n",
    "                match metric:\n",
    "                    case 'weighted bleu':\n",
    "                        scores[metric].append(\n",
    "                            calculate_weighted_bleu_score(generated_code, validation_code, precondition_code)\n",
    "                        )\n",
    "                    case 'success rate':\n",
    "                        file_name = test + \"_\" + test_step + \".spec.ts\"\n",
    "                        scores[metric].append(\n",
    "                            calculate_success_rate(generated_code, file_name=file_name, config=config)\n",
    "                        )\n",
    "                    case 'similarity':\n",
    "                        file_name = test + \"_\" + test_step\n",
    "                        screenshot_path_pred = os.path.join(image_folder_pred, f\"{file_name}.png\")\n",
    "                        screenshot_path_gt = os.path.join(image_folder_gt, f\"{file_name}.png\")\n",
    "\n",
    "                        model = models.resnet18(weights=ResNet18_Weights.DEFAULT)\n",
    "                        model.eval()\n",
    "\n",
    "                        if not os.path.exists(screenshot_path_gt):\n",
    "                            scores[metric].append(0)\n",
    "                        else:\n",
    "                            # Define your preprocessing steps here\n",
    "                            preprocess = transforms.Compose([\n",
    "                                transforms.Resize((224, 224)),  # Resize the images to the size expected by the model\n",
    "                                transforms.ToTensor(),  # Convert the image to a PyTorch tensor\n",
    "                                transforms.Normalize(mean=[0.485, 0.456, 0.406], std=[0.229, 0.224, 0.225]),\n",
    "                                # Normalize the tensor\n",
    "                            ])\n",
    "                            scores[metric].append(\n",
    "                                encode_and_calculate_similarity(screenshot_path_pred, screenshot_path_gt, model=model,\n",
    "                                                                preprocess=preprocess)\n",
    "                            )\n",
    "                    case 'levenshtein distance':\n",
    "                        scores[metric].append(\n",
    "                            calculate_levenshtein_distance(generated_code, validation_code)\n",
    "                        )\n",
    "                    case _:\n",
    "                        scores[metric].append(None)\n",
    "                        logger.warning(f\"Unknown metric: {metric}. Skipping...\")\n",
    "            except Exception as e:\n",
    "                scores[metric].append(None)\n",
    "                logger.error(f\"Error calculating {metric} for test case {test}_{test_step}: {e}\")\n",
    "    return scores\n",
    "\n",
    "\n",
    "def encode_and_calculate_similarity(pred_img_path, gt_img_path, model, preprocess):\n",
    "    # Check if the prediction image path exists\n",
    "    if not os.path.exists(pred_img_path):\n",
    "        return 0\n",
    "\n",
    "    # Load and preprocess the images\n",
    "    image1 = Image.open(pred_img_path)\n",
    "    image2 = Image.open(gt_img_path)\n",
    "    input_tensor1 = preprocess(image1).unsqueeze(0)  # Create a mini-batch as expected by the model\n",
    "    input_tensor2 = preprocess(image2).unsqueeze(0)\n",
    "\n",
    "    # Encode the images\n",
    "    with torch.no_grad():\n",
    "        embedding1 = model(input_tensor1)\n",
    "        embedding2 = model(input_tensor2)\n",
    "\n",
    "    # Calculate cosine similarity\n",
    "    cos_sim = cosine_similarity(embedding1.numpy(), embedding2.numpy())\n",
    "    return round(cos_sim.item(), 4)\n"
   ]
  },
  {
   "metadata": {},
   "cell_type": "markdown",
   "source": [
    "### Weighted BLEU Score  \n",
    "\n",
    "For the scoring of our generated predictions, we chose multiple scores. Our foremost score is the BLEU score, which is a frequent metric for LLMs, so we chose to implement it here as well.\n",
    "The BLEU score uses a similarity measure between the n-grams of the sample compared to the references he gets.<br>\n",
    "The reference in our case is the human-made code for the described test step. We chose to use the default configuration for the BLEU weights, which utilizes 1-grams up to 4-grams. All n-grams are uniformly weighted and have equal weight in the result."
   ]
  },
  {
   "metadata": {},
   "cell_type": "markdown",
   "source": [
    "Our weighted Bleu score separately evaluates the code from the precondition, which is copied by the LLM, and the newly generated code for the current step. This is intended to decouple the final result from the length of the precondition. Both parts are evaluated with 50 percent each."
   ]
  },
  {
   "metadata": {},
   "cell_type": "code",
   "outputs": [],
   "execution_count": null,
   "source": [
    "\n",
    "def calculate_weighted_bleu_score(generated_code: str, validation_code: str, precondition_code: str,\n",
    "                                  alpha: float = 0.5) -> float:\n",
    "    \"\"\" This method returns the BLEU score of the given generated code.\n",
    "\n",
    "    :param generated_code: The generated code from the LLM as Python or TypeScript playwright script.\n",
    "    :param validation_code: Examples for validation as Python or TypeScript playwright script.\n",
    "    :param precondition_code: The precondition of the step as Python or TypeScript playwright script\n",
    "    :param alpha: The weight of the second part of the BLEU score.\n",
    "    :return: The BLEU score of the given generated code.\n",
    "    \"\"\"\n",
    "    generated_code_tokens = esprima.tokenize(generated_code)\n",
    "    validation_code_tokens = esprima.tokenize(validation_code)\n",
    "    precondition_code_tokens = esprima.tokenize(precondition_code)\n",
    "\n",
    "    # Convert tokens to string\n",
    "    generated_code_tokens = [str(elem) for elem in generated_code_tokens]\n",
    "    validation_code_tokens = [str(elem) for elem in validation_code_tokens]\n",
    "    precondition_code_tokens = [str(elem) for elem in precondition_code_tokens]\n",
    "\n",
    "    precondition_code_length = len(precondition_code_tokens)\n",
    "    precondition_code_length_without_end_lines = -1\n",
    "    for i in range(precondition_code_length):\n",
    "        if validation_code_tokens[i] != precondition_code_tokens[i]:\n",
    "            precondition_code_length_without_end_lines = i\n",
    "            break\n",
    "\n",
    "    # Define a smoothing function for BLEU score calculation\n",
    "    smoothing_function = SmoothingFunction().method1\n",
    "\n",
    "    # The first part: Has the LLM correctly copied the precondition code?\n",
    "    first_bleu_score = sentence_bleu(references=[validation_code_tokens[:precondition_code_length_without_end_lines]],\n",
    "                                     hypothesis=generated_code_tokens[:precondition_code_length_without_end_lines],\n",
    "                                     smoothing_function=smoothing_function)\n",
    "\n",
    "    # The second part: Has the LLM correctly added the new lines to reach the given goal?\n",
    "    second_bleu_score = sentence_bleu(references=[validation_code_tokens[precondition_code_length_without_end_lines:]],\n",
    "                                      hypothesis=generated_code_tokens[precondition_code_length_without_end_lines:],\n",
    "                                      smoothing_function=smoothing_function)\n",
    "\n",
    "    return (1 - alpha) * first_bleu_score + alpha * second_bleu_score\n",
    "\n",
    "\n",
    "def calculate_success_rate(generated_code: str, file_name: str, config: dict):\n",
    "    \"\"\"Returns the success rate of the given generated code.\"\"\"\n",
    "    try:\n",
    "        # Normalize paths\n",
    "        eval_run_dir = os.path.normpath(config['paths']['eval_run_dir'])\n",
    "        screen_shot_dir = os.path.join(eval_run_dir, 'screenshots')\n",
    "\n",
    "        # Logging paths and current working directory\n",
    "        logger.debug(f\"Current working directory: {os.getcwd()}\")\n",
    "        logger.debug(f\"Screenshot directory: {screen_shot_dir}\")\n",
    "        logger.debug(f\"Evaluation run directory: {eval_run_dir}\")\n",
    "\n",
    "        # Create directories for screenshots\n",
    "        os.makedirs(screen_shot_dir, exist_ok=True)\n",
    "        file_name_png = file_name.split(\".\")[0]  # remove .spec.ts\n",
    "        screenshot_path = os.path.join(screen_shot_dir, f\"{file_name_png}.png\")\n",
    "        # Replace backslashes with forward slashes\n",
    "        screenshot_path = screenshot_path.replace(\"\\\\\", \"/\")\n",
    "        logger.debug(f\"Screenshot path: {screenshot_path}\")\n",
    "\n",
    "        screenshot_code = f\"  await page.screenshot({{ path: '{screenshot_path}' }});\\n\"\n",
    "        time_out = 30000\n",
    "        time_out_code = f\"  test.setTimeout({time_out});\\n\"\n",
    "\n",
    "        generated_code = generated_code.split(\"\\n\")\n",
    "\n",
    "        #### insert screenshot code\n",
    "        # Find the position to insert the screenshot command\n",
    "        assert type(generated_code) == type([])\n",
    "        insert_position = 0\n",
    "        for i, line in enumerate(generated_code):\n",
    "            if 'async' in line and 'test(' in line:\n",
    "                insert_position = i + 1\n",
    "                break\n",
    "\n",
    "        # Insert the timeout code and screenshot command\n",
    "        generated_code.insert(insert_position, time_out_code)\n",
    "        found_position = 0\n",
    "        last_await_position = 0\n",
    "        for i, line in enumerate(generated_code):\n",
    "            if \"await page.close()\" in line or \"await context.close()\" in line or \"await browser.close()\" in line:\n",
    "                found_position = 1\n",
    "                insert_position = i\n",
    "                break\n",
    "            if \"await\" in line:\n",
    "                last_await_position = i + 1  # position after the last \"await\" line\n",
    "\n",
    "        if found_position == 0:\n",
    "            insert_position = last_await_position\n",
    "\n",
    "        # Insert the screenshot and HTML extraction commands\n",
    "        generated_code.insert(insert_position, screenshot_code)\n",
    "        ####\n",
    "\n",
    "        # Ensure the directory for the temp_path exists\n",
    "        temp_dir = os.path.join(eval_run_dir, \"test_script\")\n",
    "        os.makedirs(temp_dir, exist_ok=True)\n",
    "        logger.debug(f\"Created temp directory: {temp_dir}\")\n",
    "\n",
    "        temp_path = os.path.join(temp_dir, file_name)\n",
    "        logger.debug(f\"Temp file path: {temp_path}\")\n",
    "\n",
    "        # Save updated test code to a temporary file\n",
    "        try:\n",
    "            with open(temp_path, 'w', encoding=\"utf-8\") as file:\n",
    "                file.write(\"\\n\".join(generated_code))\n",
    "            logger.debug(f\"File {temp_path} created successfully.\")\n",
    "        except Exception as e:\n",
    "            logger.error(f\"Failed to create the file {temp_path}. Error: {e}\")\n",
    "            return 0\n",
    "\n",
    "        # Small delay to account for file system delays\n",
    "        time.sleep(1)\n",
    "\n",
    "        # Run the Playwright test\n",
    "        try:\n",
    "            logger.debug(f\"Current working directory: {os.getcwd()}\")\n",
    "            result = os.system(f\"npx playwright test {temp_path} --config=config/playwright.config.ts\")\n",
    "            score = 1 if result == 1 else 0\n",
    "        except Exception as e:\n",
    "            logger.error(f\"Failed to run Playwright test. Error: {e}\")\n",
    "            return 0\n",
    "\n",
    "        # Delete temp file after test run if defined in config\n",
    "        if config.get('evaluation', {}).get('delete_temp_files', False):\n",
    "            try:\n",
    "                os.remove(temp_path)\n",
    "                logger.debug(f\"Deleted temp file {temp_path}.\")\n",
    "            except Exception as e:\n",
    "                logger.error(f\"Failed to delete temp file {temp_path}. Error: {e}\")\n",
    "\n",
    "        logger.debug(f\"Playwright test result: {result}\")\n",
    "        return score\n",
    "\n",
    "    except Exception as e:\n",
    "        logger.error(f\"An error occurred: {e}\")\n",
    "        return 0\n"
   ]
  },
  {
   "metadata": {},
   "cell_type": "markdown",
   "source": [
    "### Levenshtein Distance\n",
    "The scoring function for our validation samples is the Levenshtein distance. This measures the distance between two strings by the amount of necessary single-character operations to turn one string into another. These operations are remove, add, and replace. So the maximum distance this measure can calculate is the maximum length of input strings. Since later tests involve longer preconditions and descriptions the chance for mistakes is higher, so the Levenshtein distance would always increase for the longer test and be lower for the shorter tests. To counteract this, we normalize the distance to values between 0 and 1 by dividing with the maximum length of the input strings. This represents small errors or deviations in tests much better since those should perform better than very short and error-riddled tests."
   ]
  },
  {
   "metadata": {},
   "cell_type": "code",
   "outputs": [],
   "execution_count": null,
   "source": [
    "def calculate_levenshtein_distance(generated_code, validation_code):\n",
    "    \"\"\" This method returns the Levenshtein distance of the given generated code.\n",
    "\n",
    "    :param generated_code: The generated code from the LLM as TypeScript playwright script.\n",
    "    :param validation_code: Examples for validation TypeScript playwright script.\n",
    "    :return: The Levenshtein distance over the length of the max code length of the given generated code.\n",
    "    \"\"\"\n",
    "    gen_script = ' '.join(strip_script_code(generated_code))\n",
    "    vd_script = ' '.join(strip_script_code(validation_code))\n",
    "\n",
    "    len_gen = len(generated_code)\n",
    "    len_valid = len(validation_code)\n",
    "    max_len = max(len_gen, len_valid)\n",
    "\n",
    "    score = distance(gen_script, vd_script) / max_len\n",
    "\n",
    "    return score\n",
    "\n",
    "# Validate the generated code (if validation_path is provided)\n",
    "if validation_path:\n",
    "    validation_code = parse_code(validation_path)\n",
    "    scores = calculate_scores(generated_code=generated_code, validation_code=validation_code, precondition_code=precondition_text, programming_language='Python')  # Adjust language as needed\n",
    "    print(\"Validation Scores:\", scores)\n"
   ]
  },
  {
   "cell_type": "markdown",
   "metadata": {},
   "source": []
  },
  {
   "metadata": {},
   "cell_type": "markdown",
   "source": [
    "# Evaluation Summary"
   ]
  },
  {
   "metadata": {
    "ExecuteTime": {
     "end_time": "2024-07-20T22:30:41.682275Z",
     "start_time": "2024-07-20T22:30:41.234855Z"
    }
   },
   "cell_type": "code",
   "source": [
    "import pandas as pd\n",
    "import os"
   ],
   "outputs": [],
   "execution_count": 1
  },
  {
   "metadata": {
    "ExecuteTime": {
     "end_time": "2024-07-20T22:31:28.948077Z",
     "start_time": "2024-07-20T22:31:28.939691Z"
    }
   },
   "cell_type": "code",
   "source": [
    "df = pd.read_csv('./../../data/scores/eval_scores_all.csv')"
   ],
   "outputs": [],
   "execution_count": 4
  },
  {
   "metadata": {
    "ExecuteTime": {
     "end_time": "2024-07-20T22:32:59.800664Z",
     "start_time": "2024-07-20T22:32:59.785752Z"
    }
   },
   "cell_type": "code",
   "source": [
    "list = df['prediction_dir'].unique()\n",
    "excluded_list = []\n",
    "for i in list:\n",
    "    if \"max_attr\" in i:\n",
    "        excluded_list.append(i)\n",
    "    elif \"test_set\" in i:\n",
    "        excluded_list.append(i)\n",
    "    elif \"_sc\" not in i:\n",
    "        excluded_list.append(i)\n",
    "    elif \"_html\" not in i:\n",
    "        excluded_list.append(i)\n",
    "    elif \"_T\" not in i:\n",
    "        excluded_list.append(i)\n",
    "rel_list = [x for x in list if x not in excluded_list]\n",
    "\n",
    "df_dic = {}\n",
    "score_dic = {}\n",
    "for el in rel_list:\n",
    "    df_dic[el] = df[df['prediction_dir'] == el]\n",
    "for el in rel_list:\n",
    "    bleu = df_dic[el]['weighted bleu'].mean()\n",
    "    succ_rate = df_dic[el]['success rate'].mean()\n",
    "    lev_dist = df_dic[el]['levenshtein distance'].mean()\n",
    "    sim = df_dic[el]['similarity'].mean()\n",
    "    \n",
    "    score_dic[el] = [bleu, succ_rate, lev_dist, sim]"
   ],
   "outputs": [],
   "execution_count": 6
  },
  {
   "metadata": {
    "ExecuteTime": {
     "end_time": "2024-07-20T22:33:02.792446Z",
     "start_time": "2024-07-20T22:33:02.788205Z"
    }
   },
   "cell_type": "code",
   "source": [
    "for el in rel_list:\n",
    "    print(el,\": \", score_dic[el],\"\\n\")# order BLEU,SucRate,LevDist, SimScore"
   ],
   "outputs": [
    {
     "name": "stdout",
     "output_type": "stream",
     "text": [
      "data/prediction/pred_test_script_finetuned_T1_sc+_html+_single/ :  [0.6238876998306156, 1.0, 0.3144528211805267, 0.0] \n",
      "\n",
      "data/prediction/pred_test_script_finetuned_T1_sc-_html+_single/ :  [0.7978877506485907, 1.0, 0.07263106238627116, 0.0] \n",
      "\n",
      "data/prediction/pred_test_script_finetuned_T5_sc+_html+_single/ :  [0.6539843409967431, 1.0, 0.20876644679554532, 0.0] \n",
      "\n",
      "data/prediction/pred_test_script_finetuned_T5_sc-_html+_single/ :  [0.7951108638978999, 1.0, 0.06291960074643649, 0.0] \n",
      "\n",
      "data/prediction/pred_test_script_pretr_T1_sc+_html+_all/ :  [0.410849679497375, 1.0, 0.3037133970071445, 0.0] \n",
      "\n",
      "data/prediction/pred_test_script_pretr_T1_sc+_html+_single/ :  [0.44735627392871585, 1.0, 0.25635185155034884, 0.0] \n",
      "\n",
      "data/prediction/pred_test_script_pretr_T1_sc+_html-_single/ :  [0.2985081180354515, 1.0, 0.4101583529458054, 0.0] \n",
      "\n",
      "data/prediction/pred_test_script_pretr_T1_sc-_html+_single/ :  [0.43623929414048274, 1.0, 0.3357728404355431, 0.0] \n",
      "\n",
      "data/prediction/pred_test_script_pretr_T1_sc-_html-_single/ :  [0.32615808305155664, 1.0, 0.3839561739841793, 0.0] \n",
      "\n",
      "data/prediction/pred_test_script_pretr_T2_sc+_html+_single/ :  [0.3994676776884143, 1.0, 0.348674571339635, 0.0] \n",
      "\n",
      "data/prediction/pred_test_script_pretr_T3_sc+_html+_single/ :  [0.39687346488140346, 1.0, 0.39756964672408657, 0.0] \n",
      "\n",
      "data/prediction/pred_test_script_pretr_T4_sc+_html+_single/ :  [0.3926198363216162, 1.0, 0.3434960266372642, 0.0] \n",
      "\n",
      "data/prediction/pred_test_script_pretr_T5_sc+_html+_all/ :  [0.45370072478415674, 1.0, 0.2562852252312223, 0.0] \n",
      "\n",
      "data/prediction/pred_test_script_pretr_T5_sc+_html+_single/ :  [0.47075838428413214, 1.0, 0.23181610064026512, 0.0] \n",
      "\n",
      "data/prediction/pred_test_script_pretr_T5_sc-_html+_single/ :  [0.492616249511484, 1.0, 0.21960435749827611, 0.0] \n",
      "\n"
     ]
    }
   ],
   "execution_count": 7
  },
  {
   "metadata": {},
   "cell_type": "markdown",
   "source": [
    "General observation is that all our generated scripts seemed to work with playwright without generating any fatal errors as the success rate is \"1.0\" for all."
   ]
  },
  {
   "metadata": {
    "ExecuteTime": {
     "end_time": "2024-07-20T22:34:53.182122Z",
     "start_time": "2024-07-20T22:34:53.178361Z"
    }
   },
   "cell_type": "code",
   "source": [
    "# Baseline pretrained_model, Template1 with screenshots with html concat-mode: single\n",
    "base = 'data/prediction/pred_test_script_pretr_T1_sc+_html+_single/'\n",
    "print(\"Template 1: \", score_dic[base])"
   ],
   "outputs": [
    {
     "name": "stdout",
     "output_type": "stream",
     "text": [
      "Template 1:  [0.44735627392871585, 1.0, 0.25635185155034884, 0.0]\n"
     ]
    }
   ],
   "execution_count": 8
  },
  {
   "metadata": {},
   "cell_type": "markdown",
   "source": [
    "This is our baseline performance for this evaluation"
   ]
  },
  {
   "metadata": {},
   "cell_type": "markdown",
   "source": [
    "### Template variations"
   ]
  },
  {
   "metadata": {
    "ExecuteTime": {
     "end_time": "2024-07-20T22:35:24.846263Z",
     "start_time": "2024-07-20T22:35:24.841755Z"
    }
   },
   "cell_type": "code",
   "source": [
    "temp2 = 'data/prediction/pred_test_script_pretr_T2_sc+_html+_single/'\n",
    "temp3 = 'data/prediction/pred_test_script_pretr_T3_sc+_html+_single/'\n",
    "temp4 = 'data/prediction/pred_test_script_pretr_T4_sc+_html+_single/'\n",
    "temp5 = 'data/prediction/pred_test_script_pretr_T5_sc+_html+_single/'\n",
    "\n",
    "print(\"Template 1: \", score_dic[base])\n",
    "print(\"Template 2: \", score_dic[temp2])\n",
    "print(\"Template 3: \", score_dic[temp3])\n",
    "print(\"Template 4: \", score_dic[temp4])\n",
    "print(\"Template 5: \", score_dic[temp5])"
   ],
   "outputs": [
    {
     "name": "stdout",
     "output_type": "stream",
     "text": [
      "Template 1:  [0.44735627392871585, 1.0, 0.25635185155034884, 0.0]\n",
      "Template 2:  [0.3994676776884143, 1.0, 0.348674571339635, 0.0]\n",
      "Template 3:  [0.39687346488140346, 1.0, 0.39756964672408657, 0.0]\n",
      "Template 4:  [0.3926198363216162, 1.0, 0.3434960266372642, 0.0]\n",
      "Template 5:  [0.47075838428413214, 1.0, 0.23181610064026512, 0.0]\n"
     ]
    }
   ],
   "execution_count": 9
  },
  {
   "metadata": {},
   "cell_type": "markdown",
   "source": [
    "As we see above, the base case with template 1 and template 5 perform far better than the other templates.\n",
    "Though it is to be mentioned that there is also large gap between template 1 und 5 in favor of template 5"
   ]
  },
  {
   "metadata": {},
   "cell_type": "markdown",
   "source": [
    "### Variations with contextual informations"
   ]
  },
  {
   "metadata": {
    "ExecuteTime": {
     "end_time": "2024-07-20T22:36:44.238773Z",
     "start_time": "2024-07-20T22:36:44.234750Z"
    }
   },
   "cell_type": "code",
   "source": [
    "no_scr = 'data/prediction/pred_test_script_pretr_T1_sc-_html+_single/'\n",
    "no_html = 'data/prediction/pred_test_script_pretr_T1_sc+_html-_single/'\n",
    "no_scrNhtml = 'data/prediction/pred_test_script_pretr_T1_sc-_html-_single/'\n",
    "\n",
    "print(\"Template 1: \", score_dic[base])\n",
    "print(\"No Screenshot: \", score_dic[no_scr])\n",
    "print(\"No HTML: \", score_dic[no_html])\n",
    "print(\"Neither: \", score_dic[no_scrNhtml])"
   ],
   "outputs": [
    {
     "name": "stdout",
     "output_type": "stream",
     "text": [
      "Template 1:  [0.44735627392871585, 1.0, 0.25635185155034884, 0.0]\n",
      "No Screenshot:  [0.43623929414048274, 1.0, 0.3357728404355431, 0.0]\n",
      "No HTML:  [0.2985081180354515, 1.0, 0.4101583529458054, 0.0]\n",
      "Neither:  [0.32615808305155664, 1.0, 0.3839561739841793, 0.0]\n"
     ]
    }
   ],
   "execution_count": 10
  },
  {
   "metadata": {},
   "cell_type": "markdown",
   "source": [
    "As expected the base case with the most contextual information performs the best. But important to notice the case without the screenshot is not far behind. "
   ]
  },
  {
   "metadata": {},
   "cell_type": "markdown",
   "source": [
    "### Variations within processing parameters"
   ]
  },
  {
   "metadata": {
    "ExecuteTime": {
     "end_time": "2024-07-20T22:36:57.356395Z",
     "start_time": "2024-07-20T22:36:57.352798Z"
    }
   },
   "cell_type": "code",
   "source": [
    "T1_concat_all = 'data/prediction/pred_test_script_pretr_T1_sc+_html+_all/'\n",
    "T5_concat_single = 'data/prediction/pred_test_script_pretr_T5_sc+_html+_single/'\n",
    "T5_concat_all = 'data/prediction/pred_test_script_pretr_T5_sc+_html+_all/'\n",
    "print(\"T1 - Base/Single: \", score_dic[base])\n",
    "print(\"T1 - All: \", score_dic[T1_concat_all])\n",
    "\n",
    "print(\"T5 - Single: \", score_dic[T5_concat_single])\n",
    "print(\"T5 - All: \", score_dic[T5_concat_all])"
   ],
   "outputs": [
    {
     "name": "stdout",
     "output_type": "stream",
     "text": [
      "T1 - Base/Single:  [0.44735627392871585, 1.0, 0.25635185155034884, 0.0]\n",
      "T1 - All:  [0.410849679497375, 1.0, 0.3037133970071445, 0.0]\n",
      "T5 - Single:  [0.47075838428413214, 1.0, 0.23181610064026512, 0.0]\n",
      "T5 - All:  [0.45370072478415674, 1.0, 0.2562852252312223, 0.0]\n"
     ]
    }
   ],
   "execution_count": 11
  },
  {
   "metadata": {},
   "cell_type": "markdown",
   "source": [
    "Also the \"single\"-concat mode seems to outperform \"all\"-concat mode for both our top performing templates."
   ]
  },
  {
   "metadata": {},
   "cell_type": "markdown",
   "source": [
    "### Pretrained vs Finetuned"
   ]
  },
  {
   "metadata": {
    "ExecuteTime": {
     "end_time": "2024-07-20T22:38:17.709094Z",
     "start_time": "2024-07-20T22:38:17.704813Z"
    }
   },
   "cell_type": "code",
   "source": [
    "base = 'data/prediction/pred_test_script_pretr_T1_sc+_html+_single/'\n",
    "pre_t5 = 'data/prediction/pred_test_script_pretr_T5_sc+_html+_single/'\n",
    "\n",
    "print(\"Pre - Template 1: \", score_dic[base])\n",
    "print(\"Pre - Template 5: \", score_dic[pre_t5])\n",
    "\n",
    "ft_t1 = 'data/prediction/pred_test_script_finetuned_T1_sc+_html+_single/'\n",
    "ft_t5  = 'data/prediction/pred_test_script_finetuned_T5_sc+_html+_single/'\n",
    "\n",
    "print(\"Ft - Template 1: \", score_dic[ft_t1])\n",
    "print(\"Ft - Template 5: \", score_dic[ft_t5])"
   ],
   "outputs": [
    {
     "name": "stdout",
     "output_type": "stream",
     "text": [
      "Pre - Template 1:  [0.44735627392871585, 1.0, 0.25635185155034884, 0.0]\n",
      "Pre - Template 5:  [0.47075838428413214, 1.0, 0.23181610064026512, 0.0]\n",
      "Ft - Template 1:  [0.6238876998306156, 1.0, 0.3144528211805267, 0.0]\n",
      "Ft - Template 5:  [0.6539843409967431, 1.0, 0.20876644679554532, 0.0]\n"
     ]
    }
   ],
   "execution_count": 12
  },
  {
   "metadata": {},
   "cell_type": "markdown",
   "source": [
    "Our finetuning did improve our performance quite a bit. Both templates reach a BLEU score above 50 which means they are able to accurately return the precondition and also manage to generate somewhat fitting new code."
   ]
  },
  {
   "metadata": {},
   "cell_type": "markdown",
   "source": [
    "### Finetuning with or without screenshots"
   ]
  },
  {
   "metadata": {
    "ExecuteTime": {
     "end_time": "2024-07-20T22:39:37.061481Z",
     "start_time": "2024-07-20T22:39:37.057396Z"
    }
   },
   "cell_type": "code",
   "source": [
    "t1_w = 'data/prediction/pred_test_script_finetuned_T1_sc+_html+_single/'\n",
    "t5_w  = 'data/prediction/pred_test_script_finetuned_T5_sc+_html+_single/'\n",
    "\n",
    "t1_wo = 'data/prediction/pred_test_script_finetuned_T1_sc-_html+_single/'\n",
    "t5_wo = 'data/prediction/pred_test_script_finetuned_T5_sc-_html+_single/'\n",
    "\n",
    "print(\"With Screenshot - Template 1: \", score_dic[t1_w])\n",
    "print(\"With Screenshot - Template 5: \", score_dic[t5_w])\n",
    "\n",
    "print(\"Without Screenshot - Template 1: \", score_dic[t1_wo])\n",
    "print(\"Without Screenshot - Template 5: \", score_dic[t5_wo])"
   ],
   "outputs": [
    {
     "name": "stdout",
     "output_type": "stream",
     "text": [
      "With Screenshot - Template 1:  [0.6238876998306156, 1.0, 0.3144528211805267, 0.0]\n",
      "With Screenshot - Template 5:  [0.6539843409967431, 1.0, 0.20876644679554532, 0.0]\n",
      "Without Screenshot - Template 1:  [0.7978877506485907, 1.0, 0.07263106238627116, 0.0]\n",
      "Without Screenshot - Template 5:  [0.7951108638978999, 1.0, 0.06291960074643649, 0.0]\n"
     ]
    }
   ],
   "execution_count": 13
  },
  {
   "metadata": {},
   "cell_type": "markdown",
   "source": [
    "# Conclusion\n",
    "\n",
    "The version of the finetuned model which used the templates without screenshots seemed to perform the best by far. Independent of the template.<br>\n",
    "Which seems to indicate that the most valuable data can be gained without screenshot and can be easier understood if the noise generated by the screenshot is removed.\n",
    "\n",
    "Thus, in summary the finetuned models without screenshots perform by far the best. Though if we were to only look at the BLEU Score, template 1 seems to be slightly favored.<br>\n",
    "But in regard to how close we got to the human-made test script, template 5 seems to be slightly ahead as indicated by the Levenshtein distance.\n",
    "So we can't identify a clear winner, template 5 seems to perform on average the best over all observed configurations.  \n"
   ]
  },
  {
   "cell_type": "code",
   "execution_count": null,
   "outputs": [],
   "source": [],
   "metadata": {
    "collapsed": false
   }
  }
 ],
 "metadata": {
  "kernelspec": {
   "display_name": "Python 3",
   "language": "python",
   "name": "python3"
  },
  "language_info": {
   "codemirror_mode": {
    "name": "ipython",
    "version": 3
   },
   "file_extension": ".py",
   "mimetype": "text/x-python",
   "name": "python",
   "nbconvert_exporter": "python",
   "pygments_lexer": "ipython3",
   "version": "3.10.14"
  }
 },
 "nbformat": 4,
 "nbformat_minor": 0
}
