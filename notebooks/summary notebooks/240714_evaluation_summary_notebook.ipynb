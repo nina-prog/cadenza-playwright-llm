{
 "cells": [
  {
   "cell_type": "code",
   "execution_count": 1,
   "metadata": {
    "ExecuteTime": {
     "end_time": "2024-06-25T10:11:45.364390800Z",
     "start_time": "2024-06-25T10:11:45.274817500Z"
    },
    "collapsed": false
   },
   "outputs": [],
   "source": [
    "%load_ext autoreload\n",
    "%autoreload 2"
   ]
  },
  {
   "cell_type": "markdown",
   "metadata": {},
   "source": [
    "Structure of the notebook:"
   ]
  },
  {
   "cell_type": "markdown",
   "metadata": {},
   "source": []
  },
  {
   "cell_type": "code",
   "execution_count": 25,
   "metadata": {
    "ExecuteTime": {
     "end_time": "2024-06-25T11:05:05.579107400Z",
     "start_time": "2024-06-25T11:05:05.496958600Z"
    },
    "collapsed": false
   },
   "outputs": [],
   "source": [
    "import sqlite3\n",
    "from bs4 import BeautifulSoup\n",
    "\n",
    "from src.main import main, main_cluster_multimodal_model\n",
    "from src.utils.helpers import truncate_text, clean_string\n",
    "from src.utils.logger import setup_logger\n",
    "from src.llm.access_2_cluster import Access2Cluster\n",
    "\n",
    "import logging\n",
    "from src.data.html_processor import extract_html_info\n",
    "from src.data.code_processor import parse_code\n",
    "from src.data.image_processor import extract_text_from_image\n",
    "from src.input_builder import create_input\n",
    "from src.ui_tests.test_generation import generate_code\n",
    "from src.evaluation import calculate_scores\n",
    "from src.utils.logger import setup_logger\n",
    "\n",
    "\n",
    "logger = setup_logger(__name__, level='DEBUG') # Change to 'INFO' for less verbosity"
   ]
  },
  {
   "cell_type": "markdown",
   "metadata": {
    "collapsed": false
   },
   "source": [
    "# Load Data"
   ]
  },
  {
   "cell_type": "code",
   "execution_count": 3,
   "metadata": {
    "ExecuteTime": {
     "end_time": "2024-06-25T10:11:52.587416200Z",
     "start_time": "2024-06-25T10:11:52.492688700Z"
    },
    "collapsed": false
   },
   "outputs": [
    {
     "name": "stdout",
     "output_type": "stream",
     "text": [
      "There are 100 data.\n"
     ]
    }
   ],
   "source": [
    "# Connect to the database\n",
    "conn = sqlite3.connect('../data/raw/playwright_script.db')\n",
    "cursor = conn.cursor()\n",
    "\n",
    "res = cursor.execute(\"SELECT * FROM tests\")\n",
    "items = res.fetchall()\n",
    "\n",
    "print(\"There are {} data.\".format(len(items)))"
   ]
  },
  {
   "cell_type": "code",
   "execution_count": 4,
   "metadata": {
    "ExecuteTime": {
     "end_time": "2024-06-25T10:11:52.681472500Z",
     "start_time": "2024-06-25T10:11:52.586792200Z"
    },
    "collapsed": false
   },
   "outputs": [
    {
     "data": {
      "text/plain": [
       "('1.1',\n",
       " '[1.1] Öffne die Arbeitsmappe \"Übersicht Messstellen\" im Ordner \"Gewässergüte\".',\n",
       " '[1.1] Expected result: Die Arbeitsmappe wird geöffnet, der Analysekontext ist nicht sichtbar.',\n",
       " '.\\\\html\\\\1_1.html',\n",
       " '.\\\\screenshot\\\\1_1.png',\n",
       " '.\\\\test_script\\\\1_1.spec.ts')"
      ]
     },
     "execution_count": 4,
     "metadata": {},
     "output_type": "execute_result"
    }
   ],
   "source": [
    "# Check the first item\n",
    "items[0]"
   ]
  },
  {
   "cell_type": "markdown",
   "metadata": {
    "collapsed": false
   },
   "source": [
    "# Approach\n",
    "\n",
    "Use a Pre-trained LLM:\n",
    "* GPT-3, GPT-3.5, or a lighter version like GPT-2 (well-suited for text generation tasks)\n",
    "* Fine-tuning or adapting for specific tasks later possible\n",
    "\n",
    "Steps:\n",
    "1. ✅ HTML Processing: Extract relevant information from the HTML file.\n",
    "    * Use **BeautifulSoup** or lxml in Python to parse and extract information from the HTML file. ➡️ see src.data.html_processor.py\n",
    "2. ✅ Image Processing: Extract relevant information from the image:\n",
    "    * Use image-to-text models like **Tesseracts** or pytesseract (OCR libraries) to extract text from the image. ➡️ see src.data.image_processor.py\n",
    "    * Use OpenCV or PIL (Pillow) in Python to process the image and extract relevant information.\n",
    "3. Summarize the image and HTML information and the prompt from the playwright test code using T5 model. (optional)\n",
    "4. ✅ Python Processing: Parse the given playwright test code for previous step as a precondition. ➡️ see src.data.python_processor.py\n",
    "5. ✅ Combine the extracted information from the HTML and the image with the prompt for the language model. ➡️ see src.data.input_combiner.py\n",
    "6. ✅ Pass the combined input to the language model for generating the UI test code. ➡️ see src.ui_tests.test_generation.py\n",
    "\n",
    "➡️ Run locally via notebook or script using the src.main.py"
   ]
  },
  {
   "cell_type": "markdown",
   "metadata": {
    "collapsed": false
   },
   "source": [
    "# HTML Processing"
   ]
  },
  {
   "cell_type": "code",
   "execution_count": 5,
   "metadata": {
    "ExecuteTime": {
     "end_time": "2024-06-25T10:11:52.756824800Z",
     "start_time": "2024-06-25T10:11:52.681472500Z"
    },
    "collapsed": false
   },
   "outputs": [],
   "source": [
    "# load example file\n",
    "html_path = './html/0_1.html'"
   ]
  },
  {
   "cell_type": "markdown",
   "metadata": {
    "collapsed": false
   },
   "source": [
    "Option 1: Parse all HTML content by extracting the text from it using BeautifulSoup:"
   ]
  },
  {
   "cell_type": "code",
   "execution_count": 6,
   "metadata": {
    "ExecuteTime": {
     "end_time": "2024-06-25T10:11:52.835270Z",
     "start_time": "2024-06-25T10:11:52.756824800Z"
    },
    "collapsed": false
   },
   "outputs": [],
   "source": [
    "def parse_html(html_path: str, max_length: int = 200) -> str:\n",
    "    \"\"\" Parse the HTML content from a file using BeautifulSoup. It extracts the text content and truncates it to the given maximum length.\n",
    "\n",
    "    :param max_length: The maximum length of the text.\n",
    "    :param html_path: The path to the HTML file.\n",
    "    :return: The text content of the HTML file.\n",
    "    \"\"\"\n",
    "    # Load HTML content from a file\n",
    "    with open(html_path, \"r\") as file:\n",
    "        html_content = file.read()\n",
    "\n",
    "    # Parse the HTML content\n",
    "    soup = BeautifulSoup(html_content, 'html.parser')\n",
    "\n",
    "    # Get the text content\n",
    "    html_text = soup.get_text(strip=True)\n",
    "\n",
    "    # Truncate the text to the maximum length\n",
    "    html_text = truncate_text(html_text, max_length=max_length)\n",
    "\n",
    "    logger.debug(f\"HTML content parsed successfully. - Lines of Code: {len(html_text.splitlines())}\")\n",
    "\n",
    "    return html_text"
   ]
  },
  {
   "cell_type": "code",
   "execution_count": 7,
   "metadata": {
    "ExecuteTime": {
     "end_time": "2024-06-25T10:11:53.106698800Z",
     "start_time": "2024-06-25T10:11:52.836538700Z"
    },
    "collapsed": false
   },
   "outputs": [
    {
     "name": "stdout",
     "output_type": "stream",
     "text": [
      "2024-06-25 12:11:53 [\u001B[34m__main__:21\u001B[0m] [DEBUG\u001B[0m] >>>> HTML content parsed successfully. - Lines of Code: 3\u001B[0m\n",
      "Startseite - disy CadenzaAchtung!Ihr Browser unterstÃ¼tzt kein JavaScript oder JavaScript wurde in Ihrem Browser deaktiviert.Bitte verwenden Sie einen Browser, der JavaScript unterstÃ¼tzt, oder aktivieren Sie JavaScript in Ihrem Browser. Ohne aktiviertes JavaScript ist die Anwendung nicht nutzbar.OfflineVerbinden â€¦Zum Navigatorbaum springenZum Hauptbereich springenStartseiteKartedisy Cadenza[{\"printName\":\"Lernmodule â€“ Tutorials und mehr\",\"url\":\"/help-learning/index.html\",\"targetFrame\":\"_blank\",\"id\":\"help\",\"type\":\"help\",\"webApplication\":false},{\"printName\":\"Hilfe\",\"url\":\"/help/\",\"targetFrame\":\"_blank\",\"id\":\"help\",\"type\":\"help\",\"webApplication\":false},{\"printName\":\"Hilfe zu Classic\",\"url\":\"/help-classic/\",\"targetFrame\":\"_blank\",\"id\":\"help-classic\",\"type\":\"help-classic\",\"webApplication\":false}]Admin[{\"printName\":\"Profil\",\"url\":\"/pages/access/userprofile.xhtml\",\"targetFrame\":\"_self\",\"id\":\"userprofile\",\"type\":\"userprofile\",\"webApplication\":false},{\"printName\":\"Abmelden\",\"url\":\"/logout\",\"targetFrame\":\"_self\",\"id\":\"logout\",\"type\":\"logout\",\"webApplication\":false}]Willkommen bei disy CadenzaEinen Einstieg finden Sie in der LayerauswahlLayerauswahlSchlagwortDiagrammKarteTabelleArbeitsmappeTutorialVerzeichnisTutorialVerzeichnisGewÃ¤ssergÃ¼teVerzeichnisAutomobileVerzeichnisErgÃ¤nzende GeodatenVerzeichnisZentrale DiensteVerzeichnisMeine ArbeitsmappenArbeitsmappeZugangsdaten[]Dashboarding. Reporting. Location Analytics.Ob besserer Ãœberblick, das Entdecken von ZusammenhÃ¤ngen oder das Teilen neu gewonnener Erkenntnisse â€“ mitdisy Cadenzaanalysieren, visualisieren und prÃ¤sentieren Sie Ihre Daten ganz leicht. Erleben Sie die vielfÃ¤ltigen MÃ¶glichkeiten intelligenter Datenanalyse:\n",
      "      Business & Location Intelligence bringt Ihre Daten zum Sprechen und Sie kÃ¶nnen damit viel bewegen.Steigen Sie mÃ¼helos ein mit den â€œErsten Schrittenâ€œ, unserenTutorials, denLernmodulenund derOnlinehilfe.\n",
      "      Aktuelle Informationen rund um disy Cadenza erhalten Sie auch auf unsererWebseit...\n"
     ]
    }
   ],
   "source": [
    "html_text = parse_html(html_path, max_length=2000)\n",
    "print(html_text)"
   ]
  },
  {
   "cell_type": "markdown",
   "metadata": {
    "collapsed": false
   },
   "source": [
    "Option 2: Extract only Elements (input fields, buttons, links) from the HTML file using BeautifulSoup."
   ]
  },
  {
   "cell_type": "code",
   "execution_count": 8,
   "metadata": {
    "ExecuteTime": {
     "end_time": "2024-06-25T10:11:53.197456400Z",
     "start_time": "2024-06-25T10:11:53.106698800Z"
    },
    "collapsed": false
   },
   "outputs": [],
   "source": [
    "def extract_html_info(file_path):\n",
    "    \"\"\"Extract relevant information from an HTML file.\n",
    "\n",
    "    :param file_path: The path to the HTML file.\n",
    "    :return: A formatted string containing the extracted HTML elements.\n",
    "    \"\"\"\n",
    "    with open(file_path, 'r', encoding='utf-8') as file:\n",
    "        html_content = file.read()\n",
    "\n",
    "    soup = BeautifulSoup(html_content, 'html.parser')\n",
    "\n",
    "    buttons = soup.find_all('button')\n",
    "    inputs = soup.find_all('input')\n",
    "    links = soup.find_all('a')\n",
    "\n",
    "    html_elements = \"HTML Elements:\\n\"\n",
    "\n",
    "    for button in buttons:\n",
    "        button_text = clean_string(button.text)\n",
    "        button_id = button.get(\"id\", \"No ID\")\n",
    "        button_class = ' '.join(button.get(\"class\", []))  # Convert list to string with space separator\n",
    "        button_type = button.get(\"type\", \"button\")\n",
    "        html_elements += f'Button: {button_text} - ID: {button_id} - Class: {button_class} - Type: {button_type}\\n'\n",
    "\n",
    "    for input_field in inputs:\n",
    "        input_name = input_field.get(\"name\", \"No Name\")\n",
    "        input_type = input_field.get(\"type\", \"text\")\n",
    "        input_value = input_field.get(\"value\", \"\")\n",
    "        input_placeholder = clean_string(input_field.get(\"placeholder\", \"\"))\n",
    "        input_id = input_field.get(\"id\", \"No ID\")\n",
    "        input_class = ' '.join(input_field.get(\"class\", []))  # Convert list to string with space separator\n",
    "        input_label = input_field.get(\"aria-label\", \"\")\n",
    "        html_elements += f'Input: {input_name} - Type: {input_type} - Value: {input_value} - Placeholder: {input_placeholder} - ID: {input_id} - Class: {input_class} - Label: {input_label}\\n'\n",
    "\n",
    "    for link in links:\n",
    "        link_text = clean_string(link.text)\n",
    "        link_href = link.get(\"href\", \"#\")\n",
    "        link_id = link.get(\"id\", \"No ID\")\n",
    "        link_class = ' '.join(link.get(\"class\", []))  # Convert list to string with space separator\n",
    "        html_elements += f'Link: {link_text} - Href: {link_href} - ID: {link_id} - Class: {link_class}\\n'\n",
    "\n",
    "    logger.debug(f\"HTML elements extracted successfully. - Number of Elements: {len(html_elements.splitlines())}\")\n",
    "\n",
    "    return html_elements.strip()"
   ]
  },
  {
   "cell_type": "code",
   "execution_count": 9,
   "metadata": {
    "ExecuteTime": {
     "end_time": "2024-06-25T10:11:53.297220400Z",
     "start_time": "2024-06-25T10:11:53.197456400Z"
    },
    "collapsed": false
   },
   "outputs": [
    {
     "name": "stdout",
     "output_type": "stream",
     "text": [
      "2024-06-25 12:11:53 [\u001B[34m__main__:42\u001B[0m] [DEBUG\u001B[0m] >>>> HTML elements extracted successfully. - Number of Elements: 48\u001B[0m\n",
      "HTML Elements:\n",
      "Button:  - ID: navigationTrigger - Class: button button-icon button-borderless - Type: button\n",
      "Button: [{\"printName\":\"Lernmodule – Tutorials und mehr\",\"url\":\"/help-learning/index.html\",\"targetFrame\":\"_blank\",\"id\":\"help\",\"type\":\"help\",\"webApplication\":false},{\"printName\":\"Hilfe\",\"url\":\"/help/\",\"targetFrame\":\"_blank\",\"id\":\"help\",\"type\":\"help\",\"webApplication\":false},{\"printName\":\"Hilfe zu Classic\",\"url\":\"/help-classic/\",\"targetFrame\":\"_blank\",\"id\":\"help-classic\",\"type\":\"help-classic\",\"webApplication\":false}] - ID: No ID - Class: d-help-menu button button-icon button-borderless d-topnav-dropdown - Type: button\n",
      "Button: Admin [{\"printName\":\"Profil\",\"url\":\"/pages/access/userprofile.xhtml\",\"targetFrame\":\"_self\",\"id\":\"userprofile\",\"type\":\"userprofile\",\"webApplication\":false},{\"printName\":\"Abmelden\",\"url\":\"/logout\",\"targetFrame\":\"_self\",\"id\":\"logout\",\"type\":\"logout\",\"webApplication\":false}] - ID: No ID - Class: button button-borderless d-topnav-dropdown - Type: button\n",
      "Button:  - ID: No ID - Class: button button-icon button-borderless d-sidebar-close - Type: button\n",
      "Button:  - ID: No ID - Class: button button-borderless button-icon d-select--element-left - Type: button\n",
      "Button:  - ID: workbook-create - Class: button workbook-create button-icon - Type: button\n",
      "Button:  - ID: RDxYr2vFytOijWjelj7P1 - Class: button navigation-menu button-icon - Type: button\n",
      "Button:  - ID: No ID - Class: button button-borderless button-s d-nav-tree-node--help-button button-icon - Type: button\n",
      "Button:  - ID: No ID - Class: button button-borderless button-s d-nav-tree-node--help-button button-icon - Type: button\n",
      "Button:  - ID: No ID - Class: button button-borderless button-s d-nav-tree-node--help-button button-icon - Type: button\n",
      "Button:  - ID: No ID - Class: button button-borderless button-s is-hover-visible button-icon - Type: button\n",
      "Button: Arbeitsmappe importieren - ID: No ID - Class: button - Type: button\n",
      "Button: Repository neu einlesen … - ID: No ID - Class: button - Type: button\n",
      "Input: No Name - Type: search - Value:  - Placeholder: Suchen nach … - ID: No ID - Class: select2-search__field - Label: Suchen nach …\n",
      "Link: Zum Navigatorbaum springen - Href: #navigator - ID: skip-to-navigator - Class: button button-primary\n",
      "Link: Zum Hauptbereich springen - Href: #content - ID: skip-to-content - Class: button button-primary\n",
      "Link: Startseite - Href: /cadenza/ - ID: home - Class: button button-icon button-borderless\n",
      "Link: Karte - Href: # - ID: No ID - Class: button button-icon button-borderless d-topnav--map-button\n",
      "Link:  - Href: /cadenza/admin/ - ID: No ID - Class: button button-icon button-borderless\n",
      "Link:  - Href: http://www.disy.net - ID: No ID - Class: helpMenuBottomContentImageTop\n",
      "Link:  - Href: mailto:sales@disy.net - ID: No ID - Class: \n",
      "Link:  - Href: http://www.disy.net - ID: No ID - Class: \n",
      "Link: Verzeichnis Tutorial - Href: # - ID: d-nav-tree-node_ROOT-Tutorial_firstContent - Class: d-nav-tree-node--main d-hover-context\n",
      "Link: Verzeichnis Gewässergüte - Href: # - ID: d-nav-tree-node_ROOT-Gewässergüte_firstContent - Class: d-nav-tree-node--main d-hover-context\n",
      "Link: Verzeichnis Automobile - Href: # - ID: d-nav-tree-node_ROOT-Automobile_firstContent - Class: d-nav-tree-node--main d-hover-context\n",
      "Link: Verzeichnis Ergänzende Geodaten - Href: # - ID: d-nav-tree-node_ROOT-Ergänzende-Geodaten_firstContent - Class: d-nav-tree-node--main d-hover-context\n",
      "Link: Verzeichnis Zentrale Dienste - Href: # - ID: d-nav-tree-node_ROOT-Zentrale-Dienste_firstContent - Class: d-nav-tree-node--main d-hover-context\n",
      "Link: Verzeichnis Meine Arbeitsmappen - Href: # - ID: d-nav-tree-node_ROOT-Meine-Arbeitsmappen_firstContent - Class: d-nav-tree-node--main d-hover-context\n",
      "Link: Arbeitsmappe Zugangsdaten - Href: # - ID: d-nav-tree-node_ROOT-wYRrGPE6Y6LtRpCm9ofb-HLiA_wB-1Y3slGMCaAfo_firstContent - Class: d-nav-tree-node--main d-hover-context\n",
      "Link: Zugangsdaten - Href: /cadenza/public/repositories/wYRrGPE6Y6LtRpCm9ofb/workbooks/HLiA_wB-1Y3slGMCaAfo - ID: No ID - Class: d-nav-tree-node--text ellipsis\n",
      "Link: disy Cadenza - Href: https://www.disy.net/de/produkte/cadenza/datenanalyse-software/ - ID: No ID - Class: \n",
      "Link: Tutorials - Href: https://www.youtube.com/playlist?list=PLNSw3ORHtTWVuvWnwmA2o6v9_rqPIfz0Q - ID: No ID - Class: \n",
      "Link: Lernmodulen - Href: /cadenza/help-learning/#/index/1/1 - ID: No ID - Class: \n",
      "Link: Onlinehilfe - Href: /cadenza/help/#/index/1/1 - ID: No ID - Class: \n",
      "Link: Webseite - Href: https://www.disy.net/de/ - ID: No ID - Class: \n",
      "Link: Lernmodulen - Href: /cadenza/help-learning/#/index/1/1 - ID: No ID - Class: \n",
      "Link:  - Href: #section-0 - ID: No ID - Class: startpage-section-navigation-item active\n",
      "Link: 1 - Href: #section-1 - ID: No ID - Class: startpage-section-navigation-item\n",
      "Link: 2 - Href: #section-2 - ID: No ID - Class: startpage-section-navigation-item\n",
      "Link: 3 - Href: #section-3 - ID: No ID - Class: startpage-section-navigation-item\n",
      "Link: 4 - Href: #section-4 - ID: No ID - Class: startpage-section-navigation-item\n",
      "Link: 5 - Href: #section-5 - ID: No ID - Class: startpage-section-navigation-item\n",
      "Link: 6 - Href: #section-6 - ID: No ID - Class: startpage-section-navigation-item\n",
      "Link: 7 - Href: #section-7 - ID: No ID - Class: startpage-section-navigation-item\n",
      "Link: disy Cadenza v9.4.71 - Href: https://www.disy.net/de/produkte/cadenza/datenanalyse-software/ - ID: No ID - Class: userSpecificLink ellipsis hidden-xs\n",
      "Link: © Disy Informationssysteme GmbH - Href: https://www.disy.net - ID: No ID - Class: userSpecificLink ellipsis hidden-xs\n",
      "Link: Über Disy - Href: https://www.disy.net/de/impressum/ - ID: No ID - Class: userSpecificLink ellipsis\n"
     ]
    }
   ],
   "source": [
    "html_elements = extract_html_info(html_path)\n",
    "print(html_elements)"
   ]
  },
  {
   "cell_type": "markdown",
   "metadata": {},
   "source": [
    "# Image Processing"
   ]
  },
  {
   "cell_type": "code",
   "execution_count": null,
   "metadata": {},
   "outputs": [],
   "source": [
    "# Imports for Image Processing\n",
    "from PIL import Image\n",
    "import pytesseract\n",
    "from typing import Union\n",
    "\n",
    "# Utility functions\n",
    "from src.utils.helpers import truncate_text\n",
    "from src.utils.logger import setup_logger\n",
    "\n",
    "# Setup Logger\n",
    "logger = setup_logger(__name__, level='DEBUG')\n",
    "\n",
    "# Define the function to extract text from image\n",
    "def extract_text_from_image(image_path: str, max_length: Union[int, None] = 200) -> str:\n",
    "    \"\"\" Extract text from an image file.\n",
    "\n",
    "    :param max_length: The maximum length of the text.\n",
    "    :param image_path: The path to the image file.\n",
    "    :return: The extracted text from the image.\n",
    "    \"\"\"\n",
    "    image = Image.open(image_path)\n",
    "    pytesseract.pytesseract.tesseract_cmd = r'C:\\Program Files\\Tesseract-OCR\\tesseract.exe'\n",
    "    # Extract text from the image\n",
    "    text = pytesseract.image_to_string(image)\n",
    "    # Truncate the text to the maximum length\n",
    "    if max_length:\n",
    "        text = truncate_text(text, max_length=max_length)\n",
    "\n",
    "    logger.debug(f\"Text extracted from image successfully. - Characters: {len(text)}\")\n",
    "\n",
    "    return text\n",
    "\n",
    "# Demonstrate the function with an example image\n",
    "image_path = 'path/to/image/file.png'\n",
    "extracted_text = extract_text_from_image(image_path, max_length=300)\n",
    "print(\"Extracted Text from Image:\", extracted_text)\n"
   ]
  },
  {
   "cell_type": "markdown",
   "metadata": {
    "collapsed": false
   },
   "source": [
    "# (Local) Pipeline: LLM UI Test Generation\n",
    "Using smaller GPT-2 model"
   ]
  },
  {
   "cell_type": "markdown",
   "metadata": {},
   "source": [
    "LLM Test Generation with the test from the database"
   ]
  },
  {
   "cell_type": "markdown",
   "metadata": {
    "collapsed": false
   },
   "source": [
    "1. First, extract the relevant information from the database for a specific test to be predicted:"
   ]
  },
  {
   "cell_type": "code",
   "execution_count": 10,
   "metadata": {
    "ExecuteTime": {
     "end_time": "2024-06-25T10:11:53.381605Z",
     "start_time": "2024-06-25T10:11:53.297220400Z"
    },
    "collapsed": false
   },
   "outputs": [],
   "source": [
    "def get_previous_id(id):\n",
    "    test, step = map(int, id.split('.'))\n",
    "    if step > 1:\n",
    "        previous_id = f\"{test}.{step - 1}\"\n",
    "    else:\n",
    "        print(f\"Test {test} has no more previous step. No context available.\")\n",
    "\n",
    "    return previous_id"
   ]
  },
  {
   "cell_type": "code",
   "execution_count": 11,
   "metadata": {
    "ExecuteTime": {
     "end_time": "2024-06-25T10:11:53.470354600Z",
     "start_time": "2024-06-25T10:11:53.381605Z"
    },
    "collapsed": false
   },
   "outputs": [],
   "source": [
    "def fetch_relevant_items(db_file, current_id):\n",
    "    # Connect to SQLite database\n",
    "    conn = sqlite3.connect(db_file)\n",
    "    cursor = conn.cursor()\n",
    "\n",
    "    # Get the previous ID\n",
    "    previous_id = get_previous_id(current_id)\n",
    "\n",
    "    # Prepare the SQL query to retrieve the desired rows\n",
    "    query = 'SELECT * FROM tests WHERE id IN (?, ?)'\n",
    "    cursor.execute(query, (current_id, previous_id))\n",
    "\n",
    "    # Fetch all matching rows\n",
    "    items = cursor.fetchall()\n",
    "\n",
    "    # Close the connection\n",
    "    conn.close()\n",
    "\n",
    "    return items"
   ]
  },
  {
   "cell_type": "code",
   "execution_count": 12,
   "metadata": {
    "ExecuteTime": {
     "end_time": "2024-06-25T10:11:53.552026900Z",
     "start_time": "2024-06-25T10:11:53.470354600Z"
    },
    "collapsed": false
   },
   "outputs": [],
   "source": [
    "def map_items_to_args(items):\n",
    "    # The file paths from the test x-1 are used as context\n",
    "    html_path = items[0][3]\n",
    "    image_path = items[0][4]\n",
    "    precondition_path = items[0][5]\n",
    "    # The last step of the text x is used as prompt\n",
    "    steps = items[1][1].split(']')\n",
    "    description = steps[-1].strip()\n",
    "\n",
    "    return {\"html_path\": html_path,\n",
    "            \"image_path\": image_path,\n",
    "            \"precondition_path\": precondition_path,\n",
    "            \"description\": description}"
   ]
  },
  {
   "cell_type": "code",
   "execution_count": 13,
   "metadata": {
    "ExecuteTime": {
     "end_time": "2024-06-25T10:11:53.635325700Z",
     "start_time": "2024-06-25T10:11:53.555143400Z"
    },
    "collapsed": false
   },
   "outputs": [],
   "source": [
    "# Select test ID and database file\n",
    "db_file = '../data/raw/playwright_script.db'\n",
    "current_id = '1.4'"
   ]
  },
  {
   "cell_type": "code",
   "execution_count": 14,
   "metadata": {
    "ExecuteTime": {
     "end_time": "2024-06-25T10:11:53.724562100Z",
     "start_time": "2024-06-25T10:11:53.637360400Z"
    },
    "collapsed": false
   },
   "outputs": [],
   "source": [
    "# Get relevant data from the database\n",
    "items = fetch_relevant_items(db_file, current_id)\n",
    "args = map_items_to_args(items)"
   ]
  },
  {
   "cell_type": "code",
   "execution_count": 15,
   "metadata": {
    "ExecuteTime": {
     "end_time": "2024-06-25T10:11:53.802247900Z",
     "start_time": "2024-06-25T10:11:53.725514200Z"
    },
    "collapsed": false
   },
   "outputs": [
    {
     "data": {
      "text/plain": [
       "[('1.3',\n",
       "  '[1.1] Öffne die Arbeitsmappe \"Übersicht Messstellen\" im Ordner \"Gewässergüte\". [1.2]  Öffnen der Tabellen-Sicht \"Messstellenliste\" über die Werkzeugliste der Arbeitsmappe. [1.3] Klicke auf den 3-Punkte-Button innerhalb der Tabellen-Sicht \"Messstelleninformationen\"',\n",
       "  '[1.3] Expected result: Kontextmenü erscheint mit den Optionen: - Duplizieren - In Arbeitsblatt duplizieren - Exportieren - Designer öffnen - Löschen.',\n",
       "  '.\\\\html\\\\1_3.html',\n",
       "  '.\\\\screenshot\\\\1_3.png',\n",
       "  '.\\\\test_script\\\\1_3.spec.ts'),\n",
       " ('1.4',\n",
       "  '[1.1] Öffne die Arbeitsmappe \"Übersicht Messstellen\" im Ordner \"Gewässergüte\". [1.2]  Öffnen der Tabellen-Sicht \"Messstellenliste\" über die Werkzeugliste der Arbeitsmappe. [1.3] Klicke auf den 3-Punkte-Button innerhalb der Tabellen-Sicht \"Messstelleninformationen\". [1.4] Klicke auf \"Duplizieren\".',\n",
       "  '[1.4] Expected result: Das Kontextmenü schließt sich. Die Sicht ist dupliziert. Die duplizierte Sicht erscheint neben der Original-Sicht. Beide Sichten teilen sich in gleichen Maßen den Platz der Original-Sicht.',\n",
       "  '.\\\\html\\\\1_4.html',\n",
       "  '.\\\\screenshot\\\\1_4.png',\n",
       "  '.\\\\test_script\\\\1_4.spec.ts')]"
      ]
     },
     "execution_count": 15,
     "metadata": {},
     "output_type": "execute_result"
    }
   ],
   "source": [
    "items"
   ]
  },
  {
   "cell_type": "code",
   "execution_count": 16,
   "metadata": {
    "ExecuteTime": {
     "end_time": "2024-06-25T10:11:53.890952500Z",
     "start_time": "2024-06-25T10:11:53.802247900Z"
    },
    "collapsed": false
   },
   "outputs": [
    {
     "data": {
      "text/plain": [
       "{'html_path': '.\\\\html\\\\1_3.html',\n",
       " 'image_path': '.\\\\screenshot\\\\1_3.png',\n",
       " 'precondition_path': '.\\\\test_script\\\\1_3.spec.ts',\n",
       " 'description': 'Klicke auf \"Duplizieren\".'}"
      ]
     },
     "execution_count": 16,
     "metadata": {},
     "output_type": "execute_result"
    }
   ],
   "source": [
    "args"
   ]
  },
  {
   "cell_type": "markdown",
   "metadata": {
    "collapsed": false
   },
   "source": [
    "2. Now we can run the main function to sum it up with the extracted information, we will get the generated UI test code for the test with id 1.4. Prompt engineering is implemented in the main function."
   ]
  },
  {
   "cell_type": "code",
   "execution_count": 36,
   "metadata": {
    "ExecuteTime": {
     "end_time": "2024-06-25T11:32:48.026552400Z",
     "start_time": "2024-06-25T11:32:45.312418600Z"
    },
    "collapsed": false
   },
   "outputs": [
    {
     "name": "stdout",
     "output_type": "stream",
     "text": [
      "2024-06-25 13:32:45 [\u001B[34msrc.main:25\u001B[0m] [\u001B[32mINFO\u001B[0m] >>>> Loading context...\u001B[0m\n",
      "2024-06-25 13:32:45 [\u001B[34msrc.data.html_processor:106\u001B[0m] [DEBUG\u001B[0m] >>>> HTML elements extracted successfully. - Number of Elements: 36 - Number of Characters: 3522\u001B[0m\n",
      "2024-06-25 13:32:46 [\u001B[34msrc.data.image_processor:27\u001B[0m] [DEBUG\u001B[0m] >>>> Text extracted from image successfully. - Characters: 303\u001B[0m\n",
      "2024-06-25 13:32:46 [\u001B[34msrc.data.python_processor:15\u001B[0m] [DEBUG\u001B[0m] >>>> Python code parsed successfully. - Lines of Code: 17\u001B[0m\n",
      "2024-06-25 13:32:46 [\u001B[34msrc.main:31\u001B[0m] [\u001B[32mINFO\u001B[0m] >>>> Context loaded successfully.\u001B[0m\n",
      "2024-06-25 13:32:46 [\u001B[34msrc.main:34\u001B[0m] [\u001B[32mINFO\u001B[0m] >>>> Creating input prompt...\u001B[0m\n",
      "2024-06-25 13:32:46 [\u001B[34msrc.main:36\u001B[0m] [\u001B[32mINFO\u001B[0m] >>>> Input prompt created successfully.\u001B[0m\n",
      "2024-06-25 13:32:46 [\u001B[34msrc.main:37\u001B[0m] [DEBUG\u001B[0m] >>>> Input prompt:\n",
      "You are a test automation script writer. Your task is to create a Playwright test script for the given webpage. Below are the details of the webpage. Use this information to generate a complete Python Playwright test script following the instructions.\n",
      "\n",
      "### Website HTML Elements:\n",
      "Buttons: \n",
      "{'id': 'navigationTrigger', 'class': 'button button-icon button-borderless'}\n",
      "{'text': '[{\"printName\":\"Lernmodule – Tutorials und mehr\",\"url\":\"/help-learning/index.html\",\"targetFrame\":\"_blank\",\"id\":\"help\",\"type\":\"help\",\"webApplication\":false},{\"printName\":\"Hilfe\",\"url\":\"/help/\",\"targetFrame\":\"_blank\",\"id\":\"help\",\"type\":\"help\",\"webApplication\":false},{\"printName\":\"Hilfe zu Classic\",\"url\":\"/help-classic/\",\"targetFrame\":\"_blank\",\"id\":\"help-classic\",\"type\":\"help-classic\",\"webApplication\":false}]', 'class': 'd-help-menu button button-icon button-borderless d-topnav-dropdown'}\n",
      "{'text': 'Admin [{\"printName\":\"Profil\",\"url\":\"/pages/access/userprofile.xhtml\",\"targetFrame\":\"_self\",\"id\":\"userprofile\",\"type\":\"userprofile\",\"webApplication\":false},{\"printName\":\"Abmelden\",\"url\":\"/logout\",\"targetFrame\":\"_self\",\"id\":\"logout\",\"type\":\"logout\",\"webApplication\":false}]', 'class': 'button button-borderless d-topnav-dropdown'}\n",
      "{'text': 'v12 (Bearbeitet)', 'class': 'd-tag'}\n",
      "{'text': 'Messstellenliste', 'class': 'button button-with-dropdown button-borderless worksheet-navigation'}\n",
      "{'text': 'Speichern unter …', 'class': 'button button-borderless button-s'}\n",
      "{'text': 'Speichern', 'class': 'button button-borderless button-s'}\n",
      "{'text': 'Speichern und veröffentlichen', 'class': 'button button-borderless button-s'}\n",
      "{'text': 'Zugriffseinstellungen', 'class': 'button button-borderless button-s'}\n",
      "{'text': 'Neue Sicht', 'class': 'button button-borderless add-view-button button-s'}\n",
      "{'text': 'Mehr', 'class': 'button button-borderless button-s'}\n",
      "{'id': 'ad-hoc-settings-LO8EpTw_Rr6ParizyY3AtQ', 'class': 'button button-borderless button-xs is-hover-visible button-icon'}\n",
      "{'id': 'Wus3-uWT-MicFD-66fN0t', 'class': 'button button-borderless button-s button-icon'}\n",
      "{'text': 'Abbrechen', 'class': 'button button-s cancel-button'}\n",
      "{'text': 'Aktualisieren', 'class': 'button button-s refresh-button'}\n",
      "{'text': 'Daten laden', 'class': 'button button-primary'}\n",
      "{'text': 'Weitere Daten hinzufügen', 'class': 'button'}\n",
      "{'text': 'Duplizieren', 'class': 'button'}\n",
      "{'text': 'In Arbeitsblatt duplizieren', 'class': 'button'}\n",
      "{'text': 'Exportieren', 'class': 'button'}\n",
      "{'text': 'Designer öffnen', 'class': 'button'}\n",
      "{'text': 'Löschen', 'class': 'button'}\n",
      "Inputs: \n",
      "{'id': 'cpwGAhii7vkbtfgBbOaJ-', 'class': 'd-condition-date-picker--input form-control', 'type': 'text', 'placeholder': 'dd.MM.yyyy - dd.MM.yyyy'}\n",
      "{'class': 'interval form-control', 'label': 'Messwert Start des Wertebereichs', 'type': 'text'}\n",
      "{'class': 'interval form-control', 'label': 'Messwert Ende des Wertebereichs', 'type': 'text'}\n",
      "{'class': 'select2-search__field', 'label': 'Suchen …', 'type': 'search', 'placeholder': 'Suchen …'}\n",
      "Links: \n",
      "{'text': 'Zum Navigatorbaum springen', 'id': 'skip-to-navigator', 'class': 'button button-primary', 'href': '#navigator'}\n",
      "{'text': 'Zum Hauptbereich springen', 'id': 'skip-to-content', 'class': 'button button-primary', 'href': '#content'}\n",
      "{'text': 'Startseite', 'id': 'home', 'class': 'button button-icon button-borderless', 'href': '/cadenza/'}\n",
      "{'text': 'Karte', 'class': 'button button-icon button-borderless d-topnav--map-button', 'href': '#'}\n",
      "{'text': 'disy Cadenza v9.4.71', 'class': 'userSpecificLink ellipsis hidden-xs', 'href': 'https://www.disy.net/de/produkte/cadenza/datenanalyse-software/'}\n",
      "{'text': '© Disy Informationssysteme GmbH', 'class': 'userSpecificLink ellipsis hidden-xs', 'href': 'https://www.disy.net'}\n",
      "{'text': 'Über Disy', 'class': 'userSpecificLink ellipsis', 'href': 'https://www.disy.net/de/impressum/'}\n",
      "\n",
      "\n",
      "### Current Website Screenshot Description:\n",
      "@ disy Cade!\n",
      "\n",
      "@ Ubersicht Messstellen [v12(Searbeitet)] | Messstellenliste v (] )Speichern < Zugriffseinstellungen E}NeueSicht ? Mehr FR G\n",
      "© ANALYSEKONTEXT x Messstelleninformationen OB’: G\n",
      "« Name des Gewassers * Messstelle * Messstelle Nr. * Mi & buplizieren t\n",
      "Filter + 7 |) Abzucht ©\n",
      "; 7 >) ane In ...\n",
      "\n",
      "### Playwright Test Precondition Code:\n",
      "import { test, expect } from '@playwright/test';\n",
      "import { writeFileSync } from 'fs';\n",
      "test('test', async ({ page }) => {\n",
      "  await page.goto('http://localhost:8080/cadenza/');\n",
      "  await page.getByRole('link', { name: 'Anmelden' }).click();\n",
      "  await page.getByLabel('Benutzername *').click();\n",
      "  await page.getByLabel('Benutzername *').fill('Admin');\n",
      "  await page.getByLabel('Benutzername *').press('Tab');\n",
      "  await page.getByPlaceholder(' ').fill('Admin');\n",
      "  await page.getByRole('button', { name: 'Anmelden' }).click();\n",
      "  await page.getByText('Verzeichnis Gewässergüte', { exact: true }).click();\n",
      "  const parentElement = await page.getByText('Arbeitsmappe Übersicht Messstellen').locator('..');\n",
      "  await parentElement.locator('.d-icon.d-icon-bold.status-icon').click(); \n",
      "  await page.getByRole('link', { name: 'Tabelle Messstellenliste' }).click();\n",
      "  await page.getByTestId('worksheet-view-of-type-table').hover();\n",
      "  await page.getByTestId('worksheet-view-of-type-table').getByLabel('Mehr …').click();\n",
      "});\n",
      "\n",
      "### Test Description:\n",
      "Klicke auf \"Duplizieren\".\n",
      "\n",
      "### Instructions:\n",
      "1. Use the precondition code to set up the initial state. Just add new code to it below the given one.\n",
      "2. Follow the steps in the test description to perform actions and verify outcomes.\n",
      "3. Ensure the generated script is in Python and uses Playwright's sync API.\n",
      "Generate the Playwright test script below:\n",
      "\u001B[0m\n",
      "2024-06-25 13:32:46 [\u001B[34msrc.main:39\u001B[0m] [\u001B[32mINFO\u001B[0m] >>>> Generating test case...\u001B[0m\n"
     ]
    },
    {
     "name": "stderr",
     "output_type": "stream",
     "text": [
      "The attention mask and the pad token id were not set. As a consequence, you may observe unexpected behavior. Please pass your input's `attention_mask` to obtain reliable results.\n",
      "Setting `pad_token_id` to `eos_token_id`:50256 for open-end generation.\n"
     ]
    },
    {
     "ename": "ValueError",
     "evalue": "Input length of input_ids is 1024, but `max_length` is set to 500. This can lead to unexpected behavior. You should consider increasing `max_length` or, better yet, setting `max_new_tokens`.",
     "output_type": "error",
     "traceback": [
      "\u001B[1;31m---------------------------------------------------------------------------\u001B[0m",
      "\u001B[1;31mValueError\u001B[0m                                Traceback (most recent call last)",
      "File \u001B[1;32m<timed exec>:2\u001B[0m\n",
      "File \u001B[1;32m~\\PycharmProjects\\cadenza-playwright-llm\\src\\main.py:45\u001B[0m, in \u001B[0;36mmain\u001B[1;34m(html_path, image_path, precondition_path, description)\u001B[0m\n\u001B[0;32m     43\u001B[0m next_id \u001B[38;5;241m=\u001B[39m \u001B[38;5;124mf\u001B[39m\u001B[38;5;124m\"\u001B[39m\u001B[38;5;132;01m{\u001B[39;00mcurrent_test\u001B[38;5;132;01m}\u001B[39;00m\u001B[38;5;124m_\u001B[39m\u001B[38;5;132;01m{\u001B[39;00m\u001B[38;5;28mint\u001B[39m(current_step)\u001B[38;5;250m \u001B[39m\u001B[38;5;241m+\u001B[39m\u001B[38;5;250m \u001B[39m\u001B[38;5;241m1\u001B[39m\u001B[38;5;132;01m}\u001B[39;00m\u001B[38;5;124m\"\u001B[39m\n\u001B[0;32m     44\u001B[0m \u001B[38;5;66;03m# Generate the code\u001B[39;00m\n\u001B[1;32m---> 45\u001B[0m generated_code \u001B[38;5;241m=\u001B[39m \u001B[43mgenerate_code\u001B[49m\u001B[43m(\u001B[49m\u001B[43mcombined_input\u001B[49m\u001B[43m,\u001B[49m\u001B[43m \u001B[49m\u001B[43mfile_name\u001B[49m\u001B[38;5;241;43m=\u001B[39;49m\u001B[38;5;124;43mf\u001B[39;49m\u001B[38;5;124;43m\"\u001B[39;49m\u001B[38;5;132;43;01m{\u001B[39;49;00m\u001B[43mnext_id\u001B[49m\u001B[38;5;132;43;01m}\u001B[39;49;00m\u001B[38;5;124;43m.pred\u001B[39;49m\u001B[38;5;124;43m\"\u001B[39;49m\u001B[43m,\u001B[49m\u001B[43m \u001B[49m\u001B[43mmodel_name\u001B[49m\u001B[38;5;241;43m=\u001B[39;49m\u001B[38;5;124;43m\"\u001B[39;49m\u001B[38;5;124;43mgpt2\u001B[39;49m\u001B[38;5;124;43m\"\u001B[39;49m\u001B[43m)\u001B[49m\n\u001B[0;32m     46\u001B[0m logger\u001B[38;5;241m.\u001B[39minfo(\u001B[38;5;124mf\u001B[39m\u001B[38;5;124m\"\u001B[39m\u001B[38;5;124mTest case generated for \u001B[39m\u001B[38;5;132;01m{\u001B[39;00mnext_id\u001B[38;5;132;01m}\u001B[39;00m\u001B[38;5;124m.\u001B[39m\u001B[38;5;124m\"\u001B[39m)\n\u001B[0;32m     47\u001B[0m logger\u001B[38;5;241m.\u001B[39mdebug(\u001B[38;5;124m\"\u001B[39m\u001B[38;5;124mTest case:\u001B[39m\u001B[38;5;130;01m\\n\u001B[39;00m\u001B[38;5;124m\"\u001B[39m, generated_code)\n",
      "File \u001B[1;32m~\\PycharmProjects\\cadenza-playwright-llm\\src\\ui_tests\\test_generation.py:29\u001B[0m, in \u001B[0;36mgenerate_code\u001B[1;34m(combined_input, file_name, model_name)\u001B[0m\n\u001B[0;32m     27\u001B[0m     \u001B[38;5;66;03m# Generate the code\u001B[39;00m\n\u001B[0;32m     28\u001B[0m     inputs \u001B[38;5;241m=\u001B[39m tokenizer\u001B[38;5;241m.\u001B[39mencode(combined_input, return_tensors\u001B[38;5;241m=\u001B[39m\u001B[38;5;124m\"\u001B[39m\u001B[38;5;124mpt\u001B[39m\u001B[38;5;124m\"\u001B[39m, truncation\u001B[38;5;241m=\u001B[39m\u001B[38;5;28;01mTrue\u001B[39;00m)\n\u001B[1;32m---> 29\u001B[0m     outputs \u001B[38;5;241m=\u001B[39m \u001B[43mmodel\u001B[49m\u001B[38;5;241;43m.\u001B[39;49m\u001B[43mgenerate\u001B[49m\u001B[43m(\u001B[49m\u001B[43minputs\u001B[49m\u001B[43m,\u001B[49m\u001B[43m \u001B[49m\u001B[43mmax_length\u001B[49m\u001B[38;5;241;43m=\u001B[39;49m\u001B[38;5;241;43m500\u001B[39;49m\u001B[43m,\u001B[49m\u001B[43m \u001B[49m\u001B[43mnum_return_sequences\u001B[49m\u001B[38;5;241;43m=\u001B[39;49m\u001B[38;5;241;43m1\u001B[39;49m\u001B[43m,\u001B[49m\u001B[43m \u001B[49m\u001B[43mdo_sample\u001B[49m\u001B[38;5;241;43m=\u001B[39;49m\u001B[38;5;28;43;01mTrue\u001B[39;49;00m\u001B[43m)\u001B[49m\n\u001B[0;32m     30\u001B[0m     generated_text \u001B[38;5;241m=\u001B[39m tokenizer\u001B[38;5;241m.\u001B[39mdecode(outputs[\u001B[38;5;241m0\u001B[39m], skip_special_tokens\u001B[38;5;241m=\u001B[39m\u001B[38;5;28;01mTrue\u001B[39;00m)\n\u001B[0;32m     31\u001B[0m \u001B[38;5;28;01mcase\u001B[39;00m\u001B[38;5;250m \u001B[39m\u001B[38;5;28;01m_\u001B[39;00m:\n",
      "File \u001B[1;32m~\\anaconda3\\envs\\uitest\\Lib\\site-packages\\torch\\utils\\_contextlib.py:115\u001B[0m, in \u001B[0;36mcontext_decorator.<locals>.decorate_context\u001B[1;34m(*args, **kwargs)\u001B[0m\n\u001B[0;32m    112\u001B[0m \u001B[38;5;129m@functools\u001B[39m\u001B[38;5;241m.\u001B[39mwraps(func)\n\u001B[0;32m    113\u001B[0m \u001B[38;5;28;01mdef\u001B[39;00m \u001B[38;5;21mdecorate_context\u001B[39m(\u001B[38;5;241m*\u001B[39margs, \u001B[38;5;241m*\u001B[39m\u001B[38;5;241m*\u001B[39mkwargs):\n\u001B[0;32m    114\u001B[0m     \u001B[38;5;28;01mwith\u001B[39;00m ctx_factory():\n\u001B[1;32m--> 115\u001B[0m         \u001B[38;5;28;01mreturn\u001B[39;00m \u001B[43mfunc\u001B[49m\u001B[43m(\u001B[49m\u001B[38;5;241;43m*\u001B[39;49m\u001B[43margs\u001B[49m\u001B[43m,\u001B[49m\u001B[43m \u001B[49m\u001B[38;5;241;43m*\u001B[39;49m\u001B[38;5;241;43m*\u001B[39;49m\u001B[43mkwargs\u001B[49m\u001B[43m)\u001B[49m\n",
      "File \u001B[1;32m~\\anaconda3\\envs\\uitest\\Lib\\site-packages\\transformers\\generation\\utils.py:1648\u001B[0m, in \u001B[0;36mGenerationMixin.generate\u001B[1;34m(self, inputs, generation_config, logits_processor, stopping_criteria, prefix_allowed_tokens_fn, synced_gpus, assistant_model, streamer, negative_prompt_ids, negative_prompt_attention_mask, **kwargs)\u001B[0m\n\u001B[0;32m   1642\u001B[0m             \u001B[38;5;28;01mraise\u001B[39;00m \u001B[38;5;167;01mValueError\u001B[39;00m(\n\u001B[0;32m   1643\u001B[0m                 \u001B[38;5;124m\"\u001B[39m\u001B[38;5;124mThis model does not support `cache_implementation=\u001B[39m\u001B[38;5;124m'\u001B[39m\u001B[38;5;124mstatic\u001B[39m\u001B[38;5;124m'\u001B[39m\u001B[38;5;124m`. Please check the following \u001B[39m\u001B[38;5;124m\"\u001B[39m\n\u001B[0;32m   1644\u001B[0m                 \u001B[38;5;124m\"\u001B[39m\u001B[38;5;124missue: https://github.com/huggingface/transformers/issues/28981\u001B[39m\u001B[38;5;124m\"\u001B[39m\n\u001B[0;32m   1645\u001B[0m             )\n\u001B[0;32m   1646\u001B[0m         model_kwargs[\u001B[38;5;124m\"\u001B[39m\u001B[38;5;124mpast_key_values\u001B[39m\u001B[38;5;124m\"\u001B[39m] \u001B[38;5;241m=\u001B[39m \u001B[38;5;28mself\u001B[39m\u001B[38;5;241m.\u001B[39m_get_static_cache(batch_size, generation_config\u001B[38;5;241m.\u001B[39mmax_length)\n\u001B[1;32m-> 1648\u001B[0m \u001B[38;5;28;43mself\u001B[39;49m\u001B[38;5;241;43m.\u001B[39;49m\u001B[43m_validate_generated_length\u001B[49m\u001B[43m(\u001B[49m\u001B[43mgeneration_config\u001B[49m\u001B[43m,\u001B[49m\u001B[43m \u001B[49m\u001B[43minput_ids_length\u001B[49m\u001B[43m,\u001B[49m\u001B[43m \u001B[49m\u001B[43mhas_default_max_length\u001B[49m\u001B[43m)\u001B[49m\n\u001B[0;32m   1650\u001B[0m \u001B[38;5;66;03m# 7. determine generation mode\u001B[39;00m\n\u001B[0;32m   1651\u001B[0m generation_mode \u001B[38;5;241m=\u001B[39m generation_config\u001B[38;5;241m.\u001B[39mget_generation_mode(assistant_model)\n",
      "File \u001B[1;32m~\\anaconda3\\envs\\uitest\\Lib\\site-packages\\transformers\\generation\\utils.py:1176\u001B[0m, in \u001B[0;36mGenerationMixin._validate_generated_length\u001B[1;34m(self, generation_config, input_ids_length, has_default_max_length)\u001B[0m\n\u001B[0;32m   1174\u001B[0m \u001B[38;5;28;01mif\u001B[39;00m input_ids_length \u001B[38;5;241m>\u001B[39m\u001B[38;5;241m=\u001B[39m generation_config\u001B[38;5;241m.\u001B[39mmax_length:\n\u001B[0;32m   1175\u001B[0m     input_ids_string \u001B[38;5;241m=\u001B[39m \u001B[38;5;124m\"\u001B[39m\u001B[38;5;124mdecoder_input_ids\u001B[39m\u001B[38;5;124m\"\u001B[39m \u001B[38;5;28;01mif\u001B[39;00m \u001B[38;5;28mself\u001B[39m\u001B[38;5;241m.\u001B[39mconfig\u001B[38;5;241m.\u001B[39mis_encoder_decoder \u001B[38;5;28;01melse\u001B[39;00m \u001B[38;5;124m\"\u001B[39m\u001B[38;5;124minput_ids\u001B[39m\u001B[38;5;124m\"\u001B[39m\n\u001B[1;32m-> 1176\u001B[0m     \u001B[38;5;28;01mraise\u001B[39;00m \u001B[38;5;167;01mValueError\u001B[39;00m(\n\u001B[0;32m   1177\u001B[0m         \u001B[38;5;124mf\u001B[39m\u001B[38;5;124m\"\u001B[39m\u001B[38;5;124mInput length of \u001B[39m\u001B[38;5;132;01m{\u001B[39;00minput_ids_string\u001B[38;5;132;01m}\u001B[39;00m\u001B[38;5;124m is \u001B[39m\u001B[38;5;132;01m{\u001B[39;00minput_ids_length\u001B[38;5;132;01m}\u001B[39;00m\u001B[38;5;124m, but `max_length` is set to\u001B[39m\u001B[38;5;124m\"\u001B[39m\n\u001B[0;32m   1178\u001B[0m         \u001B[38;5;124mf\u001B[39m\u001B[38;5;124m\"\u001B[39m\u001B[38;5;124m \u001B[39m\u001B[38;5;132;01m{\u001B[39;00mgeneration_config\u001B[38;5;241m.\u001B[39mmax_length\u001B[38;5;132;01m}\u001B[39;00m\u001B[38;5;124m. This can lead to unexpected behavior. You should consider\u001B[39m\u001B[38;5;124m\"\u001B[39m\n\u001B[0;32m   1179\u001B[0m         \u001B[38;5;124m\"\u001B[39m\u001B[38;5;124m increasing `max_length` or, better yet, setting `max_new_tokens`.\u001B[39m\u001B[38;5;124m\"\u001B[39m\n\u001B[0;32m   1180\u001B[0m     )\n\u001B[0;32m   1182\u001B[0m \u001B[38;5;66;03m# 2. Min length warnings due to unfeasible parameter combinations\u001B[39;00m\n\u001B[0;32m   1183\u001B[0m min_length_error_suffix \u001B[38;5;241m=\u001B[39m (\n\u001B[0;32m   1184\u001B[0m     \u001B[38;5;124m\"\u001B[39m\u001B[38;5;124m Generation will stop at the defined maximum length. You should decrease the minimum length and/or \u001B[39m\u001B[38;5;124m\"\u001B[39m\n\u001B[0;32m   1185\u001B[0m     \u001B[38;5;124m\"\u001B[39m\u001B[38;5;124mincrease the maximum length.\u001B[39m\u001B[38;5;124m\"\u001B[39m\n\u001B[0;32m   1186\u001B[0m )\n",
      "\u001B[1;31mValueError\u001B[0m: Input length of input_ids is 1024, but `max_length` is set to 500. This can lead to unexpected behavior. You should consider increasing `max_length` or, better yet, setting `max_new_tokens`."
     ]
    }
   ],
   "source": [
    "%%time\n",
    "# Generate UI test code\n",
    "prompt = main(**args)"
   ]
  },
  {
   "cell_type": "markdown",
   "metadata": {
    "collapsed": false
   },
   "source": [
    "# (Cluster) Pipeline: LLM UI Test Generation\n",
    "Using Llava 1.5 model"
   ]
  },
  {
   "cell_type": "markdown",
   "metadata": {
    "collapsed": false
   },
   "source": [
    "1. Extract relevant information from the database for a specific test to be predicted:"
   ]
  },
  {
   "cell_type": "code",
   "execution_count": 166,
   "metadata": {
    "ExecuteTime": {
     "end_time": "2024-06-22T21:46:54.048079800Z",
     "start_time": "2024-06-22T21:46:53.955246700Z"
    },
    "collapsed": false
   },
   "outputs": [],
   "source": [
    "# Select test ID and database file\n",
    "db_file = '../data/raw/playwright_script.db'\n",
    "current_id = '1.4'"
   ]
  },
  {
   "cell_type": "code",
   "execution_count": 167,
   "metadata": {
    "ExecuteTime": {
     "end_time": "2024-06-22T21:46:54.138265900Z",
     "start_time": "2024-06-22T21:46:54.048079800Z"
    },
    "collapsed": false
   },
   "outputs": [],
   "source": [
    "items = fetch_relevant_items(db_file, current_id)\n",
    "args = map_items_to_args(items)"
   ]
  },
  {
   "cell_type": "code",
   "execution_count": 168,
   "metadata": {
    "ExecuteTime": {
     "end_time": "2024-06-22T21:46:54.224995800Z",
     "start_time": "2024-06-22T21:46:54.138265900Z"
    },
    "collapsed": false
   },
   "outputs": [
    {
     "data": {
      "text/plain": [
       "[('1.3',\n",
       "  '[1.1] Öffne die Arbeitsmappe \"Übersicht Messstellen\" im Ordner \"Gewässergüte\". [1.2]  Öffnen der Tabellen-Sicht \"Messstellenliste\" über die Werkzeugliste der Arbeitsmappe. [1.3] Klicke auf den 3-Punkte-Button innerhalb der Tabellen-Sicht \"Messstelleninformationen\"',\n",
       "  '[1.3] Expected result: Kontextmenü erscheint mit den Optionen: - Duplizieren - In Arbeitsblatt duplizieren - Exportieren - Designer öffnen - Löschen.',\n",
       "  '.\\\\html\\\\1_3.html',\n",
       "  '.\\\\screenshot\\\\1_3.png',\n",
       "  '.\\\\test_script\\\\1_3.spec.ts'),\n",
       " ('1.4',\n",
       "  '[1.1] Öffne die Arbeitsmappe \"Übersicht Messstellen\" im Ordner \"Gewässergüte\". [1.2]  Öffnen der Tabellen-Sicht \"Messstellenliste\" über die Werkzeugliste der Arbeitsmappe. [1.3] Klicke auf den 3-Punkte-Button innerhalb der Tabellen-Sicht \"Messstelleninformationen\". [1.4] Klicke auf \"Duplizieren\".',\n",
       "  '[1.4] Expected result: Das Kontextmenü schließt sich. Die Sicht ist dupliziert. Die duplizierte Sicht erscheint neben der Original-Sicht. Beide Sichten teilen sich in gleichen Maßen den Platz der Original-Sicht.',\n",
       "  '.\\\\html\\\\1_4.html',\n",
       "  '.\\\\screenshot\\\\1_4.png',\n",
       "  '.\\\\test_script\\\\1_4.spec.ts')]"
      ]
     },
     "execution_count": 168,
     "metadata": {},
     "output_type": "execute_result"
    }
   ],
   "source": [
    "items"
   ]
  },
  {
   "cell_type": "code",
   "execution_count": 169,
   "metadata": {
    "ExecuteTime": {
     "end_time": "2024-06-22T21:46:54.317494600Z",
     "start_time": "2024-06-22T21:46:54.224995800Z"
    },
    "collapsed": false
   },
   "outputs": [],
   "source": [
    "# To traverse folders in cluster change path\n",
    "args['image_path'] = args['image_path'].replace('\\\\', '/')"
   ]
  },
  {
   "cell_type": "code",
   "execution_count": 170,
   "metadata": {
    "ExecuteTime": {
     "end_time": "2024-06-22T21:46:54.415459200Z",
     "start_time": "2024-06-22T21:46:54.317494600Z"
    },
    "collapsed": false
   },
   "outputs": [
    {
     "data": {
      "text/plain": [
       "{'html_path': '.\\\\html\\\\1_3.html',\n",
       " 'image_path': './screenshot/1_3.png',\n",
       " 'precondition_path': '.\\\\test_script\\\\1_3.spec.ts',\n",
       " 'description': 'Klicke auf \"Duplizieren\".'}"
      ]
     },
     "execution_count": 170,
     "metadata": {},
     "output_type": "execute_result"
    }
   ],
   "source": [
    "args"
   ]
  },
  {
   "cell_type": "markdown",
   "metadata": {
    "collapsed": false
   },
   "source": [
    "2. Setup access to the cluster:\n",
    "\n",
    "Precondition:\n",
    "- Adjust the paths in src file with your specific student credentials\n",
    "- Make sure that playwright is installed on your local machine"
   ]
  },
  {
   "cell_type": "code",
   "execution_count": 171,
   "metadata": {
    "ExecuteTime": {
     "end_time": "2024-06-22T21:46:54.598882100Z",
     "start_time": "2024-06-22T21:46:54.415459200Z"
    },
    "collapsed": false
   },
   "outputs": [
    {
     "ename": "NotImplementedError",
     "evalue": "",
     "output_type": "error",
     "traceback": [
      "\u001B[1;31m---------------------------------------------------------------------------\u001B[0m",
      "\u001B[1;31mNotImplementedError\u001B[0m                       Traceback (most recent call last)",
      "Cell \u001B[1;32mIn[171], line 2\u001B[0m\n\u001B[0;32m      1\u001B[0m access2cluster \u001B[38;5;241m=\u001B[39m Access2Cluster()\n\u001B[1;32m----> 2\u001B[0m \u001B[38;5;28;01mawait\u001B[39;00m access2cluster\u001B[38;5;241m.\u001B[39mlogin()\n",
      "File \u001B[1;32m~\\PycharmProjects\\cadenza-playwright-llm\\src\\llm\\access_2_cluster.py:22\u001B[0m, in \u001B[0;36mAccess2Cluster.login\u001B[1;34m(self)\u001B[0m\n\u001B[0;32m     21\u001B[0m \u001B[38;5;28;01masync\u001B[39;00m \u001B[38;5;28;01mdef\u001B[39;00m \u001B[38;5;21mlogin\u001B[39m(\u001B[38;5;28mself\u001B[39m):\n\u001B[1;32m---> 22\u001B[0m     playwright \u001B[38;5;241m=\u001B[39m \u001B[38;5;28;01mawait\u001B[39;00m \u001B[38;5;28mself\u001B[39m\u001B[38;5;241m.\u001B[39mplaywright_context_manager\u001B[38;5;241m.\u001B[39mstart()\n\u001B[0;32m     23\u001B[0m     \u001B[38;5;28mself\u001B[39m\u001B[38;5;241m.\u001B[39mbrowser \u001B[38;5;241m=\u001B[39m \u001B[38;5;28;01mawait\u001B[39;00m playwright\u001B[38;5;241m.\u001B[39mchromium\u001B[38;5;241m.\u001B[39mlaunch(headless\u001B[38;5;241m=\u001B[39m\u001B[38;5;28;01mFalse\u001B[39;00m)\n\u001B[0;32m     24\u001B[0m     \u001B[38;5;28mself\u001B[39m\u001B[38;5;241m.\u001B[39mpage \u001B[38;5;241m=\u001B[39m \u001B[38;5;28;01mawait\u001B[39;00m \u001B[38;5;28mself\u001B[39m\u001B[38;5;241m.\u001B[39mbrowser\u001B[38;5;241m.\u001B[39mnew_page()\n",
      "File \u001B[1;32m~\\anaconda3\\envs\\uitest\\Lib\\site-packages\\playwright\\async_api\\_context_manager.py:51\u001B[0m, in \u001B[0;36mPlaywrightContextManager.start\u001B[1;34m(self)\u001B[0m\n\u001B[0;32m     50\u001B[0m \u001B[38;5;28;01masync\u001B[39;00m \u001B[38;5;28;01mdef\u001B[39;00m \u001B[38;5;21mstart\u001B[39m(\u001B[38;5;28mself\u001B[39m) \u001B[38;5;241m-\u001B[39m\u001B[38;5;241m>\u001B[39m AsyncPlaywright:\n\u001B[1;32m---> 51\u001B[0m     \u001B[38;5;28;01mreturn\u001B[39;00m \u001B[38;5;28;01mawait\u001B[39;00m \u001B[38;5;28mself\u001B[39m\u001B[38;5;241m.\u001B[39m\u001B[38;5;21m__aenter__\u001B[39m()\n",
      "File \u001B[1;32m~\\anaconda3\\envs\\uitest\\Lib\\site-packages\\playwright\\async_api\\_context_manager.py:46\u001B[0m, in \u001B[0;36mPlaywrightContextManager.__aenter__\u001B[1;34m(self)\u001B[0m\n\u001B[0;32m     44\u001B[0m \u001B[38;5;28;01mif\u001B[39;00m \u001B[38;5;129;01mnot\u001B[39;00m playwright_future\u001B[38;5;241m.\u001B[39mdone():\n\u001B[0;32m     45\u001B[0m     playwright_future\u001B[38;5;241m.\u001B[39mcancel()\n\u001B[1;32m---> 46\u001B[0m playwright \u001B[38;5;241m=\u001B[39m AsyncPlaywright(\u001B[38;5;28;43mnext\u001B[39;49m\u001B[43m(\u001B[49m\u001B[38;5;28;43miter\u001B[39;49m\u001B[43m(\u001B[49m\u001B[43mdone\u001B[49m\u001B[43m)\u001B[49m\u001B[43m)\u001B[49m\u001B[38;5;241;43m.\u001B[39;49m\u001B[43mresult\u001B[49m\u001B[43m(\u001B[49m\u001B[43m)\u001B[49m)\n\u001B[0;32m     47\u001B[0m playwright\u001B[38;5;241m.\u001B[39mstop \u001B[38;5;241m=\u001B[39m \u001B[38;5;28mself\u001B[39m\u001B[38;5;241m.\u001B[39m\u001B[38;5;21m__aexit__\u001B[39m  \u001B[38;5;66;03m# type: ignore\u001B[39;00m\n\u001B[0;32m     48\u001B[0m \u001B[38;5;28;01mreturn\u001B[39;00m playwright\n",
      "File \u001B[1;32m~\\anaconda3\\envs\\uitest\\Lib\\site-packages\\playwright\\_impl\\_transport.py:120\u001B[0m, in \u001B[0;36mPipeTransport.connect\u001B[1;34m(self)\u001B[0m\n\u001B[0;32m    117\u001B[0m         startupinfo\u001B[38;5;241m.\u001B[39mwShowWindow \u001B[38;5;241m=\u001B[39m subprocess\u001B[38;5;241m.\u001B[39mSW_HIDE\n\u001B[0;32m    119\u001B[0m     executable_path, entrypoint_path \u001B[38;5;241m=\u001B[39m compute_driver_executable()\n\u001B[1;32m--> 120\u001B[0m     \u001B[38;5;28mself\u001B[39m\u001B[38;5;241m.\u001B[39m_proc \u001B[38;5;241m=\u001B[39m \u001B[38;5;28;01mawait\u001B[39;00m asyncio\u001B[38;5;241m.\u001B[39mcreate_subprocess_exec(\n\u001B[0;32m    121\u001B[0m         executable_path,\n\u001B[0;32m    122\u001B[0m         entrypoint_path,\n\u001B[0;32m    123\u001B[0m         \u001B[38;5;124m\"\u001B[39m\u001B[38;5;124mrun-driver\u001B[39m\u001B[38;5;124m\"\u001B[39m,\n\u001B[0;32m    124\u001B[0m         stdin\u001B[38;5;241m=\u001B[39masyncio\u001B[38;5;241m.\u001B[39msubprocess\u001B[38;5;241m.\u001B[39mPIPE,\n\u001B[0;32m    125\u001B[0m         stdout\u001B[38;5;241m=\u001B[39masyncio\u001B[38;5;241m.\u001B[39msubprocess\u001B[38;5;241m.\u001B[39mPIPE,\n\u001B[0;32m    126\u001B[0m         stderr\u001B[38;5;241m=\u001B[39m_get_stderr_fileno(),\n\u001B[0;32m    127\u001B[0m         limit\u001B[38;5;241m=\u001B[39m\u001B[38;5;241m32768\u001B[39m,\n\u001B[0;32m    128\u001B[0m         env\u001B[38;5;241m=\u001B[39menv,\n\u001B[0;32m    129\u001B[0m         startupinfo\u001B[38;5;241m=\u001B[39mstartupinfo,\n\u001B[0;32m    130\u001B[0m     )\n\u001B[0;32m    131\u001B[0m \u001B[38;5;28;01mexcept\u001B[39;00m \u001B[38;5;167;01mException\u001B[39;00m \u001B[38;5;28;01mas\u001B[39;00m exc:\n\u001B[0;32m    132\u001B[0m     \u001B[38;5;28mself\u001B[39m\u001B[38;5;241m.\u001B[39mon_error_future\u001B[38;5;241m.\u001B[39mset_exception(exc)\n",
      "File \u001B[1;32m~\\anaconda3\\envs\\uitest\\Lib\\asyncio\\subprocess.py:224\u001B[0m, in \u001B[0;36mcreate_subprocess_exec\u001B[1;34m(program, stdin, stdout, stderr, limit, *args, **kwds)\u001B[0m\n\u001B[0;32m    221\u001B[0m loop \u001B[38;5;241m=\u001B[39m events\u001B[38;5;241m.\u001B[39mget_running_loop()\n\u001B[0;32m    222\u001B[0m protocol_factory \u001B[38;5;241m=\u001B[39m \u001B[38;5;28;01mlambda\u001B[39;00m: SubprocessStreamProtocol(limit\u001B[38;5;241m=\u001B[39mlimit,\n\u001B[0;32m    223\u001B[0m                                                     loop\u001B[38;5;241m=\u001B[39mloop)\n\u001B[1;32m--> 224\u001B[0m transport, protocol \u001B[38;5;241m=\u001B[39m \u001B[38;5;28;01mawait\u001B[39;00m loop\u001B[38;5;241m.\u001B[39msubprocess_exec(\n\u001B[0;32m    225\u001B[0m     protocol_factory,\n\u001B[0;32m    226\u001B[0m     program, \u001B[38;5;241m*\u001B[39margs,\n\u001B[0;32m    227\u001B[0m     stdin\u001B[38;5;241m=\u001B[39mstdin, stdout\u001B[38;5;241m=\u001B[39mstdout,\n\u001B[0;32m    228\u001B[0m     stderr\u001B[38;5;241m=\u001B[39mstderr, \u001B[38;5;241m*\u001B[39m\u001B[38;5;241m*\u001B[39mkwds)\n\u001B[0;32m    229\u001B[0m \u001B[38;5;28;01mreturn\u001B[39;00m Process(transport, protocol, loop)\n",
      "File \u001B[1;32m~\\anaconda3\\envs\\uitest\\Lib\\asyncio\\base_events.py:1744\u001B[0m, in \u001B[0;36mBaseEventLoop.subprocess_exec\u001B[1;34m(self, protocol_factory, program, stdin, stdout, stderr, universal_newlines, shell, bufsize, encoding, errors, text, *args, **kwargs)\u001B[0m\n\u001B[0;32m   1742\u001B[0m     debug_log \u001B[38;5;241m=\u001B[39m \u001B[38;5;124mf\u001B[39m\u001B[38;5;124m'\u001B[39m\u001B[38;5;124mexecute program \u001B[39m\u001B[38;5;132;01m{\u001B[39;00mprogram\u001B[38;5;132;01m!r}\u001B[39;00m\u001B[38;5;124m'\u001B[39m\n\u001B[0;32m   1743\u001B[0m     \u001B[38;5;28mself\u001B[39m\u001B[38;5;241m.\u001B[39m_log_subprocess(debug_log, stdin, stdout, stderr)\n\u001B[1;32m-> 1744\u001B[0m transport \u001B[38;5;241m=\u001B[39m \u001B[38;5;28;01mawait\u001B[39;00m \u001B[38;5;28mself\u001B[39m\u001B[38;5;241m.\u001B[39m_make_subprocess_transport(\n\u001B[0;32m   1745\u001B[0m     protocol, popen_args, \u001B[38;5;28;01mFalse\u001B[39;00m, stdin, stdout, stderr,\n\u001B[0;32m   1746\u001B[0m     bufsize, \u001B[38;5;241m*\u001B[39m\u001B[38;5;241m*\u001B[39mkwargs)\n\u001B[0;32m   1747\u001B[0m \u001B[38;5;28;01mif\u001B[39;00m \u001B[38;5;28mself\u001B[39m\u001B[38;5;241m.\u001B[39m_debug \u001B[38;5;129;01mand\u001B[39;00m debug_log \u001B[38;5;129;01mis\u001B[39;00m \u001B[38;5;129;01mnot\u001B[39;00m \u001B[38;5;28;01mNone\u001B[39;00m:\n\u001B[0;32m   1748\u001B[0m     logger\u001B[38;5;241m.\u001B[39minfo(\u001B[38;5;124m'\u001B[39m\u001B[38;5;132;01m%s\u001B[39;00m\u001B[38;5;124m: \u001B[39m\u001B[38;5;132;01m%r\u001B[39;00m\u001B[38;5;124m'\u001B[39m, debug_log, transport)\n",
      "File \u001B[1;32m~\\anaconda3\\envs\\uitest\\Lib\\asyncio\\base_events.py:524\u001B[0m, in \u001B[0;36mBaseEventLoop._make_subprocess_transport\u001B[1;34m(self, protocol, args, shell, stdin, stdout, stderr, bufsize, extra, **kwargs)\u001B[0m\n\u001B[0;32m    520\u001B[0m \u001B[38;5;28;01masync\u001B[39;00m \u001B[38;5;28;01mdef\u001B[39;00m \u001B[38;5;21m_make_subprocess_transport\u001B[39m(\u001B[38;5;28mself\u001B[39m, protocol, args, shell,\n\u001B[0;32m    521\u001B[0m                                      stdin, stdout, stderr, bufsize,\n\u001B[0;32m    522\u001B[0m                                      extra\u001B[38;5;241m=\u001B[39m\u001B[38;5;28;01mNone\u001B[39;00m, \u001B[38;5;241m*\u001B[39m\u001B[38;5;241m*\u001B[39mkwargs):\n\u001B[0;32m    523\u001B[0m \u001B[38;5;250m    \u001B[39m\u001B[38;5;124;03m\"\"\"Create subprocess transport.\"\"\"\u001B[39;00m\n\u001B[1;32m--> 524\u001B[0m     \u001B[38;5;28;01mraise\u001B[39;00m \u001B[38;5;167;01mNotImplementedError\u001B[39;00m\n",
      "\u001B[1;31mNotImplementedError\u001B[0m: "
     ]
    }
   ],
   "source": [
    "access2cluster = Access2Cluster()\n",
    "await access2cluster.login()"
   ]
  },
  {
   "cell_type": "markdown",
   "metadata": {
    "collapsed": false
   },
   "source": [
    "3. Init the Llava 1.5 model:"
   ]
  },
  {
   "cell_type": "code",
   "execution_count": null,
   "metadata": {
    "collapsed": false
   },
   "outputs": [],
   "source": [
    "await access2cluster.start_llm()\n",
    "args['model'] = access2cluster"
   ]
  },
  {
   "cell_type": "code",
   "execution_count": null,
   "metadata": {
    "collapsed": false
   },
   "outputs": [],
   "source": [
    "args"
   ]
  },
  {
   "cell_type": "markdown",
   "metadata": {
    "collapsed": false
   },
   "source": [
    "4. Run the main function to sum it up with the extracted information, we will get the generated UI test code for the test with id 1.4. Prompt engineering is implemented in the main function."
   ]
  },
  {
   "cell_type": "code",
   "execution_count": null,
   "metadata": {
    "collapsed": false
   },
   "outputs": [],
   "source": [
    "await main_cluster_multimodal_model(**args)"
   ]
  },
  {
   "cell_type": "markdown",
   "metadata": {
    "collapsed": false
   },
   "source": [
    "# More Developing: Using modular source code\n",
    "Possible to update function content in the following files, but no RENAMING or DELETING or changing function signature!:\n",
    "* src/main.py: Main function for UI test generation.\n",
    "    * Change constant Max length (max length of the input text for the model)\n",
    "* src/ui_tests/test_generation.py: Generate the UI test code using the language model.\n",
    "    * Expand model selection: Just add new case statements for different models with its code.\n",
    "* src/data/html_processing.py: Extract relevant information from the HTML file.\n",
    "* src/data/image_processing.py: Extract relevant information from the image.\n",
    "* src/data/python_processing.py: Parse the given playwright test code for previous step as a precondition.\n"
   ]
  },
  {
   "cell_type": "markdown",
   "metadata": {},
   "source": [
    "# Extract Information"
   ]
  },
  {
   "cell_type": "code",
   "execution_count": null,
   "metadata": {},
   "outputs": [],
   "source": [
    "# extract text from image\n",
    "def extract_text_from_image(image_path: str, max_length: Union[int, None] = 200) -> str:\n",
    "    \"\"\" Extract text from an image file.\n",
    "\n",
    "    :param max_length: The maximum length of the text.\n",
    "    :param image_path: The path to the image file.\n",
    "    :return: The extracted text from the image.\n",
    "    \"\"\"\n",
    "    image = Image.open(image_path)\n",
    "    pytesseract.pytesseract.tesseract_cmd = r'C:\\Program Files\\Tesseract-OCR\\tesseract.exe'\n",
    "    # Extract text from the image\n",
    "    text = pytesseract.image_to_string(image)\n",
    "    # Truncate the text to the maximum length\n",
    "    if max_length:\n",
    "        text = truncate_text(text, max_length=max_length)\n",
    "\n",
    "    logger.debug(f\"Text extracted from image successfully. - Characters: {len(text)}\")\n",
    "\n",
    "    return text\n"
   ]
  },
  {
   "cell_type": "markdown",
   "metadata": {},
   "source": [
    "# Create Input Prompt\n"
   ]
  },
  {
   "cell_type": "code",
   "execution_count": null,
   "metadata": {},
   "outputs": [],
   "source": [
    "# in config yaml ist die prompt \n"
   ]
  },
  {
   "cell_type": "markdown",
   "metadata": {},
   "source": []
  },
  {
   "cell_type": "markdown",
   "metadata": {},
   "source": [
    "# Finetuning\n"
   ]
  },
  {
   "cell_type": "markdown",
   "metadata": {},
   "source": [
    "# Evaluation\n"
   ]
  },
  {
   "cell_type": "markdown",
   "metadata": {},
   "source": [
    "Liste mit allen Evaluationen, die wir ausprobiert haben\n"
   ]
  },
  {
   "cell_type": "code",
   "execution_count": null,
   "metadata": {},
   "outputs": [],
   "source": [
    "\"\"\"  \n",
    "##Evaluation\n",
    "In this section, we evaluate the generated code by comparing it with a validation code.\n",
    "We use several metrics such as weighted BLEU score, success rate, and Levenshtein distance.\n",
    "\"\"\"\n",
    "\n",
    "# Define the evaluation functions\n",
    "def calculate_scores(generated_code: str, validation_code: str, precondition_code: str, programming_language: str) -> dict:\n",
    "    \"\"\" This method returns the scores of the given generated code.\n",
    "\n",
    "    generated_code: The generated code from the LLM as Python or TypeScript playwright script.\n",
    "    validation_code: Examples for validation as Python or TypeScript playwright script.\n",
    "    precondition: The precondition of the step as Python or TypeScript playwright script\n",
    "\n",
    "    return: The scores of the given generated code as dictionary.\n",
    "    \"\"\"\n",
    "    return {'weighted bleu': calculate_weighted_bleu_score(generated_code, validation_code, precondition_code),\n",
    "            'success rate': calculate_success_rate(generated_code),\n",
    "            'levensthein distance': calculate_levenshtein_distance(generated_code, validation_code)}\n",
    "\n",
    "\n",
    "def calculate_weighted_bleu_score(generated_code: str, validation_code: str, precondition_code: str, alpha: float = 0.5) -> float:\n",
    "    \"\"\" This method returns the BLEU score of the given generated code.\n",
    "\n",
    "    :param generated_code: The generated code from the LLM as Python or TypeScript playwright script.\n",
    "    :param validation_code: Examples for validation as Python or TypeScript playwright script.\n",
    "    :param precondition_code: The precondition of the step as Python or TypeScript playwright script\n",
    "    :param alpha: The weight of the second part of the BLEU score.\n",
    "    :return: The BLEU score of the given generated code.\n",
    "    \"\"\"\n",
    "    generated_code_tokens = esprima.tokenize(generated_code)\n",
    "    validation_code_tokens = esprima.tokenize(validation_code)\n",
    "    precondition_code_tokens = esprima.tokenize(precondition_code)\n",
    "\n",
    "    # Convert tokens to string\n",
    "    generated_code_tokens = [str(elem) for elem in generated_code_tokens]\n",
    "    validation_code_tokens = [str(elem) for elem in validation_code_tokens]\n",
    "    precondition_code_tokens = [str(elem) for elem in precondition_code_tokens]\n",
    "\n",
    "    precondition_code_length = len(precondition_code_tokens)\n",
    "    precondition_code_length_without_end_lines = -1\n",
    "    for i in range(precondition_code_length):\n",
    "        if validation_code_tokens[i] != precondition_code_tokens[i]:\n",
    "            precondition_code_length_without_end_lines = i\n",
    "            break\n",
    "\n",
    "    # The first part: Has the LLM correctly copied the precondition code?\n",
    "    first_bleu_score = sentence_bleu(references=[validation_code_tokens[:precondition_code_length_without_end_lines]],\n",
    "                                     hypothesis=generated_code_tokens[:precondition_code_length_without_end_lines])\n",
    "\n",
    "    # The second part: Has the LLM correctly added the new lines to reach the given goal?\n",
    "    second_bleu_score = sentence_bleu(references=[validation_code_tokens[precondition_code_length_without_end_lines:]],\n",
    "                                      hypothesis=generated_code_tokens[precondition_code_length_without_end_lines:])\n",
    "\n",
    "    return (1 - alpha) * first_bleu_score + alpha * second_bleu_score\n",
    "\n",
    "# Placeholder for actual implementation\n",
    "def calculate_success_rate(generated_code: str):\n",
    "    pass\n",
    "    # try to run generated playwright code and if successful then return 1 as success rate\n",
    "\n",
    "# Placeholder for actual implementation\n",
    "def calculate_levenshtein_distance(generated_code, validation_code):\n",
    "    pass\n",
    "    # return the levenshtein distance between the generated code and the validation code\n",
    "\n",
    "# Validate the generated code (if validation_path is provided)\n",
    "if validation_path:\n",
    "    validation_code = parse_code(validation_path)\n",
    "    scores = calculate_scores(generated_code=generated_code, validation_code=validation_code, precondition_code=precondition_text, programming_language='Python')  # Adjust language as needed\n",
    "    print(\"Validation Scores:\", scores)\n"
   ]
  },
  {
   "cell_type": "markdown",
   "metadata": {},
   "source": []
  }
 ],
 "metadata": {
  "kernelspec": {
   "display_name": "Python 3",
   "language": "python",
   "name": "python3"
  },
  "language_info": {
   "codemirror_mode": {
    "name": "ipython",
    "version": 2
   },
   "file_extension": ".py",
   "mimetype": "text/x-python",
   "name": "python",
   "nbconvert_exporter": "python",
   "pygments_lexer": "ipython2",
   "version": "2.7.6"
  }
 },
 "nbformat": 4,
 "nbformat_minor": 0
}
