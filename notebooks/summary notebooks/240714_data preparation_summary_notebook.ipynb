{
 "cells": [
  {
   "cell_type": "code",
   "execution_count": 1,
   "metadata": {
    "ExecuteTime": {
     "end_time": "2024-06-25T10:11:45.364390800Z",
     "start_time": "2024-06-25T10:11:45.274817500Z"
    },
    "collapsed": false
   },
   "outputs": [],
   "source": [
    "%load_ext autoreload\n",
    "%autoreload 2"
   ]
  },
  {
   "cell_type": "markdown",
   "metadata": {},
   "source": [
    "Structure of the notebook:"
   ]
  },
  {
   "cell_type": "markdown",
   "metadata": {},
   "source": []
  },
  {
   "cell_type": "code",
   "execution_count": 25,
   "metadata": {
    "ExecuteTime": {
     "end_time": "2024-06-25T11:05:05.579107400Z",
     "start_time": "2024-06-25T11:05:05.496958600Z"
    },
    "collapsed": false
   },
   "outputs": [],
   "source": [
    "import sqlite3\n",
    "from bs4 import BeautifulSoup\n",
    "\n",
    "from src.main import main, main_cluster_multimodal_model\n",
    "from src.utils.helpers import truncate_text, clean_string\n",
    "from src.utils.logger import setup_logger\n",
    "from src.llm.access_2_cluster import Access2Cluster\n",
    "\n",
    "import logging\n",
    "from src.data.html_processor import extract_html_info\n",
    "from src.data.code_processor import parse_code\n",
    "from src.data.image_processor import extract_text_from_image\n",
    "from src.input_builder import create_input\n",
    "from src.ui_tests.test_generation import generate_code\n",
    "from src.evaluation import calculate_scores\n",
    "from src.utils.logger import setup_logger\n",
    "\n",
    "\n",
    "logger = setup_logger(__name__, level='DEBUG') # Change to 'INFO' for less verbosity"
   ]
  },
  {
   "cell_type": "markdown",
   "metadata": {
    "collapsed": false
   },
   "source": [
    "# Load Data"
   ]
  },
  {
   "cell_type": "code",
   "execution_count": 3,
   "metadata": {
    "ExecuteTime": {
     "end_time": "2024-06-25T10:11:52.587416200Z",
     "start_time": "2024-06-25T10:11:52.492688700Z"
    },
    "collapsed": false
   },
   "outputs": [
    {
     "name": "stdout",
     "output_type": "stream",
     "text": [
      "There are 100 data.\n"
     ]
    }
   ],
   "source": [
    "# Connect to the database\n",
    "conn = sqlite3.connect('../data/raw/playwright_script.db')\n",
    "cursor = conn.cursor()\n",
    "\n",
    "res = cursor.execute(\"SELECT * FROM tests\")\n",
    "items = res.fetchall()\n",
    "\n",
    "print(\"There are {} data.\".format(len(items)))"
   ]
  },
  {
   "cell_type": "code",
   "execution_count": 4,
   "metadata": {
    "ExecuteTime": {
     "end_time": "2024-06-25T10:11:52.681472500Z",
     "start_time": "2024-06-25T10:11:52.586792200Z"
    },
    "collapsed": false
   },
   "outputs": [
    {
     "data": {
      "text/plain": [
       "('1.1',\n",
       " '[1.1] Öffne die Arbeitsmappe \"Übersicht Messstellen\" im Ordner \"Gewässergüte\".',\n",
       " '[1.1] Expected result: Die Arbeitsmappe wird geöffnet, der Analysekontext ist nicht sichtbar.',\n",
       " '.\\\\html\\\\1_1.html',\n",
       " '.\\\\screenshot\\\\1_1.png',\n",
       " '.\\\\test_script\\\\1_1.spec.ts')"
      ]
     },
     "execution_count": 4,
     "metadata": {},
     "output_type": "execute_result"
    }
   ],
   "source": [
    "# Check the first item\n",
    "items[0]"
   ]
  },
  {
   "cell_type": "markdown",
   "metadata": {
    "collapsed": false
   },
   "source": [
    "# Approach\n",
    "\n",
    "Use a Pre-trained LLM:\n",
    "* GPT-3, GPT-3.5, or a lighter version like GPT-2 (well-suited for text generation tasks)\n",
    "* Fine-tuning or adapting for specific tasks later possible\n",
    "\n",
    "Steps:\n",
    "1. ✅ HTML Processing: Extract relevant information from the HTML file.\n",
    "    * Use **BeautifulSoup** or lxml in Python to parse and extract information from the HTML file. ➡️ see src.data.html_processor.py\n",
    "2. ✅ Image Processing: Extract relevant information from the image:\n",
    "    * Use image-to-text models like **Tesseracts** or pytesseract (OCR libraries) to extract text from the image. ➡️ see src.data.image_processor.py\n",
    "    * Use OpenCV or PIL (Pillow) in Python to process the image and extract relevant information.\n",
    "3. Summarize the image and HTML information and the prompt from the playwright test code using T5 model. (optional)\n",
    "4. ✅ Python Processing: Parse the given playwright test code for previous step as a precondition. ➡️ see src.data.python_processor.py\n",
    "5. ✅ Combine the extracted information from the HTML and the image with the prompt for the language model. ➡️ see src.data.input_combiner.py\n",
    "6. ✅ Pass the combined input to the language model for generating the UI test code. ➡️ see src.ui_tests.test_generation.py\n",
    "\n",
    "➡️ Run locally via notebook or script using the src.main.py"
   ]
  },
  {
   "cell_type": "markdown",
   "metadata": {
    "collapsed": false
   },
   "source": [
    "# HTML Processing"
   ]
  },
  {
   "cell_type": "code",
   "execution_count": 5,
   "metadata": {
    "ExecuteTime": {
     "end_time": "2024-06-25T10:11:52.756824800Z",
     "start_time": "2024-06-25T10:11:52.681472500Z"
    },
    "collapsed": false
   },
   "outputs": [],
   "source": [
    "# load example file\n",
    "html_path = './html/0_1.html'"
   ]
  },
  {
   "cell_type": "markdown",
   "metadata": {
    "collapsed": false
   },
   "source": [
    "Option 1: Parse all HTML content by extracting the text from it using BeautifulSoup:"
   ]
  },
  {
   "cell_type": "code",
   "execution_count": 6,
   "metadata": {
    "ExecuteTime": {
     "end_time": "2024-06-25T10:11:52.835270Z",
     "start_time": "2024-06-25T10:11:52.756824800Z"
    },
    "collapsed": false
   },
   "outputs": [],
   "source": [
    "def parse_html(html_path: str, max_length: int = 200) -> str:\n",
    "    \"\"\" Parse the HTML content from a file using BeautifulSoup. It extracts the text content and truncates it to the given maximum length.\n",
    "\n",
    "    :param max_length: The maximum length of the text.\n",
    "    :param html_path: The path to the HTML file.\n",
    "    :return: The text content of the HTML file.\n",
    "    \"\"\"\n",
    "    # Load HTML content from a file\n",
    "    with open(html_path, \"r\") as file:\n",
    "        html_content = file.read()\n",
    "\n",
    "    # Parse the HTML content\n",
    "    soup = BeautifulSoup(html_content, 'html.parser')\n",
    "\n",
    "    # Get the text content\n",
    "    html_text = soup.get_text(strip=True)\n",
    "\n",
    "    # Truncate the text to the maximum length\n",
    "    html_text = truncate_text(html_text, max_length=max_length)\n",
    "\n",
    "    logger.debug(f\"HTML content parsed successfully. - Lines of Code: {len(html_text.splitlines())}\")\n",
    "\n",
    "    return html_text"
   ]
  },
  {
   "cell_type": "code",
   "execution_count": 7,
   "metadata": {
    "ExecuteTime": {
     "end_time": "2024-06-25T10:11:53.106698800Z",
     "start_time": "2024-06-25T10:11:52.836538700Z"
    },
    "collapsed": false
   },
   "outputs": [
    {
     "name": "stdout",
     "output_type": "stream",
     "text": [
      "2024-06-25 12:11:53 [\u001b[34m__main__:21\u001b[0m] [DEBUG\u001b[0m] >>>> HTML content parsed successfully. - Lines of Code: 3\u001b[0m\n",
      "Startseite - disy CadenzaAchtung!Ihr Browser unterstÃ¼tzt kein JavaScript oder JavaScript wurde in Ihrem Browser deaktiviert.Bitte verwenden Sie einen Browser, der JavaScript unterstÃ¼tzt, oder aktivieren Sie JavaScript in Ihrem Browser. Ohne aktiviertes JavaScript ist die Anwendung nicht nutzbar.OfflineVerbinden â€¦Zum Navigatorbaum springenZum Hauptbereich springenStartseiteKartedisy Cadenza[{\"printName\":\"Lernmodule â€“ Tutorials und mehr\",\"url\":\"/help-learning/index.html\",\"targetFrame\":\"_blank\",\"id\":\"help\",\"type\":\"help\",\"webApplication\":false},{\"printName\":\"Hilfe\",\"url\":\"/help/\",\"targetFrame\":\"_blank\",\"id\":\"help\",\"type\":\"help\",\"webApplication\":false},{\"printName\":\"Hilfe zu Classic\",\"url\":\"/help-classic/\",\"targetFrame\":\"_blank\",\"id\":\"help-classic\",\"type\":\"help-classic\",\"webApplication\":false}]Admin[{\"printName\":\"Profil\",\"url\":\"/pages/access/userprofile.xhtml\",\"targetFrame\":\"_self\",\"id\":\"userprofile\",\"type\":\"userprofile\",\"webApplication\":false},{\"printName\":\"Abmelden\",\"url\":\"/logout\",\"targetFrame\":\"_self\",\"id\":\"logout\",\"type\":\"logout\",\"webApplication\":false}]Willkommen bei disy CadenzaEinen Einstieg finden Sie in der LayerauswahlLayerauswahlSchlagwortDiagrammKarteTabelleArbeitsmappeTutorialVerzeichnisTutorialVerzeichnisGewÃ¤ssergÃ¼teVerzeichnisAutomobileVerzeichnisErgÃ¤nzende GeodatenVerzeichnisZentrale DiensteVerzeichnisMeine ArbeitsmappenArbeitsmappeZugangsdaten[]Dashboarding. Reporting. Location Analytics.Ob besserer Ãœberblick, das Entdecken von ZusammenhÃ¤ngen oder das Teilen neu gewonnener Erkenntnisse â€“ mitdisy Cadenzaanalysieren, visualisieren und prÃ¤sentieren Sie Ihre Daten ganz leicht. Erleben Sie die vielfÃ¤ltigen MÃ¶glichkeiten intelligenter Datenanalyse:\n",
      "      Business & Location Intelligence bringt Ihre Daten zum Sprechen und Sie kÃ¶nnen damit viel bewegen.Steigen Sie mÃ¼helos ein mit den â€œErsten Schrittenâ€œ, unserenTutorials, denLernmodulenund derOnlinehilfe.\n",
      "      Aktuelle Informationen rund um disy Cadenza erhalten Sie auch auf unsererWebseit...\n"
     ]
    }
   ],
   "source": [
    "html_text = parse_html(html_path, max_length=2000)\n",
    "print(html_text)"
   ]
  },
  {
   "cell_type": "markdown",
   "metadata": {
    "collapsed": false
   },
   "source": [
    "Option 2: Extract only Elements (input fields, buttons, links) from the HTML file using BeautifulSoup."
   ]
  },
  {
   "cell_type": "code",
   "execution_count": 8,
   "metadata": {
    "ExecuteTime": {
     "end_time": "2024-06-25T10:11:53.197456400Z",
     "start_time": "2024-06-25T10:11:53.106698800Z"
    },
    "collapsed": false
   },
   "outputs": [],
   "source": [
    "def extract_html_info(file_path):\n",
    "    \"\"\"Extract relevant information from an HTML file.\n",
    "\n",
    "    :param file_path: The path to the HTML file.\n",
    "    :return: A formatted string containing the extracted HTML elements.\n",
    "    \"\"\"\n",
    "    with open(file_path, 'r', encoding='utf-8') as file:\n",
    "        html_content = file.read()\n",
    "\n",
    "    soup = BeautifulSoup(html_content, 'html.parser')\n",
    "\n",
    "    buttons = soup.find_all('button')\n",
    "    inputs = soup.find_all('input')\n",
    "    links = soup.find_all('a')\n",
    "\n",
    "    html_elements = \"HTML Elements:\\n\"\n",
    "\n",
    "    for button in buttons:\n",
    "        button_text = clean_string(button.text)\n",
    "        button_id = button.get(\"id\", \"No ID\")\n",
    "        button_class = ' '.join(button.get(\"class\", []))  # Convert list to string with space separator\n",
    "        button_type = button.get(\"type\", \"button\")\n",
    "        html_elements += f'Button: {button_text} - ID: {button_id} - Class: {button_class} - Type: {button_type}\\n'\n",
    "\n",
    "    for input_field in inputs:\n",
    "        input_name = input_field.get(\"name\", \"No Name\")\n",
    "        input_type = input_field.get(\"type\", \"text\")\n",
    "        input_value = input_field.get(\"value\", \"\")\n",
    "        input_placeholder = clean_string(input_field.get(\"placeholder\", \"\"))\n",
    "        input_id = input_field.get(\"id\", \"No ID\")\n",
    "        input_class = ' '.join(input_field.get(\"class\", []))  # Convert list to string with space separator\n",
    "        input_label = input_field.get(\"aria-label\", \"\")\n",
    "        html_elements += f'Input: {input_name} - Type: {input_type} - Value: {input_value} - Placeholder: {input_placeholder} - ID: {input_id} - Class: {input_class} - Label: {input_label}\\n'\n",
    "\n",
    "    for link in links:\n",
    "        link_text = clean_string(link.text)\n",
    "        link_href = link.get(\"href\", \"#\")\n",
    "        link_id = link.get(\"id\", \"No ID\")\n",
    "        link_class = ' '.join(link.get(\"class\", []))  # Convert list to string with space separator\n",
    "        html_elements += f'Link: {link_text} - Href: {link_href} - ID: {link_id} - Class: {link_class}\\n'\n",
    "\n",
    "    logger.debug(f\"HTML elements extracted successfully. - Number of Elements: {len(html_elements.splitlines())}\")\n",
    "\n",
    "    return html_elements.strip()"
   ]
  },
  {
   "cell_type": "code",
   "execution_count": 9,
   "metadata": {
    "ExecuteTime": {
     "end_time": "2024-06-25T10:11:53.297220400Z",
     "start_time": "2024-06-25T10:11:53.197456400Z"
    },
    "collapsed": false
   },
   "outputs": [
    {
     "name": "stdout",
     "output_type": "stream",
     "text": [
      "2024-06-25 12:11:53 [\u001b[34m__main__:42\u001b[0m] [DEBUG\u001b[0m] >>>> HTML elements extracted successfully. - Number of Elements: 48\u001b[0m\n",
      "HTML Elements:\n",
      "Button:  - ID: navigationTrigger - Class: button button-icon button-borderless - Type: button\n",
      "Button: [{\"printName\":\"Lernmodule – Tutorials und mehr\",\"url\":\"/help-learning/index.html\",\"targetFrame\":\"_blank\",\"id\":\"help\",\"type\":\"help\",\"webApplication\":false},{\"printName\":\"Hilfe\",\"url\":\"/help/\",\"targetFrame\":\"_blank\",\"id\":\"help\",\"type\":\"help\",\"webApplication\":false},{\"printName\":\"Hilfe zu Classic\",\"url\":\"/help-classic/\",\"targetFrame\":\"_blank\",\"id\":\"help-classic\",\"type\":\"help-classic\",\"webApplication\":false}] - ID: No ID - Class: d-help-menu button button-icon button-borderless d-topnav-dropdown - Type: button\n",
      "Button: Admin [{\"printName\":\"Profil\",\"url\":\"/pages/access/userprofile.xhtml\",\"targetFrame\":\"_self\",\"id\":\"userprofile\",\"type\":\"userprofile\",\"webApplication\":false},{\"printName\":\"Abmelden\",\"url\":\"/logout\",\"targetFrame\":\"_self\",\"id\":\"logout\",\"type\":\"logout\",\"webApplication\":false}] - ID: No ID - Class: button button-borderless d-topnav-dropdown - Type: button\n",
      "Button:  - ID: No ID - Class: button button-icon button-borderless d-sidebar-close - Type: button\n",
      "Button:  - ID: No ID - Class: button button-borderless button-icon d-select--element-left - Type: button\n",
      "Button:  - ID: workbook-create - Class: button workbook-create button-icon - Type: button\n",
      "Button:  - ID: RDxYr2vFytOijWjelj7P1 - Class: button navigation-menu button-icon - Type: button\n",
      "Button:  - ID: No ID - Class: button button-borderless button-s d-nav-tree-node--help-button button-icon - Type: button\n",
      "Button:  - ID: No ID - Class: button button-borderless button-s d-nav-tree-node--help-button button-icon - Type: button\n",
      "Button:  - ID: No ID - Class: button button-borderless button-s d-nav-tree-node--help-button button-icon - Type: button\n",
      "Button:  - ID: No ID - Class: button button-borderless button-s is-hover-visible button-icon - Type: button\n",
      "Button: Arbeitsmappe importieren - ID: No ID - Class: button - Type: button\n",
      "Button: Repository neu einlesen … - ID: No ID - Class: button - Type: button\n",
      "Input: No Name - Type: search - Value:  - Placeholder: Suchen nach … - ID: No ID - Class: select2-search__field - Label: Suchen nach …\n",
      "Link: Zum Navigatorbaum springen - Href: #navigator - ID: skip-to-navigator - Class: button button-primary\n",
      "Link: Zum Hauptbereich springen - Href: #content - ID: skip-to-content - Class: button button-primary\n",
      "Link: Startseite - Href: /cadenza/ - ID: home - Class: button button-icon button-borderless\n",
      "Link: Karte - Href: # - ID: No ID - Class: button button-icon button-borderless d-topnav--map-button\n",
      "Link:  - Href: /cadenza/admin/ - ID: No ID - Class: button button-icon button-borderless\n",
      "Link:  - Href: http://www.disy.net - ID: No ID - Class: helpMenuBottomContentImageTop\n",
      "Link:  - Href: mailto:sales@disy.net - ID: No ID - Class: \n",
      "Link:  - Href: http://www.disy.net - ID: No ID - Class: \n",
      "Link: Verzeichnis Tutorial - Href: # - ID: d-nav-tree-node_ROOT-Tutorial_firstContent - Class: d-nav-tree-node--main d-hover-context\n",
      "Link: Verzeichnis Gewässergüte - Href: # - ID: d-nav-tree-node_ROOT-Gewässergüte_firstContent - Class: d-nav-tree-node--main d-hover-context\n",
      "Link: Verzeichnis Automobile - Href: # - ID: d-nav-tree-node_ROOT-Automobile_firstContent - Class: d-nav-tree-node--main d-hover-context\n",
      "Link: Verzeichnis Ergänzende Geodaten - Href: # - ID: d-nav-tree-node_ROOT-Ergänzende-Geodaten_firstContent - Class: d-nav-tree-node--main d-hover-context\n",
      "Link: Verzeichnis Zentrale Dienste - Href: # - ID: d-nav-tree-node_ROOT-Zentrale-Dienste_firstContent - Class: d-nav-tree-node--main d-hover-context\n",
      "Link: Verzeichnis Meine Arbeitsmappen - Href: # - ID: d-nav-tree-node_ROOT-Meine-Arbeitsmappen_firstContent - Class: d-nav-tree-node--main d-hover-context\n",
      "Link: Arbeitsmappe Zugangsdaten - Href: # - ID: d-nav-tree-node_ROOT-wYRrGPE6Y6LtRpCm9ofb-HLiA_wB-1Y3slGMCaAfo_firstContent - Class: d-nav-tree-node--main d-hover-context\n",
      "Link: Zugangsdaten - Href: /cadenza/public/repositories/wYRrGPE6Y6LtRpCm9ofb/workbooks/HLiA_wB-1Y3slGMCaAfo - ID: No ID - Class: d-nav-tree-node--text ellipsis\n",
      "Link: disy Cadenza - Href: https://www.disy.net/de/produkte/cadenza/datenanalyse-software/ - ID: No ID - Class: \n",
      "Link: Tutorials - Href: https://www.youtube.com/playlist?list=PLNSw3ORHtTWVuvWnwmA2o6v9_rqPIfz0Q - ID: No ID - Class: \n",
      "Link: Lernmodulen - Href: /cadenza/help-learning/#/index/1/1 - ID: No ID - Class: \n",
      "Link: Onlinehilfe - Href: /cadenza/help/#/index/1/1 - ID: No ID - Class: \n",
      "Link: Webseite - Href: https://www.disy.net/de/ - ID: No ID - Class: \n",
      "Link: Lernmodulen - Href: /cadenza/help-learning/#/index/1/1 - ID: No ID - Class: \n",
      "Link:  - Href: #section-0 - ID: No ID - Class: startpage-section-navigation-item active\n",
      "Link: 1 - Href: #section-1 - ID: No ID - Class: startpage-section-navigation-item\n",
      "Link: 2 - Href: #section-2 - ID: No ID - Class: startpage-section-navigation-item\n",
      "Link: 3 - Href: #section-3 - ID: No ID - Class: startpage-section-navigation-item\n",
      "Link: 4 - Href: #section-4 - ID: No ID - Class: startpage-section-navigation-item\n",
      "Link: 5 - Href: #section-5 - ID: No ID - Class: startpage-section-navigation-item\n",
      "Link: 6 - Href: #section-6 - ID: No ID - Class: startpage-section-navigation-item\n",
      "Link: 7 - Href: #section-7 - ID: No ID - Class: startpage-section-navigation-item\n",
      "Link: disy Cadenza v9.4.71 - Href: https://www.disy.net/de/produkte/cadenza/datenanalyse-software/ - ID: No ID - Class: userSpecificLink ellipsis hidden-xs\n",
      "Link: © Disy Informationssysteme GmbH - Href: https://www.disy.net - ID: No ID - Class: userSpecificLink ellipsis hidden-xs\n",
      "Link: Über Disy - Href: https://www.disy.net/de/impressum/ - ID: No ID - Class: userSpecificLink ellipsis\n"
     ]
    }
   ],
   "source": [
    "html_elements = extract_html_info(html_path)\n",
    "print(html_elements)"
   ]
  },
  {
   "cell_type": "markdown",
   "metadata": {},
   "source": [
    "# Image Processing"
   ]
  },
  {
   "cell_type": "code",
   "execution_count": null,
   "metadata": {},
   "outputs": [],
   "source": [
    "# Imports for Image Processing\n",
    "from PIL import Image\n",
    "import pytesseract\n",
    "from typing import Union\n",
    "\n",
    "# Utility functions\n",
    "from src.utils.helpers import truncate_text\n",
    "from src.utils.logger import setup_logger\n",
    "\n",
    "# Setup Logger\n",
    "logger = setup_logger(__name__, level='DEBUG')\n",
    "\n",
    "# Define the function to extract text from image\n",
    "def extract_text_from_image(image_path: str, max_length: Union[int, None] = 200) -> str:\n",
    "    \"\"\" Extract text from an image file.\n",
    "\n",
    "    :param max_length: The maximum length of the text.\n",
    "    :param image_path: The path to the image file.\n",
    "    :return: The extracted text from the image.\n",
    "    \"\"\"\n",
    "    image = Image.open(image_path)\n",
    "    pytesseract.pytesseract.tesseract_cmd = r'C:\\Program Files\\Tesseract-OCR\\tesseract.exe'\n",
    "    # Extract text from the image\n",
    "    text = pytesseract.image_to_string(image)\n",
    "    # Truncate the text to the maximum length\n",
    "    if max_length:\n",
    "        text = truncate_text(text, max_length=max_length)\n",
    "\n",
    "    logger.debug(f\"Text extracted from image successfully. - Characters: {len(text)}\")\n",
    "\n",
    "    return text\n",
    "\n",
    "# Demonstrate the function with an example image\n",
    "image_path = 'path/to/image/file.png'\n",
    "extracted_text = extract_text_from_image(image_path, max_length=300)\n",
    "print(\"Extracted Text from Image:\", extracted_text)\n"
   ]
  },
  {
   "cell_type": "markdown",
   "metadata": {},
   "source": [
    "# "
   ]
  },
  {
   "cell_type": "markdown",
   "metadata": {},
   "source": []
  }
 ],
 "metadata": {
  "kernelspec": {
   "display_name": "Python 3",
   "language": "python",
   "name": "python3"
  },
  "language_info": {
   "codemirror_mode": {
    "name": "ipython",
    "version": 2
   },
   "file_extension": ".py",
   "mimetype": "text/x-python",
   "name": "python",
   "nbconvert_exporter": "python",
   "pygments_lexer": "ipython2",
   "version": "2.7.6"
  }
 },
 "nbformat": 4,
 "nbformat_minor": 0
}
