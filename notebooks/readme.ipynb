{
 "cells": [
  {
   "cell_type": "markdown",
   "id": "4a818a66",
   "metadata": {},
   "source": [
    "# Environment Setup\n",
    "\n",
    "To set up your environment, follow these steps in your terminal. These instructions assume that you have Conda installed on your machine, which will manage your environments and packages.\n",
    "\n",
    "### Step 1: Open Your Terminal\n",
    "Start by opening your terminal application. This might be Command Prompt or PowerShell on Windows.\n",
    "\n",
    "### Step 2: Create a New Conda Environment\n",
    "Create a new Conda environment named `uitest` with Python 3.8 by running the following command:\n",
    "\n",
    "```bash\n",
    "conda create -n uitest python=3.12.3\n",
    "```\n",
    "\n",
    "### Step 3: Activate the Environment\n",
    "Activate the newly created environment to switch into it:\n",
    "```bash\n",
    "conda activate uitest\n",
    "```\n",
    "\n",
    "### Step 4: Install Playwright\n",
    "Install Playwright, a tool for browser automation, using pip:\n",
    "```bash\n",
    "pip install playwright\n",
    "```\n",
    "\n",
    "### Step 5: Install Playwright Dependencies\n",
    "Once Playwright is installed, run the installation command to set up the necessary browser binaries:\n",
    "```bash\n",
    "playwright install\n",
    "```\n",
    "\n",
    "### Step 6: Install BeautifulSoup4\n",
    "Finally, install BeautifulSoup4, which is a library used for parsing HTML and XML documents:\n",
    "```bash\n",
    "pip install BeautifulSoup4\n",
    "```"
   ]
  },
  {
   "cell_type": "markdown",
   "id": "55e47fb9",
   "metadata": {},
   "source": [
    "# UI Test Examples\n",
    "\n",
    "The file **Cadenza_TF_von_QS_ueberarbeitet-1_utf8.csv** contains 30 examples of UI tests.\n",
    "\n",
    "Let's start by reading the file to explore the descriptions of these UI tests.\n",
    "\n",
    "For our analysis, we will focus on the two most important columns, namely `Requirements NEU` and `Test Steps NEU`.\n",
    "\n",
    "* `Requirements NEU`:This column describes the preconditions necessary for each UI test. Preconditions outline the specific states or configurations that must be present before the test is executed.\n",
    "\n",
    "* `Test Steps NEU`:This column provides a detailed description of the UI test steps along with the expected results. It outlines the actions to be performed during the test and the anticipated outcomes, ensuring the test's objectives are clearly understood."
   ]
  },
  {
   "cell_type": "code",
   "execution_count": 3,
   "id": "cd2fd734",
   "metadata": {
    "scrolled": true,
    "ExecuteTime": {
     "end_time": "2024-06-11T10:00:14.434101800Z",
     "start_time": "2024-06-11T10:00:14.370465400Z"
    }
   },
   "outputs": [
    {
     "data": {
      "text/plain": "<IPython.core.display.HTML object>",
      "text/html": "<table border=\"1\" class=\"dataframe\">\n  <thead>\n    <tr style=\"text-align: right;\">\n      <th></th>\n      <th>Requirements NEU</th>\n      <th>Test Steps NEU</th>\n    </tr>\n  </thead>\n  <tbody>\n    <tr>\n      <th>0</th>\n      <td>1. Cadenza Web wurde gestartet (localhost:8080/cadenza) \\n2. Anmeldedaten (Admin/Admin) wurden eingegeben</td>\n      <td>1) Öffne die Arbeitsmappe \"Übersicht Messstellen\" im Ordner \"Gewässergüte\".\\nExpected result: Die Arbeitsmappe wird geöffnet, der Analysekontext ist nicht sichtbar.\\n\\n2) Öffnen der Tabellen-Sicht \"Messstellenliste\" über die Werkzeugliste der Arbeitsmappe.\\nExpected result: Die Tabelle \"Messstelleninformationen\" wird angezeigt, der Analysekontext ist sichtbar.\\n\\n3) Klicke auf den 3-Punkte-Button innerhalb der Tabellen-Sicht \"Messstelleninformationen\"\\nExpected result: Kontextmenü erscheint mit den Optionen:\\n- Duplizieren\\n- In Arbeitsblatt duplizieren\\n- Exportieren\\n- Designer öffnen\\n- Löschen\\n\\n3) Klicke auf \"Duplizieren\"\\nExpected result: Das Kontextmenü schließt sich. Die Sicht ist dupliziert.\\nDie duplizierte Sicht erscheint neben der Original-Sicht.\\nBeide Sichten teilen sich in gleichen Maßen den Platz der Original-Sicht.</td>\n    </tr>\n    <tr>\n      <th>1</th>\n      <td>1. Cadenza Web wurde gestartet (localhost:8080/cadenza) \\n2. Anmeldedaten (Admin/Admin) wurden eingegeben</td>\n      <td>1) Klicke im Navigator auf das Buch-Symbol  \"Neue Arbeitsmappe\" und wähle Repository \"Gewaesser\".\\nExpected result: Eine leere Arbeitsmappe wird erstellt und eine leere Ansicht geöffnet. Datenmanager und Designer sind eingeblendet.</td>\n    </tr>\n    <tr>\n      <th>2</th>\n      <td>1. Cadenza Web wurde gestartet (localhost:8080/cadenza) \\n2. Anmeldedaten (Admin/Admin) wurden eingegeben</td>\n      <td>1) Öffne den Navigator, öffne einen Ordner mit einer Arbeitsmappe und klicke neben dem Namen der Arbeitsmappe  auf die drei Punkte für weitere Aktionen.\\nExpected result: Der Dialog für weitere Aktionen ist geöffnet.\\n\\n2) Klicke auf \"Löschen\".\\nExpected result: Der Dialog zum Löschen ist geöffnet, der Nutzer wird gefragt ob er wirklich löschen möchte.\\n\\n3) Klicke auf \"Arbeitsmappe löschen\".\\nExpected result: Die Arbeitsmappe ist nicht mehr sichtbar, die Startseite von Cadenza geöffnet.\\n\\n4) Öffne den Navigator und scrolle zum vorherigen Ort der gelöschten Arbeitsmappe.\\nExpected result: Die Arbeitsmappe ist nicht mehr sichtbar.</td>\n    </tr>\n    <tr>\n      <th>3</th>\n      <td>1. Cadenza Web wurde gestartet (localhost:8080/cadenza) \\n2. Anmeldedaten (Admin/Admin) wurden eingegeben</td>\n      <td>1) Öffne die Arbeitsmappe \"Übersicht Messstellen\" im Ordner \"Gewässergüte\".\\nExpected result: Die Arbeitsmappe wird geöffnet, der Analysekontext ist nicht sichtbar.\\n\\n2) Klicke auf \"Informationen zur Arbeitsmappe\" in der Navigatorleiste.\\nExpected result: Fenster öffnet sich.\\n\\n3) Klicke auf \"Neues Arbeitsblatt\"\\nExpected result: Fenster \"Arbeitsblatt hinzufügen\" zum Benennen des Arbeitsblattes öffnet sich.\\n\\n4) Klicke auf \"Hinzufügen\".\\nExpected result: Das neue Arbeitsblatt wird angelegt.\\n\\n4) Klicke auf den Namen des gerade angelegten Arbeitsblatts in der Navigatorleiste und danach ganz unten auf \"Arbeitsblätter verwalten\".\\nExpected result: Fenster \"Arbeitsmappe verwalten\" öffnet sich.\\n\\n5) Gehe mit der Maus auf ein Arbeitsblatt was nicht gerade geöffnet ist.\\nExpected result: Die Spalte wird grau hervorgehoben, ein Stift und Mülleimer-Symbol erscheint.\\n\\n6) Klicke auf das Mülleimer-Symbol.\\nExpected result: Das ausgewählte Arbeitsblatt wird gelöscht.\\n</td>\n    </tr>\n    <tr>\n      <th>4</th>\n      <td>1. Cadenza Web wurde gestartet (localhost:8080/cadenza) \\n2. Anmeldedaten (Admin/Admin) wurden eingegeben</td>\n      <td>1) Öffne die Arbeitsmappe \"Übersicht Messstellen\" im Ordner \"Gewässergüte\".\\nExpected result: Die Arbeitsmappe wird geöffnet, der Analysekontext ist nicht sichtbar.\\n\\n2) Öffne das Arbeitsblatts \"Häufigkeit der Messungen\" über die Navigatorleiste\\nExpected result: Das Tabellenblatt angezeigt, der Analysekontext ist sichtbar.\\n\\n3) Klicke auf die Diagramm-Sicht \"Anzahl der Messungen pro Jahr\" \\nExpected result: Das Diagramm wird farblich hervorgehoben\\n\\n4) Klicke auf den 3-Punkte-Button innerhalb der Diagramm-Sicht \"Anzahl der Messungen pro Jahr\"\\nExpected result: Kontextmenü erscheint mit den Optionen:\\n- Duplizieren\\n- In Arbeitsblatt duplizieren\\n- Designer öffnen\\n- Löschen\\n\\n5) Klicke auf \"Duplizieren\"\\nExpected result: Das Kontextmenü schließt sich\\nDie Sicht ist dupliziert. Die duplizierte Sicht erscheint neben der original Sicht.\\nBeide Sichten teilen sich in gleichen Maßen den Platz der Original-Sicht</td>\n    </tr>\n    <tr>\n      <th>5</th>\n      <td>1. Cadenza Web wurde gestartet (localhost:8080/cadenza) \\n2. Anmeldedaten (Admin/Admin) wurden eingegeben</td>\n      <td>1) Öffne die Arbeitsmappe \"Übersicht Messstellen\" im Ordner \"Gewässergüte\".\\nExpected result: Die Arbeitsmappe wird geöffnet, der Analysekontext ist nicht sichtbar.\\n\\n2) Öffne das Arbeitsblatts \"Häufigkeit der Messungen\" über die Navigatorleiste\\nExpected result: Das Arbeitsblatt wird angezeigt.\\n\\n3) Klicke auf die Indikator-Sicht \"402 611 Messungen gesamt\" \\nExpected result: Der Indikator wird farblich hervorgehoben\\n\\n4) Klicke auf den 3-Punkte-Button innerhalb der Indikator-Sicht \"402 611 Messungen gesamt\"\\nExpected result: Kontextmenü erscheint mit den Optionen:\\n- Maximieren\\n- Duplizieren\\n- In Arbeitsblatt duplizieren\\n- Designer öffnen\\n- Löschen\\n\\n5) Klicke auf \"Duplizieren\"\\nExpected result: Das Kontextmenü schließt sich\\nDie Sicht ist dupliziert. Die duplizierte Sicht erscheint an einem anderen Platz im Arbeitsblatt\\nBeide Sichten haben die gleiche Größe.</td>\n    </tr>\n    <tr>\n      <th>6</th>\n      <td>1. Cadenza Web wurde gestartet (localhost:8080/cadenza) \\n2. Anmeldedaten (Admin/Admin) wurden eingegeben</td>\n      <td>1) Öffne die importierte Arbeitsmappe oder alternativ die Arbeitsmappe \"Gewässergüte\" im Ordner \"Gewässergüte\".\\nExpected result: Arbeitsmappe ist geöffnet und das erste Arbeitsblatt wird angezeigt.\\n\\n2) Klicke oben rechts auf \"Neue Sicht\"\\nExpected result: Ein Kontextmenü öffnet \\n\\n3) Klicke auf \"Text\" unter \"Statische Sicht\"\\nExpected result: Eine Textsicht wird dem Arbeitsblatt des Workbooks hinzugefügt</td>\n    </tr>\n    <tr>\n      <th>7</th>\n      <td>1. Cadenza Web wurde gestartet (localhost:8080/cadenza) \\n2. Anmeldedaten (Admin/Admin) wurden eingegeben</td>\n      <td>1) Öffne die Arbeitsmappe \"Übersicht Messstellen\" im Ordner \"Gewässergüte\".\\nExpected result: Die Arbeitsmappe wird geöffnet, der Analysekontext ist nicht sichtbar.\\n\\n2) Öffne das Arbeitsblatts \"Häufigkeit der Messungen\" über die Navigatorleiste\\nExpected result: Das Arbeitsblatt angezeigt\\n\\n3) Klicke auf das Datenmanagersymbol in der Werkzeugleiste der Arbeitsmappe.\\nExpected result: Der Datenmanager wird eingeblendet.\\n\\n4) Klicke auf X im Datenmanager.\\nExpected result: Der Datenmanager wird ausgeblendet.\\n\\n5) Klicke erneut auf das Datenmanagersymbol in der Werkzeugleiste der Arbeitsmappe.\\nExpected result: Der Datenmanager wird eingeblendet.\\n\\n6) Klicke auf das Datenmanagersymbol in der Werkzeugleiste der Arbeitsmappe.\\nExpected result: Der Datenmanager wird eingeblendet.\\n</td>\n    </tr>\n    <tr>\n      <th>8</th>\n      <td>1. Cadenza Web wurde gestartet (localhost:8080/cadenza) \\n2. Anmeldedaten (Admin/Admin) wurden eingegeben</td>\n      <td>1) Öffne die Arbeitsmappe \"Übersicht Messstellen\" im Ordner \"Gewässergüte\".\\nExpected result: Die Arbeitsmappe wird geöffnet, der Analysekontext ist nicht sichtbar.\\n\\n2) Klicke auf das Analysekontextsymbol in der Werkzeugleiste der Arbeitsmappe.\\nExpected result: Der Analysekontext wird eingeblendet.\\n\\n3) Klicke auf X im Analysekontext.\\nExpected result: Der Analysekontext wird ausgeblendet.\\n\\n4) Klicke erneut auf das Analysekontextsymbol in der Werkzeugleiste der Arbeitsmappe.\\nExpected result: Der Analysekontext wird eingeblendet.\\n\\n5) Klicke auf das Analysekontextsymbol in der Werkzeugleiste der Arbeitsmappe.\\nExpected result: Der Analysekontext wird ausgeblendet</td>\n    </tr>\n    <tr>\n      <th>9</th>\n      <td>1. Cadenza Web wurde gestartet (localhost:8080/cadenza) \\n2. Anmeldedaten (Admin/Admin) wurden eingegeben</td>\n      <td>1) Öffne die Arbeitsmappe \"Übersicht Messstellen\" im Ordner \"Gewässergüte\" und klicke auf eine beliebige Sicht.\\nExpected result: Die Arbeitsmappe wird geöffnet, die Sicht wird farblich hervorgehoben.\\n\\n2) Klicke auf das Designersymbol in der Werkzeugleiste der Arbeitsmappe.\\nExpected result: Der Designer wird eingeblendet.\\n\\n3) Klicke auf X im Designer.\\nExpected result: Der Designer wird ausgeblendet.\\n\\n4) Klicke erneut auf das Designersymbol in der Werkzeugleiste der Arbeitsmappe.\\nExpected result: Der Designer wird eingeblendet.\\n\\n5) Klicke auf das Designersymbol in der Werkzeugleiste der Arbeitsmappe.\\nExpected result: Der Designer wird ausgeblendet.\\n</td>\n    </tr>\n    <tr>\n      <th>10</th>\n      <td>1. Cadenza Web wurde gestartet (localhost:8080/cadenza) \\n2. Anmeldedaten (Admin/Admin) wurden eingegeben</td>\n      <td>1) Klicke im Navigator auf das Buch-Symbol  \"Neue Arbeitsmappe\" und wähle Repository \"Gewaesser\".\\nExpected result: Eine leere Arbeitsmappe ist erstellt und eine leere Ansicht geöffnet. Datenmanager und Designer sind eingeblendet.\\n\\n2) Klicke auf \"Neues Arbeitsblatt\" in der Werkzeugleiste der Arbeitsmappe.\\nExpected result: Fenster zum Benennen des Arbeitsblattes öffnet sich.\\n\\n4) Gebe einen Namen ein und Klicke auf \"Hinzufügen\".\\nExpected result: Das neue Arbeitsblatt wird angezeigt. Oben wird jetzt der Name des neuen Arbeitsblattes angezeigt.</td>\n    </tr>\n    <tr>\n      <th>11</th>\n      <td>1. Cadenza Web wurde gestartet (localhost:8080/cadenza) \\n2. Anmeldedaten (Admin/Admin) wurden eingegeben</td>\n      <td>1) Klicke im Navigator auf die drei Punkte rechts neben der Suchleiste\\nExpected result: Ein Kontextmenü öffnet sich, zur Option sind:\\nArbeitsmappe importieren\\nRepository neu einlesen...\\n\\n2) Auf \"Arbeitsmappe importieren\" klicken\\nExpected result: Ein Dialog zum importieren einer Arbeitsmappe öffnet sich.\\n\\n3) Bei \"Datei *\" auf \"Bitte wählen Sie eine Datei aus.\" klicken und die angehängte ZIP-Datei auswählen\\nExpected result: Die angehängte Datei wird im Import-Dialog angezeigt\\n\\n4) Wähle als Repository \"Ladesaeulen\"\\nExpected result: Es erscheint das Repository \"Ladesaeulen\" unter \"Repository\"\\n\\n5) Unten links auf \"Importieren\" klicken\\nExpected result: Der Import Dialog schließt sich.\\nDie importierte Arbeitsmappe wird im Navigator ganz unten aufgelistet</td>\n    </tr>\n    <tr>\n      <th>12</th>\n      <td>1. Cadenza Web wurde gestartet (localhost:8080/cadenza) \\n2. Anmeldedaten (Admin/Admin) wurden eingegeben</td>\n      <td>1) Im Navigator mit der Maus über die im TC-12604 eingeladene Arbeitsmappe hovern.\\nExpected result: Der Eintrag im Navigator wird dunkelgrau unterlegt, rechts vom Namen werden drei Punkte angezeigt\\n\\n2) Klicke auf die drei Punkte rechts neben dem Namen der Arbeitsmappe.\\nExpected result: Ein Kontextmenü öffnet sich\\n\\n3) Klicke auf \"Arbeitsmappe exportieren\" im Kontextmenü\\nExpected result: Das Workbook wird exportiert und vom Browser automatisch im Downloadverzeichnis gespeichert</td>\n    </tr>\n    <tr>\n      <th>13</th>\n      <td>1. Cadenza Web wurde gestartet (localhost:8080/cadenza) \\n2. Anmeldedaten (Admin/Admin) wurden eingegeben</td>\n      <td>1) Öffne die im TC-12604 eingeladene Arbeitsmappe\\nExpected result: Arbeitsmappe ist geöffnet und das erste Arbeitsblatt wird angezeigt\\n\\n2) Klicke oben rechts auf die drei Punkte \"Mehr\"\\nExpected result: Ein Kontextmenü öffnet sich\\n\\n3) Gehe auf \"Exportieren\" und klicke auf \"Arbeitsmappe (*.zip)\\nExpected result: Die Arbeitsblatt wird exportiert und vom Browser automatisch im Downloadverzeichnis gespeichert\\n</td>\n    </tr>\n    <tr>\n      <th>14</th>\n      <td>1. Cadenza Web wurde gestartet (localhost:8080/cadenza) \\n2. Anmeldedaten (Admin/Admin) wurden eingegeben</td>\n      <td>1) Öffne die im TC-12604 eingeladene Arbeitsmappe\\nExpected result: Die Arbeitsmappe wird geöffnet und das erste Arbeitsblatt wird angezeigt\\n\\n2) Klicke in der Werkzeugsleiste der Arbeitsmappe auf den Namen des Arbeitsblatts\\nExpected result: Ein Dropdownmenü wird angezeigt\\n\\n3) Klicke auf \"Arbeitsblatt duplizieren\"\\nExpected result: Ein Menü erscheint um der Kopie einen Namen zu geben\\n\\n4) Klicke auf  \"Duplizieren\" links unten\\nExpected result: Die Kopie des Arbeitsblatts wird erstellt und gleich geöffnet</td>\n    </tr>\n    <tr>\n      <th>15</th>\n      <td>1. Cadenza Web wurde gestartet (localhost:8080/cadenza) \\n2. Anmeldedaten (Admin/Admin) wurden eingegeben</td>\n      <td>1) Öffne die im TC-12604 eingeladene Arbeitsmappe\\nExpected result: Arbeitsmappe ist geöffnet und das erste Arbeitsblatt wird angezeigt\\n\\n2) Klicke oben rechts in der Werkzeugleiste der Arbeitsmappe auf \"Neue Sicht\"\\nExpected result: Ein Kontextmenü öffnet sich\\n\\n3) Klicke unter \"Sicht für Daten\" auf \"Karte\"\\nExpected result: Eine Kartensicht wird dem Arbeitsblatt des Arbeitsmappe hinzugefügt</td>\n    </tr>\n    <tr>\n      <th>16</th>\n      <td>1. Cadenza Web wurde gestartet (localhost:8080/cadenza) \\n2. Anmeldedaten (Admin/Admin) wurden eingegeben</td>\n      <td>1) Öffne die im TC-12604 eingeladene Arbeitsmappe\\nExpected result: Arbeitsmappe ist geöffnet und das erste Arbeitsblatt wird angezeigt\\n\\n2) Klicke oben rechts  in der Werkzeugleiste der Arbeitsmappe auf \"Neue Sicht\"\\nExpected result: Ein Kontextmenü öffnet sich\\n\\n3) Klicke unter Sicht für Daten\" auf \"Tabelle (gruppiert)\"\\nExpected result: Eine Tabellensicht wird dem Arbeitsblatt des Workbooks hinzugefügt ohne Inhalt\\n</td>\n    </tr>\n    <tr>\n      <th>17</th>\n      <td>1. Cadenza Web wurde gestartet (localhost:8080/cadenza) \\n2. Anmeldedaten (Admin/Admin) wurden eingegeben</td>\n      <td>1) Öffne die im TC-12604 eingeladene Arbeitsmappe\\nExpected result: Arbeitsmappe ist geöffnet und das erste Arbeitsblatt wird angezeigt\\n\\n2) Klicke oben rechts in der Werkzeugleiste der Arbeitsmappe auf \"Neue Sicht\"\\nExpected result: Ein Kontextmenü öffnet sich\\n\\n3) Klicke unter Sicht für Daten auf \"Säulendiagramm\"\\nExpected result: Eine Säulendiagrammsicht wird dem Arbeitsblatt des Workbooks hinzugefügt ohne Inhalt</td>\n    </tr>\n    <tr>\n      <th>18</th>\n      <td>1. Cadenza Web wurde gestartet (localhost:8080/cadenza) \\n2. Anmeldedaten (Admin/Admin) wurden eingegeben</td>\n      <td>1) 1) Öffne die im TC-12604 eingeladene Arbeitsmappe\\nExpected result: Arbeitsmappe ist geöffnet und das erste Arbeitsblatt wird angezeigt\\n\\n2) Klicke oben rechts auf \"Neue Sicht\"\\nExpected result: Ein Kontextmenü öffnet sich\\n\\n3) Klicke auf \"Weitere...\"\\nExpected result: Ein Fenster erscheint mit allen Arten von Sichten zur Auswahl</td>\n    </tr>\n    <tr>\n      <th>19</th>\n      <td>1. Cadenza Web wurde gestartet (localhost:8080/cadenza) \\n2. Anmeldedaten (Admin/Admin) wurden eingegeben</td>\n      <td>1) In der neuen leeren Arbeitsmappe in der leeren Sicht unter \"Neue Sicht erstellen\" auf \"Karte\" klicken\\nExpected result: Eine Kartensicht ohne Daten wird angezeigt</td>\n    </tr>\n    <tr>\n      <th>20</th>\n      <td>1. Cadenza Web wurde gestartet (localhost:8080/cadenza) \\n2. Anmeldedaten (Admin/Admin) wurden eingegeben</td>\n      <td>1) In der neuen leeren Arbeitsmappe in der leeren Sicht unter \"Neue Sicht erstellen\" auf \"Tabelle (gruppiert)\" klicken\\nExpected result: Eine Tabellensicht ohne Daten wird angezeigt</td>\n    </tr>\n    <tr>\n      <th>21</th>\n      <td>1. Cadenza Web wurde gestartet (localhost:8080/cadenza) \\n2. Anmeldedaten (Admin/Admin) wurden eingegeben</td>\n      <td>1) In der neuen leeren Arbeitsmappe in der leeren Sicht unter \"Neue Sicht erstellen\" auf \"Säulendiagramm\" klicken\\nExpected result: Eine Säulendiagrammsicht ohne Daten wird angezeigt</td>\n    </tr>\n    <tr>\n      <th>22</th>\n      <td>1. Cadenza Web wurde gestartet (localhost:8080/cadenza) \\n2. Anmeldedaten (Admin/Admin) wurden eingegeben</td>\n      <td>1) In der neuen leeren Arbeitsmappe in der leeren Sicht unter \"Neue Sicht erstellen\" auf \"Weitere ...\" klicken\\nExpected result: Ein Fenster erscheint mit allen Arten von Sichten zur Auswahl\\n\\n2) Im Dialog für Visualisierungstypen auf einen beliebigen Typ klicken.\\nExpected result: Eine neue Sicht des entsprechenden Typs wird erstellt und angezeigt.</td>\n    </tr>\n    <tr>\n      <th>23</th>\n      <td>1. Cadenza Web wurde gestartet (localhost:8080/cadenza) \\n2. Anmeldedaten (Admin/Admin) wurden eingegeben</td>\n      <td>1) Klicke im Navigator auf die drei Punkte rechts neben der Suchleiste\\nExpected result: Ein Kontextmenü öffnet sich, zur Option sind:\\nArbeitsmappe importieren\\nRepository neu einlesen...\\n\\n2) Auf \"Arbeitsmappe importieren\" klicken\\nExpected result: Ein Dialog zum importieren einer Arbeitsmappe öffnet sich.\\n\\n3) Bei \"Datei *\" auf \"Bitte wählen Sie eine Datei aus.\" klicken und die angehängte CWB-Datei auswählen\\nExpected result: Die Angehängte Datei wird im Import-Dialog angezeigt\\n\\n4) Unten links auf \"Importieren\" klicken\\nExpected result: Der Import Dialog schließt sich.\\nDie importierte Arbeitsmappe wird im Navigator ganz unten aufgelistet</td>\n    </tr>\n    <tr>\n      <th>24</th>\n      <td>1. Cadenza Web wurde gestartet (localhost:8080/cadenza) \\n2. Anmeldedaten (Admin/Admin) wurden eingegeben</td>\n      <td>1) Klicke im Navigator auf die drei Punkte rechts neben der Suchleiste\\nExpected result: Ein Kontextmenü öffnet sich, zur Option sind:\\nArbeitsmappe importieren\\nRepository neu einlesen...\\n\\n2) Auf \"Arbeitsmappe importieren\" klicken\\nExpected result: Ein Dialog zum importieren einer Arbeitsmappe öffnet sich.\\n\\n3) Bei \"Datei *\" auf \"Bitte wählen Sie eine Datei aus.\" klicken und die angehängte ZIP-Datei auswählen\\nExpected result: Die Angehängte Datei wird im Import-Dialog angezeigt\\n\\n4) Im Feld \"Name der Arbeitsmappe\" einen neuen Namen vergeben.\\nExpected results: Der neue Name wird übernommen.\\n\\n5) Unten links auf \"Importieren\" klicken\\nExpected result: Der Import Dialog schließt sich.\\nDie importierte Arbeitsmappe wird im Navigator ganz unten aufgelistet</td>\n    </tr>\n    <tr>\n      <th>25</th>\n      <td>1. Cadenza Web wurde gestartet (localhost:8080/cadenza) \\n2. Anmeldedaten (Admin/Admin) wurden eingegeben</td>\n      <td>1) Öffnen das Arbeitsblatts \"Messstellenliste\" in der Werkzeugleiste der Arbeitsmappe\\nExpected results: Arbeitsblatt wird geöffnet.\\n\\n2) Klicke auf die drei Punkte  \"Mehr\" innerhalb der Tabellen-Sicht.\\nExpected result: Kontextmenü ist angezeigt.\\n\\n3) Wähle \"Exportieren\" - \"Bericht (*.pdf)...\"\\nExpected result: Dialog mit Einstellungen ist angezeigt. Die Standard Vorlage ist vorausgewählt.\\nDie Option \"Titel der Sicht\", und \"Liste der Filter\" ist aktiviert.\\n\\n3) Klicke auf \"Bericht Exportieren\".\\nExpected result: Report wird erzeugt. Währenddessen wird eine Meldung und ein Ladesymbol im Dialog angezeigt.\\nNach Abschluss des Exports ist die PDF erzeugt.\\nDer Dateiname der PDF enthält den Namen der Sicht und das Export-Datum.</td>\n    </tr>\n    <tr>\n      <th>26</th>\n      <td>1. Cadenza Web wurde gestartet (localhost:8080/cadenza) \\n2. Anmeldedaten (Admin/Admin) wurden eingegeben</td>\n      <td>1) Öffnen das Arbeitsblatts \"Messstellenkarte\" in der Werkzeugleiste der Arbeitsmappe\\nExpected results: Arbeitsblatt wird geöffnet.\\n\\n2) Klicke auf die drei Punkte  \"Mehr\" innerhalb der Karten-Sicht.\\nExpected result: Kontextmenü ist angezeigt.\\n\\n3) Wähle \"Exportieren\" - \"Bericht (*.pdf)...\"\\nExpected result: Dialog mit Einstellungen ist angezeigt. Die Standard Vorlage ist vorausgewählt.\\nDie Option \"Titel der Sicht\", \"Legende\" und \"Filter der Sicht\" ist aktiviert.\\n\\n3) Klicke auf \"Bericht Exportieren\".\\nExpected result: Report wird erzeugt. Währenddessen wird eine Meldung und ein Ladesymbol im Dialog angezeigt.\\nNach Abschluss des Exports ist die PDF erzeugt.\\nDer Dateiname der PDF enthält den Namen der Sicht und das Export-Datum.</td>\n    </tr>\n    <tr>\n      <th>27</th>\n      <td>1. Cadenza Web wurde gestartet (localhost:8080/cadenza) \\n2. Anmeldedaten (Admin/Admin) wurden eingegeben</td>\n      <td>1) Öffne das Arbeitsblatts \"Häufigkeit der Messungen\" in der Werkzeugleiste der Arbeitsmappe\\nExpected results: Arbeitsblatt wird geöffnet.\\n\\n2) Klicke auf die drei Punkte  \"Mehr\" innerhalb der Diagramm-Sicht \"Anzahl der Messungen pro Jahr\".\\nExpected result: Kontextmenü ist angezeigt.\\n\\n3) Wähle \"Exportieren\" - \"Bericht (*.pdf)...\"\\nExpected result: Dialog mit Einstellungen ist angezeigt. Die Standard Vorlage ist vorausgewählt.\\nDie Option \"Titel der Sicht\",\"Legende\" und \"Filter der Sicht\" ist aktiviert.\\n\\n3) Klicke auf \"Bericht Exportieren\".\\nExpected result: Report wird erzeugt. Währenddessen wird eine Meldung und ein Ladesymbol im Dialog angezeigt.\\nNach Abschluss des Exports ist die PDF erzeugt.\\nDer Dateiname der PDF enthält den Namen der Sicht und das Export-Datum.</td>\n    </tr>\n    <tr>\n      <th>28</th>\n      <td>1. Cadenza Web wurde gestartet (localhost:8080/cadenza) \\n2. Anmeldedaten (Admin/Admin) wurden eingegeben</td>\n      <td>1) Öffne das Arbeitsblatts \"Messstellenkarte\" in der Werkzeugleiste der Arbeitsmappe\\nExpected results: Arbeitsblatt wird geöffnet.\\n\\n2) Klicke auf die drei Punkte  \"Mehr\".\\nExpected result: Kontextmenü ist angezeigt.\\n\\n3) Wähle unter \"Arbeitsblatt\" - \"Bericht (*.pdf)...\"\\nExpected result: Dialog mit Einstellungen ist angezeigt. Die Standard Vorlage ist vorausgewählt.\\nDie Option \"Titel des Arbeitsblatts\", und \"Titel der Sichten\" ist aktiviert.\\n\\n3) Klicke auf \"Bericht exportieren\".\\nExpected result: Report wird erzeugt. Währenddessen wird eine Meldung und ein Ladesymbol im Dialog angezeigt.\\nNach Abschluss des Exports ist die PDF erzeugt.\\nDer Dateiname der PDF enthält den Namen der Sicht und das Export-Datum.</td>\n    </tr>\n    <tr>\n      <th>29</th>\n      <td>1. Cadenza Web wurde gestartet (localhost:8080/cadenza) \\n2. Anmeldedaten (Admin/Admin) wurden eingegeben</td>\n      <td>1) Öffne die Arbeitsmappe \"Übersicht Messstellen\" im Ordner \"Gewässergüte\".\\nExpected result: Die Arbeitsmappe wird geöffnet, der Analysekontext ist nicht sichtbar.\\n\\n2) Öffne die Karten-Sicht \"Messstellenkarte\" über die Werkzeugliste der Arbeitsmappe.\\nExpected result: Die Karte \"Messstellenlage und Wasserschutzgebiete eingefärbt nach Landkreisen\" wird angezeigt, der Analysekontext ist sichtbar.\\n\\n3) Klicke auf den 3-Punkte-Button innerhalb der Karten-Sicht \"Messstellenlage und Wasserschutzgebiete eingefärbt nach Landkreisen\"\\nExpected result: Kontextmenü erscheint mit den Optionen:\\n- Duplizieren\\n- In Arbeitsblatt duplizieren\\n- Exportieren\\n- Designer öffnen\\n- Löschen\\n\\n3) Klicke auf \"Duplizieren\"\\nExpected result: Das Kontextmenü schließt sich. Die Sicht ist dupliziert.\\nDie duplizierte Sicht erscheint neben der Original-Sicht.\\nBeide Sichten teilen sich in gleichen Maßen den Platz der Original-Sicht.</td>\n    </tr>\n  </tbody>\n</table>"
     },
     "metadata": {},
     "output_type": "display_data"
    }
   ],
   "source": [
    "import pandas as pd\n",
    "from IPython.display import display, HTML\n",
    "def pretty_display(df, max_colwidth=10):\n",
    "    with pd.option_context('display.max_colwidth', max_colwidth):\n",
    "        display(HTML(df.to_html()))\n",
    "        \n",
    "uitest_cases = pd.read_csv(\"../data/raw/Cadenza_TF_von_QS_ueberarbeitet-1_utf8.csv\")\n",
    "pretty_display(uitest_cases[[\"Requirements NEU\",\"Test Steps NEU\"]])"
   ]
  },
  {
   "cell_type": "markdown",
   "id": "fb68bddc",
   "metadata": {},
   "source": [
    "From the data in the table, it is evident that each use case is composed of multiple steps, each with expected results. To simplify the data collection process and reduce the complexity of the Playwright code, when a UI test description includes multiple expected results, we treat each expected result as a separate test.\n",
    "\n",
    "Let's take the first UI test as an example, which consists of four steps, each associated with its own expected result.\n",
    "\n",
    "1) *Öffne die Arbeitsmappe \"Übersicht Messstellen\" im Ordner \"Gewässergüte\".Expected result: Die Arbeitsmappe wird geöffnet, der Analysekontext ist nicht sichtbar.*\n",
    "\n",
    "2) *Öffnen der Tabellen-Sicht \"Messstellenliste\" über die Werkzeugliste der Arbeitsmappe.Expected result: Die Tabelle \"Messstelleninformationen\" wird angezeigt, der Analysekontext ist sichtbar.*\n",
    "\n",
    "3) *Klicke auf den 3-Punkte-Button innerhalb der Tabellen-Sicht \"Messstelleninformationen\" Expected result: Kontextmenü erscheint mit den Optionen:- Duplizieren- In Arbeitsblatt duplizieren- Exportieren- Designer öffnen- Löschen*\n",
    "\n",
    "4) *Klicke auf \"Duplizieren\"Expected result: Das Kontextmenü schließt sich. Die Sicht ist dupliziert.Die duplizierte Sicht erscheint neben der Original-Sicht.Beide Sichten teilen sich in gleichen Maßen den Platz der Original-Sicht.*\n",
    "\n",
    "In essence, this amounts to four separate UI tests:\n",
    "\n",
    "* Step 1 —> Expected result\n",
    "* Step 1 to Step 2 —> Expected result\n",
    "* Step 1 to Step 3 —> Expected result\n",
    "* Step 1 to Step 4 —> Expected result"
   ]
  },
  {
   "cell_type": "markdown",
   "id": "2b6477a0",
   "metadata": {},
   "source": [
    "## Task \n",
    "\n",
    "**Familiarization**: Begin by familiarizing yourselves with all the UI tests to get a general feel for them.\n",
    "\n",
    "**Test Construction**: Construct UI tests on your own.\n",
    "\n",
    "**Detailed Descriptions**: Provide detailed descriptions of the steps and expected results for clarity and precision in documentation and implementation."
   ]
  },
  {
   "cell_type": "markdown",
   "id": "94f270b7",
   "metadata": {},
   "source": [
    "# Data Collection Guide\n",
    "### Step 1: Launch Cadenza Web Software\n",
    "To start collecting data with Cadenza software, follow these detailed steps to ensure the software launches correctly.\n",
    "\n",
    "#### 1.1 Locate the Cadenza Software Installation\n",
    "* Navigate to the folder where Cadenza software is installed.\n",
    "* Enter the **CadenzaWeb** folder, then proceed to the **bin** folder within it.\n",
    "\n",
    "#### 1.2 Set the Environment\n",
    "* Double-click on **setenv** to configure the environment settings. This is crucial for preparing the software to run correctly under your system's specific conditions.\n",
    "\n",
    "#### 1.3 Start the Software\n",
    "* Double-click on **startup** to launch the software. Upon doing so, a terminal window will appear.\n",
    "* Please wait for the Cadenza software configuration to complete. This process typically lasts about half a minute, culminating in the message \"Server startup\" in the terminal window.\n",
    "\n",
    "#### 1.4 Verify Software Launch\n",
    "* Open any web browser and navigate to http://localhost:8080/cadenza/ to verify that the Cadenza software is running successfully.\n",
    "* If the page loads properly, indicating that the software is running, you may close the browser window. However, leave the terminal window opened in step 1.3 running as it handles the backend processes.\n",
    "\n",
    "<img src=\"../docs/images/cadenza_start.png\" alt=\"Local Image\" width=\"500\" height=\"300\">"
   ]
  },
  {
   "cell_type": "markdown",
   "id": "b13ca09e",
   "metadata": {},
   "source": [
    "# Data Collection Guidance\n",
    "\n",
    "### Step 1 : Activate the Environment\n",
    "Activate the necessary environment by running the following command in your terminal:\n",
    "```bash\n",
    "conda activate uitest\n",
    "```\n",
    "\n",
    "### Step 2 : Run the Script run.py\n",
    "Execute the script to launch the collection procedure:\n",
    "```bash\n",
    "python run.py\n",
    "```\n",
    "\n",
    "Upon successful execution, a web page will automatically pop up. You will need to log in to the homepage using the following credentials:\n",
    "\n",
    "* Username: Admin\n",
    "* Password: Admin\n",
    "\n",
    "### Step 3: Record UI Tests\n",
    "During your interaction with the web page, every action you take will be automatically recorded. The recorded actions and their corresponding Playwright code will appear side by side as shown in the image below. \n",
    "\n",
    "<img src=\"../docs/images/data_collection.png\" alt=\"Local Image\" width=\"900\" height=\"300\">\n",
    "\n",
    "Note that incorrect clicks will also be recorded. To avoid errors, it's advised to pre-write the UI steps and expected outcomes before you begin recording. If an error occurs, terminate the entire program by pressing `Ctrl+C`.\n",
    "\n",
    "### Step 4: Complete the Test\n",
    "After completing all interactions on the interface, close the pop-up browser. The terminal will then display the message \"Press Enter to stop codegen and close the browser.\" Press Enter to proceed.\n",
    "\n",
    "### Step 5: Describe UI Test Steps\n",
    "When prompted with \"Enter the description of the UI test steps:\" in the terminal, provide a detailed description of the UI test steps you performed.\n",
    "\n",
    "### Step 6: Specify Expected Results\n",
    "Finally, when prompted with \"Enter the expected results:\" in the terminal, type in a detailed description of the expected outcomes for the UI test.\n",
    "\n",
    "Once you have completed the above steps, all the information will be automatically saved. Additionally, the program will replay the recorded steps for verification purposes.To initiate a new recording session, simply repeat the steps outlined above."
   ]
  },
  {
   "cell_type": "code",
   "execution_count": null,
   "id": "9a8657b5",
   "metadata": {},
   "outputs": [],
   "source": []
  },
  {
   "cell_type": "code",
   "execution_count": null,
   "id": "0357d555",
   "metadata": {},
   "outputs": [],
   "source": []
  },
  {
   "cell_type": "code",
   "execution_count": null,
   "id": "9c21bce3",
   "metadata": {},
   "outputs": [],
   "source": []
  },
  {
   "cell_type": "code",
   "execution_count": null,
   "id": "69a0ec2b",
   "metadata": {},
   "outputs": [],
   "source": []
  },
  {
   "cell_type": "markdown",
   "id": "a50a055d",
   "metadata": {},
   "source": [
    "# Viewing the Collected Data\n",
    "\n",
    "\n",
    "During this data collection process, we have established two databases: `data_states.db` and `playwright_codes.db`. The focus will primarily be on the `playwright_codes.db` due to its detailed storage of UI test records.\n",
    "\n",
    "\n",
    "\n",
    "#### `playwright_codes.db`\n",
    "\n",
    "The `playwright_codes.db` database stores detailed information for each record of UI tests conducted. Here are the details for each item stored within this database:\n",
    "\n",
    "- **id**: The unique identifier for the entry in the `playwright_codes` database (integer).\n",
    "- **webpage_id**: The identifier of the corresponding state data in the `data_states` database (integer).\n",
    "- **steps**: Detailed description of the UI test steps (string).\n",
    "- **expectation**: Description of the expected results from the UI test (string).\n",
    "- **screenshot**: Screenshot taken after the UI test is completed.\n",
    "- **html**: The HTML file of the web page after the UI test is completed.\n",
    "- **playwright_code**: The generated Python Playwright code for the UI test.\n",
    "\n",
    "This database is crucial for reviewing the steps taken during each test and analyzing the outcomes against the expectations.\n",
    "\n",
    "\n",
    "\n",
    "#### `data_states.db`\n",
    "\n",
    "The `data_states.db` holds information related to each URL, including HTML files and screenshots. The specific details are as follows:\n",
    "\n",
    "- **id**: The ID of the item in the database.\n",
    "- **hash**: The hash value corresponding to the URL.\n",
    "- **playwright_code**: The Playwright code required to reach the URL, which will be saved in the `state_script` folder.\n",
    "- **url**: The detailed address of the URL.\n",
    "- **html**: The HTML file of the web page, which will be saved in the `html` folder.\n",
    "- **screenshot**: The screenshot of the web page, which will be saved in the `screenshot` folder.\n",
    "- **context**: Context information needed by the Playwright code to access the URL, stored as a JSON file in the `context` folder.\n",
    "\n",
    "The `data_states.db` is updated based on the URLs accessed during data generation. When a new URL is accessed, it is added to this database. This approach is beneficial when we want to test without generating Playwright code from start to finish, allowing us to use the existing state as a pre-condition.\n",
    "\n",
    "our focus will remain on the `playwright_codes.db` for detailed analysis and review of test results."
   ]
  },
  {
   "cell_type": "code",
   "execution_count": 1,
   "id": "8132750b-508d-46bd-be19-356a8a686f6a",
   "metadata": {},
   "outputs": [],
   "source": [
    "import subprocess\n",
    "import hashlib\n",
    "import json\n",
    "import os\n",
    "import re\n",
    "import sqlite3\n",
    "import textwrap\n",
    "import time\n",
    "import uuid\n",
    "import asyncio\n",
    "import zipfile\n",
    "# from bs4 import BeautifulSoup, Comment\n",
    "# from playwright.sync_api import sync_playwright\n",
    "# from playwright.async_api import async_playwright"
   ]
  },
  {
   "cell_type": "markdown",
   "id": "840d32f3-d59c-4730-b52e-bb94cc604524",
   "metadata": {},
   "source": [
    "# Function define"
   ]
  },
  {
   "cell_type": "code",
   "execution_count": 2,
   "id": "edb1507d-3ff6-4cee-a4ef-1be0d9f88cff",
   "metadata": {},
   "outputs": [],
   "source": [
    "def clear_table_website(table_name):\n",
    "    conn = sqlite3.connect('data_states.db')\n",
    "    cursor = conn.cursor()\n",
    "    cursor.execute(f\"DELETE FROM {table_name}\")\n",
    "    conn.commit()\n",
    "    conn.close()\n",
    "    \n",
    "def db_query_website(sql_query, params=None):\n",
    "    conn = sqlite3.connect('data_states.db')\n",
    "    cursor = conn.cursor()\n",
    "    if params:\n",
    "        cursor.execute(sql_query, params)\n",
    "    else:\n",
    "        cursor.execute(sql_query)\n",
    "    results = cursor.fetchall()\n",
    "    conn.commit()\n",
    "    conn.close()\n",
    "    return results\n",
    "\n",
    "def db_query_test(sql_query, params=None):\n",
    "    conn = sqlite3.connect('playwright_codes.db')\n",
    "    cursor = conn.cursor()\n",
    "    if params:\n",
    "        cursor.execute(sql_query, params)\n",
    "    else:\n",
    "        cursor.execute(sql_query)\n",
    "    results = cursor.fetchall()\n",
    "    conn.commit()\n",
    "    conn.close()\n",
    "    return results\n",
    "\n",
    "def create_website_table_if_not_exists(table_name):\n",
    "    conn = sqlite3.connect('data_states.db')\n",
    "    cursor = conn.cursor()\n",
    "    create_table_sql = f\"\"\"\n",
    "    CREATE TABLE IF NOT EXISTS {table_name} (\n",
    "        id INTEGER PRIMARY KEY,\n",
    "        hash TEXT NOT NULL,\n",
    "        playwright_code TEXT NOT NULL,\n",
    "        url TEXT NOT NULL,\n",
    "        html TEXT NOT NULL,\n",
    "        screenshot TEXT NOT NULL,\n",
    "        context TEXT NOT NULL\n",
    "    )\n",
    "    \"\"\"\n",
    "    cursor.execute(create_table_sql)\n",
    "    conn.commit()\n",
    "    conn.close()\n",
    "\n",
    "def create_test_table_if_not_exists(table_name):\n",
    "    conn = sqlite3.connect('playwright_codes.db')\n",
    "    cursor = conn.cursor()\n",
    "    create_table_sql = f\"\"\"\n",
    "    CREATE TABLE IF NOT EXISTS {table_name} (\n",
    "        id INTEGER PRIMARY KEY,\n",
    "        webpage_id INTEGER NOT NULL,\n",
    "        steps TEXT NOT NULL,\n",
    "        expectation TEXT NOT NULL,\n",
    "        screenshot TEXT NOT NULL,\n",
    "        html TEXT NOT NULL,\n",
    "        playwright_code TEXT NOT NULL\n",
    "    )\n",
    "    \"\"\"\n",
    "    cursor.execute(create_table_sql)\n",
    "    conn.commit()\n",
    "    conn.close()\n",
    "\n",
    "def db_insert_website(sql_query, params, table_name):\n",
    "    conn = sqlite3.connect('data_states.db')\n",
    "    cursor = conn.cursor()\n",
    "    try:\n",
    "        cursor.execute(sql_query, params)\n",
    "    except sqlite3.OperationalError:\n",
    "        create_website_table_if_not_exists(table_name)\n",
    "        cursor.execute(sql_query, params)\n",
    "    conn.commit()\n",
    "    conn.close()\n",
    "\n",
    "def db_insert_test(sql_query, params, table_name):\n",
    "    conn = sqlite3.connect('playwright_codes.db')\n",
    "    cursor = conn.cursor()\n",
    "    try:\n",
    "        cursor.execute(sql_query, params)\n",
    "    except sqlite3.OperationalError:\n",
    "        create_test_table_if_not_exists(table_name)\n",
    "        cursor.execute(sql_query, params)\n",
    "    conn.commit()\n",
    "    conn.close()\n",
    "\n",
    "def db_delete_website(table_name, item_id):\n",
    "    conn = sqlite3.connect('data_states.db')\n",
    "    cursor = conn.cursor()\n",
    "    delete_query = f\"DELETE FROM {table_name} WHERE id = ?\"\n",
    "    cursor.execute(delete_query, (item_id,))\n",
    "    conn.commit()\n",
    "    conn.close()\n",
    "    \n",
    "def db_delete_test(item_id):\n",
    "    conn = sqlite3.connect('playwright_codes.db')\n",
    "    cursor = conn.cursor()\n",
    "    delete_query = f\"DELETE FROM tests WHERE id = ?\"\n",
    "    cursor.execute(delete_query, (item_id,))\n",
    "    conn.commit()\n",
    "    conn.close()\n",
    "    \n",
    "def db_delete_table_website(table_name):\n",
    "    conn = sqlite3.connect('data_states.db')\n",
    "    cursor = conn.cursor()\n",
    "    try:\n",
    "        cursor.execute(f\"DROP TABLE IF EXISTS {table_name}\")\n",
    "    except sqlite3.OperationalError as e:\n",
    "        print(f\"Error occurred: {e}\")\n",
    "    conn.commit()\n",
    "    conn.close()\n",
    "\n",
    "def db_delete_table_test(table_name):\n",
    "    conn = sqlite3.connect('playwright_codes.db')\n",
    "    cursor = conn.cursor()\n",
    "    try:\n",
    "        cursor.execute(f\"DROP TABLE IF EXISTS {table_name}\")\n",
    "    except sqlite3.OperationalError as e:\n",
    "        print(f\"Error occurred: {e}\")\n",
    "    conn.commit()\n",
    "    conn.close()\n",
    "    \n",
    "def get_table_name_from_url(url):\n",
    "    \"\"\"\n",
    "    alway use the same table name\n",
    "    \"\"\"\n",
    "    return 'localhost_8080_cadenza'\n",
    "\n",
    "    \n",
    "def sanitize_table_name(table_name):\n",
    "    # Replace any character that is not a letter, number, or underscore with an underscore\n",
    "    return re.sub(r'\\W', '_', table_name)"
   ]
  },
  {
   "cell_type": "markdown",
   "id": "53feaf1d-0c6e-4a18-bb13-2f8d059748f1",
   "metadata": {},
   "source": [
    "# Main\n",
    "\n",
    "### Data Collection Process Overview\n",
    "\n",
    "During this data collection process, we have established two databases: `data_states.db` and `playwright_codes.db`.\n",
    "\n",
    "#### `playwright_codes.db`\n",
    "\n",
    "The `playwright_codes.db` database stores detailed information for each record of UI tests conducted. Here are the details for each item stored within this database:\n",
    "\n",
    "- **id**: The unique identifier for the entry in the `playwright_codes` database (int).\n",
    "- **webpage_id**: The identifier of the corresponding state data in the `data_states` database (int).\n",
    "- **steps**: Detailed description of the UI test steps (str).\n",
    "- **expectation**: Description of the expected results from the UI test (str).\n",
    "- **screenshot**: Screenshot taken after the UI test is completed.\n",
    "- **html**: The HTML file of the web page after the UI test is completed.\n",
    "- **playwright_code**: The generated Python Playwright code for the UI test.\n",
    "\n",
    "#### `data_states.db`\n",
    "\n",
    "The `data_states.db` holds information related to each URL, including HTML files and screenshots. The specific details are as follows:\n",
    "\n",
    "- **id**: The ID of the item in the database.\n",
    "- **hash**: The hash value corresponding to the URL.\n",
    "- **playwright_code**: The Playwright code required to reach the URL, which will be saved in the `state_script` folder.\n",
    "- **url**: The detailed address of the URL.\n",
    "- **html**: The HTML file of the web page, which will be saved in the `html` folder.\n",
    "- **screenshot**: The screenshot of the web page, which will be saved in the `screenshot` folder.\n",
    "- **context**: Context information needed by the Playwright code to access the URL, stored as a JSON file in the `context` folder.\n",
    "\n",
    "The `data_states.db` is updated based on the URLs accessed during data generation. When a new URL is accessed, it is added to this database. This approach is beneficial when we want to test without generating Playwright code from start to finish, allowing us to use the existing state as a pre-condition.\n"
   ]
  },
  {
   "cell_type": "markdown",
   "id": "40cec974",
   "metadata": {},
   "source": [
    "### Checking the playwright_codes.db database"
   ]
  },
  {
   "cell_type": "code",
   "execution_count": null,
   "id": "3bad53fd",
   "metadata": {},
   "outputs": [],
   "source": []
  },
  {
   "cell_type": "markdown",
   "id": "b3b2c661",
   "metadata": {},
   "source": [
    "please collect data before proceeding with the following steps"
   ]
  },
  {
   "cell_type": "code",
   "execution_count": null,
   "id": "ffab2555",
   "metadata": {},
   "outputs": [],
   "source": []
  },
  {
   "cell_type": "code",
   "execution_count": 39,
   "id": "fa7d8b21-04fd-4f18-89aa-ef0a28145241",
   "metadata": {},
   "outputs": [
    {
     "data": {
      "text/plain": [
       "[(1,\n",
       "  1,\n",
       "  'step 1 Öffne die Arbeitsmappe \"Übersicht Messstellen\" im Ordner \"Gewässergüte\". step 2 Öffnen der Tabellen-Sicht \"Messstellenliste\" über die Werkzeugliste der Arbeitsmappe. step 3 Klicke auf den 3-Punkte-Button innerhalb der Tabellen-Sicht \"Messstelleninformationen\". step 4 Klicke auf \"Duplizieren\"Expected result: Das Kontextmenü schließt sich.',\n",
       "  'Die Sicht ist dupliziert.Die duplizierte Sicht erscheint neben der Original-Sicht.Beide Sichten teilen sich in gleichen Maßen den Platz der Original-Sicht.',\n",
       "  './screenshot\\\\capture__c47e54b3-918b-4e26-a5a3-6b220e990b54.png',\n",
       "  './html\\\\capture__a5ee6553-22d6-4ac0-b7c9-823041943ab4.html',\n",
       "  './test_script\\\\playwright__8e0a5d33-118a-4442-9703-4f29165e6f03.py')]"
      ]
     },
     "execution_count": 39,
     "metadata": {},
     "output_type": "execute_result"
    }
   ],
   "source": [
    "# check the playwright_codes.db \n",
    "items = db_query_test(f\"SELECT * FROM tests\")\n",
    "items"
   ]
  },
  {
   "cell_type": "code",
   "execution_count": 43,
   "id": "7646114a",
   "metadata": {},
   "outputs": [
    {
     "name": "stdout",
     "output_type": "stream",
     "text": [
      "screenshot_path :  ./screenshot\\capture__c47e54b3-918b-4e26-a5a3-6b220e990b54.png\n",
      "html_path :  ./html\\capture__a5ee6553-22d6-4ac0-b7c9-823041943ab4.html\n",
      "playwright_code_path :  ./test_script\\playwright__8e0a5d33-118a-4442-9703-4f29165e6f03.py\n"
     ]
    }
   ],
   "source": [
    "# get the first item\n",
    "item_0 = items[0]\n",
    "\n",
    "playwright_codes_id = item_0[0]\n",
    "data_states_id = item_0[1]\n",
    "description = item_0[2]\n",
    "expectation = item_0[3]\n",
    "screenshot_path = item_0[4]\n",
    "html_path = item_0[5]\n",
    "playwright_code_path = item_0[6]\n",
    "\n",
    "print(\"screenshot_path : \", screenshot_path)\n",
    "print(\"html_path : \", html_path)\n",
    "print(\"playwright_code_path : \", playwright_code_path)"
   ]
  },
  {
   "cell_type": "markdown",
   "id": "7239fcff",
   "metadata": {},
   "source": [
    "You can verify this by going to the test_script folder, in the terminal `python playwright__8e0a5d33-118a-4442-9703-4f29165e6f03.py`"
   ]
  },
  {
   "cell_type": "markdown",
   "id": "2d76bb96",
   "metadata": {},
   "source": [
    "if you want to delete one item, you can use following function with the `playwright_codes_id`"
   ]
  },
  {
   "cell_type": "code",
   "execution_count": 44,
   "id": "270c4f2e",
   "metadata": {},
   "outputs": [],
   "source": [
    "db_delete_test(playwright_codes_id)"
   ]
  },
  {
   "cell_type": "code",
   "execution_count": 45,
   "id": "6be89fbf",
   "metadata": {},
   "outputs": [
    {
     "data": {
      "text/plain": [
       "[]"
      ]
     },
     "execution_count": 45,
     "metadata": {},
     "output_type": "execute_result"
    }
   ],
   "source": [
    "# check the playwright_codes.db \n",
    "items = db_query_test(f\"SELECT * FROM tests\")\n",
    "items\n",
    "\n",
    "# now it is empty"
   ]
  },
  {
   "cell_type": "markdown",
   "id": "bc0656ee",
   "metadata": {},
   "source": [
    "### Checking the data_states.db database"
   ]
  },
  {
   "cell_type": "code",
   "execution_count": 46,
   "id": "a5f4c54e-e192-4f87-947f-9373700302a6",
   "metadata": {},
   "outputs": [
    {
     "data": {
      "text/plain": [
       "[(1,\n",
       "  '63d72a3331e725d8aa00b9aac97cb995',\n",
       "  './state_script\\\\playwright__3c786b0c-da7b-43a5-9e70-4101ba44e678.py',\n",
       "  'http://localhost:8080/cadenza/login',\n",
       "  './html\\\\capture__c00657af-e609-485f-81eb-9c12920dd532.html',\n",
       "  './screenshot\\\\capture__a7f5ef97-102a-47ab-9128-29eca63a43d9.png',\n",
       "  './context\\\\context__198db716-fc79-470a-818e-776d0e24c94f.json'),\n",
       " (2,\n",
       "  '7ba437e7560fadb5fd9aaee0db52b460',\n",
       "  './test_script\\\\playwright__8e0a5d33-118a-4442-9703-4f29165e6f03.py',\n",
       "  'http://localhost:8080/cadenza/workbooks/AYlrNnT5PoRJJL0IZiCc,hash=taew6XWiSVYi6tunMUenj6X3JLphjkUkaIjlXGTZE4doP8aL2NKOH1XqZkk=/worksheets/gMattdsqR76R7mpTpqd-Xw',\n",
       "  './html\\\\capture__c00657af-e609-485f-81eb-9c12920dd532.html',\n",
       "  './screenshot\\\\capture__c47e54b3-918b-4e26-a5a3-6b220e990b54.png',\n",
       "  './context\\\\context__b146cac1-5c2d-476d-95d5-80268aad1461.json')]"
      ]
     },
     "execution_count": 46,
     "metadata": {},
     "output_type": "execute_result"
    }
   ],
   "source": [
    "table_name = 'localhost_8080_cadenza'\n",
    "db_query_website(f\"SELECT * FROM {table_name}\")"
   ]
  },
  {
   "cell_type": "code",
   "execution_count": null,
   "id": "d7a084f6",
   "metadata": {},
   "outputs": [],
   "source": [
    "#db_delete_website(table_name, 2)"
   ]
  },
  {
   "cell_type": "markdown",
   "id": "e9c7c913",
   "metadata": {},
   "source": [
    "###  Delete the entire database"
   ]
  },
  {
   "cell_type": "code",
   "execution_count": 4,
   "id": "826d25e6-2d65-4eda-8ca8-96a8ad1ba2a0",
   "metadata": {},
   "outputs": [],
   "source": [
    "table_name = 'localhost_8080_cadenza'\n",
    "db_delete_table_website(table_name)\n",
    "db_delete_table_test('tests')"
   ]
  },
  {
   "cell_type": "code",
   "execution_count": null,
   "id": "6927a4ca-03a0-40ab-8d9c-99f4d796474c",
   "metadata": {},
   "outputs": [],
   "source": []
  },
  {
   "cell_type": "code",
   "execution_count": null,
   "id": "45d03441-d9f8-400e-a2b1-afdeb32b13f3",
   "metadata": {},
   "outputs": [],
   "source": []
  }
 ],
 "metadata": {
  "kernelspec": {
   "display_name": "Python 3 (ipykernel)",
   "language": "python",
   "name": "python3"
  },
  "language_info": {
   "codemirror_mode": {
    "name": "ipython",
    "version": 3
   },
   "file_extension": ".py",
   "mimetype": "text/x-python",
   "name": "python",
   "nbconvert_exporter": "python",
   "pygments_lexer": "ipython3",
   "version": "3.10.9"
  }
 },
 "nbformat": 4,
 "nbformat_minor": 5
}
