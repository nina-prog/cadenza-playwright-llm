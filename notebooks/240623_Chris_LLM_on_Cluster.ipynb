{
 "cells": [
  {
   "metadata": {},
   "cell_type": "code",
   "outputs": [],
   "execution_count": null,
   "source": "",
   "id": "b2e2fafa0097092d"
  },
  {
   "metadata": {},
   "cell_type": "code",
   "outputs": [],
   "execution_count": null,
   "source": [
    "import sqlite3\n",
    "# Connect to the database\n",
    "conn = sqlite3.connect('./data/playwright_script.db')\n",
    "cursor = conn.cursor()\n",
    "\n",
    "res = cursor.execute(\"SELECT * FROM tests\")\n",
    "items = res.fetchall()\n",
    "\n",
    "print( \"there are {} data.\".format(len(items)))"
   ],
   "id": "fa03cfc8dcf27b"
  },
  {
   "metadata": {},
   "cell_type": "code",
   "outputs": [],
   "execution_count": null,
   "source": [
    "from pathlib import Path\n",
    "import json\n",
    "import os\n",
    "\n",
    "def db_query(sql_query, params=None):\n",
    "    conn = sqlite3.connect('./data/playwright_script.db')\n",
    "    cursor = conn.cursor()\n",
    "    if params:\n",
    "        cursor.execute(sql_query, params)\n",
    "    else:\n",
    "        cursor.execute(sql_query)\n",
    "    results = cursor.fetchall()\n",
    "    conn.commit()\n",
    "    conn.close()\n",
    "    return results"
   ],
   "id": "f27b22c4eb48c6fc"
  },
  {
   "metadata": {},
   "cell_type": "code",
   "outputs": [],
   "execution_count": null,
   "source": [
    "def extract_html_information(html_path):\n",
    "    # naive solution\n",
    "\n",
    "    #TODO: Changeback to 'ISO-8859-1'\n",
    "    with open(html_path, 'r', encoding='utf-8') as file:\n",
    "        html_content = file.read()\n",
    "    return html_content[:20]"
   ],
   "id": "6edba93d4474664d"
  },
  {
   "metadata": {},
   "cell_type": "code",
   "outputs": [],
   "execution_count": null,
   "source": [
    "def path_fix(path):\n",
    "    return os.path.normpath(path).replace('\\\\', '/')\n",
    "    \n",
    "def extract_extra_operations(script1_path, script2_path):\n",
    "    # read scripts\n",
    "    #TODO: Changeback to 'ISO-8859-1'\n",
    "    with open(script1_path, 'r', encoding='utf-8') as f1:\n",
    "        script1_lines = f1.readlines()\n",
    "\n",
    "    #TODO: Changeback to 'ISO-8859-1'\n",
    "    with open(script2_path, 'r', encoding='utf-8') as f2:\n",
    "        script2_lines = f2.readlines()\n",
    "\n",
    "    script1_lines = [line.strip() for line in script1_lines if line.strip()]\n",
    "    script2_lines = [line.strip() for line in script2_lines if line.strip()]\n",
    "\n",
    "    # local extrat part\n",
    "    extra_operations = '\\n'.join([line for line in script2_lines if line not in script1_lines])\n",
    "\n",
    "    return extra_operations"
   ],
   "id": "8cc782ad415b09ba"
  },
  {
   "metadata": {},
   "cell_type": "code",
   "outputs": [],
   "execution_count": null,
   "source": [
    "def prompt_engineering(steps, html):\n",
    "    # TODO: Added context_prompt and uncommented prompt\n",
    "    context_prompt = (\n",
    "        \"<image>\\n\"\n",
    "        \"Task:\\n\"\n",
    "        \"You are a test automation script writer. I will describe a UI test in German and you will generate \"\n",
    "        \"Playwright test code for the given webpage. Strictly follow these instructions:\\n\"\n",
    "        \"1. Don't explain the code, just generate the code block itself.\\n\"\n",
    "        \"2. You get some HTML elements and its attributes from the website. You can use playwright locators to find \"\n",
    "        \"the elements by their attributes.\\n\"\n",
    "        \"3. Use the precondition code to set up the initial state. You must continue the code.\\n\"\n",
    "        \"4. Follow the steps in the ui test description to perform actions on the website.\\n\"\n",
    "    )\n",
    "    prompt = context_prompt\n",
    "    \n",
    "    # naive solution\n",
    "    #prompt = f'Write type script code using the playwrite library to test the components discribed in the use case. \\n USE-CASE: {steps}'\n",
    "    \n",
    "    return prompt"
   ],
   "id": "19b3de238520fe6d"
  },
  {
   "metadata": {},
   "cell_type": "code",
   "outputs": [],
   "execution_count": null,
   "source": [
    "def convert_db_item_to_json_dict(uid, idn, prefix='./'):\n",
    "    # placeholder\n",
    "    steps = None\n",
    "    script = None\n",
    "    screenshot_pre = None\n",
    "    html_pre = None\n",
    "    script_pre = None\n",
    "    \n",
    "    # get item with id\n",
    "    x, y = idn.split('.')\n",
    "    items = db_query(f\"SELECT * FROM tests WHERE ID==?\", (f'{x}.{y}',))\n",
    "    if len(items) == 0:\n",
    "        print(\"Error: target test case not found!\")\n",
    "        return -1\n",
    "    item = items[0]\n",
    "    steps = item[1]\n",
    "    script = path_fix(prefix + item[5])\n",
    "    \n",
    "    # load precondition information\n",
    "    if y == '1':\n",
    "        # it's first step in the uitest\n",
    "        screenshot_pre = '0_1.png'#prefix + 'screenshot\\\\0_1.png'\n",
    "        html_pre = path_fix(prefix + 'html\\\\0_1.html')\n",
    "        script_pre = path_fix(prefix + 'test_script\\\\0_1.spec.ts')\n",
    "    else:\n",
    "        items_pre = db_query(f\"SELECT * FROM tests WHERE ID==?\", (f'{x}.{str(int(y)-1)}',))\n",
    "        if len(items_pre) == 0:\n",
    "            print(\"Error: precondition item not found!\")\n",
    "            return -1\n",
    "        item_pre = items_pre[0]\n",
    "        html_pre = path_fix(prefix + item_pre[3])\n",
    "        screenshot_pre = path_fix(prefix + path_fix(item_pre[4])).split('/')[-1]\n",
    "        script_pre = path_fix(prefix + item_pre[5])\n",
    "    \n",
    "    # extract information from html\n",
    "    html_pre = extract_html_information(html_pre)\n",
    "    \n",
    "    # prompt engineering\n",
    "    inp = prompt_engineering(steps, html_pre)\n",
    "\n",
    "    # compare the scripts\n",
    "    # TODO: I uncommented this code line to retrieve the full code not just a single line\n",
    "    #script = extract_extra_operations(script_pre, script)\n",
    "    with open(script, 'r', encoding='utf-8') as f2:\n",
    "        script = f2.read()\n",
    "    \n",
    "    # generate json dict\n",
    "    json_data = {\n",
    "        # TODO: Change from uid to str(uid)\n",
    "                \"id\": str(uid),\n",
    "                \"image\": screenshot_pre,\n",
    "                \"conversations\": [\n",
    "                    {\n",
    "                        \"from\": \"human\",\n",
    "                        \"value\": inp\n",
    "                    },\n",
    "                    {\n",
    "                        \"from\": \"gpt\",\n",
    "                        \"value\": script\n",
    "                    }\n",
    "                ]\n",
    "            }\n",
    "    \n",
    "    return json_data"
   ],
   "id": "7c75ef1ec8928ce7"
  },
  {
   "metadata": {},
   "cell_type": "code",
   "outputs": [],
   "execution_count": null,
   "source": [
    "from tqdm import tqdm\n",
    "\n",
    "# extract data from db and convert to json file\n",
    "\n",
    "# TODO: Change back to ids = [i[0] for i in db_query(f\"SELECT * FROM tests\")]\n",
    "ids = list(filter(lambda x: not x.endswith(\".1\"), [i[0] for i in db_query(f\"SELECT * FROM tests\")]))\n",
    "\n",
    "prefix = './data/'\n",
    "json_output_path_train = './data/finetune/dataset_train.json'\n",
    "json_output_path_val = './data/finetune/dataset_val.json'\n",
    "json_data_list_train = []\n",
    "json_data_list_val = []\n",
    "\n",
    "val_perc = 0.2\n",
    "\n",
    "for uid, idn in tqdm(enumerate(ids)):\n",
    "    if uid > round(len(tqdm(enumerate(ids)))*1-val_perc):\n",
    "        json_data_val = convert_db_item_to_json_dict(uid, idn, prefix)\n",
    "        json_data_list_val.append(json_data_val)\n",
    "        \n",
    "    else:\n",
    "        json_data_train = convert_db_item_to_json_dict(uid, idn, prefix)\n",
    "        json_data_list_train.append(json_data_train)\n",
    "\n",
    "\n",
    "        \n",
    "with open(path_fix(json_output_path_val), 'w') as json_file:\n",
    "    json.dump(json_data_list_train, json_file, indent=4)\n",
    "\n",
    "with open(path_fix(json_output_path_train), 'w') as json_file:\n",
    "    json.dump(json_data_list_train, json_file, indent=4)\n"
   ],
   "id": "91f9785f3e4a743c"
  },
  {
   "metadata": {},
   "cell_type": "markdown",
   "source": "# train val test split\n",
   "id": "ef96f4afe04e5f12"
  },
  {
   "metadata": {
    "ExecuteTime": {
     "end_time": "2024-07-14T16:26:25.531100Z",
     "start_time": "2024-07-14T16:26:25.527992Z"
    }
   },
   "cell_type": "code",
   "source": [
    "import numpy as np\n",
    "import os, os.path"
   ],
   "id": "ce48ae3ba7c698ab",
   "outputs": [],
   "execution_count": 142
  },
  {
   "metadata": {
    "ExecuteTime": {
     "end_time": "2024-07-14T17:30:33.018634Z",
     "start_time": "2024-07-14T17:30:33.015206Z"
    }
   },
   "cell_type": "code",
   "source": [
    "np.random.seed(17)\n",
    "\n",
    "perc_val = 0.2\n",
    "perc_test = 0.2"
   ],
   "id": "5fee71192665f462",
   "outputs": [],
   "execution_count": 266
  },
  {
   "metadata": {
    "ExecuteTime": {
     "end_time": "2024-07-14T17:29:53.798396Z",
     "start_time": "2024-07-14T17:29:53.789768Z"
    }
   },
   "cell_type": "code",
   "source": [
    "dir = '../notebooks/test_script'\n",
    "steps = (len([name for name in os.listdir(dir) if os.path.isfile(os.path.join(dir,name)) and name != '.gitkeep'])) \n",
    "print(steps)"
   ],
   "id": "26f24138b0d229d2",
   "outputs": [
    {
     "name": "stdout",
     "output_type": "stream",
     "text": [
      "100\n"
     ]
    }
   ],
   "execution_count": 263
  },
  {
   "metadata": {
    "ExecuteTime": {
     "end_time": "2024-07-14T19:22:33.683322Z",
     "start_time": "2024-07-14T19:22:33.676841Z"
    }
   },
   "cell_type": "code",
   "source": [
    "dir_list = os.listdir(dir)\n",
    "dir_list.remove('.gitkeep')\n",
    "tc_list = [i for i in range(1,31)]\n",
    "\n",
    "np.random.seed(17)\n",
    "idx = np.random.permutation(tc_list)\n",
    "print(idx, len(idx))\n",
    "\n",
    "test_ids_ctr = round(len(idx)* perc_test)\n",
    "val_ids_ctr = round((len(idx) - test_ids_ctr) * perc_val)\n",
    "train_ids_ctr = len(idx) - val_ids_ctr - test_ids_ctr\n",
    "\n",
    "print(train_ids_ctr, val_ids_ctr, test_ids_ctr)\n",
    "ids_train = idx[0:train_ids_ctr]\n",
    "ids_val = idx[train_ids_ctr:train_ids_ctr+val_ids_ctr]\n",
    "ids_test = idx[train_ids_ctr+val_ids_ctr:]\n",
    "print(ids_train,\"Length: \", len(ids_train))\n",
    "print(ids_val,\"Length: \", len(ids_val))\n",
    "print(ids_test,\"Length: \", len(ids_test))\n",
    "\n",
    "#ctrl_ids = np.concatenate((ids_train, ids_val, ids_test))\n",
    "#print(ctrl_ids.sort() == idx.sort())\n",
    "#print(idx)"
   ],
   "id": "6e573820af1e496a",
   "outputs": [
    {
     "name": "stdout",
     "output_type": "stream",
     "text": [
      "[ 1 19 22 12  6 24 28 20 25 27  4  3 11  9 10 29 15  2 21 13  8  5 26 14\n",
      " 17 23  7 30 18 16] 30\n",
      "19 5 6\n",
      "[ 1 19 22 12  6 24 28 20 25 27  4  3 11  9 10 29 15  2 21] Length:  19\n",
      "[13  8  5 26 14] Length:  5\n",
      "[17 23  7 30 18 16] Length:  6\n"
     ]
    }
   ],
   "execution_count": 492
  },
  {
   "metadata": {
    "ExecuteTime": {
     "end_time": "2024-07-14T19:22:57.195905Z",
     "start_time": "2024-07-14T19:22:57.189693Z"
    }
   },
   "cell_type": "code",
   "source": [
    "def triple_split(perc_val = 0.2, perc_test = 0.2, seed=17, dir='../notebooks/test_script'):\n",
    "    \n",
    "    steps = (len([name for name in os.listdir(dir) if os.path.isfile(os.path.join(dir,name)) and name != '.gitkeep'])) \n",
    "    # Lists for all test cases and all test steps\n",
    "    ts_list = os.listdir(dir)\n",
    "    ts_list.remove('.gitkeep')\n",
    "    tc_list = [i for i in range(1,31)]\n",
    "    \n",
    "    np.random.seed(seed)\n",
    "    idx = np.random.permutation(tc_list)\n",
    "    \n",
    "    test_ids_ctr = round(len(idx)* perc_test)\n",
    "    val_ids_ctr = round((len(idx) - test_ids_ctr) * perc_val)\n",
    "    train_ids_ctr = len(idx) - val_ids_ctr - test_ids_ctr\n",
    "    logger.debug(train_ids_ctr, val_ids_ctr, test_ids_ctr)\n",
    "    \n",
    "    ids_train = idx[0:train_ids_ctr]\n",
    "    ids_val = idx[train_ids_ctr:train_ids_ctr+val_ids_ctr]\n",
    "    ids_test = idx[train_ids_ctr+val_ids_ctr:]\n",
    "    logger.debug(ids_train,\"Length: \", len(ids_train))\n",
    "    logger.debug(ids_val,\"Length: \", len(ids_val))\n",
    "    logger.debug(ids_test,\"Length: \", len(ids_test))\n",
    "    \n",
    "    return ids_train, ids_val, ids_test, ts_list, steps\n",
    "    "
   ],
   "id": "89bdc703df6ff00c",
   "outputs": [],
   "execution_count": 493
  },
  {
   "metadata": {
    "ExecuteTime": {
     "end_time": "2024-07-14T19:22:58.693486Z",
     "start_time": "2024-07-14T19:22:58.684444Z"
    }
   },
   "cell_type": "code",
   "source": [
    "def balance_tests(ids_train, ids_test, ids_val, perc_test, perc_val, ts_list, steps):\n",
    "\n",
    "    trigger_flag = False\n",
    "    \n",
    "    count_tr = 0\n",
    "    for element in ts_list: \n",
    "        el = element[0:2].strip(\"_\") \n",
    "        if int(el) in ids_train:\n",
    "            count_tr += 1     \n",
    "    est_ctr_tr = round(steps * (1 - perc_test) * (1 - perc_val))\n",
    "\n",
    "    count_v = 0\n",
    "    for element in ts_list: \n",
    "        el = element[0:2].strip(\"_\") \n",
    "        if int(el) in ids_val:\n",
    "            count_v += 1\n",
    "    est_ctr_v = round(steps * (1 - perc_test) * perc_val)\n",
    "    \n",
    "    count_te = 0\n",
    "    for element in ts_list: \n",
    "        el = element[0:2].strip(\"_\") \n",
    "        if int(el) in ids_test:\n",
    "            count_te += 1     \n",
    "    est_ctr_te = round(steps * perc_test)   \n",
    "    \n",
    "    logger.debug(count_tr, \"VERSUS\", est_ctr_tr)\n",
    "    logger.debug(count_v, \"VERSUS\", est_ctr_v)\n",
    "    logger.debug(count_te, \"VERSUS\", est_ctr_te)\n",
    "     \n",
    "    if count_te <= est_ctr_te - 3:\n",
    "        if count_tr >= est_ctr_tr + 3:\n",
    "            ids_test = np.concatenate((ids_train[-1:], ids_test[:]))\n",
    "            ids_train = ids_train[:-1]\n",
    "            trigger_flag = True\n",
    "        elif count_v >= est_ctr_v + 3:\n",
    "            ids_test = np.concatenate((ids_val[-1:], ids_test[:] ))\n",
    "            ids_val = ids_val[:-1]\n",
    "            trigger_flag = True\n",
    "    \n",
    "    if count_v <= est_ctr_v - 3:\n",
    "        if count_te >= est_ctr_te + 3:\n",
    "            ids_val = np.concatenate((ids_test[-1:], ids_val[:]))\n",
    "            ids_test = ids_test[:-1]\n",
    "            trigger_flag = True\n",
    "        if count_tr >= est_ctr_tr + 3:\n",
    "            ids_val = np.concatenate((ids_train[-1:], ids_val[:]))\n",
    "            ids_train = ids_train[:-1]\n",
    "            trigger_flag = True\n",
    "            \n",
    "    if count_tr <= est_ctr_tr - 3:\n",
    "        if count_te >= est_ctr_te + 3:\n",
    "            ids_train = np.concatenate((ids_test[-1:], ids_train[:]))\n",
    "            ids_test = ids_test[:-1]\n",
    "            trigger_flag = True\n",
    "        elif count_v >= est_ctr_v + 3:\n",
    "            ids_train = np.concatenate((ids_val[-1:], ids_train[:]))\n",
    "            ids_val = ids_val[:-1]\n",
    "            trigger_flag = True\n",
    "            \n",
    "    logger.debug(trigger_flag)\n",
    "    return ids_train, ids_test, ids_val, trigger_flag       "
   ],
   "id": "8f86e1df7de130aa",
   "outputs": [],
   "execution_count": 494
  },
  {
   "metadata": {
    "ExecuteTime": {
     "end_time": "2024-07-14T19:16:42.625125Z",
     "start_time": "2024-07-14T19:16:42.593777Z"
    }
   },
   "cell_type": "code",
   "source": [
    "import numpy as np\n",
    "import os, os.path\n",
    "import time\n",
    "\n",
    "from src.utils.logger import setup_logger\n",
    "logger = setup_logger(__name__, level='INFO')\n",
    "\n",
    "def train_val_test_split(perc_val = 0.2, perc_test = 0.2, balanced = False):\n",
    "    \n",
    "    ids_train, ids_val, ids_test, ts_list, steps = triple_split(perc_val = 0.2, perc_test = 0.2, seed=17, dir='../notebooks/test_script')\n",
    "    \n",
    "    trigger_flag = True\n",
    "    dl_timer = time.process_time() # Sollte eig. nicht vorkommen können, dient der Absicherung\n",
    "    \n",
    "    while balanced and trigger_flag and (time.process_time() - dl_timer) < 5:\n",
    "        ids_train, ids_test, ids_val, trigger_flag = balance_tests(ids_train, ids_test, ids_val, perc_test, perc_val, ts_list, steps)\n",
    "    if (time.process_time() - dl_timer) >= 5:\n",
    "        logger.error(\"Broke Deadlock constraint in train_val_test_split\")\n",
    "    return ids_train, ids_val, ids_test"
   ],
   "id": "b2b5c2b146b5589c",
   "outputs": [],
   "execution_count": 491
  },
  {
   "metadata": {},
   "cell_type": "code",
   "outputs": [],
   "execution_count": null,
   "source": "",
   "id": "440188cf3e6d90ef"
  },
  {
   "metadata": {},
   "cell_type": "markdown",
   "source": "# Abstellgleis",
   "id": "cd15800aa19a10cb"
  },
  {
   "metadata": {},
   "cell_type": "code",
   "outputs": [],
   "execution_count": null,
   "source": [
    "count_compl = 0\n",
    "for element in dir_list: \n",
    "    el = element[0:2].strip(\"_\") \n",
    "    if int(el) in idx:\n",
    "        count_compl += 1\n",
    "    else: \n",
    "        print(\"missing nr\", el)\n",
    "print(count_compl)\n",
    "\n",
    "count_tr = 0\n",
    "for element in dir_list: \n",
    "    el = element[0:2].strip(\"_\") \n",
    "    if int(el) in ids_train:\n",
    "        count_tr += 1     \n",
    "est_ctr_tr = round(steps *(1 - perc_test) * (1 - perc_test))\n",
    "print(count_tr, \"VERSUS\", est_ctr_tr)\n",
    "\n",
    "count_v = 0\n",
    "for element in dir_list: \n",
    "    el = element[0:2].strip(\"_\") \n",
    "    if int(el) in ids_val:\n",
    "        count_v += 1\n",
    "est_ctr_v = round(steps *(1 - perc_test) * perc_test)\n",
    "print(count_v, \"VERSUS\", est_ctr_v)\n",
    "\n",
    "count_te = 0\n",
    "for element in dir_list: \n",
    "    el = element[0:2].strip(\"_\") \n",
    "    if int(el) in ids_test:\n",
    "        count_te += 1     \n",
    "est_ctr_te = round(steps* perc_test) \n",
    "print(count_te, \"VERSUS\", est_ctr_te)"
   ],
   "id": "3fcd76fc667ee0ab"
  },
  {
   "metadata": {},
   "cell_type": "code",
   "outputs": [],
   "execution_count": null,
   "source": [
    "l1 = [1,2,3 ]\n",
    "l2 = [4,5,6 ]\n",
    "\n",
    "l3 = np.concatenate((l2,l1))\n",
    "l3"
   ],
   "id": "68a67c237cf68201"
  },
  {
   "metadata": {},
   "cell_type": "code",
   "outputs": [],
   "execution_count": null,
   "source": "",
   "id": "c92f5e1537590933"
  }
 ],
 "metadata": {
  "kernelspec": {
   "display_name": "Python 3",
   "language": "python",
   "name": "python3"
  },
  "language_info": {
   "codemirror_mode": {
    "name": "ipython",
    "version": 2
   },
   "file_extension": ".py",
   "mimetype": "text/x-python",
   "name": "python",
   "nbconvert_exporter": "python",
   "pygments_lexer": "ipython2",
   "version": "2.7.6"
  }
 },
 "nbformat": 4,
 "nbformat_minor": 5
}
