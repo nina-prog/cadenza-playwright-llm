{
 "cells": [
  {
   "cell_type": "markdown",
   "id": "4a818a66",
   "metadata": {},
   "source": [
    "# Environment Setup\n",
    "\n",
    "To set up your environment, follow these steps in your terminal. These instructions assume that you have Conda installed on your machine, which will manage your environments and packages.\n",
    "\n",
    "### Step 1: Open Your Terminal\n",
    "Start by opening your terminal application. This might be Command Prompt or PowerShell on Windows.\n",
    "\n",
    "### Step 2: Create a New Conda Environment\n",
    "Create a new Conda environment named `uitest` with Python 3.8 by running the following command:\n",
    "\n",
    "```bash\n",
    "conda create -n uitest python=3.12.3\n",
    "```\n",
    "\n",
    "### Step 3: Activate the Environment\n",
    "Activate the newly created environment to switch into it:\n",
    "```bash\n",
    "conda activate uitest\n",
    "```\n",
    "\n",
    "### Step 4: Install Playwright\n",
    "Install Playwright, a tool for browser automation, using pip:\n",
    "```bash\n",
    "pip install playwright\n",
    "```\n",
    "\n",
    "### Step 5: Install Playwright Dependencies\n",
    "Once Playwright is installed, run the installation command to set up the necessary browser binaries:\n",
    "```bash\n",
    "playwright install\n",
    "```\n",
    "\n",
    "### Step 6: Install BeautifulSoup4\n",
    "Finally, install BeautifulSoup4, which is a library used for parsing HTML and XML documents:\n",
    "```bash\n",
    "pip install BeautifulSoup4\n",
    "```"
   ]
  },
  {
   "cell_type": "markdown",
   "id": "55e47fb9",
   "metadata": {},
   "source": [
    "# UI Test Examples\n",
    "\n",
    "The file **Cadenza_TF_von_QS_ueberarbeitet-1_utf8.csv** contains 30 examples of UI tests.\n",
    "\n",
    "Let's start by reading the file to explore the descriptions of these UI tests.\n",
    "\n",
    "For our analysis, we will focus on the two most important columns, namely `Requirements NEU` and `Test Steps NEU`.\n",
    "\n",
    "* `Requirements NEU`:This column describes the preconditions necessary for each UI test. Preconditions outline the specific states or configurations that must be present before the test is executed.\n",
    "\n",
    "* `Test Steps NEU`:This column provides a detailed description of the UI test steps along with the expected results. It outlines the actions to be performed during the test and the anticipated outcomes, ensuring the test's objectives are clearly understood."
   ]
  },
  {
   "cell_type": "code",
   "execution_count": 10,
   "id": "cd2fd734",
   "metadata": {
    "scrolled": true,
    "ExecuteTime": {
     "end_time": "2024-06-16T05:02:19.768612200Z",
     "start_time": "2024-06-16T05:02:19.693079300Z"
    }
   },
   "outputs": [
    {
     "data": {
      "text/plain": "<IPython.core.display.HTML object>",
      "text/html": "<table border=\"1\" class=\"dataframe\">\n  <thead>\n    <tr style=\"text-align: right;\">\n      <th></th>\n      <th>Requirements NEU</th>\n      <th>Test Steps NEU</th>\n    </tr>\n  </thead>\n  <tbody>\n    <tr>\n      <th>0</th>\n      <td>1. Cadenza Web wurde gestartet (localhost:8080/cadenza) \\n2. Anmeldedaten (Admin/Admin) wurden eingegeben</td>\n      <td>1) Öffne die Arbeitsmappe \"Übersicht Messstellen\" im Ordner \"Gewässergüte\".\\nExpected result: Die Arbeitsmappe wird geöffnet, der Analysekontext ist nicht sichtbar.\\n\\n2) Öffnen der Tabellen-Sicht \"Messstellenliste\" über die Werkzeugliste der Arbeitsmappe.\\nExpected result: Die Tabelle \"Messstelleninformationen\" wird angezeigt, der Analysekontext ist sichtbar.\\n\\n3) Klicke auf den 3-Punkte-Button innerhalb der Tabellen-Sicht \"Messstelleninformationen\"\\nExpected result: Kontextmenü erscheint mit den Optionen:\\n- Duplizieren\\n- In Arbeitsblatt duplizieren\\n- Exportieren\\n- Designer öffnen\\n- Löschen\\n\\n3) Klicke auf \"Duplizieren\"\\nExpected result: Das Kontextmenü schließt sich. Die Sicht ist dupliziert.\\nDie duplizierte Sicht erscheint neben der Original-Sicht.\\nBeide Sichten teilen sich in gleichen Maßen den Platz der Original-Sicht.</td>\n    </tr>\n    <tr>\n      <th>1</th>\n      <td>1. Cadenza Web wurde gestartet (localhost:8080/cadenza) \\n2. Anmeldedaten (Admin/Admin) wurden eingegeben</td>\n      <td>1) Klicke im Navigator auf das Buch-Symbol  \"Neue Arbeitsmappe\" und wähle Repository \"Gewaesser\".\\nExpected result: Eine leere Arbeitsmappe wird erstellt und eine leere Ansicht geöffnet. Datenmanager und Designer sind eingeblendet.</td>\n    </tr>\n    <tr>\n      <th>2</th>\n      <td>1. Cadenza Web wurde gestartet (localhost:8080/cadenza) \\n2. Anmeldedaten (Admin/Admin) wurden eingegeben</td>\n      <td>1) Öffne den Navigator, öffne einen Ordner mit einer Arbeitsmappe und klicke neben dem Namen der Arbeitsmappe  auf die drei Punkte für weitere Aktionen.\\nExpected result: Der Dialog für weitere Aktionen ist geöffnet.\\n\\n2) Klicke auf \"Löschen\".\\nExpected result: Der Dialog zum Löschen ist geöffnet, der Nutzer wird gefragt ob er wirklich löschen möchte.\\n\\n3) Klicke auf \"Arbeitsmappe löschen\".\\nExpected result: Die Arbeitsmappe ist nicht mehr sichtbar, die Startseite von Cadenza geöffnet.\\n\\n4) Öffne den Navigator und scrolle zum vorherigen Ort der gelöschten Arbeitsmappe.\\nExpected result: Die Arbeitsmappe ist nicht mehr sichtbar.</td>\n    </tr>\n    <tr>\n      <th>3</th>\n      <td>1. Cadenza Web wurde gestartet (localhost:8080/cadenza) \\n2. Anmeldedaten (Admin/Admin) wurden eingegeben</td>\n      <td>1) Öffne die Arbeitsmappe \"Übersicht Messstellen\" im Ordner \"Gewässergüte\".\\nExpected result: Die Arbeitsmappe wird geöffnet, der Analysekontext ist nicht sichtbar.\\n\\n2) Klicke auf \"Informationen zur Arbeitsmappe\" in der Navigatorleiste.\\nExpected result: Fenster öffnet sich.\\n\\n3) Klicke auf \"Neues Arbeitsblatt\"\\nExpected result: Fenster \"Arbeitsblatt hinzufügen\" zum Benennen des Arbeitsblattes öffnet sich.\\n\\n4) Klicke auf \"Hinzufügen\".\\nExpected result: Das neue Arbeitsblatt wird angelegt.\\n\\n4) Klicke auf den Namen des gerade angelegten Arbeitsblatts in der Navigatorleiste und danach ganz unten auf \"Arbeitsblätter verwalten\".\\nExpected result: Fenster \"Arbeitsmappe verwalten\" öffnet sich.\\n\\n5) Gehe mit der Maus auf ein Arbeitsblatt was nicht gerade geöffnet ist.\\nExpected result: Die Spalte wird grau hervorgehoben, ein Stift und Mülleimer-Symbol erscheint.\\n\\n6) Klicke auf das Mülleimer-Symbol.\\nExpected result: Das ausgewählte Arbeitsblatt wird gelöscht.\\n</td>\n    </tr>\n    <tr>\n      <th>4</th>\n      <td>1. Cadenza Web wurde gestartet (localhost:8080/cadenza) \\n2. Anmeldedaten (Admin/Admin) wurden eingegeben</td>\n      <td>1) Öffne die Arbeitsmappe \"Übersicht Messstellen\" im Ordner \"Gewässergüte\".\\nExpected result: Die Arbeitsmappe wird geöffnet, der Analysekontext ist nicht sichtbar.\\n\\n2) Öffne das Arbeitsblatts \"Häufigkeit der Messungen\" über die Navigatorleiste\\nExpected result: Das Tabellenblatt angezeigt, der Analysekontext ist sichtbar.\\n\\n3) Klicke auf die Diagramm-Sicht \"Anzahl der Messungen pro Jahr\" \\nExpected result: Das Diagramm wird farblich hervorgehoben\\n\\n4) Klicke auf den 3-Punkte-Button innerhalb der Diagramm-Sicht \"Anzahl der Messungen pro Jahr\"\\nExpected result: Kontextmenü erscheint mit den Optionen:\\n- Duplizieren\\n- In Arbeitsblatt duplizieren\\n- Designer öffnen\\n- Löschen\\n\\n5) Klicke auf \"Duplizieren\"\\nExpected result: Das Kontextmenü schließt sich\\nDie Sicht ist dupliziert. Die duplizierte Sicht erscheint neben der original Sicht.\\nBeide Sichten teilen sich in gleichen Maßen den Platz der Original-Sicht</td>\n    </tr>\n    <tr>\n      <th>5</th>\n      <td>1. Cadenza Web wurde gestartet (localhost:8080/cadenza) \\n2. Anmeldedaten (Admin/Admin) wurden eingegeben</td>\n      <td>1) Öffne die Arbeitsmappe \"Übersicht Messstellen\" im Ordner \"Gewässergüte\".\\nExpected result: Die Arbeitsmappe wird geöffnet, der Analysekontext ist nicht sichtbar.\\n\\n2) Öffne das Arbeitsblatts \"Häufigkeit der Messungen\" über die Navigatorleiste\\nExpected result: Das Arbeitsblatt wird angezeigt.\\n\\n3) Klicke auf die Indikator-Sicht \"402 611 Messungen gesamt\" \\nExpected result: Der Indikator wird farblich hervorgehoben\\n\\n4) Klicke auf den 3-Punkte-Button innerhalb der Indikator-Sicht \"402 611 Messungen gesamt\"\\nExpected result: Kontextmenü erscheint mit den Optionen:\\n- Maximieren\\n- Duplizieren\\n- In Arbeitsblatt duplizieren\\n- Designer öffnen\\n- Löschen\\n\\n5) Klicke auf \"Duplizieren\"\\nExpected result: Das Kontextmenü schließt sich\\nDie Sicht ist dupliziert. Die duplizierte Sicht erscheint an einem anderen Platz im Arbeitsblatt\\nBeide Sichten haben die gleiche Größe.</td>\n    </tr>\n    <tr>\n      <th>6</th>\n      <td>1. Cadenza Web wurde gestartet (localhost:8080/cadenza) \\n2. Anmeldedaten (Admin/Admin) wurden eingegeben</td>\n      <td>1) Öffne die importierte Arbeitsmappe oder alternativ die Arbeitsmappe \"Gewässergüte\" im Ordner \"Gewässergüte\".\\nExpected result: Arbeitsmappe ist geöffnet und das erste Arbeitsblatt wird angezeigt.\\n\\n2) Klicke oben rechts auf \"Neue Sicht\"\\nExpected result: Ein Kontextmenü öffnet \\n\\n3) Klicke auf \"Text\" unter \"Statische Sicht\"\\nExpected result: Eine Textsicht wird dem Arbeitsblatt des Workbooks hinzugefügt</td>\n    </tr>\n    <tr>\n      <th>7</th>\n      <td>1. Cadenza Web wurde gestartet (localhost:8080/cadenza) \\n2. Anmeldedaten (Admin/Admin) wurden eingegeben</td>\n      <td>1) Öffne die Arbeitsmappe \"Übersicht Messstellen\" im Ordner \"Gewässergüte\".\\nExpected result: Die Arbeitsmappe wird geöffnet, der Analysekontext ist nicht sichtbar.\\n\\n2) Öffne das Arbeitsblatts \"Häufigkeit der Messungen\" über die Navigatorleiste\\nExpected result: Das Arbeitsblatt angezeigt\\n\\n3) Klicke auf das Datenmanagersymbol in der Werkzeugleiste der Arbeitsmappe.\\nExpected result: Der Datenmanager wird eingeblendet.\\n\\n4) Klicke auf X im Datenmanager.\\nExpected result: Der Datenmanager wird ausgeblendet.\\n\\n5) Klicke erneut auf das Datenmanagersymbol in der Werkzeugleiste der Arbeitsmappe.\\nExpected result: Der Datenmanager wird eingeblendet.\\n\\n6) Klicke auf das Datenmanagersymbol in der Werkzeugleiste der Arbeitsmappe.\\nExpected result: Der Datenmanager wird eingeblendet.\\n</td>\n    </tr>\n    <tr>\n      <th>8</th>\n      <td>1. Cadenza Web wurde gestartet (localhost:8080/cadenza) \\n2. Anmeldedaten (Admin/Admin) wurden eingegeben</td>\n      <td>1) Öffne die Arbeitsmappe \"Übersicht Messstellen\" im Ordner \"Gewässergüte\".\\nExpected result: Die Arbeitsmappe wird geöffnet, der Analysekontext ist nicht sichtbar.\\n\\n2) Klicke auf das Analysekontextsymbol in der Werkzeugleiste der Arbeitsmappe.\\nExpected result: Der Analysekontext wird eingeblendet.\\n\\n3) Klicke auf X im Analysekontext.\\nExpected result: Der Analysekontext wird ausgeblendet.\\n\\n4) Klicke erneut auf das Analysekontextsymbol in der Werkzeugleiste der Arbeitsmappe.\\nExpected result: Der Analysekontext wird eingeblendet.\\n\\n5) Klicke auf das Analysekontextsymbol in der Werkzeugleiste der Arbeitsmappe.\\nExpected result: Der Analysekontext wird ausgeblendet</td>\n    </tr>\n    <tr>\n      <th>9</th>\n      <td>1. Cadenza Web wurde gestartet (localhost:8080/cadenza) \\n2. Anmeldedaten (Admin/Admin) wurden eingegeben</td>\n      <td>1) Öffne die Arbeitsmappe \"Übersicht Messstellen\" im Ordner \"Gewässergüte\" und klicke auf eine beliebige Sicht.\\nExpected result: Die Arbeitsmappe wird geöffnet, die Sicht wird farblich hervorgehoben.\\n\\n2) Klicke auf das Designersymbol in der Werkzeugleiste der Arbeitsmappe.\\nExpected result: Der Designer wird eingeblendet.\\n\\n3) Klicke auf X im Designer.\\nExpected result: Der Designer wird ausgeblendet.\\n\\n4) Klicke erneut auf das Designersymbol in der Werkzeugleiste der Arbeitsmappe.\\nExpected result: Der Designer wird eingeblendet.\\n\\n5) Klicke auf das Designersymbol in der Werkzeugleiste der Arbeitsmappe.\\nExpected result: Der Designer wird ausgeblendet.\\n</td>\n    </tr>\n    <tr>\n      <th>10</th>\n      <td>1. Cadenza Web wurde gestartet (localhost:8080/cadenza) \\n2. Anmeldedaten (Admin/Admin) wurden eingegeben</td>\n      <td>1) Klicke im Navigator auf das Buch-Symbol  \"Neue Arbeitsmappe\" und wähle Repository \"Gewaesser\".\\nExpected result: Eine leere Arbeitsmappe ist erstellt und eine leere Ansicht geöffnet. Datenmanager und Designer sind eingeblendet.\\n\\n2) Klicke auf \"Neues Arbeitsblatt\" in der Werkzeugleiste der Arbeitsmappe.\\nExpected result: Fenster zum Benennen des Arbeitsblattes öffnet sich.\\n\\n4) Gebe einen Namen ein und Klicke auf \"Hinzufügen\".\\nExpected result: Das neue Arbeitsblatt wird angezeigt. Oben wird jetzt der Name des neuen Arbeitsblattes angezeigt.</td>\n    </tr>\n    <tr>\n      <th>11</th>\n      <td>1. Cadenza Web wurde gestartet (localhost:8080/cadenza) \\n2. Anmeldedaten (Admin/Admin) wurden eingegeben</td>\n      <td>1) Klicke im Navigator auf die drei Punkte rechts neben der Suchleiste\\nExpected result: Ein Kontextmenü öffnet sich, zur Option sind:\\nArbeitsmappe importieren\\nRepository neu einlesen...\\n\\n2) Auf \"Arbeitsmappe importieren\" klicken\\nExpected result: Ein Dialog zum importieren einer Arbeitsmappe öffnet sich.\\n\\n3) Bei \"Datei *\" auf \"Bitte wählen Sie eine Datei aus.\" klicken und die angehängte ZIP-Datei auswählen\\nExpected result: Die angehängte Datei wird im Import-Dialog angezeigt\\n\\n4) Wähle als Repository \"Ladesaeulen\"\\nExpected result: Es erscheint das Repository \"Ladesaeulen\" unter \"Repository\"\\n\\n5) Unten links auf \"Importieren\" klicken\\nExpected result: Der Import Dialog schließt sich.\\nDie importierte Arbeitsmappe wird im Navigator ganz unten aufgelistet</td>\n    </tr>\n    <tr>\n      <th>12</th>\n      <td>1. Cadenza Web wurde gestartet (localhost:8080/cadenza) \\n2. Anmeldedaten (Admin/Admin) wurden eingegeben</td>\n      <td>1) Im Navigator mit der Maus über die im TC-12604 eingeladene Arbeitsmappe hovern.\\nExpected result: Der Eintrag im Navigator wird dunkelgrau unterlegt, rechts vom Namen werden drei Punkte angezeigt\\n\\n2) Klicke auf die drei Punkte rechts neben dem Namen der Arbeitsmappe.\\nExpected result: Ein Kontextmenü öffnet sich\\n\\n3) Klicke auf \"Arbeitsmappe exportieren\" im Kontextmenü\\nExpected result: Das Workbook wird exportiert und vom Browser automatisch im Downloadverzeichnis gespeichert</td>\n    </tr>\n    <tr>\n      <th>13</th>\n      <td>1. Cadenza Web wurde gestartet (localhost:8080/cadenza) \\n2. Anmeldedaten (Admin/Admin) wurden eingegeben</td>\n      <td>1) Öffne die im TC-12604 eingeladene Arbeitsmappe\\nExpected result: Arbeitsmappe ist geöffnet und das erste Arbeitsblatt wird angezeigt\\n\\n2) Klicke oben rechts auf die drei Punkte \"Mehr\"\\nExpected result: Ein Kontextmenü öffnet sich\\n\\n3) Gehe auf \"Exportieren\" und klicke auf \"Arbeitsmappe (*.zip)\\nExpected result: Die Arbeitsblatt wird exportiert und vom Browser automatisch im Downloadverzeichnis gespeichert\\n</td>\n    </tr>\n    <tr>\n      <th>14</th>\n      <td>1. Cadenza Web wurde gestartet (localhost:8080/cadenza) \\n2. Anmeldedaten (Admin/Admin) wurden eingegeben</td>\n      <td>1) Öffne die im TC-12604 eingeladene Arbeitsmappe\\nExpected result: Die Arbeitsmappe wird geöffnet und das erste Arbeitsblatt wird angezeigt\\n\\n2) Klicke in der Werkzeugsleiste der Arbeitsmappe auf den Namen des Arbeitsblatts\\nExpected result: Ein Dropdownmenü wird angezeigt\\n\\n3) Klicke auf \"Arbeitsblatt duplizieren\"\\nExpected result: Ein Menü erscheint um der Kopie einen Namen zu geben\\n\\n4) Klicke auf  \"Duplizieren\" links unten\\nExpected result: Die Kopie des Arbeitsblatts wird erstellt und gleich geöffnet</td>\n    </tr>\n    <tr>\n      <th>15</th>\n      <td>1. Cadenza Web wurde gestartet (localhost:8080/cadenza) \\n2. Anmeldedaten (Admin/Admin) wurden eingegeben</td>\n      <td>1) Öffne die im TC-12604 eingeladene Arbeitsmappe\\nExpected result: Arbeitsmappe ist geöffnet und das erste Arbeitsblatt wird angezeigt\\n\\n2) Klicke oben rechts in der Werkzeugleiste der Arbeitsmappe auf \"Neue Sicht\"\\nExpected result: Ein Kontextmenü öffnet sich\\n\\n3) Klicke unter \"Sicht für Daten\" auf \"Karte\"\\nExpected result: Eine Kartensicht wird dem Arbeitsblatt des Arbeitsmappe hinzugefügt</td>\n    </tr>\n    <tr>\n      <th>16</th>\n      <td>1. Cadenza Web wurde gestartet (localhost:8080/cadenza) \\n2. Anmeldedaten (Admin/Admin) wurden eingegeben</td>\n      <td>1) Öffne die im TC-12604 eingeladene Arbeitsmappe\\nExpected result: Arbeitsmappe ist geöffnet und das erste Arbeitsblatt wird angezeigt\\n\\n2) Klicke oben rechts  in der Werkzeugleiste der Arbeitsmappe auf \"Neue Sicht\"\\nExpected result: Ein Kontextmenü öffnet sich\\n\\n3) Klicke unter Sicht für Daten\" auf \"Tabelle (gruppiert)\"\\nExpected result: Eine Tabellensicht wird dem Arbeitsblatt des Workbooks hinzugefügt ohne Inhalt\\n</td>\n    </tr>\n    <tr>\n      <th>17</th>\n      <td>1. Cadenza Web wurde gestartet (localhost:8080/cadenza) \\n2. Anmeldedaten (Admin/Admin) wurden eingegeben</td>\n      <td>1) Öffne die im TC-12604 eingeladene Arbeitsmappe\\nExpected result: Arbeitsmappe ist geöffnet und das erste Arbeitsblatt wird angezeigt\\n\\n2) Klicke oben rechts in der Werkzeugleiste der Arbeitsmappe auf \"Neue Sicht\"\\nExpected result: Ein Kontextmenü öffnet sich\\n\\n3) Klicke unter Sicht für Daten auf \"Säulendiagramm\"\\nExpected result: Eine Säulendiagrammsicht wird dem Arbeitsblatt des Workbooks hinzugefügt ohne Inhalt</td>\n    </tr>\n    <tr>\n      <th>18</th>\n      <td>1. Cadenza Web wurde gestartet (localhost:8080/cadenza) \\n2. Anmeldedaten (Admin/Admin) wurden eingegeben</td>\n      <td>1) 1) Öffne die im TC-12604 eingeladene Arbeitsmappe\\nExpected result: Arbeitsmappe ist geöffnet und das erste Arbeitsblatt wird angezeigt\\n\\n2) Klicke oben rechts auf \"Neue Sicht\"\\nExpected result: Ein Kontextmenü öffnet sich\\n\\n3) Klicke auf \"Weitere...\"\\nExpected result: Ein Fenster erscheint mit allen Arten von Sichten zur Auswahl</td>\n    </tr>\n    <tr>\n      <th>19</th>\n      <td>1. Cadenza Web wurde gestartet (localhost:8080/cadenza) \\n2. Anmeldedaten (Admin/Admin) wurden eingegeben</td>\n      <td>1) In der neuen leeren Arbeitsmappe in der leeren Sicht unter \"Neue Sicht erstellen\" auf \"Karte\" klicken\\nExpected result: Eine Kartensicht ohne Daten wird angezeigt</td>\n    </tr>\n    <tr>\n      <th>20</th>\n      <td>1. Cadenza Web wurde gestartet (localhost:8080/cadenza) \\n2. Anmeldedaten (Admin/Admin) wurden eingegeben</td>\n      <td>1) In der neuen leeren Arbeitsmappe in der leeren Sicht unter \"Neue Sicht erstellen\" auf \"Tabelle (gruppiert)\" klicken\\nExpected result: Eine Tabellensicht ohne Daten wird angezeigt</td>\n    </tr>\n    <tr>\n      <th>21</th>\n      <td>1. Cadenza Web wurde gestartet (localhost:8080/cadenza) \\n2. Anmeldedaten (Admin/Admin) wurden eingegeben</td>\n      <td>1) In der neuen leeren Arbeitsmappe in der leeren Sicht unter \"Neue Sicht erstellen\" auf \"Säulendiagramm\" klicken\\nExpected result: Eine Säulendiagrammsicht ohne Daten wird angezeigt</td>\n    </tr>\n    <tr>\n      <th>22</th>\n      <td>1. Cadenza Web wurde gestartet (localhost:8080/cadenza) \\n2. Anmeldedaten (Admin/Admin) wurden eingegeben</td>\n      <td>1) In der neuen leeren Arbeitsmappe in der leeren Sicht unter \"Neue Sicht erstellen\" auf \"Weitere ...\" klicken\\nExpected result: Ein Fenster erscheint mit allen Arten von Sichten zur Auswahl\\n\\n2) Im Dialog für Visualisierungstypen auf einen beliebigen Typ klicken.\\nExpected result: Eine neue Sicht des entsprechenden Typs wird erstellt und angezeigt.</td>\n    </tr>\n    <tr>\n      <th>23</th>\n      <td>1. Cadenza Web wurde gestartet (localhost:8080/cadenza) \\n2. Anmeldedaten (Admin/Admin) wurden eingegeben</td>\n      <td>1) Klicke im Navigator auf die drei Punkte rechts neben der Suchleiste\\nExpected result: Ein Kontextmenü öffnet sich, zur Option sind:\\nArbeitsmappe importieren\\nRepository neu einlesen...\\n\\n2) Auf \"Arbeitsmappe importieren\" klicken\\nExpected result: Ein Dialog zum importieren einer Arbeitsmappe öffnet sich.\\n\\n3) Bei \"Datei *\" auf \"Bitte wählen Sie eine Datei aus.\" klicken und die angehängte CWB-Datei auswählen\\nExpected result: Die Angehängte Datei wird im Import-Dialog angezeigt\\n\\n4) Unten links auf \"Importieren\" klicken\\nExpected result: Der Import Dialog schließt sich.\\nDie importierte Arbeitsmappe wird im Navigator ganz unten aufgelistet</td>\n    </tr>\n    <tr>\n      <th>24</th>\n      <td>1. Cadenza Web wurde gestartet (localhost:8080/cadenza) \\n2. Anmeldedaten (Admin/Admin) wurden eingegeben</td>\n      <td>1) Klicke im Navigator auf die drei Punkte rechts neben der Suchleiste\\nExpected result: Ein Kontextmenü öffnet sich, zur Option sind:\\nArbeitsmappe importieren\\nRepository neu einlesen...\\n\\n2) Auf \"Arbeitsmappe importieren\" klicken\\nExpected result: Ein Dialog zum importieren einer Arbeitsmappe öffnet sich.\\n\\n3) Bei \"Datei *\" auf \"Bitte wählen Sie eine Datei aus.\" klicken und die angehängte ZIP-Datei auswählen\\nExpected result: Die Angehängte Datei wird im Import-Dialog angezeigt\\n\\n4) Im Feld \"Name der Arbeitsmappe\" einen neuen Namen vergeben.\\nExpected results: Der neue Name wird übernommen.\\n\\n5) Unten links auf \"Importieren\" klicken\\nExpected result: Der Import Dialog schließt sich.\\nDie importierte Arbeitsmappe wird im Navigator ganz unten aufgelistet</td>\n    </tr>\n    <tr>\n      <th>25</th>\n      <td>1. Cadenza Web wurde gestartet (localhost:8080/cadenza) \\n2. Anmeldedaten (Admin/Admin) wurden eingegeben</td>\n      <td>1) Öffnen das Arbeitsblatts \"Messstellenliste\" in der Werkzeugleiste der Arbeitsmappe\\nExpected results: Arbeitsblatt wird geöffnet.\\n\\n2) Klicke auf die drei Punkte  \"Mehr\" innerhalb der Tabellen-Sicht.\\nExpected result: Kontextmenü ist angezeigt.\\n\\n3) Wähle \"Exportieren\" - \"Bericht (*.pdf)...\"\\nExpected result: Dialog mit Einstellungen ist angezeigt. Die Standard Vorlage ist vorausgewählt.\\nDie Option \"Titel der Sicht\", und \"Liste der Filter\" ist aktiviert.\\n\\n3) Klicke auf \"Bericht Exportieren\".\\nExpected result: Report wird erzeugt. Währenddessen wird eine Meldung und ein Ladesymbol im Dialog angezeigt.\\nNach Abschluss des Exports ist die PDF erzeugt.\\nDer Dateiname der PDF enthält den Namen der Sicht und das Export-Datum.</td>\n    </tr>\n    <tr>\n      <th>26</th>\n      <td>1. Cadenza Web wurde gestartet (localhost:8080/cadenza) \\n2. Anmeldedaten (Admin/Admin) wurden eingegeben</td>\n      <td>1) Öffnen das Arbeitsblatts \"Messstellenkarte\" in der Werkzeugleiste der Arbeitsmappe\\nExpected results: Arbeitsblatt wird geöffnet.\\n\\n2) Klicke auf die drei Punkte  \"Mehr\" innerhalb der Karten-Sicht.\\nExpected result: Kontextmenü ist angezeigt.\\n\\n3) Wähle \"Exportieren\" - \"Bericht (*.pdf)...\"\\nExpected result: Dialog mit Einstellungen ist angezeigt. Die Standard Vorlage ist vorausgewählt.\\nDie Option \"Titel der Sicht\", \"Legende\" und \"Filter der Sicht\" ist aktiviert.\\n\\n3) Klicke auf \"Bericht Exportieren\".\\nExpected result: Report wird erzeugt. Währenddessen wird eine Meldung und ein Ladesymbol im Dialog angezeigt.\\nNach Abschluss des Exports ist die PDF erzeugt.\\nDer Dateiname der PDF enthält den Namen der Sicht und das Export-Datum.</td>\n    </tr>\n    <tr>\n      <th>27</th>\n      <td>1. Cadenza Web wurde gestartet (localhost:8080/cadenza) \\n2. Anmeldedaten (Admin/Admin) wurden eingegeben</td>\n      <td>1) Öffne das Arbeitsblatts \"Häufigkeit der Messungen\" in der Werkzeugleiste der Arbeitsmappe\\nExpected results: Arbeitsblatt wird geöffnet.\\n\\n2) Klicke auf die drei Punkte  \"Mehr\" innerhalb der Diagramm-Sicht \"Anzahl der Messungen pro Jahr\".\\nExpected result: Kontextmenü ist angezeigt.\\n\\n3) Wähle \"Exportieren\" - \"Bericht (*.pdf)...\"\\nExpected result: Dialog mit Einstellungen ist angezeigt. Die Standard Vorlage ist vorausgewählt.\\nDie Option \"Titel der Sicht\",\"Legende\" und \"Filter der Sicht\" ist aktiviert.\\n\\n3) Klicke auf \"Bericht Exportieren\".\\nExpected result: Report wird erzeugt. Währenddessen wird eine Meldung und ein Ladesymbol im Dialog angezeigt.\\nNach Abschluss des Exports ist die PDF erzeugt.\\nDer Dateiname der PDF enthält den Namen der Sicht und das Export-Datum.</td>\n    </tr>\n    <tr>\n      <th>28</th>\n      <td>1. Cadenza Web wurde gestartet (localhost:8080/cadenza) \\n2. Anmeldedaten (Admin/Admin) wurden eingegeben</td>\n      <td>1) Öffne das Arbeitsblatts \"Messstellenkarte\" in der Werkzeugleiste der Arbeitsmappe\\nExpected results: Arbeitsblatt wird geöffnet.\\n\\n2) Klicke auf die drei Punkte  \"Mehr\".\\nExpected result: Kontextmenü ist angezeigt.\\n\\n3) Wähle unter \"Arbeitsblatt\" - \"Bericht (*.pdf)...\"\\nExpected result: Dialog mit Einstellungen ist angezeigt. Die Standard Vorlage ist vorausgewählt.\\nDie Option \"Titel des Arbeitsblatts\", und \"Titel der Sichten\" ist aktiviert.\\n\\n3) Klicke auf \"Bericht exportieren\".\\nExpected result: Report wird erzeugt. Währenddessen wird eine Meldung und ein Ladesymbol im Dialog angezeigt.\\nNach Abschluss des Exports ist die PDF erzeugt.\\nDer Dateiname der PDF enthält den Namen der Sicht und das Export-Datum.</td>\n    </tr>\n    <tr>\n      <th>29</th>\n      <td>1. Cadenza Web wurde gestartet (localhost:8080/cadenza) \\n2. Anmeldedaten (Admin/Admin) wurden eingegeben</td>\n      <td>1) Öffne die Arbeitsmappe \"Übersicht Messstellen\" im Ordner \"Gewässergüte\".\\nExpected result: Die Arbeitsmappe wird geöffnet, der Analysekontext ist nicht sichtbar.\\n\\n2) Öffne die Karten-Sicht \"Messstellenkarte\" über die Werkzeugliste der Arbeitsmappe.\\nExpected result: Die Karte \"Messstellenlage und Wasserschutzgebiete eingefärbt nach Landkreisen\" wird angezeigt, der Analysekontext ist sichtbar.\\n\\n3) Klicke auf den 3-Punkte-Button innerhalb der Karten-Sicht \"Messstellenlage und Wasserschutzgebiete eingefärbt nach Landkreisen\"\\nExpected result: Kontextmenü erscheint mit den Optionen:\\n- Duplizieren\\n- In Arbeitsblatt duplizieren\\n- Exportieren\\n- Designer öffnen\\n- Löschen\\n\\n3) Klicke auf \"Duplizieren\"\\nExpected result: Das Kontextmenü schließt sich. Die Sicht ist dupliziert.\\nDie duplizierte Sicht erscheint neben der Original-Sicht.\\nBeide Sichten teilen sich in gleichen Maßen den Platz der Original-Sicht.</td>\n    </tr>\n  </tbody>\n</table>"
     },
     "metadata": {},
     "output_type": "display_data"
    }
   ],
   "source": [
    "import pandas as pd\n",
    "from IPython.display import display, HTML\n",
    "def pretty_display(df, max_colwidth=10):\n",
    "    with pd.option_context('display.max_colwidth', max_colwidth):\n",
    "        display(HTML(df.to_html()))\n",
    "        \n",
    "uitest_cases = pd.read_csv(\"../data/raw/Cadenza_TF_von_QS_ueberarbeitet-1_utf8.csv\")\n",
    "pretty_display(uitest_cases[[\"Requirements NEU\",\"Test Steps NEU\"]])"
   ]
  },
  {
   "cell_type": "markdown",
   "id": "fb68bddc",
   "metadata": {},
   "source": [
    "From the data in the table, it is evident that each use case is composed of multiple steps, each with expected results. To simplify the data collection process and reduce the complexity of the Playwright code, when a UI test description includes multiple expected results, we treat each expected result as a separate test.\n",
    "\n",
    "Let's take the first UI test as an example, which consists of four steps, each associated with its own expected result.\n",
    "\n",
    "1) *Öffne die Arbeitsmappe \"Übersicht Messstellen\" im Ordner \"Gewässergüte\".Expected result: Die Arbeitsmappe wird geöffnet, der Analysekontext ist nicht sichtbar.*\n",
    "\n",
    "2) *Öffnen der Tabellen-Sicht \"Messstellenliste\" über die Werkzeugliste der Arbeitsmappe.Expected result: Die Tabelle \"Messstelleninformationen\" wird angezeigt, der Analysekontext ist sichtbar.*\n",
    "\n",
    "3) *Klicke auf den 3-Punkte-Button innerhalb der Tabellen-Sicht \"Messstelleninformationen\" Expected result: Kontextmenü erscheint mit den Optionen:- Duplizieren- In Arbeitsblatt duplizieren- Exportieren- Designer öffnen- Löschen*\n",
    "\n",
    "4) *Klicke auf \"Duplizieren\"Expected result: Das Kontextmenü schließt sich. Die Sicht ist dupliziert.Die duplizierte Sicht erscheint neben der Original-Sicht.Beide Sichten teilen sich in gleichen Maßen den Platz der Original-Sicht.*\n",
    "\n",
    "In essence, this amounts to four separate UI tests:\n",
    "\n",
    "* Step 1 —> Expected result\n",
    "* Step 1 to Step 2 —> Expected result\n",
    "* Step 1 to Step 3 —> Expected result\n",
    "* Step 1 to Step 4 —> Expected result"
   ]
  },
  {
   "cell_type": "markdown",
   "id": "2b6477a0",
   "metadata": {},
   "source": [
    "## Task \n",
    "\n",
    "**Familiarization**: Begin by familiarizing yourselves with all the UI tests to get a general feel for them.\n",
    "\n",
    "**Test Construction**: Construct UI tests on your own.\n",
    "\n",
    "**Detailed Descriptions**: Provide detailed descriptions of the steps and expected results for clarity and precision in documentation and implementation."
   ]
  },
  {
   "cell_type": "markdown",
   "id": "94f270b7",
   "metadata": {},
   "source": [
    "# Data Collection Guide\n",
    "### Step 1: Launch Cadenza Web Software\n",
    "To start collecting data with Cadenza software, follow these detailed steps to ensure the software launches correctly.\n",
    "\n",
    "#### 1.1 Locate the Cadenza Software Installation\n",
    "* Navigate to the folder where Cadenza software is installed.\n",
    "* Enter the **CadenzaWeb** folder, then proceed to the **bin** folder within it.\n",
    "\n",
    "#### 1.2 Set the Environment\n",
    "* Double-click on **setenv** to configure the environment settings. This is crucial for preparing the software to run correctly under your system's specific conditions.\n",
    "\n",
    "#### 1.3 Start the Software\n",
    "* Double-click on **startup** to launch the software. Upon doing so, a terminal window will appear.\n",
    "* Please wait for the Cadenza software configuration to complete. This process typically lasts about half a minute, culminating in the message \"Server startup\" in the terminal window.\n",
    "\n",
    "#### 1.4 Verify Software Launch\n",
    "* Open any web browser and navigate to http://localhost:8080/cadenza/ to verify that the Cadenza software is running successfully.\n",
    "* If the page loads properly, indicating that the software is running, you may close the browser window. However, leave the terminal window opened in step 1.3 running as it handles the backend processes.\n",
    "\n",
    "<img src=\"../docs/images/cadenza_start.png\" alt=\"Local Image\" width=\"500\" height=\"300\">"
   ]
  },
  {
   "cell_type": "markdown",
   "id": "b13ca09e",
   "metadata": {},
   "source": [
    "# Data Collection Guidance\n",
    "\n",
    "### Step 1 : Activate the Environment\n",
    "Activate the necessary environment by running the following command in your terminal:\n",
    "```bash\n",
    "conda activate uitest\n",
    "```\n",
    "\n",
    "### Step 2 : Run the Script run.py\n",
    "Execute the script to launch the collection procedure:\n",
    "```bash\n",
    "python run.py\n",
    "```\n",
    "\n",
    "Upon successful execution, a web page will automatically pop up. You will need to log in to the homepage using the following credentials:\n",
    "\n",
    "* Username: Admin\n",
    "* Password: Admin\n",
    "\n",
    "### Step 3: Record UI Tests\n",
    "During your interaction with the web page, every action you take will be automatically recorded. The recorded actions and their corresponding Playwright code will appear side by side as shown in the image below. \n",
    "\n",
    "<img src=\"../docs/images/data_collection.png\" alt=\"Local Image\" width=\"900\" height=\"300\">\n",
    "\n",
    "Note that incorrect clicks will also be recorded. To avoid errors, it's advised to pre-write the UI steps and expected outcomes before you begin recording. If an error occurs, terminate the entire program by pressing `Ctrl+C`.\n",
    "\n",
    "### Step 4: Complete the Test\n",
    "After completing all interactions on the interface, close the pop-up browser. The terminal will then display the message \"Press Enter to stop codegen and close the browser.\" Press Enter to proceed.\n",
    "\n",
    "### Step 5: Describe UI Test Steps\n",
    "When prompted with \"Enter the description of the UI test steps:\" in the terminal, provide a detailed description of the UI test steps you performed.\n",
    "\n",
    "### Step 6: Specify Expected Results\n",
    "Finally, when prompted with \"Enter the expected results:\" in the terminal, type in a detailed description of the expected outcomes for the UI test.\n",
    "\n",
    "Once you have completed the above steps, all the information will be automatically saved. Additionally, the program will replay the recorded steps for verification purposes.To initiate a new recording session, simply repeat the steps outlined above."
   ]
  },
  {
   "cell_type": "code",
   "execution_count": 10,
   "id": "9a8657b5",
   "metadata": {
    "ExecuteTime": {
     "end_time": "2024-06-16T05:02:19.773543Z",
     "start_time": "2024-06-16T05:02:19.768612200Z"
    }
   },
   "outputs": [],
   "source": []
  },
  {
   "cell_type": "code",
   "execution_count": 10,
   "id": "0357d555",
   "metadata": {
    "ExecuteTime": {
     "end_time": "2024-06-16T05:02:19.773543Z",
     "start_time": "2024-06-16T05:02:19.773543Z"
    }
   },
   "outputs": [],
   "source": []
  },
  {
   "cell_type": "code",
   "execution_count": 4,
   "id": "9c21bce3",
   "metadata": {
    "ExecuteTime": {
     "end_time": "2024-06-16T02:14:17.652786700Z",
     "start_time": "2024-06-16T02:14:17.441576Z"
    }
   },
   "outputs": [],
   "source": []
  },
  {
   "cell_type": "code",
   "execution_count": 4,
   "id": "69a0ec2b",
   "metadata": {
    "ExecuteTime": {
     "end_time": "2024-06-16T02:14:17.652786700Z",
     "start_time": "2024-06-16T02:14:17.449640600Z"
    }
   },
   "outputs": [],
   "source": []
  },
  {
   "cell_type": "markdown",
   "id": "a50a055d",
   "metadata": {},
   "source": [
    "# Viewing the Collected Data\n",
    "\n",
    "\n",
    "During this data collection process, we have established two databases: `data_states.db` and `playwright_codes.db`. The focus will primarily be on the `playwright_codes.db` due to its detailed storage of UI test records.\n",
    "\n",
    "\n",
    "\n",
    "#### `playwright_codes.db`\n",
    "\n",
    "The `playwright_codes.db` database stores detailed information for each record of UI tests conducted. Here are the details for each item stored within this database:\n",
    "\n",
    "- **id**: The unique identifier for the entry in the `playwright_codes` database (integer).\n",
    "- **webpage_id**: The identifier of the corresponding state data in the `data_states` database (integer).\n",
    "- **steps**: Detailed description of the UI test steps (string).\n",
    "- **expectation**: Description of the expected results from the UI test (string).\n",
    "- **screenshot**: Screenshot taken after the UI test is completed.\n",
    "- **html**: The HTML file of the web page after the UI test is completed.\n",
    "- **playwright_code**: The generated Python Playwright code for the UI test.\n",
    "\n",
    "This database is crucial for reviewing the steps taken during each test and analyzing the outcomes against the expectations.\n",
    "\n",
    "\n",
    "\n",
    "#### `data_states.db`\n",
    "\n",
    "The `data_states.db` holds information related to each URL, including HTML files and screenshots. The specific details are as follows:\n",
    "\n",
    "- **id**: The ID of the item in the database.\n",
    "- **hash**: The hash value corresponding to the URL.\n",
    "- **playwright_code**: The Playwright code required to reach the URL, which will be saved in the `state_script` folder.\n",
    "- **url**: The detailed address of the URL.\n",
    "- **html**: The HTML file of the web page, which will be saved in the `html` folder.\n",
    "- **screenshot**: The screenshot of the web page, which will be saved in the `screenshot` folder.\n",
    "- **context**: Context information needed by the Playwright code to access the URL, stored as a JSON file in the `context` folder.\n",
    "\n",
    "The `data_states.db` is updated based on the URLs accessed during data generation. When a new URL is accessed, it is added to this database. This approach is beneficial when we want to test without generating Playwright code from start to finish, allowing us to use the existing state as a pre-condition.\n",
    "\n",
    "our focus will remain on the `playwright_codes.db` for detailed analysis and review of test results."
   ]
  },
  {
   "cell_type": "code",
   "execution_count": 5,
   "id": "8132750b-508d-46bd-be19-356a8a686f6a",
   "metadata": {
    "ExecuteTime": {
     "end_time": "2024-06-16T02:14:17.652786700Z",
     "start_time": "2024-06-16T02:14:17.459571300Z"
    }
   },
   "outputs": [],
   "source": [
    "import subprocess\n",
    "import hashlib\n",
    "import json\n",
    "import os\n",
    "import re\n",
    "import sqlite3\n",
    "import textwrap\n",
    "import time\n",
    "import uuid\n",
    "import asyncio\n",
    "import zipfile\n",
    "# from bs4 import BeautifulSoup, Comment\n",
    "# from playwright.sync_api import sync_playwright\n",
    "# from playwright.async_api import async_playwright"
   ]
  },
  {
   "cell_type": "markdown",
   "id": "840d32f3-d59c-4730-b52e-bb94cc604524",
   "metadata": {},
   "source": [
    "# Function define"
   ]
  },
  {
   "cell_type": "code",
   "execution_count": 6,
   "id": "edb1507d-3ff6-4cee-a4ef-1be0d9f88cff",
   "metadata": {
    "ExecuteTime": {
     "end_time": "2024-06-16T02:14:17.652786700Z",
     "start_time": "2024-06-16T02:14:17.463585200Z"
    }
   },
   "outputs": [],
   "source": [
    "def clear_table_website(table_name):\n",
    "    conn = sqlite3.connect('../data/raw/data_states_v1.db')\n",
    "    cursor = conn.cursor()\n",
    "    cursor.execute(f\"DELETE FROM {table_name}\")\n",
    "    conn.commit()\n",
    "    conn.close()\n",
    "    \n",
    "def db_query_website(sql_query, params=None):\n",
    "    conn = sqlite3.connect('../data/raw/data_states_v1.db')\n",
    "    cursor = conn.cursor()\n",
    "    if params:\n",
    "        cursor.execute(sql_query, params)\n",
    "    else:\n",
    "        cursor.execute(sql_query)\n",
    "    results = cursor.fetchall()\n",
    "    conn.commit()\n",
    "    conn.close()\n",
    "    return results\n",
    "\n",
    "def db_query_test(sql_query, params=None):\n",
    "    conn = sqlite3.connect('../data/raw/playwright_codes_v1.db')\n",
    "    cursor = conn.cursor()\n",
    "    if params:\n",
    "        cursor.execute(sql_query, params)\n",
    "    else:\n",
    "        cursor.execute(sql_query)\n",
    "    results = cursor.fetchall()\n",
    "    conn.commit()\n",
    "    conn.close()\n",
    "    return results\n",
    "\n",
    "def create_website_table_if_not_exists(table_name):\n",
    "    conn = sqlite3.connect('../data/raw/data_states_v1.db')\n",
    "    cursor = conn.cursor()\n",
    "    create_table_sql = f\"\"\"\n",
    "    CREATE TABLE IF NOT EXISTS {table_name} (\n",
    "        id INTEGER PRIMARY KEY,\n",
    "        hash TEXT NOT NULL,\n",
    "        playwright_code TEXT NOT NULL,\n",
    "        url TEXT NOT NULL,\n",
    "        html TEXT NOT NULL,\n",
    "        screenshot TEXT NOT NULL,\n",
    "        context TEXT NOT NULL\n",
    "    )\n",
    "    \"\"\"\n",
    "    cursor.execute(create_table_sql)\n",
    "    conn.commit()\n",
    "    conn.close()\n",
    "\n",
    "def create_test_table_if_not_exists(table_name):\n",
    "    conn = sqlite3.connect('../data/raw/playwright_codes_v1.db')\n",
    "    cursor = conn.cursor()\n",
    "    create_table_sql = f\"\"\"\n",
    "    CREATE TABLE IF NOT EXISTS {table_name} (\n",
    "        id INTEGER PRIMARY KEY,\n",
    "        webpage_id INTEGER NOT NULL,\n",
    "        steps TEXT NOT NULL,\n",
    "        expectation TEXT NOT NULL,\n",
    "        screenshot TEXT NOT NULL,\n",
    "        html TEXT NOT NULL,\n",
    "        playwright_code TEXT NOT NULL\n",
    "    )\n",
    "    \"\"\"\n",
    "    cursor.execute(create_table_sql)\n",
    "    conn.commit()\n",
    "    conn.close()\n",
    "\n",
    "def db_insert_website(sql_query, params, table_name):\n",
    "    conn = sqlite3.connect('../data/raw/data_states_v1.db')\n",
    "    cursor = conn.cursor()\n",
    "    try:\n",
    "        cursor.execute(sql_query, params)\n",
    "    except sqlite3.OperationalError:\n",
    "        create_website_table_if_not_exists(table_name)\n",
    "        cursor.execute(sql_query, params)\n",
    "    conn.commit()\n",
    "    conn.close()\n",
    "\n",
    "def db_insert_test(sql_query, params, table_name):\n",
    "    conn = sqlite3.connect('../data/raw/playwright_codes_v1.db')\n",
    "    cursor = conn.cursor()\n",
    "    try:\n",
    "        cursor.execute(sql_query, params)\n",
    "    except sqlite3.OperationalError:\n",
    "        create_test_table_if_not_exists(table_name)\n",
    "        cursor.execute(sql_query, params)\n",
    "    conn.commit()\n",
    "    conn.close()\n",
    "\n",
    "def db_delete_website(table_name, item_id):\n",
    "    conn = sqlite3.connect('../data/raw/data_states_v1.db')\n",
    "    cursor = conn.cursor()\n",
    "    delete_query = f\"DELETE FROM {table_name} WHERE id = ?\"\n",
    "    cursor.execute(delete_query, (item_id,))\n",
    "    conn.commit()\n",
    "    conn.close()\n",
    "    \n",
    "def db_delete_test(item_id):\n",
    "    conn = sqlite3.connect('../data/raw/playwright_codes_v1.db')\n",
    "    cursor = conn.cursor()\n",
    "    delete_query = f\"DELETE FROM tests WHERE id = ?\"\n",
    "    cursor.execute(delete_query, (item_id,))\n",
    "    conn.commit()\n",
    "    conn.close()\n",
    "    \n",
    "def db_delete_table_website(table_name):\n",
    "    conn = sqlite3.connect('../data/raw/data_states_v1.db')\n",
    "    cursor = conn.cursor()\n",
    "    try:\n",
    "        cursor.execute(f\"DROP TABLE IF EXISTS {table_name}\")\n",
    "    except sqlite3.OperationalError as e:\n",
    "        print(f\"Error occurred: {e}\")\n",
    "    conn.commit()\n",
    "    conn.close()\n",
    "\n",
    "def db_delete_table_test(table_name):\n",
    "    conn = sqlite3.connect('../data/raw/playwright_codes_v1.db')\n",
    "    cursor = conn.cursor()\n",
    "    try:\n",
    "        cursor.execute(f\"DROP TABLE IF EXISTS {table_name}\")\n",
    "    except sqlite3.OperationalError as e:\n",
    "        print(f\"Error occurred: {e}\")\n",
    "    conn.commit()\n",
    "    conn.close()\n",
    "    \n",
    "def get_table_name_from_url(url):\n",
    "    \"\"\"\n",
    "    alway use the same table name\n",
    "    \"\"\"\n",
    "    return 'localhost_8080_cadenza'\n",
    "\n",
    "    \n",
    "def sanitize_table_name(table_name):\n",
    "    # Replace any character that is not a letter, number, or underscore with an underscore\n",
    "    return re.sub(r'\\W', '_', table_name)"
   ]
  },
  {
   "cell_type": "markdown",
   "id": "53feaf1d-0c6e-4a18-bb13-2f8d059748f1",
   "metadata": {},
   "source": [
    "# Main\n",
    "\n",
    "### Data Collection Process Overview\n",
    "\n",
    "During this data collection process, we have established two databases: `data_states.db` and `playwright_codes.db`.\n",
    "\n",
    "#### `playwright_codes.db`\n",
    "\n",
    "The `playwright_codes.db` database stores detailed information for each record of UI tests conducted. Here are the details for each item stored within this database:\n",
    "\n",
    "- **id**: The unique identifier for the entry in the `playwright_codes` database (int).\n",
    "- **webpage_id**: The identifier of the corresponding state data in the `data_states` database (int).\n",
    "- **steps**: Detailed description of the UI test steps (str).\n",
    "- **expectation**: Description of the expected results from the UI test (str).\n",
    "- **screenshot**: Screenshot taken after the UI test is completed.\n",
    "- **html**: The HTML file of the web page after the UI test is completed.\n",
    "- **playwright_code**: The generated Python Playwright code for the UI test.\n",
    "\n",
    "#### `data_states.db`\n",
    "\n",
    "The `data_states.db` holds information related to each URL, including HTML files and screenshots. The specific details are as follows:\n",
    "\n",
    "- **id**: The ID of the item in the database.\n",
    "- **hash**: The hash value corresponding to the URL.\n",
    "- **playwright_code**: The Playwright code required to reach the URL, which will be saved in the `state_script` folder.\n",
    "- **url**: The detailed address of the URL.\n",
    "- **html**: The HTML file of the web page, which will be saved in the `html` folder.\n",
    "- **screenshot**: The screenshot of the web page, which will be saved in the `screenshot` folder.\n",
    "- **context**: Context information needed by the Playwright code to access the URL, stored as a JSON file in the `context` folder.\n",
    "\n",
    "The `data_states.db` is updated based on the URLs accessed during data generation. When a new URL is accessed, it is added to this database. This approach is beneficial when we want to test without generating Playwright code from start to finish, allowing us to use the existing state as a pre-condition.\n"
   ]
  },
  {
   "cell_type": "markdown",
   "id": "40cec974",
   "metadata": {},
   "source": [
    "### Checking the playwright_codes.db database"
   ]
  },
  {
   "cell_type": "code",
   "execution_count": 6,
   "id": "3bad53fd",
   "metadata": {
    "ExecuteTime": {
     "end_time": "2024-06-16T02:14:17.652786700Z",
     "start_time": "2024-06-16T02:14:17.482572700Z"
    }
   },
   "outputs": [],
   "source": []
  },
  {
   "cell_type": "markdown",
   "id": "b3b2c661",
   "metadata": {},
   "source": [
    "please collect data before proceeding with the following steps"
   ]
  },
  {
   "cell_type": "code",
   "execution_count": 6,
   "id": "ffab2555",
   "metadata": {
    "ExecuteTime": {
     "end_time": "2024-06-16T02:14:17.652786700Z",
     "start_time": "2024-06-16T02:14:17.489483300Z"
    }
   },
   "outputs": [],
   "source": []
  },
  {
   "cell_type": "code",
   "execution_count": 11,
   "id": "fa7d8b21-04fd-4f18-89aa-ef0a28145241",
   "metadata": {
    "ExecuteTime": {
     "end_time": "2024-06-16T07:33:59.406802Z",
     "start_time": "2024-06-16T07:33:59.390899400Z"
    }
   },
   "outputs": [
    {
     "data": {
      "text/plain": "[(1,\n  12,\n  '1) Fülle Benutzernamen aus. Expected result: Benutzername wird korrekt eingegeben. 2) Fülle Passwort aus. Expected result: Passwort wird korrekt eingegeben. 3) Klicke auf den Button \"Anmelden\". Expected result: Benutzer wird erfolgreich angemeldet und zur Startseite weitergeleitet.',\n  'Benutzer ist angemeldet. Cadenza Startseite ist sichtbar.',\n  './screenshot\\\\capture__22293a4d-65c5-477f-804b-36e6419fe161.png',\n  './html\\\\capture__95b9b921-9b60-4fe0-8b97-662fa401efbd.html',\n  './test_script\\\\playwright__32d6e6f1-4126-4fa9-a1fc-8a2734752b63.py'),\n (2,\n  14,\n  '1) Klicke auf den Button mit dem angemeldeten Benutzernamen in der Kopfzeile. Expected result: Drop-Down Menü wird angezeigt. 2) Wähle \"Abmelden\" in dem erschienenen Drop-Down Menü. Expected result: Benutzer wird abgemeldet und zur Anmeldeseite weitergeleitet.',\n  'Benutzer ist abgemeldet. Die Log-In Seite ist zu sehen mit einer Information zur erfolgreichen Abmeldung.',\n  './screenshot\\\\capture__7880cc96-0f0a-452f-bc5e-9e5304a6f78c.png',\n  './html\\\\capture__15b884d1-a157-4fea-881e-8016dd5ffbe4.html',\n  './test_script\\\\playwright__ea4aa28b-9acf-418b-9c2b-67adeb3db211.py'),\n (3,\n  16,\n  '1) Öffne Verzeichnis \"Meine Arbeitsmappen\" im Navigator. Expected result: Verzeichnis \"Meine Arbeitsmappen\" wird geöffnet. 2) Klicke auf die Arbeitsmappe \"Ladesäulen\". Expected result: Arbeitsmappe \"Ladesäulen\" wird geöffnet. 3) Klicke auf den Button mit dem Datenbank Symbol in der Kopfzeile. Expected result: Datenmanager wird geöffnet. 4) Klicke auf den Button \"Weitere Daten hinzufügen\" unten im Datenmanager Menü. Expected result: Pop-Up Fenster mit Optionen zur Hinzufügung weiterer Daten wird angezeigt.',\n  'Pop-Up Fenster öffnet sich. Folgende Optionen Daten hinzuzufügen werden angezeigt: \"Aus Datenbestand wählen\", \"Neue Daten importieren\"',\n  './screenshot\\\\capture__e2245bb3-31e6-47cd-97ce-cd6dba2a8c26.png',\n  './html\\\\capture__46a71f85-7c27-4368-b43e-c3191d2c4df2.html',\n  './test_script\\\\playwright__c7316ff7-0c63-47ca-84cf-eb11e0e894b4.py'),\n (4,\n  18,\n  '1) Öffne Verzeichnis \"Meine Arbeitsmappen\" im Navigator. Expected result: Verzeichnis \"Meine Arbeitsmappen\" wird geöffnet. 2) Klicke auf die 3 Punkte bei der Arbeitsmappe \"Ladesäulen\". Expected result: Drop-Down Menü wird angezeigt. 3) Wähle \"Umbenennen …\" in dem Drop-Down Menü aus. Expected result: Pop-Up Fenster zur Umbenennung wird angezeigt. 4) Schreibe den neuen Namen \"E-Auto Ladesäulen\" in das Eingabefeld im Pop-Up Fenster. Expected result: Neuer Name wird korrekt eingegeben. 5) Klicke auf den Button \"Umbenennen\" im Pop-Up Fenster. Expected result: Der Name der Arbeitsmappe wird erfolgreich geändert.',\n  'Pop-Up Fenster schließt sich. Die letzte Ansicht ist zu sehen. Die Arbeitsmappe wird mit dem neuen Namen angezeigt.',\n  './screenshot\\\\capture__ef72c36e-7d7c-4bf8-932b-0c8e8f7ac2d7.png',\n  './html\\\\capture__25dca5c0-a206-4daf-a3c2-8b1ed133de89.html',\n  './test_script\\\\playwright__57ce918d-d8e8-4af2-9228-97114ef858f8.py'),\n (5,\n  20,\n  '1) Öffne Verzeichnis \"Meine Arbeitsmappen\" im Navigator. Expected result: Verzeichnis \"Meine Arbeitsmappen\" wird geöffnet. 2) Öffne Arbeitsmappe \"Ladesäulen\". Expected result: Arbeitsmappe \"Ladesäulen\" wird geöffnet. 3) Klicke auf Arbeitsblatt \"Ausbau nach Bundesländern absolut vs. Relativ\". Expected result: Arbeitsblatt \"Ausbau nach Bundesländern absolut vs. Relativ\" wird geöffnet. 4) Wähle eine Tabellensicht aus. Expected result: Tabellensicht wird angezeigt. 5) Wähle eine Zeile aus. Expected result: Zeile wird ausgewählt. 6) Klicke auf den Button mit dem Pfeil. Expected result: Drop-Down Menü mit Download Formaten öffnet sich.',\n  'Drop-Down Menü öffnet sich mit einer Auswahl zum Dateiformat de Downloads: Excel-Datei, CSV-Datei, GeoPackage-Datei.',\n  './screenshot\\\\capture__5d05c8a1-ad5f-4b38-9338-6082716b22fe.png',\n  './html\\\\capture__062f9f2a-b5ab-4052-b71a-d750b79261fe.html',\n  './test_script\\\\playwright__918c62b5-6355-4d52-8470-6364422a6e7d.py'),\n (6,\n  23,\n  '1) Öffne Verzeichnis \"Meine Arbeitsmappen\" im Navigator. Expected result: Verzeichnis \"Meine Arbeitsmappen\" wird geöffnet. 2) Öffne Arbeitsmappe \"Ladesäulen\". Expected result: Arbeitsmappe \"Ladesäulen\" wird geöffnet. 3) Klicke auf Arbeitsblatt \"Ausbau nach Bundesländern absolut vs. Relativ\". Expected result: Arbeitsblatt \"Ausbau nach Bundesländern absolut vs. Relativ\" wird geöffnet. 4) Wähle eine Tabellensicht aus. Expected result: Tabellensicht wird als ausgewählt angezeigt. 5) Wähle Einzelwert in Tabelle aus. Expected result: Einzelwert wird als ausgewählt angezeigt. 6) Klicke auf den Button \"Einzelwerte anzeigen\". Expected result: Pop-Up Fenster öffnet sich mit Einzelwerten.',\n  'Pop-Up Fenster öffnet sich mit den Einzelwerten zum ausgewählten zusammengestetzten Wert.',\n  './screenshot\\\\capture__8b24c94e-30cc-4354-8de7-29e9dc7d3d45.png',\n  './html\\\\capture__d0a613fc-e383-4c05-97e5-434ba9891bb3.html',\n  './test_script\\\\playwright__c8306fce-1641-40ae-ae33-d9858b8a904c.py'),\n (7,\n  25,\n  '1) Öffne Verzeichnis \"Meine Arbeitsmappen\" im Navigator. Expected result: Verzeichnis \"Meine Arbeitsmappen\" wird geöffnet. 2) Öffne Arbeitsmappe \"Ladesäulen\". Expected result: Arbeitsmappe \"Ladesäulen\" wird geöffnet. 3) Klicke auf Arbeitsblatt \"Übersicht\". Expected result: Arbeitsblatt \"Übersicht\" wird angezeigt. 4) Öffne Designer. Expected result: Designer wird geöffnet. 5) Wähle Kartenansicht aus. Expected result: Kartenansicht wird als ausgewählt angezeigt. 6) Klicke auf das Plus neben dem \"Layer\" Reiter im Designer. Expected result: Pop-Up Fenster öffnet sich mit verschiedenen Layer Optionen. 7) Wähle \"Neuer Datensicht-Layer\" im Pop-Up Fenster aus. Expected result: Neuer Datensicht-Layer wird erstellt und im Designer hinzugefügt und ist mit aufgelistet. 8) Klicke auf neu erstellte default layer \"Flächen\". Expected result: Default layer \"Flächen\" wird ausgewählt. 9) Klicke auf Drop-Down Menü \"Visualisierungstyp\". Expected result: Drop-Down Menü wird angezeigt. 10) Wähle Heatmap im Drop-Down Menü aus. Expected result: Heatmap wird ausgewählt. 11) Klicke auf das Plus Symbol beim Reiter \"Punkte\". Drop-Down Menü mit möglichen Daten für die Punkte werden angezeigt. 12) Wähle eine Dimension aus für die Punkte der Heatmap. Expected result: Dimension wird ausgewählt. Heatmap ist in der Karte zu sehen.',\n  'Karte verzeichnet zusätzllich eine Heatmap für die Ladestation Standpunkte.',\n  './screenshot\\\\capture__0551a10f-be18-482d-91d5-e12979f8e52e.png',\n  './html\\\\capture__c1e7ae72-f230-4b01-af74-93eb35240ed2.html',\n  './test_script\\\\playwright__894481ca-d2c9-4398-bd12-7f3fcc0be198.py'),\n (8,\n  27,\n  '1) Öffne Verzeichnis \"Meine Arbeitsmappen\" im Navigator. Expected result: Verzeichnis \"Meine Arbeitsmappen\" wird geöffnet. 2) Öffne Arbeitsmappe \"Ladesäulen\". Expected result: Arbeitsmappe \"Ladesäulen\" wird geöffnet. 3) Klicke auf Arbeitsblatt \"Übersicht\". Expected result: Arbeitsblatt \"Übersicht\" wird angezeigt. 4) Wähle eine Text-Sicht aus. Expected result: Text wird als ausgewählt angezeigt. 5) Öffne den Designer. Expected result: Designer wird geöffnet. 6) Klicke auf Drop-Down Menü \"Hintergrundfarbe\" im Designer Menü. Expected result: Drop-Down Menü mit einer Farbauswahl öffnet sich 7) Wähle neue Hintergrundfarbe aus. Expected result: Hintergrundfarbe in dem ausgewählten Textfeld hat sich geändert.',\n  'Hintergundfarbe in der ausgwählten Text-Sich hat sich geändert entsprechend der getroffenen Auswahl im Designer.',\n  './screenshot\\\\capture__15a15897-d4bb-42dd-bc6e-4741909de2a6.png',\n  './html\\\\capture__be2d04ed-5773-40d6-a683-37a8b025d6c3.html',\n  './test_script\\\\playwright__05a97397-0bb7-4c20-8295-a593ef6d8b77.py'),\n (9,\n  29,\n  '1) Öffne Verzeichnis \"Meine Arbeitsmappen\" im Navigator. Expected result: Verzeichnis \"Meine Arbeitsmappen\" wird geöffnet. 2) Öffne Arbeitsmappe \"Ladesäulen\". Expected result: Arbeitsmappe \"Ladesäulen\" wird geöffnet. 3) Klicke auf Arbeitsblatt \"Übersicht\". Expected result: Arbeitsblatt \"Übersicht\" wird angezeigt. 4) Wähle eine Indikator-Sicht aus. Expected result: Indikator-Sicht ist ausgewählt. 5) Klicke auf das Kreissymbol in der Indikator Sicht. Expected result: Filter Kontext Fenster öffnet sich. 6) Klicke auf das Plus in dem geöffneten Kontext. Expectedn result: Drop-Down Menü öffnet sich zur Auswahl von neuem Filter 7) Wähle eine Dimension unter \"Ladesaule\" aus, \"Inbetriebnahme\". Expected result: Zeitachse Slider mit dem Titel \"Inbetriebnahme\" ist der Filterauswahl hinzugefügt. 8) Begrenze den Zeitraum auf das letztes Jahr. Expected result: Zeitachse Slider Startpunkt ist bis auf das letzte Jahr vorgerückt. Die Daten haben sich geändert und beinhalten nur solche in dem Zeitraum.',\n  'Die angezeigte Kennzahl Nummer hat sich geändert.',\n  './screenshot\\\\capture__46407b68-ef60-4b4b-8020-0723311608f2.png',\n  './html\\\\capture__f688a1e0-a011-4dc9-a4ea-ca15bd4bc44e.html',\n  './test_script\\\\playwright__537dab87-87e3-4b4d-bb62-b78c1399e2e6.py'),\n (10,\n  31,\n  '1) Klicke auf den Button in der Kopfzeile mit dem Zahnrad. Expected result: Weiterleitung zu den Einstellungen Startseite. 2) Klicke auf \"Benutzerrollen, Freigabestufen\" unter dem Reiter \"Rechte\" . Expected result: Weiterleitung zu der Benutzerrollen Übersicht. 3) Klicke auf den Button \"Neue Benutzerrollen\". Expected result: Pop-Up Fenster öffnet sich zur Eingabe der Informationen zur neuen Benutzerrolle. 4) Gib den Benutzerrollen Namen \"Tester\" in das Eingabefeld ein. Expected result: Benutzerrollen Name ist korrekt eingegeben. 5) Klicke auf den Button \"Erstellen\". Expected result: Fenster schließt sich. Benutzerrolle ist erstellt und wird in der Übersicht gelistet.',\n  'Neue Benutzerrolle ist erstellt. Die Einstellungsseite zu der neu erstellten Benutzerrolle ist zu sehen.',\n  './screenshot\\\\capture__5f128709-1aeb-4bb8-b8b4-298aebbd9f3e.png',\n  './html\\\\capture__c190c518-9543-4ec2-a8ea-edd8b28212a6.html',\n  './test_script\\\\playwright__f63111a2-ffed-4c88-a049-e4606ae35f7d.py'),\n (11,\n  33,\n  '',\n  '',\n  './screenshot\\\\capture__873fc787-f47c-4678-852d-5c1c46b35cba.png',\n  './html\\\\capture__c82dda03-ecbc-4330-950a-cfec528bc1c2.html',\n  './test_script\\\\playwright__5d793f00-0928-42d8-952d-5d758932d4c4.py'),\n (12,\n  35,\n  '1) Klicke auf Einstellungssymbol in der Kopfzeile. Expected result: Weiterleitung zur Übersicht zu den allgemeinen Einstellungen.',\n  'Startseite des Einstellungsmenüs ist sichtbar.',\n  './screenshot\\\\capture__abfde0df-c686-4915-bf9d-e70afe11d2fd.png',\n  './html\\\\capture__19c29604-87d6-4fc2-a155-07155ab9cd80.html',\n  './test_script\\\\playwright__6574b4e0-5cb6-4d1a-b7c2-199eb6e163d5.py'),\n (13,\n  37,\n  '1) Klicke auf den Button in der Kopfzeile mit dem Zahnrad. Expected result: Weiterleitung zu den Einstellungen Startseite. 2) Klicke auf \"Benutzerrollen, Freigabestufen\" unter dem Reiter \"Rechte\" . Expected result: Weiterleitung zu der Benutzerrollen Übersicht. 3) Wähle Benutzerrolle \"Viewer\" aus. Expected result: Weiterleitung zur Seite mit den einzelnen Benutzerrollen EInstellungen. 4) Klicke auf das Fenster \"Rechte\". Expected result: Kontext Fenster öffnet sich und aktiviert Interaktion mit gelisteten Rechten. 5) Setze einen Haken bei dem Recht \"Daten als Shapefile exportieren\" unter \"Datenimport/Datenexport\". Expected result: Schrift wird grün und ein Haken statt einem Strich ist zu sehen. 6) Klicke auf den Button \"Speichern\" am Ende des Fensters. Expected result: Kontextfenster schließt sich und die neu getroffene Auswahl st übernommen.',\n  'Neues Recht ist dem Benutzer gewährt. Das ausgewählte Recht ist in grün eingefärbt und mit einem Haken statt mit einem Strich versehen.',\n  './screenshot\\\\capture__0aeef1c3-7179-4e8c-b9d8-5325a177017f.png',\n  './html\\\\capture__a1b0b0ed-31e5-439b-8d33-e673f2173ec7.html',\n  './test_script\\\\playwright__28a8960e-44a7-497e-88f3-bcfc3a901db4.py'),\n (14,\n  39,\n  '1) Öffne Verzeichnis \"Meine Arbeitsmappen\" im Navigator. Expected result: Verzeichnis \"Meine Arbeitsmappen\" wird geöffnet. 2) Öffne Arbeitsmappe \"Ladesäulen\". Expected result: Arbeitsmappe \"Ladesäulen\" wird geöffnet. 3) Klicke auf Arbeitsblatt \"Übersicht\". Expected result: Arbeitsblatt \"Übersicht\" wird angezeigt. 4) Klicke auf das Lesezeichen Symbol in der Kopfzeile. Expected result: Context Fenster öffnet sich mit der Auflistung der vorhandenen Zwischenstände. 5) Klicke auf den Button \"Neuer Zwischenstand\". Expected result: Pop-Up Fenster öffnet sich um den neuen Zwischenstand zu beschreiben. 6) Fülle das Feld für den Namen des Zwischenstandes aus. Expected result: Name ist korrekt eingegeben. 7) Klicke auf den Button \"Erstellen\". Expected result: Zwischenstand wird erstellt und in der Auflistung angezeigt.',\n  'Neuer Zwischenstand wurde erstellt und ist sichtbar in der Auflistung der Zwischenstände.',\n  './screenshot\\\\capture__01151bfb-35b5-4fde-b915-4df6e8cc7fa3.png',\n  './html\\\\capture__b1827113-1a3a-43bb-ad12-680419353287.html',\n  './test_script\\\\playwright__a5214032-8abc-4694-a8e4-22503841553b.py'),\n (15,\n  41,\n  '1) Klicke auf den Button in der Kopfzeile mit dem Zahnrad. 2) Klicke auf \"Benutzerrollen, Freigabestufen\" unter dem Reiter \"Rechte\". 3) Wähle Benutzerrolle aus. 4) Klicke auf das Mülleimer Symbol bei der zu löschenden Benutzerrolle. 5) Klicke auf den Button \"Löschen\" in dem Pop-Up Bestätigungsfenster.',\n  '',\n  './screenshot\\\\capture__80b0a2b8-094a-4429-9f4b-9c6eeda710b8.png',\n  './html\\\\capture__861cd43a-cc21-4bda-9dee-7ec45f5661f6.html',\n  './test_script\\\\playwright__4a4800e7-4146-46f7-831a-52f7029b4e1a.py'),\n (16,\n  43,\n  '1) Klicke auf den Button in der Kopfzeile mit dem Zahnrad. Expected result: Weiterleitung zu den Einstellungen Startseite. 2) Klicke auf \"Benutzerrollen, Freigabestufen\" unter dem Reiter \"Rechte\" . Expected result: Weiterleitung zu der Benutzerrollen Übersicht. 3) Klicke auf das Mülleimer Symbol bei der zu löschenden Benutzerrolle. Expected result:  Pop-Up Fenster öffnet sich zur Bestätigung der Löschung. 5) Klicke auf den Button \"Löschen\" in dem Pop-Up Bestätigungsfenster. Expected result: Benutzerrolle wird gelöscht und ist nicht mehr gelistet in der Übersicht.',\n  'Benutzerrolle ist gelöscht. Die gelöschte Nutzerrolle ist nicht mehr gelistet unter dem Benutzerrollen Reiter.',\n  './screenshot\\\\capture__e806c741-1f16-4d86-a510-a4ce2da49be1.png',\n  './html\\\\capture__1ac3c6d2-0c0a-44e2-ab99-83404f82da03.html',\n  './test_script\\\\playwright__e2f9d78f-4d7b-43c8-ba00-963964e7f307.py'),\n (17,\n  45,\n  '1) Öffne Verzeichnis \"Meine Arbeitsmappen\" im Navigator. Expected result: Verzeichnis \"Meine Arbeitsmappen\" wird geöffnet. 2) Öffne Arbeitsmappe \"Ladesäulen\". Expected result: Arbeitsmappe \"Ladesäulen\" wird geöffnet. 3) Klicke auf Arbeitsblatt \"Übersicht\". Expected result: Arbeitsblatt \"Übersicht\" wird angezeigt. 4) Öffne Analysekontext. Expected result: Seitenmenü Analysekontext öffnet sich links für das ganze Arbeitsblatt. 5) Klicke auf das Plus Symbol. Expected result: Drop-Down Menü öffnet sich. 5) Wähle im Drop-Down Menü \"Attributfilter erstellen …\" aus. Expected result: Untergliedertes Drop-Down Menü öffnet sich. 6) Wähle Attribut \"Steckertyp 1\" unter dem Reiter \"Ladesaulen\" aus. Expected result: \"Steckertyp 1\" wird als Filter zu dem Analysekontext hinzugefügt.',\n  'Im Analysekontext ist der neue Attributfilter zu sehen und zu benutzen. Bei Benutzung ändern sich entsprechend die Kennzahlen.',\n  './screenshot\\\\capture__a32bae89-050e-47e2-b0e9-439173a5c2a0.png',\n  './html\\\\capture__b2557a76-394b-4197-afe4-9fe9f1a52779.html',\n  './test_script\\\\playwright__67919eea-1a0f-4c94-9d48-486058a64dc5.py'),\n (18,\n  47,\n  '1) Öffne Verzeichnis \"Meine Arbeitsmappen\" im Navigator. Expected result: Verzeichnis \"Meine Arbeitsmappen\" wird geöffnet. 2) Öffne Arbeitsmappe \"Ladesäulen\". Expected result: Arbeitsmappe \"Ladesäulen\" wird geöffnet. 3) Klicke auf Arbeitsblatt \"Übersicht\". Expected result: Arbeitsblatt \"Übersicht\" wird angezeigt. 4) Klicke auf das 3 Punkte Symbol in der Kopfzeile. Expected result: Drop-Down Menü  öffnet sich mit weiteren Optionene. 4) Wähle in dem Drop-Down Menü \"Arbeitsmappe verwalten \" aus. Expected result: Pop-Up Fenster öffnet sich mit unterschiedlichen Optionen zur Verwaltung der Arbeitsmappe. 5) Wähle den Reiter \"Arbeitsblätter\" in dem Pop-Up Fenster. Expected result:  Pop-Up Fenster zeigt Auflistung der einzelnen Arbeitsblätter der Arbeitsmappe. 6) Klicke auf das Augen Symbol bei dem letzten Arbeitsblatt \"Analyse Landkreis\". Expected result: Symbol ändert sich. Arbeitsblatt wird ausgeblendet. 7) Schließe Pop-Up Fenster \"Arbeitsmappe verwalten\". Expected result: Das Pop-Up Fenster schießt sich. 8) Klicke auf das Speichern Symbol in der Kopfzeile. Expected result: Die Arbeitsmappe speichert die Änderung der Sichtbarkeit der Arbeitsblätter ab.',\n  'SIchtbarkeit der Arbeitsblätter in der Arbeitsmappe hat sich geändert. In dem Navigator und weiteren Verzeichnissen zu sehen.',\n  './screenshot\\\\capture__d5ddda7a-dd3d-40a4-aa50-1ada93a978f6.png',\n  './html\\\\capture__255c0b1a-78f7-4c20-808d-675d885b6187.html',\n  './test_script\\\\playwright__d6b2e9fa-0890-4ac7-ba50-96c67f82e9d4.py')]"
     },
     "execution_count": 11,
     "metadata": {},
     "output_type": "execute_result"
    }
   ],
   "source": [
    "# check the playwright_codes.db \n",
    "items = db_query_test(f\"SELECT * FROM tests\")\n",
    "items"
   ]
  },
  {
   "cell_type": "code",
   "execution_count": 28,
   "outputs": [
    {
     "data": {
      "text/plain": "16"
     },
     "execution_count": 28,
     "metadata": {},
     "output_type": "execute_result"
    }
   ],
   "source": [
    "len(items)"
   ],
   "metadata": {
    "collapsed": false,
    "ExecuteTime": {
     "end_time": "2024-06-16T07:46:28.237420900Z",
     "start_time": "2024-06-16T07:46:28.221423700Z"
    }
   }
  },
  {
   "cell_type": "code",
   "execution_count": 23,
   "id": "7646114a",
   "metadata": {
    "ExecuteTime": {
     "end_time": "2024-06-16T07:38:33.274174800Z",
     "start_time": "2024-06-16T07:38:33.270242300Z"
    }
   },
   "outputs": [
    {
     "name": "stdout",
     "output_type": "stream",
     "text": [
      "screenshot_path :  ./screenshot\\capture__80b0a2b8-094a-4429-9f4b-9c6eeda710b8.png\n",
      "html_path :  ./html\\capture__861cd43a-cc21-4bda-9dee-7ec45f5661f6.html\n",
      "playwright_code_path :  ./test_script\\playwright__4a4800e7-4146-46f7-831a-52f7029b4e1a.py\n"
     ]
    }
   ],
   "source": [
    "# get the first item\n",
    "item_0 = items[11]\n",
    "\n",
    "playwright_codes_id = item_0[0]\n",
    "data_states_id = item_0[1]\n",
    "description = item_0[2]\n",
    "expectation = item_0[3]\n",
    "screenshot_path = item_0[4]\n",
    "html_path = item_0[5]\n",
    "playwright_code_path = item_0[6]\n",
    "\n",
    "print(\"screenshot_path : \", screenshot_path)\n",
    "print(\"html_path : \", html_path)\n",
    "print(\"playwright_code_path : \", playwright_code_path)"
   ]
  },
  {
   "cell_type": "markdown",
   "id": "7239fcff",
   "metadata": {},
   "source": [
    "You can verify this by going to the test_script folder, in the terminal `python playwright__8e0a5d33-118a-4442-9703-4f29165e6f03.py`"
   ]
  },
  {
   "cell_type": "markdown",
   "id": "2d76bb96",
   "metadata": {},
   "source": [
    "if you want to delete one item, you can use following function with the `playwright_codes_id`"
   ]
  },
  {
   "cell_type": "code",
   "execution_count": 24,
   "id": "270c4f2e",
   "metadata": {
    "ExecuteTime": {
     "end_time": "2024-06-16T07:38:45.803862700Z",
     "start_time": "2024-06-16T07:38:45.786487200Z"
    }
   },
   "outputs": [],
   "source": [
    "db_delete_test(playwright_codes_id)"
   ]
  },
  {
   "cell_type": "code",
   "execution_count": 26,
   "id": "6be89fbf",
   "metadata": {
    "ExecuteTime": {
     "end_time": "2024-06-16T07:40:17.361402700Z",
     "start_time": "2024-06-16T07:40:17.345673600Z"
    }
   },
   "outputs": [
    {
     "data": {
      "text/plain": "[(1,\n  12,\n  '1) Fülle Benutzernamen aus. Expected result: Benutzername wird korrekt eingegeben. 2) Fülle Passwort aus. Expected result: Passwort wird korrekt eingegeben. 3) Klicke auf den Button \"Anmelden\". Expected result: Benutzer wird erfolgreich angemeldet und zur Startseite weitergeleitet.',\n  'Benutzer ist angemeldet. Cadenza Startseite ist sichtbar.',\n  './screenshot\\\\capture__22293a4d-65c5-477f-804b-36e6419fe161.png',\n  './html\\\\capture__95b9b921-9b60-4fe0-8b97-662fa401efbd.html',\n  './test_script\\\\playwright__32d6e6f1-4126-4fa9-a1fc-8a2734752b63.py'),\n (2,\n  14,\n  '1) Klicke auf den Button mit dem angemeldeten Benutzernamen in der Kopfzeile. Expected result: Drop-Down Menü wird angezeigt. 2) Wähle \"Abmelden\" in dem erschienenen Drop-Down Menü. Expected result: Benutzer wird abgemeldet und zur Anmeldeseite weitergeleitet.',\n  'Benutzer ist abgemeldet. Die Log-In Seite ist zu sehen mit einer Information zur erfolgreichen Abmeldung.',\n  './screenshot\\\\capture__7880cc96-0f0a-452f-bc5e-9e5304a6f78c.png',\n  './html\\\\capture__15b884d1-a157-4fea-881e-8016dd5ffbe4.html',\n  './test_script\\\\playwright__ea4aa28b-9acf-418b-9c2b-67adeb3db211.py'),\n (3,\n  16,\n  '1) Öffne Verzeichnis \"Meine Arbeitsmappen\" im Navigator. Expected result: Verzeichnis \"Meine Arbeitsmappen\" wird geöffnet. 2) Klicke auf die Arbeitsmappe \"Ladesäulen\". Expected result: Arbeitsmappe \"Ladesäulen\" wird geöffnet. 3) Klicke auf den Button mit dem Datenbank Symbol in der Kopfzeile. Expected result: Datenmanager wird geöffnet. 4) Klicke auf den Button \"Weitere Daten hinzufügen\" unten im Datenmanager Menü. Expected result: Pop-Up Fenster mit Optionen zur Hinzufügung weiterer Daten wird angezeigt.',\n  'Pop-Up Fenster öffnet sich. Folgende Optionen Daten hinzuzufügen werden angezeigt: \"Aus Datenbestand wählen\", \"Neue Daten importieren\"',\n  './screenshot\\\\capture__e2245bb3-31e6-47cd-97ce-cd6dba2a8c26.png',\n  './html\\\\capture__46a71f85-7c27-4368-b43e-c3191d2c4df2.html',\n  './test_script\\\\playwright__c7316ff7-0c63-47ca-84cf-eb11e0e894b4.py'),\n (4,\n  18,\n  '1) Öffne Verzeichnis \"Meine Arbeitsmappen\" im Navigator. Expected result: Verzeichnis \"Meine Arbeitsmappen\" wird geöffnet. 2) Klicke auf die 3 Punkte bei der Arbeitsmappe \"Ladesäulen\". Expected result: Drop-Down Menü wird angezeigt. 3) Wähle \"Umbenennen …\" in dem Drop-Down Menü aus. Expected result: Pop-Up Fenster zur Umbenennung wird angezeigt. 4) Schreibe den neuen Namen \"E-Auto Ladesäulen\" in das Eingabefeld im Pop-Up Fenster. Expected result: Neuer Name wird korrekt eingegeben. 5) Klicke auf den Button \"Umbenennen\" im Pop-Up Fenster. Expected result: Der Name der Arbeitsmappe wird erfolgreich geändert.',\n  'Pop-Up Fenster schließt sich. Die letzte Ansicht ist zu sehen. Die Arbeitsmappe wird mit dem neuen Namen angezeigt.',\n  './screenshot\\\\capture__ef72c36e-7d7c-4bf8-932b-0c8e8f7ac2d7.png',\n  './html\\\\capture__25dca5c0-a206-4daf-a3c2-8b1ed133de89.html',\n  './test_script\\\\playwright__57ce918d-d8e8-4af2-9228-97114ef858f8.py'),\n (5,\n  20,\n  '1) Öffne Verzeichnis \"Meine Arbeitsmappen\" im Navigator. Expected result: Verzeichnis \"Meine Arbeitsmappen\" wird geöffnet. 2) Öffne Arbeitsmappe \"Ladesäulen\". Expected result: Arbeitsmappe \"Ladesäulen\" wird geöffnet. 3) Klicke auf Arbeitsblatt \"Ausbau nach Bundesländern absolut vs. Relativ\". Expected result: Arbeitsblatt \"Ausbau nach Bundesländern absolut vs. Relativ\" wird geöffnet. 4) Wähle eine Tabellensicht aus. Expected result: Tabellensicht wird angezeigt. 5) Wähle eine Zeile aus. Expected result: Zeile wird ausgewählt. 6) Klicke auf den Button mit dem Pfeil. Expected result: Drop-Down Menü mit Download Formaten öffnet sich.',\n  'Drop-Down Menü öffnet sich mit einer Auswahl zum Dateiformat de Downloads: Excel-Datei, CSV-Datei, GeoPackage-Datei.',\n  './screenshot\\\\capture__5d05c8a1-ad5f-4b38-9338-6082716b22fe.png',\n  './html\\\\capture__062f9f2a-b5ab-4052-b71a-d750b79261fe.html',\n  './test_script\\\\playwright__918c62b5-6355-4d52-8470-6364422a6e7d.py'),\n (6,\n  23,\n  '1) Öffne Verzeichnis \"Meine Arbeitsmappen\" im Navigator. Expected result: Verzeichnis \"Meine Arbeitsmappen\" wird geöffnet. 2) Öffne Arbeitsmappe \"Ladesäulen\". Expected result: Arbeitsmappe \"Ladesäulen\" wird geöffnet. 3) Klicke auf Arbeitsblatt \"Ausbau nach Bundesländern absolut vs. Relativ\". Expected result: Arbeitsblatt \"Ausbau nach Bundesländern absolut vs. Relativ\" wird geöffnet. 4) Wähle eine Tabellensicht aus. Expected result: Tabellensicht wird als ausgewählt angezeigt. 5) Wähle Einzelwert in Tabelle aus. Expected result: Einzelwert wird als ausgewählt angezeigt. 6) Klicke auf den Button \"Einzelwerte anzeigen\". Expected result: Pop-Up Fenster öffnet sich mit Einzelwerten.',\n  'Pop-Up Fenster öffnet sich mit den Einzelwerten zum ausgewählten zusammengestetzten Wert.',\n  './screenshot\\\\capture__8b24c94e-30cc-4354-8de7-29e9dc7d3d45.png',\n  './html\\\\capture__d0a613fc-e383-4c05-97e5-434ba9891bb3.html',\n  './test_script\\\\playwright__c8306fce-1641-40ae-ae33-d9858b8a904c.py'),\n (7,\n  25,\n  '1) Öffne Verzeichnis \"Meine Arbeitsmappen\" im Navigator. Expected result: Verzeichnis \"Meine Arbeitsmappen\" wird geöffnet. 2) Öffne Arbeitsmappe \"Ladesäulen\". Expected result: Arbeitsmappe \"Ladesäulen\" wird geöffnet. 3) Klicke auf Arbeitsblatt \"Übersicht\". Expected result: Arbeitsblatt \"Übersicht\" wird angezeigt. 4) Öffne Designer. Expected result: Designer wird geöffnet. 5) Wähle Kartenansicht aus. Expected result: Kartenansicht wird als ausgewählt angezeigt. 6) Klicke auf das Plus neben dem \"Layer\" Reiter im Designer. Expected result: Pop-Up Fenster öffnet sich mit verschiedenen Layer Optionen. 7) Wähle \"Neuer Datensicht-Layer\" im Pop-Up Fenster aus. Expected result: Neuer Datensicht-Layer wird erstellt und im Designer hinzugefügt und ist mit aufgelistet. 8) Klicke auf neu erstellte default layer \"Flächen\". Expected result: Default layer \"Flächen\" wird ausgewählt. 9) Klicke auf Drop-Down Menü \"Visualisierungstyp\". Expected result: Drop-Down Menü wird angezeigt. 10) Wähle Heatmap im Drop-Down Menü aus. Expected result: Heatmap wird ausgewählt. 11) Klicke auf das Plus Symbol beim Reiter \"Punkte\". Drop-Down Menü mit möglichen Daten für die Punkte werden angezeigt. 12) Wähle eine Dimension aus für die Punkte der Heatmap. Expected result: Dimension wird ausgewählt. Heatmap ist in der Karte zu sehen.',\n  'Karte verzeichnet zusätzllich eine Heatmap für die Ladestation Standpunkte.',\n  './screenshot\\\\capture__0551a10f-be18-482d-91d5-e12979f8e52e.png',\n  './html\\\\capture__c1e7ae72-f230-4b01-af74-93eb35240ed2.html',\n  './test_script\\\\playwright__894481ca-d2c9-4398-bd12-7f3fcc0be198.py'),\n (8,\n  27,\n  '1) Öffne Verzeichnis \"Meine Arbeitsmappen\" im Navigator. Expected result: Verzeichnis \"Meine Arbeitsmappen\" wird geöffnet. 2) Öffne Arbeitsmappe \"Ladesäulen\". Expected result: Arbeitsmappe \"Ladesäulen\" wird geöffnet. 3) Klicke auf Arbeitsblatt \"Übersicht\". Expected result: Arbeitsblatt \"Übersicht\" wird angezeigt. 4) Wähle eine Text-Sicht aus. Expected result: Text wird als ausgewählt angezeigt. 5) Öffne den Designer. Expected result: Designer wird geöffnet. 6) Klicke auf Drop-Down Menü \"Hintergrundfarbe\" im Designer Menü. Expected result: Drop-Down Menü mit einer Farbauswahl öffnet sich 7) Wähle neue Hintergrundfarbe aus. Expected result: Hintergrundfarbe in dem ausgewählten Textfeld hat sich geändert.',\n  'Hintergundfarbe in der ausgwählten Text-Sich hat sich geändert entsprechend der getroffenen Auswahl im Designer.',\n  './screenshot\\\\capture__15a15897-d4bb-42dd-bc6e-4741909de2a6.png',\n  './html\\\\capture__be2d04ed-5773-40d6-a683-37a8b025d6c3.html',\n  './test_script\\\\playwright__05a97397-0bb7-4c20-8295-a593ef6d8b77.py'),\n (9,\n  29,\n  '1) Öffne Verzeichnis \"Meine Arbeitsmappen\" im Navigator. Expected result: Verzeichnis \"Meine Arbeitsmappen\" wird geöffnet. 2) Öffne Arbeitsmappe \"Ladesäulen\". Expected result: Arbeitsmappe \"Ladesäulen\" wird geöffnet. 3) Klicke auf Arbeitsblatt \"Übersicht\". Expected result: Arbeitsblatt \"Übersicht\" wird angezeigt. 4) Wähle eine Indikator-Sicht aus. Expected result: Indikator-Sicht ist ausgewählt. 5) Klicke auf das Kreissymbol in der Indikator Sicht. Expected result: Filter Kontext Fenster öffnet sich. 6) Klicke auf das Plus in dem geöffneten Kontext. Expectedn result: Drop-Down Menü öffnet sich zur Auswahl von neuem Filter 7) Wähle eine Dimension unter \"Ladesaule\" aus, \"Inbetriebnahme\". Expected result: Zeitachse Slider mit dem Titel \"Inbetriebnahme\" ist der Filterauswahl hinzugefügt. 8) Begrenze den Zeitraum auf das letztes Jahr. Expected result: Zeitachse Slider Startpunkt ist bis auf das letzte Jahr vorgerückt. Die Daten haben sich geändert und beinhalten nur solche in dem Zeitraum.',\n  'Die angezeigte Kennzahl Nummer hat sich geändert.',\n  './screenshot\\\\capture__46407b68-ef60-4b4b-8020-0723311608f2.png',\n  './html\\\\capture__f688a1e0-a011-4dc9-a4ea-ca15bd4bc44e.html',\n  './test_script\\\\playwright__537dab87-87e3-4b4d-bb62-b78c1399e2e6.py'),\n (10,\n  31,\n  '1) Klicke auf den Button in der Kopfzeile mit dem Zahnrad. Expected result: Weiterleitung zu den Einstellungen Startseite. 2) Klicke auf \"Benutzerrollen, Freigabestufen\" unter dem Reiter \"Rechte\" . Expected result: Weiterleitung zu der Benutzerrollen Übersicht. 3) Klicke auf den Button \"Neue Benutzerrollen\". Expected result: Pop-Up Fenster öffnet sich zur Eingabe der Informationen zur neuen Benutzerrolle. 4) Gib den Benutzerrollen Namen \"Tester\" in das Eingabefeld ein. Expected result: Benutzerrollen Name ist korrekt eingegeben. 5) Klicke auf den Button \"Erstellen\". Expected result: Fenster schließt sich. Benutzerrolle ist erstellt und wird in der Übersicht gelistet.',\n  'Neue Benutzerrolle ist erstellt. Die Einstellungsseite zu der neu erstellten Benutzerrolle ist zu sehen.',\n  './screenshot\\\\capture__5f128709-1aeb-4bb8-b8b4-298aebbd9f3e.png',\n  './html\\\\capture__c190c518-9543-4ec2-a8ea-edd8b28212a6.html',\n  './test_script\\\\playwright__f63111a2-ffed-4c88-a049-e4606ae35f7d.py'),\n (12,\n  35,\n  '1) Klicke auf Einstellungssymbol in der Kopfzeile. Expected result: Weiterleitung zur Übersicht zu den allgemeinen Einstellungen.',\n  'Startseite des Einstellungsmenüs ist sichtbar.',\n  './screenshot\\\\capture__abfde0df-c686-4915-bf9d-e70afe11d2fd.png',\n  './html\\\\capture__19c29604-87d6-4fc2-a155-07155ab9cd80.html',\n  './test_script\\\\playwright__6574b4e0-5cb6-4d1a-b7c2-199eb6e163d5.py'),\n (13,\n  37,\n  '1) Klicke auf den Button in der Kopfzeile mit dem Zahnrad. Expected result: Weiterleitung zu den Einstellungen Startseite. 2) Klicke auf \"Benutzerrollen, Freigabestufen\" unter dem Reiter \"Rechte\" . Expected result: Weiterleitung zu der Benutzerrollen Übersicht. 3) Wähle Benutzerrolle \"Viewer\" aus. Expected result: Weiterleitung zur Seite mit den einzelnen Benutzerrollen EInstellungen. 4) Klicke auf das Fenster \"Rechte\". Expected result: Kontext Fenster öffnet sich und aktiviert Interaktion mit gelisteten Rechten. 5) Setze einen Haken bei dem Recht \"Daten als Shapefile exportieren\" unter \"Datenimport/Datenexport\". Expected result: Schrift wird grün und ein Haken statt einem Strich ist zu sehen. 6) Klicke auf den Button \"Speichern\" am Ende des Fensters. Expected result: Kontextfenster schließt sich und die neu getroffene Auswahl st übernommen.',\n  'Neues Recht ist dem Benutzer gewährt. Das ausgewählte Recht ist in grün eingefärbt und mit einem Haken statt mit einem Strich versehen.',\n  './screenshot\\\\capture__0aeef1c3-7179-4e8c-b9d8-5325a177017f.png',\n  './html\\\\capture__a1b0b0ed-31e5-439b-8d33-e673f2173ec7.html',\n  './test_script\\\\playwright__28a8960e-44a7-497e-88f3-bcfc3a901db4.py'),\n (14,\n  39,\n  '1) Öffne Verzeichnis \"Meine Arbeitsmappen\" im Navigator. Expected result: Verzeichnis \"Meine Arbeitsmappen\" wird geöffnet. 2) Öffne Arbeitsmappe \"Ladesäulen\". Expected result: Arbeitsmappe \"Ladesäulen\" wird geöffnet. 3) Klicke auf Arbeitsblatt \"Übersicht\". Expected result: Arbeitsblatt \"Übersicht\" wird angezeigt. 4) Klicke auf das Lesezeichen Symbol in der Kopfzeile. Expected result: Context Fenster öffnet sich mit der Auflistung der vorhandenen Zwischenstände. 5) Klicke auf den Button \"Neuer Zwischenstand\". Expected result: Pop-Up Fenster öffnet sich um den neuen Zwischenstand zu beschreiben. 6) Fülle das Feld für den Namen des Zwischenstandes aus. Expected result: Name ist korrekt eingegeben. 7) Klicke auf den Button \"Erstellen\". Expected result: Zwischenstand wird erstellt und in der Auflistung angezeigt.',\n  'Neuer Zwischenstand wurde erstellt und ist sichtbar in der Auflistung der Zwischenstände.',\n  './screenshot\\\\capture__01151bfb-35b5-4fde-b915-4df6e8cc7fa3.png',\n  './html\\\\capture__b1827113-1a3a-43bb-ad12-680419353287.html',\n  './test_script\\\\playwright__a5214032-8abc-4694-a8e4-22503841553b.py'),\n (16,\n  43,\n  '1) Klicke auf den Button in der Kopfzeile mit dem Zahnrad. Expected result: Weiterleitung zu den Einstellungen Startseite. 2) Klicke auf \"Benutzerrollen, Freigabestufen\" unter dem Reiter \"Rechte\" . Expected result: Weiterleitung zu der Benutzerrollen Übersicht. 3) Klicke auf das Mülleimer Symbol bei der zu löschenden Benutzerrolle. Expected result:  Pop-Up Fenster öffnet sich zur Bestätigung der Löschung. 5) Klicke auf den Button \"Löschen\" in dem Pop-Up Bestätigungsfenster. Expected result: Benutzerrolle wird gelöscht und ist nicht mehr gelistet in der Übersicht.',\n  'Benutzerrolle ist gelöscht. Die gelöschte Nutzerrolle ist nicht mehr gelistet unter dem Benutzerrollen Reiter.',\n  './screenshot\\\\capture__e806c741-1f16-4d86-a510-a4ce2da49be1.png',\n  './html\\\\capture__1ac3c6d2-0c0a-44e2-ab99-83404f82da03.html',\n  './test_script\\\\playwright__e2f9d78f-4d7b-43c8-ba00-963964e7f307.py'),\n (17,\n  45,\n  '1) Öffne Verzeichnis \"Meine Arbeitsmappen\" im Navigator. Expected result: Verzeichnis \"Meine Arbeitsmappen\" wird geöffnet. 2) Öffne Arbeitsmappe \"Ladesäulen\". Expected result: Arbeitsmappe \"Ladesäulen\" wird geöffnet. 3) Klicke auf Arbeitsblatt \"Übersicht\". Expected result: Arbeitsblatt \"Übersicht\" wird angezeigt. 4) Öffne Analysekontext. Expected result: Seitenmenü Analysekontext öffnet sich links für das ganze Arbeitsblatt. 5) Klicke auf das Plus Symbol. Expected result: Drop-Down Menü öffnet sich. 5) Wähle im Drop-Down Menü \"Attributfilter erstellen …\" aus. Expected result: Untergliedertes Drop-Down Menü öffnet sich. 6) Wähle Attribut \"Steckertyp 1\" unter dem Reiter \"Ladesaulen\" aus. Expected result: \"Steckertyp 1\" wird als Filter zu dem Analysekontext hinzugefügt.',\n  'Im Analysekontext ist der neue Attributfilter zu sehen und zu benutzen. Bei Benutzung ändern sich entsprechend die Kennzahlen.',\n  './screenshot\\\\capture__a32bae89-050e-47e2-b0e9-439173a5c2a0.png',\n  './html\\\\capture__b2557a76-394b-4197-afe4-9fe9f1a52779.html',\n  './test_script\\\\playwright__67919eea-1a0f-4c94-9d48-486058a64dc5.py'),\n (18,\n  47,\n  '1) Öffne Verzeichnis \"Meine Arbeitsmappen\" im Navigator. Expected result: Verzeichnis \"Meine Arbeitsmappen\" wird geöffnet. 2) Öffne Arbeitsmappe \"Ladesäulen\". Expected result: Arbeitsmappe \"Ladesäulen\" wird geöffnet. 3) Klicke auf Arbeitsblatt \"Übersicht\". Expected result: Arbeitsblatt \"Übersicht\" wird angezeigt. 4) Klicke auf das 3 Punkte Symbol in der Kopfzeile. Expected result: Drop-Down Menü  öffnet sich mit weiteren Optionene. 4) Wähle in dem Drop-Down Menü \"Arbeitsmappe verwalten \" aus. Expected result: Pop-Up Fenster öffnet sich mit unterschiedlichen Optionen zur Verwaltung der Arbeitsmappe. 5) Wähle den Reiter \"Arbeitsblätter\" in dem Pop-Up Fenster. Expected result:  Pop-Up Fenster zeigt Auflistung der einzelnen Arbeitsblätter der Arbeitsmappe. 6) Klicke auf das Augen Symbol bei dem letzten Arbeitsblatt \"Analyse Landkreis\". Expected result: Symbol ändert sich. Arbeitsblatt wird ausgeblendet. 7) Schließe Pop-Up Fenster \"Arbeitsmappe verwalten\". Expected result: Das Pop-Up Fenster schießt sich. 8) Klicke auf das Speichern Symbol in der Kopfzeile. Expected result: Die Arbeitsmappe speichert die Änderung der Sichtbarkeit der Arbeitsblätter ab.',\n  'SIchtbarkeit der Arbeitsblätter in der Arbeitsmappe hat sich geändert. In dem Navigator und weiteren Verzeichnissen zu sehen.',\n  './screenshot\\\\capture__d5ddda7a-dd3d-40a4-aa50-1ada93a978f6.png',\n  './html\\\\capture__255c0b1a-78f7-4c20-808d-675d885b6187.html',\n  './test_script\\\\playwright__d6b2e9fa-0890-4ac7-ba50-96c67f82e9d4.py')]"
     },
     "execution_count": 26,
     "metadata": {},
     "output_type": "execute_result"
    }
   ],
   "source": [
    "# check the playwright_codes.db \n",
    "items = db_query_test(f\"SELECT * FROM tests\")\n",
    "items\n",
    "\n",
    "# now it is empty"
   ]
  },
  {
   "cell_type": "markdown",
   "id": "bc0656ee",
   "metadata": {},
   "source": [
    "### Checking the data_states.db database"
   ]
  },
  {
   "cell_type": "code",
   "execution_count": 27,
   "id": "a5f4c54e-e192-4f87-947f-9373700302a6",
   "metadata": {
    "ExecuteTime": {
     "end_time": "2024-06-16T07:40:21.678267300Z",
     "start_time": "2024-06-16T07:40:21.647146Z"
    }
   },
   "outputs": [
    {
     "ename": "OperationalError",
     "evalue": "no such table: localhost_8080_cadenza",
     "output_type": "error",
     "traceback": [
      "\u001B[1;31m---------------------------------------------------------------------------\u001B[0m",
      "\u001B[1;31mOperationalError\u001B[0m                          Traceback (most recent call last)",
      "Cell \u001B[1;32mIn[27], line 2\u001B[0m\n\u001B[0;32m      1\u001B[0m table_name \u001B[38;5;241m=\u001B[39m \u001B[38;5;124m'\u001B[39m\u001B[38;5;124mlocalhost_8080_cadenza\u001B[39m\u001B[38;5;124m'\u001B[39m\n\u001B[1;32m----> 2\u001B[0m \u001B[43mdb_query_website\u001B[49m\u001B[43m(\u001B[49m\u001B[38;5;124;43mf\u001B[39;49m\u001B[38;5;124;43m\"\u001B[39;49m\u001B[38;5;124;43mSELECT * FROM \u001B[39;49m\u001B[38;5;132;43;01m{\u001B[39;49;00m\u001B[43mtable_name\u001B[49m\u001B[38;5;132;43;01m}\u001B[39;49;00m\u001B[38;5;124;43m\"\u001B[39;49m\u001B[43m)\u001B[49m\n",
      "Cell \u001B[1;32mIn[6], line 14\u001B[0m, in \u001B[0;36mdb_query_website\u001B[1;34m(sql_query, params)\u001B[0m\n\u001B[0;32m     12\u001B[0m     cursor\u001B[38;5;241m.\u001B[39mexecute(sql_query, params)\n\u001B[0;32m     13\u001B[0m \u001B[38;5;28;01melse\u001B[39;00m:\n\u001B[1;32m---> 14\u001B[0m     \u001B[43mcursor\u001B[49m\u001B[38;5;241;43m.\u001B[39;49m\u001B[43mexecute\u001B[49m\u001B[43m(\u001B[49m\u001B[43msql_query\u001B[49m\u001B[43m)\u001B[49m\n\u001B[0;32m     15\u001B[0m results \u001B[38;5;241m=\u001B[39m cursor\u001B[38;5;241m.\u001B[39mfetchall()\n\u001B[0;32m     16\u001B[0m conn\u001B[38;5;241m.\u001B[39mcommit()\n",
      "\u001B[1;31mOperationalError\u001B[0m: no such table: localhost_8080_cadenza"
     ]
    }
   ],
   "source": [
    "table_name = 'localhost_8080_cadenza'\n",
    "db_query_website(f\"SELECT * FROM {table_name}\")"
   ]
  },
  {
   "cell_type": "code",
   "execution_count": null,
   "id": "d7a084f6",
   "metadata": {},
   "outputs": [],
   "source": [
    "#db_delete_website(table_name, 2)"
   ]
  },
  {
   "cell_type": "markdown",
   "id": "e9c7c913",
   "metadata": {},
   "source": [
    "###  Delete the entire database"
   ]
  },
  {
   "cell_type": "code",
   "execution_count": 4,
   "id": "826d25e6-2d65-4eda-8ca8-96a8ad1ba2a0",
   "metadata": {},
   "outputs": [],
   "source": [
    "table_name = 'localhost_8080_cadenza'\n",
    "db_delete_table_website(table_name)\n",
    "db_delete_table_test('tests')"
   ]
  },
  {
   "cell_type": "code",
   "execution_count": null,
   "id": "6927a4ca-03a0-40ab-8d9c-99f4d796474c",
   "metadata": {},
   "outputs": [],
   "source": []
  },
  {
   "cell_type": "code",
   "execution_count": null,
   "id": "45d03441-d9f8-400e-a2b1-afdeb32b13f3",
   "metadata": {},
   "outputs": [],
   "source": []
  }
 ],
 "metadata": {
  "kernelspec": {
   "display_name": "Python 3 (ipykernel)",
   "language": "python",
   "name": "python3"
  },
  "language_info": {
   "codemirror_mode": {
    "name": "ipython",
    "version": 3
   },
   "file_extension": ".py",
   "mimetype": "text/x-python",
   "name": "python",
   "nbconvert_exporter": "python",
   "pygments_lexer": "ipython3",
   "version": "3.10.9"
  }
 },
 "nbformat": 4,
 "nbformat_minor": 5
}
