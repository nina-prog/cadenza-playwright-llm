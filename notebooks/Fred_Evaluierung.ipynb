{
 "cells": [
  {
   "cell_type": "code",
   "execution_count": 2,
   "metadata": {
    "ExecuteTime": {
     "end_time": "2024-06-18T21:14:27.584084800Z",
     "start_time": "2024-06-18T21:14:27.473174400Z"
    },
    "collapsed": false
   },
   "outputs": [],
   "source": [
    "%load_ext autoreload\n",
    "%autoreload 2"
   ]
  },
  {
   "cell_type": "code",
   "execution_count": 3,
   "metadata": {
    "ExecuteTime": {
     "end_time": "2024-06-18T21:14:27.584084800Z",
     "start_time": "2024-06-18T21:14:27.536818500Z"
    },
    "collapsed": false
   },
   "outputs": [],
   "source": [
    "import sys\n",
    "import os\n",
    "import sqlite3\n",
    "import asyncio\n",
    "import re\n",
    "\n",
    "from playwright.async_api import Playwright, async_playwright, expect\n",
    "\n",
    "\n",
    "# # Append the parent directory to sys.path\n",
    "# parent_dir = os.path.abspath('..')\n",
    "# sys.path.append(parent_dir)\n",
    "\n",
    "# from src.main import main"
   ]
  },
  {
   "cell_type": "markdown",
   "metadata": {},
   "source": [
    "# Validierung\n",
    "Validation start with the generated playwrite code of the LLM.\n",
    "The generated script will be executed and processed in order to determine the evaluation."
   ]
  },
  {
   "cell_type": "code",
   "execution_count": 27,
   "metadata": {},
   "outputs": [
    {
     "name": "stdout",
     "output_type": "stream",
     "text": [
      "Current WD: /Users/frbroy/Library/Mobile Documents/com~apple~CloudDocs/KIT/SoSe2024/PSDA/cadenza-playwright-llm/notebooks\n",
      "./screenshot/playwright_testing.png\n"
     ]
    }
   ],
   "source": [
    "print(f\"Current WD: {os.getcwd()}\")\n",
    "TEST_SCRIPT = \"./test_script/playwright_testing.py\"\n",
    "SCREENSHOT = \"./screenshot/\"\n",
    "file_name = TEST_SCRIPT.split(\"/\")[-1].split(\".\")[0] + \".png\"\n",
    "path_screenshot = SCREENSHOT + file_name\n",
    "path_html = \"./HTML/test.html\"\n",
    "print(path_screenshot)"
   ]
  },
  {
   "cell_type": "code",
   "execution_count": 28,
   "metadata": {},
   "outputs": [
    {
     "ename": "RuntimeError",
     "evalue": "asyncio.run() cannot be called from a running event loop",
     "output_type": "error",
     "traceback": [
      "\u001b[0;31m---------------------------------------------------------------------------\u001b[0m",
      "\u001b[0;31mRuntimeError\u001b[0m                              Traceback (most recent call last)",
      "Cell \u001b[0;32mIn[28], line 29\u001b[0m\n\u001b[1;32m     27\u001b[0m \u001b[38;5;66;03m# Join the script content back into a single string\u001b[39;00m\n\u001b[1;32m     28\u001b[0m modified_script_content \u001b[38;5;241m=\u001b[39m \u001b[38;5;124m'\u001b[39m\u001b[38;5;124m'\u001b[39m\u001b[38;5;241m.\u001b[39mjoin(script_content)\n\u001b[0;32m---> 29\u001b[0m \u001b[43mexec\u001b[49m\u001b[43m(\u001b[49m\u001b[43mmodified_script_content\u001b[49m\u001b[43m)\u001b[49m\n",
      "File \u001b[0;32m<string>:44\u001b[0m\n",
      "File \u001b[0;32m~/miniconda3/envs/uitest/lib/python3.12/asyncio/runners.py:190\u001b[0m, in \u001b[0;36mrun\u001b[0;34m(main, debug, loop_factory)\u001b[0m\n\u001b[1;32m    161\u001b[0m \u001b[38;5;250m\u001b[39m\u001b[38;5;124;03m\"\"\"Execute the coroutine and return the result.\u001b[39;00m\n\u001b[1;32m    162\u001b[0m \n\u001b[1;32m    163\u001b[0m \u001b[38;5;124;03mThis function runs the passed coroutine, taking care of\u001b[39;00m\n\u001b[0;32m   (...)\u001b[0m\n\u001b[1;32m    186\u001b[0m \u001b[38;5;124;03m    asyncio.run(main())\u001b[39;00m\n\u001b[1;32m    187\u001b[0m \u001b[38;5;124;03m\"\"\"\u001b[39;00m\n\u001b[1;32m    188\u001b[0m \u001b[38;5;28;01mif\u001b[39;00m events\u001b[38;5;241m.\u001b[39m_get_running_loop() \u001b[38;5;129;01mis\u001b[39;00m \u001b[38;5;129;01mnot\u001b[39;00m \u001b[38;5;28;01mNone\u001b[39;00m:\n\u001b[1;32m    189\u001b[0m     \u001b[38;5;66;03m# fail fast with short traceback\u001b[39;00m\n\u001b[0;32m--> 190\u001b[0m     \u001b[38;5;28;01mraise\u001b[39;00m \u001b[38;5;167;01mRuntimeError\u001b[39;00m(\n\u001b[1;32m    191\u001b[0m         \u001b[38;5;124m\"\u001b[39m\u001b[38;5;124masyncio.run() cannot be called from a running event loop\u001b[39m\u001b[38;5;124m\"\u001b[39m)\n\u001b[1;32m    193\u001b[0m \u001b[38;5;28;01mwith\u001b[39;00m Runner(debug\u001b[38;5;241m=\u001b[39mdebug, loop_factory\u001b[38;5;241m=\u001b[39mloop_factory) \u001b[38;5;28;01mas\u001b[39;00m runner:\n\u001b[1;32m    194\u001b[0m     \u001b[38;5;28;01mreturn\u001b[39;00m runner\u001b[38;5;241m.\u001b[39mrun(main)\n",
      "\u001b[0;31mRuntimeError\u001b[0m: asyncio.run() cannot be called from a running event loop"
     ]
    }
   ],
   "source": [
    "sc_path = \"safe.png\"\n",
    "# command to add screenshot\n",
    "screenshot_code = f\"    await page.screenshot(path = \\\"{sc_path}\\\")\\n\"\n",
    "# Construct the HTML extraction command with proper indentation\n",
    "html_extraction_command = '    page_content = await page.content()\\n'\n",
    "html_extraction_command += '    with open(\"{}\", \"w\") as file:\\n'.format(path_html)\n",
    "html_extraction_command += '        file.write(page_content)\\n\\n'\n",
    "# Ensure the script exists\n",
    "if not os.path.exists(TEST_SCRIPT):\n",
    "    print(f\"File not found: {TEST_SCRIPT}\")\n",
    "else:\n",
    "    # Read and execute the Playwright script\n",
    "    with open(TEST_SCRIPT, 'r') as file:\n",
    "        script_content = file.readlines()\n",
    "        #exec(script_content)\n",
    "\n",
    "    # Find the position to insert the screenshot command\n",
    "    insert_position = 0\n",
    "    for i, line in enumerate(script_content):\n",
    "        if \"await page.close()\" in line or \"await context.close()\" in line or \"await browser.close()\"in line:\n",
    "            insert_position = i \n",
    "            break\n",
    "\n",
    "    # Insert the screenshot command\n",
    "    script_content.insert(insert_position, screenshot_code)\n",
    "\n",
    "    # Join the script content back into a single string\n",
    "    modified_script_content = ''.join(script_content)\n",
    "    exec(modified_script_content)"
   ]
  },
  {
   "cell_type": "code",
   "execution_count": 24,
   "metadata": {},
   "outputs": [
    {
     "name": "stdout",
     "output_type": "stream",
     "text": [
      "import asyncio\n",
      "import re\n",
      "from playwright.async_api import Playwright, async_playwright, expect\n",
      "\n",
      "\n",
      "async def run(playwright: Playwright) -> None:\n",
      "    browser = await playwright.chromium.launch(headless=False)\n",
      "    context = await browser.new_context(storage_state=\"./context/context__e210490e-87e5-462b-86b7-3879adc487be.json\")\n",
      "    page = await context.new_page()\n",
      "    await page.goto(\"http://localhost:8080/cadenza/login\")\n",
      "    await page.get_by_label(\"Benutzername *\").click()\n",
      "    await page.get_by_label(\"Benutzername *\").fill(\"Admin\")\n",
      "    await page.get_by_label(\"Benutzername *\").press(\"Tab\")\n",
      "    await page.get_by_placeholder(\" \").fill(\"Admin\")\n",
      "    await page.get_by_placeholder(\" \").press(\"Enter\")\n",
      "    await page.get_by_role(\"link\", name=\"Management Center\").click()\n",
      "    await page.get_by_role(\"link\", name=\"Arbeitsmappen\").click()\n",
      "    await page.get_by_role(\"link\", name=\"Arbeitsmappe Zugangsdaten\").click()\n",
      "    await page.locator(\"d-worksheet-view\").filter(has_text=\"Nutzer: CreatorPasswort:\").locator(\"d-content-view-toolbar\").get_by_label(\"Bearbeiten\").click()\n",
      "    await page.get_by_text(\"Real Name: Charly Creator\").click()\n",
      "    await page.get_by_text(\"Nutzer: CreatorPasswort:\").press(\"ArrowRight\")\n",
      "    await page.get_by_text(\"Nutzer: CreatorPasswort:\").press(\"ArrowRight\")\n",
      "    await page.get_by_text(\"Nutzer: CreatorPasswort:\").press(\"ArrowRight\")\n",
      "    await page.get_by_text(\"Nutzer: CreatorPasswort:\").press(\"ArrowRight\")\n",
      "    await page.get_by_text(\"Nutzer: CreatorPasswort:\").press(\"ArrowRight\")\n",
      "    await page.get_by_text(\"Nutzer: CreatorPasswort:\").fill(\"Nutzer: Creator\\n\\nPasswort: Creator\\n\\n\\n\\n\\nReal Name: Charles Creator\\n\\n\\n\\n\\nAnwendungszweck: \\n\\nBenutzerrolle Creator\\n\\nKann alle Inhalte bearbeiten.\\n\\n\\n\\n\\n\\n\")\n",
      "    await page.locator(\"img\").click()\n",
      "    await expect(page.locator(\"d-worksheet-view\").filter(has_text=\"Nutzer: CreatorPasswort:\")).to_be_visible()\n",
      "    page.once(\"dialog\", lambda dialog: dialog.dismiss())\n",
      "    await page.get_by_text(\"Real Name: Charles Creator\").click()\n",
      "    await page.screenshot(path = \"./screenshot/playwright_testing.png\")\n",
      "    await page.close()\n",
      "\n",
      "    # ---------------------\n",
      "    await context.close()\n",
      "    await browser.close()\n",
      "\n",
      "\n",
      "async def main() -> None:\n",
      "    async with async_playwright() as playwright:\n",
      "        await run(playwright)\n",
      "\n",
      "\n",
      "asyncio.run(main())\n",
      "\n"
     ]
    }
   ],
   "source": [
    "print(modified_script_content)"
   ]
  },
  {
   "cell_type": "code",
   "execution_count": 11,
   "metadata": {},
   "outputs": [
    {
     "data": {
      "text/plain": [
       "'await page.screenshot(path = \"safe.png\")'"
      ]
     },
     "execution_count": 11,
     "metadata": {},
     "output_type": "execute_result"
    }
   ],
   "source": [
    "sc_path = \"safe.png\"\n",
    "screenshot = f\"await page.screenshot(path = \\\"{path_screenshot}\\\")\"\n",
    "screenshot"
   ]
  },
  {
   "cell_type": "code",
   "execution_count": null,
   "metadata": {},
   "outputs": [],
   "source": []
  },
  {
   "cell_type": "markdown",
   "metadata": {
    "collapsed": false
   },
   "source": [
    "# Load Data"
   ]
  },
  {
   "cell_type": "code",
   "execution_count": 10,
   "metadata": {
    "ExecuteTime": {
     "end_time": "2024-06-18T21:14:27.599938400Z",
     "start_time": "2024-06-18T21:14:27.569630300Z"
    },
    "collapsed": false
   },
   "outputs": [
    {
     "name": "stdout",
     "output_type": "stream",
     "text": [
      "There are 100 data.\n",
      "\n",
      "Structure of table 'tests':\n",
      "(0, 'id', 'TEXT', 0, None, 0)\n",
      "(1, 'steps', 'TEXT', 0, None, 0)\n",
      "(2, 'expectation', 'TEXT', 0, None, 0)\n",
      "(3, 'html', 'TEXT', 0, None, 0)\n",
      "(4, 'screenshot', 'TEXT', 0, None, 0)\n",
      "(5, 'test_script', 'TEXT', 0, None, 0)\n"
     ]
    }
   ],
   "source": [
    "# Connect to the database\n",
    "conn = sqlite3.connect('../data/raw/playwright_script.db')\n",
    "cursor = conn.cursor()\n",
    "\n",
    "res = cursor.execute(\"SELECT * FROM tests\")\n",
    "items = res.fetchall()\n",
    "\n",
    "print(\"There are {} data.\".format(len(items)))\n",
    "\n",
    "# Query the sqlite_master table to get the table names\n",
    "cursor.execute(\"SELECT name FROM sqlite_master WHERE type='table';\")\n",
    "tables = cursor.fetchall()\n",
    "table = tables[0]\n",
    "\n",
    "table_name = table[0]\n",
    "print(f\"\\nStructure of table '{table_name}':\")\n",
    "cursor.execute(f\"PRAGMA table_info({table_name});\")\n",
    "columns = cursor.fetchall()\n",
    "for column in columns:\n",
    "    print(column)"
   ]
  },
  {
   "cell_type": "code",
   "execution_count": 11,
   "metadata": {
    "ExecuteTime": {
     "end_time": "2024-06-18T21:14:27.633468200Z",
     "start_time": "2024-06-18T21:14:27.599938400Z"
    },
    "collapsed": false
   },
   "outputs": [
    {
     "data": {
      "text/plain": [
       "('1.1',\n",
       " '[1.1] Öffne die Arbeitsmappe \"Übersicht Messstellen\" im Ordner \"Gewässergüte\".',\n",
       " '[1.1] Expected result: Die Arbeitsmappe wird geöffnet, der Analysekontext ist nicht sichtbar.',\n",
       " '.\\\\html\\\\1_1.html',\n",
       " '.\\\\screenshot\\\\1_1.png',\n",
       " '.\\\\test_script\\\\1_1.spec.ts')"
      ]
     },
     "execution_count": 11,
     "metadata": {},
     "output_type": "execute_result"
    }
   ],
   "source": [
    "# Check the first item\n",
    "items[0]"
   ]
  },
  {
   "cell_type": "markdown",
   "metadata": {
    "collapsed": false
   },
   "source": [
    "# Run UI Test Generation locally (smaller model GPT-2)"
   ]
  },
  {
   "cell_type": "code",
   "execution_count": 12,
   "metadata": {
    "ExecuteTime": {
     "end_time": "2024-06-18T21:14:27.660764500Z",
     "start_time": "2024-06-18T21:14:27.633468200Z"
    },
    "collapsed": false
   },
   "outputs": [],
   "source": [
    "def get_previous_id(id):\n",
    "    test, step = map(int, id.split('.'))\n",
    "    if step > 1:\n",
    "        previous_id = f\"{test}.{step - 1}\"\n",
    "    else:\n",
    "        print(f\"Test {test} has no more previous step. No context available.\")\n",
    "\n",
    "    return previous_id"
   ]
  },
  {
   "cell_type": "code",
   "execution_count": 13,
   "metadata": {
    "ExecuteTime": {
     "end_time": "2024-06-18T21:14:27.717786500Z",
     "start_time": "2024-06-18T21:14:27.660764500Z"
    },
    "collapsed": false
   },
   "outputs": [],
   "source": [
    "def fetch_relevant_items(db_file, current_id):\n",
    "    # Connect to SQLite database\n",
    "    conn = sqlite3.connect(db_file)\n",
    "    cursor = conn.cursor()\n",
    "\n",
    "    # Get the previous ID\n",
    "    previous_id = get_previous_id(current_id)\n",
    "\n",
    "    # Prepare the SQL query to retrieve the desired rows\n",
    "    query = 'SELECT * FROM tests WHERE id IN (?, ?)'\n",
    "    cursor.execute(query, (current_id, previous_id))\n",
    "\n",
    "    # Fetch all matching rows\n",
    "    items = cursor.fetchall()\n",
    "\n",
    "    # Close the connection\n",
    "    conn.close()\n",
    "\n",
    "    return items"
   ]
  },
  {
   "cell_type": "code",
   "execution_count": 14,
   "metadata": {
    "ExecuteTime": {
     "end_time": "2024-06-18T21:14:27.717786500Z",
     "start_time": "2024-06-18T21:14:27.691714600Z"
    },
    "collapsed": false
   },
   "outputs": [],
   "source": [
    "def map_items_to_args(items):\n",
    "    # The file paths from the test x-1 are used as context\n",
    "    html_path = items[0][3]\n",
    "    image_path = items[0][4]\n",
    "    precondition_path = items[0][5]\n",
    "    # The last step of the text x is used as prompt\n",
    "    steps = items[1][1].split(']')\n",
    "    prompt = steps[-1].strip()\n",
    "\n",
    "    return {\"html_path\": html_path,\n",
    "            \"image_path\": image_path,\n",
    "            \"precondition_path\": precondition_path,\n",
    "            \"prompt\": prompt}"
   ]
  },
  {
   "cell_type": "markdown",
   "metadata": {
    "collapsed": false
   },
   "source": [
    "Now we can run the main function with the extracted information, we will get the generated UI test code for the test with id 1.4."
   ]
  },
  {
   "cell_type": "code",
   "execution_count": 15,
   "metadata": {
    "ExecuteTime": {
     "end_time": "2024-06-18T21:14:27.774607800Z",
     "start_time": "2024-06-18T21:14:27.717786500Z"
    },
    "collapsed": false
   },
   "outputs": [],
   "source": [
    "# Select test ID and database file\n",
    "db_file = '../data/raw/playwright_script.db'\n",
    "current_id = '1.4'"
   ]
  },
  {
   "cell_type": "code",
   "execution_count": 16,
   "metadata": {
    "collapsed": false
   },
   "outputs": [],
   "source": [
    "items = fetch_relevant_items(db_file, current_id)\n",
    "args = map_items_to_args(items)"
   ]
  },
  {
   "cell_type": "code",
   "execution_count": 17,
   "metadata": {},
   "outputs": [
    {
     "data": {
      "text/plain": [
       "[('1.3',\n",
       "  '[1.1] Öffne die Arbeitsmappe \"Übersicht Messstellen\" im Ordner \"Gewässergüte\". [1.2]  Öffnen der Tabellen-Sicht \"Messstellenliste\" über die Werkzeugliste der Arbeitsmappe. [1.3] Klicke auf den 3-Punkte-Button innerhalb der Tabellen-Sicht \"Messstelleninformationen\"',\n",
       "  '[1.3] Expected result: Kontextmenü erscheint mit den Optionen: - Duplizieren - In Arbeitsblatt duplizieren - Exportieren - Designer öffnen - Löschen.',\n",
       "  '.\\\\html\\\\1_3.html',\n",
       "  '.\\\\screenshot\\\\1_3.png',\n",
       "  '.\\\\test_script\\\\1_3.spec.ts'),\n",
       " ('1.4',\n",
       "  '[1.1] Öffne die Arbeitsmappe \"Übersicht Messstellen\" im Ordner \"Gewässergüte\". [1.2]  Öffnen der Tabellen-Sicht \"Messstellenliste\" über die Werkzeugliste der Arbeitsmappe. [1.3] Klicke auf den 3-Punkte-Button innerhalb der Tabellen-Sicht \"Messstelleninformationen\". [1.4] Klicke auf \"Duplizieren\".',\n",
       "  '[1.4] Expected result: Das Kontextmenü schließt sich. Die Sicht ist dupliziert. Die duplizierte Sicht erscheint neben der Original-Sicht. Beide Sichten teilen sich in gleichen Maßen den Platz der Original-Sicht.',\n",
       "  '.\\\\html\\\\1_4.html',\n",
       "  '.\\\\screenshot\\\\1_4.png',\n",
       "  '.\\\\test_script\\\\1_4.spec.ts')]"
      ]
     },
     "execution_count": 17,
     "metadata": {},
     "output_type": "execute_result"
    }
   ],
   "source": [
    "items"
   ]
  },
  {
   "cell_type": "code",
   "execution_count": 23,
   "metadata": {},
   "outputs": [
    {
     "data": {
      "text/plain": [
       "'/Users/frbroy/Library/Mobile Documents/com~apple~CloudDocs/KIT/SoSe2024/PSDA/cadenza-playwright-llm/notebooks'"
      ]
     },
     "execution_count": 23,
     "metadata": {},
     "output_type": "execute_result"
    }
   ],
   "source": [
    "import os\n",
    "os.getcwd()"
   ]
  },
  {
   "cell_type": "code",
   "execution_count": 24,
   "metadata": {
    "ExecuteTime": {
     "end_time": "2024-06-18T22:41:40.675878400Z",
     "start_time": "2024-06-18T22:41:34.079972700Z"
    },
    "collapsed": false
   },
   "outputs": [
    {
     "name": "stdout",
     "output_type": "stream",
     "text": [
      "/Users/frbroy/Library/Mobile Documents/com~apple~CloudDocs/KIT/SoSe2024/PSDA/cadenza-playwright-llm/notebooks\n",
      "2024-06-20 10:57:39 [\u001b[34msrc.main:24\u001b[0m] [\u001b[32mINFO\u001b[0m] >>>> Loading context...\u001b[0m\n"
     ]
    },
    {
     "ename": "FileNotFoundError",
     "evalue": "[Errno 2] No such file or directory: '.\\\\html\\\\1_3.html'",
     "output_type": "error",
     "traceback": [
      "\u001b[0;31m---------------------------------------------------------------------------\u001b[0m",
      "\u001b[0;31mFileNotFoundError\u001b[0m                         Traceback (most recent call last)",
      "File \u001b[0;32m<timed exec>:7\u001b[0m\n",
      "File \u001b[0;32m~/Library/Mobile Documents/com~apple~CloudDocs/KIT/SoSe2024/PSDA/cadenza-playwright-llm/src/main.py:26\u001b[0m, in \u001b[0;36mmain\u001b[0;34m(html_path, image_path, precondition_path, prompt)\u001b[0m\n\u001b[1;32m     24\u001b[0m logger\u001b[38;5;241m.\u001b[39minfo(\u001b[38;5;124m\"\u001b[39m\u001b[38;5;124mLoading context...\u001b[39m\u001b[38;5;124m\"\u001b[39m)\n\u001b[1;32m     25\u001b[0m \u001b[38;5;66;03m# Parse HTML and extract image text\u001b[39;00m\n\u001b[0;32m---> 26\u001b[0m html_text \u001b[38;5;241m=\u001b[39m \u001b[43mparse_html\u001b[49m\u001b[43m(\u001b[49m\u001b[43mhtml_path\u001b[49m\u001b[43m,\u001b[49m\u001b[43m \u001b[49m\u001b[43mmax_length\u001b[49m\u001b[38;5;241;43m=\u001b[39;49m\u001b[43mMAX_LENGTH\u001b[49m\u001b[43m)\u001b[49m\n\u001b[1;32m     27\u001b[0m image_text \u001b[38;5;241m=\u001b[39m extract_text_from_image(image_path, max_length\u001b[38;5;241m=\u001b[39mMAX_LENGTH)\n\u001b[1;32m     28\u001b[0m \u001b[38;5;66;03m# Parse Python precondition\u001b[39;00m\n",
      "File \u001b[0;32m~/Library/Mobile Documents/com~apple~CloudDocs/KIT/SoSe2024/PSDA/cadenza-playwright-llm/src/data/html_processor.py:18\u001b[0m, in \u001b[0;36mparse_html\u001b[0;34m(html_path, max_length)\u001b[0m\n\u001b[1;32m     11\u001b[0m \u001b[38;5;28;01mdef\u001b[39;00m \u001b[38;5;21mparse_html\u001b[39m(html_path: \u001b[38;5;28mstr\u001b[39m, max_length: \u001b[38;5;28mint\u001b[39m \u001b[38;5;241m=\u001b[39m \u001b[38;5;241m200\u001b[39m) \u001b[38;5;241m-\u001b[39m\u001b[38;5;241m>\u001b[39m \u001b[38;5;28mstr\u001b[39m:\n\u001b[1;32m     12\u001b[0m \u001b[38;5;250m    \u001b[39m\u001b[38;5;124;03m\"\"\" Parse the HTML content from a file.\u001b[39;00m\n\u001b[1;32m     13\u001b[0m \n\u001b[1;32m     14\u001b[0m \u001b[38;5;124;03m    :param max_length: The maximum length of the text.\u001b[39;00m\n\u001b[1;32m     15\u001b[0m \u001b[38;5;124;03m    :param html_path: The path to the HTML file.\u001b[39;00m\n\u001b[1;32m     16\u001b[0m \u001b[38;5;124;03m    :return: The text content of the HTML file.\u001b[39;00m\n\u001b[1;32m     17\u001b[0m \u001b[38;5;124;03m    \"\"\"\u001b[39;00m\n\u001b[0;32m---> 18\u001b[0m     \u001b[38;5;28;01mwith\u001b[39;00m \u001b[38;5;28;43mopen\u001b[39;49m\u001b[43m(\u001b[49m\u001b[43mhtml_path\u001b[49m\u001b[43m,\u001b[49m\u001b[43m \u001b[49m\u001b[38;5;124;43m\"\u001b[39;49m\u001b[38;5;124;43mr\u001b[39;49m\u001b[38;5;124;43m\"\u001b[39;49m\u001b[43m)\u001b[49m \u001b[38;5;28;01mas\u001b[39;00m file:\n\u001b[1;32m     19\u001b[0m         html_content \u001b[38;5;241m=\u001b[39m file\u001b[38;5;241m.\u001b[39mread()\n\u001b[1;32m     20\u001b[0m     \u001b[38;5;66;03m# Parse the HTML content\u001b[39;00m\n",
      "\u001b[0;31mFileNotFoundError\u001b[0m: [Errno 2] No such file or directory: '.\\\\html\\\\1_3.html'"
     ]
    }
   ],
   "source": [
    "%%time\n",
    "# Append the parent directory to sys.path\n",
    "parent_dir = os.path.abspath('./')\n",
    "print(parent_dir)\n",
    "sys.path.append(parent_dir)\n",
    "\n",
    "\n",
    "main(**args)"
   ]
  },
  {
   "cell_type": "code",
   "execution_count": null,
   "metadata": {},
   "outputs": [],
   "source": []
  },
  {
   "cell_type": "markdown",
   "metadata": {
    "collapsed": false
   },
   "source": [
    "# More Developing: Using modular source code\n",
    "Possible to update function content in the following files, but no RENAMING or DELETING or changing function signature!:\n",
    "* src/main.py: Main function for UI test generation.\n",
    "    * Change constant Max length (max length of the input text for the model)\n",
    "* src/ui_tests/test_generation.py: Generate the UI test code using the language model.\n",
    "    * Expand model selection: Just add new case statements for different models with its code.\n",
    "* src/data/html_processing.py: Extract relevant information from the HTML file.\n",
    "* src/data/image_processing.py: Extract relevant information from the image.\n",
    "* src/data/python_processing.py: Parse the given playwright test code for previous step as a precondition.\n"
   ]
  }
 ],
 "metadata": {
  "kernelspec": {
   "display_name": "Python 3",
   "language": "python",
   "name": "python3"
  },
  "language_info": {
   "codemirror_mode": {
    "name": "ipython",
    "version": 3
   },
   "file_extension": ".py",
   "mimetype": "text/x-python",
   "name": "python",
   "nbconvert_exporter": "python",
   "pygments_lexer": "ipython3",
   "version": "3.1.undefined"
  }
 },
 "nbformat": 4,
 "nbformat_minor": 0
}
