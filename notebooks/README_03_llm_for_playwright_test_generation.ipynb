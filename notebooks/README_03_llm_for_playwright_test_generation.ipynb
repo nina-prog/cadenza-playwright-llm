{
 "cells": [
  {
   "cell_type": "markdown",
   "id": "c2cdf01c-56eb-465c-a872-ba01fc00ec99",
   "metadata": {},
   "source": []
  },
  {
   "cell_type": "markdown",
   "id": "ed1a0baf-d682-4e7b-bf6a-2d1334e002a2",
   "metadata": {},
   "source": [
    "After installing the German version of Cadenza, please import Testmappe_Ladesaeulen.zip arbeitsmappe, because some UI tests are based on this arbeitsmappe.\n",
    "1. Klicke im Navigator auf die drei Punkte rechts neben der Suchleiste\n",
    "2. Auf \"Arbeitsmappe importieren\" klicken\n",
    "3. Bei \"Datei *\" auf \"Bitte wählen Sie eine Datei aus.\" klicken und die angehängte ZIP-Datei auswählen\n",
    "4. Wähle als Repository \"Ladesaeulen\"\n",
    "5. Unten links auf \"Importieren\" klicken\n"
   ]
  },
  {
   "cell_type": "code",
   "execution_count": 1,
   "id": "765c0c22-ceca-4ff2-8302-0efc9c8f8973",
   "metadata": {
    "ExecuteTime": {
     "end_time": "2024-06-18T16:07:11.083644800Z",
     "start_time": "2024-06-18T16:07:11.066839200Z"
    }
   },
   "outputs": [
    {
     "name": "stdout",
     "output_type": "stream",
     "text": [
      "there are 100 data.\n"
     ]
    }
   ],
   "source": [
    "import sqlite3\n",
    "# Connect to the database\n",
    "conn = sqlite3.connect('../data/raw/playwright_script.db')\n",
    "cursor = conn.cursor()\n",
    "\n",
    "res = cursor.execute(\"SELECT * FROM tests\")\n",
    "items = res.fetchall()\n",
    "\n",
    "print( \"there are {} data.\".format(len(items)))"
   ]
  },
  {
   "cell_type": "markdown",
   "id": "761960d5-65ab-4ec0-afd7-3d4d905f8eac",
   "metadata": {},
   "source": [
    "## UI Test Naming and Data Structure Guidelines\n",
    "\n",
    "### 1. Naming Convention\n",
    "\n",
    "To ensure traceability and organization within our UI tests, we have established a specific naming convention. Each test is named using a two-part numerical format, represented as `{x}.{y}`, where:\n",
    "\n",
    "- `x` is the unique identifier for a set of UI tests.\n",
    "- `y` indicates the step number within the UI test sequence, facilitating the tracking of test progress and specific actions.\n",
    "\n",
    "This naming method allows for quick identification of specific test preconditions and steps.\n",
    "\n",
    "### 2. Data Structure\n",
    "\n",
    "Each UI test entry comprises six essential elements to ensure completeness and executability:\n",
    "\n",
    "1. **ID**: Formatted as `x`.`y`, uniquely identifies each test and the step.\n",
    "2. **Step Description**: Details the actions performed at each step, always starting from the first step.\n",
    "3. **Expected Outcome**: Describes the expected result of the final step of the test.\n",
    "4. **HTML File**: The HTML file generated after all actions have been executed, used for further analysis and review.\n",
    "5. **Screenshot**: An image of the application or software interface taken after all actions have been completed, used for visual verification.\n",
    "6. **Script**: Contains the Playwright code from the first to the last step, used to automate the UI test.\n"
   ]
  },
  {
   "cell_type": "markdown",
   "id": "391ad8ef-3403-4f27-ad0c-8aeaa1f0e082",
   "metadata": {},
   "source": [
    "### 3. Data Examples\n",
    "\n",
    "To better illustrate this data structure, here are two example entries:"
   ]
  },
  {
   "cell_type": "code",
   "execution_count": 2,
   "id": "ea363336-70dc-4d9a-9035-38ed0dc1a5a8",
   "metadata": {},
   "outputs": [
    {
     "data": {
      "text/plain": [
       "('1.1',\n",
       " '[1.1] Öffne die Arbeitsmappe \"Übersicht Messstellen\" im Ordner \"Gewässergüte\".',\n",
       " '[1.1] Expected result: Die Arbeitsmappe wird geöffnet, der Analysekontext ist nicht sichtbar.',\n",
       " '.\\\\html\\\\1_1.html',\n",
       " '.\\\\screenshot\\\\1_1.png',\n",
       " '.\\\\test_script\\\\1_1.spec.ts')"
      ]
     },
     "execution_count": 2,
     "metadata": {},
     "output_type": "execute_result"
    }
   ],
   "source": [
    "items[0]"
   ]
  },
  {
   "cell_type": "code",
   "execution_count": 3,
   "id": "6c21eeb9-3c98-48f6-8803-e2bbb9488288",
   "metadata": {},
   "outputs": [
    {
     "data": {
      "text/plain": [
       "('1.2',\n",
       " '[1.1] Öffne die Arbeitsmappe \"Übersicht Messstellen\" im Ordner \"Gewässergüte\". [1.2]  Öffnen der Tabellen-Sicht \"Messstellenliste\" über die Werkzeugliste der Arbeitsmappe.',\n",
       " '[1.2] Expected result: Die Tabelle \"Messstelleninformationen\" wird angezeigt, der Analysekontext ist sichtbar.',\n",
       " '.\\\\html\\\\1_2.html',\n",
       " '.\\\\screenshot\\\\1_2.png',\n",
       " '.\\\\test_script\\\\1_2.spec.ts')"
      ]
     },
     "execution_count": 3,
     "metadata": {},
     "output_type": "execute_result"
    }
   ],
   "source": [
    "items[1]"
   ]
  },
  {
   "cell_type": "code",
   "execution_count": 2,
   "outputs": [
    {
     "data": {
      "text/plain": "'.\\\\screenshot\\\\1_1.png'"
     },
     "execution_count": 2,
     "metadata": {},
     "output_type": "execute_result"
    }
   ],
   "source": [
    "items[0][4]"
   ],
   "metadata": {
    "collapsed": false,
    "ExecuteTime": {
     "end_time": "2024-06-18T18:03:18.769512800Z",
     "start_time": "2024-06-18T18:03:18.754683800Z"
    }
   }
  },
  {
   "cell_type": "markdown",
   "source": [
    "To get previous or next id in order to search for the correct files as precondition or input:"
   ],
   "metadata": {
    "collapsed": false
   }
  },
  {
   "cell_type": "code",
   "execution_count": 20,
   "outputs": [
    {
     "data": {
      "text/plain": "'1_1'"
     },
     "execution_count": 20,
     "metadata": {},
     "output_type": "execute_result"
    }
   ],
   "source": [
    "current_id = items[0][4].split(\"\\\\\")[-1].split(\".\")[0]\n",
    "current_id"
   ],
   "metadata": {
    "collapsed": false,
    "ExecuteTime": {
     "end_time": "2024-06-18T18:09:40.618791200Z",
     "start_time": "2024-06-18T18:09:40.586963700Z"
    }
   }
  },
  {
   "cell_type": "code",
   "execution_count": 23,
   "outputs": [
    {
     "data": {
      "text/plain": "('1_0', '1_1', '1_2')"
     },
     "execution_count": 23,
     "metadata": {},
     "output_type": "execute_result"
    }
   ],
   "source": [
    "current_test, current_step = current_id.split(\"_\")\n",
    "next_id = f\"{current_test}_{int(current_step)+1}\"\n",
    "previous_id = f\"{current_test}_{int(current_step)-1}\""
   ],
   "metadata": {
    "collapsed": false,
    "ExecuteTime": {
     "end_time": "2024-06-18T18:13:22.570533300Z",
     "start_time": "2024-06-18T18:13:22.564811700Z"
    }
   }
  },
  {
   "cell_type": "markdown",
   "id": "5657be13-2345-4c57-a4cb-6fa6cd32ac83",
   "metadata": {},
   "source": [
    "# Tipps : To complete the generation of playwright code for 1.2, 1.1 can be used as an initial condition (pre-condition)"
   ]
  },
  {
   "cell_type": "markdown",
   "id": "ed8f5750-adfa-403d-8f2c-04452a1babab",
   "metadata": {},
   "source": [
    "## Task Description\n",
    "\n",
    "### Objective\n",
    "To utilize Large Language Models (LLM) for generating Playwright test scripts based on user descriptions. To achieve this goal, it is crucial to provide the LLM with sufficient context, including the software's structure, relevant HTML files, and interface screenshots.\n",
    "\n",
    "### Methods and Suggestions\n",
    "\n",
    "#### 1. How to Optimize Prompts?\n",
    "- **Specificity and Clarity**: Ensure that prompts are as specific and clear as possible, clearly stating the specific actions to be automated and the expected outcomes.\n",
    "- **Use Templates**: Develop a series of template prompts for common testing scenarios such as login, data entry, and functionality verification. These templates can help standardize inputs and reduce ambiguity.\n",
    "\n",
    "#### 2. How to Encode HTML Files for LLM Understanding?\n",
    "- **HTML Summarization**: Extract key information from HTML files (such as important IDs, class names, and tag types) instead of the entire HTML code, which helps the model understand the page structure.\n",
    "- **DOM Structure Description**: Convert HTML files into descriptions of DOM tree structures, simplified into descriptions more akin to natural language, e.g., \"The page contains a button with the id 'submit' inside a form.\"\n",
    "- **Utilization of Tools and Libraries**: Use existing HTML parsing libraries such as BeautifulSoup to assist in processing and extracting data from HTML.\n",
    "\n",
    "#### 3. How to Encode Image Information for LLM?\n",
    "- **Image Description Generation**: Use computer vision models (like pretrained image recognition models) to generate descriptions of images, which are then used as textual inputs for the LLM.\n",
    "- **Key Element Identification**: Identify and describe key UI elements in the images, such as buttons and input fields, and describe their relational positions, e.g., \"A large search box is centered at the top of the page.\"\n",
    "- **Use OCR**: For screenshots that contain text, employ Optical Character Recognition (OCR) technology to extract textual information, which may be crucial for understanding the interface.\n"
   ]
  },
  {
   "cell_type": "markdown",
   "id": "9b7f603a-24e6-4497-85fa-6fc62f436cf7",
   "metadata": {},
   "source": [
    "# How to Run Playwright Code\n",
    "\n",
    "Follow these detailed steps to set up your environment for running Playwright code using Visual Studio Code (VSCode).\n",
    "\n",
    "## Step 1: Install Visual Studio Code\n",
    "\n",
    "First, you need to install Visual Studio Code\n",
    "\n",
    "- Visit the [Visual Studio Code download page](https://code.visualstudio.com/docs/?dv=win64user).\n",
    "- Choose the appropriate installer for your operating system. This guide assumes you are using Windows 64-bit.\n",
    "- Download and run the installer.\n",
    "- Follow the on-screen instructions to complete the installation.\n",
    "\n",
    "## Step 2: Install Node.js \n",
    "\n",
    "Playwright requires Node.js to run, so the next step is to install Node.js if it's not already installed on your system.\n",
    "\n",
    "- Go to the [Node.js download page](https://nodejs.org/en/download/prebuilt-installer).    \n",
    "- Download the installer appropriate for your operating system. For Windows, it's typically the Windows Installer (.msi).  Version !! V20.14.0\n",
    "- Execute the downloaded file and follow the installation prompts. Make sure to include Node.js in your PATH if prompted.\n",
    "\n",
    "## Step 3: Install Playwright in VSCode\n",
    "\n",
    "After setting up VSCode and Node.js, you can install Playwright directly through VSCode.\n",
    "\n",
    "- Open Visual Studio Code.\n",
    "- Click on the Extensions view icon on the Sidebar or press `Ctrl+Shift+X`.\n",
    "- In the Extensions search bar, type `Playwright` and look for the \"Playwright Test for VSCode\" extension.\n",
    "- Click on the `Install` button to install the Playwright extension.\n",
    "- After installation, press `Ctrl+Shift+P` to open the Command Palette.\n",
    "- Type `Install Playwright` in the Command Palette and select the command that appears to install Playwright. This will set up Playwright with the necessary browser binaries.\n",
    "\n",
    "## Step 4: Open and Run Your Playwright Script\n",
    "\n",
    "Finally, you are ready to run your Playwright scripts.\n",
    "\n",
    "- If necessary, restart Visual Studio Code to refresh the environment and ensure all extensions are properly loaded.\n",
    "- Drag the playwright file script into tests fold.\n",
    "\n",
    "By following these steps, you should be able to set up your development environment and run Playwright scripts smoothly within Visual Studio Code.\n"
   ]
  },
  {
   "cell_type": "code",
   "execution_count": null,
   "id": "b6ec0b14-470b-45ca-9eee-3bb022c3088d",
   "metadata": {},
   "outputs": [],
   "source": []
  },
  {
   "cell_type": "code",
   "execution_count": null,
   "id": "df8917a6-0da3-43dc-95a2-fbf6e4958b2c",
   "metadata": {},
   "outputs": [],
   "source": []
  }
 ],
 "metadata": {
  "kernelspec": {
   "display_name": "Python 3 (ipykernel)",
   "language": "python",
   "name": "python3"
  },
  "language_info": {
   "codemirror_mode": {
    "name": "ipython",
    "version": 3
   },
   "file_extension": ".py",
   "mimetype": "text/x-python",
   "name": "python",
   "nbconvert_exporter": "python",
   "pygments_lexer": "ipython3",
   "version": "3.8.8"
  }
 },
 "nbformat": 4,
 "nbformat_minor": 5
}
