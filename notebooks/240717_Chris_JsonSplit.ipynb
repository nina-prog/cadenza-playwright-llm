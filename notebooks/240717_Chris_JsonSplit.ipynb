{
 "cells": [
  {
   "cell_type": "code",
   "id": "initial_id",
   "metadata": {
    "collapsed": true,
    "ExecuteTime": {
     "end_time": "2024-07-19T16:07:15.299662Z",
     "start_time": "2024-07-19T16:07:12.083376Z"
    }
   },
   "source": [
    "import sqlite3\n",
    "import os\n",
    "import sys\n",
    "\n",
    "from src.data.data_loading import load_config\n",
    "from src.data.database import create_finetuning_data_from_db\n",
    "from src.finetuning import save_finetuning_data_as_json\n",
    "from src.json_generator.balanced_split import balanced_train_val_test_split\n",
    "from src.utils.logger import setup_logger"
   ],
   "outputs": [],
   "execution_count": 1
  },
  {
   "metadata": {
    "ExecuteTime": {
     "end_time": "2024-07-19T16:07:15.315308Z",
     "start_time": "2024-07-19T16:07:15.302211Z"
    }
   },
   "cell_type": "code",
   "source": "logger = setup_logger(__name__, level='DEBUG')  # Change to 'INFO' for less verbosity",
   "id": "1d277e2e7abf8331",
   "outputs": [],
   "execution_count": 2
  },
  {
   "metadata": {
    "ExecuteTime": {
     "end_time": "2024-07-19T16:07:15.330738Z",
     "start_time": "2024-07-19T16:07:15.316307Z"
    }
   },
   "cell_type": "code",
   "source": [
    "# set working directory to the root of the project\n",
    "os.chdir(\"..\")\n",
    "os.getcwd()"
   ],
   "id": "280db6859e5aa826",
   "outputs": [
    {
     "data": {
      "text/plain": [
       "'C:\\\\Users\\\\Johannes\\\\PycharmProjects\\\\cadenza-playwright-llm'"
      ]
     },
     "execution_count": 3,
     "metadata": {},
     "output_type": "execute_result"
    }
   ],
   "execution_count": 3
  },
  {
   "metadata": {
    "ExecuteTime": {
     "end_time": "2024-07-19T16:07:15.345641Z",
     "start_time": "2024-07-19T16:07:15.332190Z"
    }
   },
   "cell_type": "code",
   "source": [
    "db_file = './data/raw/playwright_script.db'\n",
    "config = load_config(\"./config/config.yaml\")"
   ],
   "id": "ded2803446c2a0d9",
   "outputs": [],
   "execution_count": 4
  },
  {
   "metadata": {
    "ExecuteTime": {
     "end_time": "2024-07-19T16:07:15.360773Z",
     "start_time": "2024-07-19T16:07:15.347644Z"
    }
   },
   "cell_type": "code",
   "source": [
    "# Load ids to be used for finetuning from database\n",
    "conn = sqlite3.connect(db_file)\n",
    "c = conn.cursor()\n",
    "c.execute('SELECT id FROM tests')\n",
    "items = c.fetchall()\n",
    "conn.close()\n",
    "\n",
    "ids = [i[0] for i in items][:] "
   ],
   "id": "b9983c064f04d082",
   "outputs": [],
   "execution_count": 5
  },
  {
   "metadata": {
    "ExecuteTime": {
     "end_time": "2024-07-19T16:08:07.833005Z",
     "start_time": "2024-07-19T16:08:07.809452Z"
    }
   },
   "cell_type": "code",
   "source": [
    "tc_ids_train, tc_ids_val, tc_ids_test = balanced_train_val_test_split()\n",
    "\n",
    "print(\"Train: \", tc_ids_train, \"\\nVal: \", tc_ids_val,\"\\nTest: \", tc_ids_test)"
   ],
   "id": "a5319825cd5134a1",
   "outputs": [
    {
     "name": "stdout",
     "output_type": "stream",
     "text": [
      "Train:  [19  0  7  1 14  3  5 12 11 17 18 27 10  4 25] \n",
      "Val:  [ 8 16 13 26] \n",
      "Test:  [ 2 15  9 30 28]\n"
     ]
    }
   ],
   "execution_count": 7
  },
  {
   "metadata": {},
   "cell_type": "markdown",
   "source": "### Copy test scripts from folder to another directory",
   "id": "c82260a53b1701b4"
  },
  {
   "metadata": {
    "ExecuteTime": {
     "end_time": "2024-07-19T16:10:43.153577Z",
     "start_time": "2024-07-19T16:10:43.142496Z"
    }
   },
   "cell_type": "code",
   "source": "tc_ids_test",
   "id": "3ed90f02e78ce78e",
   "outputs": [
    {
     "data": {
      "text/plain": [
       "array([ 2, 15,  9, 30, 28])"
      ]
     },
     "execution_count": 8,
     "metadata": {},
     "output_type": "execute_result"
    }
   ],
   "execution_count": 8
  },
  {
   "metadata": {
    "ExecuteTime": {
     "end_time": "2024-07-19T21:34:42.859327Z",
     "start_time": "2024-07-19T21:34:42.831723Z"
    }
   },
   "cell_type": "code",
   "source": [
    "import shutil\n",
    "\n",
    "path_to_folder = './data/prediction/'\n",
    "folder_name = 'pred_test_script_pretr_T1_sc+_html+_all'\n",
    "folder_path = os.path.join(path_to_folder, folder_name)\n",
    "ending = '.spec.ts'\n",
    "#ending = '.pred.ts'\n",
    "\n",
    "test_file_names = ['_'.join(x.split('.')) + ending for x in filter(lambda x: int(x.split('.')[0]) in tc_ids_test, filter(lambda x: x.split('.')[1] != '0', ids))]\n",
    "\n",
    "folder_path_new = folder_path + '_test_set'\n",
    "if not os.path.exists(folder_path_new):\n",
    "    os.makedirs(folder_path_new)\n",
    "\n",
    "for file_name in test_file_names:\n",
    "    src = os.path.join(folder_path, file_name)\n",
    "    dst = os.path.join(folder_path_new, file_name)\n",
    "    shutil.copyfile(src, dst)"
   ],
   "id": "7bcca18f9bc7ad3a",
   "outputs": [],
   "execution_count": 47
  },
  {
   "metadata": {},
   "cell_type": "code",
   "source": [
    "inte = [13, 17]\n",
    "#map(str, inte)\n",
    "inte = [str(y) for y in inte]\n",
    "print(inte)\n",
    "print(type(inte[0]))"
   ],
   "id": "65adec9774cecdd3",
   "outputs": [],
   "execution_count": null
  },
  {
   "metadata": {},
   "cell_type": "code",
   "source": "print(ids)",
   "id": "ab2eb6d0e560b10f",
   "outputs": [],
   "execution_count": null
  },
  {
   "metadata": {},
   "cell_type": "code",
   "source": [
    "tc_ids_train = [str(tc) for tc in tc_ids_train]\n",
    "tc_ids_test = [str(tc) for tc in tc_ids_test]\n",
    "tc_ids_val = [str(tc) for tc in tc_ids_val]\n",
    "print(tc_ids_train)\n",
    "print(tc_ids_test)\n",
    "print(tc_ids_val)"
   ],
   "id": "4095f2a0a0b685e1",
   "outputs": [],
   "execution_count": null
  },
  {
   "metadata": {},
   "cell_type": "code",
   "source": [
    "train_ids = []\n",
    "test_ids = []\n",
    "val_ids = []\n",
    "for el in ids:\n",
    "    if (el.split('.')[0]) in tc_ids_train:\n",
    "        train_ids.append(el)\n",
    "    if (el.split('.')[0]) in tc_ids_test:\n",
    "        test_ids.append(el)\n",
    "    if (el.split('.')[0]) in tc_ids_val:\n",
    "        val_ids.append(el)\n",
    "\n",
    "print(test_ids)\n",
    "print(val_ids)\n",
    "print(train_ids)"
   ],
   "id": "feceff04bc15246e",
   "outputs": [],
   "execution_count": null
  },
  {
   "metadata": {},
   "cell_type": "code",
   "source": [
    "finetuning_data_test = create_finetuning_data_from_db(test_ids, db_file, config)\n",
    "finetuning_data_train = create_finetuning_data_from_db(train_ids, db_file, config)\n",
    "finetuning_data_val = create_finetuning_data_from_db(val_ids, db_file, config)"
   ],
   "id": "3fedd5a64c359ac",
   "outputs": [],
   "execution_count": null
  },
  {
   "metadata": {},
   "cell_type": "code",
   "source": "finetuning_data = create_finetuning_data_from_db(ids, db_file, config)",
   "id": "869aa1f1c4f42f4e",
   "outputs": [],
   "execution_count": null
  },
  {
   "metadata": {},
   "cell_type": "code",
   "source": [
    "print(finetuning_data_val[0])\n",
    "print(finetuning_data_train[0])\n",
    "print(finetuning_data_test[0])"
   ],
   "id": "f71b2067f4e7178d",
   "outputs": [],
   "execution_count": null
  },
  {
   "metadata": {},
   "cell_type": "code",
   "source": "finetuning_data[0]",
   "id": "3272e46c429343de",
   "outputs": [],
   "execution_count": null
  },
  {
   "metadata": {},
   "cell_type": "code",
   "source": [
    "save_finetuning_data_as_json(finetuning_data_test, name= \"test\")\n",
    "save_finetuning_data_as_json(finetuning_data_train, name= \"train\")\n",
    "save_finetuning_data_as_json(finetuning_data_val, name= \"val\")"
   ],
   "id": "a03d64a3a4027446",
   "outputs": [],
   "execution_count": null
  },
  {
   "metadata": {},
   "cell_type": "code",
   "source": "save_finetuning_data_as_json(finetuning_data)",
   "id": "23ac88bdb135d909",
   "outputs": [],
   "execution_count": null
  },
  {
   "metadata": {},
   "cell_type": "code",
   "source": "print()",
   "id": "3b437e0632733649",
   "outputs": [],
   "execution_count": null
  },
  {
   "metadata": {},
   "cell_type": "markdown",
   "source": "# DB Ergänzung",
   "id": "201f5092f8f728f4"
  },
  {
   "metadata": {
    "ExecuteTime": {
     "end_time": "2024-07-18T09:23:07.678789Z",
     "start_time": "2024-07-18T09:23:07.674501Z"
    }
   },
   "cell_type": "code",
   "source": [
    "# set working directory to the root of the project\n",
    "#os.chdir(\"..\")\n",
    "os.getcwd()"
   ],
   "id": "974b7fc706c0a27e",
   "outputs": [
    {
     "data": {
      "text/plain": [
       "'C:\\\\Users\\\\c-beh\\\\PycharmProjects\\\\cadenza-playwright-llm'"
      ]
     },
     "execution_count": 4,
     "metadata": {},
     "output_type": "execute_result"
    }
   ],
   "execution_count": 4
  },
  {
   "metadata": {
    "ExecuteTime": {
     "end_time": "2024-07-18T07:21:00.216327Z",
     "start_time": "2024-07-18T07:21:00.208890Z"
    }
   },
   "cell_type": "code",
   "source": [
    "db_file = './data/raw/playwright_script.db'\n",
    "config = load_config(\"./config/config.yaml\")"
   ],
   "id": "8046376058f133e2",
   "outputs": [],
   "execution_count": 5
  },
  {
   "metadata": {
    "ExecuteTime": {
     "end_time": "2024-07-18T07:21:34.306669Z",
     "start_time": "2024-07-18T07:21:34.301912Z"
    }
   },
   "cell_type": "code",
   "source": [
    "# Load ids to be used for finetuning from database\n",
    "conn = sqlite3.connect(db_file)\n",
    "c = conn.cursor()\n",
    "c.execute('SELECT id FROM tests')\n",
    "items = c.fetchall()\n",
    "conn.close()\n",
    "\n",
    "ids = [i[0] for i in items][0:] # Skip the first id since it is not possible to get the previous id"
   ],
   "id": "3927558ae3960ae0",
   "outputs": [],
   "execution_count": 6
  },
  {
   "metadata": {
    "ExecuteTime": {
     "end_time": "2024-07-18T07:21:46.188095Z",
     "start_time": "2024-07-18T07:21:46.185132Z"
    }
   },
   "cell_type": "code",
   "source": "# Idea removed since it creates to many new entries instead current function will get an exception for a first steps and specific reference to 0_1",
   "id": "c79fb46c305bc0dc",
   "outputs": [
    {
     "name": "stdout",
     "output_type": "stream",
     "text": [
      "['1.1', '1.2', '1.3', '1.4', '2.1', '2.2', '3.1', '3.2', '4.1', '4.2', '4.3', '4.4', '4.5', '4.6', '4.7', '5.1', '5.2', '5.3', '5.4', '5.5', '7.1', '7.2', '7.3', '7.4', '8.1', '8.2', '8.3', '8.4', '8.5', '8.6', '9.1', '9.2', '9.3', '9.4', '9.5', '9.6', '10.1', '10.2', '10.3', '10.4', '10.5', '10.6', '11.1', '11.2', '11.3', '11.4', '13.1', '13.2', '13.3', '15.1', '15.2', '15.3', '15.4', '15.5', '17.1', '17.2', '17.3', '17.4', '19.1', '19.2', '19.3', '19.4', '26.1', '26.2', '26.3', '26.4', '26.5', '26.6', '28.1', '28.2', '28.3', '28.4', '12.1', '12.2', '12.3', '12.4', '12.5', '14.1', '14.2', '14.3', '16.1', '16.2', '16.3', '18.1', '18.2', '18.3', '25.1', '25.2', '25.3', '25.4', '25.5', '27.1', '27.2', '27.3', '27.4', '27.5', '30.1', '30.2', '30.3', '30.4']\n"
     ]
    }
   ],
   "execution_count": 8
  },
  {
   "metadata": {},
   "cell_type": "code",
   "outputs": [],
   "execution_count": null,
   "source": "",
   "id": "f7ff07f8e4e63481"
  },
  {
   "metadata": {},
   "cell_type": "markdown",
   "source": "# TC adaptation for empty numbers",
   "id": "e5b21c8f85b2a7b0"
  },
  {
   "metadata": {
    "ExecuteTime": {
     "end_time": "2024-07-18T12:23:54.555246Z",
     "start_time": "2024-07-18T12:23:54.549240Z"
    }
   },
   "cell_type": "code",
   "source": [
    "dir = './data/raw/test_script'\n",
    "tc_ids = []\n",
    "\n",
    "ts_list = os.listdir(dir)\n",
    "print(ts_list)\n",
    "if '.gitkeep' in ts_list:\n",
    "    ts_list.remove('.gitkeep')\n",
    "for el in ts_list:\n",
    "    id = el.split('_')[0]\n",
    "    if id not in tc_ids:\n",
    "        tc_ids.append(id)\n",
    "tc_ids = [int(tc) for tc in tc_ids]\n",
    "print(tc_ids)"
   ],
   "id": "ef6fcc7c3bb35e81",
   "outputs": [
    {
     "name": "stdout",
     "output_type": "stream",
     "text": [
      "['0_1.spec.ts', '10_1.spec.ts', '10_2.spec.ts', '10_3.spec.ts', '10_4.spec.ts', '10_5.spec.ts', '10_6.spec.ts', '11_1.spec.ts', '11_2.spec.ts', '11_3.spec.ts', '11_4.spec.ts', '12_1.spec.ts', '12_2.spec.ts', '12_3.spec.ts', '12_4.spec.ts', '12_5.spec.ts', '13_1.spec.ts', '13_2.spec.ts', '13_3.spec.ts', '14_1.spec.ts', '14_2.spec.ts', '14_3.spec.ts', '15_1.spec.ts', '15_2.spec.ts', '15_3.spec.ts', '15_4.spec.ts', '15_5.spec.ts', '16_1.spec.ts', '16_2.spec.ts', '16_3.spec.ts', '17_1.spec.ts', '17_2.spec.ts', '17_3.spec.ts', '17_4.spec.ts', '18_1.spec.ts', '18_2.spec.ts', '18_3.spec.ts', '19_1.spec.ts', '19_2.spec.ts', '19_3.spec.ts', '19_4.spec.ts', '1_1.spec.ts', '1_2.spec.ts', '1_3.spec.ts', '1_4.spec.ts', '25_1.spec.ts', '25_2.spec.ts', '25_3.spec.ts', '25_4.spec.ts', '25_5.spec.ts', '26_1.spec.ts', '26_2.spec.ts', '26_3.spec.ts', '26_4.spec.ts', '26_5.spec.ts', '26_6.spec.ts', '27_1.spec.ts', '27_2.spec.ts', '27_3.spec.ts', '27_4.spec.ts', '27_5.spec.ts', '28_1.spec.ts', '28_2.spec.ts', '28_3.spec.ts', '28_4.spec.ts', '2_1.spec.ts', '2_2.spec.ts', '30_1.spec.ts', '30_2.spec.ts', '30_3.spec.ts', '30_4.spec.ts', '3_1.spec.ts', '3_2.spec.ts', '4_1.spec.ts', '4_2.spec.ts', '4_3.spec.ts', '4_4.spec.ts', '4_5.spec.ts', '4_6.spec.ts', '4_7.spec.ts', '5_1.spec.ts', '5_2.spec.ts', '5_3.spec.ts', '5_4.spec.ts', '5_5.spec.ts', '7_1.spec.ts', '7_2.spec.ts', '7_3.spec.ts', '7_4.spec.ts', '8_1.spec.ts', '8_2.spec.ts', '8_3.spec.ts', '8_4.spec.ts', '8_5.spec.ts', '8_6.spec.ts', '9_1.spec.ts', '9_2.spec.ts', '9_3.spec.ts', '9_4.spec.ts', '9_5.spec.ts', '9_6.spec.ts']\n",
      "[0, 10, 11, 12, 13, 14, 15, 16, 17, 18, 19, 1, 25, 26, 27, 28, 2, 30, 3, 4, 5, 7, 8, 9]\n"
     ]
    }
   ],
   "execution_count": 7
  },
  {
   "metadata": {},
   "cell_type": "markdown",
   "source": "# Adapting create finetuning data\n",
   "id": "2c6c50fb3019c0ff"
  },
  {
   "metadata": {
    "ExecuteTime": {
     "end_time": "2024-07-18T09:23:20.038118Z",
     "start_time": "2024-07-18T09:23:20.034738Z"
    }
   },
   "cell_type": "code",
   "source": [
    "\n",
    "from src.utils.helpers import get_previous_id"
   ],
   "id": "37613a99d9570834",
   "outputs": [],
   "execution_count": 5
  },
  {
   "metadata": {
    "ExecuteTime": {
     "end_time": "2024-07-18T11:30:11.717461Z",
     "start_time": "2024-07-18T11:30:11.708870Z"
    }
   },
   "cell_type": "code",
   "source": [
    "db_file = './data/raw/playwright_script.db' #'C:/Users/c-beh/Documents/KIT/Semester 3/PSDA/Ex3/data_updated/data/playwright_script.db' #\n",
    "config = load_config(\"./config/config.yaml\")"
   ],
   "id": "404c4de945f85a79",
   "outputs": [],
   "execution_count": 6
  },
  {
   "metadata": {
    "ExecuteTime": {
     "end_time": "2024-07-18T11:30:21.886693Z",
     "start_time": "2024-07-18T11:30:21.882452Z"
    }
   },
   "cell_type": "code",
   "source": [
    "# Load ids to be used for finetuning from database\n",
    "conn = sqlite3.connect(db_file)\n",
    "c = conn.cursor()\n",
    "c.execute('SELECT id FROM tests')\n",
    "items = c.fetchall()\n",
    "conn.close()\n",
    "\n",
    "ids = [i[0] for i in items][0:]"
   ],
   "id": "e878926366fd3bf1",
   "outputs": [],
   "execution_count": 9
  },
  {
   "metadata": {
    "ExecuteTime": {
     "end_time": "2024-07-18T11:30:23.304540Z",
     "start_time": "2024-07-18T11:30:23.301209Z"
    }
   },
   "cell_type": "code",
   "source": "print(ids)",
   "id": "b4e8c964b209725e",
   "outputs": [
    {
     "name": "stdout",
     "output_type": "stream",
     "text": [
      "['1.1', '1.2', '1.3', '1.4', '2.1', '2.2', '3.1', '3.2', '4.1', '4.2', '4.3', '4.4', '4.5', '4.6', '4.7', '5.1', '5.2', '5.3', '5.4', '5.5', '7.1', '7.2', '7.3', '7.4', '8.1', '8.2', '8.3', '8.4', '8.5', '8.6', '9.1', '9.2', '9.3', '9.4', '9.5', '9.6', '10.1', '10.2', '10.3', '10.4', '10.5', '10.6', '11.1', '11.2', '11.3', '11.4', '13.1', '13.2', '13.3', '15.1', '15.2', '15.3', '15.4', '15.5', '17.1', '17.2', '17.3', '17.4', '19.1', '19.2', '19.3', '19.4', '26.1', '26.2', '26.3', '26.4', '26.5', '26.6', '28.1', '28.2', '28.3', '28.4', '12.1', '12.2', '12.3', '12.4', '12.5', '14.1', '14.2', '14.3', '16.1', '16.2', '16.3', '18.1', '18.2', '18.3', '25.1', '25.2', '25.3', '25.4', '25.5', '27.1', '27.2', '27.3', '27.4', '27.5', '30.1', '30.2', '30.3', '30.4', '0.1']\n"
     ]
    }
   ],
   "execution_count": 10
  },
  {
   "metadata": {},
   "cell_type": "code",
   "outputs": [],
   "execution_count": null,
   "source": [
    "def get_previous_id_local(id: str) -> str:\n",
    "    \"\"\"Get the ID of the previous step of a test case.\n",
    "\n",
    "    :param id: The ID of the current step.\n",
    "    :return: The ID of the previous step, or an empty string if invalid.\n",
    "    \"\"\"\n",
    "    try:\n",
    "        test, step = map(int, id.split('.'))\n",
    "        if step > 1:\n",
    "            return f\"{test}.{step - 1}\"\n",
    "        elif step == 1:\n",
    "            return \"0.1\"\n",
    "        else:\n",
    "            logger.warning(f\"Test {test} has no previous step. Cannot retrieve ID.\")\n",
    "            return \"\"\n",
    "    except ValueError:\n",
    "        logger.error(f\"Invalid ID format: {id}\")\n",
    "        return \"\""
   ],
   "id": "6dc15131c2ea095d"
  },
  {
   "metadata": {},
   "cell_type": "code",
   "outputs": [],
   "execution_count": null,
   "source": "finetuning_data = create_finetuning_data_from_db(ids, db_file, config)",
   "id": "15e0f34c1acaaada"
  },
  {
   "metadata": {},
   "cell_type": "markdown",
   "source": "# Add missing 0_1 step in db",
   "id": "e70ad608ece55337"
  },
  {
   "metadata": {
    "ExecuteTime": {
     "end_time": "2024-07-18T12:23:41.989625Z",
     "start_time": "2024-07-18T12:23:41.981349Z"
    }
   },
   "cell_type": "code",
   "source": [
    "db_file = './data/raw/playwright_script.db'\n",
    "config = load_config(\"./config/config.yaml\")"
   ],
   "id": "510ca8c0e68479ca",
   "outputs": [],
   "execution_count": 4
  },
  {
   "metadata": {
    "ExecuteTime": {
     "end_time": "2024-07-18T12:23:43.373167Z",
     "start_time": "2024-07-18T12:23:43.369721Z"
    }
   },
   "cell_type": "code",
   "source": [
    "conn = sqlite3.connect(db_file)\n",
    "cursor = conn.cursor()"
   ],
   "id": "6969ca26614f1590",
   "outputs": [],
   "execution_count": 5
  },
  {
   "metadata": {
    "ExecuteTime": {
     "end_time": "2024-07-18T12:23:46.683510Z",
     "start_time": "2024-07-18T12:23:46.678473Z"
    }
   },
   "cell_type": "code",
   "source": [
    "# Load ids to be used for finetuning from database\n",
    "conn = sqlite3.connect(db_file)\n",
    "c = conn.cursor()\n",
    "c.execute('SELECT id FROM tests')\n",
    "items = c.fetchall()\n",
    "\n",
    "\n",
    "ids = [i[0] for i in items][0:] # Skip the first id since it is not possible to get the previous id\n",
    "print(ids)"
   ],
   "id": "fd4a10ae085270b5",
   "outputs": [
    {
     "name": "stdout",
     "output_type": "stream",
     "text": [
      "['1.1', '1.2', '1.3', '1.4', '2.1', '2.2', '3.1', '3.2', '4.1', '4.2', '4.3', '4.4', '4.5', '4.6', '4.7', '5.1', '5.2', '5.3', '5.4', '5.5', '7.1', '7.2', '7.3', '7.4', '8.1', '8.2', '8.3', '8.4', '8.5', '8.6', '9.1', '9.2', '9.3', '9.4', '9.5', '9.6', '10.1', '10.2', '10.3', '10.4', '10.5', '10.6', '11.1', '11.2', '11.3', '11.4', '13.1', '13.2', '13.3', '15.1', '15.2', '15.3', '15.4', '15.5', '17.1', '17.2', '17.3', '17.4', '19.1', '19.2', '19.3', '19.4', '26.1', '26.2', '26.3', '26.4', '26.5', '26.6', '28.1', '28.2', '28.3', '28.4', '12.1', '12.2', '12.3', '12.4', '12.5', '14.1', '14.2', '14.3', '16.1', '16.2', '16.3', '18.1', '18.2', '18.3', '25.1', '25.2', '25.3', '25.4', '25.5', '27.1', '27.2', '27.3', '27.4', '27.5', '30.1', '30.2', '30.3', '30.4']\n"
     ]
    }
   ],
   "execution_count": 6
  },
  {
   "metadata": {
    "ExecuteTime": {
     "end_time": "2024-07-18T08:19:01.757695Z",
     "start_time": "2024-07-18T08:19:01.753084Z"
    }
   },
   "cell_type": "code",
   "source": [
    "current_id = \"1.2\"\n",
    "previous_id = get_previous_id(current_id)\n",
    "if not previous_id:\n",
    "    print([])\n",
    "\n",
    "query = 'SELECT * FROM tests WHERE id IN (?, ?)'\n",
    "cursor.execute(query, (current_id, previous_id))\n",
    "print(cursor.fetchall())"
   ],
   "id": "25a130d4be7e9509",
   "outputs": [
    {
     "name": "stdout",
     "output_type": "stream",
     "text": [
      "[('1.1', '[1.1] Öffne die Arbeitsmappe \"Übersicht Messstellen\" im Ordner \"Gewässergüte\".', '[1.1] Expected result: Die Arbeitsmappe wird geöffnet, der Analysekontext ist nicht sichtbar.', '.\\\\html\\\\1_1.html', '.\\\\screenshot\\\\1_1.png', '.\\\\test_script\\\\1_1.spec.ts'), ('1.2', '[1.1] Öffne die Arbeitsmappe \"Übersicht Messstellen\" im Ordner \"Gewässergüte\". [1.2]  Öffnen der Tabellen-Sicht \"Messstellenliste\" über die Werkzeugliste der Arbeitsmappe.', '[1.2] Expected result: Die Tabelle \"Messstelleninformationen\" wird angezeigt, der Analysekontext ist sichtbar.', '.\\\\html\\\\1_2.html', '.\\\\screenshot\\\\1_2.png', '.\\\\test_script\\\\1_2.spec.ts')]\n"
     ]
    }
   ],
   "execution_count": 49
  },
  {
   "metadata": {
    "ExecuteTime": {
     "end_time": "2024-07-18T12:02:14.508303Z",
     "start_time": "2024-07-18T12:02:14.503465Z"
    }
   },
   "cell_type": "code",
   "source": [
    "query = 'SELECT * FROM tests WHERE id = 1.1'\n",
    "cursor.execute(query)\n",
    "cursor.fetchall()"
   ],
   "id": "45071cf74e108f9e",
   "outputs": [
    {
     "data": {
      "text/plain": [
       "[('1.1',\n",
       "  '[1.1] Öffne die Arbeitsmappe \"Übersicht Messstellen\" im Ordner \"Gewässergüte\".',\n",
       "  '[1.1] Expected result: Die Arbeitsmappe wird geöffnet, der Analysekontext ist nicht sichtbar.',\n",
       "  '.\\\\html\\\\1_1.html',\n",
       "  '.\\\\screenshot\\\\1_1.png',\n",
       "  '.\\\\test_script\\\\1_1.spec.ts')]"
      ]
     },
     "execution_count": 6,
     "metadata": {},
     "output_type": "execute_result"
    }
   ],
   "execution_count": 6
  },
  {
   "metadata": {},
   "cell_type": "code",
   "outputs": [],
   "execution_count": null,
   "source": [
    "dir = \"\"\n",
    "with open('data.txt', 'r') as file:\n",
    "    data = file.read().replace('\\n', '')\n",
    "    \n",
    "print(data)"
   ],
   "id": "ef5ce53ee063157b"
  },
  {
   "metadata": {
    "ExecuteTime": {
     "end_time": "2024-07-18T11:18:31.572424Z",
     "start_time": "2024-07-18T11:18:31.567620Z"
    }
   },
   "cell_type": "code",
   "source": [
    "query = 'PRAGMA table_info(tests)'\n",
    "cursor.execute(query)\n",
    "cursor.fetchall()"
   ],
   "id": "c869f4ec69bc46b6",
   "outputs": [
    {
     "data": {
      "text/plain": [
       "[(0, 'id', 'TEXT', 0, None, 0),\n",
       " (1, 'steps', 'TEXT', 0, None, 0),\n",
       " (2, 'expectation', 'TEXT', 0, None, 0),\n",
       " (3, 'html', 'TEXT', 0, None, 0),\n",
       " (4, 'screenshot', 'TEXT', 0, None, 0),\n",
       " (5, 'test_script', 'TEXT', 0, None, 0)]"
      ]
     },
     "execution_count": 39,
     "metadata": {},
     "output_type": "execute_result"
    }
   ],
   "execution_count": 39
  },
  {
   "metadata": {
    "ExecuteTime": {
     "end_time": "2024-07-18T11:15:17.771921Z",
     "start_time": "2024-07-18T11:15:17.768464Z"
    }
   },
   "cell_type": "code",
   "source": "print(tc_ids)",
   "id": "b7f56b0461e9b6ed",
   "outputs": [
    {
     "name": "stdout",
     "output_type": "stream",
     "text": [
      "[0, 10, 11, 12, 13, 14, 15, 16, 17, 18, 19, 1, 25, 26, 27, 28, 2, 30, 3, 4, 5, 7, 8, 9]\n"
     ]
    }
   ],
   "execution_count": 34
  },
  {
   "metadata": {
    "ExecuteTime": {
     "end_time": "2024-07-18T12:26:42.761230Z",
     "start_time": "2024-07-18T12:26:42.664811Z"
    }
   },
   "cell_type": "code",
   "source": [
    "for tc_id in tc_ids:\n",
    "    \n",
    "    conn = sqlite3.connect(db_file)\n",
    "    cursor = conn.cursor()\n",
    "    \n",
    "    id = f\"{tc_id}.0\"\n",
    "    steps = \"\"\n",
    "    expectation = \"\"\n",
    "    html = \".\\\\html\\\\0_1.html\"\n",
    "    screenshot = \".\\\\screenshot\\\\0_1.png\"\n",
    "    test_script = \".\\\\test_script\\\\0_1.spec.ts\"\n",
    "    \n",
    "    query = f\"INSERT INTO tests VALUES('{id}','{steps}','{expectation}','{html}','{screenshot}','{test_script}')\"\n",
    "    cursor.execute(query)\n",
    "    cursor.fetchall()\n",
    "    conn.commit()\n",
    "    \n",
    "    conn.close()"
   ],
   "id": "feb36d8ed5c6821",
   "outputs": [],
   "execution_count": 20
  },
  {
   "metadata": {
    "ExecuteTime": {
     "end_time": "2024-07-18T13:31:27.976725Z",
     "start_time": "2024-07-18T13:31:27.968917Z"
    }
   },
   "cell_type": "code",
   "source": [
    "conn = sqlite3.connect(db_file)\n",
    "cursor = conn.cursor()\n",
    "\n",
    "query = 'SELECT * FROM tests WHERE steps = \"\" '\n",
    "cursor.execute(query)\n",
    "cursor.fetchall()"
   ],
   "id": "bcef7db2d4cf53",
   "outputs": [
    {
     "data": {
      "text/plain": [
       "[('10.0',\n",
       "  '',\n",
       "  '',\n",
       "  '.\\\\html\\\\0_1.html',\n",
       "  '.\\\\screenshot\\\\0_1.png',\n",
       "  '.\\\\test_script\\\\0_1.spec.ts'),\n",
       " ('11.0',\n",
       "  '',\n",
       "  '',\n",
       "  '.\\\\html\\\\0_1.html',\n",
       "  '.\\\\screenshot\\\\0_1.png',\n",
       "  '.\\\\test_script\\\\0_1.spec.ts'),\n",
       " ('12.0',\n",
       "  '',\n",
       "  '',\n",
       "  '.\\\\html\\\\0_1.html',\n",
       "  '.\\\\screenshot\\\\0_1.png',\n",
       "  '.\\\\test_script\\\\0_1.spec.ts'),\n",
       " ('13.0',\n",
       "  '',\n",
       "  '',\n",
       "  '.\\\\html\\\\0_1.html',\n",
       "  '.\\\\screenshot\\\\0_1.png',\n",
       "  '.\\\\test_script\\\\0_1.spec.ts'),\n",
       " ('14.0',\n",
       "  '',\n",
       "  '',\n",
       "  '.\\\\html\\\\0_1.html',\n",
       "  '.\\\\screenshot\\\\0_1.png',\n",
       "  '.\\\\test_script\\\\0_1.spec.ts'),\n",
       " ('15.0',\n",
       "  '',\n",
       "  '',\n",
       "  '.\\\\html\\\\0_1.html',\n",
       "  '.\\\\screenshot\\\\0_1.png',\n",
       "  '.\\\\test_script\\\\0_1.spec.ts'),\n",
       " ('16.0',\n",
       "  '',\n",
       "  '',\n",
       "  '.\\\\html\\\\0_1.html',\n",
       "  '.\\\\screenshot\\\\0_1.png',\n",
       "  '.\\\\test_script\\\\0_1.spec.ts'),\n",
       " ('17.0',\n",
       "  '',\n",
       "  '',\n",
       "  '.\\\\html\\\\0_1.html',\n",
       "  '.\\\\screenshot\\\\0_1.png',\n",
       "  '.\\\\test_script\\\\0_1.spec.ts'),\n",
       " ('18.0',\n",
       "  '',\n",
       "  '',\n",
       "  '.\\\\html\\\\0_1.html',\n",
       "  '.\\\\screenshot\\\\0_1.png',\n",
       "  '.\\\\test_script\\\\0_1.spec.ts'),\n",
       " ('19.0',\n",
       "  '',\n",
       "  '',\n",
       "  '.\\\\html\\\\0_1.html',\n",
       "  '.\\\\screenshot\\\\0_1.png',\n",
       "  '.\\\\test_script\\\\0_1.spec.ts'),\n",
       " ('1.0',\n",
       "  '',\n",
       "  '',\n",
       "  '.\\\\html\\\\0_1.html',\n",
       "  '.\\\\screenshot\\\\0_1.png',\n",
       "  '.\\\\test_script\\\\0_1.spec.ts'),\n",
       " ('25.0',\n",
       "  '',\n",
       "  '',\n",
       "  '.\\\\html\\\\0_1.html',\n",
       "  '.\\\\screenshot\\\\0_1.png',\n",
       "  '.\\\\test_script\\\\0_1.spec.ts'),\n",
       " ('26.0',\n",
       "  '',\n",
       "  '',\n",
       "  '.\\\\html\\\\0_1.html',\n",
       "  '.\\\\screenshot\\\\0_1.png',\n",
       "  '.\\\\test_script\\\\0_1.spec.ts'),\n",
       " ('27.0',\n",
       "  '',\n",
       "  '',\n",
       "  '.\\\\html\\\\0_1.html',\n",
       "  '.\\\\screenshot\\\\0_1.png',\n",
       "  '.\\\\test_script\\\\0_1.spec.ts'),\n",
       " ('28.0',\n",
       "  '',\n",
       "  '',\n",
       "  '.\\\\html\\\\0_1.html',\n",
       "  '.\\\\screenshot\\\\0_1.png',\n",
       "  '.\\\\test_script\\\\0_1.spec.ts'),\n",
       " ('2.0',\n",
       "  '',\n",
       "  '',\n",
       "  '.\\\\html\\\\0_1.html',\n",
       "  '.\\\\screenshot\\\\0_1.png',\n",
       "  '.\\\\test_script\\\\0_1.spec.ts'),\n",
       " ('30.0',\n",
       "  '',\n",
       "  '',\n",
       "  '.\\\\html\\\\0_1.html',\n",
       "  '.\\\\screenshot\\\\0_1.png',\n",
       "  '.\\\\test_script\\\\0_1.spec.ts'),\n",
       " ('3.0',\n",
       "  '',\n",
       "  '',\n",
       "  '.\\\\html\\\\0_1.html',\n",
       "  '.\\\\screenshot\\\\0_1.png',\n",
       "  '.\\\\test_script\\\\0_1.spec.ts'),\n",
       " ('4.0',\n",
       "  '',\n",
       "  '',\n",
       "  '.\\\\html\\\\0_1.html',\n",
       "  '.\\\\screenshot\\\\0_1.png',\n",
       "  '.\\\\test_script\\\\0_1.spec.ts'),\n",
       " ('5.0',\n",
       "  '',\n",
       "  '',\n",
       "  '.\\\\html\\\\0_1.html',\n",
       "  '.\\\\screenshot\\\\0_1.png',\n",
       "  '.\\\\test_script\\\\0_1.spec.ts'),\n",
       " ('7.0',\n",
       "  '',\n",
       "  '',\n",
       "  '.\\\\html\\\\0_1.html',\n",
       "  '.\\\\screenshot\\\\0_1.png',\n",
       "  '.\\\\test_script\\\\0_1.spec.ts'),\n",
       " ('8.0',\n",
       "  '',\n",
       "  '',\n",
       "  '.\\\\html\\\\0_1.html',\n",
       "  '.\\\\screenshot\\\\0_1.png',\n",
       "  '.\\\\test_script\\\\0_1.spec.ts'),\n",
       " ('9.0',\n",
       "  '',\n",
       "  '',\n",
       "  '.\\\\html\\\\0_1.html',\n",
       "  '.\\\\screenshot\\\\0_1.png',\n",
       "  '.\\\\test_script\\\\0_1.spec.ts')]"
      ]
     },
     "execution_count": 30,
     "metadata": {},
     "output_type": "execute_result"
    }
   ],
   "execution_count": 30
  },
  {
   "metadata": {
    "ExecuteTime": {
     "end_time": "2024-07-18T13:31:25.329936Z",
     "start_time": "2024-07-18T13:31:25.325347Z"
    }
   },
   "cell_type": "code",
   "source": [
    "DUPLICATE = True\n",
    "if DUPLICATE:\n",
    "    print(\"deleted\")\n",
    "    id = \"0.1\"\n",
    "        \n",
    "    query = f\"DELETE FROM tests WHERE id = 0.0 \"\n",
    "    cursor.execute(query)\n",
    "    cursor.fetchall()\n",
    "    conn.commit()"
   ],
   "id": "c4b3c724a0324cd1",
   "outputs": [
    {
     "name": "stdout",
     "output_type": "stream",
     "text": [
      "deleted\n"
     ]
    }
   ],
   "execution_count": 29
  },
  {
   "metadata": {},
   "cell_type": "code",
   "outputs": [],
   "execution_count": null,
   "source": "",
   "id": "13c878d2273133b1"
  },
  {
   "metadata": {
    "ExecuteTime": {
     "end_time": "2024-07-18T08:33:00.863500Z",
     "start_time": "2024-07-18T08:33:00.859865Z"
    }
   },
   "cell_type": "code",
   "source": "conn.close()",
   "id": "d419bf0d1609b2a5",
   "outputs": [],
   "execution_count": 64
  },
  {
   "metadata": {},
   "cell_type": "code",
   "outputs": [],
   "execution_count": null,
   "source": "",
   "id": "7d6a06044d962e2c"
  },
  {
   "metadata": {
    "ExecuteTime": {
     "end_time": "2024-07-18T11:21:32.380098Z",
     "start_time": "2024-07-18T11:21:32.372912Z"
    }
   },
   "cell_type": "code",
   "source": "",
   "id": "206dd08a90685aff",
   "outputs": [
    {
     "name": "stdout",
     "output_type": "stream",
     "text": [
      "### Simplified HTML Content:\n",
      "Buttons: \n",
      "{\"id\": \"navigationTrigger\", \"class\": \"button button-icon button-borderless\"}\n",
      "{\"id\": \"workbook-create\", \"class\": \"button workbook-create button-icon\"}\n",
      "Inputs: \n",
      "{\"class\": \"select2-search__field\", \"aria-label\": \"Suchen nach …\", \"type\": \"search\", \"placeholder\": \"Suchen nach …\"}\n",
      "Links: \n",
      "{\"text\": \"Zum Navigatorbaum springen\", \"id\": \"skip-to-navigator\", \"class\": \"button button-primary\"}\n",
      "{\"text\": \"Zum Hauptbereich springen\", \"id\": \"skip-to-content\", \"class\": \"button button-primary\"}\n",
      "{\"text\": \"Startseite\", \"id\": \"home\", \"class\": \"button button-icon button-borderless\"}\n",
      "{\"text\": \"Karte\", \"class\": \"button button-icon button-borderless d-topnav--map-button\"}\n",
      "{\"text\": \"Verzeichnis Tutorial\", \"id\": \"d-nav-tree-node_ROOT-Tutorial_firstContent\", \"class\": \"d-nav-tree-node--main d-hover-context\"}\n",
      "{\"text\": \"Verzeichnis Gewässergüte\", \"id\": \"d-nav-tree-node_ROOT-Gewässergüte_firstContent\", \"class\": \"d-nav-tree-node--main d-hover-context\"}\n",
      "{\"text\": \"Verzeichnis Einzelsichten\", \"id\": \"d-nav-tree-node_ROOT-Gewässergüte-Einzelsichten_firstContent\", \"class\": \"d-nav-tree-node--main d-hover-context\"}\n",
      "{\"text\": \"Arbeitsmappe Übersicht Messstellen\", \"id\": \"d-nav-tree-node_ROOT-Gewässergüte-Pc8YJDtHybIR3hDILuOJ-AYlrNnT5PoRJJL0IZiCc_firstContent\", \"class\": \"d-nav-tree-node--main d-hover-context\"}\n",
      "{\"text\": \"Übersicht Messstellen\", \"class\": \"d-nav-tree-node--text ellipsis\"}\n",
      "{\"text\": \"Dashboard Informationen zur Arbeitsmappe\", \"class\": \"d-nav-tree-node--main d-hover-context\"}\n",
      "{\"text\": \"Tabelle Messstellenliste\", \"class\": \"d-nav-tree-node--main d-hover-context\"}\n",
      "{\"text\": \"Karte Messstellenkarte\", \"class\": \"d-nav-tree-node--main d-hover-context\"}\n",
      "{\"text\": \"Dashboard Häufigkeit der Messungen\", \"class\": \"d-nav-tree-node--main d-hover-context\"}\n",
      "{\"text\": \"Dashboard JasperReport: Druckbericht zur Anzahl der Messstellen\", \"class\": \"d-nav-tree-node--main d-hover-context\"}\n",
      "{\"text\": \"Arbeitsmappe Auswertungen nach Parameter\", \"id\": \"d-nav-tree-node_ROOT-Gewässergüte-Pc8YJDtHybIR3hDILuOJ-4yn3EfwE6YXaoBrRpJ70_firstContent\", \"class\": \"d-nav-tree-node--main d-hover-context\"}\n",
      "{\"text\": \"Auswertungen nach Parameter\", \"class\": \"d-nav-tree-node--text ellipsis\"}\n",
      "{\"text\": \"Arbeitsmappe Messstellen-Monitoring\", \"id\": \"d-nav-tree-node_ROOT-Gewässergüte-Pc8YJDtHybIR3hDILuOJ-4-2I0H39LqG_JBUXi1YV_firstContent\", \"class\": \"d-nav-tree-node--main d-hover-context\"}\n",
      "{\"text\": \"Messstellen-Monitoring\", \"class\": \"d-nav-tree-node--text ellipsis\"}\n",
      "{\"text\": \"Arbeitsmappe Elbe-Monitoring\", \"id\": \"d-nav-tree-node_ROOT-Gewässergüte-Pc8YJDtHybIR3hDILuOJ-EFL2Fj-kNKL_gq8A5WUp_firstContent\", \"class\": \"d-nav-tree-node--main d-hover-context\"}\n",
      "{\"text\": \"Elbe-Monitoring\", \"class\": \"d-nav-tree-node--text ellipsis\"}\n",
      "{\"text\": \"Verzeichnis Automobile\", \"id\": \"d-nav-tree-node_ROOT-Automobile_firstContent\", \"class\": \"d-nav-tree-node--main d-hover-context\"}\n",
      "{\"text\": \"Verzeichnis Ergänzende Geodaten\", \"id\": \"d-nav-tree-node_ROOT-Ergänzende-Geodaten_firstContent\", \"class\": \"d-nav-tree-node--main d-hover-context\"}\n",
      "{\"text\": \"Verzeichnis Zentrale Dienste\", \"id\": \"d-nav-tree-node_ROOT-Zentrale-Dienste_firstContent\", \"class\": \"d-nav-tree-node--main d-hover-context\"}\n",
      "{\"text\": \"Verzeichnis Meine Arbeitsmappen\", \"id\": \"d-nav-tree-node_ROOT-Meine-Arbeitsmappen_firstContent\", \"class\": \"d-nav-tree-node--main d-hover-context\"}\n",
      "{\"text\": \"Arbeitsmappe Zugangsdaten\", \"id\": \"d-nav-tree-node_ROOT-wYRrGPE6Y6LtRpCm9ofb-HLiA_wB-1Y3slGMCaAfo_firstContent\", \"class\": \"d-nav-tree-node--main d-hover-context\"}\n",
      "{\"text\": \"Zugangsdaten\", \"class\": \"d-nav-tree-node--text ellipsis\"}\n",
      "{\"text\": \"disy Cadenza\"}\n",
      "{\"text\": \"Tutorials\"}\n",
      "{\"text\": \"Lernmodulen\"}\n",
      "{\"text\": \"Onlinehilfe\"}\n",
      "{\"text\": \"Webseite\"}\n",
      "{\"text\": \"Lernmodulen\"}\n",
      "{\"text\": \"1\", \"class\": \"startpage-section-navigation-item\"}\n",
      "{\"text\": \"2\", \"class\": \"startpage-section-navigation-item\"}\n",
      "{\"text\": \"3\", \"class\": \"startpage-section-navigation-item\"}\n",
      "{\"text\": \"4\", \"class\": \"startpage-section-navigation-item\"}\n",
      "{\"text\": \"5\", \"class\": \"startpage-section-navigation-item\"}\n",
      "{\"text\": \"6\", \"class\": \"startpage-section-navigation-item\"}\n",
      "{\"text\": \"7\", \"class\": \"startpage-section-navigation-item\"}\n",
      "{\"text\": \"disy Cadenza v9.4.71\", \"class\": \"userSpecificLink ellipsis hidden-xs\"}\n",
      "{\"text\": \"© Disy Informationssysteme GmbH\", \"class\": \"userSpecificLink ellipsis hidden-xs\"}\n",
      "{\"text\": \"Über Disy\", \"class\": \"userSpecificLink ellipsis\"}\n",
      "\n",
      "\n",
      "### Playwright Test Precondition:\n",
      "import { test, expect } from '@playwright/test';\n",
      "import { writeFileSync } from 'fs';\n",
      "\n",
      "\n",
      "test('test', async ({ page }) => {\n",
      "  await page.goto('http://localhost:8080/cadenza/');\n",
      "  await page.getByRole('link', { name: 'Anmelden' }).click();\n",
      "  await page.getByLabel('Benutzername *').click();\n",
      "  await page.getByLabel('Benutzername *').fill('Admin');\n",
      "  await page.getByLabel('Benutzername *').press('Tab');\n",
      "  await page.getByPlaceholder(' ').fill('Admin');\n",
      "  await page.getByRole('button', { name: 'Anmelden' }).click();\n",
      "  await page.getByText('Verzeichnis Gewässergüte', { exact: true }).click();\n",
      "  const parentElement = await page.getByText('Arbeitsmappe Übersicht Messstellen').locator('..');\n",
      "  await parentElement.locator('.d-icon.d-icon-bold.status-icon').click(); \n",
      "\n",
      "});\n",
      "\n",
      "### UI Test Description:\n",
      "Öffnen der Tabellen-Sicht \"Messstellenliste\" über die Werkzeugliste der Arbeitsmappe.\n",
      "\n",
      "### Screenshot:\n",
      " <image>\n",
      "\n",
      "### Task:\n",
      "You are a test automation script writer. I will describe a UI test in German and you will generate Playwright test code for the given webpage. Strictly follow these instructions:\n",
      "1. Don't explain the code, just generate the code block itself.\n",
      "2. You get some HTML elements and its attributes from the website. You can use playwright locators to find the elements by their attributes.\n",
      "3. Use the precondition code to set up the initial state. You must continue the code.\n",
      "4. Follow the steps in the ui test description to perform actions on the website.\n",
      "5. Use the screenshot to understand the context of the test.\n",
      "Assistant: \n"
     ]
    }
   ],
   "execution_count": 42
  },
  {
   "metadata": {},
   "cell_type": "markdown",
   "source": "# Error in JSON",
   "id": "afaf70c4534ddd14"
  },
  {
   "metadata": {
    "ExecuteTime": {
     "end_time": "2024-07-18T09:09:36.768079Z",
     "start_time": "2024-07-18T09:09:36.759892Z"
    }
   },
   "cell_type": "code",
   "source": [
    "db_file = './data/raw/playwright_script.db'\n",
    "config = load_config(\"./config/config.yaml\")\n",
    "conn = sqlite3.connect(db_file)\n",
    "cursor = conn.cursor()"
   ],
   "id": "5d8bd9da5471f442",
   "outputs": [],
   "execution_count": 9
  },
  {
   "metadata": {
    "ExecuteTime": {
     "end_time": "2024-07-18T09:10:24.922995Z",
     "start_time": "2024-07-18T09:10:24.919488Z"
    }
   },
   "cell_type": "code",
   "source": "from src.utils.helpers import get_previous_id",
   "id": "804bd334f978b472",
   "outputs": [],
   "execution_count": 11
  },
  {
   "metadata": {
    "ExecuteTime": {
     "end_time": "2024-07-18T09:10:32.085287Z",
     "start_time": "2024-07-18T09:10:32.081209Z"
    }
   },
   "cell_type": "code",
   "source": [
    "def fetch_relevant_items_local(cursor, current_id: str) -> list:\n",
    "    \"\"\"Fetch the relevant items from the database.\n",
    "\n",
    "    :param cursor: The database cursor object.\n",
    "    :param current_id: The ID of the current step.\n",
    "    :return: The relevant items from the database, or an empty list if invalid.\n",
    "    \"\"\"\n",
    "    previous_id = get_previous_id(current_id)\n",
    "    if not previous_id:\n",
    "        return []\n",
    "\n",
    "    query = 'SELECT * FROM tests WHERE id IN (?, ?)'\n",
    "    cursor.execute(query, (current_id, previous_id))\n",
    "    return cursor.fetchall()"
   ],
   "id": "33b72af0ba70239b",
   "outputs": [],
   "execution_count": 12
  },
  {
   "metadata": {
    "ExecuteTime": {
     "end_time": "2024-07-18T09:16:17.523836Z",
     "start_time": "2024-07-18T09:16:17.519932Z"
    }
   },
   "cell_type": "code",
   "source": [
    "items_11 = fetch_relevant_items_local(cursor, \"1.1\")\n",
    "items_12 = fetch_relevant_items_local(cursor, \"1.2\")\n",
    "print(items_11,items_12)"
   ],
   "id": "e8573c255d2337df",
   "outputs": [
    {
     "name": "stdout",
     "output_type": "stream",
     "text": [
      "[('1.1', '[1.1] Öffne die Arbeitsmappe \"Übersicht Messstellen\" im Ordner \"Gewässergüte\".', '[1.1] Expected result: Die Arbeitsmappe wird geöffnet, der Analysekontext ist nicht sichtbar.', '.\\\\html\\\\1_1.html', '.\\\\screenshot\\\\1_1.png', '.\\\\test_script\\\\1_1.spec.ts'), ('0.1', '', '', '.\\\\html\\\\0_1.html', '.\\\\screenshot\\\\0_1.png', '.\\\\test_script\\\\0_1.spec.ts')] [('1.1', '[1.1] Öffne die Arbeitsmappe \"Übersicht Messstellen\" im Ordner \"Gewässergüte\".', '[1.1] Expected result: Die Arbeitsmappe wird geöffnet, der Analysekontext ist nicht sichtbar.', '.\\\\html\\\\1_1.html', '.\\\\screenshot\\\\1_1.png', '.\\\\test_script\\\\1_1.spec.ts'), ('1.2', '[1.1] Öffne die Arbeitsmappe \"Übersicht Messstellen\" im Ordner \"Gewässergüte\". [1.2]  Öffnen der Tabellen-Sicht \"Messstellenliste\" über die Werkzeugliste der Arbeitsmappe.', '[1.2] Expected result: Die Tabelle \"Messstelleninformationen\" wird angezeigt, der Analysekontext ist sichtbar.', '.\\\\html\\\\1_2.html', '.\\\\screenshot\\\\1_2.png', '.\\\\test_script\\\\1_2.spec.ts')]\n"
     ]
    }
   ],
   "execution_count": 29
  },
  {
   "metadata": {
    "ExecuteTime": {
     "end_time": "2024-07-18T09:11:06.851955Z",
     "start_time": "2024-07-18T09:11:06.847951Z"
    }
   },
   "cell_type": "code",
   "source": [
    "def map_items_to_args_local(items: list, config: dict, prefix: str = \".\\\\data\\\\raw\\\\\") -> dict:\n",
    "    \"\"\"Map the items from the database to the arguments for the input prompt.\n",
    "\n",
    "    :param items: The items from the database.\n",
    "    :param config: The configuration dictionary.\n",
    "    :param prefix: The file path prefix.\n",
    "    :return: The arguments for the input prompt.\n",
    "    \"\"\"\n",
    "    steps = items[1][1].split(']')\n",
    "    \n",
    "    \n",
    "    return {\n",
    "        \"html_path\": prefix + items[0][3],\n",
    "        \"image_path\": prefix + items[0][4],\n",
    "        \"precondition_path\": prefix + items[0][5],\n",
    "        \"description\": steps[-1].strip(),\n",
    "        \"validation_path\": prefix + items[1][5],\n",
    "        \"config\": config\n",
    "    }"
   ],
   "id": "7bea7c496363ff29",
   "outputs": [],
   "execution_count": 16
  },
  {
   "metadata": {
    "ExecuteTime": {
     "end_time": "2024-07-18T09:14:56.989127Z",
     "start_time": "2024-07-18T09:14:56.985113Z"
    }
   },
   "cell_type": "code",
   "source": [
    "print(items[0][0])\n",
    "steps = items[0][0].split(\"]\")\n",
    "print(steps)\n",
    "print(steps[-1])"
   ],
   "id": "3c330a0e75ffd75e",
   "outputs": [
    {
     "name": "stdout",
     "output_type": "stream",
     "text": [
      "1.1\n",
      "['1.1']\n",
      "1.1\n"
     ]
    }
   ],
   "execution_count": 28
  }
 ],
 "metadata": {
  "kernelspec": {
   "display_name": "Python 3",
   "language": "python",
   "name": "python3"
  },
  "language_info": {
   "codemirror_mode": {
    "name": "ipython",
    "version": 2
   },
   "file_extension": ".py",
   "mimetype": "text/x-python",
   "name": "python",
   "nbconvert_exporter": "python",
   "pygments_lexer": "ipython2",
   "version": "2.7.6"
  }
 },
 "nbformat": 4,
 "nbformat_minor": 5
}
