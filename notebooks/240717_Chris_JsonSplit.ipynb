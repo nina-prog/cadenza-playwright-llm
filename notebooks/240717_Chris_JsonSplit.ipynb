{
 "cells": [
  {
   "cell_type": "code",
   "id": "initial_id",
   "metadata": {
    "collapsed": true,
    "ExecuteTime": {
     "end_time": "2024-07-18T08:45:21.286684Z",
     "start_time": "2024-07-18T08:45:20.549050Z"
    }
   },
   "source": [
    "import sqlite3\n",
    "import os\n",
    "\n",
    "from src.data.data_loading import load_config\n",
    "from src.data.database import create_finetuning_data_from_db\n",
    "from src.finetuning import create_finetuning_data_sample, save_finetuning_data_as_json\n",
    "from src.balanced_split import balanced_train_val_test_split\n",
    "from src.input_builder import create_input_prompt\n",
    "from src.utils.logger import setup_logger\n",
    "from src.data.code_processor import parse_code"
   ],
   "outputs": [],
   "execution_count": 1
  },
  {
   "metadata": {
    "ExecuteTime": {
     "end_time": "2024-07-18T08:45:21.832826Z",
     "start_time": "2024-07-18T08:45:21.829239Z"
    }
   },
   "cell_type": "code",
   "source": "logger = setup_logger(__name__, level='DEBUG')  # Change to 'INFO' for less verbosity",
   "id": "1d277e2e7abf8331",
   "outputs": [],
   "execution_count": 2
  },
  {
   "metadata": {
    "ExecuteTime": {
     "end_time": "2024-07-18T08:45:22.770676Z",
     "start_time": "2024-07-18T08:45:22.763669Z"
    }
   },
   "cell_type": "code",
   "source": [
    "# set working directory to the root of the project\n",
    "os.chdir(\"..\")\n",
    "os.getcwd()"
   ],
   "id": "280db6859e5aa826",
   "outputs": [
    {
     "data": {
      "text/plain": [
       "'C:\\\\Users\\\\c-beh\\\\PycharmProjects\\\\cadenza-playwright-llm'"
      ]
     },
     "execution_count": 3,
     "metadata": {},
     "output_type": "execute_result"
    }
   ],
   "execution_count": 3
  },
  {
   "metadata": {
    "ExecuteTime": {
     "end_time": "2024-07-18T08:45:44.882017Z",
     "start_time": "2024-07-18T08:45:44.873010Z"
    }
   },
   "cell_type": "code",
   "source": [
    "db_file = './data/raw/playwright_script.db'\n",
    "config = load_config(\"./config/config.yaml\")"
   ],
   "id": "ded2803446c2a0d9",
   "outputs": [],
   "execution_count": 7
  },
  {
   "metadata": {
    "ExecuteTime": {
     "end_time": "2024-07-18T08:45:50.592003Z",
     "start_time": "2024-07-18T08:45:50.585513Z"
    }
   },
   "cell_type": "code",
   "source": [
    "# Load ids to be used for finetuning from database\n",
    "conn = sqlite3.connect(db_file)\n",
    "c = conn.cursor()\n",
    "c.execute('SELECT id FROM tests')\n",
    "items = c.fetchall()\n",
    "conn.close()\n",
    "\n",
    "ids = [i[0] for i in items][0:] # Skip the first id since it is not possible to get the previous id"
   ],
   "id": "b9983c064f04d082",
   "outputs": [],
   "execution_count": 8
  },
  {
   "metadata": {
    "ExecuteTime": {
     "end_time": "2024-07-18T08:45:52.323345Z",
     "start_time": "2024-07-18T08:45:52.313297Z"
    }
   },
   "cell_type": "code",
   "source": [
    "tc_ids_train, tc_ids_val, tc_ids_test = balanced_train_val_test_split()\n",
    "\n",
    "print(\"Train: \", tc_ids_train, \"\\nVal: \", tc_ids_val,\"\\nTest: \", tc_ids_test)"
   ],
   "id": "a5319825cd5134a1",
   "outputs": [
    {
     "name": "stdout",
     "output_type": "stream",
     "text": [
      "Train:  [19  0  7  1 14  3  5 12 11 17 18 27 10  4 25] \n",
      "Val:  [ 8 16 13 26] \n",
      "Test:  [ 2 15  9 30 28]\n"
     ]
    }
   ],
   "execution_count": 9
  },
  {
   "metadata": {
    "ExecuteTime": {
     "end_time": "2024-07-17T13:29:19.488837Z",
     "start_time": "2024-07-17T13:29:19.485098Z"
    }
   },
   "cell_type": "code",
   "source": [
    "inte = [13, 17]\n",
    "#map(str, inte)\n",
    "inte = [str(y) for y in inte]\n",
    "print(inte)\n",
    "print(type(inte[0]))"
   ],
   "id": "65adec9774cecdd3",
   "outputs": [
    {
     "name": "stdout",
     "output_type": "stream",
     "text": [
      "['13', '17']\n",
      "<class 'str'>\n"
     ]
    }
   ],
   "execution_count": 88
  },
  {
   "metadata": {
    "ExecuteTime": {
     "end_time": "2024-07-17T13:29:21.437376Z",
     "start_time": "2024-07-17T13:29:21.433969Z"
    }
   },
   "cell_type": "code",
   "source": "print(ids)",
   "id": "ab2eb6d0e560b10f",
   "outputs": [
    {
     "name": "stdout",
     "output_type": "stream",
     "text": [
      "['1.1', '1.2', '1.3', '1.4', '2.1', '2.2', '3.1', '3.2', '4.1', '4.2', '4.3', '4.4', '4.5', '4.6', '4.7', '5.1', '5.2', '5.3', '5.4', '5.5', '7.1', '7.2', '7.3', '7.4', '8.1', '8.2', '8.3', '8.4', '8.5', '8.6', '9.1', '9.2', '9.3', '9.4', '9.5', '9.6', '10.1', '10.2', '10.3', '10.4', '10.5', '10.6', '11.1', '11.2', '11.3', '11.4', '13.1', '13.2', '13.3', '15.1', '15.2', '15.3', '15.4', '15.5', '17.1', '17.2', '17.3', '17.4', '19.1', '19.2', '19.3', '19.4', '26.1', '26.2', '26.3', '26.4', '26.5', '26.6', '28.1', '28.2', '28.3', '28.4', '12.1', '12.2', '12.3', '12.4', '12.5', '14.1', '14.2', '14.3', '16.1', '16.2', '16.3', '18.1', '18.2', '18.3', '25.1', '25.2', '25.3', '25.4', '25.5', '27.1', '27.2', '27.3', '27.4', '27.5', '30.1', '30.2', '30.3', '30.4']\n"
     ]
    }
   ],
   "execution_count": 89
  },
  {
   "metadata": {
    "ExecuteTime": {
     "end_time": "2024-07-18T08:46:24.363732Z",
     "start_time": "2024-07-18T08:46:24.359021Z"
    }
   },
   "cell_type": "code",
   "source": [
    "tc_ids_train = [str(tc) for tc in tc_ids_train]\n",
    "tc_ids_test = [str(tc) for tc in tc_ids_test]\n",
    "tc_ids_val = [str(tc) for tc in tc_ids_val]\n",
    "print(tc_ids_train)\n",
    "print(tc_ids_test)\n",
    "print(tc_ids_val)"
   ],
   "id": "4095f2a0a0b685e1",
   "outputs": [
    {
     "name": "stdout",
     "output_type": "stream",
     "text": [
      "['19', '0', '7', '1', '14', '3', '5', '12', '11', '17', '18', '27', '10', '4', '25']\n",
      "['2', '15', '9', '30', '28']\n",
      "['8', '16', '13', '26']\n"
     ]
    }
   ],
   "execution_count": 10
  },
  {
   "metadata": {
    "ExecuteTime": {
     "end_time": "2024-07-18T08:46:47.218112Z",
     "start_time": "2024-07-18T08:46:47.213161Z"
    }
   },
   "cell_type": "code",
   "source": [
    "train_ids = []\n",
    "test_ids = []\n",
    "val_ids = []\n",
    "for el in ids:\n",
    "    if (el.split('.')[0]) in tc_ids_train:\n",
    "        train_ids.append(el)\n",
    "    if (el.split('.')[0]) in tc_ids_test:\n",
    "        test_ids.append(el)\n",
    "    if (el.split('.')[0]) in tc_ids_val:\n",
    "        val_ids.append(el)\n",
    "\n",
    "print(test_ids)\n",
    "print(val_ids)\n",
    "print(train_ids)"
   ],
   "id": "feceff04bc15246e",
   "outputs": [
    {
     "name": "stdout",
     "output_type": "stream",
     "text": [
      "['2.1', '2.2', '9.1', '9.2', '9.3', '9.4', '9.5', '9.6', '15.1', '15.2', '15.3', '15.4', '15.5', '28.1', '28.2', '28.3', '28.4', '30.1', '30.2', '30.3', '30.4']\n",
      "['8.1', '8.2', '8.3', '8.4', '8.5', '8.6', '13.1', '13.2', '13.3', '26.1', '26.2', '26.3', '26.4', '26.5', '26.6', '16.1', '16.2', '16.3']\n",
      "['1.1', '1.2', '1.3', '1.4', '3.1', '3.2', '4.1', '4.2', '4.3', '4.4', '4.5', '4.6', '4.7', '5.1', '5.2', '5.3', '5.4', '5.5', '7.1', '7.2', '7.3', '7.4', '10.1', '10.2', '10.3', '10.4', '10.5', '10.6', '11.1', '11.2', '11.3', '11.4', '17.1', '17.2', '17.3', '17.4', '19.1', '19.2', '19.3', '19.4', '12.1', '12.2', '12.3', '12.4', '12.5', '14.1', '14.2', '14.3', '18.1', '18.2', '18.3', '25.1', '25.2', '25.3', '25.4', '25.5', '27.1', '27.2', '27.3', '27.4', '27.5', '0.1']\n"
     ]
    }
   ],
   "execution_count": 11
  },
  {
   "metadata": {
    "ExecuteTime": {
     "end_time": "2024-07-18T08:47:17.256763Z",
     "start_time": "2024-07-18T08:47:02.145601Z"
    }
   },
   "cell_type": "code",
   "source": [
    "finetuning_data_test = create_finetuning_data_from_db(test_ids, db_file, config)\n",
    "finetuning_data_train = create_finetuning_data_from_db(train_ids, db_file, config)\n",
    "finetuning_data_val = create_finetuning_data_from_db(val_ids, db_file, config)"
   ],
   "id": "3fedd5a64c359ac",
   "outputs": [
    {
     "name": "stdout",
     "output_type": "stream",
     "text": [
      "2024-07-18 10:47:02 [\u001B[34msrc.input_builder:30\u001B[0m] [\u001B[32mINFO\u001B[0m] >>>> Loading context...\u001B[0m\n",
      "2024-07-18 10:47:02 [\u001B[34msrc.input_builder:46\u001B[0m] [\u001B[32mINFO\u001B[0m] >>>> Context loaded successfully.\u001B[0m\n",
      "2024-07-18 10:47:02 [\u001B[34msrc.input_builder:48\u001B[0m] [\u001B[32mINFO\u001B[0m] >>>> Creating input prompt...\u001B[0m\n",
      "2024-07-18 10:47:02 [\u001B[34msrc.input_builder:79\u001B[0m] [\u001B[32mINFO\u001B[0m] >>>> Input prompt created successfully.\u001B[0m\n",
      "2024-07-18 10:47:02 [\u001B[34msrc.finetuning:33\u001B[0m] [\u001B[32mINFO\u001B[0m] >>>> Combining input and expected output into json finetuning data format...\u001B[0m\n",
      "2024-07-18 10:47:02 [\u001B[34msrc.finetuning:50\u001B[0m] [\u001B[32mINFO\u001B[0m] >>>> Finetuning conversation created successfully.\u001B[0m\n",
      "2024-07-18 10:47:02 [\u001B[34msrc.input_builder:30\u001B[0m] [\u001B[32mINFO\u001B[0m] >>>> Loading context...\u001B[0m\n",
      "2024-07-18 10:47:02 [\u001B[34msrc.input_builder:46\u001B[0m] [\u001B[32mINFO\u001B[0m] >>>> Context loaded successfully.\u001B[0m\n",
      "2024-07-18 10:47:02 [\u001B[34msrc.input_builder:48\u001B[0m] [\u001B[32mINFO\u001B[0m] >>>> Creating input prompt...\u001B[0m\n",
      "2024-07-18 10:47:02 [\u001B[34msrc.input_builder:79\u001B[0m] [\u001B[32mINFO\u001B[0m] >>>> Input prompt created successfully.\u001B[0m\n",
      "2024-07-18 10:47:02 [\u001B[34msrc.finetuning:33\u001B[0m] [\u001B[32mINFO\u001B[0m] >>>> Combining input and expected output into json finetuning data format...\u001B[0m\n",
      "2024-07-18 10:47:02 [\u001B[34msrc.finetuning:50\u001B[0m] [\u001B[32mINFO\u001B[0m] >>>> Finetuning conversation created successfully.\u001B[0m\n",
      "2024-07-18 10:47:02 [\u001B[34msrc.input_builder:30\u001B[0m] [\u001B[32mINFO\u001B[0m] >>>> Loading context...\u001B[0m\n",
      "2024-07-18 10:47:02 [\u001B[34msrc.input_builder:46\u001B[0m] [\u001B[32mINFO\u001B[0m] >>>> Context loaded successfully.\u001B[0m\n",
      "2024-07-18 10:47:02 [\u001B[34msrc.input_builder:48\u001B[0m] [\u001B[32mINFO\u001B[0m] >>>> Creating input prompt...\u001B[0m\n",
      "2024-07-18 10:47:02 [\u001B[34msrc.input_builder:79\u001B[0m] [\u001B[32mINFO\u001B[0m] >>>> Input prompt created successfully.\u001B[0m\n",
      "2024-07-18 10:47:02 [\u001B[34msrc.finetuning:33\u001B[0m] [\u001B[32mINFO\u001B[0m] >>>> Combining input and expected output into json finetuning data format...\u001B[0m\n",
      "2024-07-18 10:47:02 [\u001B[34msrc.finetuning:50\u001B[0m] [\u001B[32mINFO\u001B[0m] >>>> Finetuning conversation created successfully.\u001B[0m\n",
      "2024-07-18 10:47:02 [\u001B[34msrc.input_builder:30\u001B[0m] [\u001B[32mINFO\u001B[0m] >>>> Loading context...\u001B[0m\n",
      "2024-07-18 10:47:02 [\u001B[34msrc.input_builder:46\u001B[0m] [\u001B[32mINFO\u001B[0m] >>>> Context loaded successfully.\u001B[0m\n",
      "2024-07-18 10:47:02 [\u001B[34msrc.input_builder:48\u001B[0m] [\u001B[32mINFO\u001B[0m] >>>> Creating input prompt...\u001B[0m\n",
      "2024-07-18 10:47:02 [\u001B[34msrc.input_builder:79\u001B[0m] [\u001B[32mINFO\u001B[0m] >>>> Input prompt created successfully.\u001B[0m\n",
      "2024-07-18 10:47:02 [\u001B[34msrc.finetuning:33\u001B[0m] [\u001B[32mINFO\u001B[0m] >>>> Combining input and expected output into json finetuning data format...\u001B[0m\n",
      "2024-07-18 10:47:02 [\u001B[34msrc.finetuning:50\u001B[0m] [\u001B[32mINFO\u001B[0m] >>>> Finetuning conversation created successfully.\u001B[0m\n",
      "2024-07-18 10:47:02 [\u001B[34msrc.input_builder:30\u001B[0m] [\u001B[32mINFO\u001B[0m] >>>> Loading context...\u001B[0m\n",
      "2024-07-18 10:47:02 [\u001B[34msrc.input_builder:46\u001B[0m] [\u001B[32mINFO\u001B[0m] >>>> Context loaded successfully.\u001B[0m\n",
      "2024-07-18 10:47:02 [\u001B[34msrc.input_builder:48\u001B[0m] [\u001B[32mINFO\u001B[0m] >>>> Creating input prompt...\u001B[0m\n",
      "2024-07-18 10:47:02 [\u001B[34msrc.input_builder:79\u001B[0m] [\u001B[32mINFO\u001B[0m] >>>> Input prompt created successfully.\u001B[0m\n",
      "2024-07-18 10:47:02 [\u001B[34msrc.finetuning:33\u001B[0m] [\u001B[32mINFO\u001B[0m] >>>> Combining input and expected output into json finetuning data format...\u001B[0m\n",
      "2024-07-18 10:47:02 [\u001B[34msrc.finetuning:50\u001B[0m] [\u001B[32mINFO\u001B[0m] >>>> Finetuning conversation created successfully.\u001B[0m\n",
      "2024-07-18 10:47:02 [\u001B[34msrc.input_builder:30\u001B[0m] [\u001B[32mINFO\u001B[0m] >>>> Loading context...\u001B[0m\n",
      "2024-07-18 10:47:02 [\u001B[34msrc.input_builder:46\u001B[0m] [\u001B[32mINFO\u001B[0m] >>>> Context loaded successfully.\u001B[0m\n",
      "2024-07-18 10:47:02 [\u001B[34msrc.input_builder:48\u001B[0m] [\u001B[32mINFO\u001B[0m] >>>> Creating input prompt...\u001B[0m\n",
      "2024-07-18 10:47:02 [\u001B[34msrc.input_builder:79\u001B[0m] [\u001B[32mINFO\u001B[0m] >>>> Input prompt created successfully.\u001B[0m\n",
      "2024-07-18 10:47:02 [\u001B[34msrc.finetuning:33\u001B[0m] [\u001B[32mINFO\u001B[0m] >>>> Combining input and expected output into json finetuning data format...\u001B[0m\n",
      "2024-07-18 10:47:02 [\u001B[34msrc.finetuning:50\u001B[0m] [\u001B[32mINFO\u001B[0m] >>>> Finetuning conversation created successfully.\u001B[0m\n",
      "2024-07-18 10:47:02 [\u001B[34msrc.input_builder:30\u001B[0m] [\u001B[32mINFO\u001B[0m] >>>> Loading context...\u001B[0m\n",
      "2024-07-18 10:47:02 [\u001B[34msrc.input_builder:46\u001B[0m] [\u001B[32mINFO\u001B[0m] >>>> Context loaded successfully.\u001B[0m\n",
      "2024-07-18 10:47:02 [\u001B[34msrc.input_builder:48\u001B[0m] [\u001B[32mINFO\u001B[0m] >>>> Creating input prompt...\u001B[0m\n",
      "2024-07-18 10:47:02 [\u001B[34msrc.input_builder:79\u001B[0m] [\u001B[32mINFO\u001B[0m] >>>> Input prompt created successfully.\u001B[0m\n",
      "2024-07-18 10:47:02 [\u001B[34msrc.finetuning:33\u001B[0m] [\u001B[32mINFO\u001B[0m] >>>> Combining input and expected output into json finetuning data format...\u001B[0m\n",
      "2024-07-18 10:47:02 [\u001B[34msrc.finetuning:50\u001B[0m] [\u001B[32mINFO\u001B[0m] >>>> Finetuning conversation created successfully.\u001B[0m\n",
      "2024-07-18 10:47:02 [\u001B[34msrc.input_builder:30\u001B[0m] [\u001B[32mINFO\u001B[0m] >>>> Loading context...\u001B[0m\n",
      "2024-07-18 10:47:03 [\u001B[34msrc.input_builder:46\u001B[0m] [\u001B[32mINFO\u001B[0m] >>>> Context loaded successfully.\u001B[0m\n",
      "2024-07-18 10:47:03 [\u001B[34msrc.input_builder:48\u001B[0m] [\u001B[32mINFO\u001B[0m] >>>> Creating input prompt...\u001B[0m\n",
      "2024-07-18 10:47:03 [\u001B[34msrc.input_builder:79\u001B[0m] [\u001B[32mINFO\u001B[0m] >>>> Input prompt created successfully.\u001B[0m\n",
      "2024-07-18 10:47:03 [\u001B[34msrc.finetuning:33\u001B[0m] [\u001B[32mINFO\u001B[0m] >>>> Combining input and expected output into json finetuning data format...\u001B[0m\n",
      "2024-07-18 10:47:03 [\u001B[34msrc.finetuning:50\u001B[0m] [\u001B[32mINFO\u001B[0m] >>>> Finetuning conversation created successfully.\u001B[0m\n",
      "2024-07-18 10:47:03 [\u001B[34msrc.input_builder:30\u001B[0m] [\u001B[32mINFO\u001B[0m] >>>> Loading context...\u001B[0m\n",
      "2024-07-18 10:47:03 [\u001B[34msrc.input_builder:46\u001B[0m] [\u001B[32mINFO\u001B[0m] >>>> Context loaded successfully.\u001B[0m\n",
      "2024-07-18 10:47:03 [\u001B[34msrc.input_builder:48\u001B[0m] [\u001B[32mINFO\u001B[0m] >>>> Creating input prompt...\u001B[0m\n",
      "2024-07-18 10:47:03 [\u001B[34msrc.input_builder:79\u001B[0m] [\u001B[32mINFO\u001B[0m] >>>> Input prompt created successfully.\u001B[0m\n",
      "2024-07-18 10:47:03 [\u001B[34msrc.finetuning:33\u001B[0m] [\u001B[32mINFO\u001B[0m] >>>> Combining input and expected output into json finetuning data format...\u001B[0m\n",
      "2024-07-18 10:47:03 [\u001B[34msrc.finetuning:50\u001B[0m] [\u001B[32mINFO\u001B[0m] >>>> Finetuning conversation created successfully.\u001B[0m\n",
      "2024-07-18 10:47:03 [\u001B[34msrc.input_builder:30\u001B[0m] [\u001B[32mINFO\u001B[0m] >>>> Loading context...\u001B[0m\n",
      "2024-07-18 10:47:03 [\u001B[34msrc.input_builder:46\u001B[0m] [\u001B[32mINFO\u001B[0m] >>>> Context loaded successfully.\u001B[0m\n",
      "2024-07-18 10:47:03 [\u001B[34msrc.input_builder:48\u001B[0m] [\u001B[32mINFO\u001B[0m] >>>> Creating input prompt...\u001B[0m\n",
      "2024-07-18 10:47:03 [\u001B[34msrc.input_builder:79\u001B[0m] [\u001B[32mINFO\u001B[0m] >>>> Input prompt created successfully.\u001B[0m\n",
      "2024-07-18 10:47:03 [\u001B[34msrc.finetuning:33\u001B[0m] [\u001B[32mINFO\u001B[0m] >>>> Combining input and expected output into json finetuning data format...\u001B[0m\n",
      "2024-07-18 10:47:03 [\u001B[34msrc.finetuning:50\u001B[0m] [\u001B[32mINFO\u001B[0m] >>>> Finetuning conversation created successfully.\u001B[0m\n",
      "2024-07-18 10:47:03 [\u001B[34msrc.input_builder:30\u001B[0m] [\u001B[32mINFO\u001B[0m] >>>> Loading context...\u001B[0m\n",
      "2024-07-18 10:47:03 [\u001B[34msrc.input_builder:46\u001B[0m] [\u001B[32mINFO\u001B[0m] >>>> Context loaded successfully.\u001B[0m\n",
      "2024-07-18 10:47:03 [\u001B[34msrc.input_builder:48\u001B[0m] [\u001B[32mINFO\u001B[0m] >>>> Creating input prompt...\u001B[0m\n",
      "2024-07-18 10:47:03 [\u001B[34msrc.input_builder:79\u001B[0m] [\u001B[32mINFO\u001B[0m] >>>> Input prompt created successfully.\u001B[0m\n",
      "2024-07-18 10:47:03 [\u001B[34msrc.finetuning:33\u001B[0m] [\u001B[32mINFO\u001B[0m] >>>> Combining input and expected output into json finetuning data format...\u001B[0m\n",
      "2024-07-18 10:47:03 [\u001B[34msrc.finetuning:50\u001B[0m] [\u001B[32mINFO\u001B[0m] >>>> Finetuning conversation created successfully.\u001B[0m\n",
      "2024-07-18 10:47:03 [\u001B[34msrc.input_builder:30\u001B[0m] [\u001B[32mINFO\u001B[0m] >>>> Loading context...\u001B[0m\n",
      "2024-07-18 10:47:03 [\u001B[34msrc.input_builder:46\u001B[0m] [\u001B[32mINFO\u001B[0m] >>>> Context loaded successfully.\u001B[0m\n",
      "2024-07-18 10:47:03 [\u001B[34msrc.input_builder:48\u001B[0m] [\u001B[32mINFO\u001B[0m] >>>> Creating input prompt...\u001B[0m\n",
      "2024-07-18 10:47:03 [\u001B[34msrc.input_builder:79\u001B[0m] [\u001B[32mINFO\u001B[0m] >>>> Input prompt created successfully.\u001B[0m\n",
      "2024-07-18 10:47:03 [\u001B[34msrc.finetuning:33\u001B[0m] [\u001B[32mINFO\u001B[0m] >>>> Combining input and expected output into json finetuning data format...\u001B[0m\n",
      "2024-07-18 10:47:03 [\u001B[34msrc.finetuning:50\u001B[0m] [\u001B[32mINFO\u001B[0m] >>>> Finetuning conversation created successfully.\u001B[0m\n",
      "2024-07-18 10:47:03 [\u001B[34msrc.input_builder:30\u001B[0m] [\u001B[32mINFO\u001B[0m] >>>> Loading context...\u001B[0m\n",
      "2024-07-18 10:47:03 [\u001B[34msrc.input_builder:46\u001B[0m] [\u001B[32mINFO\u001B[0m] >>>> Context loaded successfully.\u001B[0m\n",
      "2024-07-18 10:47:03 [\u001B[34msrc.input_builder:48\u001B[0m] [\u001B[32mINFO\u001B[0m] >>>> Creating input prompt...\u001B[0m\n",
      "2024-07-18 10:47:03 [\u001B[34msrc.input_builder:79\u001B[0m] [\u001B[32mINFO\u001B[0m] >>>> Input prompt created successfully.\u001B[0m\n",
      "2024-07-18 10:47:03 [\u001B[34msrc.finetuning:33\u001B[0m] [\u001B[32mINFO\u001B[0m] >>>> Combining input and expected output into json finetuning data format...\u001B[0m\n",
      "2024-07-18 10:47:03 [\u001B[34msrc.finetuning:50\u001B[0m] [\u001B[32mINFO\u001B[0m] >>>> Finetuning conversation created successfully.\u001B[0m\n",
      "2024-07-18 10:47:03 [\u001B[34msrc.input_builder:30\u001B[0m] [\u001B[32mINFO\u001B[0m] >>>> Loading context...\u001B[0m\n",
      "2024-07-18 10:47:03 [\u001B[34msrc.input_builder:46\u001B[0m] [\u001B[32mINFO\u001B[0m] >>>> Context loaded successfully.\u001B[0m\n",
      "2024-07-18 10:47:03 [\u001B[34msrc.input_builder:48\u001B[0m] [\u001B[32mINFO\u001B[0m] >>>> Creating input prompt...\u001B[0m\n",
      "2024-07-18 10:47:03 [\u001B[34msrc.input_builder:79\u001B[0m] [\u001B[32mINFO\u001B[0m] >>>> Input prompt created successfully.\u001B[0m\n",
      "2024-07-18 10:47:03 [\u001B[34msrc.finetuning:33\u001B[0m] [\u001B[32mINFO\u001B[0m] >>>> Combining input and expected output into json finetuning data format...\u001B[0m\n",
      "2024-07-18 10:47:03 [\u001B[34msrc.finetuning:50\u001B[0m] [\u001B[32mINFO\u001B[0m] >>>> Finetuning conversation created successfully.\u001B[0m\n",
      "2024-07-18 10:47:03 [\u001B[34msrc.input_builder:30\u001B[0m] [\u001B[32mINFO\u001B[0m] >>>> Loading context...\u001B[0m\n",
      "2024-07-18 10:47:03 [\u001B[34msrc.input_builder:46\u001B[0m] [\u001B[32mINFO\u001B[0m] >>>> Context loaded successfully.\u001B[0m\n",
      "2024-07-18 10:47:03 [\u001B[34msrc.input_builder:48\u001B[0m] [\u001B[32mINFO\u001B[0m] >>>> Creating input prompt...\u001B[0m\n",
      "2024-07-18 10:47:03 [\u001B[34msrc.input_builder:79\u001B[0m] [\u001B[32mINFO\u001B[0m] >>>> Input prompt created successfully.\u001B[0m\n",
      "2024-07-18 10:47:03 [\u001B[34msrc.finetuning:33\u001B[0m] [\u001B[32mINFO\u001B[0m] >>>> Combining input and expected output into json finetuning data format...\u001B[0m\n",
      "2024-07-18 10:47:03 [\u001B[34msrc.finetuning:50\u001B[0m] [\u001B[32mINFO\u001B[0m] >>>> Finetuning conversation created successfully.\u001B[0m\n",
      "2024-07-18 10:47:03 [\u001B[34msrc.input_builder:30\u001B[0m] [\u001B[32mINFO\u001B[0m] >>>> Loading context...\u001B[0m\n",
      "2024-07-18 10:47:04 [\u001B[34msrc.input_builder:46\u001B[0m] [\u001B[32mINFO\u001B[0m] >>>> Context loaded successfully.\u001B[0m\n",
      "2024-07-18 10:47:04 [\u001B[34msrc.input_builder:48\u001B[0m] [\u001B[32mINFO\u001B[0m] >>>> Creating input prompt...\u001B[0m\n",
      "2024-07-18 10:47:04 [\u001B[34msrc.input_builder:79\u001B[0m] [\u001B[32mINFO\u001B[0m] >>>> Input prompt created successfully.\u001B[0m\n",
      "2024-07-18 10:47:04 [\u001B[34msrc.finetuning:33\u001B[0m] [\u001B[32mINFO\u001B[0m] >>>> Combining input and expected output into json finetuning data format...\u001B[0m\n",
      "2024-07-18 10:47:04 [\u001B[34msrc.finetuning:50\u001B[0m] [\u001B[32mINFO\u001B[0m] >>>> Finetuning conversation created successfully.\u001B[0m\n",
      "2024-07-18 10:47:04 [\u001B[34msrc.input_builder:30\u001B[0m] [\u001B[32mINFO\u001B[0m] >>>> Loading context...\u001B[0m\n",
      "2024-07-18 10:47:04 [\u001B[34msrc.input_builder:46\u001B[0m] [\u001B[32mINFO\u001B[0m] >>>> Context loaded successfully.\u001B[0m\n",
      "2024-07-18 10:47:04 [\u001B[34msrc.input_builder:48\u001B[0m] [\u001B[32mINFO\u001B[0m] >>>> Creating input prompt...\u001B[0m\n",
      "2024-07-18 10:47:04 [\u001B[34msrc.input_builder:79\u001B[0m] [\u001B[32mINFO\u001B[0m] >>>> Input prompt created successfully.\u001B[0m\n",
      "2024-07-18 10:47:04 [\u001B[34msrc.finetuning:33\u001B[0m] [\u001B[32mINFO\u001B[0m] >>>> Combining input and expected output into json finetuning data format...\u001B[0m\n",
      "2024-07-18 10:47:04 [\u001B[34msrc.finetuning:50\u001B[0m] [\u001B[32mINFO\u001B[0m] >>>> Finetuning conversation created successfully.\u001B[0m\n",
      "2024-07-18 10:47:04 [\u001B[34msrc.input_builder:30\u001B[0m] [\u001B[32mINFO\u001B[0m] >>>> Loading context...\u001B[0m\n",
      "2024-07-18 10:47:04 [\u001B[34msrc.input_builder:46\u001B[0m] [\u001B[32mINFO\u001B[0m] >>>> Context loaded successfully.\u001B[0m\n",
      "2024-07-18 10:47:04 [\u001B[34msrc.input_builder:48\u001B[0m] [\u001B[32mINFO\u001B[0m] >>>> Creating input prompt...\u001B[0m\n",
      "2024-07-18 10:47:04 [\u001B[34msrc.input_builder:79\u001B[0m] [\u001B[32mINFO\u001B[0m] >>>> Input prompt created successfully.\u001B[0m\n",
      "2024-07-18 10:47:04 [\u001B[34msrc.finetuning:33\u001B[0m] [\u001B[32mINFO\u001B[0m] >>>> Combining input and expected output into json finetuning data format...\u001B[0m\n",
      "2024-07-18 10:47:04 [\u001B[34msrc.finetuning:50\u001B[0m] [\u001B[32mINFO\u001B[0m] >>>> Finetuning conversation created successfully.\u001B[0m\n",
      "2024-07-18 10:47:04 [\u001B[34msrc.input_builder:30\u001B[0m] [\u001B[32mINFO\u001B[0m] >>>> Loading context...\u001B[0m\n",
      "2024-07-18 10:47:04 [\u001B[34msrc.input_builder:46\u001B[0m] [\u001B[32mINFO\u001B[0m] >>>> Context loaded successfully.\u001B[0m\n",
      "2024-07-18 10:47:04 [\u001B[34msrc.input_builder:48\u001B[0m] [\u001B[32mINFO\u001B[0m] >>>> Creating input prompt...\u001B[0m\n",
      "2024-07-18 10:47:04 [\u001B[34msrc.input_builder:79\u001B[0m] [\u001B[32mINFO\u001B[0m] >>>> Input prompt created successfully.\u001B[0m\n",
      "2024-07-18 10:47:04 [\u001B[34msrc.finetuning:33\u001B[0m] [\u001B[32mINFO\u001B[0m] >>>> Combining input and expected output into json finetuning data format...\u001B[0m\n",
      "2024-07-18 10:47:04 [\u001B[34msrc.finetuning:50\u001B[0m] [\u001B[32mINFO\u001B[0m] >>>> Finetuning conversation created successfully.\u001B[0m\n",
      "2024-07-18 10:47:04 [\u001B[34msrc.input_builder:30\u001B[0m] [\u001B[32mINFO\u001B[0m] >>>> Loading context...\u001B[0m\n",
      "2024-07-18 10:47:04 [\u001B[34msrc.input_builder:46\u001B[0m] [\u001B[32mINFO\u001B[0m] >>>> Context loaded successfully.\u001B[0m\n",
      "2024-07-18 10:47:04 [\u001B[34msrc.input_builder:48\u001B[0m] [\u001B[32mINFO\u001B[0m] >>>> Creating input prompt...\u001B[0m\n",
      "2024-07-18 10:47:04 [\u001B[34msrc.input_builder:79\u001B[0m] [\u001B[32mINFO\u001B[0m] >>>> Input prompt created successfully.\u001B[0m\n",
      "2024-07-18 10:47:04 [\u001B[34msrc.finetuning:33\u001B[0m] [\u001B[32mINFO\u001B[0m] >>>> Combining input and expected output into json finetuning data format...\u001B[0m\n",
      "2024-07-18 10:47:04 [\u001B[34msrc.finetuning:50\u001B[0m] [\u001B[32mINFO\u001B[0m] >>>> Finetuning conversation created successfully.\u001B[0m\n",
      "2024-07-18 10:47:04 [\u001B[34msrc.input_builder:30\u001B[0m] [\u001B[32mINFO\u001B[0m] >>>> Loading context...\u001B[0m\n",
      "2024-07-18 10:47:04 [\u001B[34msrc.input_builder:46\u001B[0m] [\u001B[32mINFO\u001B[0m] >>>> Context loaded successfully.\u001B[0m\n",
      "2024-07-18 10:47:04 [\u001B[34msrc.input_builder:48\u001B[0m] [\u001B[32mINFO\u001B[0m] >>>> Creating input prompt...\u001B[0m\n",
      "2024-07-18 10:47:04 [\u001B[34msrc.input_builder:79\u001B[0m] [\u001B[32mINFO\u001B[0m] >>>> Input prompt created successfully.\u001B[0m\n",
      "2024-07-18 10:47:04 [\u001B[34msrc.finetuning:33\u001B[0m] [\u001B[32mINFO\u001B[0m] >>>> Combining input and expected output into json finetuning data format...\u001B[0m\n",
      "2024-07-18 10:47:04 [\u001B[34msrc.finetuning:50\u001B[0m] [\u001B[32mINFO\u001B[0m] >>>> Finetuning conversation created successfully.\u001B[0m\n",
      "2024-07-18 10:47:04 [\u001B[34msrc.input_builder:30\u001B[0m] [\u001B[32mINFO\u001B[0m] >>>> Loading context...\u001B[0m\n",
      "2024-07-18 10:47:05 [\u001B[34msrc.input_builder:46\u001B[0m] [\u001B[32mINFO\u001B[0m] >>>> Context loaded successfully.\u001B[0m\n",
      "2024-07-18 10:47:05 [\u001B[34msrc.input_builder:48\u001B[0m] [\u001B[32mINFO\u001B[0m] >>>> Creating input prompt...\u001B[0m\n",
      "2024-07-18 10:47:05 [\u001B[34msrc.input_builder:79\u001B[0m] [\u001B[32mINFO\u001B[0m] >>>> Input prompt created successfully.\u001B[0m\n",
      "2024-07-18 10:47:05 [\u001B[34msrc.finetuning:33\u001B[0m] [\u001B[32mINFO\u001B[0m] >>>> Combining input and expected output into json finetuning data format...\u001B[0m\n",
      "2024-07-18 10:47:05 [\u001B[34msrc.finetuning:50\u001B[0m] [\u001B[32mINFO\u001B[0m] >>>> Finetuning conversation created successfully.\u001B[0m\n",
      "2024-07-18 10:47:05 [\u001B[34msrc.input_builder:30\u001B[0m] [\u001B[32mINFO\u001B[0m] >>>> Loading context...\u001B[0m\n",
      "2024-07-18 10:47:05 [\u001B[34msrc.input_builder:46\u001B[0m] [\u001B[32mINFO\u001B[0m] >>>> Context loaded successfully.\u001B[0m\n",
      "2024-07-18 10:47:05 [\u001B[34msrc.input_builder:48\u001B[0m] [\u001B[32mINFO\u001B[0m] >>>> Creating input prompt...\u001B[0m\n",
      "2024-07-18 10:47:05 [\u001B[34msrc.input_builder:79\u001B[0m] [\u001B[32mINFO\u001B[0m] >>>> Input prompt created successfully.\u001B[0m\n",
      "2024-07-18 10:47:05 [\u001B[34msrc.finetuning:33\u001B[0m] [\u001B[32mINFO\u001B[0m] >>>> Combining input and expected output into json finetuning data format...\u001B[0m\n",
      "2024-07-18 10:47:05 [\u001B[34msrc.finetuning:50\u001B[0m] [\u001B[32mINFO\u001B[0m] >>>> Finetuning conversation created successfully.\u001B[0m\n",
      "2024-07-18 10:47:05 [\u001B[34msrc.input_builder:30\u001B[0m] [\u001B[32mINFO\u001B[0m] >>>> Loading context...\u001B[0m\n",
      "2024-07-18 10:47:05 [\u001B[34msrc.input_builder:46\u001B[0m] [\u001B[32mINFO\u001B[0m] >>>> Context loaded successfully.\u001B[0m\n",
      "2024-07-18 10:47:05 [\u001B[34msrc.input_builder:48\u001B[0m] [\u001B[32mINFO\u001B[0m] >>>> Creating input prompt...\u001B[0m\n",
      "2024-07-18 10:47:05 [\u001B[34msrc.input_builder:79\u001B[0m] [\u001B[32mINFO\u001B[0m] >>>> Input prompt created successfully.\u001B[0m\n",
      "2024-07-18 10:47:05 [\u001B[34msrc.finetuning:33\u001B[0m] [\u001B[32mINFO\u001B[0m] >>>> Combining input and expected output into json finetuning data format...\u001B[0m\n",
      "2024-07-18 10:47:05 [\u001B[34msrc.finetuning:50\u001B[0m] [\u001B[32mINFO\u001B[0m] >>>> Finetuning conversation created successfully.\u001B[0m\n",
      "2024-07-18 10:47:05 [\u001B[34msrc.input_builder:30\u001B[0m] [\u001B[32mINFO\u001B[0m] >>>> Loading context...\u001B[0m\n",
      "2024-07-18 10:47:06 [\u001B[34msrc.input_builder:46\u001B[0m] [\u001B[32mINFO\u001B[0m] >>>> Context loaded successfully.\u001B[0m\n",
      "2024-07-18 10:47:06 [\u001B[34msrc.input_builder:48\u001B[0m] [\u001B[32mINFO\u001B[0m] >>>> Creating input prompt...\u001B[0m\n",
      "2024-07-18 10:47:06 [\u001B[34msrc.input_builder:79\u001B[0m] [\u001B[32mINFO\u001B[0m] >>>> Input prompt created successfully.\u001B[0m\n",
      "2024-07-18 10:47:06 [\u001B[34msrc.finetuning:33\u001B[0m] [\u001B[32mINFO\u001B[0m] >>>> Combining input and expected output into json finetuning data format...\u001B[0m\n",
      "2024-07-18 10:47:06 [\u001B[34msrc.finetuning:50\u001B[0m] [\u001B[32mINFO\u001B[0m] >>>> Finetuning conversation created successfully.\u001B[0m\n",
      "2024-07-18 10:47:06 [\u001B[34msrc.input_builder:30\u001B[0m] [\u001B[32mINFO\u001B[0m] >>>> Loading context...\u001B[0m\n",
      "2024-07-18 10:47:06 [\u001B[34msrc.input_builder:46\u001B[0m] [\u001B[32mINFO\u001B[0m] >>>> Context loaded successfully.\u001B[0m\n",
      "2024-07-18 10:47:06 [\u001B[34msrc.input_builder:48\u001B[0m] [\u001B[32mINFO\u001B[0m] >>>> Creating input prompt...\u001B[0m\n",
      "2024-07-18 10:47:06 [\u001B[34msrc.input_builder:79\u001B[0m] [\u001B[32mINFO\u001B[0m] >>>> Input prompt created successfully.\u001B[0m\n",
      "2024-07-18 10:47:06 [\u001B[34msrc.finetuning:33\u001B[0m] [\u001B[32mINFO\u001B[0m] >>>> Combining input and expected output into json finetuning data format...\u001B[0m\n",
      "2024-07-18 10:47:06 [\u001B[34msrc.finetuning:50\u001B[0m] [\u001B[32mINFO\u001B[0m] >>>> Finetuning conversation created successfully.\u001B[0m\n",
      "2024-07-18 10:47:06 [\u001B[34msrc.input_builder:30\u001B[0m] [\u001B[32mINFO\u001B[0m] >>>> Loading context...\u001B[0m\n",
      "2024-07-18 10:47:06 [\u001B[34msrc.input_builder:46\u001B[0m] [\u001B[32mINFO\u001B[0m] >>>> Context loaded successfully.\u001B[0m\n",
      "2024-07-18 10:47:06 [\u001B[34msrc.input_builder:48\u001B[0m] [\u001B[32mINFO\u001B[0m] >>>> Creating input prompt...\u001B[0m\n",
      "2024-07-18 10:47:06 [\u001B[34msrc.input_builder:79\u001B[0m] [\u001B[32mINFO\u001B[0m] >>>> Input prompt created successfully.\u001B[0m\n",
      "2024-07-18 10:47:06 [\u001B[34msrc.finetuning:33\u001B[0m] [\u001B[32mINFO\u001B[0m] >>>> Combining input and expected output into json finetuning data format...\u001B[0m\n",
      "2024-07-18 10:47:06 [\u001B[34msrc.finetuning:50\u001B[0m] [\u001B[32mINFO\u001B[0m] >>>> Finetuning conversation created successfully.\u001B[0m\n",
      "2024-07-18 10:47:06 [\u001B[34msrc.input_builder:30\u001B[0m] [\u001B[32mINFO\u001B[0m] >>>> Loading context...\u001B[0m\n",
      "2024-07-18 10:47:06 [\u001B[34msrc.input_builder:46\u001B[0m] [\u001B[32mINFO\u001B[0m] >>>> Context loaded successfully.\u001B[0m\n",
      "2024-07-18 10:47:06 [\u001B[34msrc.input_builder:48\u001B[0m] [\u001B[32mINFO\u001B[0m] >>>> Creating input prompt...\u001B[0m\n",
      "2024-07-18 10:47:06 [\u001B[34msrc.input_builder:79\u001B[0m] [\u001B[32mINFO\u001B[0m] >>>> Input prompt created successfully.\u001B[0m\n",
      "2024-07-18 10:47:06 [\u001B[34msrc.finetuning:33\u001B[0m] [\u001B[32mINFO\u001B[0m] >>>> Combining input and expected output into json finetuning data format...\u001B[0m\n",
      "2024-07-18 10:47:06 [\u001B[34msrc.finetuning:50\u001B[0m] [\u001B[32mINFO\u001B[0m] >>>> Finetuning conversation created successfully.\u001B[0m\n",
      "2024-07-18 10:47:06 [\u001B[34msrc.input_builder:30\u001B[0m] [\u001B[32mINFO\u001B[0m] >>>> Loading context...\u001B[0m\n",
      "2024-07-18 10:47:06 [\u001B[34msrc.input_builder:46\u001B[0m] [\u001B[32mINFO\u001B[0m] >>>> Context loaded successfully.\u001B[0m\n",
      "2024-07-18 10:47:06 [\u001B[34msrc.input_builder:48\u001B[0m] [\u001B[32mINFO\u001B[0m] >>>> Creating input prompt...\u001B[0m\n",
      "2024-07-18 10:47:06 [\u001B[34msrc.input_builder:79\u001B[0m] [\u001B[32mINFO\u001B[0m] >>>> Input prompt created successfully.\u001B[0m\n",
      "2024-07-18 10:47:06 [\u001B[34msrc.finetuning:33\u001B[0m] [\u001B[32mINFO\u001B[0m] >>>> Combining input and expected output into json finetuning data format...\u001B[0m\n",
      "2024-07-18 10:47:06 [\u001B[34msrc.finetuning:50\u001B[0m] [\u001B[32mINFO\u001B[0m] >>>> Finetuning conversation created successfully.\u001B[0m\n",
      "2024-07-18 10:47:06 [\u001B[34msrc.input_builder:30\u001B[0m] [\u001B[32mINFO\u001B[0m] >>>> Loading context...\u001B[0m\n",
      "2024-07-18 10:47:06 [\u001B[34msrc.input_builder:46\u001B[0m] [\u001B[32mINFO\u001B[0m] >>>> Context loaded successfully.\u001B[0m\n",
      "2024-07-18 10:47:06 [\u001B[34msrc.input_builder:48\u001B[0m] [\u001B[32mINFO\u001B[0m] >>>> Creating input prompt...\u001B[0m\n",
      "2024-07-18 10:47:06 [\u001B[34msrc.input_builder:79\u001B[0m] [\u001B[32mINFO\u001B[0m] >>>> Input prompt created successfully.\u001B[0m\n",
      "2024-07-18 10:47:06 [\u001B[34msrc.finetuning:33\u001B[0m] [\u001B[32mINFO\u001B[0m] >>>> Combining input and expected output into json finetuning data format...\u001B[0m\n",
      "2024-07-18 10:47:06 [\u001B[34msrc.finetuning:50\u001B[0m] [\u001B[32mINFO\u001B[0m] >>>> Finetuning conversation created successfully.\u001B[0m\n",
      "2024-07-18 10:47:06 [\u001B[34msrc.input_builder:30\u001B[0m] [\u001B[32mINFO\u001B[0m] >>>> Loading context...\u001B[0m\n",
      "2024-07-18 10:47:06 [\u001B[34msrc.input_builder:46\u001B[0m] [\u001B[32mINFO\u001B[0m] >>>> Context loaded successfully.\u001B[0m\n",
      "2024-07-18 10:47:06 [\u001B[34msrc.input_builder:48\u001B[0m] [\u001B[32mINFO\u001B[0m] >>>> Creating input prompt...\u001B[0m\n",
      "2024-07-18 10:47:06 [\u001B[34msrc.input_builder:79\u001B[0m] [\u001B[32mINFO\u001B[0m] >>>> Input prompt created successfully.\u001B[0m\n",
      "2024-07-18 10:47:06 [\u001B[34msrc.finetuning:33\u001B[0m] [\u001B[32mINFO\u001B[0m] >>>> Combining input and expected output into json finetuning data format...\u001B[0m\n",
      "2024-07-18 10:47:06 [\u001B[34msrc.finetuning:50\u001B[0m] [\u001B[32mINFO\u001B[0m] >>>> Finetuning conversation created successfully.\u001B[0m\n",
      "2024-07-18 10:47:06 [\u001B[34msrc.input_builder:30\u001B[0m] [\u001B[32mINFO\u001B[0m] >>>> Loading context...\u001B[0m\n",
      "2024-07-18 10:47:07 [\u001B[34msrc.input_builder:46\u001B[0m] [\u001B[32mINFO\u001B[0m] >>>> Context loaded successfully.\u001B[0m\n",
      "2024-07-18 10:47:07 [\u001B[34msrc.input_builder:48\u001B[0m] [\u001B[32mINFO\u001B[0m] >>>> Creating input prompt...\u001B[0m\n",
      "2024-07-18 10:47:07 [\u001B[34msrc.input_builder:79\u001B[0m] [\u001B[32mINFO\u001B[0m] >>>> Input prompt created successfully.\u001B[0m\n",
      "2024-07-18 10:47:07 [\u001B[34msrc.finetuning:33\u001B[0m] [\u001B[32mINFO\u001B[0m] >>>> Combining input and expected output into json finetuning data format...\u001B[0m\n",
      "2024-07-18 10:47:07 [\u001B[34msrc.finetuning:50\u001B[0m] [\u001B[32mINFO\u001B[0m] >>>> Finetuning conversation created successfully.\u001B[0m\n",
      "2024-07-18 10:47:07 [\u001B[34msrc.input_builder:30\u001B[0m] [\u001B[32mINFO\u001B[0m] >>>> Loading context...\u001B[0m\n",
      "2024-07-18 10:47:07 [\u001B[34msrc.input_builder:46\u001B[0m] [\u001B[32mINFO\u001B[0m] >>>> Context loaded successfully.\u001B[0m\n",
      "2024-07-18 10:47:07 [\u001B[34msrc.input_builder:48\u001B[0m] [\u001B[32mINFO\u001B[0m] >>>> Creating input prompt...\u001B[0m\n",
      "2024-07-18 10:47:07 [\u001B[34msrc.input_builder:79\u001B[0m] [\u001B[32mINFO\u001B[0m] >>>> Input prompt created successfully.\u001B[0m\n",
      "2024-07-18 10:47:07 [\u001B[34msrc.finetuning:33\u001B[0m] [\u001B[32mINFO\u001B[0m] >>>> Combining input and expected output into json finetuning data format...\u001B[0m\n",
      "2024-07-18 10:47:07 [\u001B[34msrc.finetuning:50\u001B[0m] [\u001B[32mINFO\u001B[0m] >>>> Finetuning conversation created successfully.\u001B[0m\n",
      "2024-07-18 10:47:07 [\u001B[34msrc.input_builder:30\u001B[0m] [\u001B[32mINFO\u001B[0m] >>>> Loading context...\u001B[0m\n",
      "2024-07-18 10:47:07 [\u001B[34msrc.input_builder:46\u001B[0m] [\u001B[32mINFO\u001B[0m] >>>> Context loaded successfully.\u001B[0m\n",
      "2024-07-18 10:47:07 [\u001B[34msrc.input_builder:48\u001B[0m] [\u001B[32mINFO\u001B[0m] >>>> Creating input prompt...\u001B[0m\n",
      "2024-07-18 10:47:07 [\u001B[34msrc.input_builder:79\u001B[0m] [\u001B[32mINFO\u001B[0m] >>>> Input prompt created successfully.\u001B[0m\n",
      "2024-07-18 10:47:07 [\u001B[34msrc.finetuning:33\u001B[0m] [\u001B[32mINFO\u001B[0m] >>>> Combining input and expected output into json finetuning data format...\u001B[0m\n",
      "2024-07-18 10:47:07 [\u001B[34msrc.finetuning:50\u001B[0m] [\u001B[32mINFO\u001B[0m] >>>> Finetuning conversation created successfully.\u001B[0m\n",
      "2024-07-18 10:47:07 [\u001B[34msrc.input_builder:30\u001B[0m] [\u001B[32mINFO\u001B[0m] >>>> Loading context...\u001B[0m\n",
      "2024-07-18 10:47:07 [\u001B[34msrc.input_builder:46\u001B[0m] [\u001B[32mINFO\u001B[0m] >>>> Context loaded successfully.\u001B[0m\n",
      "2024-07-18 10:47:07 [\u001B[34msrc.input_builder:48\u001B[0m] [\u001B[32mINFO\u001B[0m] >>>> Creating input prompt...\u001B[0m\n",
      "2024-07-18 10:47:07 [\u001B[34msrc.input_builder:79\u001B[0m] [\u001B[32mINFO\u001B[0m] >>>> Input prompt created successfully.\u001B[0m\n",
      "2024-07-18 10:47:07 [\u001B[34msrc.finetuning:33\u001B[0m] [\u001B[32mINFO\u001B[0m] >>>> Combining input and expected output into json finetuning data format...\u001B[0m\n",
      "2024-07-18 10:47:07 [\u001B[34msrc.finetuning:50\u001B[0m] [\u001B[32mINFO\u001B[0m] >>>> Finetuning conversation created successfully.\u001B[0m\n",
      "2024-07-18 10:47:07 [\u001B[34msrc.input_builder:30\u001B[0m] [\u001B[32mINFO\u001B[0m] >>>> Loading context...\u001B[0m\n",
      "2024-07-18 10:47:07 [\u001B[34msrc.input_builder:46\u001B[0m] [\u001B[32mINFO\u001B[0m] >>>> Context loaded successfully.\u001B[0m\n",
      "2024-07-18 10:47:07 [\u001B[34msrc.input_builder:48\u001B[0m] [\u001B[32mINFO\u001B[0m] >>>> Creating input prompt...\u001B[0m\n",
      "2024-07-18 10:47:07 [\u001B[34msrc.input_builder:79\u001B[0m] [\u001B[32mINFO\u001B[0m] >>>> Input prompt created successfully.\u001B[0m\n",
      "2024-07-18 10:47:07 [\u001B[34msrc.finetuning:33\u001B[0m] [\u001B[32mINFO\u001B[0m] >>>> Combining input and expected output into json finetuning data format...\u001B[0m\n",
      "2024-07-18 10:47:07 [\u001B[34msrc.finetuning:50\u001B[0m] [\u001B[32mINFO\u001B[0m] >>>> Finetuning conversation created successfully.\u001B[0m\n",
      "2024-07-18 10:47:07 [\u001B[34msrc.input_builder:30\u001B[0m] [\u001B[32mINFO\u001B[0m] >>>> Loading context...\u001B[0m\n",
      "2024-07-18 10:47:07 [\u001B[34msrc.input_builder:46\u001B[0m] [\u001B[32mINFO\u001B[0m] >>>> Context loaded successfully.\u001B[0m\n",
      "2024-07-18 10:47:07 [\u001B[34msrc.input_builder:48\u001B[0m] [\u001B[32mINFO\u001B[0m] >>>> Creating input prompt...\u001B[0m\n",
      "2024-07-18 10:47:07 [\u001B[34msrc.input_builder:79\u001B[0m] [\u001B[32mINFO\u001B[0m] >>>> Input prompt created successfully.\u001B[0m\n",
      "2024-07-18 10:47:07 [\u001B[34msrc.finetuning:33\u001B[0m] [\u001B[32mINFO\u001B[0m] >>>> Combining input and expected output into json finetuning data format...\u001B[0m\n",
      "2024-07-18 10:47:07 [\u001B[34msrc.finetuning:50\u001B[0m] [\u001B[32mINFO\u001B[0m] >>>> Finetuning conversation created successfully.\u001B[0m\n",
      "2024-07-18 10:47:07 [\u001B[34msrc.input_builder:30\u001B[0m] [\u001B[32mINFO\u001B[0m] >>>> Loading context...\u001B[0m\n",
      "2024-07-18 10:47:07 [\u001B[34msrc.input_builder:46\u001B[0m] [\u001B[32mINFO\u001B[0m] >>>> Context loaded successfully.\u001B[0m\n",
      "2024-07-18 10:47:07 [\u001B[34msrc.input_builder:48\u001B[0m] [\u001B[32mINFO\u001B[0m] >>>> Creating input prompt...\u001B[0m\n",
      "2024-07-18 10:47:07 [\u001B[34msrc.input_builder:79\u001B[0m] [\u001B[32mINFO\u001B[0m] >>>> Input prompt created successfully.\u001B[0m\n",
      "2024-07-18 10:47:07 [\u001B[34msrc.finetuning:33\u001B[0m] [\u001B[32mINFO\u001B[0m] >>>> Combining input and expected output into json finetuning data format...\u001B[0m\n",
      "2024-07-18 10:47:07 [\u001B[34msrc.finetuning:50\u001B[0m] [\u001B[32mINFO\u001B[0m] >>>> Finetuning conversation created successfully.\u001B[0m\n",
      "2024-07-18 10:47:07 [\u001B[34msrc.input_builder:30\u001B[0m] [\u001B[32mINFO\u001B[0m] >>>> Loading context...\u001B[0m\n",
      "2024-07-18 10:47:08 [\u001B[34msrc.input_builder:46\u001B[0m] [\u001B[32mINFO\u001B[0m] >>>> Context loaded successfully.\u001B[0m\n",
      "2024-07-18 10:47:08 [\u001B[34msrc.input_builder:48\u001B[0m] [\u001B[32mINFO\u001B[0m] >>>> Creating input prompt...\u001B[0m\n",
      "2024-07-18 10:47:08 [\u001B[34msrc.input_builder:79\u001B[0m] [\u001B[32mINFO\u001B[0m] >>>> Input prompt created successfully.\u001B[0m\n",
      "2024-07-18 10:47:08 [\u001B[34msrc.finetuning:33\u001B[0m] [\u001B[32mINFO\u001B[0m] >>>> Combining input and expected output into json finetuning data format...\u001B[0m\n",
      "2024-07-18 10:47:08 [\u001B[34msrc.finetuning:50\u001B[0m] [\u001B[32mINFO\u001B[0m] >>>> Finetuning conversation created successfully.\u001B[0m\n",
      "2024-07-18 10:47:08 [\u001B[34msrc.input_builder:30\u001B[0m] [\u001B[32mINFO\u001B[0m] >>>> Loading context...\u001B[0m\n",
      "2024-07-18 10:47:08 [\u001B[34msrc.input_builder:46\u001B[0m] [\u001B[32mINFO\u001B[0m] >>>> Context loaded successfully.\u001B[0m\n",
      "2024-07-18 10:47:08 [\u001B[34msrc.input_builder:48\u001B[0m] [\u001B[32mINFO\u001B[0m] >>>> Creating input prompt...\u001B[0m\n",
      "2024-07-18 10:47:08 [\u001B[34msrc.input_builder:79\u001B[0m] [\u001B[32mINFO\u001B[0m] >>>> Input prompt created successfully.\u001B[0m\n",
      "2024-07-18 10:47:08 [\u001B[34msrc.finetuning:33\u001B[0m] [\u001B[32mINFO\u001B[0m] >>>> Combining input and expected output into json finetuning data format...\u001B[0m\n",
      "2024-07-18 10:47:08 [\u001B[34msrc.finetuning:50\u001B[0m] [\u001B[32mINFO\u001B[0m] >>>> Finetuning conversation created successfully.\u001B[0m\n",
      "2024-07-18 10:47:08 [\u001B[34msrc.input_builder:30\u001B[0m] [\u001B[32mINFO\u001B[0m] >>>> Loading context...\u001B[0m\n",
      "2024-07-18 10:47:08 [\u001B[34msrc.input_builder:46\u001B[0m] [\u001B[32mINFO\u001B[0m] >>>> Context loaded successfully.\u001B[0m\n",
      "2024-07-18 10:47:08 [\u001B[34msrc.input_builder:48\u001B[0m] [\u001B[32mINFO\u001B[0m] >>>> Creating input prompt...\u001B[0m\n",
      "2024-07-18 10:47:08 [\u001B[34msrc.input_builder:79\u001B[0m] [\u001B[32mINFO\u001B[0m] >>>> Input prompt created successfully.\u001B[0m\n",
      "2024-07-18 10:47:08 [\u001B[34msrc.finetuning:33\u001B[0m] [\u001B[32mINFO\u001B[0m] >>>> Combining input and expected output into json finetuning data format...\u001B[0m\n",
      "2024-07-18 10:47:08 [\u001B[34msrc.finetuning:50\u001B[0m] [\u001B[32mINFO\u001B[0m] >>>> Finetuning conversation created successfully.\u001B[0m\n",
      "2024-07-18 10:47:08 [\u001B[34msrc.input_builder:30\u001B[0m] [\u001B[32mINFO\u001B[0m] >>>> Loading context...\u001B[0m\n",
      "2024-07-18 10:47:08 [\u001B[34msrc.input_builder:46\u001B[0m] [\u001B[32mINFO\u001B[0m] >>>> Context loaded successfully.\u001B[0m\n",
      "2024-07-18 10:47:08 [\u001B[34msrc.input_builder:48\u001B[0m] [\u001B[32mINFO\u001B[0m] >>>> Creating input prompt...\u001B[0m\n",
      "2024-07-18 10:47:08 [\u001B[34msrc.input_builder:79\u001B[0m] [\u001B[32mINFO\u001B[0m] >>>> Input prompt created successfully.\u001B[0m\n",
      "2024-07-18 10:47:08 [\u001B[34msrc.finetuning:33\u001B[0m] [\u001B[32mINFO\u001B[0m] >>>> Combining input and expected output into json finetuning data format...\u001B[0m\n",
      "2024-07-18 10:47:08 [\u001B[34msrc.finetuning:50\u001B[0m] [\u001B[32mINFO\u001B[0m] >>>> Finetuning conversation created successfully.\u001B[0m\n",
      "2024-07-18 10:47:08 [\u001B[34msrc.input_builder:30\u001B[0m] [\u001B[32mINFO\u001B[0m] >>>> Loading context...\u001B[0m\n",
      "2024-07-18 10:47:08 [\u001B[34msrc.input_builder:46\u001B[0m] [\u001B[32mINFO\u001B[0m] >>>> Context loaded successfully.\u001B[0m\n",
      "2024-07-18 10:47:08 [\u001B[34msrc.input_builder:48\u001B[0m] [\u001B[32mINFO\u001B[0m] >>>> Creating input prompt...\u001B[0m\n",
      "2024-07-18 10:47:08 [\u001B[34msrc.input_builder:79\u001B[0m] [\u001B[32mINFO\u001B[0m] >>>> Input prompt created successfully.\u001B[0m\n",
      "2024-07-18 10:47:08 [\u001B[34msrc.finetuning:33\u001B[0m] [\u001B[32mINFO\u001B[0m] >>>> Combining input and expected output into json finetuning data format...\u001B[0m\n",
      "2024-07-18 10:47:08 [\u001B[34msrc.finetuning:50\u001B[0m] [\u001B[32mINFO\u001B[0m] >>>> Finetuning conversation created successfully.\u001B[0m\n",
      "2024-07-18 10:47:08 [\u001B[34msrc.input_builder:30\u001B[0m] [\u001B[32mINFO\u001B[0m] >>>> Loading context...\u001B[0m\n",
      "2024-07-18 10:47:08 [\u001B[34msrc.input_builder:46\u001B[0m] [\u001B[32mINFO\u001B[0m] >>>> Context loaded successfully.\u001B[0m\n",
      "2024-07-18 10:47:08 [\u001B[34msrc.input_builder:48\u001B[0m] [\u001B[32mINFO\u001B[0m] >>>> Creating input prompt...\u001B[0m\n",
      "2024-07-18 10:47:08 [\u001B[34msrc.input_builder:79\u001B[0m] [\u001B[32mINFO\u001B[0m] >>>> Input prompt created successfully.\u001B[0m\n",
      "2024-07-18 10:47:08 [\u001B[34msrc.finetuning:33\u001B[0m] [\u001B[32mINFO\u001B[0m] >>>> Combining input and expected output into json finetuning data format...\u001B[0m\n",
      "2024-07-18 10:47:08 [\u001B[34msrc.finetuning:50\u001B[0m] [\u001B[32mINFO\u001B[0m] >>>> Finetuning conversation created successfully.\u001B[0m\n",
      "2024-07-18 10:47:08 [\u001B[34msrc.input_builder:30\u001B[0m] [\u001B[32mINFO\u001B[0m] >>>> Loading context...\u001B[0m\n",
      "2024-07-18 10:47:08 [\u001B[34msrc.input_builder:46\u001B[0m] [\u001B[32mINFO\u001B[0m] >>>> Context loaded successfully.\u001B[0m\n",
      "2024-07-18 10:47:08 [\u001B[34msrc.input_builder:48\u001B[0m] [\u001B[32mINFO\u001B[0m] >>>> Creating input prompt...\u001B[0m\n",
      "2024-07-18 10:47:08 [\u001B[34msrc.input_builder:79\u001B[0m] [\u001B[32mINFO\u001B[0m] >>>> Input prompt created successfully.\u001B[0m\n",
      "2024-07-18 10:47:08 [\u001B[34msrc.finetuning:33\u001B[0m] [\u001B[32mINFO\u001B[0m] >>>> Combining input and expected output into json finetuning data format...\u001B[0m\n",
      "2024-07-18 10:47:08 [\u001B[34msrc.finetuning:50\u001B[0m] [\u001B[32mINFO\u001B[0m] >>>> Finetuning conversation created successfully.\u001B[0m\n",
      "2024-07-18 10:47:08 [\u001B[34msrc.input_builder:30\u001B[0m] [\u001B[32mINFO\u001B[0m] >>>> Loading context...\u001B[0m\n",
      "2024-07-18 10:47:08 [\u001B[34msrc.input_builder:46\u001B[0m] [\u001B[32mINFO\u001B[0m] >>>> Context loaded successfully.\u001B[0m\n",
      "2024-07-18 10:47:08 [\u001B[34msrc.input_builder:48\u001B[0m] [\u001B[32mINFO\u001B[0m] >>>> Creating input prompt...\u001B[0m\n",
      "2024-07-18 10:47:08 [\u001B[34msrc.input_builder:79\u001B[0m] [\u001B[32mINFO\u001B[0m] >>>> Input prompt created successfully.\u001B[0m\n",
      "2024-07-18 10:47:08 [\u001B[34msrc.finetuning:33\u001B[0m] [\u001B[32mINFO\u001B[0m] >>>> Combining input and expected output into json finetuning data format...\u001B[0m\n",
      "2024-07-18 10:47:08 [\u001B[34msrc.finetuning:50\u001B[0m] [\u001B[32mINFO\u001B[0m] >>>> Finetuning conversation created successfully.\u001B[0m\n",
      "2024-07-18 10:47:08 [\u001B[34msrc.input_builder:30\u001B[0m] [\u001B[32mINFO\u001B[0m] >>>> Loading context...\u001B[0m\n",
      "2024-07-18 10:47:09 [\u001B[34msrc.input_builder:46\u001B[0m] [\u001B[32mINFO\u001B[0m] >>>> Context loaded successfully.\u001B[0m\n",
      "2024-07-18 10:47:09 [\u001B[34msrc.input_builder:48\u001B[0m] [\u001B[32mINFO\u001B[0m] >>>> Creating input prompt...\u001B[0m\n",
      "2024-07-18 10:47:09 [\u001B[34msrc.input_builder:79\u001B[0m] [\u001B[32mINFO\u001B[0m] >>>> Input prompt created successfully.\u001B[0m\n",
      "2024-07-18 10:47:09 [\u001B[34msrc.finetuning:33\u001B[0m] [\u001B[32mINFO\u001B[0m] >>>> Combining input and expected output into json finetuning data format...\u001B[0m\n",
      "2024-07-18 10:47:09 [\u001B[34msrc.finetuning:50\u001B[0m] [\u001B[32mINFO\u001B[0m] >>>> Finetuning conversation created successfully.\u001B[0m\n",
      "2024-07-18 10:47:09 [\u001B[34msrc.input_builder:30\u001B[0m] [\u001B[32mINFO\u001B[0m] >>>> Loading context...\u001B[0m\n",
      "2024-07-18 10:47:09 [\u001B[34msrc.input_builder:46\u001B[0m] [\u001B[32mINFO\u001B[0m] >>>> Context loaded successfully.\u001B[0m\n",
      "2024-07-18 10:47:09 [\u001B[34msrc.input_builder:48\u001B[0m] [\u001B[32mINFO\u001B[0m] >>>> Creating input prompt...\u001B[0m\n",
      "2024-07-18 10:47:09 [\u001B[34msrc.input_builder:79\u001B[0m] [\u001B[32mINFO\u001B[0m] >>>> Input prompt created successfully.\u001B[0m\n",
      "2024-07-18 10:47:09 [\u001B[34msrc.finetuning:33\u001B[0m] [\u001B[32mINFO\u001B[0m] >>>> Combining input and expected output into json finetuning data format...\u001B[0m\n",
      "2024-07-18 10:47:09 [\u001B[34msrc.finetuning:50\u001B[0m] [\u001B[32mINFO\u001B[0m] >>>> Finetuning conversation created successfully.\u001B[0m\n",
      "2024-07-18 10:47:09 [\u001B[34msrc.input_builder:30\u001B[0m] [\u001B[32mINFO\u001B[0m] >>>> Loading context...\u001B[0m\n",
      "2024-07-18 10:47:09 [\u001B[34msrc.input_builder:46\u001B[0m] [\u001B[32mINFO\u001B[0m] >>>> Context loaded successfully.\u001B[0m\n",
      "2024-07-18 10:47:09 [\u001B[34msrc.input_builder:48\u001B[0m] [\u001B[32mINFO\u001B[0m] >>>> Creating input prompt...\u001B[0m\n",
      "2024-07-18 10:47:09 [\u001B[34msrc.input_builder:79\u001B[0m] [\u001B[32mINFO\u001B[0m] >>>> Input prompt created successfully.\u001B[0m\n",
      "2024-07-18 10:47:09 [\u001B[34msrc.finetuning:33\u001B[0m] [\u001B[32mINFO\u001B[0m] >>>> Combining input and expected output into json finetuning data format...\u001B[0m\n",
      "2024-07-18 10:47:09 [\u001B[34msrc.finetuning:50\u001B[0m] [\u001B[32mINFO\u001B[0m] >>>> Finetuning conversation created successfully.\u001B[0m\n",
      "2024-07-18 10:47:09 [\u001B[34msrc.input_builder:30\u001B[0m] [\u001B[32mINFO\u001B[0m] >>>> Loading context...\u001B[0m\n",
      "2024-07-18 10:47:09 [\u001B[34msrc.input_builder:46\u001B[0m] [\u001B[32mINFO\u001B[0m] >>>> Context loaded successfully.\u001B[0m\n",
      "2024-07-18 10:47:09 [\u001B[34msrc.input_builder:48\u001B[0m] [\u001B[32mINFO\u001B[0m] >>>> Creating input prompt...\u001B[0m\n",
      "2024-07-18 10:47:09 [\u001B[34msrc.input_builder:79\u001B[0m] [\u001B[32mINFO\u001B[0m] >>>> Input prompt created successfully.\u001B[0m\n",
      "2024-07-18 10:47:09 [\u001B[34msrc.finetuning:33\u001B[0m] [\u001B[32mINFO\u001B[0m] >>>> Combining input and expected output into json finetuning data format...\u001B[0m\n",
      "2024-07-18 10:47:09 [\u001B[34msrc.finetuning:50\u001B[0m] [\u001B[32mINFO\u001B[0m] >>>> Finetuning conversation created successfully.\u001B[0m\n",
      "2024-07-18 10:47:09 [\u001B[34msrc.input_builder:30\u001B[0m] [\u001B[32mINFO\u001B[0m] >>>> Loading context...\u001B[0m\n",
      "2024-07-18 10:47:09 [\u001B[34msrc.input_builder:46\u001B[0m] [\u001B[32mINFO\u001B[0m] >>>> Context loaded successfully.\u001B[0m\n",
      "2024-07-18 10:47:09 [\u001B[34msrc.input_builder:48\u001B[0m] [\u001B[32mINFO\u001B[0m] >>>> Creating input prompt...\u001B[0m\n",
      "2024-07-18 10:47:09 [\u001B[34msrc.input_builder:79\u001B[0m] [\u001B[32mINFO\u001B[0m] >>>> Input prompt created successfully.\u001B[0m\n",
      "2024-07-18 10:47:09 [\u001B[34msrc.finetuning:33\u001B[0m] [\u001B[32mINFO\u001B[0m] >>>> Combining input and expected output into json finetuning data format...\u001B[0m\n",
      "2024-07-18 10:47:09 [\u001B[34msrc.finetuning:50\u001B[0m] [\u001B[32mINFO\u001B[0m] >>>> Finetuning conversation created successfully.\u001B[0m\n",
      "2024-07-18 10:47:09 [\u001B[34msrc.input_builder:30\u001B[0m] [\u001B[32mINFO\u001B[0m] >>>> Loading context...\u001B[0m\n",
      "2024-07-18 10:47:09 [\u001B[34msrc.input_builder:46\u001B[0m] [\u001B[32mINFO\u001B[0m] >>>> Context loaded successfully.\u001B[0m\n",
      "2024-07-18 10:47:09 [\u001B[34msrc.input_builder:48\u001B[0m] [\u001B[32mINFO\u001B[0m] >>>> Creating input prompt...\u001B[0m\n",
      "2024-07-18 10:47:09 [\u001B[34msrc.input_builder:79\u001B[0m] [\u001B[32mINFO\u001B[0m] >>>> Input prompt created successfully.\u001B[0m\n",
      "2024-07-18 10:47:09 [\u001B[34msrc.finetuning:33\u001B[0m] [\u001B[32mINFO\u001B[0m] >>>> Combining input and expected output into json finetuning data format...\u001B[0m\n",
      "2024-07-18 10:47:09 [\u001B[34msrc.finetuning:50\u001B[0m] [\u001B[32mINFO\u001B[0m] >>>> Finetuning conversation created successfully.\u001B[0m\n",
      "2024-07-18 10:47:09 [\u001B[34msrc.input_builder:30\u001B[0m] [\u001B[32mINFO\u001B[0m] >>>> Loading context...\u001B[0m\n",
      "2024-07-18 10:47:09 [\u001B[34msrc.input_builder:46\u001B[0m] [\u001B[32mINFO\u001B[0m] >>>> Context loaded successfully.\u001B[0m\n",
      "2024-07-18 10:47:09 [\u001B[34msrc.input_builder:48\u001B[0m] [\u001B[32mINFO\u001B[0m] >>>> Creating input prompt...\u001B[0m\n",
      "2024-07-18 10:47:09 [\u001B[34msrc.input_builder:79\u001B[0m] [\u001B[32mINFO\u001B[0m] >>>> Input prompt created successfully.\u001B[0m\n",
      "2024-07-18 10:47:09 [\u001B[34msrc.finetuning:33\u001B[0m] [\u001B[32mINFO\u001B[0m] >>>> Combining input and expected output into json finetuning data format...\u001B[0m\n",
      "2024-07-18 10:47:09 [\u001B[34msrc.finetuning:50\u001B[0m] [\u001B[32mINFO\u001B[0m] >>>> Finetuning conversation created successfully.\u001B[0m\n",
      "2024-07-18 10:47:09 [\u001B[34msrc.input_builder:30\u001B[0m] [\u001B[32mINFO\u001B[0m] >>>> Loading context...\u001B[0m\n",
      "2024-07-18 10:47:09 [\u001B[34msrc.input_builder:46\u001B[0m] [\u001B[32mINFO\u001B[0m] >>>> Context loaded successfully.\u001B[0m\n",
      "2024-07-18 10:47:09 [\u001B[34msrc.input_builder:48\u001B[0m] [\u001B[32mINFO\u001B[0m] >>>> Creating input prompt...\u001B[0m\n",
      "2024-07-18 10:47:09 [\u001B[34msrc.input_builder:79\u001B[0m] [\u001B[32mINFO\u001B[0m] >>>> Input prompt created successfully.\u001B[0m\n",
      "2024-07-18 10:47:09 [\u001B[34msrc.finetuning:33\u001B[0m] [\u001B[32mINFO\u001B[0m] >>>> Combining input and expected output into json finetuning data format...\u001B[0m\n",
      "2024-07-18 10:47:09 [\u001B[34msrc.finetuning:50\u001B[0m] [\u001B[32mINFO\u001B[0m] >>>> Finetuning conversation created successfully.\u001B[0m\n",
      "2024-07-18 10:47:09 [\u001B[34msrc.input_builder:30\u001B[0m] [\u001B[32mINFO\u001B[0m] >>>> Loading context...\u001B[0m\n",
      "2024-07-18 10:47:09 [\u001B[34msrc.input_builder:46\u001B[0m] [\u001B[32mINFO\u001B[0m] >>>> Context loaded successfully.\u001B[0m\n",
      "2024-07-18 10:47:09 [\u001B[34msrc.input_builder:48\u001B[0m] [\u001B[32mINFO\u001B[0m] >>>> Creating input prompt...\u001B[0m\n",
      "2024-07-18 10:47:09 [\u001B[34msrc.input_builder:79\u001B[0m] [\u001B[32mINFO\u001B[0m] >>>> Input prompt created successfully.\u001B[0m\n",
      "2024-07-18 10:47:09 [\u001B[34msrc.finetuning:33\u001B[0m] [\u001B[32mINFO\u001B[0m] >>>> Combining input and expected output into json finetuning data format...\u001B[0m\n",
      "2024-07-18 10:47:09 [\u001B[34msrc.finetuning:50\u001B[0m] [\u001B[32mINFO\u001B[0m] >>>> Finetuning conversation created successfully.\u001B[0m\n",
      "2024-07-18 10:47:09 [\u001B[34msrc.input_builder:30\u001B[0m] [\u001B[32mINFO\u001B[0m] >>>> Loading context...\u001B[0m\n",
      "2024-07-18 10:47:10 [\u001B[34msrc.input_builder:46\u001B[0m] [\u001B[32mINFO\u001B[0m] >>>> Context loaded successfully.\u001B[0m\n",
      "2024-07-18 10:47:10 [\u001B[34msrc.input_builder:48\u001B[0m] [\u001B[32mINFO\u001B[0m] >>>> Creating input prompt...\u001B[0m\n",
      "2024-07-18 10:47:10 [\u001B[34msrc.input_builder:79\u001B[0m] [\u001B[32mINFO\u001B[0m] >>>> Input prompt created successfully.\u001B[0m\n",
      "2024-07-18 10:47:10 [\u001B[34msrc.finetuning:33\u001B[0m] [\u001B[32mINFO\u001B[0m] >>>> Combining input and expected output into json finetuning data format...\u001B[0m\n",
      "2024-07-18 10:47:10 [\u001B[34msrc.finetuning:50\u001B[0m] [\u001B[32mINFO\u001B[0m] >>>> Finetuning conversation created successfully.\u001B[0m\n",
      "2024-07-18 10:47:10 [\u001B[34msrc.input_builder:30\u001B[0m] [\u001B[32mINFO\u001B[0m] >>>> Loading context...\u001B[0m\n",
      "2024-07-18 10:47:10 [\u001B[34msrc.input_builder:46\u001B[0m] [\u001B[32mINFO\u001B[0m] >>>> Context loaded successfully.\u001B[0m\n",
      "2024-07-18 10:47:10 [\u001B[34msrc.input_builder:48\u001B[0m] [\u001B[32mINFO\u001B[0m] >>>> Creating input prompt...\u001B[0m\n",
      "2024-07-18 10:47:10 [\u001B[34msrc.input_builder:79\u001B[0m] [\u001B[32mINFO\u001B[0m] >>>> Input prompt created successfully.\u001B[0m\n",
      "2024-07-18 10:47:10 [\u001B[34msrc.finetuning:33\u001B[0m] [\u001B[32mINFO\u001B[0m] >>>> Combining input and expected output into json finetuning data format...\u001B[0m\n",
      "2024-07-18 10:47:10 [\u001B[34msrc.finetuning:50\u001B[0m] [\u001B[32mINFO\u001B[0m] >>>> Finetuning conversation created successfully.\u001B[0m\n",
      "2024-07-18 10:47:10 [\u001B[34msrc.input_builder:30\u001B[0m] [\u001B[32mINFO\u001B[0m] >>>> Loading context...\u001B[0m\n",
      "2024-07-18 10:47:10 [\u001B[34msrc.input_builder:46\u001B[0m] [\u001B[32mINFO\u001B[0m] >>>> Context loaded successfully.\u001B[0m\n",
      "2024-07-18 10:47:10 [\u001B[34msrc.input_builder:48\u001B[0m] [\u001B[32mINFO\u001B[0m] >>>> Creating input prompt...\u001B[0m\n",
      "2024-07-18 10:47:10 [\u001B[34msrc.input_builder:79\u001B[0m] [\u001B[32mINFO\u001B[0m] >>>> Input prompt created successfully.\u001B[0m\n",
      "2024-07-18 10:47:10 [\u001B[34msrc.finetuning:33\u001B[0m] [\u001B[32mINFO\u001B[0m] >>>> Combining input and expected output into json finetuning data format...\u001B[0m\n",
      "2024-07-18 10:47:10 [\u001B[34msrc.finetuning:50\u001B[0m] [\u001B[32mINFO\u001B[0m] >>>> Finetuning conversation created successfully.\u001B[0m\n",
      "2024-07-18 10:47:10 [\u001B[34msrc.input_builder:30\u001B[0m] [\u001B[32mINFO\u001B[0m] >>>> Loading context...\u001B[0m\n",
      "2024-07-18 10:47:10 [\u001B[34msrc.input_builder:46\u001B[0m] [\u001B[32mINFO\u001B[0m] >>>> Context loaded successfully.\u001B[0m\n",
      "2024-07-18 10:47:10 [\u001B[34msrc.input_builder:48\u001B[0m] [\u001B[32mINFO\u001B[0m] >>>> Creating input prompt...\u001B[0m\n",
      "2024-07-18 10:47:10 [\u001B[34msrc.input_builder:79\u001B[0m] [\u001B[32mINFO\u001B[0m] >>>> Input prompt created successfully.\u001B[0m\n",
      "2024-07-18 10:47:10 [\u001B[34msrc.finetuning:33\u001B[0m] [\u001B[32mINFO\u001B[0m] >>>> Combining input and expected output into json finetuning data format...\u001B[0m\n",
      "2024-07-18 10:47:10 [\u001B[34msrc.finetuning:50\u001B[0m] [\u001B[32mINFO\u001B[0m] >>>> Finetuning conversation created successfully.\u001B[0m\n",
      "2024-07-18 10:47:10 [\u001B[34msrc.input_builder:30\u001B[0m] [\u001B[32mINFO\u001B[0m] >>>> Loading context...\u001B[0m\n",
      "2024-07-18 10:47:10 [\u001B[34msrc.input_builder:46\u001B[0m] [\u001B[32mINFO\u001B[0m] >>>> Context loaded successfully.\u001B[0m\n",
      "2024-07-18 10:47:10 [\u001B[34msrc.input_builder:48\u001B[0m] [\u001B[32mINFO\u001B[0m] >>>> Creating input prompt...\u001B[0m\n",
      "2024-07-18 10:47:10 [\u001B[34msrc.input_builder:79\u001B[0m] [\u001B[32mINFO\u001B[0m] >>>> Input prompt created successfully.\u001B[0m\n",
      "2024-07-18 10:47:10 [\u001B[34msrc.finetuning:33\u001B[0m] [\u001B[32mINFO\u001B[0m] >>>> Combining input and expected output into json finetuning data format...\u001B[0m\n",
      "2024-07-18 10:47:10 [\u001B[34msrc.finetuning:50\u001B[0m] [\u001B[32mINFO\u001B[0m] >>>> Finetuning conversation created successfully.\u001B[0m\n",
      "2024-07-18 10:47:10 [\u001B[34msrc.input_builder:30\u001B[0m] [\u001B[32mINFO\u001B[0m] >>>> Loading context...\u001B[0m\n",
      "2024-07-18 10:47:10 [\u001B[34msrc.input_builder:46\u001B[0m] [\u001B[32mINFO\u001B[0m] >>>> Context loaded successfully.\u001B[0m\n",
      "2024-07-18 10:47:10 [\u001B[34msrc.input_builder:48\u001B[0m] [\u001B[32mINFO\u001B[0m] >>>> Creating input prompt...\u001B[0m\n",
      "2024-07-18 10:47:10 [\u001B[34msrc.input_builder:79\u001B[0m] [\u001B[32mINFO\u001B[0m] >>>> Input prompt created successfully.\u001B[0m\n",
      "2024-07-18 10:47:10 [\u001B[34msrc.finetuning:33\u001B[0m] [\u001B[32mINFO\u001B[0m] >>>> Combining input and expected output into json finetuning data format...\u001B[0m\n",
      "2024-07-18 10:47:10 [\u001B[34msrc.finetuning:50\u001B[0m] [\u001B[32mINFO\u001B[0m] >>>> Finetuning conversation created successfully.\u001B[0m\n",
      "2024-07-18 10:47:10 [\u001B[34msrc.input_builder:30\u001B[0m] [\u001B[32mINFO\u001B[0m] >>>> Loading context...\u001B[0m\n",
      "2024-07-18 10:47:10 [\u001B[34msrc.input_builder:46\u001B[0m] [\u001B[32mINFO\u001B[0m] >>>> Context loaded successfully.\u001B[0m\n",
      "2024-07-18 10:47:10 [\u001B[34msrc.input_builder:48\u001B[0m] [\u001B[32mINFO\u001B[0m] >>>> Creating input prompt...\u001B[0m\n",
      "2024-07-18 10:47:10 [\u001B[34msrc.input_builder:79\u001B[0m] [\u001B[32mINFO\u001B[0m] >>>> Input prompt created successfully.\u001B[0m\n",
      "2024-07-18 10:47:10 [\u001B[34msrc.finetuning:33\u001B[0m] [\u001B[32mINFO\u001B[0m] >>>> Combining input and expected output into json finetuning data format...\u001B[0m\n",
      "2024-07-18 10:47:10 [\u001B[34msrc.finetuning:50\u001B[0m] [\u001B[32mINFO\u001B[0m] >>>> Finetuning conversation created successfully.\u001B[0m\n",
      "2024-07-18 10:47:10 [\u001B[34msrc.input_builder:30\u001B[0m] [\u001B[32mINFO\u001B[0m] >>>> Loading context...\u001B[0m\n",
      "2024-07-18 10:47:10 [\u001B[34msrc.input_builder:46\u001B[0m] [\u001B[32mINFO\u001B[0m] >>>> Context loaded successfully.\u001B[0m\n",
      "2024-07-18 10:47:10 [\u001B[34msrc.input_builder:48\u001B[0m] [\u001B[32mINFO\u001B[0m] >>>> Creating input prompt...\u001B[0m\n",
      "2024-07-18 10:47:10 [\u001B[34msrc.input_builder:79\u001B[0m] [\u001B[32mINFO\u001B[0m] >>>> Input prompt created successfully.\u001B[0m\n",
      "2024-07-18 10:47:10 [\u001B[34msrc.finetuning:33\u001B[0m] [\u001B[32mINFO\u001B[0m] >>>> Combining input and expected output into json finetuning data format...\u001B[0m\n",
      "2024-07-18 10:47:10 [\u001B[34msrc.finetuning:50\u001B[0m] [\u001B[32mINFO\u001B[0m] >>>> Finetuning conversation created successfully.\u001B[0m\n",
      "2024-07-18 10:47:10 [\u001B[34msrc.input_builder:30\u001B[0m] [\u001B[32mINFO\u001B[0m] >>>> Loading context...\u001B[0m\n",
      "2024-07-18 10:47:10 [\u001B[34msrc.input_builder:46\u001B[0m] [\u001B[32mINFO\u001B[0m] >>>> Context loaded successfully.\u001B[0m\n",
      "2024-07-18 10:47:10 [\u001B[34msrc.input_builder:48\u001B[0m] [\u001B[32mINFO\u001B[0m] >>>> Creating input prompt...\u001B[0m\n",
      "2024-07-18 10:47:10 [\u001B[34msrc.input_builder:79\u001B[0m] [\u001B[32mINFO\u001B[0m] >>>> Input prompt created successfully.\u001B[0m\n",
      "2024-07-18 10:47:10 [\u001B[34msrc.finetuning:33\u001B[0m] [\u001B[32mINFO\u001B[0m] >>>> Combining input and expected output into json finetuning data format...\u001B[0m\n",
      "2024-07-18 10:47:10 [\u001B[34msrc.finetuning:50\u001B[0m] [\u001B[32mINFO\u001B[0m] >>>> Finetuning conversation created successfully.\u001B[0m\n",
      "2024-07-18 10:47:10 [\u001B[34msrc.input_builder:30\u001B[0m] [\u001B[32mINFO\u001B[0m] >>>> Loading context...\u001B[0m\n",
      "2024-07-18 10:47:10 [\u001B[34msrc.input_builder:46\u001B[0m] [\u001B[32mINFO\u001B[0m] >>>> Context loaded successfully.\u001B[0m\n",
      "2024-07-18 10:47:10 [\u001B[34msrc.input_builder:48\u001B[0m] [\u001B[32mINFO\u001B[0m] >>>> Creating input prompt...\u001B[0m\n",
      "2024-07-18 10:47:10 [\u001B[34msrc.input_builder:79\u001B[0m] [\u001B[32mINFO\u001B[0m] >>>> Input prompt created successfully.\u001B[0m\n",
      "2024-07-18 10:47:10 [\u001B[34msrc.finetuning:33\u001B[0m] [\u001B[32mINFO\u001B[0m] >>>> Combining input and expected output into json finetuning data format...\u001B[0m\n",
      "2024-07-18 10:47:10 [\u001B[34msrc.finetuning:50\u001B[0m] [\u001B[32mINFO\u001B[0m] >>>> Finetuning conversation created successfully.\u001B[0m\n",
      "2024-07-18 10:47:10 [\u001B[34msrc.input_builder:30\u001B[0m] [\u001B[32mINFO\u001B[0m] >>>> Loading context...\u001B[0m\n",
      "2024-07-18 10:47:11 [\u001B[34msrc.input_builder:46\u001B[0m] [\u001B[32mINFO\u001B[0m] >>>> Context loaded successfully.\u001B[0m\n",
      "2024-07-18 10:47:11 [\u001B[34msrc.input_builder:48\u001B[0m] [\u001B[32mINFO\u001B[0m] >>>> Creating input prompt...\u001B[0m\n",
      "2024-07-18 10:47:11 [\u001B[34msrc.input_builder:79\u001B[0m] [\u001B[32mINFO\u001B[0m] >>>> Input prompt created successfully.\u001B[0m\n",
      "2024-07-18 10:47:11 [\u001B[34msrc.finetuning:33\u001B[0m] [\u001B[32mINFO\u001B[0m] >>>> Combining input and expected output into json finetuning data format...\u001B[0m\n",
      "2024-07-18 10:47:11 [\u001B[34msrc.finetuning:50\u001B[0m] [\u001B[32mINFO\u001B[0m] >>>> Finetuning conversation created successfully.\u001B[0m\n",
      "2024-07-18 10:47:11 [\u001B[34msrc.input_builder:30\u001B[0m] [\u001B[32mINFO\u001B[0m] >>>> Loading context...\u001B[0m\n",
      "2024-07-18 10:47:11 [\u001B[34msrc.input_builder:46\u001B[0m] [\u001B[32mINFO\u001B[0m] >>>> Context loaded successfully.\u001B[0m\n",
      "2024-07-18 10:47:11 [\u001B[34msrc.input_builder:48\u001B[0m] [\u001B[32mINFO\u001B[0m] >>>> Creating input prompt...\u001B[0m\n",
      "2024-07-18 10:47:11 [\u001B[34msrc.input_builder:79\u001B[0m] [\u001B[32mINFO\u001B[0m] >>>> Input prompt created successfully.\u001B[0m\n",
      "2024-07-18 10:47:11 [\u001B[34msrc.finetuning:33\u001B[0m] [\u001B[32mINFO\u001B[0m] >>>> Combining input and expected output into json finetuning data format...\u001B[0m\n",
      "2024-07-18 10:47:11 [\u001B[34msrc.finetuning:50\u001B[0m] [\u001B[32mINFO\u001B[0m] >>>> Finetuning conversation created successfully.\u001B[0m\n",
      "2024-07-18 10:47:11 [\u001B[34msrc.input_builder:30\u001B[0m] [\u001B[32mINFO\u001B[0m] >>>> Loading context...\u001B[0m\n",
      "2024-07-18 10:47:11 [\u001B[34msrc.input_builder:46\u001B[0m] [\u001B[32mINFO\u001B[0m] >>>> Context loaded successfully.\u001B[0m\n",
      "2024-07-18 10:47:11 [\u001B[34msrc.input_builder:48\u001B[0m] [\u001B[32mINFO\u001B[0m] >>>> Creating input prompt...\u001B[0m\n",
      "2024-07-18 10:47:11 [\u001B[34msrc.input_builder:79\u001B[0m] [\u001B[32mINFO\u001B[0m] >>>> Input prompt created successfully.\u001B[0m\n",
      "2024-07-18 10:47:11 [\u001B[34msrc.finetuning:33\u001B[0m] [\u001B[32mINFO\u001B[0m] >>>> Combining input and expected output into json finetuning data format...\u001B[0m\n",
      "2024-07-18 10:47:11 [\u001B[34msrc.finetuning:50\u001B[0m] [\u001B[32mINFO\u001B[0m] >>>> Finetuning conversation created successfully.\u001B[0m\n",
      "2024-07-18 10:47:11 [\u001B[34msrc.input_builder:30\u001B[0m] [\u001B[32mINFO\u001B[0m] >>>> Loading context...\u001B[0m\n",
      "2024-07-18 10:47:11 [\u001B[34msrc.input_builder:46\u001B[0m] [\u001B[32mINFO\u001B[0m] >>>> Context loaded successfully.\u001B[0m\n",
      "2024-07-18 10:47:11 [\u001B[34msrc.input_builder:48\u001B[0m] [\u001B[32mINFO\u001B[0m] >>>> Creating input prompt...\u001B[0m\n",
      "2024-07-18 10:47:11 [\u001B[34msrc.input_builder:79\u001B[0m] [\u001B[32mINFO\u001B[0m] >>>> Input prompt created successfully.\u001B[0m\n",
      "2024-07-18 10:47:11 [\u001B[34msrc.finetuning:33\u001B[0m] [\u001B[32mINFO\u001B[0m] >>>> Combining input and expected output into json finetuning data format...\u001B[0m\n",
      "2024-07-18 10:47:11 [\u001B[34msrc.finetuning:50\u001B[0m] [\u001B[32mINFO\u001B[0m] >>>> Finetuning conversation created successfully.\u001B[0m\n",
      "2024-07-18 10:47:11 [\u001B[34msrc.input_builder:30\u001B[0m] [\u001B[32mINFO\u001B[0m] >>>> Loading context...\u001B[0m\n",
      "2024-07-18 10:47:11 [\u001B[34msrc.input_builder:46\u001B[0m] [\u001B[32mINFO\u001B[0m] >>>> Context loaded successfully.\u001B[0m\n",
      "2024-07-18 10:47:11 [\u001B[34msrc.input_builder:48\u001B[0m] [\u001B[32mINFO\u001B[0m] >>>> Creating input prompt...\u001B[0m\n",
      "2024-07-18 10:47:11 [\u001B[34msrc.input_builder:79\u001B[0m] [\u001B[32mINFO\u001B[0m] >>>> Input prompt created successfully.\u001B[0m\n",
      "2024-07-18 10:47:11 [\u001B[34msrc.finetuning:33\u001B[0m] [\u001B[32mINFO\u001B[0m] >>>> Combining input and expected output into json finetuning data format...\u001B[0m\n",
      "2024-07-18 10:47:11 [\u001B[34msrc.finetuning:50\u001B[0m] [\u001B[32mINFO\u001B[0m] >>>> Finetuning conversation created successfully.\u001B[0m\n",
      "2024-07-18 10:47:11 [\u001B[34msrc.input_builder:30\u001B[0m] [\u001B[32mINFO\u001B[0m] >>>> Loading context...\u001B[0m\n",
      "2024-07-18 10:47:11 [\u001B[34msrc.input_builder:46\u001B[0m] [\u001B[32mINFO\u001B[0m] >>>> Context loaded successfully.\u001B[0m\n",
      "2024-07-18 10:47:11 [\u001B[34msrc.input_builder:48\u001B[0m] [\u001B[32mINFO\u001B[0m] >>>> Creating input prompt...\u001B[0m\n",
      "2024-07-18 10:47:11 [\u001B[34msrc.input_builder:79\u001B[0m] [\u001B[32mINFO\u001B[0m] >>>> Input prompt created successfully.\u001B[0m\n",
      "2024-07-18 10:47:11 [\u001B[34msrc.finetuning:33\u001B[0m] [\u001B[32mINFO\u001B[0m] >>>> Combining input and expected output into json finetuning data format...\u001B[0m\n",
      "2024-07-18 10:47:11 [\u001B[34msrc.finetuning:50\u001B[0m] [\u001B[32mINFO\u001B[0m] >>>> Finetuning conversation created successfully.\u001B[0m\n",
      "2024-07-18 10:47:11 [\u001B[34msrc.input_builder:30\u001B[0m] [\u001B[32mINFO\u001B[0m] >>>> Loading context...\u001B[0m\n",
      "2024-07-18 10:47:12 [\u001B[34msrc.input_builder:46\u001B[0m] [\u001B[32mINFO\u001B[0m] >>>> Context loaded successfully.\u001B[0m\n",
      "2024-07-18 10:47:12 [\u001B[34msrc.input_builder:48\u001B[0m] [\u001B[32mINFO\u001B[0m] >>>> Creating input prompt...\u001B[0m\n",
      "2024-07-18 10:47:12 [\u001B[34msrc.input_builder:79\u001B[0m] [\u001B[32mINFO\u001B[0m] >>>> Input prompt created successfully.\u001B[0m\n",
      "2024-07-18 10:47:12 [\u001B[34msrc.finetuning:33\u001B[0m] [\u001B[32mINFO\u001B[0m] >>>> Combining input and expected output into json finetuning data format...\u001B[0m\n",
      "2024-07-18 10:47:12 [\u001B[34msrc.finetuning:50\u001B[0m] [\u001B[32mINFO\u001B[0m] >>>> Finetuning conversation created successfully.\u001B[0m\n",
      "2024-07-18 10:47:12 [\u001B[34msrc.input_builder:30\u001B[0m] [\u001B[32mINFO\u001B[0m] >>>> Loading context...\u001B[0m\n",
      "2024-07-18 10:47:12 [\u001B[34msrc.input_builder:46\u001B[0m] [\u001B[32mINFO\u001B[0m] >>>> Context loaded successfully.\u001B[0m\n",
      "2024-07-18 10:47:12 [\u001B[34msrc.input_builder:48\u001B[0m] [\u001B[32mINFO\u001B[0m] >>>> Creating input prompt...\u001B[0m\n",
      "2024-07-18 10:47:12 [\u001B[34msrc.input_builder:79\u001B[0m] [\u001B[32mINFO\u001B[0m] >>>> Input prompt created successfully.\u001B[0m\n",
      "2024-07-18 10:47:12 [\u001B[34msrc.finetuning:33\u001B[0m] [\u001B[32mINFO\u001B[0m] >>>> Combining input and expected output into json finetuning data format...\u001B[0m\n",
      "2024-07-18 10:47:12 [\u001B[34msrc.finetuning:50\u001B[0m] [\u001B[32mINFO\u001B[0m] >>>> Finetuning conversation created successfully.\u001B[0m\n",
      "2024-07-18 10:47:12 [\u001B[34msrc.input_builder:30\u001B[0m] [\u001B[32mINFO\u001B[0m] >>>> Loading context...\u001B[0m\n",
      "2024-07-18 10:47:12 [\u001B[34msrc.input_builder:46\u001B[0m] [\u001B[32mINFO\u001B[0m] >>>> Context loaded successfully.\u001B[0m\n",
      "2024-07-18 10:47:12 [\u001B[34msrc.input_builder:48\u001B[0m] [\u001B[32mINFO\u001B[0m] >>>> Creating input prompt...\u001B[0m\n",
      "2024-07-18 10:47:12 [\u001B[34msrc.input_builder:79\u001B[0m] [\u001B[32mINFO\u001B[0m] >>>> Input prompt created successfully.\u001B[0m\n",
      "2024-07-18 10:47:12 [\u001B[34msrc.finetuning:33\u001B[0m] [\u001B[32mINFO\u001B[0m] >>>> Combining input and expected output into json finetuning data format...\u001B[0m\n",
      "2024-07-18 10:47:12 [\u001B[34msrc.finetuning:50\u001B[0m] [\u001B[32mINFO\u001B[0m] >>>> Finetuning conversation created successfully.\u001B[0m\n",
      "2024-07-18 10:47:12 [\u001B[34msrc.input_builder:30\u001B[0m] [\u001B[32mINFO\u001B[0m] >>>> Loading context...\u001B[0m\n",
      "2024-07-18 10:47:12 [\u001B[34msrc.input_builder:46\u001B[0m] [\u001B[32mINFO\u001B[0m] >>>> Context loaded successfully.\u001B[0m\n",
      "2024-07-18 10:47:12 [\u001B[34msrc.input_builder:48\u001B[0m] [\u001B[32mINFO\u001B[0m] >>>> Creating input prompt...\u001B[0m\n",
      "2024-07-18 10:47:12 [\u001B[34msrc.input_builder:79\u001B[0m] [\u001B[32mINFO\u001B[0m] >>>> Input prompt created successfully.\u001B[0m\n",
      "2024-07-18 10:47:12 [\u001B[34msrc.finetuning:33\u001B[0m] [\u001B[32mINFO\u001B[0m] >>>> Combining input and expected output into json finetuning data format...\u001B[0m\n",
      "2024-07-18 10:47:12 [\u001B[34msrc.finetuning:50\u001B[0m] [\u001B[32mINFO\u001B[0m] >>>> Finetuning conversation created successfully.\u001B[0m\n",
      "2024-07-18 10:47:12 [\u001B[34msrc.input_builder:30\u001B[0m] [\u001B[32mINFO\u001B[0m] >>>> Loading context...\u001B[0m\n",
      "2024-07-18 10:47:12 [\u001B[34msrc.input_builder:46\u001B[0m] [\u001B[32mINFO\u001B[0m] >>>> Context loaded successfully.\u001B[0m\n",
      "2024-07-18 10:47:12 [\u001B[34msrc.input_builder:48\u001B[0m] [\u001B[32mINFO\u001B[0m] >>>> Creating input prompt...\u001B[0m\n",
      "2024-07-18 10:47:12 [\u001B[34msrc.input_builder:79\u001B[0m] [\u001B[32mINFO\u001B[0m] >>>> Input prompt created successfully.\u001B[0m\n",
      "2024-07-18 10:47:12 [\u001B[34msrc.finetuning:33\u001B[0m] [\u001B[32mINFO\u001B[0m] >>>> Combining input and expected output into json finetuning data format...\u001B[0m\n",
      "2024-07-18 10:47:12 [\u001B[34msrc.finetuning:50\u001B[0m] [\u001B[32mINFO\u001B[0m] >>>> Finetuning conversation created successfully.\u001B[0m\n",
      "2024-07-18 10:47:12 [\u001B[34msrc.input_builder:30\u001B[0m] [\u001B[32mINFO\u001B[0m] >>>> Loading context...\u001B[0m\n",
      "2024-07-18 10:47:12 [\u001B[34msrc.input_builder:46\u001B[0m] [\u001B[32mINFO\u001B[0m] >>>> Context loaded successfully.\u001B[0m\n",
      "2024-07-18 10:47:12 [\u001B[34msrc.input_builder:48\u001B[0m] [\u001B[32mINFO\u001B[0m] >>>> Creating input prompt...\u001B[0m\n",
      "2024-07-18 10:47:12 [\u001B[34msrc.input_builder:79\u001B[0m] [\u001B[32mINFO\u001B[0m] >>>> Input prompt created successfully.\u001B[0m\n",
      "2024-07-18 10:47:12 [\u001B[34msrc.finetuning:33\u001B[0m] [\u001B[32mINFO\u001B[0m] >>>> Combining input and expected output into json finetuning data format...\u001B[0m\n",
      "2024-07-18 10:47:12 [\u001B[34msrc.finetuning:50\u001B[0m] [\u001B[32mINFO\u001B[0m] >>>> Finetuning conversation created successfully.\u001B[0m\n",
      "2024-07-18 10:47:12 [\u001B[34msrc.input_builder:30\u001B[0m] [\u001B[32mINFO\u001B[0m] >>>> Loading context...\u001B[0m\n",
      "2024-07-18 10:47:12 [\u001B[34msrc.input_builder:46\u001B[0m] [\u001B[32mINFO\u001B[0m] >>>> Context loaded successfully.\u001B[0m\n",
      "2024-07-18 10:47:12 [\u001B[34msrc.input_builder:48\u001B[0m] [\u001B[32mINFO\u001B[0m] >>>> Creating input prompt...\u001B[0m\n",
      "2024-07-18 10:47:12 [\u001B[34msrc.input_builder:79\u001B[0m] [\u001B[32mINFO\u001B[0m] >>>> Input prompt created successfully.\u001B[0m\n",
      "2024-07-18 10:47:12 [\u001B[34msrc.finetuning:33\u001B[0m] [\u001B[32mINFO\u001B[0m] >>>> Combining input and expected output into json finetuning data format...\u001B[0m\n",
      "2024-07-18 10:47:12 [\u001B[34msrc.finetuning:50\u001B[0m] [\u001B[32mINFO\u001B[0m] >>>> Finetuning conversation created successfully.\u001B[0m\n",
      "2024-07-18 10:47:12 [\u001B[34msrc.input_builder:30\u001B[0m] [\u001B[32mINFO\u001B[0m] >>>> Loading context...\u001B[0m\n",
      "2024-07-18 10:47:12 [\u001B[34msrc.input_builder:46\u001B[0m] [\u001B[32mINFO\u001B[0m] >>>> Context loaded successfully.\u001B[0m\n",
      "2024-07-18 10:47:12 [\u001B[34msrc.input_builder:48\u001B[0m] [\u001B[32mINFO\u001B[0m] >>>> Creating input prompt...\u001B[0m\n",
      "2024-07-18 10:47:12 [\u001B[34msrc.input_builder:79\u001B[0m] [\u001B[32mINFO\u001B[0m] >>>> Input prompt created successfully.\u001B[0m\n",
      "2024-07-18 10:47:12 [\u001B[34msrc.finetuning:33\u001B[0m] [\u001B[32mINFO\u001B[0m] >>>> Combining input and expected output into json finetuning data format...\u001B[0m\n",
      "2024-07-18 10:47:12 [\u001B[34msrc.finetuning:50\u001B[0m] [\u001B[32mINFO\u001B[0m] >>>> Finetuning conversation created successfully.\u001B[0m\n",
      "2024-07-18 10:47:12 [\u001B[34msrc.input_builder:30\u001B[0m] [\u001B[32mINFO\u001B[0m] >>>> Loading context...\u001B[0m\n",
      "2024-07-18 10:47:12 [\u001B[34msrc.input_builder:46\u001B[0m] [\u001B[32mINFO\u001B[0m] >>>> Context loaded successfully.\u001B[0m\n",
      "2024-07-18 10:47:12 [\u001B[34msrc.input_builder:48\u001B[0m] [\u001B[32mINFO\u001B[0m] >>>> Creating input prompt...\u001B[0m\n",
      "2024-07-18 10:47:12 [\u001B[34msrc.input_builder:79\u001B[0m] [\u001B[32mINFO\u001B[0m] >>>> Input prompt created successfully.\u001B[0m\n",
      "2024-07-18 10:47:12 [\u001B[34msrc.finetuning:33\u001B[0m] [\u001B[32mINFO\u001B[0m] >>>> Combining input and expected output into json finetuning data format...\u001B[0m\n",
      "2024-07-18 10:47:12 [\u001B[34msrc.finetuning:50\u001B[0m] [\u001B[32mINFO\u001B[0m] >>>> Finetuning conversation created successfully.\u001B[0m\n",
      "2024-07-18 10:47:12 [\u001B[34msrc.input_builder:30\u001B[0m] [\u001B[32mINFO\u001B[0m] >>>> Loading context...\u001B[0m\n",
      "2024-07-18 10:47:12 [\u001B[34msrc.input_builder:46\u001B[0m] [\u001B[32mINFO\u001B[0m] >>>> Context loaded successfully.\u001B[0m\n",
      "2024-07-18 10:47:12 [\u001B[34msrc.input_builder:48\u001B[0m] [\u001B[32mINFO\u001B[0m] >>>> Creating input prompt...\u001B[0m\n",
      "2024-07-18 10:47:12 [\u001B[34msrc.input_builder:79\u001B[0m] [\u001B[32mINFO\u001B[0m] >>>> Input prompt created successfully.\u001B[0m\n",
      "2024-07-18 10:47:12 [\u001B[34msrc.finetuning:33\u001B[0m] [\u001B[32mINFO\u001B[0m] >>>> Combining input and expected output into json finetuning data format...\u001B[0m\n",
      "2024-07-18 10:47:12 [\u001B[34msrc.finetuning:50\u001B[0m] [\u001B[32mINFO\u001B[0m] >>>> Finetuning conversation created successfully.\u001B[0m\n",
      "2024-07-18 10:47:12 [\u001B[34msrc.input_builder:30\u001B[0m] [\u001B[32mINFO\u001B[0m] >>>> Loading context...\u001B[0m\n",
      "2024-07-18 10:47:13 [\u001B[34msrc.input_builder:46\u001B[0m] [\u001B[32mINFO\u001B[0m] >>>> Context loaded successfully.\u001B[0m\n",
      "2024-07-18 10:47:13 [\u001B[34msrc.input_builder:48\u001B[0m] [\u001B[32mINFO\u001B[0m] >>>> Creating input prompt...\u001B[0m\n",
      "2024-07-18 10:47:13 [\u001B[34msrc.input_builder:79\u001B[0m] [\u001B[32mINFO\u001B[0m] >>>> Input prompt created successfully.\u001B[0m\n",
      "2024-07-18 10:47:13 [\u001B[34msrc.finetuning:33\u001B[0m] [\u001B[32mINFO\u001B[0m] >>>> Combining input and expected output into json finetuning data format...\u001B[0m\n",
      "2024-07-18 10:47:13 [\u001B[34msrc.finetuning:50\u001B[0m] [\u001B[32mINFO\u001B[0m] >>>> Finetuning conversation created successfully.\u001B[0m\n",
      "2024-07-18 10:47:13 [\u001B[34msrc.data.database:61\u001B[0m] [\u001B[33mWARNING\u001B[0m] >>>> Insufficient data for ID 0.1. Expected 2 rows but got 1.\u001B[0m\n",
      "2024-07-18 10:47:13 [\u001B[34msrc.input_builder:30\u001B[0m] [\u001B[32mINFO\u001B[0m] >>>> Loading context...\u001B[0m\n",
      "2024-07-18 10:47:13 [\u001B[34msrc.input_builder:46\u001B[0m] [\u001B[32mINFO\u001B[0m] >>>> Context loaded successfully.\u001B[0m\n",
      "2024-07-18 10:47:13 [\u001B[34msrc.input_builder:48\u001B[0m] [\u001B[32mINFO\u001B[0m] >>>> Creating input prompt...\u001B[0m\n",
      "2024-07-18 10:47:13 [\u001B[34msrc.input_builder:79\u001B[0m] [\u001B[32mINFO\u001B[0m] >>>> Input prompt created successfully.\u001B[0m\n",
      "2024-07-18 10:47:13 [\u001B[34msrc.finetuning:33\u001B[0m] [\u001B[32mINFO\u001B[0m] >>>> Combining input and expected output into json finetuning data format...\u001B[0m\n",
      "2024-07-18 10:47:13 [\u001B[34msrc.finetuning:50\u001B[0m] [\u001B[32mINFO\u001B[0m] >>>> Finetuning conversation created successfully.\u001B[0m\n",
      "2024-07-18 10:47:13 [\u001B[34msrc.input_builder:30\u001B[0m] [\u001B[32mINFO\u001B[0m] >>>> Loading context...\u001B[0m\n",
      "2024-07-18 10:47:13 [\u001B[34msrc.input_builder:46\u001B[0m] [\u001B[32mINFO\u001B[0m] >>>> Context loaded successfully.\u001B[0m\n",
      "2024-07-18 10:47:13 [\u001B[34msrc.input_builder:48\u001B[0m] [\u001B[32mINFO\u001B[0m] >>>> Creating input prompt...\u001B[0m\n",
      "2024-07-18 10:47:13 [\u001B[34msrc.input_builder:79\u001B[0m] [\u001B[32mINFO\u001B[0m] >>>> Input prompt created successfully.\u001B[0m\n",
      "2024-07-18 10:47:13 [\u001B[34msrc.finetuning:33\u001B[0m] [\u001B[32mINFO\u001B[0m] >>>> Combining input and expected output into json finetuning data format...\u001B[0m\n",
      "2024-07-18 10:47:13 [\u001B[34msrc.finetuning:50\u001B[0m] [\u001B[32mINFO\u001B[0m] >>>> Finetuning conversation created successfully.\u001B[0m\n",
      "2024-07-18 10:47:13 [\u001B[34msrc.input_builder:30\u001B[0m] [\u001B[32mINFO\u001B[0m] >>>> Loading context...\u001B[0m\n",
      "2024-07-18 10:47:13 [\u001B[34msrc.input_builder:46\u001B[0m] [\u001B[32mINFO\u001B[0m] >>>> Context loaded successfully.\u001B[0m\n",
      "2024-07-18 10:47:13 [\u001B[34msrc.input_builder:48\u001B[0m] [\u001B[32mINFO\u001B[0m] >>>> Creating input prompt...\u001B[0m\n",
      "2024-07-18 10:47:13 [\u001B[34msrc.input_builder:79\u001B[0m] [\u001B[32mINFO\u001B[0m] >>>> Input prompt created successfully.\u001B[0m\n",
      "2024-07-18 10:47:13 [\u001B[34msrc.finetuning:33\u001B[0m] [\u001B[32mINFO\u001B[0m] >>>> Combining input and expected output into json finetuning data format...\u001B[0m\n",
      "2024-07-18 10:47:13 [\u001B[34msrc.finetuning:50\u001B[0m] [\u001B[32mINFO\u001B[0m] >>>> Finetuning conversation created successfully.\u001B[0m\n",
      "2024-07-18 10:47:13 [\u001B[34msrc.input_builder:30\u001B[0m] [\u001B[32mINFO\u001B[0m] >>>> Loading context...\u001B[0m\n",
      "2024-07-18 10:47:13 [\u001B[34msrc.input_builder:46\u001B[0m] [\u001B[32mINFO\u001B[0m] >>>> Context loaded successfully.\u001B[0m\n",
      "2024-07-18 10:47:13 [\u001B[34msrc.input_builder:48\u001B[0m] [\u001B[32mINFO\u001B[0m] >>>> Creating input prompt...\u001B[0m\n",
      "2024-07-18 10:47:13 [\u001B[34msrc.input_builder:79\u001B[0m] [\u001B[32mINFO\u001B[0m] >>>> Input prompt created successfully.\u001B[0m\n",
      "2024-07-18 10:47:13 [\u001B[34msrc.finetuning:33\u001B[0m] [\u001B[32mINFO\u001B[0m] >>>> Combining input and expected output into json finetuning data format...\u001B[0m\n",
      "2024-07-18 10:47:13 [\u001B[34msrc.finetuning:50\u001B[0m] [\u001B[32mINFO\u001B[0m] >>>> Finetuning conversation created successfully.\u001B[0m\n",
      "2024-07-18 10:47:13 [\u001B[34msrc.input_builder:30\u001B[0m] [\u001B[32mINFO\u001B[0m] >>>> Loading context...\u001B[0m\n",
      "2024-07-18 10:47:13 [\u001B[34msrc.input_builder:46\u001B[0m] [\u001B[32mINFO\u001B[0m] >>>> Context loaded successfully.\u001B[0m\n",
      "2024-07-18 10:47:13 [\u001B[34msrc.input_builder:48\u001B[0m] [\u001B[32mINFO\u001B[0m] >>>> Creating input prompt...\u001B[0m\n",
      "2024-07-18 10:47:13 [\u001B[34msrc.input_builder:79\u001B[0m] [\u001B[32mINFO\u001B[0m] >>>> Input prompt created successfully.\u001B[0m\n",
      "2024-07-18 10:47:13 [\u001B[34msrc.finetuning:33\u001B[0m] [\u001B[32mINFO\u001B[0m] >>>> Combining input and expected output into json finetuning data format...\u001B[0m\n",
      "2024-07-18 10:47:13 [\u001B[34msrc.finetuning:50\u001B[0m] [\u001B[32mINFO\u001B[0m] >>>> Finetuning conversation created successfully.\u001B[0m\n",
      "2024-07-18 10:47:13 [\u001B[34msrc.input_builder:30\u001B[0m] [\u001B[32mINFO\u001B[0m] >>>> Loading context...\u001B[0m\n",
      "2024-07-18 10:47:14 [\u001B[34msrc.input_builder:46\u001B[0m] [\u001B[32mINFO\u001B[0m] >>>> Context loaded successfully.\u001B[0m\n",
      "2024-07-18 10:47:14 [\u001B[34msrc.input_builder:48\u001B[0m] [\u001B[32mINFO\u001B[0m] >>>> Creating input prompt...\u001B[0m\n",
      "2024-07-18 10:47:14 [\u001B[34msrc.input_builder:79\u001B[0m] [\u001B[32mINFO\u001B[0m] >>>> Input prompt created successfully.\u001B[0m\n",
      "2024-07-18 10:47:14 [\u001B[34msrc.finetuning:33\u001B[0m] [\u001B[32mINFO\u001B[0m] >>>> Combining input and expected output into json finetuning data format...\u001B[0m\n",
      "2024-07-18 10:47:14 [\u001B[34msrc.finetuning:50\u001B[0m] [\u001B[32mINFO\u001B[0m] >>>> Finetuning conversation created successfully.\u001B[0m\n",
      "2024-07-18 10:47:14 [\u001B[34msrc.input_builder:30\u001B[0m] [\u001B[32mINFO\u001B[0m] >>>> Loading context...\u001B[0m\n",
      "2024-07-18 10:47:14 [\u001B[34msrc.input_builder:46\u001B[0m] [\u001B[32mINFO\u001B[0m] >>>> Context loaded successfully.\u001B[0m\n",
      "2024-07-18 10:47:14 [\u001B[34msrc.input_builder:48\u001B[0m] [\u001B[32mINFO\u001B[0m] >>>> Creating input prompt...\u001B[0m\n",
      "2024-07-18 10:47:14 [\u001B[34msrc.input_builder:79\u001B[0m] [\u001B[32mINFO\u001B[0m] >>>> Input prompt created successfully.\u001B[0m\n",
      "2024-07-18 10:47:14 [\u001B[34msrc.finetuning:33\u001B[0m] [\u001B[32mINFO\u001B[0m] >>>> Combining input and expected output into json finetuning data format...\u001B[0m\n",
      "2024-07-18 10:47:14 [\u001B[34msrc.finetuning:50\u001B[0m] [\u001B[32mINFO\u001B[0m] >>>> Finetuning conversation created successfully.\u001B[0m\n",
      "2024-07-18 10:47:14 [\u001B[34msrc.input_builder:30\u001B[0m] [\u001B[32mINFO\u001B[0m] >>>> Loading context...\u001B[0m\n",
      "2024-07-18 10:47:14 [\u001B[34msrc.input_builder:46\u001B[0m] [\u001B[32mINFO\u001B[0m] >>>> Context loaded successfully.\u001B[0m\n",
      "2024-07-18 10:47:14 [\u001B[34msrc.input_builder:48\u001B[0m] [\u001B[32mINFO\u001B[0m] >>>> Creating input prompt...\u001B[0m\n",
      "2024-07-18 10:47:14 [\u001B[34msrc.input_builder:79\u001B[0m] [\u001B[32mINFO\u001B[0m] >>>> Input prompt created successfully.\u001B[0m\n",
      "2024-07-18 10:47:14 [\u001B[34msrc.finetuning:33\u001B[0m] [\u001B[32mINFO\u001B[0m] >>>> Combining input and expected output into json finetuning data format...\u001B[0m\n",
      "2024-07-18 10:47:14 [\u001B[34msrc.finetuning:50\u001B[0m] [\u001B[32mINFO\u001B[0m] >>>> Finetuning conversation created successfully.\u001B[0m\n",
      "2024-07-18 10:47:14 [\u001B[34msrc.input_builder:30\u001B[0m] [\u001B[32mINFO\u001B[0m] >>>> Loading context...\u001B[0m\n",
      "2024-07-18 10:47:14 [\u001B[34msrc.input_builder:46\u001B[0m] [\u001B[32mINFO\u001B[0m] >>>> Context loaded successfully.\u001B[0m\n",
      "2024-07-18 10:47:14 [\u001B[34msrc.input_builder:48\u001B[0m] [\u001B[32mINFO\u001B[0m] >>>> Creating input prompt...\u001B[0m\n",
      "2024-07-18 10:47:14 [\u001B[34msrc.input_builder:79\u001B[0m] [\u001B[32mINFO\u001B[0m] >>>> Input prompt created successfully.\u001B[0m\n",
      "2024-07-18 10:47:14 [\u001B[34msrc.finetuning:33\u001B[0m] [\u001B[32mINFO\u001B[0m] >>>> Combining input and expected output into json finetuning data format...\u001B[0m\n",
      "2024-07-18 10:47:14 [\u001B[34msrc.finetuning:50\u001B[0m] [\u001B[32mINFO\u001B[0m] >>>> Finetuning conversation created successfully.\u001B[0m\n",
      "2024-07-18 10:47:14 [\u001B[34msrc.input_builder:30\u001B[0m] [\u001B[32mINFO\u001B[0m] >>>> Loading context...\u001B[0m\n",
      "2024-07-18 10:47:14 [\u001B[34msrc.input_builder:46\u001B[0m] [\u001B[32mINFO\u001B[0m] >>>> Context loaded successfully.\u001B[0m\n",
      "2024-07-18 10:47:14 [\u001B[34msrc.input_builder:48\u001B[0m] [\u001B[32mINFO\u001B[0m] >>>> Creating input prompt...\u001B[0m\n",
      "2024-07-18 10:47:14 [\u001B[34msrc.input_builder:79\u001B[0m] [\u001B[32mINFO\u001B[0m] >>>> Input prompt created successfully.\u001B[0m\n",
      "2024-07-18 10:47:14 [\u001B[34msrc.finetuning:33\u001B[0m] [\u001B[32mINFO\u001B[0m] >>>> Combining input and expected output into json finetuning data format...\u001B[0m\n",
      "2024-07-18 10:47:14 [\u001B[34msrc.finetuning:50\u001B[0m] [\u001B[32mINFO\u001B[0m] >>>> Finetuning conversation created successfully.\u001B[0m\n",
      "2024-07-18 10:47:14 [\u001B[34msrc.input_builder:30\u001B[0m] [\u001B[32mINFO\u001B[0m] >>>> Loading context...\u001B[0m\n",
      "2024-07-18 10:47:14 [\u001B[34msrc.input_builder:46\u001B[0m] [\u001B[32mINFO\u001B[0m] >>>> Context loaded successfully.\u001B[0m\n",
      "2024-07-18 10:47:14 [\u001B[34msrc.input_builder:48\u001B[0m] [\u001B[32mINFO\u001B[0m] >>>> Creating input prompt...\u001B[0m\n",
      "2024-07-18 10:47:14 [\u001B[34msrc.input_builder:79\u001B[0m] [\u001B[32mINFO\u001B[0m] >>>> Input prompt created successfully.\u001B[0m\n",
      "2024-07-18 10:47:14 [\u001B[34msrc.finetuning:33\u001B[0m] [\u001B[32mINFO\u001B[0m] >>>> Combining input and expected output into json finetuning data format...\u001B[0m\n",
      "2024-07-18 10:47:14 [\u001B[34msrc.finetuning:50\u001B[0m] [\u001B[32mINFO\u001B[0m] >>>> Finetuning conversation created successfully.\u001B[0m\n",
      "2024-07-18 10:47:14 [\u001B[34msrc.input_builder:30\u001B[0m] [\u001B[32mINFO\u001B[0m] >>>> Loading context...\u001B[0m\n",
      "2024-07-18 10:47:15 [\u001B[34msrc.input_builder:46\u001B[0m] [\u001B[32mINFO\u001B[0m] >>>> Context loaded successfully.\u001B[0m\n",
      "2024-07-18 10:47:15 [\u001B[34msrc.input_builder:48\u001B[0m] [\u001B[32mINFO\u001B[0m] >>>> Creating input prompt...\u001B[0m\n",
      "2024-07-18 10:47:15 [\u001B[34msrc.input_builder:79\u001B[0m] [\u001B[32mINFO\u001B[0m] >>>> Input prompt created successfully.\u001B[0m\n",
      "2024-07-18 10:47:15 [\u001B[34msrc.finetuning:33\u001B[0m] [\u001B[32mINFO\u001B[0m] >>>> Combining input and expected output into json finetuning data format...\u001B[0m\n",
      "2024-07-18 10:47:15 [\u001B[34msrc.finetuning:50\u001B[0m] [\u001B[32mINFO\u001B[0m] >>>> Finetuning conversation created successfully.\u001B[0m\n",
      "2024-07-18 10:47:15 [\u001B[34msrc.input_builder:30\u001B[0m] [\u001B[32mINFO\u001B[0m] >>>> Loading context...\u001B[0m\n",
      "2024-07-18 10:47:15 [\u001B[34msrc.input_builder:46\u001B[0m] [\u001B[32mINFO\u001B[0m] >>>> Context loaded successfully.\u001B[0m\n",
      "2024-07-18 10:47:15 [\u001B[34msrc.input_builder:48\u001B[0m] [\u001B[32mINFO\u001B[0m] >>>> Creating input prompt...\u001B[0m\n",
      "2024-07-18 10:47:15 [\u001B[34msrc.input_builder:79\u001B[0m] [\u001B[32mINFO\u001B[0m] >>>> Input prompt created successfully.\u001B[0m\n",
      "2024-07-18 10:47:15 [\u001B[34msrc.finetuning:33\u001B[0m] [\u001B[32mINFO\u001B[0m] >>>> Combining input and expected output into json finetuning data format...\u001B[0m\n",
      "2024-07-18 10:47:15 [\u001B[34msrc.finetuning:50\u001B[0m] [\u001B[32mINFO\u001B[0m] >>>> Finetuning conversation created successfully.\u001B[0m\n",
      "2024-07-18 10:47:15 [\u001B[34msrc.input_builder:30\u001B[0m] [\u001B[32mINFO\u001B[0m] >>>> Loading context...\u001B[0m\n",
      "2024-07-18 10:47:16 [\u001B[34msrc.input_builder:46\u001B[0m] [\u001B[32mINFO\u001B[0m] >>>> Context loaded successfully.\u001B[0m\n",
      "2024-07-18 10:47:16 [\u001B[34msrc.input_builder:48\u001B[0m] [\u001B[32mINFO\u001B[0m] >>>> Creating input prompt...\u001B[0m\n",
      "2024-07-18 10:47:16 [\u001B[34msrc.input_builder:79\u001B[0m] [\u001B[32mINFO\u001B[0m] >>>> Input prompt created successfully.\u001B[0m\n",
      "2024-07-18 10:47:16 [\u001B[34msrc.finetuning:33\u001B[0m] [\u001B[32mINFO\u001B[0m] >>>> Combining input and expected output into json finetuning data format...\u001B[0m\n",
      "2024-07-18 10:47:16 [\u001B[34msrc.finetuning:50\u001B[0m] [\u001B[32mINFO\u001B[0m] >>>> Finetuning conversation created successfully.\u001B[0m\n",
      "2024-07-18 10:47:16 [\u001B[34msrc.input_builder:30\u001B[0m] [\u001B[32mINFO\u001B[0m] >>>> Loading context...\u001B[0m\n",
      "2024-07-18 10:47:16 [\u001B[34msrc.input_builder:46\u001B[0m] [\u001B[32mINFO\u001B[0m] >>>> Context loaded successfully.\u001B[0m\n",
      "2024-07-18 10:47:16 [\u001B[34msrc.input_builder:48\u001B[0m] [\u001B[32mINFO\u001B[0m] >>>> Creating input prompt...\u001B[0m\n",
      "2024-07-18 10:47:16 [\u001B[34msrc.input_builder:79\u001B[0m] [\u001B[32mINFO\u001B[0m] >>>> Input prompt created successfully.\u001B[0m\n",
      "2024-07-18 10:47:16 [\u001B[34msrc.finetuning:33\u001B[0m] [\u001B[32mINFO\u001B[0m] >>>> Combining input and expected output into json finetuning data format...\u001B[0m\n",
      "2024-07-18 10:47:16 [\u001B[34msrc.finetuning:50\u001B[0m] [\u001B[32mINFO\u001B[0m] >>>> Finetuning conversation created successfully.\u001B[0m\n",
      "2024-07-18 10:47:16 [\u001B[34msrc.input_builder:30\u001B[0m] [\u001B[32mINFO\u001B[0m] >>>> Loading context...\u001B[0m\n",
      "2024-07-18 10:47:16 [\u001B[34msrc.input_builder:46\u001B[0m] [\u001B[32mINFO\u001B[0m] >>>> Context loaded successfully.\u001B[0m\n",
      "2024-07-18 10:47:16 [\u001B[34msrc.input_builder:48\u001B[0m] [\u001B[32mINFO\u001B[0m] >>>> Creating input prompt...\u001B[0m\n",
      "2024-07-18 10:47:16 [\u001B[34msrc.input_builder:79\u001B[0m] [\u001B[32mINFO\u001B[0m] >>>> Input prompt created successfully.\u001B[0m\n",
      "2024-07-18 10:47:16 [\u001B[34msrc.finetuning:33\u001B[0m] [\u001B[32mINFO\u001B[0m] >>>> Combining input and expected output into json finetuning data format...\u001B[0m\n",
      "2024-07-18 10:47:16 [\u001B[34msrc.finetuning:50\u001B[0m] [\u001B[32mINFO\u001B[0m] >>>> Finetuning conversation created successfully.\u001B[0m\n",
      "2024-07-18 10:47:16 [\u001B[34msrc.input_builder:30\u001B[0m] [\u001B[32mINFO\u001B[0m] >>>> Loading context...\u001B[0m\n",
      "2024-07-18 10:47:17 [\u001B[34msrc.input_builder:46\u001B[0m] [\u001B[32mINFO\u001B[0m] >>>> Context loaded successfully.\u001B[0m\n",
      "2024-07-18 10:47:17 [\u001B[34msrc.input_builder:48\u001B[0m] [\u001B[32mINFO\u001B[0m] >>>> Creating input prompt...\u001B[0m\n",
      "2024-07-18 10:47:17 [\u001B[34msrc.input_builder:79\u001B[0m] [\u001B[32mINFO\u001B[0m] >>>> Input prompt created successfully.\u001B[0m\n",
      "2024-07-18 10:47:17 [\u001B[34msrc.finetuning:33\u001B[0m] [\u001B[32mINFO\u001B[0m] >>>> Combining input and expected output into json finetuning data format...\u001B[0m\n",
      "2024-07-18 10:47:17 [\u001B[34msrc.finetuning:50\u001B[0m] [\u001B[32mINFO\u001B[0m] >>>> Finetuning conversation created successfully.\u001B[0m\n",
      "2024-07-18 10:47:17 [\u001B[34msrc.input_builder:30\u001B[0m] [\u001B[32mINFO\u001B[0m] >>>> Loading context...\u001B[0m\n",
      "2024-07-18 10:47:17 [\u001B[34msrc.input_builder:46\u001B[0m] [\u001B[32mINFO\u001B[0m] >>>> Context loaded successfully.\u001B[0m\n",
      "2024-07-18 10:47:17 [\u001B[34msrc.input_builder:48\u001B[0m] [\u001B[32mINFO\u001B[0m] >>>> Creating input prompt...\u001B[0m\n",
      "2024-07-18 10:47:17 [\u001B[34msrc.input_builder:79\u001B[0m] [\u001B[32mINFO\u001B[0m] >>>> Input prompt created successfully.\u001B[0m\n",
      "2024-07-18 10:47:17 [\u001B[34msrc.finetuning:33\u001B[0m] [\u001B[32mINFO\u001B[0m] >>>> Combining input and expected output into json finetuning data format...\u001B[0m\n",
      "2024-07-18 10:47:17 [\u001B[34msrc.finetuning:50\u001B[0m] [\u001B[32mINFO\u001B[0m] >>>> Finetuning conversation created successfully.\u001B[0m\n"
     ]
    }
   ],
   "execution_count": 12
  },
  {
   "metadata": {
    "ExecuteTime": {
     "end_time": "2024-07-17T13:11:44.442497Z",
     "start_time": "2024-07-17T13:11:32.093285Z"
    }
   },
   "cell_type": "code",
   "source": "finetuning_data = create_finetuning_data_from_db(ids, db_file, config)",
   "id": "869aa1f1c4f42f4e",
   "outputs": [
    {
     "name": "stdout",
     "output_type": "stream",
     "text": [
      "2024-07-17 15:11:32 [\u001B[34msrc.utils.helpers:106\u001B[0m] [\u001B[33mWARNING\u001B[0m] >>>> Test 1 has no previous step. Cannot retrieve ID.\u001B[0m\n",
      "2024-07-17 15:11:32 [\u001B[34msrc.data.database:61\u001B[0m] [\u001B[33mWARNING\u001B[0m] >>>> Insufficient data for ID 1.1. Expected 2 rows but got 0.\u001B[0m\n",
      "2024-07-17 15:11:32 [\u001B[34msrc.input_builder:30\u001B[0m] [\u001B[32mINFO\u001B[0m] >>>> Loading context...\u001B[0m\n",
      "2024-07-17 15:11:32 [\u001B[34msrc.input_builder:46\u001B[0m] [\u001B[32mINFO\u001B[0m] >>>> Context loaded successfully.\u001B[0m\n",
      "2024-07-17 15:11:32 [\u001B[34msrc.input_builder:48\u001B[0m] [\u001B[32mINFO\u001B[0m] >>>> Creating input prompt...\u001B[0m\n",
      "2024-07-17 15:11:32 [\u001B[34msrc.input_builder:79\u001B[0m] [\u001B[32mINFO\u001B[0m] >>>> Input prompt created successfully.\u001B[0m\n",
      "2024-07-17 15:11:32 [\u001B[34msrc.finetuning:33\u001B[0m] [\u001B[32mINFO\u001B[0m] >>>> Combining input and expected output into json finetuning data format...\u001B[0m\n",
      "2024-07-17 15:11:32 [\u001B[34msrc.finetuning:50\u001B[0m] [\u001B[32mINFO\u001B[0m] >>>> Finetuning conversation created successfully.\u001B[0m\n",
      "2024-07-17 15:11:32 [\u001B[34msrc.input_builder:30\u001B[0m] [\u001B[32mINFO\u001B[0m] >>>> Loading context...\u001B[0m\n",
      "2024-07-17 15:11:32 [\u001B[34msrc.input_builder:46\u001B[0m] [\u001B[32mINFO\u001B[0m] >>>> Context loaded successfully.\u001B[0m\n",
      "2024-07-17 15:11:32 [\u001B[34msrc.input_builder:48\u001B[0m] [\u001B[32mINFO\u001B[0m] >>>> Creating input prompt...\u001B[0m\n",
      "2024-07-17 15:11:32 [\u001B[34msrc.input_builder:79\u001B[0m] [\u001B[32mINFO\u001B[0m] >>>> Input prompt created successfully.\u001B[0m\n",
      "2024-07-17 15:11:32 [\u001B[34msrc.finetuning:33\u001B[0m] [\u001B[32mINFO\u001B[0m] >>>> Combining input and expected output into json finetuning data format...\u001B[0m\n",
      "2024-07-17 15:11:32 [\u001B[34msrc.finetuning:50\u001B[0m] [\u001B[32mINFO\u001B[0m] >>>> Finetuning conversation created successfully.\u001B[0m\n",
      "2024-07-17 15:11:32 [\u001B[34msrc.input_builder:30\u001B[0m] [\u001B[32mINFO\u001B[0m] >>>> Loading context...\u001B[0m\n",
      "2024-07-17 15:11:33 [\u001B[34msrc.input_builder:46\u001B[0m] [\u001B[32mINFO\u001B[0m] >>>> Context loaded successfully.\u001B[0m\n",
      "2024-07-17 15:11:33 [\u001B[34msrc.input_builder:48\u001B[0m] [\u001B[32mINFO\u001B[0m] >>>> Creating input prompt...\u001B[0m\n",
      "2024-07-17 15:11:33 [\u001B[34msrc.input_builder:79\u001B[0m] [\u001B[32mINFO\u001B[0m] >>>> Input prompt created successfully.\u001B[0m\n",
      "2024-07-17 15:11:33 [\u001B[34msrc.finetuning:33\u001B[0m] [\u001B[32mINFO\u001B[0m] >>>> Combining input and expected output into json finetuning data format...\u001B[0m\n",
      "2024-07-17 15:11:33 [\u001B[34msrc.finetuning:50\u001B[0m] [\u001B[32mINFO\u001B[0m] >>>> Finetuning conversation created successfully.\u001B[0m\n",
      "2024-07-17 15:11:33 [\u001B[34msrc.utils.helpers:106\u001B[0m] [\u001B[33mWARNING\u001B[0m] >>>> Test 2 has no previous step. Cannot retrieve ID.\u001B[0m\n",
      "2024-07-17 15:11:33 [\u001B[34msrc.data.database:61\u001B[0m] [\u001B[33mWARNING\u001B[0m] >>>> Insufficient data for ID 2.1. Expected 2 rows but got 0.\u001B[0m\n",
      "2024-07-17 15:11:33 [\u001B[34msrc.input_builder:30\u001B[0m] [\u001B[32mINFO\u001B[0m] >>>> Loading context...\u001B[0m\n",
      "2024-07-17 15:11:33 [\u001B[34msrc.input_builder:46\u001B[0m] [\u001B[32mINFO\u001B[0m] >>>> Context loaded successfully.\u001B[0m\n",
      "2024-07-17 15:11:33 [\u001B[34msrc.input_builder:48\u001B[0m] [\u001B[32mINFO\u001B[0m] >>>> Creating input prompt...\u001B[0m\n",
      "2024-07-17 15:11:33 [\u001B[34msrc.input_builder:79\u001B[0m] [\u001B[32mINFO\u001B[0m] >>>> Input prompt created successfully.\u001B[0m\n",
      "2024-07-17 15:11:33 [\u001B[34msrc.finetuning:33\u001B[0m] [\u001B[32mINFO\u001B[0m] >>>> Combining input and expected output into json finetuning data format...\u001B[0m\n",
      "2024-07-17 15:11:33 [\u001B[34msrc.finetuning:50\u001B[0m] [\u001B[32mINFO\u001B[0m] >>>> Finetuning conversation created successfully.\u001B[0m\n",
      "2024-07-17 15:11:33 [\u001B[34msrc.utils.helpers:106\u001B[0m] [\u001B[33mWARNING\u001B[0m] >>>> Test 3 has no previous step. Cannot retrieve ID.\u001B[0m\n",
      "2024-07-17 15:11:33 [\u001B[34msrc.data.database:61\u001B[0m] [\u001B[33mWARNING\u001B[0m] >>>> Insufficient data for ID 3.1. Expected 2 rows but got 0.\u001B[0m\n",
      "2024-07-17 15:11:33 [\u001B[34msrc.input_builder:30\u001B[0m] [\u001B[32mINFO\u001B[0m] >>>> Loading context...\u001B[0m\n",
      "2024-07-17 15:11:33 [\u001B[34msrc.input_builder:46\u001B[0m] [\u001B[32mINFO\u001B[0m] >>>> Context loaded successfully.\u001B[0m\n",
      "2024-07-17 15:11:33 [\u001B[34msrc.input_builder:48\u001B[0m] [\u001B[32mINFO\u001B[0m] >>>> Creating input prompt...\u001B[0m\n",
      "2024-07-17 15:11:33 [\u001B[34msrc.input_builder:79\u001B[0m] [\u001B[32mINFO\u001B[0m] >>>> Input prompt created successfully.\u001B[0m\n",
      "2024-07-17 15:11:33 [\u001B[34msrc.finetuning:33\u001B[0m] [\u001B[32mINFO\u001B[0m] >>>> Combining input and expected output into json finetuning data format...\u001B[0m\n",
      "2024-07-17 15:11:33 [\u001B[34msrc.finetuning:50\u001B[0m] [\u001B[32mINFO\u001B[0m] >>>> Finetuning conversation created successfully.\u001B[0m\n",
      "2024-07-17 15:11:33 [\u001B[34msrc.utils.helpers:106\u001B[0m] [\u001B[33mWARNING\u001B[0m] >>>> Test 4 has no previous step. Cannot retrieve ID.\u001B[0m\n",
      "2024-07-17 15:11:33 [\u001B[34msrc.data.database:61\u001B[0m] [\u001B[33mWARNING\u001B[0m] >>>> Insufficient data for ID 4.1. Expected 2 rows but got 0.\u001B[0m\n",
      "2024-07-17 15:11:33 [\u001B[34msrc.input_builder:30\u001B[0m] [\u001B[32mINFO\u001B[0m] >>>> Loading context...\u001B[0m\n",
      "2024-07-17 15:11:33 [\u001B[34msrc.input_builder:46\u001B[0m] [\u001B[32mINFO\u001B[0m] >>>> Context loaded successfully.\u001B[0m\n",
      "2024-07-17 15:11:33 [\u001B[34msrc.input_builder:48\u001B[0m] [\u001B[32mINFO\u001B[0m] >>>> Creating input prompt...\u001B[0m\n",
      "2024-07-17 15:11:33 [\u001B[34msrc.input_builder:79\u001B[0m] [\u001B[32mINFO\u001B[0m] >>>> Input prompt created successfully.\u001B[0m\n",
      "2024-07-17 15:11:33 [\u001B[34msrc.finetuning:33\u001B[0m] [\u001B[32mINFO\u001B[0m] >>>> Combining input and expected output into json finetuning data format...\u001B[0m\n",
      "2024-07-17 15:11:33 [\u001B[34msrc.finetuning:50\u001B[0m] [\u001B[32mINFO\u001B[0m] >>>> Finetuning conversation created successfully.\u001B[0m\n",
      "2024-07-17 15:11:33 [\u001B[34msrc.input_builder:30\u001B[0m] [\u001B[32mINFO\u001B[0m] >>>> Loading context...\u001B[0m\n",
      "2024-07-17 15:11:33 [\u001B[34msrc.input_builder:46\u001B[0m] [\u001B[32mINFO\u001B[0m] >>>> Context loaded successfully.\u001B[0m\n",
      "2024-07-17 15:11:33 [\u001B[34msrc.input_builder:48\u001B[0m] [\u001B[32mINFO\u001B[0m] >>>> Creating input prompt...\u001B[0m\n",
      "2024-07-17 15:11:33 [\u001B[34msrc.input_builder:79\u001B[0m] [\u001B[32mINFO\u001B[0m] >>>> Input prompt created successfully.\u001B[0m\n",
      "2024-07-17 15:11:33 [\u001B[34msrc.finetuning:33\u001B[0m] [\u001B[32mINFO\u001B[0m] >>>> Combining input and expected output into json finetuning data format...\u001B[0m\n",
      "2024-07-17 15:11:33 [\u001B[34msrc.finetuning:50\u001B[0m] [\u001B[32mINFO\u001B[0m] >>>> Finetuning conversation created successfully.\u001B[0m\n",
      "2024-07-17 15:11:33 [\u001B[34msrc.input_builder:30\u001B[0m] [\u001B[32mINFO\u001B[0m] >>>> Loading context...\u001B[0m\n",
      "2024-07-17 15:11:33 [\u001B[34msrc.input_builder:46\u001B[0m] [\u001B[32mINFO\u001B[0m] >>>> Context loaded successfully.\u001B[0m\n",
      "2024-07-17 15:11:33 [\u001B[34msrc.input_builder:48\u001B[0m] [\u001B[32mINFO\u001B[0m] >>>> Creating input prompt...\u001B[0m\n",
      "2024-07-17 15:11:33 [\u001B[34msrc.input_builder:79\u001B[0m] [\u001B[32mINFO\u001B[0m] >>>> Input prompt created successfully.\u001B[0m\n",
      "2024-07-17 15:11:33 [\u001B[34msrc.finetuning:33\u001B[0m] [\u001B[32mINFO\u001B[0m] >>>> Combining input and expected output into json finetuning data format...\u001B[0m\n",
      "2024-07-17 15:11:33 [\u001B[34msrc.finetuning:50\u001B[0m] [\u001B[32mINFO\u001B[0m] >>>> Finetuning conversation created successfully.\u001B[0m\n",
      "2024-07-17 15:11:33 [\u001B[34msrc.input_builder:30\u001B[0m] [\u001B[32mINFO\u001B[0m] >>>> Loading context...\u001B[0m\n",
      "2024-07-17 15:11:33 [\u001B[34msrc.input_builder:46\u001B[0m] [\u001B[32mINFO\u001B[0m] >>>> Context loaded successfully.\u001B[0m\n",
      "2024-07-17 15:11:33 [\u001B[34msrc.input_builder:48\u001B[0m] [\u001B[32mINFO\u001B[0m] >>>> Creating input prompt...\u001B[0m\n",
      "2024-07-17 15:11:33 [\u001B[34msrc.input_builder:79\u001B[0m] [\u001B[32mINFO\u001B[0m] >>>> Input prompt created successfully.\u001B[0m\n",
      "2024-07-17 15:11:33 [\u001B[34msrc.finetuning:33\u001B[0m] [\u001B[32mINFO\u001B[0m] >>>> Combining input and expected output into json finetuning data format...\u001B[0m\n",
      "2024-07-17 15:11:34 [\u001B[34msrc.finetuning:50\u001B[0m] [\u001B[32mINFO\u001B[0m] >>>> Finetuning conversation created successfully.\u001B[0m\n",
      "2024-07-17 15:11:34 [\u001B[34msrc.input_builder:30\u001B[0m] [\u001B[32mINFO\u001B[0m] >>>> Loading context...\u001B[0m\n",
      "2024-07-17 15:11:34 [\u001B[34msrc.input_builder:46\u001B[0m] [\u001B[32mINFO\u001B[0m] >>>> Context loaded successfully.\u001B[0m\n",
      "2024-07-17 15:11:34 [\u001B[34msrc.input_builder:48\u001B[0m] [\u001B[32mINFO\u001B[0m] >>>> Creating input prompt...\u001B[0m\n",
      "2024-07-17 15:11:34 [\u001B[34msrc.input_builder:79\u001B[0m] [\u001B[32mINFO\u001B[0m] >>>> Input prompt created successfully.\u001B[0m\n",
      "2024-07-17 15:11:34 [\u001B[34msrc.finetuning:33\u001B[0m] [\u001B[32mINFO\u001B[0m] >>>> Combining input and expected output into json finetuning data format...\u001B[0m\n",
      "2024-07-17 15:11:34 [\u001B[34msrc.finetuning:50\u001B[0m] [\u001B[32mINFO\u001B[0m] >>>> Finetuning conversation created successfully.\u001B[0m\n",
      "2024-07-17 15:11:34 [\u001B[34msrc.input_builder:30\u001B[0m] [\u001B[32mINFO\u001B[0m] >>>> Loading context...\u001B[0m\n",
      "2024-07-17 15:11:34 [\u001B[34msrc.input_builder:46\u001B[0m] [\u001B[32mINFO\u001B[0m] >>>> Context loaded successfully.\u001B[0m\n",
      "2024-07-17 15:11:34 [\u001B[34msrc.input_builder:48\u001B[0m] [\u001B[32mINFO\u001B[0m] >>>> Creating input prompt...\u001B[0m\n",
      "2024-07-17 15:11:34 [\u001B[34msrc.input_builder:79\u001B[0m] [\u001B[32mINFO\u001B[0m] >>>> Input prompt created successfully.\u001B[0m\n",
      "2024-07-17 15:11:34 [\u001B[34msrc.finetuning:33\u001B[0m] [\u001B[32mINFO\u001B[0m] >>>> Combining input and expected output into json finetuning data format...\u001B[0m\n",
      "2024-07-17 15:11:34 [\u001B[34msrc.finetuning:50\u001B[0m] [\u001B[32mINFO\u001B[0m] >>>> Finetuning conversation created successfully.\u001B[0m\n",
      "2024-07-17 15:11:34 [\u001B[34msrc.utils.helpers:106\u001B[0m] [\u001B[33mWARNING\u001B[0m] >>>> Test 5 has no previous step. Cannot retrieve ID.\u001B[0m\n",
      "2024-07-17 15:11:34 [\u001B[34msrc.data.database:61\u001B[0m] [\u001B[33mWARNING\u001B[0m] >>>> Insufficient data for ID 5.1. Expected 2 rows but got 0.\u001B[0m\n",
      "2024-07-17 15:11:34 [\u001B[34msrc.input_builder:30\u001B[0m] [\u001B[32mINFO\u001B[0m] >>>> Loading context...\u001B[0m\n",
      "2024-07-17 15:11:34 [\u001B[34msrc.input_builder:46\u001B[0m] [\u001B[32mINFO\u001B[0m] >>>> Context loaded successfully.\u001B[0m\n",
      "2024-07-17 15:11:34 [\u001B[34msrc.input_builder:48\u001B[0m] [\u001B[32mINFO\u001B[0m] >>>> Creating input prompt...\u001B[0m\n",
      "2024-07-17 15:11:34 [\u001B[34msrc.input_builder:79\u001B[0m] [\u001B[32mINFO\u001B[0m] >>>> Input prompt created successfully.\u001B[0m\n",
      "2024-07-17 15:11:34 [\u001B[34msrc.finetuning:33\u001B[0m] [\u001B[32mINFO\u001B[0m] >>>> Combining input and expected output into json finetuning data format...\u001B[0m\n",
      "2024-07-17 15:11:34 [\u001B[34msrc.finetuning:50\u001B[0m] [\u001B[32mINFO\u001B[0m] >>>> Finetuning conversation created successfully.\u001B[0m\n",
      "2024-07-17 15:11:34 [\u001B[34msrc.input_builder:30\u001B[0m] [\u001B[32mINFO\u001B[0m] >>>> Loading context...\u001B[0m\n",
      "2024-07-17 15:11:34 [\u001B[34msrc.input_builder:46\u001B[0m] [\u001B[32mINFO\u001B[0m] >>>> Context loaded successfully.\u001B[0m\n",
      "2024-07-17 15:11:34 [\u001B[34msrc.input_builder:48\u001B[0m] [\u001B[32mINFO\u001B[0m] >>>> Creating input prompt...\u001B[0m\n",
      "2024-07-17 15:11:34 [\u001B[34msrc.input_builder:79\u001B[0m] [\u001B[32mINFO\u001B[0m] >>>> Input prompt created successfully.\u001B[0m\n",
      "2024-07-17 15:11:34 [\u001B[34msrc.finetuning:33\u001B[0m] [\u001B[32mINFO\u001B[0m] >>>> Combining input and expected output into json finetuning data format...\u001B[0m\n",
      "2024-07-17 15:11:34 [\u001B[34msrc.finetuning:50\u001B[0m] [\u001B[32mINFO\u001B[0m] >>>> Finetuning conversation created successfully.\u001B[0m\n",
      "2024-07-17 15:11:34 [\u001B[34msrc.input_builder:30\u001B[0m] [\u001B[32mINFO\u001B[0m] >>>> Loading context...\u001B[0m\n",
      "2024-07-17 15:11:34 [\u001B[34msrc.input_builder:46\u001B[0m] [\u001B[32mINFO\u001B[0m] >>>> Context loaded successfully.\u001B[0m\n",
      "2024-07-17 15:11:34 [\u001B[34msrc.input_builder:48\u001B[0m] [\u001B[32mINFO\u001B[0m] >>>> Creating input prompt...\u001B[0m\n",
      "2024-07-17 15:11:34 [\u001B[34msrc.input_builder:79\u001B[0m] [\u001B[32mINFO\u001B[0m] >>>> Input prompt created successfully.\u001B[0m\n",
      "2024-07-17 15:11:34 [\u001B[34msrc.finetuning:33\u001B[0m] [\u001B[32mINFO\u001B[0m] >>>> Combining input and expected output into json finetuning data format...\u001B[0m\n",
      "2024-07-17 15:11:34 [\u001B[34msrc.finetuning:50\u001B[0m] [\u001B[32mINFO\u001B[0m] >>>> Finetuning conversation created successfully.\u001B[0m\n",
      "2024-07-17 15:11:34 [\u001B[34msrc.input_builder:30\u001B[0m] [\u001B[32mINFO\u001B[0m] >>>> Loading context...\u001B[0m\n",
      "2024-07-17 15:11:34 [\u001B[34msrc.input_builder:46\u001B[0m] [\u001B[32mINFO\u001B[0m] >>>> Context loaded successfully.\u001B[0m\n",
      "2024-07-17 15:11:34 [\u001B[34msrc.input_builder:48\u001B[0m] [\u001B[32mINFO\u001B[0m] >>>> Creating input prompt...\u001B[0m\n",
      "2024-07-17 15:11:34 [\u001B[34msrc.input_builder:79\u001B[0m] [\u001B[32mINFO\u001B[0m] >>>> Input prompt created successfully.\u001B[0m\n",
      "2024-07-17 15:11:34 [\u001B[34msrc.finetuning:33\u001B[0m] [\u001B[32mINFO\u001B[0m] >>>> Combining input and expected output into json finetuning data format...\u001B[0m\n",
      "2024-07-17 15:11:34 [\u001B[34msrc.finetuning:50\u001B[0m] [\u001B[32mINFO\u001B[0m] >>>> Finetuning conversation created successfully.\u001B[0m\n",
      "2024-07-17 15:11:34 [\u001B[34msrc.utils.helpers:106\u001B[0m] [\u001B[33mWARNING\u001B[0m] >>>> Test 7 has no previous step. Cannot retrieve ID.\u001B[0m\n",
      "2024-07-17 15:11:34 [\u001B[34msrc.data.database:61\u001B[0m] [\u001B[33mWARNING\u001B[0m] >>>> Insufficient data for ID 7.1. Expected 2 rows but got 0.\u001B[0m\n",
      "2024-07-17 15:11:34 [\u001B[34msrc.input_builder:30\u001B[0m] [\u001B[32mINFO\u001B[0m] >>>> Loading context...\u001B[0m\n",
      "2024-07-17 15:11:34 [\u001B[34msrc.input_builder:46\u001B[0m] [\u001B[32mINFO\u001B[0m] >>>> Context loaded successfully.\u001B[0m\n",
      "2024-07-17 15:11:34 [\u001B[34msrc.input_builder:48\u001B[0m] [\u001B[32mINFO\u001B[0m] >>>> Creating input prompt...\u001B[0m\n",
      "2024-07-17 15:11:34 [\u001B[34msrc.input_builder:79\u001B[0m] [\u001B[32mINFO\u001B[0m] >>>> Input prompt created successfully.\u001B[0m\n",
      "2024-07-17 15:11:34 [\u001B[34msrc.finetuning:33\u001B[0m] [\u001B[32mINFO\u001B[0m] >>>> Combining input and expected output into json finetuning data format...\u001B[0m\n",
      "2024-07-17 15:11:34 [\u001B[34msrc.finetuning:50\u001B[0m] [\u001B[32mINFO\u001B[0m] >>>> Finetuning conversation created successfully.\u001B[0m\n",
      "2024-07-17 15:11:34 [\u001B[34msrc.input_builder:30\u001B[0m] [\u001B[32mINFO\u001B[0m] >>>> Loading context...\u001B[0m\n",
      "2024-07-17 15:11:35 [\u001B[34msrc.input_builder:46\u001B[0m] [\u001B[32mINFO\u001B[0m] >>>> Context loaded successfully.\u001B[0m\n",
      "2024-07-17 15:11:35 [\u001B[34msrc.input_builder:48\u001B[0m] [\u001B[32mINFO\u001B[0m] >>>> Creating input prompt...\u001B[0m\n",
      "2024-07-17 15:11:35 [\u001B[34msrc.input_builder:79\u001B[0m] [\u001B[32mINFO\u001B[0m] >>>> Input prompt created successfully.\u001B[0m\n",
      "2024-07-17 15:11:35 [\u001B[34msrc.finetuning:33\u001B[0m] [\u001B[32mINFO\u001B[0m] >>>> Combining input and expected output into json finetuning data format...\u001B[0m\n",
      "2024-07-17 15:11:35 [\u001B[34msrc.finetuning:50\u001B[0m] [\u001B[32mINFO\u001B[0m] >>>> Finetuning conversation created successfully.\u001B[0m\n",
      "2024-07-17 15:11:35 [\u001B[34msrc.input_builder:30\u001B[0m] [\u001B[32mINFO\u001B[0m] >>>> Loading context...\u001B[0m\n",
      "2024-07-17 15:11:35 [\u001B[34msrc.input_builder:46\u001B[0m] [\u001B[32mINFO\u001B[0m] >>>> Context loaded successfully.\u001B[0m\n",
      "2024-07-17 15:11:35 [\u001B[34msrc.input_builder:48\u001B[0m] [\u001B[32mINFO\u001B[0m] >>>> Creating input prompt...\u001B[0m\n",
      "2024-07-17 15:11:35 [\u001B[34msrc.input_builder:79\u001B[0m] [\u001B[32mINFO\u001B[0m] >>>> Input prompt created successfully.\u001B[0m\n",
      "2024-07-17 15:11:35 [\u001B[34msrc.finetuning:33\u001B[0m] [\u001B[32mINFO\u001B[0m] >>>> Combining input and expected output into json finetuning data format...\u001B[0m\n",
      "2024-07-17 15:11:35 [\u001B[34msrc.finetuning:50\u001B[0m] [\u001B[32mINFO\u001B[0m] >>>> Finetuning conversation created successfully.\u001B[0m\n",
      "2024-07-17 15:11:35 [\u001B[34msrc.utils.helpers:106\u001B[0m] [\u001B[33mWARNING\u001B[0m] >>>> Test 8 has no previous step. Cannot retrieve ID.\u001B[0m\n",
      "2024-07-17 15:11:35 [\u001B[34msrc.data.database:61\u001B[0m] [\u001B[33mWARNING\u001B[0m] >>>> Insufficient data for ID 8.1. Expected 2 rows but got 0.\u001B[0m\n",
      "2024-07-17 15:11:35 [\u001B[34msrc.input_builder:30\u001B[0m] [\u001B[32mINFO\u001B[0m] >>>> Loading context...\u001B[0m\n",
      "2024-07-17 15:11:35 [\u001B[34msrc.input_builder:46\u001B[0m] [\u001B[32mINFO\u001B[0m] >>>> Context loaded successfully.\u001B[0m\n",
      "2024-07-17 15:11:35 [\u001B[34msrc.input_builder:48\u001B[0m] [\u001B[32mINFO\u001B[0m] >>>> Creating input prompt...\u001B[0m\n",
      "2024-07-17 15:11:35 [\u001B[34msrc.input_builder:79\u001B[0m] [\u001B[32mINFO\u001B[0m] >>>> Input prompt created successfully.\u001B[0m\n",
      "2024-07-17 15:11:35 [\u001B[34msrc.finetuning:33\u001B[0m] [\u001B[32mINFO\u001B[0m] >>>> Combining input and expected output into json finetuning data format...\u001B[0m\n",
      "2024-07-17 15:11:35 [\u001B[34msrc.finetuning:50\u001B[0m] [\u001B[32mINFO\u001B[0m] >>>> Finetuning conversation created successfully.\u001B[0m\n",
      "2024-07-17 15:11:35 [\u001B[34msrc.input_builder:30\u001B[0m] [\u001B[32mINFO\u001B[0m] >>>> Loading context...\u001B[0m\n",
      "2024-07-17 15:11:35 [\u001B[34msrc.input_builder:46\u001B[0m] [\u001B[32mINFO\u001B[0m] >>>> Context loaded successfully.\u001B[0m\n",
      "2024-07-17 15:11:35 [\u001B[34msrc.input_builder:48\u001B[0m] [\u001B[32mINFO\u001B[0m] >>>> Creating input prompt...\u001B[0m\n",
      "2024-07-17 15:11:35 [\u001B[34msrc.input_builder:79\u001B[0m] [\u001B[32mINFO\u001B[0m] >>>> Input prompt created successfully.\u001B[0m\n",
      "2024-07-17 15:11:35 [\u001B[34msrc.finetuning:33\u001B[0m] [\u001B[32mINFO\u001B[0m] >>>> Combining input and expected output into json finetuning data format...\u001B[0m\n",
      "2024-07-17 15:11:35 [\u001B[34msrc.finetuning:50\u001B[0m] [\u001B[32mINFO\u001B[0m] >>>> Finetuning conversation created successfully.\u001B[0m\n",
      "2024-07-17 15:11:35 [\u001B[34msrc.input_builder:30\u001B[0m] [\u001B[32mINFO\u001B[0m] >>>> Loading context...\u001B[0m\n",
      "2024-07-17 15:11:35 [\u001B[34msrc.input_builder:46\u001B[0m] [\u001B[32mINFO\u001B[0m] >>>> Context loaded successfully.\u001B[0m\n",
      "2024-07-17 15:11:35 [\u001B[34msrc.input_builder:48\u001B[0m] [\u001B[32mINFO\u001B[0m] >>>> Creating input prompt...\u001B[0m\n",
      "2024-07-17 15:11:35 [\u001B[34msrc.input_builder:79\u001B[0m] [\u001B[32mINFO\u001B[0m] >>>> Input prompt created successfully.\u001B[0m\n",
      "2024-07-17 15:11:35 [\u001B[34msrc.finetuning:33\u001B[0m] [\u001B[32mINFO\u001B[0m] >>>> Combining input and expected output into json finetuning data format...\u001B[0m\n",
      "2024-07-17 15:11:35 [\u001B[34msrc.finetuning:50\u001B[0m] [\u001B[32mINFO\u001B[0m] >>>> Finetuning conversation created successfully.\u001B[0m\n",
      "2024-07-17 15:11:35 [\u001B[34msrc.input_builder:30\u001B[0m] [\u001B[32mINFO\u001B[0m] >>>> Loading context...\u001B[0m\n",
      "2024-07-17 15:11:35 [\u001B[34msrc.input_builder:46\u001B[0m] [\u001B[32mINFO\u001B[0m] >>>> Context loaded successfully.\u001B[0m\n",
      "2024-07-17 15:11:35 [\u001B[34msrc.input_builder:48\u001B[0m] [\u001B[32mINFO\u001B[0m] >>>> Creating input prompt...\u001B[0m\n",
      "2024-07-17 15:11:35 [\u001B[34msrc.input_builder:79\u001B[0m] [\u001B[32mINFO\u001B[0m] >>>> Input prompt created successfully.\u001B[0m\n",
      "2024-07-17 15:11:35 [\u001B[34msrc.finetuning:33\u001B[0m] [\u001B[32mINFO\u001B[0m] >>>> Combining input and expected output into json finetuning data format...\u001B[0m\n",
      "2024-07-17 15:11:35 [\u001B[34msrc.finetuning:50\u001B[0m] [\u001B[32mINFO\u001B[0m] >>>> Finetuning conversation created successfully.\u001B[0m\n",
      "2024-07-17 15:11:35 [\u001B[34msrc.input_builder:30\u001B[0m] [\u001B[32mINFO\u001B[0m] >>>> Loading context...\u001B[0m\n",
      "2024-07-17 15:11:36 [\u001B[34msrc.input_builder:46\u001B[0m] [\u001B[32mINFO\u001B[0m] >>>> Context loaded successfully.\u001B[0m\n",
      "2024-07-17 15:11:36 [\u001B[34msrc.input_builder:48\u001B[0m] [\u001B[32mINFO\u001B[0m] >>>> Creating input prompt...\u001B[0m\n",
      "2024-07-17 15:11:36 [\u001B[34msrc.input_builder:79\u001B[0m] [\u001B[32mINFO\u001B[0m] >>>> Input prompt created successfully.\u001B[0m\n",
      "2024-07-17 15:11:36 [\u001B[34msrc.finetuning:33\u001B[0m] [\u001B[32mINFO\u001B[0m] >>>> Combining input and expected output into json finetuning data format...\u001B[0m\n",
      "2024-07-17 15:11:36 [\u001B[34msrc.finetuning:50\u001B[0m] [\u001B[32mINFO\u001B[0m] >>>> Finetuning conversation created successfully.\u001B[0m\n",
      "2024-07-17 15:11:36 [\u001B[34msrc.utils.helpers:106\u001B[0m] [\u001B[33mWARNING\u001B[0m] >>>> Test 9 has no previous step. Cannot retrieve ID.\u001B[0m\n",
      "2024-07-17 15:11:36 [\u001B[34msrc.data.database:61\u001B[0m] [\u001B[33mWARNING\u001B[0m] >>>> Insufficient data for ID 9.1. Expected 2 rows but got 0.\u001B[0m\n",
      "2024-07-17 15:11:36 [\u001B[34msrc.input_builder:30\u001B[0m] [\u001B[32mINFO\u001B[0m] >>>> Loading context...\u001B[0m\n",
      "2024-07-17 15:11:36 [\u001B[34msrc.input_builder:46\u001B[0m] [\u001B[32mINFO\u001B[0m] >>>> Context loaded successfully.\u001B[0m\n",
      "2024-07-17 15:11:36 [\u001B[34msrc.input_builder:48\u001B[0m] [\u001B[32mINFO\u001B[0m] >>>> Creating input prompt...\u001B[0m\n",
      "2024-07-17 15:11:36 [\u001B[34msrc.input_builder:79\u001B[0m] [\u001B[32mINFO\u001B[0m] >>>> Input prompt created successfully.\u001B[0m\n",
      "2024-07-17 15:11:36 [\u001B[34msrc.finetuning:33\u001B[0m] [\u001B[32mINFO\u001B[0m] >>>> Combining input and expected output into json finetuning data format...\u001B[0m\n",
      "2024-07-17 15:11:36 [\u001B[34msrc.finetuning:50\u001B[0m] [\u001B[32mINFO\u001B[0m] >>>> Finetuning conversation created successfully.\u001B[0m\n",
      "2024-07-17 15:11:36 [\u001B[34msrc.input_builder:30\u001B[0m] [\u001B[32mINFO\u001B[0m] >>>> Loading context...\u001B[0m\n",
      "2024-07-17 15:11:36 [\u001B[34msrc.input_builder:46\u001B[0m] [\u001B[32mINFO\u001B[0m] >>>> Context loaded successfully.\u001B[0m\n",
      "2024-07-17 15:11:36 [\u001B[34msrc.input_builder:48\u001B[0m] [\u001B[32mINFO\u001B[0m] >>>> Creating input prompt...\u001B[0m\n",
      "2024-07-17 15:11:36 [\u001B[34msrc.input_builder:79\u001B[0m] [\u001B[32mINFO\u001B[0m] >>>> Input prompt created successfully.\u001B[0m\n",
      "2024-07-17 15:11:36 [\u001B[34msrc.finetuning:33\u001B[0m] [\u001B[32mINFO\u001B[0m] >>>> Combining input and expected output into json finetuning data format...\u001B[0m\n",
      "2024-07-17 15:11:36 [\u001B[34msrc.finetuning:50\u001B[0m] [\u001B[32mINFO\u001B[0m] >>>> Finetuning conversation created successfully.\u001B[0m\n",
      "2024-07-17 15:11:36 [\u001B[34msrc.input_builder:30\u001B[0m] [\u001B[32mINFO\u001B[0m] >>>> Loading context...\u001B[0m\n",
      "2024-07-17 15:11:36 [\u001B[34msrc.input_builder:46\u001B[0m] [\u001B[32mINFO\u001B[0m] >>>> Context loaded successfully.\u001B[0m\n",
      "2024-07-17 15:11:36 [\u001B[34msrc.input_builder:48\u001B[0m] [\u001B[32mINFO\u001B[0m] >>>> Creating input prompt...\u001B[0m\n",
      "2024-07-17 15:11:36 [\u001B[34msrc.input_builder:79\u001B[0m] [\u001B[32mINFO\u001B[0m] >>>> Input prompt created successfully.\u001B[0m\n",
      "2024-07-17 15:11:36 [\u001B[34msrc.finetuning:33\u001B[0m] [\u001B[32mINFO\u001B[0m] >>>> Combining input and expected output into json finetuning data format...\u001B[0m\n",
      "2024-07-17 15:11:36 [\u001B[34msrc.finetuning:50\u001B[0m] [\u001B[32mINFO\u001B[0m] >>>> Finetuning conversation created successfully.\u001B[0m\n",
      "2024-07-17 15:11:36 [\u001B[34msrc.input_builder:30\u001B[0m] [\u001B[32mINFO\u001B[0m] >>>> Loading context...\u001B[0m\n",
      "2024-07-17 15:11:36 [\u001B[34msrc.input_builder:46\u001B[0m] [\u001B[32mINFO\u001B[0m] >>>> Context loaded successfully.\u001B[0m\n",
      "2024-07-17 15:11:36 [\u001B[34msrc.input_builder:48\u001B[0m] [\u001B[32mINFO\u001B[0m] >>>> Creating input prompt...\u001B[0m\n",
      "2024-07-17 15:11:36 [\u001B[34msrc.input_builder:79\u001B[0m] [\u001B[32mINFO\u001B[0m] >>>> Input prompt created successfully.\u001B[0m\n",
      "2024-07-17 15:11:36 [\u001B[34msrc.finetuning:33\u001B[0m] [\u001B[32mINFO\u001B[0m] >>>> Combining input and expected output into json finetuning data format...\u001B[0m\n",
      "2024-07-17 15:11:36 [\u001B[34msrc.finetuning:50\u001B[0m] [\u001B[32mINFO\u001B[0m] >>>> Finetuning conversation created successfully.\u001B[0m\n",
      "2024-07-17 15:11:36 [\u001B[34msrc.input_builder:30\u001B[0m] [\u001B[32mINFO\u001B[0m] >>>> Loading context...\u001B[0m\n",
      "2024-07-17 15:11:36 [\u001B[34msrc.input_builder:46\u001B[0m] [\u001B[32mINFO\u001B[0m] >>>> Context loaded successfully.\u001B[0m\n",
      "2024-07-17 15:11:36 [\u001B[34msrc.input_builder:48\u001B[0m] [\u001B[32mINFO\u001B[0m] >>>> Creating input prompt...\u001B[0m\n",
      "2024-07-17 15:11:36 [\u001B[34msrc.input_builder:79\u001B[0m] [\u001B[32mINFO\u001B[0m] >>>> Input prompt created successfully.\u001B[0m\n",
      "2024-07-17 15:11:36 [\u001B[34msrc.finetuning:33\u001B[0m] [\u001B[32mINFO\u001B[0m] >>>> Combining input and expected output into json finetuning data format...\u001B[0m\n",
      "2024-07-17 15:11:36 [\u001B[34msrc.finetuning:50\u001B[0m] [\u001B[32mINFO\u001B[0m] >>>> Finetuning conversation created successfully.\u001B[0m\n",
      "2024-07-17 15:11:36 [\u001B[34msrc.utils.helpers:106\u001B[0m] [\u001B[33mWARNING\u001B[0m] >>>> Test 10 has no previous step. Cannot retrieve ID.\u001B[0m\n",
      "2024-07-17 15:11:36 [\u001B[34msrc.data.database:61\u001B[0m] [\u001B[33mWARNING\u001B[0m] >>>> Insufficient data for ID 10.1. Expected 2 rows but got 0.\u001B[0m\n",
      "2024-07-17 15:11:36 [\u001B[34msrc.input_builder:30\u001B[0m] [\u001B[32mINFO\u001B[0m] >>>> Loading context...\u001B[0m\n",
      "2024-07-17 15:11:36 [\u001B[34msrc.input_builder:46\u001B[0m] [\u001B[32mINFO\u001B[0m] >>>> Context loaded successfully.\u001B[0m\n",
      "2024-07-17 15:11:36 [\u001B[34msrc.input_builder:48\u001B[0m] [\u001B[32mINFO\u001B[0m] >>>> Creating input prompt...\u001B[0m\n",
      "2024-07-17 15:11:36 [\u001B[34msrc.input_builder:79\u001B[0m] [\u001B[32mINFO\u001B[0m] >>>> Input prompt created successfully.\u001B[0m\n",
      "2024-07-17 15:11:36 [\u001B[34msrc.finetuning:33\u001B[0m] [\u001B[32mINFO\u001B[0m] >>>> Combining input and expected output into json finetuning data format...\u001B[0m\n",
      "2024-07-17 15:11:36 [\u001B[34msrc.finetuning:50\u001B[0m] [\u001B[32mINFO\u001B[0m] >>>> Finetuning conversation created successfully.\u001B[0m\n",
      "2024-07-17 15:11:36 [\u001B[34msrc.input_builder:30\u001B[0m] [\u001B[32mINFO\u001B[0m] >>>> Loading context...\u001B[0m\n",
      "2024-07-17 15:11:37 [\u001B[34msrc.input_builder:46\u001B[0m] [\u001B[32mINFO\u001B[0m] >>>> Context loaded successfully.\u001B[0m\n",
      "2024-07-17 15:11:37 [\u001B[34msrc.input_builder:48\u001B[0m] [\u001B[32mINFO\u001B[0m] >>>> Creating input prompt...\u001B[0m\n",
      "2024-07-17 15:11:37 [\u001B[34msrc.input_builder:79\u001B[0m] [\u001B[32mINFO\u001B[0m] >>>> Input prompt created successfully.\u001B[0m\n",
      "2024-07-17 15:11:37 [\u001B[34msrc.finetuning:33\u001B[0m] [\u001B[32mINFO\u001B[0m] >>>> Combining input and expected output into json finetuning data format...\u001B[0m\n",
      "2024-07-17 15:11:37 [\u001B[34msrc.finetuning:50\u001B[0m] [\u001B[32mINFO\u001B[0m] >>>> Finetuning conversation created successfully.\u001B[0m\n",
      "2024-07-17 15:11:37 [\u001B[34msrc.input_builder:30\u001B[0m] [\u001B[32mINFO\u001B[0m] >>>> Loading context...\u001B[0m\n",
      "2024-07-17 15:11:37 [\u001B[34msrc.input_builder:46\u001B[0m] [\u001B[32mINFO\u001B[0m] >>>> Context loaded successfully.\u001B[0m\n",
      "2024-07-17 15:11:37 [\u001B[34msrc.input_builder:48\u001B[0m] [\u001B[32mINFO\u001B[0m] >>>> Creating input prompt...\u001B[0m\n",
      "2024-07-17 15:11:37 [\u001B[34msrc.input_builder:79\u001B[0m] [\u001B[32mINFO\u001B[0m] >>>> Input prompt created successfully.\u001B[0m\n",
      "2024-07-17 15:11:37 [\u001B[34msrc.finetuning:33\u001B[0m] [\u001B[32mINFO\u001B[0m] >>>> Combining input and expected output into json finetuning data format...\u001B[0m\n",
      "2024-07-17 15:11:37 [\u001B[34msrc.finetuning:50\u001B[0m] [\u001B[32mINFO\u001B[0m] >>>> Finetuning conversation created successfully.\u001B[0m\n",
      "2024-07-17 15:11:37 [\u001B[34msrc.input_builder:30\u001B[0m] [\u001B[32mINFO\u001B[0m] >>>> Loading context...\u001B[0m\n",
      "2024-07-17 15:11:37 [\u001B[34msrc.input_builder:46\u001B[0m] [\u001B[32mINFO\u001B[0m] >>>> Context loaded successfully.\u001B[0m\n",
      "2024-07-17 15:11:37 [\u001B[34msrc.input_builder:48\u001B[0m] [\u001B[32mINFO\u001B[0m] >>>> Creating input prompt...\u001B[0m\n",
      "2024-07-17 15:11:37 [\u001B[34msrc.input_builder:79\u001B[0m] [\u001B[32mINFO\u001B[0m] >>>> Input prompt created successfully.\u001B[0m\n",
      "2024-07-17 15:11:37 [\u001B[34msrc.finetuning:33\u001B[0m] [\u001B[32mINFO\u001B[0m] >>>> Combining input and expected output into json finetuning data format...\u001B[0m\n",
      "2024-07-17 15:11:37 [\u001B[34msrc.finetuning:50\u001B[0m] [\u001B[32mINFO\u001B[0m] >>>> Finetuning conversation created successfully.\u001B[0m\n",
      "2024-07-17 15:11:37 [\u001B[34msrc.input_builder:30\u001B[0m] [\u001B[32mINFO\u001B[0m] >>>> Loading context...\u001B[0m\n",
      "2024-07-17 15:11:37 [\u001B[34msrc.input_builder:46\u001B[0m] [\u001B[32mINFO\u001B[0m] >>>> Context loaded successfully.\u001B[0m\n",
      "2024-07-17 15:11:37 [\u001B[34msrc.input_builder:48\u001B[0m] [\u001B[32mINFO\u001B[0m] >>>> Creating input prompt...\u001B[0m\n",
      "2024-07-17 15:11:37 [\u001B[34msrc.input_builder:79\u001B[0m] [\u001B[32mINFO\u001B[0m] >>>> Input prompt created successfully.\u001B[0m\n",
      "2024-07-17 15:11:37 [\u001B[34msrc.finetuning:33\u001B[0m] [\u001B[32mINFO\u001B[0m] >>>> Combining input and expected output into json finetuning data format...\u001B[0m\n",
      "2024-07-17 15:11:37 [\u001B[34msrc.finetuning:50\u001B[0m] [\u001B[32mINFO\u001B[0m] >>>> Finetuning conversation created successfully.\u001B[0m\n",
      "2024-07-17 15:11:37 [\u001B[34msrc.utils.helpers:106\u001B[0m] [\u001B[33mWARNING\u001B[0m] >>>> Test 11 has no previous step. Cannot retrieve ID.\u001B[0m\n",
      "2024-07-17 15:11:37 [\u001B[34msrc.data.database:61\u001B[0m] [\u001B[33mWARNING\u001B[0m] >>>> Insufficient data for ID 11.1. Expected 2 rows but got 0.\u001B[0m\n",
      "2024-07-17 15:11:37 [\u001B[34msrc.input_builder:30\u001B[0m] [\u001B[32mINFO\u001B[0m] >>>> Loading context...\u001B[0m\n",
      "2024-07-17 15:11:37 [\u001B[34msrc.input_builder:46\u001B[0m] [\u001B[32mINFO\u001B[0m] >>>> Context loaded successfully.\u001B[0m\n",
      "2024-07-17 15:11:37 [\u001B[34msrc.input_builder:48\u001B[0m] [\u001B[32mINFO\u001B[0m] >>>> Creating input prompt...\u001B[0m\n",
      "2024-07-17 15:11:37 [\u001B[34msrc.input_builder:79\u001B[0m] [\u001B[32mINFO\u001B[0m] >>>> Input prompt created successfully.\u001B[0m\n",
      "2024-07-17 15:11:37 [\u001B[34msrc.finetuning:33\u001B[0m] [\u001B[32mINFO\u001B[0m] >>>> Combining input and expected output into json finetuning data format...\u001B[0m\n",
      "2024-07-17 15:11:37 [\u001B[34msrc.finetuning:50\u001B[0m] [\u001B[32mINFO\u001B[0m] >>>> Finetuning conversation created successfully.\u001B[0m\n",
      "2024-07-17 15:11:37 [\u001B[34msrc.input_builder:30\u001B[0m] [\u001B[32mINFO\u001B[0m] >>>> Loading context...\u001B[0m\n",
      "2024-07-17 15:11:37 [\u001B[34msrc.input_builder:46\u001B[0m] [\u001B[32mINFO\u001B[0m] >>>> Context loaded successfully.\u001B[0m\n",
      "2024-07-17 15:11:37 [\u001B[34msrc.input_builder:48\u001B[0m] [\u001B[32mINFO\u001B[0m] >>>> Creating input prompt...\u001B[0m\n",
      "2024-07-17 15:11:37 [\u001B[34msrc.input_builder:79\u001B[0m] [\u001B[32mINFO\u001B[0m] >>>> Input prompt created successfully.\u001B[0m\n",
      "2024-07-17 15:11:37 [\u001B[34msrc.finetuning:33\u001B[0m] [\u001B[32mINFO\u001B[0m] >>>> Combining input and expected output into json finetuning data format...\u001B[0m\n",
      "2024-07-17 15:11:37 [\u001B[34msrc.finetuning:50\u001B[0m] [\u001B[32mINFO\u001B[0m] >>>> Finetuning conversation created successfully.\u001B[0m\n",
      "2024-07-17 15:11:37 [\u001B[34msrc.input_builder:30\u001B[0m] [\u001B[32mINFO\u001B[0m] >>>> Loading context...\u001B[0m\n",
      "2024-07-17 15:11:37 [\u001B[34msrc.input_builder:46\u001B[0m] [\u001B[32mINFO\u001B[0m] >>>> Context loaded successfully.\u001B[0m\n",
      "2024-07-17 15:11:37 [\u001B[34msrc.input_builder:48\u001B[0m] [\u001B[32mINFO\u001B[0m] >>>> Creating input prompt...\u001B[0m\n",
      "2024-07-17 15:11:37 [\u001B[34msrc.input_builder:79\u001B[0m] [\u001B[32mINFO\u001B[0m] >>>> Input prompt created successfully.\u001B[0m\n",
      "2024-07-17 15:11:37 [\u001B[34msrc.finetuning:33\u001B[0m] [\u001B[32mINFO\u001B[0m] >>>> Combining input and expected output into json finetuning data format...\u001B[0m\n",
      "2024-07-17 15:11:37 [\u001B[34msrc.finetuning:50\u001B[0m] [\u001B[32mINFO\u001B[0m] >>>> Finetuning conversation created successfully.\u001B[0m\n",
      "2024-07-17 15:11:37 [\u001B[34msrc.utils.helpers:106\u001B[0m] [\u001B[33mWARNING\u001B[0m] >>>> Test 13 has no previous step. Cannot retrieve ID.\u001B[0m\n",
      "2024-07-17 15:11:37 [\u001B[34msrc.data.database:61\u001B[0m] [\u001B[33mWARNING\u001B[0m] >>>> Insufficient data for ID 13.1. Expected 2 rows but got 0.\u001B[0m\n",
      "2024-07-17 15:11:37 [\u001B[34msrc.input_builder:30\u001B[0m] [\u001B[32mINFO\u001B[0m] >>>> Loading context...\u001B[0m\n",
      "2024-07-17 15:11:37 [\u001B[34msrc.input_builder:46\u001B[0m] [\u001B[32mINFO\u001B[0m] >>>> Context loaded successfully.\u001B[0m\n",
      "2024-07-17 15:11:37 [\u001B[34msrc.input_builder:48\u001B[0m] [\u001B[32mINFO\u001B[0m] >>>> Creating input prompt...\u001B[0m\n",
      "2024-07-17 15:11:37 [\u001B[34msrc.input_builder:79\u001B[0m] [\u001B[32mINFO\u001B[0m] >>>> Input prompt created successfully.\u001B[0m\n",
      "2024-07-17 15:11:37 [\u001B[34msrc.finetuning:33\u001B[0m] [\u001B[32mINFO\u001B[0m] >>>> Combining input and expected output into json finetuning data format...\u001B[0m\n",
      "2024-07-17 15:11:37 [\u001B[34msrc.finetuning:50\u001B[0m] [\u001B[32mINFO\u001B[0m] >>>> Finetuning conversation created successfully.\u001B[0m\n",
      "2024-07-17 15:11:37 [\u001B[34msrc.input_builder:30\u001B[0m] [\u001B[32mINFO\u001B[0m] >>>> Loading context...\u001B[0m\n",
      "2024-07-17 15:11:37 [\u001B[34msrc.input_builder:46\u001B[0m] [\u001B[32mINFO\u001B[0m] >>>> Context loaded successfully.\u001B[0m\n",
      "2024-07-17 15:11:37 [\u001B[34msrc.input_builder:48\u001B[0m] [\u001B[32mINFO\u001B[0m] >>>> Creating input prompt...\u001B[0m\n",
      "2024-07-17 15:11:37 [\u001B[34msrc.input_builder:79\u001B[0m] [\u001B[32mINFO\u001B[0m] >>>> Input prompt created successfully.\u001B[0m\n",
      "2024-07-17 15:11:37 [\u001B[34msrc.finetuning:33\u001B[0m] [\u001B[32mINFO\u001B[0m] >>>> Combining input and expected output into json finetuning data format...\u001B[0m\n",
      "2024-07-17 15:11:37 [\u001B[34msrc.finetuning:50\u001B[0m] [\u001B[32mINFO\u001B[0m] >>>> Finetuning conversation created successfully.\u001B[0m\n",
      "2024-07-17 15:11:37 [\u001B[34msrc.utils.helpers:106\u001B[0m] [\u001B[33mWARNING\u001B[0m] >>>> Test 15 has no previous step. Cannot retrieve ID.\u001B[0m\n",
      "2024-07-17 15:11:37 [\u001B[34msrc.data.database:61\u001B[0m] [\u001B[33mWARNING\u001B[0m] >>>> Insufficient data for ID 15.1. Expected 2 rows but got 0.\u001B[0m\n",
      "2024-07-17 15:11:37 [\u001B[34msrc.input_builder:30\u001B[0m] [\u001B[32mINFO\u001B[0m] >>>> Loading context...\u001B[0m\n",
      "2024-07-17 15:11:37 [\u001B[34msrc.input_builder:46\u001B[0m] [\u001B[32mINFO\u001B[0m] >>>> Context loaded successfully.\u001B[0m\n",
      "2024-07-17 15:11:37 [\u001B[34msrc.input_builder:48\u001B[0m] [\u001B[32mINFO\u001B[0m] >>>> Creating input prompt...\u001B[0m\n",
      "2024-07-17 15:11:37 [\u001B[34msrc.input_builder:79\u001B[0m] [\u001B[32mINFO\u001B[0m] >>>> Input prompt created successfully.\u001B[0m\n",
      "2024-07-17 15:11:37 [\u001B[34msrc.finetuning:33\u001B[0m] [\u001B[32mINFO\u001B[0m] >>>> Combining input and expected output into json finetuning data format...\u001B[0m\n",
      "2024-07-17 15:11:37 [\u001B[34msrc.finetuning:50\u001B[0m] [\u001B[32mINFO\u001B[0m] >>>> Finetuning conversation created successfully.\u001B[0m\n",
      "2024-07-17 15:11:37 [\u001B[34msrc.input_builder:30\u001B[0m] [\u001B[32mINFO\u001B[0m] >>>> Loading context...\u001B[0m\n",
      "2024-07-17 15:11:38 [\u001B[34msrc.input_builder:46\u001B[0m] [\u001B[32mINFO\u001B[0m] >>>> Context loaded successfully.\u001B[0m\n",
      "2024-07-17 15:11:38 [\u001B[34msrc.input_builder:48\u001B[0m] [\u001B[32mINFO\u001B[0m] >>>> Creating input prompt...\u001B[0m\n",
      "2024-07-17 15:11:38 [\u001B[34msrc.input_builder:79\u001B[0m] [\u001B[32mINFO\u001B[0m] >>>> Input prompt created successfully.\u001B[0m\n",
      "2024-07-17 15:11:38 [\u001B[34msrc.finetuning:33\u001B[0m] [\u001B[32mINFO\u001B[0m] >>>> Combining input and expected output into json finetuning data format...\u001B[0m\n",
      "2024-07-17 15:11:38 [\u001B[34msrc.finetuning:50\u001B[0m] [\u001B[32mINFO\u001B[0m] >>>> Finetuning conversation created successfully.\u001B[0m\n",
      "2024-07-17 15:11:38 [\u001B[34msrc.input_builder:30\u001B[0m] [\u001B[32mINFO\u001B[0m] >>>> Loading context...\u001B[0m\n",
      "2024-07-17 15:11:38 [\u001B[34msrc.input_builder:46\u001B[0m] [\u001B[32mINFO\u001B[0m] >>>> Context loaded successfully.\u001B[0m\n",
      "2024-07-17 15:11:38 [\u001B[34msrc.input_builder:48\u001B[0m] [\u001B[32mINFO\u001B[0m] >>>> Creating input prompt...\u001B[0m\n",
      "2024-07-17 15:11:38 [\u001B[34msrc.input_builder:79\u001B[0m] [\u001B[32mINFO\u001B[0m] >>>> Input prompt created successfully.\u001B[0m\n",
      "2024-07-17 15:11:38 [\u001B[34msrc.finetuning:33\u001B[0m] [\u001B[32mINFO\u001B[0m] >>>> Combining input and expected output into json finetuning data format...\u001B[0m\n",
      "2024-07-17 15:11:38 [\u001B[34msrc.finetuning:50\u001B[0m] [\u001B[32mINFO\u001B[0m] >>>> Finetuning conversation created successfully.\u001B[0m\n",
      "2024-07-17 15:11:38 [\u001B[34msrc.input_builder:30\u001B[0m] [\u001B[32mINFO\u001B[0m] >>>> Loading context...\u001B[0m\n",
      "2024-07-17 15:11:38 [\u001B[34msrc.input_builder:46\u001B[0m] [\u001B[32mINFO\u001B[0m] >>>> Context loaded successfully.\u001B[0m\n",
      "2024-07-17 15:11:38 [\u001B[34msrc.input_builder:48\u001B[0m] [\u001B[32mINFO\u001B[0m] >>>> Creating input prompt...\u001B[0m\n",
      "2024-07-17 15:11:38 [\u001B[34msrc.input_builder:79\u001B[0m] [\u001B[32mINFO\u001B[0m] >>>> Input prompt created successfully.\u001B[0m\n",
      "2024-07-17 15:11:38 [\u001B[34msrc.finetuning:33\u001B[0m] [\u001B[32mINFO\u001B[0m] >>>> Combining input and expected output into json finetuning data format...\u001B[0m\n",
      "2024-07-17 15:11:38 [\u001B[34msrc.finetuning:50\u001B[0m] [\u001B[32mINFO\u001B[0m] >>>> Finetuning conversation created successfully.\u001B[0m\n",
      "2024-07-17 15:11:38 [\u001B[34msrc.utils.helpers:106\u001B[0m] [\u001B[33mWARNING\u001B[0m] >>>> Test 17 has no previous step. Cannot retrieve ID.\u001B[0m\n",
      "2024-07-17 15:11:38 [\u001B[34msrc.data.database:61\u001B[0m] [\u001B[33mWARNING\u001B[0m] >>>> Insufficient data for ID 17.1. Expected 2 rows but got 0.\u001B[0m\n",
      "2024-07-17 15:11:38 [\u001B[34msrc.input_builder:30\u001B[0m] [\u001B[32mINFO\u001B[0m] >>>> Loading context...\u001B[0m\n",
      "2024-07-17 15:11:38 [\u001B[34msrc.input_builder:46\u001B[0m] [\u001B[32mINFO\u001B[0m] >>>> Context loaded successfully.\u001B[0m\n",
      "2024-07-17 15:11:38 [\u001B[34msrc.input_builder:48\u001B[0m] [\u001B[32mINFO\u001B[0m] >>>> Creating input prompt...\u001B[0m\n",
      "2024-07-17 15:11:38 [\u001B[34msrc.input_builder:79\u001B[0m] [\u001B[32mINFO\u001B[0m] >>>> Input prompt created successfully.\u001B[0m\n",
      "2024-07-17 15:11:38 [\u001B[34msrc.finetuning:33\u001B[0m] [\u001B[32mINFO\u001B[0m] >>>> Combining input and expected output into json finetuning data format...\u001B[0m\n",
      "2024-07-17 15:11:38 [\u001B[34msrc.finetuning:50\u001B[0m] [\u001B[32mINFO\u001B[0m] >>>> Finetuning conversation created successfully.\u001B[0m\n",
      "2024-07-17 15:11:38 [\u001B[34msrc.input_builder:30\u001B[0m] [\u001B[32mINFO\u001B[0m] >>>> Loading context...\u001B[0m\n",
      "2024-07-17 15:11:38 [\u001B[34msrc.input_builder:46\u001B[0m] [\u001B[32mINFO\u001B[0m] >>>> Context loaded successfully.\u001B[0m\n",
      "2024-07-17 15:11:38 [\u001B[34msrc.input_builder:48\u001B[0m] [\u001B[32mINFO\u001B[0m] >>>> Creating input prompt...\u001B[0m\n",
      "2024-07-17 15:11:38 [\u001B[34msrc.input_builder:79\u001B[0m] [\u001B[32mINFO\u001B[0m] >>>> Input prompt created successfully.\u001B[0m\n",
      "2024-07-17 15:11:38 [\u001B[34msrc.finetuning:33\u001B[0m] [\u001B[32mINFO\u001B[0m] >>>> Combining input and expected output into json finetuning data format...\u001B[0m\n",
      "2024-07-17 15:11:38 [\u001B[34msrc.finetuning:50\u001B[0m] [\u001B[32mINFO\u001B[0m] >>>> Finetuning conversation created successfully.\u001B[0m\n",
      "2024-07-17 15:11:38 [\u001B[34msrc.input_builder:30\u001B[0m] [\u001B[32mINFO\u001B[0m] >>>> Loading context...\u001B[0m\n",
      "2024-07-17 15:11:38 [\u001B[34msrc.input_builder:46\u001B[0m] [\u001B[32mINFO\u001B[0m] >>>> Context loaded successfully.\u001B[0m\n",
      "2024-07-17 15:11:38 [\u001B[34msrc.input_builder:48\u001B[0m] [\u001B[32mINFO\u001B[0m] >>>> Creating input prompt...\u001B[0m\n",
      "2024-07-17 15:11:38 [\u001B[34msrc.input_builder:79\u001B[0m] [\u001B[32mINFO\u001B[0m] >>>> Input prompt created successfully.\u001B[0m\n",
      "2024-07-17 15:11:38 [\u001B[34msrc.finetuning:33\u001B[0m] [\u001B[32mINFO\u001B[0m] >>>> Combining input and expected output into json finetuning data format...\u001B[0m\n",
      "2024-07-17 15:11:38 [\u001B[34msrc.finetuning:50\u001B[0m] [\u001B[32mINFO\u001B[0m] >>>> Finetuning conversation created successfully.\u001B[0m\n",
      "2024-07-17 15:11:38 [\u001B[34msrc.utils.helpers:106\u001B[0m] [\u001B[33mWARNING\u001B[0m] >>>> Test 19 has no previous step. Cannot retrieve ID.\u001B[0m\n",
      "2024-07-17 15:11:38 [\u001B[34msrc.data.database:61\u001B[0m] [\u001B[33mWARNING\u001B[0m] >>>> Insufficient data for ID 19.1. Expected 2 rows but got 0.\u001B[0m\n",
      "2024-07-17 15:11:38 [\u001B[34msrc.input_builder:30\u001B[0m] [\u001B[32mINFO\u001B[0m] >>>> Loading context...\u001B[0m\n",
      "2024-07-17 15:11:38 [\u001B[34msrc.input_builder:46\u001B[0m] [\u001B[32mINFO\u001B[0m] >>>> Context loaded successfully.\u001B[0m\n",
      "2024-07-17 15:11:38 [\u001B[34msrc.input_builder:48\u001B[0m] [\u001B[32mINFO\u001B[0m] >>>> Creating input prompt...\u001B[0m\n",
      "2024-07-17 15:11:38 [\u001B[34msrc.input_builder:79\u001B[0m] [\u001B[32mINFO\u001B[0m] >>>> Input prompt created successfully.\u001B[0m\n",
      "2024-07-17 15:11:38 [\u001B[34msrc.finetuning:33\u001B[0m] [\u001B[32mINFO\u001B[0m] >>>> Combining input and expected output into json finetuning data format...\u001B[0m\n",
      "2024-07-17 15:11:38 [\u001B[34msrc.finetuning:50\u001B[0m] [\u001B[32mINFO\u001B[0m] >>>> Finetuning conversation created successfully.\u001B[0m\n",
      "2024-07-17 15:11:38 [\u001B[34msrc.input_builder:30\u001B[0m] [\u001B[32mINFO\u001B[0m] >>>> Loading context...\u001B[0m\n",
      "2024-07-17 15:11:39 [\u001B[34msrc.input_builder:46\u001B[0m] [\u001B[32mINFO\u001B[0m] >>>> Context loaded successfully.\u001B[0m\n",
      "2024-07-17 15:11:39 [\u001B[34msrc.input_builder:48\u001B[0m] [\u001B[32mINFO\u001B[0m] >>>> Creating input prompt...\u001B[0m\n",
      "2024-07-17 15:11:39 [\u001B[34msrc.input_builder:79\u001B[0m] [\u001B[32mINFO\u001B[0m] >>>> Input prompt created successfully.\u001B[0m\n",
      "2024-07-17 15:11:39 [\u001B[34msrc.finetuning:33\u001B[0m] [\u001B[32mINFO\u001B[0m] >>>> Combining input and expected output into json finetuning data format...\u001B[0m\n",
      "2024-07-17 15:11:39 [\u001B[34msrc.finetuning:50\u001B[0m] [\u001B[32mINFO\u001B[0m] >>>> Finetuning conversation created successfully.\u001B[0m\n",
      "2024-07-17 15:11:39 [\u001B[34msrc.input_builder:30\u001B[0m] [\u001B[32mINFO\u001B[0m] >>>> Loading context...\u001B[0m\n",
      "2024-07-17 15:11:39 [\u001B[34msrc.input_builder:46\u001B[0m] [\u001B[32mINFO\u001B[0m] >>>> Context loaded successfully.\u001B[0m\n",
      "2024-07-17 15:11:39 [\u001B[34msrc.input_builder:48\u001B[0m] [\u001B[32mINFO\u001B[0m] >>>> Creating input prompt...\u001B[0m\n",
      "2024-07-17 15:11:39 [\u001B[34msrc.input_builder:79\u001B[0m] [\u001B[32mINFO\u001B[0m] >>>> Input prompt created successfully.\u001B[0m\n",
      "2024-07-17 15:11:39 [\u001B[34msrc.finetuning:33\u001B[0m] [\u001B[32mINFO\u001B[0m] >>>> Combining input and expected output into json finetuning data format...\u001B[0m\n",
      "2024-07-17 15:11:39 [\u001B[34msrc.finetuning:50\u001B[0m] [\u001B[32mINFO\u001B[0m] >>>> Finetuning conversation created successfully.\u001B[0m\n",
      "2024-07-17 15:11:39 [\u001B[34msrc.utils.helpers:106\u001B[0m] [\u001B[33mWARNING\u001B[0m] >>>> Test 26 has no previous step. Cannot retrieve ID.\u001B[0m\n",
      "2024-07-17 15:11:39 [\u001B[34msrc.data.database:61\u001B[0m] [\u001B[33mWARNING\u001B[0m] >>>> Insufficient data for ID 26.1. Expected 2 rows but got 0.\u001B[0m\n",
      "2024-07-17 15:11:39 [\u001B[34msrc.input_builder:30\u001B[0m] [\u001B[32mINFO\u001B[0m] >>>> Loading context...\u001B[0m\n",
      "2024-07-17 15:11:39 [\u001B[34msrc.input_builder:46\u001B[0m] [\u001B[32mINFO\u001B[0m] >>>> Context loaded successfully.\u001B[0m\n",
      "2024-07-17 15:11:39 [\u001B[34msrc.input_builder:48\u001B[0m] [\u001B[32mINFO\u001B[0m] >>>> Creating input prompt...\u001B[0m\n",
      "2024-07-17 15:11:39 [\u001B[34msrc.input_builder:79\u001B[0m] [\u001B[32mINFO\u001B[0m] >>>> Input prompt created successfully.\u001B[0m\n",
      "2024-07-17 15:11:39 [\u001B[34msrc.finetuning:33\u001B[0m] [\u001B[32mINFO\u001B[0m] >>>> Combining input and expected output into json finetuning data format...\u001B[0m\n",
      "2024-07-17 15:11:39 [\u001B[34msrc.finetuning:50\u001B[0m] [\u001B[32mINFO\u001B[0m] >>>> Finetuning conversation created successfully.\u001B[0m\n",
      "2024-07-17 15:11:39 [\u001B[34msrc.input_builder:30\u001B[0m] [\u001B[32mINFO\u001B[0m] >>>> Loading context...\u001B[0m\n",
      "2024-07-17 15:11:39 [\u001B[34msrc.input_builder:46\u001B[0m] [\u001B[32mINFO\u001B[0m] >>>> Context loaded successfully.\u001B[0m\n",
      "2024-07-17 15:11:39 [\u001B[34msrc.input_builder:48\u001B[0m] [\u001B[32mINFO\u001B[0m] >>>> Creating input prompt...\u001B[0m\n",
      "2024-07-17 15:11:39 [\u001B[34msrc.input_builder:79\u001B[0m] [\u001B[32mINFO\u001B[0m] >>>> Input prompt created successfully.\u001B[0m\n",
      "2024-07-17 15:11:39 [\u001B[34msrc.finetuning:33\u001B[0m] [\u001B[32mINFO\u001B[0m] >>>> Combining input and expected output into json finetuning data format...\u001B[0m\n",
      "2024-07-17 15:11:39 [\u001B[34msrc.finetuning:50\u001B[0m] [\u001B[32mINFO\u001B[0m] >>>> Finetuning conversation created successfully.\u001B[0m\n",
      "2024-07-17 15:11:39 [\u001B[34msrc.input_builder:30\u001B[0m] [\u001B[32mINFO\u001B[0m] >>>> Loading context...\u001B[0m\n",
      "2024-07-17 15:11:40 [\u001B[34msrc.input_builder:46\u001B[0m] [\u001B[32mINFO\u001B[0m] >>>> Context loaded successfully.\u001B[0m\n",
      "2024-07-17 15:11:40 [\u001B[34msrc.input_builder:48\u001B[0m] [\u001B[32mINFO\u001B[0m] >>>> Creating input prompt...\u001B[0m\n",
      "2024-07-17 15:11:40 [\u001B[34msrc.input_builder:79\u001B[0m] [\u001B[32mINFO\u001B[0m] >>>> Input prompt created successfully.\u001B[0m\n",
      "2024-07-17 15:11:40 [\u001B[34msrc.finetuning:33\u001B[0m] [\u001B[32mINFO\u001B[0m] >>>> Combining input and expected output into json finetuning data format...\u001B[0m\n",
      "2024-07-17 15:11:40 [\u001B[34msrc.finetuning:50\u001B[0m] [\u001B[32mINFO\u001B[0m] >>>> Finetuning conversation created successfully.\u001B[0m\n",
      "2024-07-17 15:11:40 [\u001B[34msrc.input_builder:30\u001B[0m] [\u001B[32mINFO\u001B[0m] >>>> Loading context...\u001B[0m\n",
      "2024-07-17 15:11:40 [\u001B[34msrc.input_builder:46\u001B[0m] [\u001B[32mINFO\u001B[0m] >>>> Context loaded successfully.\u001B[0m\n",
      "2024-07-17 15:11:40 [\u001B[34msrc.input_builder:48\u001B[0m] [\u001B[32mINFO\u001B[0m] >>>> Creating input prompt...\u001B[0m\n",
      "2024-07-17 15:11:40 [\u001B[34msrc.input_builder:79\u001B[0m] [\u001B[32mINFO\u001B[0m] >>>> Input prompt created successfully.\u001B[0m\n",
      "2024-07-17 15:11:40 [\u001B[34msrc.finetuning:33\u001B[0m] [\u001B[32mINFO\u001B[0m] >>>> Combining input and expected output into json finetuning data format...\u001B[0m\n",
      "2024-07-17 15:11:40 [\u001B[34msrc.finetuning:50\u001B[0m] [\u001B[32mINFO\u001B[0m] >>>> Finetuning conversation created successfully.\u001B[0m\n",
      "2024-07-17 15:11:40 [\u001B[34msrc.input_builder:30\u001B[0m] [\u001B[32mINFO\u001B[0m] >>>> Loading context...\u001B[0m\n",
      "2024-07-17 15:11:41 [\u001B[34msrc.input_builder:46\u001B[0m] [\u001B[32mINFO\u001B[0m] >>>> Context loaded successfully.\u001B[0m\n",
      "2024-07-17 15:11:41 [\u001B[34msrc.input_builder:48\u001B[0m] [\u001B[32mINFO\u001B[0m] >>>> Creating input prompt...\u001B[0m\n",
      "2024-07-17 15:11:41 [\u001B[34msrc.input_builder:79\u001B[0m] [\u001B[32mINFO\u001B[0m] >>>> Input prompt created successfully.\u001B[0m\n",
      "2024-07-17 15:11:41 [\u001B[34msrc.finetuning:33\u001B[0m] [\u001B[32mINFO\u001B[0m] >>>> Combining input and expected output into json finetuning data format...\u001B[0m\n",
      "2024-07-17 15:11:41 [\u001B[34msrc.finetuning:50\u001B[0m] [\u001B[32mINFO\u001B[0m] >>>> Finetuning conversation created successfully.\u001B[0m\n",
      "2024-07-17 15:11:41 [\u001B[34msrc.utils.helpers:106\u001B[0m] [\u001B[33mWARNING\u001B[0m] >>>> Test 28 has no previous step. Cannot retrieve ID.\u001B[0m\n",
      "2024-07-17 15:11:41 [\u001B[34msrc.data.database:61\u001B[0m] [\u001B[33mWARNING\u001B[0m] >>>> Insufficient data for ID 28.1. Expected 2 rows but got 0.\u001B[0m\n",
      "2024-07-17 15:11:41 [\u001B[34msrc.input_builder:30\u001B[0m] [\u001B[32mINFO\u001B[0m] >>>> Loading context...\u001B[0m\n",
      "2024-07-17 15:11:41 [\u001B[34msrc.input_builder:46\u001B[0m] [\u001B[32mINFO\u001B[0m] >>>> Context loaded successfully.\u001B[0m\n",
      "2024-07-17 15:11:41 [\u001B[34msrc.input_builder:48\u001B[0m] [\u001B[32mINFO\u001B[0m] >>>> Creating input prompt...\u001B[0m\n",
      "2024-07-17 15:11:41 [\u001B[34msrc.input_builder:79\u001B[0m] [\u001B[32mINFO\u001B[0m] >>>> Input prompt created successfully.\u001B[0m\n",
      "2024-07-17 15:11:41 [\u001B[34msrc.finetuning:33\u001B[0m] [\u001B[32mINFO\u001B[0m] >>>> Combining input and expected output into json finetuning data format...\u001B[0m\n",
      "2024-07-17 15:11:41 [\u001B[34msrc.finetuning:50\u001B[0m] [\u001B[32mINFO\u001B[0m] >>>> Finetuning conversation created successfully.\u001B[0m\n",
      "2024-07-17 15:11:41 [\u001B[34msrc.input_builder:30\u001B[0m] [\u001B[32mINFO\u001B[0m] >>>> Loading context...\u001B[0m\n",
      "2024-07-17 15:11:41 [\u001B[34msrc.input_builder:46\u001B[0m] [\u001B[32mINFO\u001B[0m] >>>> Context loaded successfully.\u001B[0m\n",
      "2024-07-17 15:11:41 [\u001B[34msrc.input_builder:48\u001B[0m] [\u001B[32mINFO\u001B[0m] >>>> Creating input prompt...\u001B[0m\n",
      "2024-07-17 15:11:41 [\u001B[34msrc.input_builder:79\u001B[0m] [\u001B[32mINFO\u001B[0m] >>>> Input prompt created successfully.\u001B[0m\n",
      "2024-07-17 15:11:41 [\u001B[34msrc.finetuning:33\u001B[0m] [\u001B[32mINFO\u001B[0m] >>>> Combining input and expected output into json finetuning data format...\u001B[0m\n",
      "2024-07-17 15:11:41 [\u001B[34msrc.finetuning:50\u001B[0m] [\u001B[32mINFO\u001B[0m] >>>> Finetuning conversation created successfully.\u001B[0m\n",
      "2024-07-17 15:11:41 [\u001B[34msrc.input_builder:30\u001B[0m] [\u001B[32mINFO\u001B[0m] >>>> Loading context...\u001B[0m\n",
      "2024-07-17 15:11:41 [\u001B[34msrc.input_builder:46\u001B[0m] [\u001B[32mINFO\u001B[0m] >>>> Context loaded successfully.\u001B[0m\n",
      "2024-07-17 15:11:41 [\u001B[34msrc.input_builder:48\u001B[0m] [\u001B[32mINFO\u001B[0m] >>>> Creating input prompt...\u001B[0m\n",
      "2024-07-17 15:11:41 [\u001B[34msrc.input_builder:79\u001B[0m] [\u001B[32mINFO\u001B[0m] >>>> Input prompt created successfully.\u001B[0m\n",
      "2024-07-17 15:11:41 [\u001B[34msrc.finetuning:33\u001B[0m] [\u001B[32mINFO\u001B[0m] >>>> Combining input and expected output into json finetuning data format...\u001B[0m\n",
      "2024-07-17 15:11:41 [\u001B[34msrc.finetuning:50\u001B[0m] [\u001B[32mINFO\u001B[0m] >>>> Finetuning conversation created successfully.\u001B[0m\n",
      "2024-07-17 15:11:41 [\u001B[34msrc.utils.helpers:106\u001B[0m] [\u001B[33mWARNING\u001B[0m] >>>> Test 12 has no previous step. Cannot retrieve ID.\u001B[0m\n",
      "2024-07-17 15:11:41 [\u001B[34msrc.data.database:61\u001B[0m] [\u001B[33mWARNING\u001B[0m] >>>> Insufficient data for ID 12.1. Expected 2 rows but got 0.\u001B[0m\n",
      "2024-07-17 15:11:41 [\u001B[34msrc.input_builder:30\u001B[0m] [\u001B[32mINFO\u001B[0m] >>>> Loading context...\u001B[0m\n",
      "2024-07-17 15:11:41 [\u001B[34msrc.input_builder:46\u001B[0m] [\u001B[32mINFO\u001B[0m] >>>> Context loaded successfully.\u001B[0m\n",
      "2024-07-17 15:11:41 [\u001B[34msrc.input_builder:48\u001B[0m] [\u001B[32mINFO\u001B[0m] >>>> Creating input prompt...\u001B[0m\n",
      "2024-07-17 15:11:41 [\u001B[34msrc.input_builder:79\u001B[0m] [\u001B[32mINFO\u001B[0m] >>>> Input prompt created successfully.\u001B[0m\n",
      "2024-07-17 15:11:41 [\u001B[34msrc.finetuning:33\u001B[0m] [\u001B[32mINFO\u001B[0m] >>>> Combining input and expected output into json finetuning data format...\u001B[0m\n",
      "2024-07-17 15:11:41 [\u001B[34msrc.finetuning:50\u001B[0m] [\u001B[32mINFO\u001B[0m] >>>> Finetuning conversation created successfully.\u001B[0m\n",
      "2024-07-17 15:11:41 [\u001B[34msrc.input_builder:30\u001B[0m] [\u001B[32mINFO\u001B[0m] >>>> Loading context...\u001B[0m\n",
      "2024-07-17 15:11:42 [\u001B[34msrc.input_builder:46\u001B[0m] [\u001B[32mINFO\u001B[0m] >>>> Context loaded successfully.\u001B[0m\n",
      "2024-07-17 15:11:42 [\u001B[34msrc.input_builder:48\u001B[0m] [\u001B[32mINFO\u001B[0m] >>>> Creating input prompt...\u001B[0m\n",
      "2024-07-17 15:11:42 [\u001B[34msrc.input_builder:79\u001B[0m] [\u001B[32mINFO\u001B[0m] >>>> Input prompt created successfully.\u001B[0m\n",
      "2024-07-17 15:11:42 [\u001B[34msrc.finetuning:33\u001B[0m] [\u001B[32mINFO\u001B[0m] >>>> Combining input and expected output into json finetuning data format...\u001B[0m\n",
      "2024-07-17 15:11:42 [\u001B[34msrc.finetuning:50\u001B[0m] [\u001B[32mINFO\u001B[0m] >>>> Finetuning conversation created successfully.\u001B[0m\n",
      "2024-07-17 15:11:42 [\u001B[34msrc.input_builder:30\u001B[0m] [\u001B[32mINFO\u001B[0m] >>>> Loading context...\u001B[0m\n",
      "2024-07-17 15:11:42 [\u001B[34msrc.input_builder:46\u001B[0m] [\u001B[32mINFO\u001B[0m] >>>> Context loaded successfully.\u001B[0m\n",
      "2024-07-17 15:11:42 [\u001B[34msrc.input_builder:48\u001B[0m] [\u001B[32mINFO\u001B[0m] >>>> Creating input prompt...\u001B[0m\n",
      "2024-07-17 15:11:42 [\u001B[34msrc.input_builder:79\u001B[0m] [\u001B[32mINFO\u001B[0m] >>>> Input prompt created successfully.\u001B[0m\n",
      "2024-07-17 15:11:42 [\u001B[34msrc.finetuning:33\u001B[0m] [\u001B[32mINFO\u001B[0m] >>>> Combining input and expected output into json finetuning data format...\u001B[0m\n",
      "2024-07-17 15:11:42 [\u001B[34msrc.finetuning:50\u001B[0m] [\u001B[32mINFO\u001B[0m] >>>> Finetuning conversation created successfully.\u001B[0m\n",
      "2024-07-17 15:11:42 [\u001B[34msrc.input_builder:30\u001B[0m] [\u001B[32mINFO\u001B[0m] >>>> Loading context...\u001B[0m\n",
      "2024-07-17 15:11:42 [\u001B[34msrc.input_builder:46\u001B[0m] [\u001B[32mINFO\u001B[0m] >>>> Context loaded successfully.\u001B[0m\n",
      "2024-07-17 15:11:42 [\u001B[34msrc.input_builder:48\u001B[0m] [\u001B[32mINFO\u001B[0m] >>>> Creating input prompt...\u001B[0m\n",
      "2024-07-17 15:11:42 [\u001B[34msrc.input_builder:79\u001B[0m] [\u001B[32mINFO\u001B[0m] >>>> Input prompt created successfully.\u001B[0m\n",
      "2024-07-17 15:11:42 [\u001B[34msrc.finetuning:33\u001B[0m] [\u001B[32mINFO\u001B[0m] >>>> Combining input and expected output into json finetuning data format...\u001B[0m\n",
      "2024-07-17 15:11:42 [\u001B[34msrc.finetuning:50\u001B[0m] [\u001B[32mINFO\u001B[0m] >>>> Finetuning conversation created successfully.\u001B[0m\n",
      "2024-07-17 15:11:42 [\u001B[34msrc.utils.helpers:106\u001B[0m] [\u001B[33mWARNING\u001B[0m] >>>> Test 14 has no previous step. Cannot retrieve ID.\u001B[0m\n",
      "2024-07-17 15:11:42 [\u001B[34msrc.data.database:61\u001B[0m] [\u001B[33mWARNING\u001B[0m] >>>> Insufficient data for ID 14.1. Expected 2 rows but got 0.\u001B[0m\n",
      "2024-07-17 15:11:42 [\u001B[34msrc.input_builder:30\u001B[0m] [\u001B[32mINFO\u001B[0m] >>>> Loading context...\u001B[0m\n",
      "2024-07-17 15:11:42 [\u001B[34msrc.input_builder:46\u001B[0m] [\u001B[32mINFO\u001B[0m] >>>> Context loaded successfully.\u001B[0m\n",
      "2024-07-17 15:11:42 [\u001B[34msrc.input_builder:48\u001B[0m] [\u001B[32mINFO\u001B[0m] >>>> Creating input prompt...\u001B[0m\n",
      "2024-07-17 15:11:42 [\u001B[34msrc.input_builder:79\u001B[0m] [\u001B[32mINFO\u001B[0m] >>>> Input prompt created successfully.\u001B[0m\n",
      "2024-07-17 15:11:42 [\u001B[34msrc.finetuning:33\u001B[0m] [\u001B[32mINFO\u001B[0m] >>>> Combining input and expected output into json finetuning data format...\u001B[0m\n",
      "2024-07-17 15:11:42 [\u001B[34msrc.finetuning:50\u001B[0m] [\u001B[32mINFO\u001B[0m] >>>> Finetuning conversation created successfully.\u001B[0m\n",
      "2024-07-17 15:11:42 [\u001B[34msrc.input_builder:30\u001B[0m] [\u001B[32mINFO\u001B[0m] >>>> Loading context...\u001B[0m\n",
      "2024-07-17 15:11:42 [\u001B[34msrc.input_builder:46\u001B[0m] [\u001B[32mINFO\u001B[0m] >>>> Context loaded successfully.\u001B[0m\n",
      "2024-07-17 15:11:42 [\u001B[34msrc.input_builder:48\u001B[0m] [\u001B[32mINFO\u001B[0m] >>>> Creating input prompt...\u001B[0m\n",
      "2024-07-17 15:11:42 [\u001B[34msrc.input_builder:79\u001B[0m] [\u001B[32mINFO\u001B[0m] >>>> Input prompt created successfully.\u001B[0m\n",
      "2024-07-17 15:11:42 [\u001B[34msrc.finetuning:33\u001B[0m] [\u001B[32mINFO\u001B[0m] >>>> Combining input and expected output into json finetuning data format...\u001B[0m\n",
      "2024-07-17 15:11:42 [\u001B[34msrc.finetuning:50\u001B[0m] [\u001B[32mINFO\u001B[0m] >>>> Finetuning conversation created successfully.\u001B[0m\n",
      "2024-07-17 15:11:42 [\u001B[34msrc.utils.helpers:106\u001B[0m] [\u001B[33mWARNING\u001B[0m] >>>> Test 16 has no previous step. Cannot retrieve ID.\u001B[0m\n",
      "2024-07-17 15:11:42 [\u001B[34msrc.data.database:61\u001B[0m] [\u001B[33mWARNING\u001B[0m] >>>> Insufficient data for ID 16.1. Expected 2 rows but got 0.\u001B[0m\n",
      "2024-07-17 15:11:42 [\u001B[34msrc.input_builder:30\u001B[0m] [\u001B[32mINFO\u001B[0m] >>>> Loading context...\u001B[0m\n",
      "2024-07-17 15:11:42 [\u001B[34msrc.input_builder:46\u001B[0m] [\u001B[32mINFO\u001B[0m] >>>> Context loaded successfully.\u001B[0m\n",
      "2024-07-17 15:11:42 [\u001B[34msrc.input_builder:48\u001B[0m] [\u001B[32mINFO\u001B[0m] >>>> Creating input prompt...\u001B[0m\n",
      "2024-07-17 15:11:42 [\u001B[34msrc.input_builder:79\u001B[0m] [\u001B[32mINFO\u001B[0m] >>>> Input prompt created successfully.\u001B[0m\n",
      "2024-07-17 15:11:42 [\u001B[34msrc.finetuning:33\u001B[0m] [\u001B[32mINFO\u001B[0m] >>>> Combining input and expected output into json finetuning data format...\u001B[0m\n",
      "2024-07-17 15:11:42 [\u001B[34msrc.finetuning:50\u001B[0m] [\u001B[32mINFO\u001B[0m] >>>> Finetuning conversation created successfully.\u001B[0m\n",
      "2024-07-17 15:11:42 [\u001B[34msrc.input_builder:30\u001B[0m] [\u001B[32mINFO\u001B[0m] >>>> Loading context...\u001B[0m\n",
      "2024-07-17 15:11:42 [\u001B[34msrc.input_builder:46\u001B[0m] [\u001B[32mINFO\u001B[0m] >>>> Context loaded successfully.\u001B[0m\n",
      "2024-07-17 15:11:42 [\u001B[34msrc.input_builder:48\u001B[0m] [\u001B[32mINFO\u001B[0m] >>>> Creating input prompt...\u001B[0m\n",
      "2024-07-17 15:11:42 [\u001B[34msrc.input_builder:79\u001B[0m] [\u001B[32mINFO\u001B[0m] >>>> Input prompt created successfully.\u001B[0m\n",
      "2024-07-17 15:11:42 [\u001B[34msrc.finetuning:33\u001B[0m] [\u001B[32mINFO\u001B[0m] >>>> Combining input and expected output into json finetuning data format...\u001B[0m\n",
      "2024-07-17 15:11:42 [\u001B[34msrc.finetuning:50\u001B[0m] [\u001B[32mINFO\u001B[0m] >>>> Finetuning conversation created successfully.\u001B[0m\n",
      "2024-07-17 15:11:42 [\u001B[34msrc.utils.helpers:106\u001B[0m] [\u001B[33mWARNING\u001B[0m] >>>> Test 18 has no previous step. Cannot retrieve ID.\u001B[0m\n",
      "2024-07-17 15:11:42 [\u001B[34msrc.data.database:61\u001B[0m] [\u001B[33mWARNING\u001B[0m] >>>> Insufficient data for ID 18.1. Expected 2 rows but got 0.\u001B[0m\n",
      "2024-07-17 15:11:42 [\u001B[34msrc.input_builder:30\u001B[0m] [\u001B[32mINFO\u001B[0m] >>>> Loading context...\u001B[0m\n",
      "2024-07-17 15:11:43 [\u001B[34msrc.input_builder:46\u001B[0m] [\u001B[32mINFO\u001B[0m] >>>> Context loaded successfully.\u001B[0m\n",
      "2024-07-17 15:11:43 [\u001B[34msrc.input_builder:48\u001B[0m] [\u001B[32mINFO\u001B[0m] >>>> Creating input prompt...\u001B[0m\n",
      "2024-07-17 15:11:43 [\u001B[34msrc.input_builder:79\u001B[0m] [\u001B[32mINFO\u001B[0m] >>>> Input prompt created successfully.\u001B[0m\n",
      "2024-07-17 15:11:43 [\u001B[34msrc.finetuning:33\u001B[0m] [\u001B[32mINFO\u001B[0m] >>>> Combining input and expected output into json finetuning data format...\u001B[0m\n",
      "2024-07-17 15:11:43 [\u001B[34msrc.finetuning:50\u001B[0m] [\u001B[32mINFO\u001B[0m] >>>> Finetuning conversation created successfully.\u001B[0m\n",
      "2024-07-17 15:11:43 [\u001B[34msrc.input_builder:30\u001B[0m] [\u001B[32mINFO\u001B[0m] >>>> Loading context...\u001B[0m\n",
      "2024-07-17 15:11:43 [\u001B[34msrc.input_builder:46\u001B[0m] [\u001B[32mINFO\u001B[0m] >>>> Context loaded successfully.\u001B[0m\n",
      "2024-07-17 15:11:43 [\u001B[34msrc.input_builder:48\u001B[0m] [\u001B[32mINFO\u001B[0m] >>>> Creating input prompt...\u001B[0m\n",
      "2024-07-17 15:11:43 [\u001B[34msrc.input_builder:79\u001B[0m] [\u001B[32mINFO\u001B[0m] >>>> Input prompt created successfully.\u001B[0m\n",
      "2024-07-17 15:11:43 [\u001B[34msrc.finetuning:33\u001B[0m] [\u001B[32mINFO\u001B[0m] >>>> Combining input and expected output into json finetuning data format...\u001B[0m\n",
      "2024-07-17 15:11:43 [\u001B[34msrc.finetuning:50\u001B[0m] [\u001B[32mINFO\u001B[0m] >>>> Finetuning conversation created successfully.\u001B[0m\n",
      "2024-07-17 15:11:43 [\u001B[34msrc.utils.helpers:106\u001B[0m] [\u001B[33mWARNING\u001B[0m] >>>> Test 25 has no previous step. Cannot retrieve ID.\u001B[0m\n",
      "2024-07-17 15:11:43 [\u001B[34msrc.data.database:61\u001B[0m] [\u001B[33mWARNING\u001B[0m] >>>> Insufficient data for ID 25.1. Expected 2 rows but got 0.\u001B[0m\n",
      "2024-07-17 15:11:43 [\u001B[34msrc.input_builder:30\u001B[0m] [\u001B[32mINFO\u001B[0m] >>>> Loading context...\u001B[0m\n",
      "2024-07-17 15:11:43 [\u001B[34msrc.input_builder:46\u001B[0m] [\u001B[32mINFO\u001B[0m] >>>> Context loaded successfully.\u001B[0m\n",
      "2024-07-17 15:11:43 [\u001B[34msrc.input_builder:48\u001B[0m] [\u001B[32mINFO\u001B[0m] >>>> Creating input prompt...\u001B[0m\n",
      "2024-07-17 15:11:43 [\u001B[34msrc.input_builder:79\u001B[0m] [\u001B[32mINFO\u001B[0m] >>>> Input prompt created successfully.\u001B[0m\n",
      "2024-07-17 15:11:43 [\u001B[34msrc.finetuning:33\u001B[0m] [\u001B[32mINFO\u001B[0m] >>>> Combining input and expected output into json finetuning data format...\u001B[0m\n",
      "2024-07-17 15:11:43 [\u001B[34msrc.finetuning:50\u001B[0m] [\u001B[32mINFO\u001B[0m] >>>> Finetuning conversation created successfully.\u001B[0m\n",
      "2024-07-17 15:11:43 [\u001B[34msrc.input_builder:30\u001B[0m] [\u001B[32mINFO\u001B[0m] >>>> Loading context...\u001B[0m\n",
      "2024-07-17 15:11:43 [\u001B[34msrc.input_builder:46\u001B[0m] [\u001B[32mINFO\u001B[0m] >>>> Context loaded successfully.\u001B[0m\n",
      "2024-07-17 15:11:43 [\u001B[34msrc.input_builder:48\u001B[0m] [\u001B[32mINFO\u001B[0m] >>>> Creating input prompt...\u001B[0m\n",
      "2024-07-17 15:11:43 [\u001B[34msrc.input_builder:79\u001B[0m] [\u001B[32mINFO\u001B[0m] >>>> Input prompt created successfully.\u001B[0m\n",
      "2024-07-17 15:11:43 [\u001B[34msrc.finetuning:33\u001B[0m] [\u001B[32mINFO\u001B[0m] >>>> Combining input and expected output into json finetuning data format...\u001B[0m\n",
      "2024-07-17 15:11:43 [\u001B[34msrc.finetuning:50\u001B[0m] [\u001B[32mINFO\u001B[0m] >>>> Finetuning conversation created successfully.\u001B[0m\n",
      "2024-07-17 15:11:43 [\u001B[34msrc.input_builder:30\u001B[0m] [\u001B[32mINFO\u001B[0m] >>>> Loading context...\u001B[0m\n",
      "2024-07-17 15:11:43 [\u001B[34msrc.input_builder:46\u001B[0m] [\u001B[32mINFO\u001B[0m] >>>> Context loaded successfully.\u001B[0m\n",
      "2024-07-17 15:11:43 [\u001B[34msrc.input_builder:48\u001B[0m] [\u001B[32mINFO\u001B[0m] >>>> Creating input prompt...\u001B[0m\n",
      "2024-07-17 15:11:43 [\u001B[34msrc.input_builder:79\u001B[0m] [\u001B[32mINFO\u001B[0m] >>>> Input prompt created successfully.\u001B[0m\n",
      "2024-07-17 15:11:43 [\u001B[34msrc.finetuning:33\u001B[0m] [\u001B[32mINFO\u001B[0m] >>>> Combining input and expected output into json finetuning data format...\u001B[0m\n",
      "2024-07-17 15:11:43 [\u001B[34msrc.finetuning:50\u001B[0m] [\u001B[32mINFO\u001B[0m] >>>> Finetuning conversation created successfully.\u001B[0m\n",
      "2024-07-17 15:11:43 [\u001B[34msrc.input_builder:30\u001B[0m] [\u001B[32mINFO\u001B[0m] >>>> Loading context...\u001B[0m\n",
      "2024-07-17 15:11:43 [\u001B[34msrc.input_builder:46\u001B[0m] [\u001B[32mINFO\u001B[0m] >>>> Context loaded successfully.\u001B[0m\n",
      "2024-07-17 15:11:43 [\u001B[34msrc.input_builder:48\u001B[0m] [\u001B[32mINFO\u001B[0m] >>>> Creating input prompt...\u001B[0m\n",
      "2024-07-17 15:11:43 [\u001B[34msrc.input_builder:79\u001B[0m] [\u001B[32mINFO\u001B[0m] >>>> Input prompt created successfully.\u001B[0m\n",
      "2024-07-17 15:11:43 [\u001B[34msrc.finetuning:33\u001B[0m] [\u001B[32mINFO\u001B[0m] >>>> Combining input and expected output into json finetuning data format...\u001B[0m\n",
      "2024-07-17 15:11:43 [\u001B[34msrc.finetuning:50\u001B[0m] [\u001B[32mINFO\u001B[0m] >>>> Finetuning conversation created successfully.\u001B[0m\n",
      "2024-07-17 15:11:43 [\u001B[34msrc.utils.helpers:106\u001B[0m] [\u001B[33mWARNING\u001B[0m] >>>> Test 27 has no previous step. Cannot retrieve ID.\u001B[0m\n",
      "2024-07-17 15:11:43 [\u001B[34msrc.data.database:61\u001B[0m] [\u001B[33mWARNING\u001B[0m] >>>> Insufficient data for ID 27.1. Expected 2 rows but got 0.\u001B[0m\n",
      "2024-07-17 15:11:43 [\u001B[34msrc.input_builder:30\u001B[0m] [\u001B[32mINFO\u001B[0m] >>>> Loading context...\u001B[0m\n",
      "2024-07-17 15:11:43 [\u001B[34msrc.input_builder:46\u001B[0m] [\u001B[32mINFO\u001B[0m] >>>> Context loaded successfully.\u001B[0m\n",
      "2024-07-17 15:11:43 [\u001B[34msrc.input_builder:48\u001B[0m] [\u001B[32mINFO\u001B[0m] >>>> Creating input prompt...\u001B[0m\n",
      "2024-07-17 15:11:43 [\u001B[34msrc.input_builder:79\u001B[0m] [\u001B[32mINFO\u001B[0m] >>>> Input prompt created successfully.\u001B[0m\n",
      "2024-07-17 15:11:43 [\u001B[34msrc.finetuning:33\u001B[0m] [\u001B[32mINFO\u001B[0m] >>>> Combining input and expected output into json finetuning data format...\u001B[0m\n",
      "2024-07-17 15:11:43 [\u001B[34msrc.finetuning:50\u001B[0m] [\u001B[32mINFO\u001B[0m] >>>> Finetuning conversation created successfully.\u001B[0m\n",
      "2024-07-17 15:11:43 [\u001B[34msrc.input_builder:30\u001B[0m] [\u001B[32mINFO\u001B[0m] >>>> Loading context...\u001B[0m\n",
      "2024-07-17 15:11:43 [\u001B[34msrc.input_builder:46\u001B[0m] [\u001B[32mINFO\u001B[0m] >>>> Context loaded successfully.\u001B[0m\n",
      "2024-07-17 15:11:43 [\u001B[34msrc.input_builder:48\u001B[0m] [\u001B[32mINFO\u001B[0m] >>>> Creating input prompt...\u001B[0m\n",
      "2024-07-17 15:11:43 [\u001B[34msrc.input_builder:79\u001B[0m] [\u001B[32mINFO\u001B[0m] >>>> Input prompt created successfully.\u001B[0m\n",
      "2024-07-17 15:11:43 [\u001B[34msrc.finetuning:33\u001B[0m] [\u001B[32mINFO\u001B[0m] >>>> Combining input and expected output into json finetuning data format...\u001B[0m\n",
      "2024-07-17 15:11:43 [\u001B[34msrc.finetuning:50\u001B[0m] [\u001B[32mINFO\u001B[0m] >>>> Finetuning conversation created successfully.\u001B[0m\n",
      "2024-07-17 15:11:43 [\u001B[34msrc.input_builder:30\u001B[0m] [\u001B[32mINFO\u001B[0m] >>>> Loading context...\u001B[0m\n",
      "2024-07-17 15:11:43 [\u001B[34msrc.input_builder:46\u001B[0m] [\u001B[32mINFO\u001B[0m] >>>> Context loaded successfully.\u001B[0m\n",
      "2024-07-17 15:11:43 [\u001B[34msrc.input_builder:48\u001B[0m] [\u001B[32mINFO\u001B[0m] >>>> Creating input prompt...\u001B[0m\n",
      "2024-07-17 15:11:43 [\u001B[34msrc.input_builder:79\u001B[0m] [\u001B[32mINFO\u001B[0m] >>>> Input prompt created successfully.\u001B[0m\n",
      "2024-07-17 15:11:43 [\u001B[34msrc.finetuning:33\u001B[0m] [\u001B[32mINFO\u001B[0m] >>>> Combining input and expected output into json finetuning data format...\u001B[0m\n",
      "2024-07-17 15:11:43 [\u001B[34msrc.finetuning:50\u001B[0m] [\u001B[32mINFO\u001B[0m] >>>> Finetuning conversation created successfully.\u001B[0m\n",
      "2024-07-17 15:11:43 [\u001B[34msrc.input_builder:30\u001B[0m] [\u001B[32mINFO\u001B[0m] >>>> Loading context...\u001B[0m\n",
      "2024-07-17 15:11:43 [\u001B[34msrc.input_builder:46\u001B[0m] [\u001B[32mINFO\u001B[0m] >>>> Context loaded successfully.\u001B[0m\n",
      "2024-07-17 15:11:43 [\u001B[34msrc.input_builder:48\u001B[0m] [\u001B[32mINFO\u001B[0m] >>>> Creating input prompt...\u001B[0m\n",
      "2024-07-17 15:11:43 [\u001B[34msrc.input_builder:79\u001B[0m] [\u001B[32mINFO\u001B[0m] >>>> Input prompt created successfully.\u001B[0m\n",
      "2024-07-17 15:11:43 [\u001B[34msrc.finetuning:33\u001B[0m] [\u001B[32mINFO\u001B[0m] >>>> Combining input and expected output into json finetuning data format...\u001B[0m\n",
      "2024-07-17 15:11:43 [\u001B[34msrc.finetuning:50\u001B[0m] [\u001B[32mINFO\u001B[0m] >>>> Finetuning conversation created successfully.\u001B[0m\n",
      "2024-07-17 15:11:43 [\u001B[34msrc.utils.helpers:106\u001B[0m] [\u001B[33mWARNING\u001B[0m] >>>> Test 30 has no previous step. Cannot retrieve ID.\u001B[0m\n",
      "2024-07-17 15:11:43 [\u001B[34msrc.data.database:61\u001B[0m] [\u001B[33mWARNING\u001B[0m] >>>> Insufficient data for ID 30.1. Expected 2 rows but got 0.\u001B[0m\n",
      "2024-07-17 15:11:43 [\u001B[34msrc.input_builder:30\u001B[0m] [\u001B[32mINFO\u001B[0m] >>>> Loading context...\u001B[0m\n",
      "2024-07-17 15:11:44 [\u001B[34msrc.input_builder:46\u001B[0m] [\u001B[32mINFO\u001B[0m] >>>> Context loaded successfully.\u001B[0m\n",
      "2024-07-17 15:11:44 [\u001B[34msrc.input_builder:48\u001B[0m] [\u001B[32mINFO\u001B[0m] >>>> Creating input prompt...\u001B[0m\n",
      "2024-07-17 15:11:44 [\u001B[34msrc.input_builder:79\u001B[0m] [\u001B[32mINFO\u001B[0m] >>>> Input prompt created successfully.\u001B[0m\n",
      "2024-07-17 15:11:44 [\u001B[34msrc.finetuning:33\u001B[0m] [\u001B[32mINFO\u001B[0m] >>>> Combining input and expected output into json finetuning data format...\u001B[0m\n",
      "2024-07-17 15:11:44 [\u001B[34msrc.finetuning:50\u001B[0m] [\u001B[32mINFO\u001B[0m] >>>> Finetuning conversation created successfully.\u001B[0m\n",
      "2024-07-17 15:11:44 [\u001B[34msrc.input_builder:30\u001B[0m] [\u001B[32mINFO\u001B[0m] >>>> Loading context...\u001B[0m\n",
      "2024-07-17 15:11:44 [\u001B[34msrc.input_builder:46\u001B[0m] [\u001B[32mINFO\u001B[0m] >>>> Context loaded successfully.\u001B[0m\n",
      "2024-07-17 15:11:44 [\u001B[34msrc.input_builder:48\u001B[0m] [\u001B[32mINFO\u001B[0m] >>>> Creating input prompt...\u001B[0m\n",
      "2024-07-17 15:11:44 [\u001B[34msrc.input_builder:79\u001B[0m] [\u001B[32mINFO\u001B[0m] >>>> Input prompt created successfully.\u001B[0m\n",
      "2024-07-17 15:11:44 [\u001B[34msrc.finetuning:33\u001B[0m] [\u001B[32mINFO\u001B[0m] >>>> Combining input and expected output into json finetuning data format...\u001B[0m\n",
      "2024-07-17 15:11:44 [\u001B[34msrc.finetuning:50\u001B[0m] [\u001B[32mINFO\u001B[0m] >>>> Finetuning conversation created successfully.\u001B[0m\n",
      "2024-07-17 15:11:44 [\u001B[34msrc.input_builder:30\u001B[0m] [\u001B[32mINFO\u001B[0m] >>>> Loading context...\u001B[0m\n",
      "2024-07-17 15:11:44 [\u001B[34msrc.input_builder:46\u001B[0m] [\u001B[32mINFO\u001B[0m] >>>> Context loaded successfully.\u001B[0m\n",
      "2024-07-17 15:11:44 [\u001B[34msrc.input_builder:48\u001B[0m] [\u001B[32mINFO\u001B[0m] >>>> Creating input prompt...\u001B[0m\n",
      "2024-07-17 15:11:44 [\u001B[34msrc.input_builder:79\u001B[0m] [\u001B[32mINFO\u001B[0m] >>>> Input prompt created successfully.\u001B[0m\n",
      "2024-07-17 15:11:44 [\u001B[34msrc.finetuning:33\u001B[0m] [\u001B[32mINFO\u001B[0m] >>>> Combining input and expected output into json finetuning data format...\u001B[0m\n",
      "2024-07-17 15:11:44 [\u001B[34msrc.finetuning:50\u001B[0m] [\u001B[32mINFO\u001B[0m] >>>> Finetuning conversation created successfully.\u001B[0m\n"
     ]
    }
   ],
   "execution_count": 26
  },
  {
   "metadata": {
    "ExecuteTime": {
     "end_time": "2024-07-18T08:47:22.918305Z",
     "start_time": "2024-07-18T08:47:22.913291Z"
    }
   },
   "cell_type": "code",
   "source": [
    "print(finetuning_data_val[0])\n",
    "print(finetuning_data_train[0])\n",
    "print(finetuning_data_test[0])"
   ],
   "id": "f71b2067f4e7178d",
   "outputs": [
    {
     "name": "stdout",
     "output_type": "stream",
     "text": [
      "{'id': '08_01', 'image': '.\\\\data\\\\raw\\\\.\\\\screenshot\\\\8_1.png', 'conversations': [{'from': 'human', 'value': '### Simplified HTML Content:\\nButtons: \\n{\"id\": \"navigationTrigger\", \"class\": \"button button-icon button-borderless\"}\\n{\"id\": \"workbook-create\", \"class\": \"button workbook-create button-icon\"}\\nInputs: \\n{\"class\": \"select2-search__field\", \"aria-label\": \"Suchen nach …\", \"type\": \"search\", \"placeholder\": \"Suchen nach …\"}\\nLinks: \\n{\"text\": \"Zum Navigatorbaum springen\", \"id\": \"skip-to-navigator\", \"class\": \"button button-primary\"}\\n{\"text\": \"Zum Hauptbereich springen\", \"id\": \"skip-to-content\", \"class\": \"button button-primary\"}\\n{\"text\": \"Startseite\", \"id\": \"home\", \"class\": \"button button-icon button-borderless\"}\\n{\"text\": \"Karte\", \"class\": \"button button-icon button-borderless d-topnav--map-button\"}\\n{\"text\": \"Verzeichnis Tutorial\", \"id\": \"d-nav-tree-node_ROOT-Tutorial_firstContent\", \"class\": \"d-nav-tree-node--main d-hover-context\"}\\n{\"text\": \"Verzeichnis Gewässergüte\", \"id\": \"d-nav-tree-node_ROOT-Gewässergüte_firstContent\", \"class\": \"d-nav-tree-node--main d-hover-context\"}\\n{\"text\": \"Verzeichnis Einzelsichten\", \"id\": \"d-nav-tree-node_ROOT-Gewässergüte-Einzelsichten_firstContent\", \"class\": \"d-nav-tree-node--main d-hover-context\"}\\n{\"text\": \"Arbeitsmappe Übersicht Messstellen\", \"id\": \"d-nav-tree-node_ROOT-Gewässergüte-Pc8YJDtHybIR3hDILuOJ-AYlrNnT5PoRJJL0IZiCc_firstContent\", \"class\": \"d-nav-tree-node--main d-hover-context\"}\\n{\"text\": \"Übersicht Messstellen\", \"class\": \"d-nav-tree-node--text ellipsis\"}\\n{\"text\": \"Dashboard Informationen zur Arbeitsmappe\", \"class\": \"d-nav-tree-node--main d-hover-context\"}\\n{\"text\": \"Tabelle Messstellenliste\", \"class\": \"d-nav-tree-node--main d-hover-context\"}\\n{\"text\": \"Karte Messstellenkarte\", \"class\": \"d-nav-tree-node--main d-hover-context\"}\\n{\"text\": \"Dashboard Häufigkeit der Messungen\", \"class\": \"d-nav-tree-node--main d-hover-context\"}\\n{\"text\": \"Dashboard JasperReport: Druckbericht zur Anzahl der Messstellen\", \"class\": \"d-nav-tree-node--main d-hover-context\"}\\n{\"text\": \"Arbeitsmappe Auswertungen nach Parameter\", \"id\": \"d-nav-tree-node_ROOT-Gewässergüte-Pc8YJDtHybIR3hDILuOJ-4yn3EfwE6YXaoBrRpJ70_firstContent\", \"class\": \"d-nav-tree-node--main d-hover-context\"}\\n{\"text\": \"Auswertungen nach Parameter\", \"class\": \"d-nav-tree-node--text ellipsis\"}\\n{\"text\": \"Arbeitsmappe Messstellen-Monitoring\", \"id\": \"d-nav-tree-node_ROOT-Gewässergüte-Pc8YJDtHybIR3hDILuOJ-4-2I0H39LqG_JBUXi1YV_firstContent\", \"class\": \"d-nav-tree-node--main d-hover-context\"}\\n{\"text\": \"Messstellen-Monitoring\", \"class\": \"d-nav-tree-node--text ellipsis\"}\\n{\"text\": \"Arbeitsmappe Elbe-Monitoring\", \"id\": \"d-nav-tree-node_ROOT-Gewässergüte-Pc8YJDtHybIR3hDILuOJ-EFL2Fj-kNKL_gq8A5WUp_firstContent\", \"class\": \"d-nav-tree-node--main d-hover-context\"}\\n{\"text\": \"Elbe-Monitoring\", \"class\": \"d-nav-tree-node--text ellipsis\"}\\n{\"text\": \"Verzeichnis Automobile\", \"id\": \"d-nav-tree-node_ROOT-Automobile_firstContent\", \"class\": \"d-nav-tree-node--main d-hover-context\"}\\n{\"text\": \"Verzeichnis Ergänzende Geodaten\", \"id\": \"d-nav-tree-node_ROOT-Ergänzende-Geodaten_firstContent\", \"class\": \"d-nav-tree-node--main d-hover-context\"}\\n{\"text\": \"Verzeichnis Zentrale Dienste\", \"id\": \"d-nav-tree-node_ROOT-Zentrale-Dienste_firstContent\", \"class\": \"d-nav-tree-node--main d-hover-context\"}\\n{\"text\": \"Verzeichnis Meine Arbeitsmappen\", \"id\": \"d-nav-tree-node_ROOT-Meine-Arbeitsmappen_firstContent\", \"class\": \"d-nav-tree-node--main d-hover-context\"}\\n{\"text\": \"Arbeitsmappe Zugangsdaten\", \"id\": \"d-nav-tree-node_ROOT-wYRrGPE6Y6LtRpCm9ofb-HLiA_wB-1Y3slGMCaAfo_firstContent\", \"class\": \"d-nav-tree-node--main d-hover-context\"}\\n{\"text\": \"Zugangsdaten\", \"class\": \"d-nav-tree-node--text ellipsis\"}\\n{\"text\": \"disy Cadenza\"}\\n{\"text\": \"Tutorials\"}\\n{\"text\": \"Lernmodulen\"}\\n{\"text\": \"Onlinehilfe\"}\\n{\"text\": \"Webseite\"}\\n{\"text\": \"Lernmodulen\"}\\n{\"text\": \"1\", \"class\": \"startpage-section-navigation-item\"}\\n{\"text\": \"2\", \"class\": \"startpage-section-navigation-item\"}\\n{\"text\": \"3\", \"class\": \"startpage-section-navigation-item\"}\\n{\"text\": \"4\", \"class\": \"startpage-section-navigation-item\"}\\n{\"text\": \"5\", \"class\": \"startpage-section-navigation-item\"}\\n{\"text\": \"6\", \"class\": \"startpage-section-navigation-item\"}\\n{\"text\": \"7\", \"class\": \"startpage-section-navigation-item\"}\\n{\"text\": \"disy Cadenza v9.4.71\", \"class\": \"userSpecificLink ellipsis hidden-xs\"}\\n{\"text\": \"© Disy Informationssysteme GmbH\", \"class\": \"userSpecificLink ellipsis hidden-xs\"}\\n{\"text\": \"Über Disy\", \"class\": \"userSpecificLink ellipsis\"}\\n\\n\\n### Playwright Test Precondition:\\nimport { test, expect } from \\'@playwright/test\\';\\nimport { writeFileSync } from \\'fs\\';\\ntest(\\'test\\', async ({ page }) => {\\n  await page.goto(\\'http://localhost:8080/cadenza/\\');\\n  await page.getByRole(\\'link\\', { name: \\'Anmelden\\' }).click();\\n  await page.getByLabel(\\'Benutzername *\\').click();\\n  await page.getByLabel(\\'Benutzername *\\').fill(\\'Admin\\');\\n  await page.getByLabel(\\'Benutzername *\\').press(\\'Tab\\');\\n  await page.getByPlaceholder(\\' \\').fill(\\'Admin\\');\\n  await page.getByRole(\\'button\\', { name: \\'Anmelden\\' }).click();\\n  await page.getByText(\\'Verzeichnis Gewässergüte\\', { exact: true }).click();\\n  const parentElement = await page.getByText(\\'Arbeitsmappe Übersicht Messstellen\\').locator(\\'..\\');\\n  await parentElement.locator(\\'.d-icon.d-icon-bold.status-icon\\').click(); \\n});\\n\\n### UI Test Description:\\n\\n\\n### Screenshot:\\n <image>\\n\\n### Task:\\nYou are a test automation script writer. I will describe a UI test in German and you will generate Playwright test code for the given webpage. Strictly follow these instructions:\\n1. Don\\'t explain the code, just generate the code block itself.\\n2. You get some HTML elements and its attributes from the website. You can use playwright locators to find the elements by their attributes.\\n3. Use the precondition code to set up the initial state. You must continue the code.\\n4. Follow the steps in the ui test description to perform actions on the website.\\n5. Use the screenshot to understand the context of the test.\\nAssistant: '}, {'from': 'gpt', 'value': \"import { test, expect } from '@playwright/test';\\nimport { writeFileSync } from 'fs';\\n\\n\\ntest('test', async ({ page }) => {\\n  await page.goto('http://localhost:8080/cadenza/');\\n  await page.getByRole('link', { name: 'Anmelden' }).click();\\n  await page.getByLabel('Benutzername *').click();\\n  await page.getByLabel('Benutzername *').fill('Admin');\\n  await page.getByLabel('Benutzername *').press('Tab');\\n  await page.getByPlaceholder(' ').fill('Admin');\\n  await page.getByRole('button', { name: 'Anmelden' }).click();\\n\\n});\"}]}\n",
      "{'id': '01_01', 'image': '.\\\\data\\\\raw\\\\.\\\\screenshot\\\\1_1.png', 'conversations': [{'from': 'human', 'value': '### Simplified HTML Content:\\nButtons: \\n{\"id\": \"navigationTrigger\", \"class\": \"button button-icon button-borderless\"}\\n{\"id\": \"workbook-create\", \"class\": \"button workbook-create button-icon\"}\\nInputs: \\n{\"class\": \"select2-search__field\", \"aria-label\": \"Suchen nach …\", \"type\": \"search\", \"placeholder\": \"Suchen nach …\"}\\nLinks: \\n{\"text\": \"Zum Navigatorbaum springen\", \"id\": \"skip-to-navigator\", \"class\": \"button button-primary\"}\\n{\"text\": \"Zum Hauptbereich springen\", \"id\": \"skip-to-content\", \"class\": \"button button-primary\"}\\n{\"text\": \"Startseite\", \"id\": \"home\", \"class\": \"button button-icon button-borderless\"}\\n{\"text\": \"Karte\", \"class\": \"button button-icon button-borderless d-topnav--map-button\"}\\n{\"text\": \"Verzeichnis Tutorial\", \"id\": \"d-nav-tree-node_ROOT-Tutorial_firstContent\", \"class\": \"d-nav-tree-node--main d-hover-context\"}\\n{\"text\": \"Verzeichnis Gewässergüte\", \"id\": \"d-nav-tree-node_ROOT-Gewässergüte_firstContent\", \"class\": \"d-nav-tree-node--main d-hover-context\"}\\n{\"text\": \"Verzeichnis Einzelsichten\", \"id\": \"d-nav-tree-node_ROOT-Gewässergüte-Einzelsichten_firstContent\", \"class\": \"d-nav-tree-node--main d-hover-context\"}\\n{\"text\": \"Arbeitsmappe Übersicht Messstellen\", \"id\": \"d-nav-tree-node_ROOT-Gewässergüte-Pc8YJDtHybIR3hDILuOJ-AYlrNnT5PoRJJL0IZiCc_firstContent\", \"class\": \"d-nav-tree-node--main d-hover-context\"}\\n{\"text\": \"Übersicht Messstellen\", \"class\": \"d-nav-tree-node--text ellipsis\"}\\n{\"text\": \"Dashboard Informationen zur Arbeitsmappe\", \"class\": \"d-nav-tree-node--main d-hover-context\"}\\n{\"text\": \"Tabelle Messstellenliste\", \"class\": \"d-nav-tree-node--main d-hover-context\"}\\n{\"text\": \"Karte Messstellenkarte\", \"class\": \"d-nav-tree-node--main d-hover-context\"}\\n{\"text\": \"Dashboard Häufigkeit der Messungen\", \"class\": \"d-nav-tree-node--main d-hover-context\"}\\n{\"text\": \"Dashboard JasperReport: Druckbericht zur Anzahl der Messstellen\", \"class\": \"d-nav-tree-node--main d-hover-context\"}\\n{\"text\": \"Arbeitsmappe Auswertungen nach Parameter\", \"id\": \"d-nav-tree-node_ROOT-Gewässergüte-Pc8YJDtHybIR3hDILuOJ-4yn3EfwE6YXaoBrRpJ70_firstContent\", \"class\": \"d-nav-tree-node--main d-hover-context\"}\\n{\"text\": \"Auswertungen nach Parameter\", \"class\": \"d-nav-tree-node--text ellipsis\"}\\n{\"text\": \"Arbeitsmappe Messstellen-Monitoring\", \"id\": \"d-nav-tree-node_ROOT-Gewässergüte-Pc8YJDtHybIR3hDILuOJ-4-2I0H39LqG_JBUXi1YV_firstContent\", \"class\": \"d-nav-tree-node--main d-hover-context\"}\\n{\"text\": \"Messstellen-Monitoring\", \"class\": \"d-nav-tree-node--text ellipsis\"}\\n{\"text\": \"Arbeitsmappe Elbe-Monitoring\", \"id\": \"d-nav-tree-node_ROOT-Gewässergüte-Pc8YJDtHybIR3hDILuOJ-EFL2Fj-kNKL_gq8A5WUp_firstContent\", \"class\": \"d-nav-tree-node--main d-hover-context\"}\\n{\"text\": \"Elbe-Monitoring\", \"class\": \"d-nav-tree-node--text ellipsis\"}\\n{\"text\": \"Verzeichnis Automobile\", \"id\": \"d-nav-tree-node_ROOT-Automobile_firstContent\", \"class\": \"d-nav-tree-node--main d-hover-context\"}\\n{\"text\": \"Verzeichnis Ergänzende Geodaten\", \"id\": \"d-nav-tree-node_ROOT-Ergänzende-Geodaten_firstContent\", \"class\": \"d-nav-tree-node--main d-hover-context\"}\\n{\"text\": \"Verzeichnis Zentrale Dienste\", \"id\": \"d-nav-tree-node_ROOT-Zentrale-Dienste_firstContent\", \"class\": \"d-nav-tree-node--main d-hover-context\"}\\n{\"text\": \"Verzeichnis Meine Arbeitsmappen\", \"id\": \"d-nav-tree-node_ROOT-Meine-Arbeitsmappen_firstContent\", \"class\": \"d-nav-tree-node--main d-hover-context\"}\\n{\"text\": \"Arbeitsmappe Zugangsdaten\", \"id\": \"d-nav-tree-node_ROOT-wYRrGPE6Y6LtRpCm9ofb-HLiA_wB-1Y3slGMCaAfo_firstContent\", \"class\": \"d-nav-tree-node--main d-hover-context\"}\\n{\"text\": \"Zugangsdaten\", \"class\": \"d-nav-tree-node--text ellipsis\"}\\n{\"text\": \"disy Cadenza\"}\\n{\"text\": \"Tutorials\"}\\n{\"text\": \"Lernmodulen\"}\\n{\"text\": \"Onlinehilfe\"}\\n{\"text\": \"Webseite\"}\\n{\"text\": \"Lernmodulen\"}\\n{\"text\": \"1\", \"class\": \"startpage-section-navigation-item\"}\\n{\"text\": \"2\", \"class\": \"startpage-section-navigation-item\"}\\n{\"text\": \"3\", \"class\": \"startpage-section-navigation-item\"}\\n{\"text\": \"4\", \"class\": \"startpage-section-navigation-item\"}\\n{\"text\": \"5\", \"class\": \"startpage-section-navigation-item\"}\\n{\"text\": \"6\", \"class\": \"startpage-section-navigation-item\"}\\n{\"text\": \"7\", \"class\": \"startpage-section-navigation-item\"}\\n{\"text\": \"disy Cadenza v9.4.71\", \"class\": \"userSpecificLink ellipsis hidden-xs\"}\\n{\"text\": \"© Disy Informationssysteme GmbH\", \"class\": \"userSpecificLink ellipsis hidden-xs\"}\\n{\"text\": \"Über Disy\", \"class\": \"userSpecificLink ellipsis\"}\\n\\n\\n### Playwright Test Precondition:\\nimport { test, expect } from \\'@playwright/test\\';\\nimport { writeFileSync } from \\'fs\\';\\n\\n\\ntest(\\'test\\', async ({ page }) => {\\n  await page.goto(\\'http://localhost:8080/cadenza/\\');\\n  await page.getByRole(\\'link\\', { name: \\'Anmelden\\' }).click();\\n  await page.getByLabel(\\'Benutzername *\\').click();\\n  await page.getByLabel(\\'Benutzername *\\').fill(\\'Admin\\');\\n  await page.getByLabel(\\'Benutzername *\\').press(\\'Tab\\');\\n  await page.getByPlaceholder(\\' \\').fill(\\'Admin\\');\\n  await page.getByRole(\\'button\\', { name: \\'Anmelden\\' }).click();\\n  await page.getByText(\\'Verzeichnis Gewässergüte\\', { exact: true }).click();\\n  const parentElement = await page.getByText(\\'Arbeitsmappe Übersicht Messstellen\\').locator(\\'..\\');\\n  await parentElement.locator(\\'.d-icon.d-icon-bold.status-icon\\').click(); \\n\\n});\\n\\n### UI Test Description:\\n\\n\\n### Screenshot:\\n <image>\\n\\n### Task:\\nYou are a test automation script writer. I will describe a UI test in German and you will generate Playwright test code for the given webpage. Strictly follow these instructions:\\n1. Don\\'t explain the code, just generate the code block itself.\\n2. You get some HTML elements and its attributes from the website. You can use playwright locators to find the elements by their attributes.\\n3. Use the precondition code to set up the initial state. You must continue the code.\\n4. Follow the steps in the ui test description to perform actions on the website.\\n5. Use the screenshot to understand the context of the test.\\nAssistant: '}, {'from': 'gpt', 'value': \"import { test, expect } from '@playwright/test';\\nimport { writeFileSync } from 'fs';\\n\\n\\ntest('test', async ({ page }) => {\\n  await page.goto('http://localhost:8080/cadenza/');\\n  await page.getByRole('link', { name: 'Anmelden' }).click();\\n  await page.getByLabel('Benutzername *').click();\\n  await page.getByLabel('Benutzername *').fill('Admin');\\n  await page.getByLabel('Benutzername *').press('Tab');\\n  await page.getByPlaceholder(' ').fill('Admin');\\n  await page.getByRole('button', { name: 'Anmelden' }).click();\\n\\n});\"}]}\n",
      "{'id': '02_01', 'image': '.\\\\data\\\\raw\\\\.\\\\screenshot\\\\2_1.png', 'conversations': [{'from': 'human', 'value': '### Simplified HTML Content:\\nButtons: \\n{\"id\": \"navigationTrigger\", \"class\": \"button button-icon button-borderless\"}\\n{\"id\": \"workbook-create\", \"class\": \"button workbook-create button-icon\"}\\n{\"text\": \"Automobile\", \"class\": \"button\"}\\n{\"text\": \"General\", \"class\": \"button\"}\\n{\"text\": \"Geobasis\", \"class\": \"button\"}\\n{\"text\": \"Gewässer\", \"class\": \"button\"}\\n{\"text\": \"Ladesaeulen\", \"class\": \"button\"}\\n{\"text\": \"Personal\", \"class\": \"button\"}\\n{\"text\": \"Self-Service Repository\", \"class\": \"button\"}\\n{\"text\": \"Tutorial\", \"class\": \"button\"}\\nInputs: \\n{\"class\": \"select2-search__field\", \"aria-label\": \"Suchen nach …\", \"type\": \"search\", \"placeholder\": \"Suchen nach …\"}\\nLinks: \\n{\"text\": \"Zum Navigatorbaum springen\", \"id\": \"skip-to-navigator\", \"class\": \"button button-primary\"}\\n{\"text\": \"Zum Hauptbereich springen\", \"id\": \"skip-to-content\", \"class\": \"button button-primary\"}\\n{\"text\": \"Startseite\", \"id\": \"home\", \"class\": \"button button-icon button-borderless\"}\\n{\"text\": \"Karte\", \"class\": \"button button-icon button-borderless d-topnav--map-button\"}\\n{\"text\": \"Verzeichnis Tutorial\", \"id\": \"d-nav-tree-node_ROOT-Tutorial_firstContent\", \"class\": \"d-nav-tree-node--main d-hover-context\"}\\n{\"text\": \"Verzeichnis Gewässergüte\", \"id\": \"d-nav-tree-node_ROOT-Gewässergüte_firstContent\", \"class\": \"d-nav-tree-node--main d-hover-context\"}\\n{\"text\": \"Verzeichnis Automobile\", \"id\": \"d-nav-tree-node_ROOT-Automobile_firstContent\", \"class\": \"d-nav-tree-node--main d-hover-context\"}\\n{\"text\": \"Verzeichnis Ergänzende Geodaten\", \"id\": \"d-nav-tree-node_ROOT-Ergänzende-Geodaten_firstContent\", \"class\": \"d-nav-tree-node--main d-hover-context\"}\\n{\"text\": \"Verzeichnis Zentrale Dienste\", \"id\": \"d-nav-tree-node_ROOT-Zentrale-Dienste_firstContent\", \"class\": \"d-nav-tree-node--main d-hover-context\"}\\n{\"text\": \"Verzeichnis Meine Arbeitsmappen\", \"id\": \"d-nav-tree-node_ROOT-Meine-Arbeitsmappen_firstContent\", \"class\": \"d-nav-tree-node--main d-hover-context\"}\\n{\"text\": \"Arbeitsmappe Zugangsdaten\", \"id\": \"d-nav-tree-node_ROOT-wYRrGPE6Y6LtRpCm9ofb-HLiA_wB-1Y3slGMCaAfo_firstContent\", \"class\": \"d-nav-tree-node--main d-hover-context\"}\\n{\"text\": \"Zugangsdaten\", \"class\": \"d-nav-tree-node--text ellipsis\"}\\n{\"text\": \"disy Cadenza\"}\\n{\"text\": \"Tutorials\"}\\n{\"text\": \"Lernmodulen\"}\\n{\"text\": \"Onlinehilfe\"}\\n{\"text\": \"Webseite\"}\\n{\"text\": \"Lernmodulen\"}\\n{\"text\": \"1\", \"class\": \"startpage-section-navigation-item\"}\\n{\"text\": \"2\", \"class\": \"startpage-section-navigation-item\"}\\n{\"text\": \"3\", \"class\": \"startpage-section-navigation-item\"}\\n{\"text\": \"4\", \"class\": \"startpage-section-navigation-item\"}\\n{\"text\": \"5\", \"class\": \"startpage-section-navigation-item\"}\\n{\"text\": \"6\", \"class\": \"startpage-section-navigation-item\"}\\n{\"text\": \"7\", \"class\": \"startpage-section-navigation-item\"}\\n{\"text\": \"disy Cadenza v9.4.71\", \"class\": \"userSpecificLink ellipsis hidden-xs\"}\\n{\"text\": \"© Disy Informationssysteme GmbH\", \"class\": \"userSpecificLink ellipsis hidden-xs\"}\\n{\"text\": \"Über Disy\", \"class\": \"userSpecificLink ellipsis\"}\\n\\n\\n### Playwright Test Precondition:\\nimport { test, expect } from \\'@playwright/test\\';\\nimport { writeFileSync } from \\'fs\\';\\ntest(\\'test\\', async ({ page }) => {\\n  await page.goto(\\'http://localhost:8080/cadenza/\\');\\n  await page.getByRole(\\'link\\', { name: \\'Anmelden\\' }).click();\\n  await page.getByLabel(\\'Benutzername *\\').click();\\n  await page.getByLabel(\\'Benutzername *\\').fill(\\'Admin\\');\\n  await page.getByLabel(\\'Benutzername *\\').press(\\'Tab\\');\\n  await page.getByPlaceholder(\\' \\').fill(\\'Admin\\');\\n  await page.getByRole(\\'button\\', { name: \\'Anmelden\\' }).click();\\n  await page.getByTestId(\\'create-workbook-button\\').click();\\n\\n});\\n\\n### UI Test Description:\\n\\n\\n### Screenshot:\\n <image>\\n\\n### Task:\\nYou are a test automation script writer. I will describe a UI test in German and you will generate Playwright test code for the given webpage. Strictly follow these instructions:\\n1. Don\\'t explain the code, just generate the code block itself.\\n2. You get some HTML elements and its attributes from the website. You can use playwright locators to find the elements by their attributes.\\n3. Use the precondition code to set up the initial state. You must continue the code.\\n4. Follow the steps in the ui test description to perform actions on the website.\\n5. Use the screenshot to understand the context of the test.\\nAssistant: '}, {'from': 'gpt', 'value': \"import { test, expect } from '@playwright/test';\\nimport { writeFileSync } from 'fs';\\n\\n\\ntest('test', async ({ page }) => {\\n  await page.goto('http://localhost:8080/cadenza/');\\n  await page.getByRole('link', { name: 'Anmelden' }).click();\\n  await page.getByLabel('Benutzername *').click();\\n  await page.getByLabel('Benutzername *').fill('Admin');\\n  await page.getByLabel('Benutzername *').press('Tab');\\n  await page.getByPlaceholder(' ').fill('Admin');\\n  await page.getByRole('button', { name: 'Anmelden' }).click();\\n\\n});\"}]}\n"
     ]
    }
   ],
   "execution_count": 13
  },
  {
   "metadata": {
    "ExecuteTime": {
     "end_time": "2024-07-17T12:45:27.526571Z",
     "start_time": "2024-07-17T12:45:27.522036Z"
    }
   },
   "cell_type": "code",
   "source": "finetuning_data[0]",
   "id": "3272e46c429343de",
   "outputs": [
    {
     "data": {
      "text/plain": [
       "{'id': '01_01',\n",
       " 'image': '.\\\\data\\\\raw\\\\.\\\\screenshot\\\\1_1.png',\n",
       " 'conversations': [{'from': 'human',\n",
       "   'value': '### Simplified HTML Content:\\nButtons: \\n{\"id\": \"navigationTrigger\", \"class\": \"button button-icon button-borderless\"}\\n{\"id\": \"workbook-create\", \"class\": \"button workbook-create button-icon\"}\\nInputs: \\n{\"class\": \"select2-search__field\", \"aria-label\": \"Suchen nach …\", \"type\": \"search\", \"placeholder\": \"Suchen nach …\"}\\nLinks: \\n{\"text\": \"Zum Navigatorbaum springen\", \"id\": \"skip-to-navigator\", \"class\": \"button button-primary\"}\\n{\"text\": \"Zum Hauptbereich springen\", \"id\": \"skip-to-content\", \"class\": \"button button-primary\"}\\n{\"text\": \"Startseite\", \"id\": \"home\", \"class\": \"button button-icon button-borderless\"}\\n{\"text\": \"Karte\", \"class\": \"button button-icon button-borderless d-topnav--map-button\"}\\n{\"text\": \"Verzeichnis Tutorial\", \"id\": \"d-nav-tree-node_ROOT-Tutorial_firstContent\", \"class\": \"d-nav-tree-node--main d-hover-context\"}\\n{\"text\": \"Verzeichnis Gewässergüte\", \"id\": \"d-nav-tree-node_ROOT-Gewässergüte_firstContent\", \"class\": \"d-nav-tree-node--main d-hover-context\"}\\n{\"text\": \"Verzeichnis Einzelsichten\", \"id\": \"d-nav-tree-node_ROOT-Gewässergüte-Einzelsichten_firstContent\", \"class\": \"d-nav-tree-node--main d-hover-context\"}\\n{\"text\": \"Arbeitsmappe Übersicht Messstellen\", \"id\": \"d-nav-tree-node_ROOT-Gewässergüte-Pc8YJDtHybIR3hDILuOJ-AYlrNnT5PoRJJL0IZiCc_firstContent\", \"class\": \"d-nav-tree-node--main d-hover-context\"}\\n{\"text\": \"Übersicht Messstellen\", \"class\": \"d-nav-tree-node--text ellipsis\"}\\n{\"text\": \"Dashboard Informationen zur Arbeitsmappe\", \"class\": \"d-nav-tree-node--main d-hover-context\"}\\n{\"text\": \"Tabelle Messstellenliste\", \"class\": \"d-nav-tree-node--main d-hover-context\"}\\n{\"text\": \"Karte Messstellenkarte\", \"class\": \"d-nav-tree-node--main d-hover-context\"}\\n{\"text\": \"Dashboard Häufigkeit der Messungen\", \"class\": \"d-nav-tree-node--main d-hover-context\"}\\n{\"text\": \"Dashboard JasperReport: Druckbericht zur Anzahl der Messstellen\", \"class\": \"d-nav-tree-node--main d-hover-context\"}\\n{\"text\": \"Arbeitsmappe Auswertungen nach Parameter\", \"id\": \"d-nav-tree-node_ROOT-Gewässergüte-Pc8YJDtHybIR3hDILuOJ-4yn3EfwE6YXaoBrRpJ70_firstContent\", \"class\": \"d-nav-tree-node--main d-hover-context\"}\\n{\"text\": \"Auswertungen nach Parameter\", \"class\": \"d-nav-tree-node--text ellipsis\"}\\n{\"text\": \"Arbeitsmappe Messstellen-Monitoring\", \"id\": \"d-nav-tree-node_ROOT-Gewässergüte-Pc8YJDtHybIR3hDILuOJ-4-2I0H39LqG_JBUXi1YV_firstContent\", \"class\": \"d-nav-tree-node--main d-hover-context\"}\\n{\"text\": \"Messstellen-Monitoring\", \"class\": \"d-nav-tree-node--text ellipsis\"}\\n{\"text\": \"Arbeitsmappe Elbe-Monitoring\", \"id\": \"d-nav-tree-node_ROOT-Gewässergüte-Pc8YJDtHybIR3hDILuOJ-EFL2Fj-kNKL_gq8A5WUp_firstContent\", \"class\": \"d-nav-tree-node--main d-hover-context\"}\\n{\"text\": \"Elbe-Monitoring\", \"class\": \"d-nav-tree-node--text ellipsis\"}\\n{\"text\": \"Verzeichnis Automobile\", \"id\": \"d-nav-tree-node_ROOT-Automobile_firstContent\", \"class\": \"d-nav-tree-node--main d-hover-context\"}\\n{\"text\": \"Verzeichnis Ergänzende Geodaten\", \"id\": \"d-nav-tree-node_ROOT-Ergänzende-Geodaten_firstContent\", \"class\": \"d-nav-tree-node--main d-hover-context\"}\\n{\"text\": \"Verzeichnis Zentrale Dienste\", \"id\": \"d-nav-tree-node_ROOT-Zentrale-Dienste_firstContent\", \"class\": \"d-nav-tree-node--main d-hover-context\"}\\n{\"text\": \"Verzeichnis Meine Arbeitsmappen\", \"id\": \"d-nav-tree-node_ROOT-Meine-Arbeitsmappen_firstContent\", \"class\": \"d-nav-tree-node--main d-hover-context\"}\\n{\"text\": \"Arbeitsmappe Zugangsdaten\", \"id\": \"d-nav-tree-node_ROOT-wYRrGPE6Y6LtRpCm9ofb-HLiA_wB-1Y3slGMCaAfo_firstContent\", \"class\": \"d-nav-tree-node--main d-hover-context\"}\\n{\"text\": \"Zugangsdaten\", \"class\": \"d-nav-tree-node--text ellipsis\"}\\n{\"text\": \"disy Cadenza\"}\\n{\"text\": \"Tutorials\"}\\n{\"text\": \"Lernmodulen\"}\\n{\"text\": \"Onlinehilfe\"}\\n{\"text\": \"Webseite\"}\\n{\"text\": \"Lernmodulen\"}\\n{\"text\": \"1\", \"class\": \"startpage-section-navigation-item\"}\\n{\"text\": \"2\", \"class\": \"startpage-section-navigation-item\"}\\n{\"text\": \"3\", \"class\": \"startpage-section-navigation-item\"}\\n{\"text\": \"4\", \"class\": \"startpage-section-navigation-item\"}\\n{\"text\": \"5\", \"class\": \"startpage-section-navigation-item\"}\\n{\"text\": \"6\", \"class\": \"startpage-section-navigation-item\"}\\n{\"text\": \"7\", \"class\": \"startpage-section-navigation-item\"}\\n{\"text\": \"disy Cadenza v9.4.71\", \"class\": \"userSpecificLink ellipsis hidden-xs\"}\\n{\"text\": \"© Disy Informationssysteme GmbH\", \"class\": \"userSpecificLink ellipsis hidden-xs\"}\\n{\"text\": \"Über Disy\", \"class\": \"userSpecificLink ellipsis\"}\\n\\n\\n### Playwright Test Precondition:\\nimport { test, expect } from \\'@playwright/test\\';\\nimport { writeFileSync } from \\'fs\\';\\n\\n\\ntest(\\'test\\', async ({ page }) => {\\n  await page.goto(\\'http://localhost:8080/cadenza/\\');\\n  await page.getByRole(\\'link\\', { name: \\'Anmelden\\' }).click();\\n  await page.getByLabel(\\'Benutzername *\\').click();\\n  await page.getByLabel(\\'Benutzername *\\').fill(\\'Admin\\');\\n  await page.getByLabel(\\'Benutzername *\\').press(\\'Tab\\');\\n  await page.getByPlaceholder(\\' \\').fill(\\'Admin\\');\\n  await page.getByRole(\\'button\\', { name: \\'Anmelden\\' }).click();\\n  await page.getByText(\\'Verzeichnis Gewässergüte\\', { exact: true }).click();\\n  const parentElement = await page.getByText(\\'Arbeitsmappe Übersicht Messstellen\\').locator(\\'..\\');\\n  await parentElement.locator(\\'.d-icon.d-icon-bold.status-icon\\').click(); \\n\\n});\\n\\n### UI Test Description:\\nÖffnen der Tabellen-Sicht \"Messstellenliste\" über die Werkzeugliste der Arbeitsmappe.\\n\\n### Screenshot:\\n <image>\\n\\n### Task:\\nYou are a test automation script writer. I will describe a UI test in German and you will generate Playwright test code for the given webpage. Strictly follow these instructions:\\n1. Don\\'t explain the code, just generate the code block itself.\\n2. You get some HTML elements and its attributes from the website. You can use playwright locators to find the elements by their attributes.\\n3. Use the precondition code to set up the initial state. You must continue the code.\\n4. Follow the steps in the ui test description to perform actions on the website.\\n5. Use the screenshot to understand the context of the test.\\nAssistant: '},\n",
       "  {'from': 'gpt',\n",
       "   'value': \"import { test, expect } from '@playwright/test';\\nimport { writeFileSync } from 'fs';\\ntest('test', async ({ page }) => {\\n  await page.goto('http://localhost:8080/cadenza/');\\n  await page.getByRole('link', { name: 'Anmelden' }).click();\\n  await page.getByLabel('Benutzername *').click();\\n  await page.getByLabel('Benutzername *').fill('Admin');\\n  await page.getByLabel('Benutzername *').press('Tab');\\n  await page.getByPlaceholder(' ').fill('Admin');\\n  await page.getByRole('button', { name: 'Anmelden' }).click();\\n  await page.getByText('Verzeichnis Gewässergüte', { exact: true }).click();\\n  const parentElement = await page.getByText('Arbeitsmappe Übersicht Messstellen').locator('..');\\n  await parentElement.locator('.d-icon.d-icon-bold.status-icon').click(); \\n  await page.getByRole('link', { name: 'Tabelle Messstellenliste' }).click();\\n\\n});\"}]}"
      ]
     },
     "execution_count": 7,
     "metadata": {},
     "output_type": "execute_result"
    }
   ],
   "execution_count": 7
  },
  {
   "metadata": {
    "ExecuteTime": {
     "end_time": "2024-07-18T08:47:44.249311Z",
     "start_time": "2024-07-18T08:47:44.229567Z"
    }
   },
   "cell_type": "code",
   "source": [
    "save_finetuning_data_as_json(finetuning_data_test, name= \"test\")\n",
    "save_finetuning_data_as_json(finetuning_data_train, name= \"train\")\n",
    "save_finetuning_data_as_json(finetuning_data_val, name= \"val\")"
   ],
   "id": "a03d64a3a4027446",
   "outputs": [
    {
     "name": "stdout",
     "output_type": "stream",
     "text": [
      "2024-07-18 10:47:44 [\u001B[34msrc.finetuning:70\u001B[0m] [\u001B[32mINFO\u001B[0m] >>>> Finetuning data saved as JSON file: ./data/finetuning/s21_finetuning_data_test_20240718-104744.json\u001B[0m\n",
      "2024-07-18 10:47:44 [\u001B[34msrc.finetuning:70\u001B[0m] [\u001B[32mINFO\u001B[0m] >>>> Finetuning data saved as JSON file: ./data/finetuning/s61_finetuning_data_train_20240718-104744.json\u001B[0m\n",
      "2024-07-18 10:47:44 [\u001B[34msrc.finetuning:70\u001B[0m] [\u001B[32mINFO\u001B[0m] >>>> Finetuning data saved as JSON file: ./data/finetuning/s18_finetuning_data_val_20240718-104744.json\u001B[0m\n"
     ]
    }
   ],
   "execution_count": 14
  },
  {
   "metadata": {
    "ExecuteTime": {
     "end_time": "2024-07-17T12:45:30.485311Z",
     "start_time": "2024-07-17T12:45:30.472649Z"
    }
   },
   "cell_type": "code",
   "source": "save_finetuning_data_as_json(finetuning_data)",
   "id": "23ac88bdb135d909",
   "outputs": [
    {
     "name": "stdout",
     "output_type": "stream",
     "text": [
      "2024-07-17 14:45:30 [\u001B[34msrc.finetuning:70\u001B[0m] [\u001B[32mINFO\u001B[0m] >>>> Finetuning data saved as JSON file: ./data/finetuning/s77_finetuning_data_default_20240717-144530.json\u001B[0m\n"
     ]
    }
   ],
   "execution_count": 8
  },
  {
   "metadata": {},
   "cell_type": "markdown",
   "source": "# DB Ergänzung",
   "id": "201f5092f8f728f4"
  },
  {
   "metadata": {
    "ExecuteTime": {
     "end_time": "2024-07-18T07:20:24.337071Z",
     "start_time": "2024-07-18T07:20:24.330173Z"
    }
   },
   "cell_type": "code",
   "source": [
    "# set working directory to the root of the project\n",
    "os.chdir(\"..\")\n",
    "os.getcwd()"
   ],
   "id": "974b7fc706c0a27e",
   "outputs": [
    {
     "data": {
      "text/plain": [
       "'C:\\\\Users\\\\c-beh\\\\PycharmProjects\\\\cadenza-playwright-llm'"
      ]
     },
     "execution_count": 3,
     "metadata": {},
     "output_type": "execute_result"
    }
   ],
   "execution_count": 3
  },
  {
   "metadata": {
    "ExecuteTime": {
     "end_time": "2024-07-18T07:21:00.216327Z",
     "start_time": "2024-07-18T07:21:00.208890Z"
    }
   },
   "cell_type": "code",
   "source": [
    "db_file = './data/raw/playwright_script.db'\n",
    "config = load_config(\"./config/config.yaml\")"
   ],
   "id": "8046376058f133e2",
   "outputs": [],
   "execution_count": 5
  },
  {
   "metadata": {
    "ExecuteTime": {
     "end_time": "2024-07-18T07:21:34.306669Z",
     "start_time": "2024-07-18T07:21:34.301912Z"
    }
   },
   "cell_type": "code",
   "source": [
    "# Load ids to be used for finetuning from database\n",
    "conn = sqlite3.connect(db_file)\n",
    "c = conn.cursor()\n",
    "c.execute('SELECT id FROM tests')\n",
    "items = c.fetchall()\n",
    "conn.close()\n",
    "\n",
    "ids = [i[0] for i in items][0:] # Skip the first id since it is not possible to get the previous id"
   ],
   "id": "3927558ae3960ae0",
   "outputs": [],
   "execution_count": 6
  },
  {
   "metadata": {
    "ExecuteTime": {
     "end_time": "2024-07-18T07:21:46.188095Z",
     "start_time": "2024-07-18T07:21:46.185132Z"
    }
   },
   "cell_type": "code",
   "source": "# Idea removed since it creates to many new entries instead current function will get an exception for a first steps and specific reference to 0_1",
   "id": "c79fb46c305bc0dc",
   "outputs": [
    {
     "name": "stdout",
     "output_type": "stream",
     "text": [
      "['1.1', '1.2', '1.3', '1.4', '2.1', '2.2', '3.1', '3.2', '4.1', '4.2', '4.3', '4.4', '4.5', '4.6', '4.7', '5.1', '5.2', '5.3', '5.4', '5.5', '7.1', '7.2', '7.3', '7.4', '8.1', '8.2', '8.3', '8.4', '8.5', '8.6', '9.1', '9.2', '9.3', '9.4', '9.5', '9.6', '10.1', '10.2', '10.3', '10.4', '10.5', '10.6', '11.1', '11.2', '11.3', '11.4', '13.1', '13.2', '13.3', '15.1', '15.2', '15.3', '15.4', '15.5', '17.1', '17.2', '17.3', '17.4', '19.1', '19.2', '19.3', '19.4', '26.1', '26.2', '26.3', '26.4', '26.5', '26.6', '28.1', '28.2', '28.3', '28.4', '12.1', '12.2', '12.3', '12.4', '12.5', '14.1', '14.2', '14.3', '16.1', '16.2', '16.3', '18.1', '18.2', '18.3', '25.1', '25.2', '25.3', '25.4', '25.5', '27.1', '27.2', '27.3', '27.4', '27.5', '30.1', '30.2', '30.3', '30.4']\n"
     ]
    }
   ],
   "execution_count": 8
  },
  {
   "metadata": {},
   "cell_type": "code",
   "outputs": [],
   "execution_count": null,
   "source": "",
   "id": "f7ff07f8e4e63481"
  },
  {
   "metadata": {},
   "cell_type": "markdown",
   "source": "# TC adaptation for empty numbers",
   "id": "e5b21c8f85b2a7b0"
  },
  {
   "metadata": {
    "ExecuteTime": {
     "end_time": "2024-07-18T07:35:07.534480Z",
     "start_time": "2024-07-18T07:35:07.529255Z"
    }
   },
   "cell_type": "code",
   "source": [
    "dir = './data/raw/test_script'\n",
    "tc_ids = []\n",
    "\n",
    "ts_list = os.listdir(dir)\n",
    "print(ts_list)\n",
    "if '.gitkeep' in ts_list:\n",
    "    ts_list.remove('.gitkeep')\n",
    "for el in ts_list:\n",
    "    id = el.split('_')[0]\n",
    "    if id not in tc_ids:\n",
    "        tc_ids.append(id)\n",
    "tc_ids = [int(tc) for tc in tc_ids]\n",
    "print(tc_ids)"
   ],
   "id": "ef6fcc7c3bb35e81",
   "outputs": [
    {
     "name": "stdout",
     "output_type": "stream",
     "text": [
      "['0_1.spec.ts', '10_1.spec.ts', '10_2.spec.ts', '10_3.spec.ts', '10_4.spec.ts', '10_5.spec.ts', '10_6.spec.ts', '11_1.spec.ts', '11_2.spec.ts', '11_3.spec.ts', '11_4.spec.ts', '12_1.spec.ts', '12_2.spec.ts', '12_3.spec.ts', '12_4.spec.ts', '12_5.spec.ts', '13_1.spec.ts', '13_2.spec.ts', '13_3.spec.ts', '14_1.spec.ts', '14_2.spec.ts', '14_3.spec.ts', '15_1.spec.ts', '15_2.spec.ts', '15_3.spec.ts', '15_4.spec.ts', '15_5.spec.ts', '16_1.spec.ts', '16_2.spec.ts', '16_3.spec.ts', '17_1.spec.ts', '17_2.spec.ts', '17_3.spec.ts', '17_4.spec.ts', '18_1.spec.ts', '18_2.spec.ts', '18_3.spec.ts', '19_1.spec.ts', '19_2.spec.ts', '19_3.spec.ts', '19_4.spec.ts', '1_1.spec.ts', '1_2.spec.ts', '1_3.spec.ts', '1_4.spec.ts', '25_1.spec.ts', '25_2.spec.ts', '25_3.spec.ts', '25_4.spec.ts', '25_5.spec.ts', '26_1.spec.ts', '26_2.spec.ts', '26_3.spec.ts', '26_4.spec.ts', '26_5.spec.ts', '26_6.spec.ts', '27_1.spec.ts', '27_2.spec.ts', '27_3.spec.ts', '27_4.spec.ts', '27_5.spec.ts', '28_1.spec.ts', '28_2.spec.ts', '28_3.spec.ts', '28_4.spec.ts', '2_1.spec.ts', '2_2.spec.ts', '30_1.spec.ts', '30_2.spec.ts', '30_3.spec.ts', '30_4.spec.ts', '3_1.spec.ts', '3_2.spec.ts', '4_1.spec.ts', '4_2.spec.ts', '4_3.spec.ts', '4_4.spec.ts', '4_5.spec.ts', '4_6.spec.ts', '4_7.spec.ts', '5_1.spec.ts', '5_2.spec.ts', '5_3.spec.ts', '5_4.spec.ts', '5_5.spec.ts', '7_1.spec.ts', '7_2.spec.ts', '7_3.spec.ts', '7_4.spec.ts', '8_1.spec.ts', '8_2.spec.ts', '8_3.spec.ts', '8_4.spec.ts', '8_5.spec.ts', '8_6.spec.ts', '9_1.spec.ts', '9_2.spec.ts', '9_3.spec.ts', '9_4.spec.ts', '9_5.spec.ts', '9_6.spec.ts']\n",
      "[0, 1, 2, 3, 4, 5, 7, 8, 9, 10, 11, 12, 13, 14, 15, 16, 17, 18, 19, 25, 26, 27, 28, 30]\n"
     ]
    }
   ],
   "execution_count": 18
  },
  {
   "metadata": {},
   "cell_type": "markdown",
   "source": "# Adapting create finetuning data\n",
   "id": "2c6c50fb3019c0ff"
  },
  {
   "metadata": {
    "ExecuteTime": {
     "end_time": "2024-07-18T08:10:32.766125Z",
     "start_time": "2024-07-18T08:10:32.763114Z"
    }
   },
   "cell_type": "code",
   "source": [
    "from src.data.database import fetch_relevant_items, map_items_to_args\n",
    "from src.utils.helpers import get_previous_id"
   ],
   "id": "37613a99d9570834",
   "outputs": [],
   "execution_count": 37
  },
  {
   "metadata": {
    "ExecuteTime": {
     "end_time": "2024-07-18T08:08:19.922543Z",
     "start_time": "2024-07-18T08:08:19.912534Z"
    }
   },
   "cell_type": "code",
   "source": [
    "db_file = './data/raw/playwright_script.db' #'C:/Users/c-beh/Documents/KIT/Semester 3/PSDA/Ex3/data_updated/data/playwright_script.db' #\n",
    "config = load_config(\"./config/config.yaml\")"
   ],
   "id": "404c4de945f85a79",
   "outputs": [],
   "execution_count": 31
  },
  {
   "metadata": {
    "ExecuteTime": {
     "end_time": "2024-07-18T08:08:21.615429Z",
     "start_time": "2024-07-18T08:08:21.609898Z"
    }
   },
   "cell_type": "code",
   "source": [
    "# Load ids to be used for finetuning from database\n",
    "conn = sqlite3.connect(db_file)\n",
    "c = conn.cursor()\n",
    "c.execute('SELECT id FROM tests')\n",
    "items = c.fetchall()\n",
    "conn.close()\n",
    "\n",
    "ids = [i[0] for i in items][0:]"
   ],
   "id": "e878926366fd3bf1",
   "outputs": [],
   "execution_count": 32
  },
  {
   "metadata": {
    "ExecuteTime": {
     "end_time": "2024-07-18T08:08:23.014204Z",
     "start_time": "2024-07-18T08:08:23.010128Z"
    }
   },
   "cell_type": "code",
   "source": "print(ids)",
   "id": "b4e8c964b209725e",
   "outputs": [
    {
     "name": "stdout",
     "output_type": "stream",
     "text": [
      "['1.1', '1.2', '1.3', '1.4', '2.1', '2.2', '3.1', '3.2', '4.1', '4.2', '4.3', '4.4', '4.5', '4.6', '4.7', '5.1', '5.2', '5.3', '5.4', '5.5', '7.1', '7.2', '7.3', '7.4', '8.1', '8.2', '8.3', '8.4', '8.5', '8.6', '9.1', '9.2', '9.3', '9.4', '9.5', '9.6', '10.1', '10.2', '10.3', '10.4', '10.5', '10.6', '11.1', '11.2', '11.3', '11.4', '13.1', '13.2', '13.3', '15.1', '15.2', '15.3', '15.4', '15.5', '17.1', '17.2', '17.3', '17.4', '19.1', '19.2', '19.3', '19.4', '26.1', '26.2', '26.3', '26.4', '26.5', '26.6', '28.1', '28.2', '28.3', '28.4', '12.1', '12.2', '12.3', '12.4', '12.5', '14.1', '14.2', '14.3', '16.1', '16.2', '16.3', '18.1', '18.2', '18.3', '25.1', '25.2', '25.3', '25.4', '25.5', '27.1', '27.2', '27.3', '27.4', '27.5', '30.1', '30.2', '30.3', '30.4']\n"
     ]
    }
   ],
   "execution_count": 33
  },
  {
   "metadata": {},
   "cell_type": "code",
   "outputs": [],
   "execution_count": null,
   "source": [
    "def get_previous_id_local(id: str) -> str:\n",
    "    \"\"\"Get the ID of the previous step of a test case.\n",
    "\n",
    "    :param id: The ID of the current step.\n",
    "    :return: The ID of the previous step, or an empty string if invalid.\n",
    "    \"\"\"\n",
    "    try:\n",
    "        test, step = map(int, id.split('.'))\n",
    "        if step > 1:\n",
    "            return f\"{test}.{step - 1}\"\n",
    "        elif step == 1:\n",
    "            return \"0.1\"\n",
    "        else:\n",
    "            logger.warning(f\"Test {test} has no previous step. Cannot retrieve ID.\")\n",
    "            return \"\"\n",
    "    except ValueError:\n",
    "        logger.error(f\"Invalid ID format: {id}\")\n",
    "        return \"\""
   ],
   "id": "6dc15131c2ea095d"
  },
  {
   "metadata": {},
   "cell_type": "code",
   "outputs": [],
   "execution_count": null,
   "source": "finetuning_data = create_finetuning_data_from_db(ids, db_file, config)",
   "id": "15e0f34c1acaaada"
  },
  {
   "metadata": {},
   "cell_type": "markdown",
   "source": "# Add missing 0_1 step in db",
   "id": "e70ad608ece55337"
  },
  {
   "metadata": {
    "ExecuteTime": {
     "end_time": "2024-07-18T08:45:27.274923Z",
     "start_time": "2024-07-18T08:45:27.264930Z"
    }
   },
   "cell_type": "code",
   "source": [
    "db_file = './data/raw/playwright_script.db'\n",
    "config = load_config(\"./config/config.yaml\")"
   ],
   "id": "510ca8c0e68479ca",
   "outputs": [],
   "execution_count": 4
  },
  {
   "metadata": {
    "ExecuteTime": {
     "end_time": "2024-07-18T08:45:28.661480Z",
     "start_time": "2024-07-18T08:45:28.657688Z"
    }
   },
   "cell_type": "code",
   "source": [
    "conn = sqlite3.connect(db_file)\n",
    "cursor = conn.cursor()"
   ],
   "id": "6969ca26614f1590",
   "outputs": [],
   "execution_count": 5
  },
  {
   "metadata": {
    "ExecuteTime": {
     "end_time": "2024-07-18T08:37:16.429515Z",
     "start_time": "2024-07-18T08:37:16.424847Z"
    }
   },
   "cell_type": "code",
   "source": [
    "# Load ids to be used for finetuning from database\n",
    "conn = sqlite3.connect(db_file)\n",
    "c = conn.cursor()\n",
    "c.execute('SELECT id FROM tests')\n",
    "items = c.fetchall()\n",
    "\n",
    "\n",
    "#ids = [i[0] for i in items][0:] # Skip the first id since it is not possible to get the previous id"
   ],
   "id": "fd4a10ae085270b5",
   "outputs": [],
   "execution_count": 6
  },
  {
   "metadata": {
    "ExecuteTime": {
     "end_time": "2024-07-18T08:19:01.757695Z",
     "start_time": "2024-07-18T08:19:01.753084Z"
    }
   },
   "cell_type": "code",
   "source": [
    "current_id = \"1.2\"\n",
    "previous_id = get_previous_id(current_id)\n",
    "if not previous_id:\n",
    "    print([])\n",
    "\n",
    "query = 'SELECT * FROM tests WHERE id IN (?, ?)'\n",
    "cursor.execute(query, (current_id, previous_id))\n",
    "print(cursor.fetchall())"
   ],
   "id": "25a130d4be7e9509",
   "outputs": [
    {
     "name": "stdout",
     "output_type": "stream",
     "text": [
      "[('1.1', '[1.1] Öffne die Arbeitsmappe \"Übersicht Messstellen\" im Ordner \"Gewässergüte\".', '[1.1] Expected result: Die Arbeitsmappe wird geöffnet, der Analysekontext ist nicht sichtbar.', '.\\\\html\\\\1_1.html', '.\\\\screenshot\\\\1_1.png', '.\\\\test_script\\\\1_1.spec.ts'), ('1.2', '[1.1] Öffne die Arbeitsmappe \"Übersicht Messstellen\" im Ordner \"Gewässergüte\". [1.2]  Öffnen der Tabellen-Sicht \"Messstellenliste\" über die Werkzeugliste der Arbeitsmappe.', '[1.2] Expected result: Die Tabelle \"Messstelleninformationen\" wird angezeigt, der Analysekontext ist sichtbar.', '.\\\\html\\\\1_2.html', '.\\\\screenshot\\\\1_2.png', '.\\\\test_script\\\\1_2.spec.ts')]\n"
     ]
    }
   ],
   "execution_count": 49
  },
  {
   "metadata": {
    "ExecuteTime": {
     "end_time": "2024-07-18T08:21:13.061028Z",
     "start_time": "2024-07-18T08:21:13.056509Z"
    }
   },
   "cell_type": "code",
   "source": [
    "query = 'SELECT * FROM tests WHERE id = 1.1'\n",
    "cursor.execute(query)\n",
    "cursor.fetchall()"
   ],
   "id": "45071cf74e108f9e",
   "outputs": [
    {
     "data": {
      "text/plain": [
       "[('1.1',\n",
       "  '[1.1] Öffne die Arbeitsmappe \"Übersicht Messstellen\" im Ordner \"Gewässergüte\".',\n",
       "  '[1.1] Expected result: Die Arbeitsmappe wird geöffnet, der Analysekontext ist nicht sichtbar.',\n",
       "  '.\\\\html\\\\1_1.html',\n",
       "  '.\\\\screenshot\\\\1_1.png',\n",
       "  '.\\\\test_script\\\\1_1.spec.ts')]"
      ]
     },
     "execution_count": 53,
     "metadata": {},
     "output_type": "execute_result"
    }
   ],
   "execution_count": 53
  },
  {
   "metadata": {
    "ExecuteTime": {
     "end_time": "2024-07-18T08:23:06.678577Z",
     "start_time": "2024-07-18T08:23:06.673103Z"
    }
   },
   "cell_type": "code",
   "source": [
    "query = 'PRAGMA table_info(tests)'\n",
    "cursor.execute(query)\n",
    "cursor.fetchall()"
   ],
   "id": "c869f4ec69bc46b6",
   "outputs": [
    {
     "data": {
      "text/plain": [
       "[(0, 'id', 'TEXT', 0, None, 0),\n",
       " (1, 'steps', 'TEXT', 0, None, 0),\n",
       " (2, 'expectation', 'TEXT', 0, None, 0),\n",
       " (3, 'html', 'TEXT', 0, None, 0),\n",
       " (4, 'screenshot', 'TEXT', 0, None, 0),\n",
       " (5, 'test_script', 'TEXT', 0, None, 0)]"
      ]
     },
     "execution_count": 55,
     "metadata": {},
     "output_type": "execute_result"
    }
   ],
   "execution_count": 55
  },
  {
   "metadata": {
    "ExecuteTime": {
     "end_time": "2024-07-18T08:44:34.302012Z",
     "start_time": "2024-07-18T08:44:34.288805Z"
    }
   },
   "cell_type": "code",
   "source": [
    "id = \"0.1\"\n",
    "TEXT = \"\"\n",
    "exp_res = \"\"\n",
    "html_path = \".\\\\html\\\\0_1.html\"\n",
    "screenshot_path = \".\\\\screenshot\\\\0_1.png\"\n",
    "test_script_path = \".\\\\test_script\\\\0_1.spec.ts\"\n",
    "\n",
    "query = f\"INSERT INTO tests VALUES('{id}','{TEXT}','{exp_res}','{html_path}','{screenshot_path}','{test_script_path}')\"\n",
    "cursor.execute(query)\n",
    "cursor.fetchall()\n",
    "conn.commit()"
   ],
   "id": "feb36d8ed5c6821",
   "outputs": [],
   "execution_count": 12
  },
  {
   "metadata": {
    "ExecuteTime": {
     "end_time": "2024-07-18T08:45:31.344642Z",
     "start_time": "2024-07-18T08:45:31.339627Z"
    }
   },
   "cell_type": "code",
   "source": [
    "query = 'SELECT * FROM tests WHERE id = 0.1'\n",
    "cursor.execute(query)\n",
    "cursor.fetchall()"
   ],
   "id": "bcef7db2d4cf53",
   "outputs": [
    {
     "data": {
      "text/plain": [
       "[('0.1',\n",
       "  '',\n",
       "  '',\n",
       "  '.\\\\html\\\\0_1.html',\n",
       "  '.\\\\screenshot\\\\0_1.png',\n",
       "  '.\\\\test_script\\\\0_1.spec.ts')]"
      ]
     },
     "execution_count": 6,
     "metadata": {},
     "output_type": "execute_result"
    }
   ],
   "execution_count": 6
  },
  {
   "metadata": {
    "ExecuteTime": {
     "end_time": "2024-07-18T08:45:04.432139Z",
     "start_time": "2024-07-18T08:45:04.428672Z"
    }
   },
   "cell_type": "code",
   "source": [
    "DUPLICATE = False\n",
    "if DUPLICATE:\n",
    "    id = \"0.1\"\n",
    "        \n",
    "    query = f\"DELETE FROM tests WHERE id = {id} \"\n",
    "    cursor.execute(query)\n",
    "    cursor.fetchall()\n",
    "    conn.commit()"
   ],
   "id": "c4b3c724a0324cd1",
   "outputs": [],
   "execution_count": 14
  },
  {
   "metadata": {},
   "cell_type": "code",
   "outputs": [],
   "execution_count": null,
   "source": "",
   "id": "13c878d2273133b1"
  },
  {
   "metadata": {
    "ExecuteTime": {
     "end_time": "2024-07-18T08:33:00.863500Z",
     "start_time": "2024-07-18T08:33:00.859865Z"
    }
   },
   "cell_type": "code",
   "source": "conn.close()",
   "id": "d419bf0d1609b2a5",
   "outputs": [],
   "execution_count": 64
  }
 ],
 "metadata": {
  "kernelspec": {
   "display_name": "Python 3",
   "language": "python",
   "name": "python3"
  },
  "language_info": {
   "codemirror_mode": {
    "name": "ipython",
    "version": 2
   },
   "file_extension": ".py",
   "mimetype": "text/x-python",
   "name": "python",
   "nbconvert_exporter": "python",
   "pygments_lexer": "ipython2",
   "version": "2.7.6"
  }
 },
 "nbformat": 4,
 "nbformat_minor": 5
}
