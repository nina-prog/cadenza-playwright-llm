{
 "cells": [
  {
   "cell_type": "code",
   "source": [
    "%load_ext autoreload\n",
    "%autoreload 2"
   ],
   "metadata": {
    "collapsed": false,
    "ExecuteTime": {
     "end_time": "2024-06-29T13:55:22.598520Z",
     "start_time": "2024-06-29T13:55:22.520102Z"
    }
   },
   "outputs": [],
   "execution_count": 6
  },
  {
   "cell_type": "code",
   "source": [
    "import sqlite3\n",
    "\n",
    "from src.main import main_cluster_multimodal_model\n",
    "from src.llm.access_2_cluster import Access2Cluster"
   ],
   "metadata": {
    "collapsed": false,
    "ExecuteTime": {
     "end_time": "2024-06-29T13:55:31.034075Z",
     "start_time": "2024-06-29T13:55:22.709509Z"
    }
   },
   "outputs": [],
   "execution_count": 7
  },
  {
   "cell_type": "markdown",
   "source": [
    "# Approach\n",
    "\n",
    "Use a Pre-trained LLM:\n",
    "* GPT-3, GPT-3.5, or a lighter version like GPT-2 (well-suited for text generation tasks)\n",
    "* Fine-tuning or adapting for specific tasks later possible\n",
    "\n",
    "Steps:\n",
    "1. HTML Processing: Extract relevant information from the HTML file.\n",
    "    * Use BeautifulSoup or lxml in Python to parse and extract information from the HTML file.\n",
    "2. Image Processing: Extract relevant information from the image:\n",
    "    * Use image-to-text models like Tesseracts or pytesseract (OCR libraries) to extract text from the image.\n",
    "    * Use OpenCV or PIL (Pillow) in Python to process the image and extract relevant information.\n",
    "3. Summarize the image and HTML information and the prompt from the playwright test code using T5 model.\n",
    "4. Python Processing: Parse the given playwright test code for previous step as a precondition.\n",
    "5. Combine the extracted information with the prompt:\n",
    "    * Combine the extracted information from the HTML and the image with the prompt for the language model.\n",
    "6. Pass the combined input to the language model for generating the UI test code.\n",
    "\n",
    "--> Run locally via notebook or script using the main.py"
   ],
   "metadata": {
    "collapsed": false
   }
  },
  {
   "cell_type": "markdown",
   "source": [
    "# Load Data"
   ],
   "metadata": {
    "collapsed": false
   }
  },
  {
   "cell_type": "code",
   "source": [
    "# Connect to the database\n",
    "conn = sqlite3.connect('../data/raw/playwright_script.db')\n",
    "cursor = conn.cursor()\n",
    "\n",
    "res = cursor.execute(\"SELECT * FROM tests\")\n",
    "items = res.fetchall()\n",
    "\n",
    "print(\"There are {} data.\".format(len(items)))"
   ],
   "metadata": {
    "collapsed": false,
    "ExecuteTime": {
     "end_time": "2024-06-29T13:55:31.332103Z",
     "start_time": "2024-06-29T13:55:31.037007Z"
    }
   },
   "outputs": [
    {
     "name": "stdout",
     "output_type": "stream",
     "text": [
      "There are 100 data.\n"
     ]
    }
   ],
   "execution_count": 8
  },
  {
   "cell_type": "code",
   "source": [
    "# Check the first item\n",
    "items[0]"
   ],
   "metadata": {
    "collapsed": false,
    "ExecuteTime": {
     "end_time": "2024-06-29T13:55:31.649302Z",
     "start_time": "2024-06-29T13:55:31.333164Z"
    }
   },
   "outputs": [
    {
     "data": {
      "text/plain": [
       "('1.1',\n",
       " '[1.1] Öffne die Arbeitsmappe \"Übersicht Messstellen\" im Ordner \"Gewässergüte\".',\n",
       " '[1.1] Expected result: Die Arbeitsmappe wird geöffnet, der Analysekontext ist nicht sichtbar.',\n",
       " '.\\\\html\\\\1_1.html',\n",
       " '.\\\\screenshot\\\\1_1.png',\n",
       " '.\\\\test_script\\\\1_1.spec.ts')"
      ]
     },
     "execution_count": 9,
     "metadata": {},
     "output_type": "execute_result"
    }
   ],
   "execution_count": 9
  },
  {
   "cell_type": "markdown",
   "source": [
    "# Run UI Test Generation locally (smaller model GPT-2)"
   ],
   "metadata": {
    "collapsed": false
   }
  },
  {
   "cell_type": "code",
   "source": [
    "def get_previous_id(id):\n",
    "    test, step = map(int, id.split('.'))\n",
    "    if step > 1:\n",
    "        previous_id = f\"{test}.{step - 1}\"\n",
    "    else:\n",
    "        print(f\"Test {test} has no more previous step. No context available.\")\n",
    "\n",
    "    return previous_id"
   ],
   "metadata": {
    "collapsed": false,
    "ExecuteTime": {
     "end_time": "2024-06-29T13:55:31.963367Z",
     "start_time": "2024-06-29T13:55:31.651488Z"
    }
   },
   "outputs": [],
   "execution_count": 10
  },
  {
   "cell_type": "code",
   "source": [
    "def fetch_relevant_items(db_file, current_id):\n",
    "    # Connect to SQLite database\n",
    "    conn = sqlite3.connect(db_file)\n",
    "    cursor = conn.cursor()\n",
    "\n",
    "    # Get the previous ID\n",
    "    previous_id = get_previous_id(current_id)\n",
    "\n",
    "    # Prepare the SQL query to retrieve the desired rows\n",
    "    query = 'SELECT * FROM tests WHERE id IN (?, ?)'\n",
    "    cursor.execute(query, (current_id, previous_id))\n",
    "\n",
    "    # Fetch all matching rows\n",
    "    items = cursor.fetchall()\n",
    "\n",
    "    # Close the connection\n",
    "    conn.close()\n",
    "\n",
    "    return items"
   ],
   "metadata": {
    "collapsed": false,
    "ExecuteTime": {
     "end_time": "2024-06-29T13:55:32.244277Z",
     "start_time": "2024-06-29T13:55:31.965785Z"
    }
   },
   "outputs": [],
   "execution_count": 11
  },
  {
   "cell_type": "code",
   "source": [
    "def map_items_to_args(items):\n",
    "    # The file paths from the test x-1 are used as context\n",
    "    html_path = items[0][3]\n",
    "    image_path = items[0][4]\n",
    "    precondition_path = items[0][5]\n",
    "    validation_path = items[1][5]\n",
    "    # The last step of the text x is used as prompt\n",
    "    steps = items[1][1].split(']')\n",
    "    description = steps[-1].strip()\n",
    "\n",
    "    return {\"html_path\": html_path,\n",
    "            \"image_path\": image_path,\n",
    "            \"precondition_path\": precondition_path,\n",
    "            \"description\": description,\n",
    "            \"validation_path\": validation_path}"
   ],
   "metadata": {
    "collapsed": false,
    "ExecuteTime": {
     "end_time": "2024-06-29T13:55:32.542446Z",
     "start_time": "2024-06-29T13:55:32.245541Z"
    }
   },
   "outputs": [],
   "execution_count": 12
  },
  {
   "cell_type": "markdown",
   "source": [
    "Now we can run the main function with the extracted information, we will get the generated UI test code for the test with id 1.4."
   ],
   "metadata": {
    "collapsed": false
   }
  },
  {
   "cell_type": "code",
   "source": [
    "# Select test ID and database file\n",
    "db_file = '../data/raw/playwright_script.db'\n",
    "current_id = '1.2'"
   ],
   "metadata": {
    "collapsed": false,
    "ExecuteTime": {
     "end_time": "2024-06-29T13:55:32.823234Z",
     "start_time": "2024-06-29T13:55:32.544564Z"
    }
   },
   "outputs": [],
   "execution_count": 13
  },
  {
   "cell_type": "code",
   "source": [
    "items = fetch_relevant_items(db_file, current_id)\n",
    "args = map_items_to_args(items)\n",
    "\n",
    "# To traverse folders in cluster change path\n",
    "args['image_path'] = args['image_path'].replace('\\\\','/')"
   ],
   "metadata": {
    "collapsed": false,
    "ExecuteTime": {
     "end_time": "2024-06-29T13:55:33.104604Z",
     "start_time": "2024-06-29T13:55:32.824305Z"
    }
   },
   "outputs": [],
   "execution_count": 14
  },
  {
   "metadata": {},
   "cell_type": "markdown",
   "source": "Setup Access2Cluster:"
  },
  {
   "metadata": {
    "ExecuteTime": {
     "end_time": "2024-06-29T14:27:02.463450Z",
     "start_time": "2024-06-29T14:27:00.415622Z"
    }
   },
   "cell_type": "code",
   "source": [
    "access2cluster = Access2Cluster()\n",
    "await access2cluster.login()"
   ],
   "outputs": [],
   "execution_count": 54
  },
  {
   "metadata": {
    "ExecuteTime": {
     "end_time": "2024-06-29T14:28:08.947963Z",
     "start_time": "2024-06-29T14:28:01.384027Z"
    }
   },
   "cell_type": "code",
   "source": "await access2cluster.start_llm()",
   "outputs": [],
   "execution_count": 58
  },
  {
   "metadata": {
    "ExecuteTime": {
     "end_time": "2024-06-29T14:28:09.266262Z",
     "start_time": "2024-06-29T14:28:08.952139Z"
    }
   },
   "cell_type": "code",
   "source": "args['model'] = access2cluster",
   "outputs": [],
   "execution_count": 59
  },
  {
   "metadata": {
    "ExecuteTime": {
     "end_time": "2024-06-29T14:30:16.078341Z",
     "start_time": "2024-06-29T14:29:43.600882Z"
    }
   },
   "cell_type": "code",
   "source": "scores = await main_cluster_multimodal_model(**args)",
   "outputs": [
    {
     "name": "stdout",
     "output_type": "stream",
     "text": [
      "2024-06-29 16:29:43 [\u001B[34msrc.main:66\u001B[0m] [\u001B[32mINFO\u001B[0m] >>>> Loading context...\u001B[0m\n",
      "2024-06-29 16:29:43 [\u001B[34msrc.data.html_processor:142\u001B[0m] [DEBUG\u001B[0m] >>>> HTML elements extracted successfully. - Number of Elements: 12 - Number of Characters: 944\u001B[0m\n",
      "2024-06-29 16:29:43 [\u001B[34msrc.data.python_processor:15\u001B[0m] [DEBUG\u001B[0m] >>>> Python code parsed successfully. - Lines of Code: 17\u001B[0m\n",
      "2024-06-29 16:29:43 [\u001B[34msrc.main:71\u001B[0m] [\u001B[32mINFO\u001B[0m] >>>> Context loaded successfully.\u001B[0m\n",
      "2024-06-29 16:29:43 [\u001B[34msrc.main:74\u001B[0m] [\u001B[32mINFO\u001B[0m] >>>> Creating input prompt...\u001B[0m\n",
      "2024-06-29 16:29:43 [\u001B[34msrc.main:76\u001B[0m] [\u001B[32mINFO\u001B[0m] >>>> Input prompt created successfully.\u001B[0m\n",
      "2024-06-29 16:29:43 [\u001B[34msrc.main:79\u001B[0m] [\u001B[32mINFO\u001B[0m] >>>> Generating test case...\u001B[0m\n"
     ]
    },
    {
     "name": "stderr",
     "output_type": "stream",
     "text": [
      "--- Logging error ---\n",
      "Traceback (most recent call last):\n",
      "  File \"C:\\Users\\Johannes\\anaconda3\\envs\\PSDA\\lib\\logging\\__init__.py\", line 1100, in emit\n",
      "    msg = self.format(record)\n",
      "  File \"C:\\Users\\Johannes\\anaconda3\\envs\\PSDA\\lib\\logging\\__init__.py\", line 943, in format\n",
      "    return fmt.format(record)\n",
      "  File \"C:\\Users\\Johannes\\anaconda3\\envs\\PSDA\\lib\\logging\\__init__.py\", line 678, in format\n",
      "    record.message = record.getMessage()\n",
      "  File \"C:\\Users\\Johannes\\anaconda3\\envs\\PSDA\\lib\\logging\\__init__.py\", line 368, in getMessage\n",
      "    msg = msg % self.args\n",
      "TypeError: not all arguments converted during string formatting\n",
      "Call stack:\n",
      "  File \"C:\\Users\\Johannes\\anaconda3\\envs\\PSDA\\lib\\runpy.py\", line 196, in _run_module_as_main\n",
      "    return _run_code(code, main_globals, None,\n",
      "  File \"C:\\Users\\Johannes\\anaconda3\\envs\\PSDA\\lib\\runpy.py\", line 86, in _run_code\n",
      "    exec(code, run_globals)\n",
      "  File \"C:\\Users\\Johannes\\anaconda3\\envs\\PSDA\\lib\\site-packages\\ipykernel_launcher.py\", line 17, in <module>\n",
      "    app.launch_new_instance()\n",
      "  File \"C:\\Users\\Johannes\\anaconda3\\envs\\PSDA\\lib\\site-packages\\traitlets\\config\\application.py\", line 992, in launch_instance\n",
      "    app.start()\n",
      "  File \"C:\\Users\\Johannes\\anaconda3\\envs\\PSDA\\lib\\site-packages\\ipykernel\\kernelapp.py\", line 701, in start\n",
      "    self.io_loop.start()\n",
      "  File \"C:\\Users\\Johannes\\anaconda3\\envs\\PSDA\\lib\\site-packages\\tornado\\platform\\asyncio.py\", line 195, in start\n",
      "    self.asyncio_loop.run_forever()\n",
      "  File \"C:\\Users\\Johannes\\anaconda3\\envs\\PSDA\\lib\\asyncio\\windows_events.py\", line 321, in run_forever\n",
      "    super().run_forever()\n",
      "  File \"C:\\Users\\Johannes\\anaconda3\\envs\\PSDA\\lib\\asyncio\\base_events.py\", line 603, in run_forever\n",
      "    self._run_once()\n",
      "  File \"C:\\Users\\Johannes\\anaconda3\\envs\\PSDA\\lib\\asyncio\\base_events.py\", line 1909, in _run_once\n",
      "    handle._run()\n",
      "  File \"C:\\Users\\Johannes\\anaconda3\\envs\\PSDA\\lib\\asyncio\\events.py\", line 80, in _run\n",
      "    self._context.run(self._callback, *self._args)\n",
      "  File \"C:\\Users\\Johannes\\anaconda3\\envs\\PSDA\\lib\\site-packages\\IPython\\core\\interactiveshell.py\", line 3311, in run_cell_async\n",
      "    has_raised = await self.run_ast_nodes(code_ast.body, cell_name,\n",
      "  File \"C:\\Users\\Johannes\\anaconda3\\envs\\PSDA\\lib\\site-packages\\IPython\\core\\interactiveshell.py\", line 3493, in run_ast_nodes\n",
      "    if await self.run_code(code, result, async_=asy):\n",
      "  File \"C:\\Users\\Johannes\\anaconda3\\envs\\PSDA\\lib\\site-packages\\IPython\\core\\interactiveshell.py\", line 3551, in run_code\n",
      "    await eval(code_obj, self.user_global_ns, self.user_ns)\n",
      "  File \"C:\\Users\\Johannes\\AppData\\Local\\Temp\\ipykernel_14188\\3795049767.py\", line 1, in <module>\n",
      "    scores = await main_cluster_multimodal_model(**args)\n",
      "  File \"C:\\Users\\Johannes\\PycharmProjects\\cadenza-playwright-llm\\src\\main.py\", line 77, in main_cluster_multimodal_model\n",
      "    logger.debug(\"Input prompt:\\n\", combined_input)\n",
      "Message: 'Input prompt:\\n'\n",
      "Arguments: ('HTML Content:\\nButton ids:\\nnavigationTrigger, workbook-create\\nInput labels:\\nSuchen nach …\\nInput types:\\nsearch\\nInput placeholders:\\nSuchen nach …\\nLink texts:\\nZum Navigatorbaum springen, Zum Hauptbereich springen, Startseite, Karte, Verzeichnis Tutorial, Verzeichnis Gewässergüte, Verzeichnis Einzelsichten, Arbeitsmappe Übersicht Messstellen, Übersicht Messstellen, Tabelle Messstellenliste, Karte Messstellenkarte, Dashboard Häufigkeit der Messungen, Auswertungen nach Parameter, Arbeitsmappe Messstellen-Monitoring, Messstellen-Monitoring, Arbeitsmappe Elbe-Monitoring, Elbe-Monitoring, Verzeichnis Automobile, Verzeichnis Ergänzende Geodaten, Verzeichnis Zentrale Dienste, Verzeichnis Meine Arbeitsmappen, Arbeitsmappe Zugangsdaten, Zugangsdaten, disy Cadenza, Tutorials, Lernmodulen, Onlinehilfe, Webseite, Lernmodulen, 1, 2, 3, 4, 5, 6, 7, disy Cadenza v9.4.71, © Disy Informationssysteme GmbH, Über Disy\\nLink ids:\\nskip-to-navigator, skip-to-content, home\\n\\n\\nImage Content:\\n <image>\\n\\nPlaywright Test Precondition:\\nimport { test, expect } from \\'@playwright/test\\';\\nimport { writeFileSync } from \\'fs\\';\\n\\n\\ntest(\\'test\\', async ({ page }) => {\\n  await page.goto(\\'http://localhost:8080/cadenza/\\');\\n  await page.getByRole(\\'link\\', { name: \\'Anmelden\\' }).click();\\n  await page.getByLabel(\\'Benutzername *\\').click();\\n  await page.getByLabel(\\'Benutzername *\\').fill(\\'Admin\\');\\n  await page.getByLabel(\\'Benutzername *\\').press(\\'Tab\\');\\n  await page.getByPlaceholder(\\' \\').fill(\\'Admin\\');\\n  await page.getByRole(\\'button\\', { name: \\'Anmelden\\' }).click();\\n  await page.getByText(\\'Verzeichnis Gewässergüte\\', { exact: true }).click();\\n  const parentElement = await page.getByText(\\'Arbeitsmappe Übersicht Messstellen\\').locator(\\'..\\');\\n  await parentElement.locator(\\'.d-icon.d-icon-bold.status-icon\\').click(); \\n\\n});\\n\\nPerform action on the website: Öffnen der Tabellen-Sicht \"Messstellenliste\" über die Werkzeugliste der Arbeitsmappe.\\n\\nDescription:\\nI will describe a UI test in German and you will generate Playwright code. Don\\'t explain the code, just generate the code block itself. You get the HTML and a screenshot from the website. You must continue the code.\\n\\nAssistant: ',)\n"
     ]
    },
    {
     "name": "stdout",
     "output_type": "stream",
     "text": [
      "2024-06-29 16:30:16 [\u001B[34msrc.ui_tests.test_generation:64\u001B[0m] [DEBUG\u001B[0m] >>>> Generated code saved to './pred_test_script/1_2.pred.py'\u001B[0m\n",
      "2024-06-29 16:30:16 [\u001B[34msrc.data.python_processor:15\u001B[0m] [DEBUG\u001B[0m] >>>> Python code parsed successfully. - Lines of Code: 16\u001B[0m\n",
      "2024-06-29 16:30:16 [\u001B[34msrc.main:88\u001B[0m] [\u001B[32mINFO\u001B[0m] >>>> Test case generated for 1_2.\u001B[0m\n",
      "2024-06-29 16:30:16 [\u001B[34msrc.data.python_processor:15\u001B[0m] [DEBUG\u001B[0m] >>>> Python code parsed successfully. - Lines of Code: 16\u001B[0m\n"
     ]
    },
    {
     "name": "stderr",
     "output_type": "stream",
     "text": [
      "--- Logging error ---\n",
      "Traceback (most recent call last):\n",
      "  File \"C:\\Users\\Johannes\\anaconda3\\envs\\PSDA\\lib\\logging\\__init__.py\", line 1100, in emit\n",
      "    msg = self.format(record)\n",
      "  File \"C:\\Users\\Johannes\\anaconda3\\envs\\PSDA\\lib\\logging\\__init__.py\", line 943, in format\n",
      "    return fmt.format(record)\n",
      "  File \"C:\\Users\\Johannes\\anaconda3\\envs\\PSDA\\lib\\logging\\__init__.py\", line 678, in format\n",
      "    record.message = record.getMessage()\n",
      "  File \"C:\\Users\\Johannes\\anaconda3\\envs\\PSDA\\lib\\logging\\__init__.py\", line 368, in getMessage\n",
      "    msg = msg % self.args\n",
      "TypeError: not all arguments converted during string formatting\n",
      "Call stack:\n",
      "  File \"C:\\Users\\Johannes\\anaconda3\\envs\\PSDA\\lib\\runpy.py\", line 196, in _run_module_as_main\n",
      "    return _run_code(code, main_globals, None,\n",
      "  File \"C:\\Users\\Johannes\\anaconda3\\envs\\PSDA\\lib\\runpy.py\", line 86, in _run_code\n",
      "    exec(code, run_globals)\n",
      "  File \"C:\\Users\\Johannes\\anaconda3\\envs\\PSDA\\lib\\site-packages\\ipykernel_launcher.py\", line 17, in <module>\n",
      "    app.launch_new_instance()\n",
      "  File \"C:\\Users\\Johannes\\anaconda3\\envs\\PSDA\\lib\\site-packages\\traitlets\\config\\application.py\", line 992, in launch_instance\n",
      "    app.start()\n",
      "  File \"C:\\Users\\Johannes\\anaconda3\\envs\\PSDA\\lib\\site-packages\\ipykernel\\kernelapp.py\", line 701, in start\n",
      "    self.io_loop.start()\n",
      "  File \"C:\\Users\\Johannes\\anaconda3\\envs\\PSDA\\lib\\site-packages\\tornado\\platform\\asyncio.py\", line 195, in start\n",
      "    self.asyncio_loop.run_forever()\n",
      "  File \"C:\\Users\\Johannes\\anaconda3\\envs\\PSDA\\lib\\asyncio\\windows_events.py\", line 321, in run_forever\n",
      "    super().run_forever()\n",
      "  File \"C:\\Users\\Johannes\\anaconda3\\envs\\PSDA\\lib\\asyncio\\base_events.py\", line 603, in run_forever\n",
      "    self._run_once()\n",
      "  File \"C:\\Users\\Johannes\\anaconda3\\envs\\PSDA\\lib\\asyncio\\base_events.py\", line 1909, in _run_once\n",
      "    handle._run()\n",
      "  File \"C:\\Users\\Johannes\\anaconda3\\envs\\PSDA\\lib\\asyncio\\events.py\", line 80, in _run\n",
      "    self._context.run(self._callback, *self._args)\n",
      "  File \"C:\\Users\\Johannes\\anaconda3\\envs\\PSDA\\lib\\site-packages\\IPython\\core\\interactiveshell.py\", line 3311, in run_cell_async\n",
      "    has_raised = await self.run_ast_nodes(code_ast.body, cell_name,\n",
      "  File \"C:\\Users\\Johannes\\anaconda3\\envs\\PSDA\\lib\\site-packages\\IPython\\core\\interactiveshell.py\", line 3493, in run_ast_nodes\n",
      "    if await self.run_code(code, result, async_=asy):\n",
      "  File \"C:\\Users\\Johannes\\anaconda3\\envs\\PSDA\\lib\\site-packages\\IPython\\core\\interactiveshell.py\", line 3551, in run_code\n",
      "    await eval(code_obj, self.user_global_ns, self.user_ns)\n",
      "  File \"C:\\Users\\Johannes\\AppData\\Local\\Temp\\ipykernel_14188\\3795049767.py\", line 1, in <module>\n",
      "    scores = await main_cluster_multimodal_model(**args)\n",
      "  File \"C:\\Users\\Johannes\\PycharmProjects\\cadenza-playwright-llm\\src\\main.py\", line 89, in main_cluster_multimodal_model\n",
      "    logger.debug(\"Test case:\\n\", generated_code)\n",
      "Message: 'Test case:\\n'\n",
      "Arguments: ('import { test, expect } from \\'@playwright/test\\';\\nimport { writeFileSync } from \\'fs\\';\\n\\ntest(\\'test\\', async ({ page }) => {\\n  await page.goto(\\'http://localhost:8080/cadenza/\\');\\n  await page.getByRole(\\'link\\', { name: \\'Anmelden\\' }).click();\\n  await page.getByLabel(\\'Benutzername *\\').click();\\n  await page.getByLabel(\\'Benutzername *\\').fill(\\'Admin\\');\\n  await page.getByLabel(\\'Benutzername *\\').press(\\'Tab\\');\\n  await page.getByPlaceholder(\\' \\').fill(\\'Admin\\');\\n  await page.getByRole(\\'button\\', { name: \\'Anmelden\\' }).click();\\n  await page.getByText(\\'Verzeichnis Gewässergüte\\', { exact: true }).click();\\n  const parentElement = await page.getByText(\\'Arbeitsmappe Übersicht Messstellen\\').locator(\\'..\\');\\n  await parentElement.locator(\\'.d-icon.d-icon-bold.status-icon\\').click();\\n  await page.getByText(\\'Tabellen-Sicht \"Messstellenliste\"\\').click();\\n});\\n',)\n"
     ]
    }
   ],
   "execution_count": 63
  },
  {
   "metadata": {
    "ExecuteTime": {
     "end_time": "2024-06-29T14:30:20.647895Z",
     "start_time": "2024-06-29T14:30:20.346813Z"
    }
   },
   "cell_type": "code",
   "source": "scores",
   "outputs": [
    {
     "data": {
      "text/plain": [
       "{'bleu': 0.7214177257714296}"
      ]
     },
     "execution_count": 64,
     "metadata": {},
     "output_type": "execute_result"
    }
   ],
   "execution_count": 64
  },
  {
   "cell_type": "markdown",
   "source": [
    "# More Developing: Using modular source code\n",
    "Possible to update function content in the following files, but no RENAMING or DELETING or changing function signature!:\n",
    "* src/main.py: Main function for UI test generation.\n",
    "    * Change constant Max length (max length of the input text for the model)\n",
    "* src/ui_tests/test_generation.py: Generate the UI test code using the language model.\n",
    "    * Expand model selection: Just add new case statements for different models with its code.\n",
    "* src/data/html_processing.py: Extract relevant information from the HTML file.\n",
    "* src/data/image_processing.py: Extract relevant information from the image.\n",
    "* src/data/python_processing.py: Parse the given playwright test code for previous step as a precondition.\n"
   ],
   "metadata": {
    "collapsed": false
   }
  },
  {
   "metadata": {},
   "cell_type": "code",
   "outputs": [],
   "execution_count": null,
   "source": ""
  }
 ],
 "metadata": {
  "kernelspec": {
   "display_name": "Python 3",
   "language": "python",
   "name": "python3"
  },
  "language_info": {
   "codemirror_mode": {
    "name": "ipython",
    "version": 2
   },
   "file_extension": ".py",
   "mimetype": "text/x-python",
   "name": "python",
   "nbconvert_exporter": "python",
   "pygments_lexer": "ipython2",
   "version": "2.7.6"
  }
 },
 "nbformat": 4,
 "nbformat_minor": 0
}
