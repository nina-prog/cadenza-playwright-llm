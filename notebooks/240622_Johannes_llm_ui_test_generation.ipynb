{
 "cells": [
  {
   "cell_type": "code",
   "source": [
    "%load_ext autoreload\n",
    "%autoreload 2"
   ],
   "metadata": {
    "collapsed": false,
    "ExecuteTime": {
     "end_time": "2024-06-22T12:56:44.178975Z",
     "start_time": "2024-06-22T12:56:43.753351Z"
    }
   },
   "outputs": [
    {
     "name": "stdout",
     "output_type": "stream",
     "text": [
      "The autoreload extension is already loaded. To reload it, use:\n",
      "  %reload_ext autoreload\n"
     ]
    }
   ],
   "execution_count": 43
  },
  {
   "cell_type": "code",
   "source": [
    "import sqlite3\n",
    "\n",
    "from src.main import main_cluster_multimodal_model\n",
    "from src.llm.access_2_cluster import Access2Cluster"
   ],
   "metadata": {
    "collapsed": false,
    "ExecuteTime": {
     "end_time": "2024-06-22T12:56:44.369182Z",
     "start_time": "2024-06-22T12:56:44.180981Z"
    }
   },
   "outputs": [],
   "execution_count": 44
  },
  {
   "cell_type": "markdown",
   "source": [
    "# Approach\n",
    "\n",
    "Use a Pre-trained LLM:\n",
    "* GPT-3, GPT-3.5, or a lighter version like GPT-2 (well-suited for text generation tasks)\n",
    "* Fine-tuning or adapting for specific tasks later possible\n",
    "\n",
    "Steps:\n",
    "1. HTML Processing: Extract relevant information from the HTML file.\n",
    "    * Use BeautifulSoup or lxml in Python to parse and extract information from the HTML file.\n",
    "2. Image Processing: Extract relevant information from the image:\n",
    "    * Use image-to-text models like Tesseracts or pytesseract (OCR libraries) to extract text from the image.\n",
    "    * Use OpenCV or PIL (Pillow) in Python to process the image and extract relevant information.\n",
    "3. Summarize the image and HTML information and the prompt from the playwright test code using T5 model.\n",
    "4. Python Processing: Parse the given playwright test code for previous step as a precondition.\n",
    "5. Combine the extracted information with the prompt:\n",
    "    * Combine the extracted information from the HTML and the image with the prompt for the language model.\n",
    "6. Pass the combined input to the language model for generating the UI test code.\n",
    "\n",
    "--> Run locally via notebook or script using the main.py"
   ],
   "metadata": {
    "collapsed": false
   }
  },
  {
   "cell_type": "markdown",
   "source": [
    "# Load Data"
   ],
   "metadata": {
    "collapsed": false
   }
  },
  {
   "cell_type": "code",
   "source": [
    "# Connect to the database\n",
    "conn = sqlite3.connect('../data/raw/playwright_script.db')\n",
    "cursor = conn.cursor()\n",
    "\n",
    "res = cursor.execute(\"SELECT * FROM tests\")\n",
    "items = res.fetchall()\n",
    "\n",
    "print(\"There are {} data.\".format(len(items)))"
   ],
   "metadata": {
    "collapsed": false,
    "ExecuteTime": {
     "end_time": "2024-06-22T12:56:45.338701Z",
     "start_time": "2024-06-22T12:56:45.141899Z"
    }
   },
   "outputs": [
    {
     "name": "stdout",
     "output_type": "stream",
     "text": [
      "There are 100 data.\n"
     ]
    }
   ],
   "execution_count": 45
  },
  {
   "cell_type": "code",
   "source": [
    "# Check the first item\n",
    "items[0]"
   ],
   "metadata": {
    "collapsed": false,
    "ExecuteTime": {
     "end_time": "2024-06-22T09:24:46.886378Z",
     "start_time": "2024-06-22T09:24:46.644475Z"
    }
   },
   "outputs": [
    {
     "data": {
      "text/plain": [
       "('1.1',\n",
       " '[1.1] Öffne die Arbeitsmappe \"Übersicht Messstellen\" im Ordner \"Gewässergüte\".',\n",
       " '[1.1] Expected result: Die Arbeitsmappe wird geöffnet, der Analysekontext ist nicht sichtbar.',\n",
       " '.\\\\html\\\\1_1.html',\n",
       " '.\\\\screenshot\\\\1_1.png',\n",
       " '.\\\\test_script\\\\1_1.spec.ts')"
      ]
     },
     "execution_count": 4,
     "metadata": {},
     "output_type": "execute_result"
    }
   ],
   "execution_count": 4
  },
  {
   "cell_type": "markdown",
   "source": [
    "# Run UI Test Generation locally (smaller model GPT-2)"
   ],
   "metadata": {
    "collapsed": false
   }
  },
  {
   "cell_type": "code",
   "source": [
    "def get_previous_id(id):\n",
    "    test, step = map(int, id.split('.'))\n",
    "    if step > 1:\n",
    "        previous_id = f\"{test}.{step - 1}\"\n",
    "    else:\n",
    "        print(f\"Test {test} has no more previous step. No context available.\")\n",
    "\n",
    "    return previous_id"
   ],
   "metadata": {
    "collapsed": false,
    "ExecuteTime": {
     "end_time": "2024-06-22T09:24:47.102697Z",
     "start_time": "2024-06-22T09:24:46.889352Z"
    }
   },
   "outputs": [],
   "execution_count": 5
  },
  {
   "cell_type": "code",
   "source": [
    "def fetch_relevant_items(db_file, current_id):\n",
    "    # Connect to SQLite database\n",
    "    conn = sqlite3.connect(db_file)\n",
    "    cursor = conn.cursor()\n",
    "\n",
    "    # Get the previous ID\n",
    "    previous_id = get_previous_id(current_id)\n",
    "\n",
    "    # Prepare the SQL query to retrieve the desired rows\n",
    "    query = 'SELECT * FROM tests WHERE id IN (?, ?)'\n",
    "    cursor.execute(query, (current_id, previous_id))\n",
    "\n",
    "    # Fetch all matching rows\n",
    "    items = cursor.fetchall()\n",
    "\n",
    "    # Close the connection\n",
    "    conn.close()\n",
    "\n",
    "    return items"
   ],
   "metadata": {
    "collapsed": false,
    "ExecuteTime": {
     "end_time": "2024-06-22T09:24:47.329474Z",
     "start_time": "2024-06-22T09:24:47.104933Z"
    }
   },
   "outputs": [],
   "execution_count": 6
  },
  {
   "cell_type": "code",
   "source": [
    "def map_items_to_args(items):\n",
    "    # The file paths from the test x-1 are used as context\n",
    "    html_path = items[0][3]\n",
    "    image_path = items[0][4]\n",
    "    precondition_path = items[0][5]\n",
    "    # The last step of the text x is used as prompt\n",
    "    steps = items[1][1].split(']')\n",
    "    prompt = steps[-1].strip()\n",
    "\n",
    "    return {\"html_path\": html_path,\n",
    "            \"image_path\": image_path,\n",
    "            \"precondition_path\": precondition_path,\n",
    "            \"prompt\": prompt}"
   ],
   "metadata": {
    "collapsed": false,
    "ExecuteTime": {
     "end_time": "2024-06-22T09:24:47.570591Z",
     "start_time": "2024-06-22T09:24:47.331605Z"
    }
   },
   "outputs": [],
   "execution_count": 7
  },
  {
   "cell_type": "markdown",
   "source": [
    "Now we can run the main function with the extracted information, we will get the generated UI test code for the test with id 1.4."
   ],
   "metadata": {
    "collapsed": false
   }
  },
  {
   "cell_type": "code",
   "source": [
    "# Select test ID and database file\n",
    "db_file = '../data/raw/playwright_script.db'\n",
    "current_id = '1.4'"
   ],
   "metadata": {
    "collapsed": false,
    "ExecuteTime": {
     "end_time": "2024-06-22T09:24:47.799471Z",
     "start_time": "2024-06-22T09:24:47.572729Z"
    }
   },
   "outputs": [],
   "execution_count": 8
  },
  {
   "cell_type": "code",
   "source": [
    "items = fetch_relevant_items(db_file, current_id)\n",
    "args = map_items_to_args(items)\n",
    "\n",
    "# To traverse folders in cluster change path\n",
    "args['image_path'] = args['image_path'].replace('\\\\','/')"
   ],
   "metadata": {
    "collapsed": false,
    "ExecuteTime": {
     "end_time": "2024-06-22T13:36:08.842381Z",
     "start_time": "2024-06-22T13:36:08.611464Z"
    }
   },
   "outputs": [],
   "execution_count": 75
  },
  {
   "metadata": {},
   "cell_type": "markdown",
   "source": "Setup Access2Cluster:"
  },
  {
   "metadata": {
    "ExecuteTime": {
     "end_time": "2024-06-22T13:44:56.447581Z",
     "start_time": "2024-06-22T13:44:53.675110Z"
    }
   },
   "cell_type": "code",
   "source": [
    "access2cluster = Access2Cluster()\n",
    "await access2cluster.login()"
   ],
   "outputs": [],
   "execution_count": 84
  },
  {
   "metadata": {
    "ExecuteTime": {
     "end_time": "2024-06-22T13:46:00.476335Z",
     "start_time": "2024-06-22T13:45:55.744005Z"
    }
   },
   "cell_type": "code",
   "source": [
    "await access2cluster.start_llm()\n",
    "args['model'] = access2cluster"
   ],
   "outputs": [],
   "execution_count": 88
  },
  {
   "metadata": {
    "ExecuteTime": {
     "end_time": "2024-06-22T13:46:11.217139Z",
     "start_time": "2024-06-22T13:46:11.015232Z"
    }
   },
   "cell_type": "code",
   "source": [
    "args['model'] = access2cluster\n",
    "description = \"I will describe a UI test in German and you will generate Playwright code. Don't explain the code, just generate the code block itself. You get the HTML and a screenshot from the website. You must continue the code.\"\n",
    "args['description'] = description"
   ],
   "outputs": [],
   "execution_count": 89
  },
  {
   "metadata": {
    "ExecuteTime": {
     "end_time": "2024-06-22T13:46:48.697348Z",
     "start_time": "2024-06-22T13:46:37.231404Z"
    }
   },
   "cell_type": "code",
   "source": "await main_cluster_multimodal_model(**args)",
   "outputs": [
    {
     "name": "stdout",
     "output_type": "stream",
     "text": [
      "2024-06-22 15:46:37 [\u001B[34msrc.main:60\u001B[0m] [\u001B[32mINFO\u001B[0m] >>>> Loading context...\u001B[0m\n",
      "2024-06-22 15:46:37 [\u001B[34msrc.data.html_processor:27\u001B[0m] [DEBUG\u001B[0m] >>>> HTML content parsed successfully. - Lines of Code: 41\u001B[0m\n",
      "2024-06-22 15:46:37 [\u001B[34msrc.data.python_processor:15\u001B[0m] [DEBUG\u001B[0m] >>>> Python code parsed successfully. - Lines of Code: 17)\u001B[0m\n",
      "2024-06-22 15:46:37 [\u001B[34msrc.main:67\u001B[0m] [\u001B[32mINFO\u001B[0m] >>>> Context loaded successfully.\u001B[0m\n",
      "2024-06-22 15:46:37 [\u001B[34msrc.main:69\u001B[0m] [\u001B[32mINFO\u001B[0m] >>>> Generating test case...\u001B[0m\n",
      "2024-06-22 15:46:48 [\u001B[34msrc.ui_tests.test_generation:54\u001B[0m] [DEBUG\u001B[0m] >>>> Generated code saved to './pred_test_script/1_4.pred.py'\u001B[0m\n",
      "2024-06-22 15:46:48 [\u001B[34msrc.main:80\u001B[0m] [\u001B[32mINFO\u001B[0m] >>>> Test case generated for 1_4.\u001B[0m\n"
     ]
    }
   ],
   "execution_count": 90
  },
  {
   "cell_type": "markdown",
   "source": [
    "# More Developing: Using modular source code\n",
    "Possible to update function content in the following files, but no RENAMING or DELETING or changing function signature!:\n",
    "* src/main.py: Main function for UI test generation.\n",
    "    * Change constant Max length (max length of the input text for the model)\n",
    "* src/ui_tests/test_generation.py: Generate the UI test code using the language model.\n",
    "    * Expand model selection: Just add new case statements for different models with its code.\n",
    "* src/data/html_processing.py: Extract relevant information from the HTML file.\n",
    "* src/data/image_processing.py: Extract relevant information from the image.\n",
    "* src/data/python_processing.py: Parse the given playwright test code for previous step as a precondition.\n"
   ],
   "metadata": {
    "collapsed": false
   }
  },
  {
   "metadata": {},
   "cell_type": "code",
   "outputs": [],
   "execution_count": null,
   "source": ""
  }
 ],
 "metadata": {
  "kernelspec": {
   "display_name": "Python 3",
   "language": "python",
   "name": "python3"
  },
  "language_info": {
   "codemirror_mode": {
    "name": "ipython",
    "version": 2
   },
   "file_extension": ".py",
   "mimetype": "text/x-python",
   "name": "python",
   "nbconvert_exporter": "python",
   "pygments_lexer": "ipython2",
   "version": "2.7.6"
  }
 },
 "nbformat": 4,
 "nbformat_minor": 0
}
